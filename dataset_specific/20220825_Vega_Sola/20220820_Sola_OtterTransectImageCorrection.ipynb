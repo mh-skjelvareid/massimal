{
 "cells": [
  {
   "cell_type": "code",
   "execution_count": 3,
   "id": "287fc716",
   "metadata": {},
   "outputs": [],
   "source": [
    "import batch_process\n",
    "import pathlib"
   ]
  },
  {
   "cell_type": "code",
   "execution_count": 2,
   "id": "ae9b4b41",
   "metadata": {},
   "outputs": [],
   "source": [
    "input_dirs = ['/media/mha114/Massimal/Vega_Sola/Transects/Otter/Sola_01/20220820_134500_Sola01b/Images',\n",
    "              '/media/mha114/Massimal/Vega_Sola/Transects/Otter/Sola_02/20220820_160305_Sola02/Images',\n",
    "              '/media/mha114/Massimal/Vega_Sola/Transects/Otter/Sola_03/20220821_103936_Sola03a/Images',\n",
    "              '/media/mha114/Massimal/Vega_Sola/Transects/Otter/Sola_03/20220821_103936_Sola03b/Images']\n",
    "output_dirs = ['/media/mha114/Massimal/Vega_Sola/Transects/Otter/Sola_01/20220820_134500_Sola01b/ImagesAdjusted',\n",
    "               '/media/mha114/Massimal/Vega_Sola/Transects/Otter/Sola_02/20220820_160305_Sola02/ImagesAdjusted',\n",
    "               '/media/mha114/Massimal/Vega_Sola/Transects/Otter/Sola_03/20220821_103936_Sola03a/ImagesAdjusted',\n",
    "               '/media/mha114/Massimal/Vega_Sola/Transects/Otter/Sola_03/20220821_103936_Sola03b/ImagesAdjusted']"
   ]
  },
  {
   "cell_type": "code",
   "execution_count": 7,
   "id": "b97bbb63",
   "metadata": {},
   "outputs": [
    {
     "name": "stdout",
     "output_type": "stream",
     "text": [
      "/media/mha114/Massimal/Vega_Sola/Transects/Otter/Sola_01/20220820_134500_Sola01b/Images exists: True\n",
      "/media/mha114/Massimal/Vega_Sola/Transects/Otter/Sola_02/20220820_160305_Sola02/Images exists: True\n",
      "/media/mha114/Massimal/Vega_Sola/Transects/Otter/Sola_03/20220821_103936_Sola03a/Images exists: True\n",
      "/media/mha114/Massimal/Vega_Sola/Transects/Otter/Sola_03/20220821_103936_Sola03b/Images exists: True\n",
      " \n",
      "/media/mha114/Massimal/Vega_Sola/Transects/Otter/Sola_01/20220820_134500_Sola01b/ImagesAdjusted exists: True\n",
      "/media/mha114/Massimal/Vega_Sola/Transects/Otter/Sola_02/20220820_160305_Sola02/ImagesAdjusted exists: True\n",
      "/media/mha114/Massimal/Vega_Sola/Transects/Otter/Sola_03/20220821_103936_Sola03a/ImagesAdjusted exists: True\n",
      "/media/mha114/Massimal/Vega_Sola/Transects/Otter/Sola_03/20220821_103936_Sola03b/ImagesAdjusted exists: True\n"
     ]
    }
   ],
   "source": [
    "# Check that all diretories exist (no typos etc.)\n",
    "for input_dir in input_dirs:\n",
    "    print(f'{input_dir} exists: {pathlib.Path(input_dir).exists()}')\n",
    "print(' ')\n",
    "for output_dir in output_dirs:\n",
    "    print(f'{output_dir} exists: {pathlib.Path(output_dir).exists()}')"
   ]
  },
  {
   "cell_type": "code",
   "execution_count": 8,
   "id": "e075e969",
   "metadata": {},
   "outputs": [
    {
     "name": "stdout",
     "output_type": "stream",
     "text": [
      "Processing 1410 images in /media/mha114/Massimal/Vega_Sola/Transects/Otter/Sola_01/20220820_134500_Sola01b/Images:\n"
     ]
    },
    {
     "name": "stderr",
     "output_type": "stream",
     "text": [
      "100%|███████████████████████████████████████| 1410/1410 [58:29<00:00,  2.49s/it]\n"
     ]
    },
    {
     "name": "stdout",
     "output_type": "stream",
     "text": [
      "Processing 3027 images in /media/mha114/Massimal/Vega_Sola/Transects/Otter/Sola_02/20220820_160305_Sola02/Images:\n"
     ]
    },
    {
     "name": "stderr",
     "output_type": "stream",
     "text": [
      "100%|█████████████████████████████████████| 3027/3027 [1:52:12<00:00,  2.22s/it]\n"
     ]
    },
    {
     "name": "stdout",
     "output_type": "stream",
     "text": [
      "Processing 2754 images in /media/mha114/Massimal/Vega_Sola/Transects/Otter/Sola_03/20220821_103936_Sola03a/Images:\n"
     ]
    },
    {
     "name": "stderr",
     "output_type": "stream",
     "text": [
      "100%|█████████████████████████████████████| 2754/2754 [1:41:57<00:00,  2.22s/it]\n"
     ]
    },
    {
     "name": "stdout",
     "output_type": "stream",
     "text": [
      "Processing 2131 images in /media/mha114/Massimal/Vega_Sola/Transects/Otter/Sola_03/20220821_103936_Sola03b/Images:\n"
     ]
    },
    {
     "name": "stderr",
     "output_type": "stream",
     "text": [
      "100%|█████████████████████████████████████| 2131/2131 [1:17:40<00:00,  2.19s/it]\n"
     ]
    }
   ],
   "source": [
    "batch_process.underwater_image_correction(input_dirs,output_dirs)"
   ]
  },
  {
   "cell_type": "code",
   "execution_count": null,
   "id": "663174c9",
   "metadata": {},
   "outputs": [],
   "source": []
  }
 ],
 "metadata": {
  "kernelspec": {
   "display_name": "Python 3 (ipykernel)",
   "language": "python",
   "name": "python3"
  },
  "language_info": {
   "codemirror_mode": {
    "name": "ipython",
    "version": 3
   },
   "file_extension": ".py",
   "mimetype": "text/x-python",
   "name": "python",
   "nbconvert_exporter": "python",
   "pygments_lexer": "ipython3",
   "version": "3.9.12"
  }
 },
 "nbformat": 4,
 "nbformat_minor": 5
}
