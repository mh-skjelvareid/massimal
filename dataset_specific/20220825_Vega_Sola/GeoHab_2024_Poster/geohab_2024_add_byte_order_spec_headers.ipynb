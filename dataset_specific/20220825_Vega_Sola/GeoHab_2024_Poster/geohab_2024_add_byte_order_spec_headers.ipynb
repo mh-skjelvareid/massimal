{
 "cells": [
  {
   "cell_type": "code",
   "execution_count": 1,
   "metadata": {},
   "outputs": [],
   "source": [
    "from pathlib import Path\n",
    "from massimal.misc import append_line_to_text_file"
   ]
  },
  {
   "cell_type": "code",
   "execution_count": 2,
   "metadata": {},
   "outputs": [],
   "source": [
    "# Paths\n",
    "# spec_dir = Path('M:\\\\PosterGeoHab2024\\\\vega_sola\\\\hyperspec\\\\spectra_byteorder_ok')\n",
    "# header_files = sorted([file for file in spec_dir.rglob('*.hdr')])\n",
    "image_dir = Path(r\"M:\\PosterGeoHab2024\\vega_sola\\hyperspec\\extract_spectra_images\\hyperspec_downsamp_sgf\")\n",
    "header_files = sorted(image_dir.glob('*.hdr'))\n"
   ]
  },
  {
   "cell_type": "code",
   "execution_count": 3,
   "metadata": {},
   "outputs": [],
   "source": [
    "# Append missing byte order line to all spectra\n",
    "for file in header_files:\n",
    "    append_line_to_text_file(file,'byte order = 0')"
   ]
  },
  {
   "cell_type": "code",
   "execution_count": null,
   "metadata": {},
   "outputs": [],
   "source": []
  }
 ],
 "metadata": {
  "kernelspec": {
   "display_name": "massimal",
   "language": "python",
   "name": "python3"
  },
  "language_info": {
   "codemirror_mode": {
    "name": "ipython",
    "version": 3
   },
   "file_extension": ".py",
   "mimetype": "text/x-python",
   "name": "python",
   "nbconvert_exporter": "python",
   "pygments_lexer": "ipython3",
   "version": "3.11.7"
  }
 },
 "nbformat": 4,
 "nbformat_minor": 2
}
