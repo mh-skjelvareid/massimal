{
 "cells": [
  {
   "cell_type": "code",
   "execution_count": 1,
   "id": "54400060-b531-4186-980f-5f9066d0d2ad",
   "metadata": {},
   "outputs": [],
   "source": [
    "# Disable TensorFlow debugging info and warnings\n",
    "import os\n",
    "os.environ['TF_CPP_MIN_LOG_LEVEL'] = '2'  # 2: Info and warnings not displayed "
   ]
  },
  {
   "cell_type": "code",
   "execution_count": 2,
   "id": "707f4da2-66ab-4861-8250-cf2fae3357e9",
   "metadata": {},
   "outputs": [],
   "source": [
    "import tensorflow as tf\n",
    "import numpy as np\n",
    "import matplotlib.pyplot as plt\n",
    "from pathlib import Path\n",
    "import pickle\n",
    "from massimal import hyspec_cnn\n",
    "from datetime import datetime"
   ]
  },
  {
   "cell_type": "code",
   "execution_count": 3,
   "id": "4e6db48c-94ab-4304-92f3-6a3f5ce4ebdd",
   "metadata": {},
   "outputs": [
    {
     "name": "stdout",
     "output_type": "stream",
     "text": [
      "2024-04-30-13h16m33s\n"
     ]
    }
   ],
   "source": [
    "# Create timestamp\n",
    "timestamp = datetime.now().strftime('%Y-%m-%d-%Hh%Mm%Ss')\n",
    "print(timestamp)"
   ]
  },
  {
   "cell_type": "code",
   "execution_count": 4,
   "id": "bfa8722f-4140-4120-af57-55cfee79bafe",
   "metadata": {},
   "outputs": [],
   "source": [
    "# Paths\n",
    "train_dataset_path = Path('/home/mha114/data/massimal/vega_sola/hyperspec/datasets/pca_images/pca_images_log_rrs_v1/train_val_tiles/vega_sola_log_rrs_pca5_tiles/')\n",
    "test_dataset_path = Path('/home/mha114/data/massimal/vega_sola/hyperspec/datasets/pca_images/pca_images_log_rrs_v1/test_tiles/vega_sola_log_rrs_pca5_tiles')\n",
    "unet_model_save_dir = Path(f'/home/mha114/data/massimal/vega_sola/hyperspec/models/geohab_unet_log_rrs_v1/{timestamp}')\n",
    "unet_model_save_dir.mkdir(exist_ok=True)\n"
   ]
  },
  {
   "cell_type": "code",
   "execution_count": 5,
   "id": "10631bac-d104-4ddc-96eb-29a5f2ef4d37",
   "metadata": {},
   "outputs": [
    {
     "data": {
      "text/plain": [
       "[PhysicalDevice(name='/physical_device:CPU:0', device_type='CPU'),\n",
       " PhysicalDevice(name='/physical_device:GPU:0', device_type='GPU')]"
      ]
     },
     "execution_count": 5,
     "metadata": {},
     "output_type": "execute_result"
    }
   ],
   "source": [
    "# Check if GPU is used\n",
    "tf.config.get_visible_devices()"
   ]
  },
  {
   "cell_type": "code",
   "execution_count": 6,
   "id": "349b792a-c085-4b57-b513-390186d7b57e",
   "metadata": {},
   "outputs": [],
   "source": [
    "# Parameters\n",
    "OUTPUT_CHANNELS = 9 # Background + 8 grouped classes \n",
    "BATCH_SIZE = 32\n",
    "DEPTH = 3\n",
    "MAX_EPOCHS = 100\n",
    "INITIAL_LEARNING_RATE = 0.0001#0.0001\n",
    "LEARNING_RATE_FRAC_ON_PLATEAU = 0.2\n",
    "LEARNING_RATE_REDUCTION_PATIENCE = 6\n",
    "EARLY_STOPPING_PATIENCE = 12\n",
    "FIRST_LAYER_CHANNELS = 32"
   ]
  },
  {
   "cell_type": "code",
   "execution_count": 7,
   "id": "509a29ef-ae9d-4ca3-a4d3-d7136502cd42",
   "metadata": {},
   "outputs": [
    {
     "name": "stdout",
     "output_type": "stream",
     "text": [
      "Number of training tiles: 4526\n",
      "Number of validation tiles: 2502\n"
     ]
    }
   ],
   "source": [
    "# Load dataset \n",
    "train_dataset = tf.data.experimental.load(str(train_dataset_path))\n",
    "test_dataset = tf.data.experimental.load(str(test_dataset_path))\n",
    "\n",
    "print(f'Number of training tiles: {train_dataset.cardinality()}')\n",
    "print(f'Number of validation tiles: {test_dataset.cardinality()}')\n",
    "\n",
    "tile_nrows,tile_ncols,tile_nchannels = train_dataset.element_spec[0].shape.as_list()"
   ]
  },
  {
   "cell_type": "code",
   "execution_count": 8,
   "id": "a6e71153-733b-451d-97bc-d0c815804f72",
   "metadata": {},
   "outputs": [
    {
     "data": {
      "text/plain": [
       "<ShuffleDataset element_spec=(TensorSpec(shape=(128, 128, 5), dtype=tf.float32, name=None), TensorSpec(shape=(128, 128), dtype=tf.uint8, name=None), TensorSpec(shape=(), dtype=tf.string, name=None))>"
      ]
     },
     "execution_count": 8,
     "metadata": {},
     "output_type": "execute_result"
    }
   ],
   "source": [
    "# Shuffle training dataset\n",
    "n_train_tiles = train_dataset.cardinality()\n",
    "train_dataset.shuffle(n_train_tiles)"
   ]
  },
  {
   "cell_type": "code",
   "execution_count": 9,
   "id": "12ae8026-7079-4a37-96d4-78631f99fcd1",
   "metadata": {},
   "outputs": [],
   "source": [
    "# From https://www.tensorflow.org/tutorials/images/segmentation#optional_imbalanced_classes_and_class_weights\n",
    "def add_sample_weights(image, label, name):\n",
    "    class_weights = tf.constant([0.0, 1.0, 1.0, 1.0, 1.0, 1.0, 1.0, 1.0, 1.0]) # Hard-coded for 8 classes\n",
    "    # class_weights = tf.constant([0.0, 0.89, 1.24, 0.82, 0.65, 1.08, 1.54, 0.77]) # Hard-coded for 7 classes\n",
    "    class_weights = class_weights/tf.reduce_sum(class_weights)\n",
    "\n",
    "    # Create an image of `sample_weights` by using the label at each pixel as an \n",
    "    # index into the `class weights` .\n",
    "    sample_weights = tf.gather(class_weights, indices=tf.cast(label, tf.int32))\n",
    "\n",
    "    return image, label, sample_weights"
   ]
  },
  {
   "cell_type": "code",
   "execution_count": 10,
   "id": "95be0b6a-7ba6-47ee-9552-d4ca6287c2e4",
   "metadata": {},
   "outputs": [],
   "source": [
    "# Add sample weights\n",
    "train_dataset = train_dataset.map(add_sample_weights)\n",
    "test_dataset = test_dataset.map(add_sample_weights)"
   ]
  },
  {
   "cell_type": "code",
   "execution_count": 11,
   "id": "b573a4dc-1d19-4017-ba4c-4ea15ca55885",
   "metadata": {},
   "outputs": [
    {
     "name": "stdout",
     "output_type": "stream",
     "text": [
      "Model: \"model\"\n",
      "__________________________________________________________________________________________________\n",
      " Layer (type)                   Output Shape         Param #     Connected to                     \n",
      "==================================================================================================\n",
      " input_image (InputLayer)       [(None, None, None,  0           []                               \n",
      "                                 5)]                                                              \n",
      "                                                                                                  \n",
      " augmentation (Sequential)      (None, None, None,   0           ['input_image[0][0]']            \n",
      "                                5)                                                                \n",
      "                                                                                                  \n",
      " initial_convolution (Conv2D)   (None, None, None,   1472        ['augmentation[0][0]']           \n",
      "                                32)                                                               \n",
      "                                                                                                  \n",
      " downsamp_res_1/2 (Sequential)  (None, None, None,   33024       ['initial_convolution[0][0]']    \n",
      "                                64)                                                               \n",
      "                                                                                                  \n",
      " downsamp_res_1/4 (Sequential)  (None, None, None,   131584      ['downsamp_res_1/2[0][0]']       \n",
      "                                128)                                                              \n",
      "                                                                                                  \n",
      " downsamp_res_1/8 (Sequential)  (None, None, None,   525312      ['downsamp_res_1/4[0][0]']       \n",
      "                                256)                                                              \n",
      "                                                                                                  \n",
      " upsamp_res_1/4 (Sequential)    (None, None, None,   524800      ['downsamp_res_1/8[0][0]']       \n",
      "                                128)                                                              \n",
      "                                                                                                  \n",
      " skipconnection_res_1/4 (Concat  (None, None, None,   0          ['upsamp_res_1/4[0][0]',         \n",
      " enate)                         256)                              'downsamp_res_1/4[0][0]']       \n",
      "                                                                                                  \n",
      " upsamp_res_1/2 (Sequential)    (None, None, None,   524800      ['skipconnection_res_1/4[0][0]'] \n",
      "                                128)                                                              \n",
      "                                                                                                  \n",
      " skipconnection_res_1/2 (Concat  (None, None, None,   0          ['upsamp_res_1/2[0][0]',         \n",
      " enate)                         192)                              'downsamp_res_1/2[0][0]']       \n",
      "                                                                                                  \n",
      " upsamp_res_1/1 (Sequential)    (None, None, None,   196864      ['skipconnection_res_1/2[0][0]'] \n",
      "                                64)                                                               \n",
      "                                                                                                  \n",
      " skipconnection_res_1/1 (Concat  (None, None, None,   0          ['upsamp_res_1/1[0][0]',         \n",
      " enate)                         96)                               'initial_convolution[0][0]']    \n",
      "                                                                                                  \n",
      " classification (Conv2D)        (None, None, None,   7785        ['skipconnection_res_1/1[0][0]'] \n",
      "                                9)                                                                \n",
      "                                                                                                  \n",
      "==================================================================================================\n",
      "Total params: 1,945,641\n",
      "Trainable params: 1,944,105\n",
      "Non-trainable params: 1,536\n",
      "__________________________________________________________________________________________________\n"
     ]
    }
   ],
   "source": [
    "# Create the U-Net model\n",
    "unet = hyspec_cnn.unet(input_channels=tile_nchannels,\n",
    "                       output_channels=OUTPUT_CHANNELS,\n",
    "                       first_layer_channels=FIRST_LAYER_CHANNELS,\n",
    "                       depth = DEPTH,\n",
    "               )\n",
    "unet.summary()"
   ]
  },
  {
   "cell_type": "code",
   "execution_count": 12,
   "id": "b136b247-2954-4b21-90a4-49856336cb1d",
   "metadata": {},
   "outputs": [
    {
     "name": "stdout",
     "output_type": "stream",
     "text": [
      "----\n",
      "input_image\n",
      "----\n",
      "augmentation\n",
      "\trandom_flip\n",
      "----\n",
      "initial_convolution\n",
      "----\n",
      "downsamp_res_1/2\n",
      "\tconv2d\n",
      "\tbatch_normalization\n",
      "\tleaky_re_lu\n",
      "----\n",
      "downsamp_res_1/4\n",
      "\tconv2d_1\n",
      "\tbatch_normalization_1\n",
      "\tleaky_re_lu_1\n",
      "----\n",
      "downsamp_res_1/8\n",
      "\tconv2d_2\n",
      "\tbatch_normalization_2\n",
      "\tleaky_re_lu_2\n",
      "----\n",
      "upsamp_res_1/4\n",
      "\tconv2d_transpose\n",
      "\tbatch_normalization_3\n",
      "\tre_lu\n",
      "----\n",
      "skipconnection_res_1/4\n",
      "----\n",
      "upsamp_res_1/2\n",
      "\tconv2d_transpose_1\n",
      "\tbatch_normalization_4\n",
      "\tre_lu_1\n",
      "----\n",
      "skipconnection_res_1/2\n",
      "----\n",
      "upsamp_res_1/1\n",
      "\tconv2d_transpose_2\n",
      "\tbatch_normalization_5\n",
      "\tre_lu_2\n",
      "----\n",
      "skipconnection_res_1/1\n",
      "----\n",
      "classification\n"
     ]
    }
   ],
   "source": [
    "# Print layers with sublayers\n",
    "for layer in unet.layers:\n",
    "    print('----')\n",
    "    print(layer.name)\n",
    "    if hasattr(layer,'layers'):\n",
    "        for l in layer.layers:\n",
    "            print('\\t'+l.name)\n",
    "       # print(layer.layers)"
   ]
  },
  {
   "cell_type": "code",
   "execution_count": 13,
   "id": "a06831cc-98f2-40dc-8b7e-dc6ec65743e4",
   "metadata": {},
   "outputs": [],
   "source": [
    "# Define callbacks\n",
    "model_save_filename = str(unet_model_save_dir) + '/unet_model.depth' + str(DEPTH) +'.epoch{epoch:02d}-loss{val_loss:.6f}-acc{val_sparse_categorical_accuracy:.3f}.hdf5'\n",
    "callbacks =[tf.keras.callbacks.ModelCheckpoint(filepath = model_save_filename,\n",
    "                                               save_best_only=True,\n",
    "                                               verbose = 1),\n",
    "            tf.keras.callbacks.ReduceLROnPlateau(factor=LEARNING_RATE_FRAC_ON_PLATEAU,\n",
    "                                                 patience=LEARNING_RATE_REDUCTION_PATIENCE,\n",
    "                                                 verbose=1),\n",
    "            tf.keras.callbacks.EarlyStopping(patience=EARLY_STOPPING_PATIENCE,\n",
    "                                             min_delta = 0.001)]"
   ]
  },
  {
   "cell_type": "code",
   "execution_count": 14,
   "id": "1b323f17-feb2-427b-be30-453a21c7ae96",
   "metadata": {},
   "outputs": [
    {
     "data": {
      "text/plain": [
       "'/home/mha114/data/massimal/vega_sola/hyperspec/models/geohab_unet_log_rrs_v1/2024-04-30-13h16m33s/unet_model.depth3.epoch{epoch:02d}-loss{val_loss:.6f}-acc{val_sparse_categorical_accuracy:.3f}.hdf5'"
      ]
     },
     "execution_count": 14,
     "metadata": {},
     "output_type": "execute_result"
    }
   ],
   "source": [
    "model_save_filename"
   ]
  },
  {
   "cell_type": "code",
   "execution_count": 15,
   "id": "633b5bbe-2968-444e-ba3a-8440968ff124",
   "metadata": {},
   "outputs": [],
   "source": [
    "# Compile model\n",
    "unet.compile(optimizer=tf.keras.optimizers.RMSprop(INITIAL_LEARNING_RATE), \n",
    "             loss=\"sparse_categorical_crossentropy\",\n",
    "             weighted_metrics=['sparse_categorical_accuracy'], # Need weights to ignore background\n",
    "             metrics = []) # Sparse because classes are numbered, not one-hot"
   ]
  },
  {
   "cell_type": "code",
   "execution_count": 16,
   "id": "f956a49a-1262-4a23-8e7d-1e468e265298",
   "metadata": {},
   "outputs": [
    {
     "name": "stdout",
     "output_type": "stream",
     "text": [
      "Epoch 1/100\n",
      "142/142 [==============================] - ETA: 0s - loss: 0.1146 - sparse_categorical_accuracy: 0.4404\n",
      "Epoch 1: val_loss improved from inf to 0.11026, saving model to /home/mha114/data/massimal/vega_sola/hyperspec/models/geohab_unet_log_rrs_v1/2024-04-30-13h16m33s/unet_model.depth3.epoch01-loss0.110255-acc0.464.hdf5\n",
      "142/142 [==============================] - 13s 71ms/step - loss: 0.1146 - sparse_categorical_accuracy: 0.4404 - val_loss: 0.1103 - val_sparse_categorical_accuracy: 0.4637 - lr: 1.0000e-04\n",
      "Epoch 2/100\n",
      "141/142 [============================>.] - ETA: 0s - loss: 0.0984 - sparse_categorical_accuracy: 0.5143\n",
      "Epoch 2: val_loss improved from 0.11026 to 0.08666, saving model to /home/mha114/data/massimal/vega_sola/hyperspec/models/geohab_unet_log_rrs_v1/2024-04-30-13h16m33s/unet_model.depth3.epoch02-loss0.086659-acc0.505.hdf5\n",
      "142/142 [==============================] - 10s 67ms/step - loss: 0.0984 - sparse_categorical_accuracy: 0.5138 - val_loss: 0.0867 - val_sparse_categorical_accuracy: 0.5054 - lr: 1.0000e-04\n",
      "Epoch 3/100\n",
      "141/142 [============================>.] - ETA: 0s - loss: 0.0926 - sparse_categorical_accuracy: 0.5459\n",
      "Epoch 3: val_loss improved from 0.08666 to 0.08165, saving model to /home/mha114/data/massimal/vega_sola/hyperspec/models/geohab_unet_log_rrs_v1/2024-04-30-13h16m33s/unet_model.depth3.epoch03-loss0.081646-acc0.515.hdf5\n",
      "142/142 [==============================] - 10s 67ms/step - loss: 0.0925 - sparse_categorical_accuracy: 0.5454 - val_loss: 0.0816 - val_sparse_categorical_accuracy: 0.5146 - lr: 1.0000e-04\n",
      "Epoch 4/100\n",
      "141/142 [============================>.] - ETA: 0s - loss: 0.0874 - sparse_categorical_accuracy: 0.5777\n",
      "Epoch 4: val_loss improved from 0.08165 to 0.08089, saving model to /home/mha114/data/massimal/vega_sola/hyperspec/models/geohab_unet_log_rrs_v1/2024-04-30-13h16m33s/unet_model.depth3.epoch04-loss0.080891-acc0.515.hdf5\n",
      "142/142 [==============================] - 10s 67ms/step - loss: 0.0873 - sparse_categorical_accuracy: 0.5772 - val_loss: 0.0809 - val_sparse_categorical_accuracy: 0.5149 - lr: 1.0000e-04\n",
      "Epoch 5/100\n",
      "141/142 [============================>.] - ETA: 0s - loss: 0.0844 - sparse_categorical_accuracy: 0.5989\n",
      "Epoch 5: val_loss improved from 0.08089 to 0.08023, saving model to /home/mha114/data/massimal/vega_sola/hyperspec/models/geohab_unet_log_rrs_v1/2024-04-30-13h16m33s/unet_model.depth3.epoch05-loss0.080228-acc0.530.hdf5\n",
      "142/142 [==============================] - 10s 67ms/step - loss: 0.0843 - sparse_categorical_accuracy: 0.5984 - val_loss: 0.0802 - val_sparse_categorical_accuracy: 0.5305 - lr: 1.0000e-04\n",
      "Epoch 6/100\n",
      "141/142 [============================>.] - ETA: 0s - loss: 0.0814 - sparse_categorical_accuracy: 0.6153\n",
      "Epoch 6: val_loss improved from 0.08023 to 0.07706, saving model to /home/mha114/data/massimal/vega_sola/hyperspec/models/geohab_unet_log_rrs_v1/2024-04-30-13h16m33s/unet_model.depth3.epoch06-loss0.077061-acc0.567.hdf5\n",
      "142/142 [==============================] - 10s 67ms/step - loss: 0.0813 - sparse_categorical_accuracy: 0.6148 - val_loss: 0.0771 - val_sparse_categorical_accuracy: 0.5667 - lr: 1.0000e-04\n",
      "Epoch 7/100\n",
      "141/142 [============================>.] - ETA: 0s - loss: 0.0780 - sparse_categorical_accuracy: 0.6406\n",
      "Epoch 7: val_loss did not improve from 0.07706\n",
      "142/142 [==============================] - 9s 67ms/step - loss: 0.0779 - sparse_categorical_accuracy: 0.6401 - val_loss: 0.0771 - val_sparse_categorical_accuracy: 0.5724 - lr: 1.0000e-04\n",
      "Epoch 8/100\n",
      "141/142 [============================>.] - ETA: 0s - loss: 0.0765 - sparse_categorical_accuracy: 0.6481\n",
      "Epoch 8: val_loss did not improve from 0.07706\n",
      "142/142 [==============================] - 9s 67ms/step - loss: 0.0765 - sparse_categorical_accuracy: 0.6476 - val_loss: 0.0785 - val_sparse_categorical_accuracy: 0.5653 - lr: 1.0000e-04\n",
      "Epoch 9/100\n",
      "141/142 [============================>.] - ETA: 0s - loss: 0.0737 - sparse_categorical_accuracy: 0.6632\n",
      "Epoch 9: val_loss did not improve from 0.07706\n",
      "142/142 [==============================] - 9s 67ms/step - loss: 0.0737 - sparse_categorical_accuracy: 0.6627 - val_loss: 0.0771 - val_sparse_categorical_accuracy: 0.5795 - lr: 1.0000e-04\n",
      "Epoch 10/100\n",
      "141/142 [============================>.] - ETA: 0s - loss: 0.0718 - sparse_categorical_accuracy: 0.6725\n",
      "Epoch 10: val_loss did not improve from 0.07706\n",
      "142/142 [==============================] - 9s 67ms/step - loss: 0.0718 - sparse_categorical_accuracy: 0.6721 - val_loss: 0.0778 - val_sparse_categorical_accuracy: 0.5781 - lr: 1.0000e-04\n",
      "Epoch 11/100\n",
      "141/142 [============================>.] - ETA: 0s - loss: 0.0699 - sparse_categorical_accuracy: 0.6838\n",
      "Epoch 11: val_loss did not improve from 0.07706\n",
      "142/142 [==============================] - 9s 67ms/step - loss: 0.0699 - sparse_categorical_accuracy: 0.6835 - val_loss: 0.0771 - val_sparse_categorical_accuracy: 0.5845 - lr: 1.0000e-04\n",
      "Epoch 12/100\n",
      "141/142 [============================>.] - ETA: 0s - loss: 0.0671 - sparse_categorical_accuracy: 0.7007\n",
      "Epoch 12: val_loss did not improve from 0.07706\n",
      "\n",
      "Epoch 12: ReduceLROnPlateau reducing learning rate to 1.9999999494757503e-05.\n",
      "142/142 [==============================] - 9s 67ms/step - loss: 0.0671 - sparse_categorical_accuracy: 0.7002 - val_loss: 0.0794 - val_sparse_categorical_accuracy: 0.5818 - lr: 1.0000e-04\n",
      "Epoch 13/100\n",
      "141/142 [============================>.] - ETA: 0s - loss: 0.0706 - sparse_categorical_accuracy: 0.6740\n",
      "Epoch 13: val_loss improved from 0.07706 to 0.07280, saving model to /home/mha114/data/massimal/vega_sola/hyperspec/models/geohab_unet_log_rrs_v1/2024-04-30-13h16m33s/unet_model.depth3.epoch13-loss0.072797-acc0.616.hdf5\n",
      "142/142 [==============================] - 10s 67ms/step - loss: 0.0706 - sparse_categorical_accuracy: 0.6735 - val_loss: 0.0728 - val_sparse_categorical_accuracy: 0.6165 - lr: 2.0000e-05\n",
      "Epoch 14/100\n",
      "141/142 [============================>.] - ETA: 0s - loss: 0.0667 - sparse_categorical_accuracy: 0.6990\n",
      "Epoch 14: val_loss improved from 0.07280 to 0.07185, saving model to /home/mha114/data/massimal/vega_sola/hyperspec/models/geohab_unet_log_rrs_v1/2024-04-30-13h16m33s/unet_model.depth3.epoch14-loss0.071850-acc0.620.hdf5\n",
      "142/142 [==============================] - 9s 67ms/step - loss: 0.0667 - sparse_categorical_accuracy: 0.6985 - val_loss: 0.0718 - val_sparse_categorical_accuracy: 0.6203 - lr: 2.0000e-05\n",
      "Epoch 15/100\n",
      "141/142 [============================>.] - ETA: 0s - loss: 0.0654 - sparse_categorical_accuracy: 0.7082\n",
      "Epoch 15: val_loss did not improve from 0.07185\n",
      "142/142 [==============================] - 9s 67ms/step - loss: 0.0654 - sparse_categorical_accuracy: 0.7077 - val_loss: 0.0724 - val_sparse_categorical_accuracy: 0.6041 - lr: 2.0000e-05\n",
      "Epoch 16/100\n",
      "141/142 [============================>.] - ETA: 0s - loss: 0.0637 - sparse_categorical_accuracy: 0.7176\n",
      "Epoch 16: val_loss did not improve from 0.07185\n",
      "142/142 [==============================] - 9s 67ms/step - loss: 0.0637 - sparse_categorical_accuracy: 0.7170 - val_loss: 0.0726 - val_sparse_categorical_accuracy: 0.6044 - lr: 2.0000e-05\n",
      "Epoch 17/100\n",
      "141/142 [============================>.] - ETA: 0s - loss: 0.0631 - sparse_categorical_accuracy: 0.7197\n",
      "Epoch 17: val_loss did not improve from 0.07185\n",
      "142/142 [==============================] - 9s 67ms/step - loss: 0.0631 - sparse_categorical_accuracy: 0.7192 - val_loss: 0.0730 - val_sparse_categorical_accuracy: 0.5909 - lr: 2.0000e-05\n",
      "Epoch 18/100\n",
      "141/142 [============================>.] - ETA: 0s - loss: 0.0618 - sparse_categorical_accuracy: 0.7278\n",
      "Epoch 18: val_loss improved from 0.07185 to 0.07166, saving model to /home/mha114/data/massimal/vega_sola/hyperspec/models/geohab_unet_log_rrs_v1/2024-04-30-13h16m33s/unet_model.depth3.epoch18-loss0.071661-acc0.601.hdf5\n",
      "142/142 [==============================] - 9s 67ms/step - loss: 0.0618 - sparse_categorical_accuracy: 0.7272 - val_loss: 0.0717 - val_sparse_categorical_accuracy: 0.6013 - lr: 2.0000e-05\n",
      "Epoch 19/100\n",
      "141/142 [============================>.] - ETA: 0s - loss: 0.0610 - sparse_categorical_accuracy: 0.7311\n",
      "Epoch 19: val_loss did not improve from 0.07166\n",
      "142/142 [==============================] - 9s 67ms/step - loss: 0.0610 - sparse_categorical_accuracy: 0.7306 - val_loss: 0.0725 - val_sparse_categorical_accuracy: 0.5924 - lr: 2.0000e-05\n",
      "Epoch 20/100\n",
      "141/142 [============================>.] - ETA: 0s - loss: 0.0610 - sparse_categorical_accuracy: 0.7351\n",
      "Epoch 20: val_loss did not improve from 0.07166\n",
      "142/142 [==============================] - 9s 67ms/step - loss: 0.0610 - sparse_categorical_accuracy: 0.7344 - val_loss: 0.0729 - val_sparse_categorical_accuracy: 0.5880 - lr: 2.0000e-05\n",
      "Epoch 21/100\n",
      "141/142 [============================>.] - ETA: 0s - loss: 0.0595 - sparse_categorical_accuracy: 0.7422\n",
      "Epoch 21: val_loss improved from 0.07166 to 0.07088, saving model to /home/mha114/data/massimal/vega_sola/hyperspec/models/geohab_unet_log_rrs_v1/2024-04-30-13h16m33s/unet_model.depth3.epoch21-loss0.070884-acc0.601.hdf5\n",
      "142/142 [==============================] - 10s 67ms/step - loss: 0.0595 - sparse_categorical_accuracy: 0.7417 - val_loss: 0.0709 - val_sparse_categorical_accuracy: 0.6008 - lr: 2.0000e-05\n",
      "Epoch 22/100\n",
      "141/142 [============================>.] - ETA: 0s - loss: 0.0593 - sparse_categorical_accuracy: 0.7434\n",
      "Epoch 22: val_loss did not improve from 0.07088\n",
      "142/142 [==============================] - 9s 67ms/step - loss: 0.0593 - sparse_categorical_accuracy: 0.7428 - val_loss: 0.0719 - val_sparse_categorical_accuracy: 0.5997 - lr: 2.0000e-05\n",
      "Epoch 23/100\n",
      "141/142 [============================>.] - ETA: 0s - loss: 0.0588 - sparse_categorical_accuracy: 0.7465\n",
      "Epoch 23: val_loss did not improve from 0.07088\n",
      "142/142 [==============================] - 9s 67ms/step - loss: 0.0588 - sparse_categorical_accuracy: 0.7460 - val_loss: 0.0715 - val_sparse_categorical_accuracy: 0.6062 - lr: 2.0000e-05\n",
      "Epoch 24/100\n",
      "141/142 [============================>.] - ETA: 0s - loss: 0.0575 - sparse_categorical_accuracy: 0.7542\n",
      "Epoch 24: val_loss did not improve from 0.07088\n",
      "142/142 [==============================] - 9s 67ms/step - loss: 0.0575 - sparse_categorical_accuracy: 0.7536 - val_loss: 0.0730 - val_sparse_categorical_accuracy: 0.5981 - lr: 2.0000e-05\n",
      "Epoch 25/100\n",
      "141/142 [============================>.] - ETA: 0s - loss: 0.0568 - sparse_categorical_accuracy: 0.7583\n",
      "Epoch 25: val_loss did not improve from 0.07088\n",
      "142/142 [==============================] - 9s 67ms/step - loss: 0.0568 - sparse_categorical_accuracy: 0.7577 - val_loss: 0.0717 - val_sparse_categorical_accuracy: 0.6075 - lr: 2.0000e-05\n",
      "Epoch 26/100\n",
      "141/142 [============================>.] - ETA: 0s - loss: 0.0566 - sparse_categorical_accuracy: 0.7591\n",
      "Epoch 26: val_loss did not improve from 0.07088\n",
      "142/142 [==============================] - 9s 67ms/step - loss: 0.0566 - sparse_categorical_accuracy: 0.7586 - val_loss: 0.0719 - val_sparse_categorical_accuracy: 0.6076 - lr: 2.0000e-05\n",
      "Epoch 27/100\n",
      "141/142 [============================>.] - ETA: 0s - loss: 0.0556 - sparse_categorical_accuracy: 0.7652\n",
      "Epoch 27: val_loss did not improve from 0.07088\n",
      "\n",
      "Epoch 27: ReduceLROnPlateau reducing learning rate to 3.999999898951501e-06.\n",
      "142/142 [==============================] - 9s 67ms/step - loss: 0.0556 - sparse_categorical_accuracy: 0.7648 - val_loss: 0.0722 - val_sparse_categorical_accuracy: 0.6003 - lr: 2.0000e-05\n",
      "Epoch 28/100\n",
      "141/142 [============================>.] - ETA: 0s - loss: 0.0570 - sparse_categorical_accuracy: 0.7553\n",
      "Epoch 28: val_loss improved from 0.07088 to 0.06906, saving model to /home/mha114/data/massimal/vega_sola/hyperspec/models/geohab_unet_log_rrs_v1/2024-04-30-13h16m33s/unet_model.depth3.epoch28-loss0.069064-acc0.646.hdf5\n",
      "142/142 [==============================] - 10s 67ms/step - loss: 0.0570 - sparse_categorical_accuracy: 0.7547 - val_loss: 0.0691 - val_sparse_categorical_accuracy: 0.6464 - lr: 4.0000e-06\n",
      "Epoch 29/100\n",
      "141/142 [============================>.] - ETA: 0s - loss: 0.0554 - sparse_categorical_accuracy: 0.7630\n",
      "Epoch 29: val_loss did not improve from 0.06906\n",
      "142/142 [==============================] - 9s 67ms/step - loss: 0.0554 - sparse_categorical_accuracy: 0.7625 - val_loss: 0.0691 - val_sparse_categorical_accuracy: 0.6487 - lr: 4.0000e-06\n",
      "Epoch 30/100\n",
      "141/142 [============================>.] - ETA: 0s - loss: 0.0546 - sparse_categorical_accuracy: 0.7676\n",
      "Epoch 30: val_loss improved from 0.06906 to 0.06897, saving model to /home/mha114/data/massimal/vega_sola/hyperspec/models/geohab_unet_log_rrs_v1/2024-04-30-13h16m33s/unet_model.depth3.epoch30-loss0.068968-acc0.650.hdf5\n",
      "142/142 [==============================] - 10s 67ms/step - loss: 0.0546 - sparse_categorical_accuracy: 0.7670 - val_loss: 0.0690 - val_sparse_categorical_accuracy: 0.6501 - lr: 4.0000e-06\n",
      "Epoch 31/100\n",
      "141/142 [============================>.] - ETA: 0s - loss: 0.0549 - sparse_categorical_accuracy: 0.7658\n",
      "Epoch 31: val_loss did not improve from 0.06897\n",
      "142/142 [==============================] - 9s 66ms/step - loss: 0.0549 - sparse_categorical_accuracy: 0.7653 - val_loss: 0.0694 - val_sparse_categorical_accuracy: 0.6461 - lr: 4.0000e-06\n",
      "Epoch 32/100\n",
      "141/142 [============================>.] - ETA: 0s - loss: 0.0541 - sparse_categorical_accuracy: 0.7699\n",
      "Epoch 32: val_loss did not improve from 0.06897\n",
      "142/142 [==============================] - 9s 66ms/step - loss: 0.0541 - sparse_categorical_accuracy: 0.7693 - val_loss: 0.0692 - val_sparse_categorical_accuracy: 0.6483 - lr: 4.0000e-06\n",
      "Epoch 33/100\n",
      "141/142 [============================>.] - ETA: 0s - loss: 0.0542 - sparse_categorical_accuracy: 0.7697\n",
      "Epoch 33: val_loss did not improve from 0.06897\n",
      "142/142 [==============================] - 9s 67ms/step - loss: 0.0541 - sparse_categorical_accuracy: 0.7692 - val_loss: 0.0696 - val_sparse_categorical_accuracy: 0.6491 - lr: 4.0000e-06\n",
      "Epoch 34/100\n",
      "141/142 [============================>.] - ETA: 0s - loss: 0.0542 - sparse_categorical_accuracy: 0.7691\n",
      "Epoch 34: val_loss did not improve from 0.06897\n",
      "\n",
      "Epoch 34: ReduceLROnPlateau reducing learning rate to 7.999999979801942e-07.\n",
      "142/142 [==============================] - 9s 67ms/step - loss: 0.0542 - sparse_categorical_accuracy: 0.7686 - val_loss: 0.0692 - val_sparse_categorical_accuracy: 0.6485 - lr: 4.0000e-06\n",
      "Epoch 35/100\n",
      "141/142 [============================>.] - ETA: 0s - loss: 0.0537 - sparse_categorical_accuracy: 0.7711\n",
      "Epoch 35: val_loss did not improve from 0.06897\n",
      "142/142 [==============================] - 9s 67ms/step - loss: 0.0538 - sparse_categorical_accuracy: 0.7705 - val_loss: 0.0691 - val_sparse_categorical_accuracy: 0.6527 - lr: 8.0000e-07\n",
      "Epoch 36/100\n",
      "141/142 [============================>.] - ETA: 0s - loss: 0.0536 - sparse_categorical_accuracy: 0.7725\n",
      "Epoch 36: val_loss did not improve from 0.06897\n",
      "142/142 [==============================] - 9s 67ms/step - loss: 0.0536 - sparse_categorical_accuracy: 0.7718 - val_loss: 0.0693 - val_sparse_categorical_accuracy: 0.6540 - lr: 8.0000e-07\n",
      "Epoch 37/100\n",
      "141/142 [============================>.] - ETA: 0s - loss: 0.0540 - sparse_categorical_accuracy: 0.7721\n",
      "Epoch 37: val_loss did not improve from 0.06897\n",
      "142/142 [==============================] - 9s 66ms/step - loss: 0.0540 - sparse_categorical_accuracy: 0.7715 - val_loss: 0.0695 - val_sparse_categorical_accuracy: 0.6545 - lr: 8.0000e-07\n",
      "Epoch 38/100\n",
      "141/142 [============================>.] - ETA: 0s - loss: 0.0539 - sparse_categorical_accuracy: 0.7714\n",
      "Epoch 38: val_loss did not improve from 0.06897\n",
      "142/142 [==============================] - 9s 66ms/step - loss: 0.0539 - sparse_categorical_accuracy: 0.7710 - val_loss: 0.0696 - val_sparse_categorical_accuracy: 0.6552 - lr: 8.0000e-07\n",
      "Epoch 39/100\n",
      "141/142 [============================>.] - ETA: 0s - loss: 0.0540 - sparse_categorical_accuracy: 0.7712\n",
      "Epoch 39: val_loss did not improve from 0.06897\n",
      "142/142 [==============================] - 9s 66ms/step - loss: 0.0540 - sparse_categorical_accuracy: 0.7706 - val_loss: 0.0696 - val_sparse_categorical_accuracy: 0.6558 - lr: 8.0000e-07\n",
      "Epoch 40/100\n",
      "141/142 [============================>.] - ETA: 0s - loss: 0.0535 - sparse_categorical_accuracy: 0.7745\n",
      "Epoch 40: val_loss did not improve from 0.06897\n",
      "\n",
      "Epoch 40: ReduceLROnPlateau reducing learning rate to 1.600000018697756e-07.\n",
      "142/142 [==============================] - 9s 67ms/step - loss: 0.0535 - sparse_categorical_accuracy: 0.7739 - val_loss: 0.0696 - val_sparse_categorical_accuracy: 0.6547 - lr: 8.0000e-07\n"
     ]
    }
   ],
   "source": [
    "# Fit model to dataset\n",
    "history = unet.fit(train_dataset.batch(BATCH_SIZE),\n",
    "                   epochs=MAX_EPOCHS,\n",
    "                   validation_data=test_dataset.batch(BATCH_SIZE),\n",
    "                   callbacks=callbacks)\n",
    "# history = unet.fit(train_dataset.batch(BATCH_SIZE),\n",
    "#                    epochs=MAX_EPOCHS)"
   ]
  },
  {
   "cell_type": "code",
   "execution_count": 21,
   "id": "b0e87c65-9d14-45fe-b807-87037c89f1d9",
   "metadata": {},
   "outputs": [
    {
     "data": {
      "image/png": "[encoded data removed]",
      "text/plain": [
       "<Figure size 1200x600 with 2 Axes>"
      ]
     },
     "metadata": {},
     "output_type": "display_data"
    }
   ],
   "source": [
    "# Plot training history\n",
    "fig,ax = plt.subplots(ncols=2,figsize=(12,6))\n",
    "ax[0].plot(history.history['loss'],label='loss')\n",
    "ax[0].plot(history.history['val_loss'],label='val_loss')\n",
    "\n",
    "ax[1].plot(history.history['sparse_categorical_accuracy'],label='acc')\n",
    "ax[1].plot(history.history['val_sparse_categorical_accuracy'],label='val_acc')\n",
    "\n",
    "for curr_ax in ax:\n",
    "    ax[0].set_xlabel('Epoch')\n",
    "    curr_ax.set_title(f'Depth={DEPTH}, initial LR={INITIAL_LEARNING_RATE}, batch size={BATCH_SIZE}')\n",
    "    ax[1].legend()\n",
    "\n",
    "plt.savefig(unet_model_save_dir / 'unet_training_history.png')\n",
    "plt.show()"
   ]
  },
  {
   "cell_type": "code",
   "execution_count": null,
   "id": "de0d4f88-79bb-49f6-b367-511dbeecaea7",
   "metadata": {},
   "outputs": [],
   "source": []
  }
 ],
 "metadata": {
  "kernelspec": {
   "display_name": "Python (massimal)",
   "language": "python",
   "name": "massimal"
  },
  "language_info": {
   "codemirror_mode": {
    "name": "ipython",
    "version": 3
   },
   "file_extension": ".py",
   "mimetype": "text/x-python",
   "name": "python",
   "nbconvert_exporter": "python",
   "pygments_lexer": "ipython3",
   "version": "3.10.5"
  }
 },
 "nbformat": 4,
 "nbformat_minor": 5
}
