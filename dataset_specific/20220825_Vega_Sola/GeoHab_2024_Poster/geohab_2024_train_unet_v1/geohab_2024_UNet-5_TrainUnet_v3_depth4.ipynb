{
 "cells": [
  {
   "cell_type": "code",
   "execution_count": 1,
   "id": "44596ef0-84a0-4e96-bf1f-59996b904d95",
   "metadata": {},
   "outputs": [],
   "source": [
    "# Disable TensorFlow debugging info and warnings\n",
    "import os\n",
    "os.environ['TF_CPP_MIN_LOG_LEVEL'] = '2'  # 2: Info and warnings not displayed "
   ]
  },
  {
   "cell_type": "code",
   "execution_count": 2,
   "id": "1fe7e4bb-6264-434a-97be-0f82fcd3b6ff",
   "metadata": {},
   "outputs": [],
   "source": [
    "import tensorflow as tf\n",
    "import numpy as np\n",
    "import matplotlib.pyplot as plt\n",
    "from pathlib import Path\n",
    "import pickle\n",
    "from massimal import hyspec_cnn\n",
    "from datetime import datetime"
   ]
  },
  {
   "cell_type": "code",
   "execution_count": 3,
   "id": "379e6ccf-8a6c-423b-b7eb-6a0883dc7cca",
   "metadata": {},
   "outputs": [
    {
     "name": "stdout",
     "output_type": "stream",
     "text": [
      "2024-04-30-13h06m47s\n"
     ]
    }
   ],
   "source": [
    "# Create timestamp\n",
    "timestamp = datetime.now().strftime('%Y-%m-%d-%Hh%Mm%Ss')\n",
    "print(timestamp)"
   ]
  },
  {
   "cell_type": "code",
   "execution_count": 4,
   "id": "2df3933d-08d6-4935-8c11-9fd93e03f2ce",
   "metadata": {},
   "outputs": [],
   "source": [
    "# Paths\n",
    "train_dataset_path = Path('/home/mha114/data/massimal/vega_sola/hyperspec/datasets/pca_images/pca_images_log_rrs_v1/train_val_tiles/vega_sola_log_rrs_pca5_tiles/')\n",
    "test_dataset_path = Path('/home/mha114/data/massimal/vega_sola/hyperspec/datasets/pca_images/pca_images_log_rrs_v1/test_tiles/vega_sola_log_rrs_pca5_tiles')\n",
    "unet_model_save_dir = Path(f'/home/mha114/data/massimal/vega_sola/hyperspec/models/geohab_unet_log_rrs_v1/{timestamp}')\n",
    "unet_model_save_dir.mkdir(exist_ok=True)\n"
   ]
  },
  {
   "cell_type": "code",
   "execution_count": 5,
   "id": "e55d1243-d719-4529-8751-80f36a15e19c",
   "metadata": {},
   "outputs": [
    {
     "data": {
      "text/plain": [
       "[PhysicalDevice(name='/physical_device:CPU:0', device_type='CPU'),\n",
       " PhysicalDevice(name='/physical_device:GPU:0', device_type='GPU')]"
      ]
     },
     "execution_count": 5,
     "metadata": {},
     "output_type": "execute_result"
    }
   ],
   "source": [
    "# Check if GPU is used\n",
    "tf.config.get_visible_devices()"
   ]
  },
  {
   "cell_type": "code",
   "execution_count": 6,
   "id": "794db0c6-2c73-47ec-869c-92dbe6801a9d",
   "metadata": {},
   "outputs": [],
   "source": [
    "# Parameters\n",
    "OUTPUT_CHANNELS = 9 # Background + 8 grouped classes \n",
    "BATCH_SIZE = 8\n",
    "DEPTH = 4\n",
    "#TRAIN_FRAC = 0.7\n",
    "MAX_EPOCHS = 100\n",
    "INITIAL_LEARNING_RATE = 0.0001#0.0001\n",
    "LEARNING_RATE_FRAC_ON_PLATEAU = 0.2\n",
    "LEARNING_RATE_REDUCTION_PATIENCE = 6\n",
    "EARLY_STOPPING_PATIENCE = 12\n",
    "FIRST_LAYER_CHANNELS = 32"
   ]
  },
  {
   "cell_type": "code",
   "execution_count": 7,
   "id": "64cc4dbc-1bfe-479a-8312-ba296bbd0bff",
   "metadata": {},
   "outputs": [
    {
     "name": "stdout",
     "output_type": "stream",
     "text": [
      "Number of training tiles: 4526\n",
      "Number of validation tiles: 2502\n"
     ]
    }
   ],
   "source": [
    "# Load dataset \n",
    "train_dataset = tf.data.experimental.load(str(train_dataset_path))\n",
    "test_dataset = tf.data.experimental.load(str(test_dataset_path))\n",
    "\n",
    "print(f'Number of training tiles: {train_dataset.cardinality()}')\n",
    "print(f'Number of validation tiles: {test_dataset.cardinality()}')\n",
    "\n",
    "tile_nrows,tile_ncols,tile_nchannels = train_dataset.element_spec[0].shape.as_list()"
   ]
  },
  {
   "cell_type": "code",
   "execution_count": 8,
   "id": "c8e0b69a-1d17-42b6-859d-e2eec836612e",
   "metadata": {},
   "outputs": [
    {
     "data": {
      "text/plain": [
       "<ShuffleDataset element_spec=(TensorSpec(shape=(128, 128, 5), dtype=tf.float32, name=None), TensorSpec(shape=(128, 128), dtype=tf.uint8, name=None), TensorSpec(shape=(), dtype=tf.string, name=None))>"
      ]
     },
     "execution_count": 8,
     "metadata": {},
     "output_type": "execute_result"
    }
   ],
   "source": [
    "# Shuffle training dataset\n",
    "n_train_tiles = train_dataset.cardinality()\n",
    "train_dataset.shuffle(n_train_tiles)"
   ]
  },
  {
   "cell_type": "code",
   "execution_count": 9,
   "id": "eccb745b-3b2b-4f7d-966c-fbe1dc81311c",
   "metadata": {},
   "outputs": [],
   "source": [
    "# From https://www.tensorflow.org/tutorials/images/segmentation#optional_imbalanced_classes_and_class_weights\n",
    "def add_sample_weights(image, label, name):\n",
    "    class_weights = tf.constant([0.0, 1.0, 1.0, 1.0, 1.0, 1.0, 1.0, 1.0, 1.0]) # Hard-coded for 8 classes\n",
    "    # class_weights = tf.constant([0.0, 0.89, 1.24, 0.82, 0.65, 1.08, 1.54, 0.77]) # Hard-coded for 7 classes\n",
    "    class_weights = class_weights/tf.reduce_sum(class_weights)\n",
    "\n",
    "    # Create an image of `sample_weights` by using the label at each pixel as an \n",
    "    # index into the `class weights` .\n",
    "    sample_weights = tf.gather(class_weights, indices=tf.cast(label, tf.int32))\n",
    "\n",
    "    return image, label, sample_weights"
   ]
  },
  {
   "cell_type": "code",
   "execution_count": 10,
   "id": "d9e7828a-e76a-40c5-9fe7-e0aee3cbfe15",
   "metadata": {},
   "outputs": [],
   "source": [
    "# Add sample weights\n",
    "train_dataset = train_dataset.map(add_sample_weights)\n",
    "test_dataset = test_dataset.map(add_sample_weights)"
   ]
  },
  {
   "cell_type": "code",
   "execution_count": 11,
   "id": "17d48f38-0d35-46f0-aea4-90ff88e6d44a",
   "metadata": {},
   "outputs": [
    {
     "name": "stdout",
     "output_type": "stream",
     "text": [
      "Model: \"model\"\n",
      "__________________________________________________________________________________________________\n",
      " Layer (type)                   Output Shape         Param #     Connected to                     \n",
      "==================================================================================================\n",
      " input_image (InputLayer)       [(None, None, None,  0           []                               \n",
      "                                 5)]                                                              \n",
      "                                                                                                  \n",
      " augmentation (Sequential)      (None, None, None,   0           ['input_image[0][0]']            \n",
      "                                5)                                                                \n",
      "                                                                                                  \n",
      " initial_convolution (Conv2D)   (None, None, None,   1472        ['augmentation[0][0]']           \n",
      "                                32)                                                               \n",
      "                                                                                                  \n",
      " downsamp_res_1/2 (Sequential)  (None, None, None,   33024       ['initial_convolution[0][0]']    \n",
      "                                64)                                                               \n",
      "                                                                                                  \n",
      " downsamp_res_1/4 (Sequential)  (None, None, None,   131584      ['downsamp_res_1/2[0][0]']       \n",
      "                                128)                                                              \n",
      "                                                                                                  \n",
      " downsamp_res_1/8 (Sequential)  (None, None, None,   525312      ['downsamp_res_1/4[0][0]']       \n",
      "                                256)                                                              \n",
      "                                                                                                  \n",
      " downsamp_res_1/16 (Sequential)  (None, None, None,   2099200    ['downsamp_res_1/8[0][0]']       \n",
      "                                512)                                                              \n",
      "                                                                                                  \n",
      " upsamp_res_1/8 (Sequential)    (None, None, None,   2098176     ['downsamp_res_1/16[0][0]']      \n",
      "                                256)                                                              \n",
      "                                                                                                  \n",
      " skipconnection_res_1/8 (Concat  (None, None, None,   0          ['upsamp_res_1/8[0][0]',         \n",
      " enate)                         512)                              'downsamp_res_1/8[0][0]']       \n",
      "                                                                                                  \n",
      " upsamp_res_1/4 (Sequential)    (None, None, None,   2098176     ['skipconnection_res_1/8[0][0]'] \n",
      "                                256)                                                              \n",
      "                                                                                                  \n",
      " skipconnection_res_1/4 (Concat  (None, None, None,   0          ['upsamp_res_1/4[0][0]',         \n",
      " enate)                         384)                              'downsamp_res_1/4[0][0]']       \n",
      "                                                                                                  \n",
      " upsamp_res_1/2 (Sequential)    (None, None, None,   786944      ['skipconnection_res_1/4[0][0]'] \n",
      "                                128)                                                              \n",
      "                                                                                                  \n",
      " skipconnection_res_1/2 (Concat  (None, None, None,   0          ['upsamp_res_1/2[0][0]',         \n",
      " enate)                         192)                              'downsamp_res_1/2[0][0]']       \n",
      "                                                                                                  \n",
      " upsamp_res_1/1 (Sequential)    (None, None, None,   196864      ['skipconnection_res_1/2[0][0]'] \n",
      "                                64)                                                               \n",
      "                                                                                                  \n",
      " skipconnection_res_1/1 (Concat  (None, None, None,   0          ['upsamp_res_1/1[0][0]',         \n",
      " enate)                         96)                               'initial_convolution[0][0]']    \n",
      "                                                                                                  \n",
      " classification (Conv2D)        (None, None, None,   7785        ['skipconnection_res_1/1[0][0]'] \n",
      "                                9)                                                                \n",
      "                                                                                                  \n",
      "==================================================================================================\n",
      "Total params: 7,978,537\n",
      "Trainable params: 7,975,209\n",
      "Non-trainable params: 3,328\n",
      "__________________________________________________________________________________________________\n"
     ]
    }
   ],
   "source": [
    "# Create the U-Net model\n",
    "unet = hyspec_cnn.unet(input_channels=tile_nchannels,\n",
    "                       output_channels=OUTPUT_CHANNELS,\n",
    "                       first_layer_channels=FIRST_LAYER_CHANNELS,\n",
    "                       depth = DEPTH,\n",
    "               )\n",
    "unet.summary()"
   ]
  },
  {
   "cell_type": "code",
   "execution_count": 12,
   "id": "d4929232-7f64-4ece-9e34-9e0d26fd7e01",
   "metadata": {},
   "outputs": [
    {
     "name": "stdout",
     "output_type": "stream",
     "text": [
      "----\n",
      "input_image\n",
      "----\n",
      "augmentation\n",
      "\trandom_flip\n",
      "----\n",
      "initial_convolution\n",
      "----\n",
      "downsamp_res_1/2\n",
      "\tconv2d\n",
      "\tbatch_normalization\n",
      "\tleaky_re_lu\n",
      "----\n",
      "downsamp_res_1/4\n",
      "\tconv2d_1\n",
      "\tbatch_normalization_1\n",
      "\tleaky_re_lu_1\n",
      "----\n",
      "downsamp_res_1/8\n",
      "\tconv2d_2\n",
      "\tbatch_normalization_2\n",
      "\tleaky_re_lu_2\n",
      "----\n",
      "downsamp_res_1/16\n",
      "\tconv2d_3\n",
      "\tbatch_normalization_3\n",
      "\tleaky_re_lu_3\n",
      "----\n",
      "upsamp_res_1/8\n",
      "\tconv2d_transpose\n",
      "\tbatch_normalization_4\n",
      "\tre_lu\n",
      "----\n",
      "skipconnection_res_1/8\n",
      "----\n",
      "upsamp_res_1/4\n",
      "\tconv2d_transpose_1\n",
      "\tbatch_normalization_5\n",
      "\tre_lu_1\n",
      "----\n",
      "skipconnection_res_1/4\n",
      "----\n",
      "upsamp_res_1/2\n",
      "\tconv2d_transpose_2\n",
      "\tbatch_normalization_6\n",
      "\tre_lu_2\n",
      "----\n",
      "skipconnection_res_1/2\n",
      "----\n",
      "upsamp_res_1/1\n",
      "\tconv2d_transpose_3\n",
      "\tbatch_normalization_7\n",
      "\tre_lu_3\n",
      "----\n",
      "skipconnection_res_1/1\n",
      "----\n",
      "classification\n"
     ]
    }
   ],
   "source": [
    "# Print layers with sublayers\n",
    "for layer in unet.layers:\n",
    "    print('----')\n",
    "    print(layer.name)\n",
    "    if hasattr(layer,'layers'):\n",
    "        for l in layer.layers:\n",
    "            print('\\t'+l.name)\n",
    "       # print(layer.layers)"
   ]
  },
  {
   "cell_type": "code",
   "execution_count": 13,
   "id": "acfa8a5c-90d6-4bf8-afd5-2deb9acbf80c",
   "metadata": {},
   "outputs": [],
   "source": [
    "# Define callbacks\n",
    "model_save_filename = str(unet_model_save_dir) + '/unet_model.depth' + str(DEPTH) +'.epoch{epoch:02d}-loss{val_loss:.6f}-acc{val_sparse_categorical_accuracy:.3f}.hdf5'\n",
    "callbacks =[tf.keras.callbacks.ModelCheckpoint(filepath = model_save_filename,\n",
    "                                               save_best_only=True,\n",
    "                                               verbose = 1),\n",
    "            tf.keras.callbacks.ReduceLROnPlateau(factor=LEARNING_RATE_FRAC_ON_PLATEAU,\n",
    "                                                 patience=LEARNING_RATE_REDUCTION_PATIENCE,\n",
    "                                                 verbose=1),\n",
    "            tf.keras.callbacks.EarlyStopping(patience=EARLY_STOPPING_PATIENCE,\n",
    "                                             min_delta = 0.001)]"
   ]
  },
  {
   "cell_type": "code",
   "execution_count": 14,
   "id": "b80afc24-d899-40ec-b528-4286b956bad1",
   "metadata": {},
   "outputs": [
    {
     "data": {
      "text/plain": [
       "'/home/mha114/data/massimal/vega_sola/hyperspec/models/geohab_unet_log_rrs_v1/2024-04-30-13h06m47s/unet_model.depth4.epoch{epoch:02d}-loss{val_loss:.6f}-acc{val_sparse_categorical_accuracy:.3f}.hdf5'"
      ]
     },
     "execution_count": 14,
     "metadata": {},
     "output_type": "execute_result"
    }
   ],
   "source": [
    "model_save_filename"
   ]
  },
  {
   "cell_type": "code",
   "execution_count": 15,
   "id": "6951cab2-7837-4e54-8657-162715c1afe2",
   "metadata": {},
   "outputs": [],
   "source": [
    "# Compile model\n",
    "unet.compile(optimizer=tf.keras.optimizers.RMSprop(INITIAL_LEARNING_RATE), \n",
    "             loss=\"sparse_categorical_crossentropy\",\n",
    "             weighted_metrics=['sparse_categorical_accuracy'], # Need weights to ignore background\n",
    "             metrics = []) # Sparse because classes are numbered, not one-hot"
   ]
  },
  {
   "cell_type": "code",
   "execution_count": 16,
   "id": "618460c4-56c4-4b47-9e87-8175a694080d",
   "metadata": {},
   "outputs": [
    {
     "name": "stdout",
     "output_type": "stream",
     "text": [
      "Epoch 1/100\n",
      "566/566 [==============================] - ETA: 0s - loss: 0.0941 - sparse_categorical_accuracy: 0.5831\n",
      "Epoch 1: val_loss improved from inf to 0.10441, saving model to /home/mha114/data/massimal/vega_sola/hyperspec/models/geohab_unet_log_rrs_v1/2024-04-30-13h06m47s/unet_model.depth4.epoch01-loss0.104406-acc0.500.hdf5\n",
      "566/566 [==============================] - 19s 28ms/step - loss: 0.0941 - sparse_categorical_accuracy: 0.5831 - val_loss: 0.1044 - val_sparse_categorical_accuracy: 0.5000 - lr: 1.0000e-04\n",
      "Epoch 2/100\n",
      "565/566 [============================>.] - ETA: 0s - loss: 0.0808 - sparse_categorical_accuracy: 0.6381\n",
      "Epoch 2: val_loss improved from 0.10441 to 0.10185, saving model to /home/mha114/data/massimal/vega_sola/hyperspec/models/geohab_unet_log_rrs_v1/2024-04-30-13h06m47s/unet_model.depth4.epoch02-loss0.101851-acc0.520.hdf5\n",
      "566/566 [==============================] - 16s 28ms/step - loss: 0.0808 - sparse_categorical_accuracy: 0.6379 - val_loss: 0.1019 - val_sparse_categorical_accuracy: 0.5197 - lr: 1.0000e-04\n",
      "Epoch 3/100\n",
      "565/566 [============================>.] - ETA: 0s - loss: 0.0743 - sparse_categorical_accuracy: 0.6683\n",
      "Epoch 3: val_loss improved from 0.10185 to 0.09919, saving model to /home/mha114/data/massimal/vega_sola/hyperspec/models/geohab_unet_log_rrs_v1/2024-04-30-13h06m47s/unet_model.depth4.epoch03-loss0.099193-acc0.509.hdf5\n",
      "566/566 [==============================] - 16s 28ms/step - loss: 0.0743 - sparse_categorical_accuracy: 0.6681 - val_loss: 0.0992 - val_sparse_categorical_accuracy: 0.5091 - lr: 1.0000e-04\n",
      "Epoch 4/100\n",
      "565/566 [============================>.] - ETA: 0s - loss: 0.0706 - sparse_categorical_accuracy: 0.6864\n",
      "Epoch 4: val_loss did not improve from 0.09919\n",
      "566/566 [==============================] - 16s 27ms/step - loss: 0.0706 - sparse_categorical_accuracy: 0.6862 - val_loss: 0.0999 - val_sparse_categorical_accuracy: 0.4962 - lr: 1.0000e-04\n",
      "Epoch 5/100\n",
      "565/566 [============================>.] - ETA: 0s - loss: 0.0653 - sparse_categorical_accuracy: 0.7099\n",
      "Epoch 5: val_loss did not improve from 0.09919\n",
      "566/566 [==============================] - 16s 27ms/step - loss: 0.0653 - sparse_categorical_accuracy: 0.7096 - val_loss: 0.1050 - val_sparse_categorical_accuracy: 0.4262 - lr: 1.0000e-04\n",
      "Epoch 6/100\n",
      "566/566 [==============================] - ETA: 0s - loss: 0.0622 - sparse_categorical_accuracy: 0.7255\n",
      "Epoch 6: val_loss did not improve from 0.09919\n",
      "566/566 [==============================] - 16s 27ms/step - loss: 0.0622 - sparse_categorical_accuracy: 0.7255 - val_loss: 0.1009 - val_sparse_categorical_accuracy: 0.4854 - lr: 1.0000e-04\n",
      "Epoch 7/100\n",
      "565/566 [============================>.] - ETA: 0s - loss: 0.0590 - sparse_categorical_accuracy: 0.7414\n",
      "Epoch 7: val_loss improved from 0.09919 to 0.09144, saving model to /home/mha114/data/massimal/vega_sola/hyperspec/models/geohab_unet_log_rrs_v1/2024-04-30-13h06m47s/unet_model.depth4.epoch07-loss0.091435-acc0.549.hdf5\n",
      "566/566 [==============================] - 15s 27ms/step - loss: 0.0590 - sparse_categorical_accuracy: 0.7412 - val_loss: 0.0914 - val_sparse_categorical_accuracy: 0.5495 - lr: 1.0000e-04\n",
      "Epoch 8/100\n",
      "565/566 [============================>.] - ETA: 0s - loss: 0.0563 - sparse_categorical_accuracy: 0.7512\n",
      "Epoch 8: val_loss did not improve from 0.09144\n",
      "566/566 [==============================] - 15s 27ms/step - loss: 0.0563 - sparse_categorical_accuracy: 0.7511 - val_loss: 0.1030 - val_sparse_categorical_accuracy: 0.4234 - lr: 1.0000e-04\n",
      "Epoch 9/100\n",
      "565/566 [============================>.] - ETA: 0s - loss: 0.0545 - sparse_categorical_accuracy: 0.7588\n",
      "Epoch 9: val_loss did not improve from 0.09144\n",
      "566/566 [==============================] - 15s 27ms/step - loss: 0.0545 - sparse_categorical_accuracy: 0.7586 - val_loss: 0.1042 - val_sparse_categorical_accuracy: 0.4125 - lr: 1.0000e-04\n",
      "Epoch 10/100\n",
      "564/566 [============================>.] - ETA: 0s - loss: 0.0528 - sparse_categorical_accuracy: 0.7617\n",
      "Epoch 10: val_loss did not improve from 0.09144\n",
      "566/566 [==============================] - 15s 27ms/step - loss: 0.0528 - sparse_categorical_accuracy: 0.7614 - val_loss: 0.1120 - val_sparse_categorical_accuracy: 0.3805 - lr: 1.0000e-04\n",
      "Epoch 11/100\n",
      "565/566 [============================>.] - ETA: 0s - loss: 0.0502 - sparse_categorical_accuracy: 0.7748\n",
      "Epoch 11: val_loss did not improve from 0.09144\n",
      "566/566 [==============================] - 15s 27ms/step - loss: 0.0502 - sparse_categorical_accuracy: 0.7747 - val_loss: 0.1127 - val_sparse_categorical_accuracy: 0.4166 - lr: 1.0000e-04\n",
      "Epoch 12/100\n",
      "565/566 [============================>.] - ETA: 0s - loss: 0.0474 - sparse_categorical_accuracy: 0.7865\n",
      "Epoch 12: val_loss did not improve from 0.09144\n",
      "566/566 [==============================] - 15s 27ms/step - loss: 0.0474 - sparse_categorical_accuracy: 0.7862 - val_loss: 0.1017 - val_sparse_categorical_accuracy: 0.4390 - lr: 1.0000e-04\n",
      "Epoch 13/100\n",
      "564/566 [============================>.] - ETA: 0s - loss: 0.0459 - sparse_categorical_accuracy: 0.7922\n",
      "Epoch 13: val_loss did not improve from 0.09144\n",
      "\n",
      "Epoch 13: ReduceLROnPlateau reducing learning rate to 1.9999999494757503e-05.\n",
      "566/566 [==============================] - 15s 27ms/step - loss: 0.0459 - sparse_categorical_accuracy: 0.7915 - val_loss: 0.1175 - val_sparse_categorical_accuracy: 0.4024 - lr: 1.0000e-04\n",
      "Epoch 14/100\n",
      "565/566 [============================>.] - ETA: 0s - loss: 0.0557 - sparse_categorical_accuracy: 0.7369\n",
      "Epoch 14: val_loss improved from 0.09144 to 0.08160, saving model to /home/mha114/data/massimal/vega_sola/hyperspec/models/geohab_unet_log_rrs_v1/2024-04-30-13h06m47s/unet_model.depth4.epoch14-loss0.081602-acc0.519.hdf5\n",
      "566/566 [==============================] - 15s 27ms/step - loss: 0.0557 - sparse_categorical_accuracy: 0.7367 - val_loss: 0.0816 - val_sparse_categorical_accuracy: 0.5195 - lr: 2.0000e-05\n",
      "Epoch 15/100\n",
      "565/566 [============================>.] - ETA: 0s - loss: 0.0510 - sparse_categorical_accuracy: 0.7649\n",
      "Epoch 15: val_loss did not improve from 0.08160\n",
      "566/566 [==============================] - 15s 27ms/step - loss: 0.0510 - sparse_categorical_accuracy: 0.7647 - val_loss: 0.0840 - val_sparse_categorical_accuracy: 0.5331 - lr: 2.0000e-05\n",
      "Epoch 16/100\n",
      "565/566 [============================>.] - ETA: 0s - loss: 0.0462 - sparse_categorical_accuracy: 0.7855\n",
      "Epoch 16: val_loss did not improve from 0.08160\n",
      "566/566 [==============================] - 15s 27ms/step - loss: 0.0462 - sparse_categorical_accuracy: 0.7854 - val_loss: 0.0889 - val_sparse_categorical_accuracy: 0.5315 - lr: 2.0000e-05\n",
      "Epoch 17/100\n",
      "565/566 [============================>.] - ETA: 0s - loss: 0.0444 - sparse_categorical_accuracy: 0.7967\n",
      "Epoch 17: val_loss did not improve from 0.08160\n",
      "566/566 [==============================] - 15s 27ms/step - loss: 0.0444 - sparse_categorical_accuracy: 0.7965 - val_loss: 0.0929 - val_sparse_categorical_accuracy: 0.5023 - lr: 2.0000e-05\n",
      "Epoch 18/100\n",
      "565/566 [============================>.] - ETA: 0s - loss: 0.0426 - sparse_categorical_accuracy: 0.8057\n",
      "Epoch 18: val_loss did not improve from 0.08160\n",
      "566/566 [==============================] - 15s 27ms/step - loss: 0.0426 - sparse_categorical_accuracy: 0.8056 - val_loss: 0.0898 - val_sparse_categorical_accuracy: 0.5173 - lr: 2.0000e-05\n",
      "Epoch 19/100\n",
      "565/566 [============================>.] - ETA: 0s - loss: 0.0422 - sparse_categorical_accuracy: 0.8078\n",
      "Epoch 19: val_loss did not improve from 0.08160\n",
      "566/566 [==============================] - 15s 27ms/step - loss: 0.0422 - sparse_categorical_accuracy: 0.8076 - val_loss: 0.0929 - val_sparse_categorical_accuracy: 0.5072 - lr: 2.0000e-05\n",
      "Epoch 20/100\n",
      "565/566 [============================>.] - ETA: 0s - loss: 0.0409 - sparse_categorical_accuracy: 0.8139\n",
      "Epoch 20: val_loss did not improve from 0.08160\n",
      "\n",
      "Epoch 20: ReduceLROnPlateau reducing learning rate to 3.999999898951501e-06.\n",
      "566/566 [==============================] - 15s 27ms/step - loss: 0.0408 - sparse_categorical_accuracy: 0.8138 - val_loss: 0.0947 - val_sparse_categorical_accuracy: 0.4966 - lr: 2.0000e-05\n",
      "Epoch 21/100\n",
      "565/566 [============================>.] - ETA: 0s - loss: 0.0455 - sparse_categorical_accuracy: 0.7849\n",
      "Epoch 21: val_loss did not improve from 0.08160\n",
      "566/566 [==============================] - 15s 27ms/step - loss: 0.0455 - sparse_categorical_accuracy: 0.7848 - val_loss: 0.0837 - val_sparse_categorical_accuracy: 0.5503 - lr: 4.0000e-06\n",
      "Epoch 22/100\n",
      "565/566 [============================>.] - ETA: 0s - loss: 0.0431 - sparse_categorical_accuracy: 0.7990\n",
      "Epoch 22: val_loss did not improve from 0.08160\n",
      "566/566 [==============================] - 15s 27ms/step - loss: 0.0431 - sparse_categorical_accuracy: 0.7988 - val_loss: 0.0828 - val_sparse_categorical_accuracy: 0.5529 - lr: 4.0000e-06\n",
      "Epoch 23/100\n",
      "565/566 [============================>.] - ETA: 0s - loss: 0.0429 - sparse_categorical_accuracy: 0.8021\n",
      "Epoch 23: val_loss did not improve from 0.08160\n",
      "566/566 [==============================] - 15s 27ms/step - loss: 0.0429 - sparse_categorical_accuracy: 0.8019 - val_loss: 0.0820 - val_sparse_categorical_accuracy: 0.5483 - lr: 4.0000e-06\n",
      "Epoch 24/100\n",
      "565/566 [============================>.] - ETA: 0s - loss: 0.0424 - sparse_categorical_accuracy: 0.8063\n",
      "Epoch 24: val_loss did not improve from 0.08160\n",
      "566/566 [==============================] - 15s 27ms/step - loss: 0.0424 - sparse_categorical_accuracy: 0.8061 - val_loss: 0.0835 - val_sparse_categorical_accuracy: 0.5507 - lr: 4.0000e-06\n",
      "Epoch 25/100\n",
      "565/566 [============================>.] - ETA: 0s - loss: 0.0415 - sparse_categorical_accuracy: 0.8091\n",
      "Epoch 25: val_loss did not improve from 0.08160\n",
      "566/566 [==============================] - 15s 27ms/step - loss: 0.0415 - sparse_categorical_accuracy: 0.8090 - val_loss: 0.0819 - val_sparse_categorical_accuracy: 0.5532 - lr: 4.0000e-06\n",
      "Epoch 26/100\n",
      "565/566 [============================>.] - ETA: 0s - loss: 0.0413 - sparse_categorical_accuracy: 0.8118\n",
      "Epoch 26: val_loss did not improve from 0.08160\n",
      "\n",
      "Epoch 26: ReduceLROnPlateau reducing learning rate to 7.999999979801942e-07.\n",
      "566/566 [==============================] - 15s 27ms/step - loss: 0.0413 - sparse_categorical_accuracy: 0.8115 - val_loss: 0.0851 - val_sparse_categorical_accuracy: 0.5515 - lr: 4.0000e-06\n"
     ]
    }
   ],
   "source": [
    "# Fit model to dataset\n",
    "history = unet.fit(train_dataset.batch(BATCH_SIZE),\n",
    "                   epochs=MAX_EPOCHS,\n",
    "                   validation_data=test_dataset.batch(BATCH_SIZE),\n",
    "                   callbacks=callbacks)\n",
    "# history = unet.fit(train_dataset.batch(BATCH_SIZE),\n",
    "#                    epochs=MAX_EPOCHS)"
   ]
  },
  {
   "cell_type": "code",
   "execution_count": 17,
   "id": "df49ee86-a993-4f14-8505-b5dfa78151fb",
   "metadata": {},
   "outputs": [
    {
     "data": {
      "image/png": "[encoded data removed]",
      "text/plain": [
       "<Figure size 640x480 with 1 Axes>"
      ]
     },
     "metadata": {},
     "output_type": "display_data"
    }
   ],
   "source": [
    "# Plot training history\n",
    "plt.plot(history.history['loss'],label='loss')\n",
    "plt.plot(history.history['val_loss'],label='val_loss')\n",
    "plt.plot(history.history['sparse_categorical_accuracy'],label='acc')\n",
    "plt.plot(history.history['val_sparse_categorical_accuracy'],label='val_acc')\n",
    "plt.xlabel('Epoch')\n",
    "plt.title(f'Depth={DEPTH}, initial LR={INITIAL_LEARNING_RATE}')\n",
    "plt.legend()\n",
    "plt.savefig(unet_model_save_dir / 'unet_training_history.png')\n",
    "plt.show()"
   ]
  },
  {
   "cell_type": "code",
   "execution_count": null,
   "id": "e20a8c8f-feaf-422a-adfe-269fe8a9769b",
   "metadata": {},
   "outputs": [],
   "source": []
  }
 ],
 "metadata": {
  "kernelspec": {
   "display_name": "Python (massimal)",
   "language": "python",
   "name": "massimal"
  },
  "language_info": {
   "codemirror_mode": {
    "name": "ipython",
    "version": 3
   },
   "file_extension": ".py",
   "mimetype": "text/x-python",
   "name": "python",
   "nbconvert_exporter": "python",
   "pygments_lexer": "ipython3",
   "version": "3.10.5"
  }
 },
 "nbformat": 4,
 "nbformat_minor": 5
}
