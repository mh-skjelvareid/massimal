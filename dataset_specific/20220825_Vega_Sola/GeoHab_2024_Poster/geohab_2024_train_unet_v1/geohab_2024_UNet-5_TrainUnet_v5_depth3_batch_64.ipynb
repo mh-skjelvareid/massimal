{
 "cells": [
  {
   "cell_type": "code",
   "execution_count": 1,
   "id": "754e0d98-fef4-4020-8914-507fa29d9bc6",
   "metadata": {},
   "outputs": [],
   "source": [
    "# Disable TensorFlow debugging info and warnings\n",
    "import os\n",
    "os.environ['TF_CPP_MIN_LOG_LEVEL'] = '2'  # 2: Info and warnings not displayed "
   ]
  },
  {
   "cell_type": "code",
   "execution_count": 2,
   "id": "f076ba7f-d798-4d60-8ba7-dd757740e963",
   "metadata": {},
   "outputs": [],
   "source": [
    "import tensorflow as tf\n",
    "import numpy as np\n",
    "import matplotlib.pyplot as plt\n",
    "from pathlib import Path\n",
    "import pickle\n",
    "from massimal import hyspec_cnn\n",
    "from datetime import datetime"
   ]
  },
  {
   "cell_type": "code",
   "execution_count": 3,
   "id": "59fff851-bafd-43b7-b2af-eb478f53aa8f",
   "metadata": {},
   "outputs": [
    {
     "name": "stdout",
     "output_type": "stream",
     "text": [
      "2024-04-30-13h30m16s\n"
     ]
    }
   ],
   "source": [
    "# Create timestamp\n",
    "timestamp = datetime.now().strftime('%Y-%m-%d-%Hh%Mm%Ss')\n",
    "print(timestamp)"
   ]
  },
  {
   "cell_type": "code",
   "execution_count": 4,
   "id": "15adf444-b3b6-4d07-a2a5-a75b594876c6",
   "metadata": {},
   "outputs": [],
   "source": [
    "# Paths\n",
    "train_dataset_path = Path('/home/mha114/data/massimal/vega_sola/hyperspec/datasets/pca_images/pca_images_log_rrs_v1/train_val_tiles/vega_sola_log_rrs_pca5_tiles/')\n",
    "test_dataset_path = Path('/home/mha114/data/massimal/vega_sola/hyperspec/datasets/pca_images/pca_images_log_rrs_v1/test_tiles/vega_sola_log_rrs_pca5_tiles')\n",
    "unet_model_save_dir = Path(f'/home/mha114/data/massimal/vega_sola/hyperspec/models/geohab_unet_log_rrs_v1/{timestamp}')\n",
    "unet_model_save_dir.mkdir(exist_ok=True)\n"
   ]
  },
  {
   "cell_type": "code",
   "execution_count": 5,
   "id": "7963ea67-453b-44f8-9a81-71c59ec1d34e",
   "metadata": {},
   "outputs": [
    {
     "data": {
      "text/plain": [
       "[PhysicalDevice(name='/physical_device:CPU:0', device_type='CPU'),\n",
       " PhysicalDevice(name='/physical_device:GPU:0', device_type='GPU')]"
      ]
     },
     "execution_count": 5,
     "metadata": {},
     "output_type": "execute_result"
    }
   ],
   "source": [
    "# Check if GPU is used\n",
    "tf.config.get_visible_devices()"
   ]
  },
  {
   "cell_type": "code",
   "execution_count": 6,
   "id": "b3229349-8b41-4441-b6a0-603eb580dc97",
   "metadata": {},
   "outputs": [],
   "source": [
    "# Parameters\n",
    "OUTPUT_CHANNELS = 9 # Background + 8 grouped classes \n",
    "BATCH_SIZE = 64\n",
    "DEPTH = 3\n",
    "MAX_EPOCHS = 100\n",
    "INITIAL_LEARNING_RATE = 0.0001#0.0001\n",
    "LEARNING_RATE_FRAC_ON_PLATEAU = 0.2\n",
    "LEARNING_RATE_REDUCTION_PATIENCE = 6\n",
    "EARLY_STOPPING_PATIENCE = 12\n",
    "FIRST_LAYER_CHANNELS = 32"
   ]
  },
  {
   "cell_type": "code",
   "execution_count": 7,
   "id": "9d86c90b-7cdd-43b0-ba09-10a601e3b510",
   "metadata": {},
   "outputs": [
    {
     "name": "stdout",
     "output_type": "stream",
     "text": [
      "Number of training tiles: 4526\n",
      "Number of validation tiles: 2502\n"
     ]
    }
   ],
   "source": [
    "# Load dataset \n",
    "train_dataset = tf.data.experimental.load(str(train_dataset_path))\n",
    "test_dataset = tf.data.experimental.load(str(test_dataset_path))\n",
    "\n",
    "print(f'Number of training tiles: {train_dataset.cardinality()}')\n",
    "print(f'Number of validation tiles: {test_dataset.cardinality()}')\n",
    "\n",
    "tile_nrows,tile_ncols,tile_nchannels = train_dataset.element_spec[0].shape.as_list()"
   ]
  },
  {
   "cell_type": "code",
   "execution_count": 8,
   "id": "86b0aae3-35a0-4bbd-8c36-21b30b505352",
   "metadata": {},
   "outputs": [
    {
     "data": {
      "text/plain": [
       "<ShuffleDataset element_spec=(TensorSpec(shape=(128, 128, 5), dtype=tf.float32, name=None), TensorSpec(shape=(128, 128), dtype=tf.uint8, name=None), TensorSpec(shape=(), dtype=tf.string, name=None))>"
      ]
     },
     "execution_count": 8,
     "metadata": {},
     "output_type": "execute_result"
    }
   ],
   "source": [
    "# Shuffle training dataset\n",
    "n_train_tiles = train_dataset.cardinality()\n",
    "train_dataset.shuffle(n_train_tiles)"
   ]
  },
  {
   "cell_type": "code",
   "execution_count": 9,
   "id": "8a61c0a2-9daf-49cd-9826-c47e1896abe7",
   "metadata": {},
   "outputs": [],
   "source": [
    "# From https://www.tensorflow.org/tutorials/images/segmentation#optional_imbalanced_classes_and_class_weights\n",
    "def add_sample_weights(image, label, name):\n",
    "    class_weights = tf.constant([0.0, 1.0, 1.0, 1.0, 1.0, 1.0, 1.0, 1.0, 1.0]) # Hard-coded for 8 classes\n",
    "    # class_weights = tf.constant([0.0, 0.89, 1.24, 0.82, 0.65, 1.08, 1.54, 0.77]) # Hard-coded for 7 classes\n",
    "    class_weights = class_weights/tf.reduce_sum(class_weights)\n",
    "\n",
    "    # Create an image of `sample_weights` by using the label at each pixel as an \n",
    "    # index into the `class weights` .\n",
    "    sample_weights = tf.gather(class_weights, indices=tf.cast(label, tf.int32))\n",
    "\n",
    "    return image, label, sample_weights"
   ]
  },
  {
   "cell_type": "code",
   "execution_count": 10,
   "id": "e6b38a58-1841-4b66-94b7-4522e1df917e",
   "metadata": {},
   "outputs": [],
   "source": [
    "# Add sample weights\n",
    "train_dataset = train_dataset.map(add_sample_weights)\n",
    "test_dataset = test_dataset.map(add_sample_weights)"
   ]
  },
  {
   "cell_type": "code",
   "execution_count": 11,
   "id": "1f725358-4ab8-4ce3-a0bb-9cdd6dfdb391",
   "metadata": {},
   "outputs": [
    {
     "name": "stdout",
     "output_type": "stream",
     "text": [
      "Model: \"model\"\n",
      "__________________________________________________________________________________________________\n",
      " Layer (type)                   Output Shape         Param #     Connected to                     \n",
      "==================================================================================================\n",
      " input_image (InputLayer)       [(None, None, None,  0           []                               \n",
      "                                 5)]                                                              \n",
      "                                                                                                  \n",
      " augmentation (Sequential)      (None, None, None,   0           ['input_image[0][0]']            \n",
      "                                5)                                                                \n",
      "                                                                                                  \n",
      " initial_convolution (Conv2D)   (None, None, None,   1472        ['augmentation[0][0]']           \n",
      "                                32)                                                               \n",
      "                                                                                                  \n",
      " downsamp_res_1/2 (Sequential)  (None, None, None,   33024       ['initial_convolution[0][0]']    \n",
      "                                64)                                                               \n",
      "                                                                                                  \n",
      " downsamp_res_1/4 (Sequential)  (None, None, None,   131584      ['downsamp_res_1/2[0][0]']       \n",
      "                                128)                                                              \n",
      "                                                                                                  \n",
      " downsamp_res_1/8 (Sequential)  (None, None, None,   525312      ['downsamp_res_1/4[0][0]']       \n",
      "                                256)                                                              \n",
      "                                                                                                  \n",
      " upsamp_res_1/4 (Sequential)    (None, None, None,   524800      ['downsamp_res_1/8[0][0]']       \n",
      "                                128)                                                              \n",
      "                                                                                                  \n",
      " skipconnection_res_1/4 (Concat  (None, None, None,   0          ['upsamp_res_1/4[0][0]',         \n",
      " enate)                         256)                              'downsamp_res_1/4[0][0]']       \n",
      "                                                                                                  \n",
      " upsamp_res_1/2 (Sequential)    (None, None, None,   524800      ['skipconnection_res_1/4[0][0]'] \n",
      "                                128)                                                              \n",
      "                                                                                                  \n",
      " skipconnection_res_1/2 (Concat  (None, None, None,   0          ['upsamp_res_1/2[0][0]',         \n",
      " enate)                         192)                              'downsamp_res_1/2[0][0]']       \n",
      "                                                                                                  \n",
      " upsamp_res_1/1 (Sequential)    (None, None, None,   196864      ['skipconnection_res_1/2[0][0]'] \n",
      "                                64)                                                               \n",
      "                                                                                                  \n",
      " skipconnection_res_1/1 (Concat  (None, None, None,   0          ['upsamp_res_1/1[0][0]',         \n",
      " enate)                         96)                               'initial_convolution[0][0]']    \n",
      "                                                                                                  \n",
      " classification (Conv2D)        (None, None, None,   7785        ['skipconnection_res_1/1[0][0]'] \n",
      "                                9)                                                                \n",
      "                                                                                                  \n",
      "==================================================================================================\n",
      "Total params: 1,945,641\n",
      "Trainable params: 1,944,105\n",
      "Non-trainable params: 1,536\n",
      "__________________________________________________________________________________________________\n"
     ]
    }
   ],
   "source": [
    "# Create the U-Net model\n",
    "unet = hyspec_cnn.unet(input_channels=tile_nchannels,\n",
    "                       output_channels=OUTPUT_CHANNELS,\n",
    "                       first_layer_channels=FIRST_LAYER_CHANNELS,\n",
    "                       depth = DEPTH,\n",
    "               )\n",
    "unet.summary()"
   ]
  },
  {
   "cell_type": "code",
   "execution_count": 12,
   "id": "60f43b37-473f-471f-aa80-9493af0eeecc",
   "metadata": {},
   "outputs": [
    {
     "name": "stdout",
     "output_type": "stream",
     "text": [
      "----\n",
      "input_image\n",
      "----\n",
      "augmentation\n",
      "\trandom_flip\n",
      "----\n",
      "initial_convolution\n",
      "----\n",
      "downsamp_res_1/2\n",
      "\tconv2d\n",
      "\tbatch_normalization\n",
      "\tleaky_re_lu\n",
      "----\n",
      "downsamp_res_1/4\n",
      "\tconv2d_1\n",
      "\tbatch_normalization_1\n",
      "\tleaky_re_lu_1\n",
      "----\n",
      "downsamp_res_1/8\n",
      "\tconv2d_2\n",
      "\tbatch_normalization_2\n",
      "\tleaky_re_lu_2\n",
      "----\n",
      "upsamp_res_1/4\n",
      "\tconv2d_transpose\n",
      "\tbatch_normalization_3\n",
      "\tre_lu\n",
      "----\n",
      "skipconnection_res_1/4\n",
      "----\n",
      "upsamp_res_1/2\n",
      "\tconv2d_transpose_1\n",
      "\tbatch_normalization_4\n",
      "\tre_lu_1\n",
      "----\n",
      "skipconnection_res_1/2\n",
      "----\n",
      "upsamp_res_1/1\n",
      "\tconv2d_transpose_2\n",
      "\tbatch_normalization_5\n",
      "\tre_lu_2\n",
      "----\n",
      "skipconnection_res_1/1\n",
      "----\n",
      "classification\n"
     ]
    }
   ],
   "source": [
    "# Print layers with sublayers\n",
    "for layer in unet.layers:\n",
    "    print('----')\n",
    "    print(layer.name)\n",
    "    if hasattr(layer,'layers'):\n",
    "        for l in layer.layers:\n",
    "            print('\\t'+l.name)\n",
    "       # print(layer.layers)"
   ]
  },
  {
   "cell_type": "code",
   "execution_count": 13,
   "id": "ce84f6a7-547b-4f53-9b3d-456dc56d208e",
   "metadata": {},
   "outputs": [],
   "source": [
    "# Define callbacks\n",
    "model_save_filename = str(unet_model_save_dir) + '/unet_model.depth' + str(DEPTH) +'.epoch{epoch:02d}-loss{val_loss:.6f}-acc{val_sparse_categorical_accuracy:.3f}.hdf5'\n",
    "callbacks =[tf.keras.callbacks.ModelCheckpoint(filepath = model_save_filename,\n",
    "                                               save_best_only=True,\n",
    "                                               verbose = 1),\n",
    "            tf.keras.callbacks.ReduceLROnPlateau(factor=LEARNING_RATE_FRAC_ON_PLATEAU,\n",
    "                                                 patience=LEARNING_RATE_REDUCTION_PATIENCE,\n",
    "                                                 verbose=1),\n",
    "            tf.keras.callbacks.EarlyStopping(patience=EARLY_STOPPING_PATIENCE,\n",
    "                                             min_delta = 0.001)]"
   ]
  },
  {
   "cell_type": "code",
   "execution_count": 14,
   "id": "baf75782-af5c-4722-b2b9-60e78d2b5c9c",
   "metadata": {},
   "outputs": [
    {
     "data": {
      "text/plain": [
       "'/home/mha114/data/massimal/vega_sola/hyperspec/models/geohab_unet_log_rrs_v1/2024-04-30-13h30m16s/unet_model.depth3.epoch{epoch:02d}-loss{val_loss:.6f}-acc{val_sparse_categorical_accuracy:.3f}.hdf5'"
      ]
     },
     "execution_count": 14,
     "metadata": {},
     "output_type": "execute_result"
    }
   ],
   "source": [
    "model_save_filename"
   ]
  },
  {
   "cell_type": "code",
   "execution_count": 15,
   "id": "c3f5d154-8934-4aaf-8ef3-32f3a8600f9c",
   "metadata": {},
   "outputs": [],
   "source": [
    "# Compile model\n",
    "unet.compile(optimizer=tf.keras.optimizers.RMSprop(INITIAL_LEARNING_RATE), \n",
    "             loss=\"sparse_categorical_crossentropy\",\n",
    "             weighted_metrics=['sparse_categorical_accuracy'], # Need weights to ignore background\n",
    "             metrics = []) # Sparse because classes are numbered, not one-hot"
   ]
  },
  {
   "cell_type": "code",
   "execution_count": 16,
   "id": "0d3d8948-cd1f-420b-9f46-fa70c1c9b9fa",
   "metadata": {},
   "outputs": [
    {
     "name": "stdout",
     "output_type": "stream",
     "text": [
      "Epoch 1/100\n",
      "71/71 [==============================] - ETA: 0s - loss: 0.1298 - sparse_categorical_accuracy: 0.3615\n",
      "Epoch 1: val_loss improved from inf to 0.12938, saving model to /home/mha114/data/massimal/vega_sola/hyperspec/models/geohab_unet_log_rrs_v1/2024-04-30-13h30m16s/unet_model.depth3.epoch01-loss0.129376-acc0.352.hdf5\n",
      "71/71 [==============================] - 13s 138ms/step - loss: 0.1298 - sparse_categorical_accuracy: 0.3615 - val_loss: 0.1294 - val_sparse_categorical_accuracy: 0.3515 - lr: 1.0000e-04\n",
      "Epoch 2/100\n",
      "71/71 [==============================] - ETA: 0s - loss: 0.1075 - sparse_categorical_accuracy: 0.4706\n",
      "Epoch 2: val_loss improved from 0.12938 to 0.10915, saving model to /home/mha114/data/massimal/vega_sola/hyperspec/models/geohab_unet_log_rrs_v1/2024-04-30-13h30m16s/unet_model.depth3.epoch02-loss0.109155-acc0.410.hdf5\n",
      "71/71 [==============================] - 9s 124ms/step - loss: 0.1075 - sparse_categorical_accuracy: 0.4706 - val_loss: 0.1092 - val_sparse_categorical_accuracy: 0.4101 - lr: 1.0000e-04\n",
      "Epoch 3/100\n",
      "71/71 [==============================] - ETA: 0s - loss: 0.1004 - sparse_categorical_accuracy: 0.5034\n",
      "Epoch 3: val_loss improved from 0.10915 to 0.09589, saving model to /home/mha114/data/massimal/vega_sola/hyperspec/models/geohab_unet_log_rrs_v1/2024-04-30-13h30m16s/unet_model.depth3.epoch03-loss0.095889-acc0.449.hdf5\n",
      "71/71 [==============================] - 9s 124ms/step - loss: 0.1004 - sparse_categorical_accuracy: 0.5034 - val_loss: 0.0959 - val_sparse_categorical_accuracy: 0.4487 - lr: 1.0000e-04\n",
      "Epoch 4/100\n",
      "71/71 [==============================] - ETA: 0s - loss: 0.0959 - sparse_categorical_accuracy: 0.5265\n",
      "Epoch 4: val_loss improved from 0.09589 to 0.09076, saving model to /home/mha114/data/massimal/vega_sola/hyperspec/models/geohab_unet_log_rrs_v1/2024-04-30-13h30m16s/unet_model.depth3.epoch04-loss0.090761-acc0.475.hdf5\n",
      "71/71 [==============================] - 9s 125ms/step - loss: 0.0959 - sparse_categorical_accuracy: 0.5265 - val_loss: 0.0908 - val_sparse_categorical_accuracy: 0.4748 - lr: 1.0000e-04\n",
      "Epoch 5/100\n",
      "71/71 [==============================] - ETA: 0s - loss: 0.0919 - sparse_categorical_accuracy: 0.5486\n",
      "Epoch 5: val_loss improved from 0.09076 to 0.08747, saving model to /home/mha114/data/massimal/vega_sola/hyperspec/models/geohab_unet_log_rrs_v1/2024-04-30-13h30m16s/unet_model.depth3.epoch05-loss0.087468-acc0.496.hdf5\n",
      "71/71 [==============================] - 9s 124ms/step - loss: 0.0919 - sparse_categorical_accuracy: 0.5486 - val_loss: 0.0875 - val_sparse_categorical_accuracy: 0.4965 - lr: 1.0000e-04\n",
      "Epoch 6/100\n",
      "71/71 [==============================] - ETA: 0s - loss: 0.0886 - sparse_categorical_accuracy: 0.5722\n",
      "Epoch 6: val_loss improved from 0.08747 to 0.08545, saving model to /home/mha114/data/massimal/vega_sola/hyperspec/models/geohab_unet_log_rrs_v1/2024-04-30-13h30m16s/unet_model.depth3.epoch06-loss0.085446-acc0.510.hdf5\n",
      "71/71 [==============================] - 9s 125ms/step - loss: 0.0886 - sparse_categorical_accuracy: 0.5722 - val_loss: 0.0854 - val_sparse_categorical_accuracy: 0.5100 - lr: 1.0000e-04\n",
      "Epoch 7/100\n",
      "71/71 [==============================] - ETA: 0s - loss: 0.0865 - sparse_categorical_accuracy: 0.5896\n",
      "Epoch 7: val_loss improved from 0.08545 to 0.08453, saving model to /home/mha114/data/massimal/vega_sola/hyperspec/models/geohab_unet_log_rrs_v1/2024-04-30-13h30m16s/unet_model.depth3.epoch07-loss0.084527-acc0.514.hdf5\n",
      "71/71 [==============================] - 9s 125ms/step - loss: 0.0865 - sparse_categorical_accuracy: 0.5896 - val_loss: 0.0845 - val_sparse_categorical_accuracy: 0.5145 - lr: 1.0000e-04\n",
      "Epoch 8/100\n",
      "71/71 [==============================] - ETA: 0s - loss: 0.0840 - sparse_categorical_accuracy: 0.6056\n",
      "Epoch 8: val_loss did not improve from 0.08453\n",
      "71/71 [==============================] - 9s 124ms/step - loss: 0.0840 - sparse_categorical_accuracy: 0.6056 - val_loss: 0.0847 - val_sparse_categorical_accuracy: 0.5144 - lr: 1.0000e-04\n",
      "Epoch 9/100\n",
      "71/71 [==============================] - ETA: 0s - loss: 0.0824 - sparse_categorical_accuracy: 0.6138\n",
      "Epoch 9: val_loss improved from 0.08453 to 0.08271, saving model to /home/mha114/data/massimal/vega_sola/hyperspec/models/geohab_unet_log_rrs_v1/2024-04-30-13h30m16s/unet_model.depth3.epoch09-loss0.082705-acc0.535.hdf5\n",
      "71/71 [==============================] - 9s 124ms/step - loss: 0.0824 - sparse_categorical_accuracy: 0.6138 - val_loss: 0.0827 - val_sparse_categorical_accuracy: 0.5347 - lr: 1.0000e-04\n",
      "Epoch 10/100\n",
      "71/71 [==============================] - ETA: 0s - loss: 0.0795 - sparse_categorical_accuracy: 0.6296\n",
      "Epoch 10: val_loss improved from 0.08271 to 0.08254, saving model to /home/mha114/data/massimal/vega_sola/hyperspec/models/geohab_unet_log_rrs_v1/2024-04-30-13h30m16s/unet_model.depth3.epoch10-loss0.082540-acc0.537.hdf5\n",
      "71/71 [==============================] - 9s 124ms/step - loss: 0.0795 - sparse_categorical_accuracy: 0.6296 - val_loss: 0.0825 - val_sparse_categorical_accuracy: 0.5368 - lr: 1.0000e-04\n",
      "Epoch 11/100\n",
      "71/71 [==============================] - ETA: 0s - loss: 0.0771 - sparse_categorical_accuracy: 0.6393\n",
      "Epoch 11: val_loss did not improve from 0.08254\n",
      "71/71 [==============================] - 9s 124ms/step - loss: 0.0771 - sparse_categorical_accuracy: 0.6393 - val_loss: 0.0831 - val_sparse_categorical_accuracy: 0.5336 - lr: 1.0000e-04\n",
      "Epoch 12/100\n",
      "71/71 [==============================] - ETA: 0s - loss: 0.0759 - sparse_categorical_accuracy: 0.6460\n",
      "Epoch 12: val_loss improved from 0.08254 to 0.08155, saving model to /home/mha114/data/massimal/vega_sola/hyperspec/models/geohab_unet_log_rrs_v1/2024-04-30-13h30m16s/unet_model.depth3.epoch12-loss0.081549-acc0.554.hdf5\n",
      "71/71 [==============================] - 9s 124ms/step - loss: 0.0759 - sparse_categorical_accuracy: 0.6460 - val_loss: 0.0815 - val_sparse_categorical_accuracy: 0.5543 - lr: 1.0000e-04\n",
      "Epoch 13/100\n",
      "71/71 [==============================] - ETA: 0s - loss: 0.0742 - sparse_categorical_accuracy: 0.6546\n",
      "Epoch 13: val_loss improved from 0.08155 to 0.08085, saving model to /home/mha114/data/massimal/vega_sola/hyperspec/models/geohab_unet_log_rrs_v1/2024-04-30-13h30m16s/unet_model.depth3.epoch13-loss0.080845-acc0.553.hdf5\n",
      "71/71 [==============================] - 9s 124ms/step - loss: 0.0742 - sparse_categorical_accuracy: 0.6546 - val_loss: 0.0808 - val_sparse_categorical_accuracy: 0.5529 - lr: 1.0000e-04\n",
      "Epoch 14/100\n",
      "71/71 [==============================] - ETA: 0s - loss: 0.0722 - sparse_categorical_accuracy: 0.6638\n",
      "Epoch 14: val_loss did not improve from 0.08085\n",
      "71/71 [==============================] - 9s 124ms/step - loss: 0.0722 - sparse_categorical_accuracy: 0.6638 - val_loss: 0.0828 - val_sparse_categorical_accuracy: 0.5352 - lr: 1.0000e-04\n",
      "Epoch 15/100\n",
      "71/71 [==============================] - ETA: 0s - loss: 0.0711 - sparse_categorical_accuracy: 0.6699\n",
      "Epoch 15: val_loss did not improve from 0.08085\n",
      "71/71 [==============================] - 9s 124ms/step - loss: 0.0711 - sparse_categorical_accuracy: 0.6699 - val_loss: 0.0814 - val_sparse_categorical_accuracy: 0.5538 - lr: 1.0000e-04\n",
      "Epoch 16/100\n",
      "71/71 [==============================] - ETA: 0s - loss: 0.0686 - sparse_categorical_accuracy: 0.6829\n",
      "Epoch 16: val_loss did not improve from 0.08085\n",
      "71/71 [==============================] - 9s 124ms/step - loss: 0.0686 - sparse_categorical_accuracy: 0.6829 - val_loss: 0.0817 - val_sparse_categorical_accuracy: 0.5489 - lr: 1.0000e-04\n",
      "Epoch 17/100\n",
      "71/71 [==============================] - ETA: 0s - loss: 0.0684 - sparse_categorical_accuracy: 0.6863\n",
      "Epoch 17: val_loss did not improve from 0.08085\n",
      "71/71 [==============================] - 9s 124ms/step - loss: 0.0684 - sparse_categorical_accuracy: 0.6863 - val_loss: 0.0815 - val_sparse_categorical_accuracy: 0.5670 - lr: 1.0000e-04\n",
      "Epoch 18/100\n",
      "71/71 [==============================] - ETA: 0s - loss: 0.0671 - sparse_categorical_accuracy: 0.6874\n",
      "Epoch 18: val_loss did not improve from 0.08085\n",
      "71/71 [==============================] - 9s 124ms/step - loss: 0.0671 - sparse_categorical_accuracy: 0.6874 - val_loss: 0.0825 - val_sparse_categorical_accuracy: 0.5637 - lr: 1.0000e-04\n",
      "Epoch 19/100\n",
      "71/71 [==============================] - ETA: 0s - loss: 0.0652 - sparse_categorical_accuracy: 0.6948\n",
      "Epoch 19: val_loss did not improve from 0.08085\n",
      "\n",
      "Epoch 19: ReduceLROnPlateau reducing learning rate to 1.9999999494757503e-05.\n",
      "71/71 [==============================] - 9s 124ms/step - loss: 0.0652 - sparse_categorical_accuracy: 0.6948 - val_loss: 0.0810 - val_sparse_categorical_accuracy: 0.5698 - lr: 1.0000e-04\n",
      "Epoch 20/100\n",
      "71/71 [==============================] - ETA: 0s - loss: 0.0697 - sparse_categorical_accuracy: 0.6704\n",
      "Epoch 20: val_loss improved from 0.08085 to 0.06754, saving model to /home/mha114/data/massimal/vega_sola/hyperspec/models/geohab_unet_log_rrs_v1/2024-04-30-13h30m16s/unet_model.depth3.epoch20-loss0.067540-acc0.647.hdf5\n",
      "71/71 [==============================] - 9s 125ms/step - loss: 0.0697 - sparse_categorical_accuracy: 0.6704 - val_loss: 0.0675 - val_sparse_categorical_accuracy: 0.6469 - lr: 2.0000e-05\n",
      "Epoch 21/100\n",
      "71/71 [==============================] - ETA: 0s - loss: 0.0658 - sparse_categorical_accuracy: 0.6975\n",
      "Epoch 21: val_loss improved from 0.06754 to 0.06741, saving model to /home/mha114/data/massimal/vega_sola/hyperspec/models/geohab_unet_log_rrs_v1/2024-04-30-13h30m16s/unet_model.depth3.epoch21-loss0.067415-acc0.641.hdf5\n",
      "71/71 [==============================] - 9s 125ms/step - loss: 0.0658 - sparse_categorical_accuracy: 0.6975 - val_loss: 0.0674 - val_sparse_categorical_accuracy: 0.6414 - lr: 2.0000e-05\n",
      "Epoch 22/100\n",
      "71/71 [==============================] - ETA: 0s - loss: 0.0636 - sparse_categorical_accuracy: 0.7115\n",
      "Epoch 22: val_loss did not improve from 0.06741\n",
      "71/71 [==============================] - 9s 124ms/step - loss: 0.0636 - sparse_categorical_accuracy: 0.7115 - val_loss: 0.0679 - val_sparse_categorical_accuracy: 0.6406 - lr: 2.0000e-05\n",
      "Epoch 23/100\n",
      "71/71 [==============================] - ETA: 0s - loss: 0.0624 - sparse_categorical_accuracy: 0.7180\n",
      "Epoch 23: val_loss did not improve from 0.06741\n",
      "71/71 [==============================] - 9s 124ms/step - loss: 0.0624 - sparse_categorical_accuracy: 0.7180 - val_loss: 0.0688 - val_sparse_categorical_accuracy: 0.6391 - lr: 2.0000e-05\n",
      "Epoch 24/100\n",
      "71/71 [==============================] - ETA: 0s - loss: 0.0615 - sparse_categorical_accuracy: 0.7216\n",
      "Epoch 24: val_loss did not improve from 0.06741\n",
      "71/71 [==============================] - 9s 124ms/step - loss: 0.0615 - sparse_categorical_accuracy: 0.7216 - val_loss: 0.0692 - val_sparse_categorical_accuracy: 0.6345 - lr: 2.0000e-05\n",
      "Epoch 25/100\n",
      "71/71 [==============================] - ETA: 0s - loss: 0.0609 - sparse_categorical_accuracy: 0.7275\n",
      "Epoch 25: val_loss did not improve from 0.06741\n",
      "71/71 [==============================] - 9s 124ms/step - loss: 0.0609 - sparse_categorical_accuracy: 0.7275 - val_loss: 0.0693 - val_sparse_categorical_accuracy: 0.6329 - lr: 2.0000e-05\n",
      "Epoch 26/100\n",
      "71/71 [==============================] - ETA: 0s - loss: 0.0602 - sparse_categorical_accuracy: 0.7301\n",
      "Epoch 26: val_loss did not improve from 0.06741\n",
      "71/71 [==============================] - 9s 124ms/step - loss: 0.0602 - sparse_categorical_accuracy: 0.7301 - val_loss: 0.0701 - val_sparse_categorical_accuracy: 0.6347 - lr: 2.0000e-05\n",
      "Epoch 27/100\n",
      "71/71 [==============================] - ETA: 0s - loss: 0.0587 - sparse_categorical_accuracy: 0.7365\n",
      "Epoch 27: val_loss did not improve from 0.06741\n",
      "\n",
      "Epoch 27: ReduceLROnPlateau reducing learning rate to 3.999999898951501e-06.\n",
      "71/71 [==============================] - 9s 124ms/step - loss: 0.0587 - sparse_categorical_accuracy: 0.7365 - val_loss: 0.0698 - val_sparse_categorical_accuracy: 0.6282 - lr: 2.0000e-05\n",
      "Epoch 28/100\n",
      "71/71 [==============================] - ETA: 0s - loss: 0.0587 - sparse_categorical_accuracy: 0.7387\n",
      "Epoch 28: val_loss did not improve from 0.06741\n",
      "71/71 [==============================] - 9s 124ms/step - loss: 0.0587 - sparse_categorical_accuracy: 0.7387 - val_loss: 0.0698 - val_sparse_categorical_accuracy: 0.6526 - lr: 4.0000e-06\n",
      "Epoch 29/100\n",
      "71/71 [==============================] - ETA: 0s - loss: 0.0581 - sparse_categorical_accuracy: 0.7422\n",
      "Epoch 29: val_loss did not improve from 0.06741\n",
      "71/71 [==============================] - 9s 124ms/step - loss: 0.0581 - sparse_categorical_accuracy: 0.7422 - val_loss: 0.0706 - val_sparse_categorical_accuracy: 0.6497 - lr: 4.0000e-06\n",
      "Epoch 30/100\n",
      "71/71 [==============================] - ETA: 0s - loss: 0.0585 - sparse_categorical_accuracy: 0.7433\n",
      "Epoch 30: val_loss did not improve from 0.06741\n",
      "71/71 [==============================] - 9s 124ms/step - loss: 0.0585 - sparse_categorical_accuracy: 0.7433 - val_loss: 0.0711 - val_sparse_categorical_accuracy: 0.6486 - lr: 4.0000e-06\n",
      "Epoch 31/100\n",
      "71/71 [==============================] - ETA: 0s - loss: 0.0579 - sparse_categorical_accuracy: 0.7433\n",
      "Epoch 31: val_loss did not improve from 0.06741\n",
      "71/71 [==============================] - 9s 124ms/step - loss: 0.0579 - sparse_categorical_accuracy: 0.7433 - val_loss: 0.0712 - val_sparse_categorical_accuracy: 0.6512 - lr: 4.0000e-06\n",
      "Epoch 32/100\n",
      "71/71 [==============================] - ETA: 0s - loss: 0.0572 - sparse_categorical_accuracy: 0.7470\n",
      "Epoch 32: val_loss did not improve from 0.06741\n",
      "71/71 [==============================] - 9s 124ms/step - loss: 0.0572 - sparse_categorical_accuracy: 0.7470 - val_loss: 0.0709 - val_sparse_categorical_accuracy: 0.6493 - lr: 4.0000e-06\n"
     ]
    }
   ],
   "source": [
    "# Fit model to dataset\n",
    "history = unet.fit(train_dataset.batch(BATCH_SIZE),\n",
    "                   epochs=MAX_EPOCHS,\n",
    "                   validation_data=test_dataset.batch(BATCH_SIZE),\n",
    "                   callbacks=callbacks)\n",
    "# history = unet.fit(train_dataset.batch(BATCH_SIZE),\n",
    "#                    epochs=MAX_EPOCHS)"
   ]
  },
  {
   "cell_type": "code",
   "execution_count": 18,
   "id": "2de01458-e6a1-4a2f-a0b5-7b46d3dde62d",
   "metadata": {},
   "outputs": [
    {
     "data": {
      "image/png": "[encoded data removed]",
      "text/plain": [
       "<Figure size 1200x600 with 2 Axes>"
      ]
     },
     "metadata": {},
     "output_type": "display_data"
    }
   ],
   "source": [
    "# Plot training history\n",
    "fig,ax = plt.subplots(ncols=2,figsize=(12,6))\n",
    "ax[0].plot(history.history['loss'],label='loss')\n",
    "ax[0].plot(history.history['val_loss'],label='val_loss')\n",
    "\n",
    "ax[1].plot(history.history['sparse_categorical_accuracy'],label='acc')\n",
    "ax[1].plot(history.history['val_sparse_categorical_accuracy'],label='val_acc')\n",
    "\n",
    "for curr_ax in ax:\n",
    "    curr_ax.set_xlabel('Epoch')\n",
    "    curr_ax.set_title(f'Depth={DEPTH}, initial LR={INITIAL_LEARNING_RATE}, batch size={BATCH_SIZE}')\n",
    "    curr_ax.legend()\n",
    "\n",
    "plt.savefig(unet_model_save_dir / 'unet_training_history.png')\n",
    "plt.show()"
   ]
  },
  {
   "cell_type": "code",
   "execution_count": null,
   "id": "ac1089e3-d6b3-4e81-a531-bb066f2b9632",
   "metadata": {},
   "outputs": [],
   "source": []
  }
 ],
 "metadata": {
  "kernelspec": {
   "display_name": "Python (massimal)",
   "language": "python",
   "name": "massimal"
  },
  "language_info": {
   "codemirror_mode": {
    "name": "ipython",
    "version": 3
   },
   "file_extension": ".py",
   "mimetype": "text/x-python",
   "name": "python",
   "nbconvert_exporter": "python",
   "pygments_lexer": "ipython3",
   "version": "3.10.5"
  }
 },
 "nbformat": 4,
 "nbformat_minor": 5
}
