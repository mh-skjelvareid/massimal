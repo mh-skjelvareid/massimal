{
 "cells": [
  {
   "cell_type": "code",
   "execution_count": 1,
   "id": "58964baf-7128-48bc-a3fa-a9ab81e5ce55",
   "metadata": {},
   "outputs": [],
   "source": [
    "# Disable TensorFlow debugging info and warnings\n",
    "import os\n",
    "os.environ['TF_CPP_MIN_LOG_LEVEL'] = '2'  # 2: Info and warnings not displayed "
   ]
  },
  {
   "cell_type": "code",
   "execution_count": 2,
   "id": "b1e7040b-04d6-447e-95b0-e89d8516b5f8",
   "metadata": {},
   "outputs": [],
   "source": [
    "import tensorflow as tf\n",
    "import numpy as np\n",
    "import matplotlib.pyplot as plt\n",
    "from pathlib import Path\n",
    "import pickle\n",
    "from massimal import hyspec_cnn\n",
    "from datetime import datetime"
   ]
  },
  {
   "cell_type": "code",
   "execution_count": 3,
   "id": "f241172c-8118-49a0-90cf-b83ba8a28881",
   "metadata": {},
   "outputs": [
    {
     "name": "stdout",
     "output_type": "stream",
     "text": [
      "2024-04-30-12h57m56s\n"
     ]
    }
   ],
   "source": [
    "# Create timestamp\n",
    "timestamp = datetime.now().strftime('%Y-%m-%d-%Hh%Mm%Ss')\n",
    "print(timestamp)"
   ]
  },
  {
   "cell_type": "code",
   "execution_count": 4,
   "id": "4c62413f-4f31-4b11-ba95-9acdcb7d5e56",
   "metadata": {},
   "outputs": [],
   "source": [
    "# Paths\n",
    "train_dataset_path = Path('/home/mha114/data/massimal/vega_sola/hyperspec/datasets/pca_images/pca_images_log_rrs_v1/train_val_tiles/vega_sola_log_rrs_pca5_tiles/')\n",
    "test_dataset_path = Path('/home/mha114/data/massimal/vega_sola/hyperspec/datasets/pca_images/pca_images_log_rrs_v1/test_tiles/vega_sola_log_rrs_pca5_tiles')\n",
    "unet_model_save_dir = Path(f'/home/mha114/data/massimal/vega_sola/hyperspec/models/geohab_unet_log_rrs_v1/{timestamp}')\n",
    "unet_model_save_dir.mkdir(exist_ok=True)\n"
   ]
  },
  {
   "cell_type": "code",
   "execution_count": 5,
   "id": "23d203b4-1ef2-4dc5-ba28-233ebe4998ee",
   "metadata": {},
   "outputs": [
    {
     "data": {
      "text/plain": [
       "[PhysicalDevice(name='/physical_device:CPU:0', device_type='CPU'),\n",
       " PhysicalDevice(name='/physical_device:GPU:0', device_type='GPU')]"
      ]
     },
     "execution_count": 5,
     "metadata": {},
     "output_type": "execute_result"
    }
   ],
   "source": [
    "# Check if GPU is used\n",
    "tf.config.get_visible_devices()"
   ]
  },
  {
   "cell_type": "code",
   "execution_count": 6,
   "id": "6dca45d9-843b-4f5c-8b42-3158215c9206",
   "metadata": {},
   "outputs": [],
   "source": [
    "# Parameters\n",
    "OUTPUT_CHANNELS = 9 # Background + 8 grouped classes \n",
    "BATCH_SIZE = 8\n",
    "DEPTH = 3\n",
    "#TRAIN_FRAC = 0.7\n",
    "MAX_EPOCHS = 100\n",
    "INITIAL_LEARNING_RATE = 0.0001#0.0001\n",
    "LEARNING_RATE_FRAC_ON_PLATEAU = 0.2\n",
    "LEARNING_RATE_REDUCTION_PATIENCE = 6\n",
    "EARLY_STOPPING_PATIENCE = 12\n",
    "FIRST_LAYER_CHANNELS = 32"
   ]
  },
  {
   "cell_type": "code",
   "execution_count": 7,
   "id": "1029ebaf-de80-43c8-94d5-d3bf90ff5d2f",
   "metadata": {},
   "outputs": [
    {
     "name": "stdout",
     "output_type": "stream",
     "text": [
      "Number of training tiles: 4526\n",
      "Number of validation tiles: 2502\n"
     ]
    }
   ],
   "source": [
    "# Load dataset \n",
    "train_dataset = tf.data.experimental.load(str(train_dataset_path))\n",
    "test_dataset = tf.data.experimental.load(str(test_dataset_path))\n",
    "\n",
    "print(f'Number of training tiles: {train_dataset.cardinality()}')\n",
    "print(f'Number of validation tiles: {test_dataset.cardinality()}')\n",
    "\n",
    "tile_nrows,tile_ncols,tile_nchannels = train_dataset.element_spec[0].shape.as_list()"
   ]
  },
  {
   "cell_type": "code",
   "execution_count": 8,
   "id": "181f622c-43e4-4fe3-a335-068dd0303489",
   "metadata": {},
   "outputs": [
    {
     "data": {
      "text/plain": [
       "<ShuffleDataset element_spec=(TensorSpec(shape=(128, 128, 5), dtype=tf.float32, name=None), TensorSpec(shape=(128, 128), dtype=tf.uint8, name=None), TensorSpec(shape=(), dtype=tf.string, name=None))>"
      ]
     },
     "execution_count": 8,
     "metadata": {},
     "output_type": "execute_result"
    }
   ],
   "source": [
    "# Shuffle training dataset\n",
    "n_train_tiles = train_dataset.cardinality()\n",
    "train_dataset.shuffle(n_train_tiles)"
   ]
  },
  {
   "cell_type": "code",
   "execution_count": 9,
   "id": "3b84512f-de42-4496-94bc-85636ea131e7",
   "metadata": {},
   "outputs": [],
   "source": [
    "# From https://www.tensorflow.org/tutorials/images/segmentation#optional_imbalanced_classes_and_class_weights\n",
    "def add_sample_weights(image, label, name):\n",
    "    class_weights = tf.constant([0.0, 1.0, 1.0, 1.0, 1.0, 1.0, 1.0, 1.0, 1.0]) # Hard-coded for 8 classes\n",
    "    # class_weights = tf.constant([0.0, 0.89, 1.24, 0.82, 0.65, 1.08, 1.54, 0.77]) # Hard-coded for 7 classes\n",
    "    class_weights = class_weights/tf.reduce_sum(class_weights)\n",
    "\n",
    "    # Create an image of `sample_weights` by using the label at each pixel as an \n",
    "    # index into the `class weights` .\n",
    "    sample_weights = tf.gather(class_weights, indices=tf.cast(label, tf.int32))\n",
    "\n",
    "    return image, label, sample_weights"
   ]
  },
  {
   "cell_type": "code",
   "execution_count": 10,
   "id": "3ffbc490-c580-4983-8c5b-d2961449d881",
   "metadata": {},
   "outputs": [],
   "source": [
    "# Add sample weights\n",
    "train_dataset = train_dataset.map(add_sample_weights)\n",
    "test_dataset = test_dataset.map(add_sample_weights)"
   ]
  },
  {
   "cell_type": "code",
   "execution_count": 11,
   "id": "7cde22a1-02db-473d-98f8-ed00424dc3ab",
   "metadata": {},
   "outputs": [
    {
     "name": "stdout",
     "output_type": "stream",
     "text": [
      "Model: \"model\"\n",
      "__________________________________________________________________________________________________\n",
      " Layer (type)                   Output Shape         Param #     Connected to                     \n",
      "==================================================================================================\n",
      " input_image (InputLayer)       [(None, None, None,  0           []                               \n",
      "                                 5)]                                                              \n",
      "                                                                                                  \n",
      " augmentation (Sequential)      (None, None, None,   0           ['input_image[0][0]']            \n",
      "                                5)                                                                \n",
      "                                                                                                  \n",
      " initial_convolution (Conv2D)   (None, None, None,   1472        ['augmentation[0][0]']           \n",
      "                                32)                                                               \n",
      "                                                                                                  \n",
      " downsamp_res_1/2 (Sequential)  (None, None, None,   33024       ['initial_convolution[0][0]']    \n",
      "                                64)                                                               \n",
      "                                                                                                  \n",
      " downsamp_res_1/4 (Sequential)  (None, None, None,   131584      ['downsamp_res_1/2[0][0]']       \n",
      "                                128)                                                              \n",
      "                                                                                                  \n",
      " downsamp_res_1/8 (Sequential)  (None, None, None,   525312      ['downsamp_res_1/4[0][0]']       \n",
      "                                256)                                                              \n",
      "                                                                                                  \n",
      " upsamp_res_1/4 (Sequential)    (None, None, None,   524800      ['downsamp_res_1/8[0][0]']       \n",
      "                                128)                                                              \n",
      "                                                                                                  \n",
      " skipconnection_res_1/4 (Concat  (None, None, None,   0          ['upsamp_res_1/4[0][0]',         \n",
      " enate)                         256)                              'downsamp_res_1/4[0][0]']       \n",
      "                                                                                                  \n",
      " upsamp_res_1/2 (Sequential)    (None, None, None,   524800      ['skipconnection_res_1/4[0][0]'] \n",
      "                                128)                                                              \n",
      "                                                                                                  \n",
      " skipconnection_res_1/2 (Concat  (None, None, None,   0          ['upsamp_res_1/2[0][0]',         \n",
      " enate)                         192)                              'downsamp_res_1/2[0][0]']       \n",
      "                                                                                                  \n",
      " upsamp_res_1/1 (Sequential)    (None, None, None,   196864      ['skipconnection_res_1/2[0][0]'] \n",
      "                                64)                                                               \n",
      "                                                                                                  \n",
      " skipconnection_res_1/1 (Concat  (None, None, None,   0          ['upsamp_res_1/1[0][0]',         \n",
      " enate)                         96)                               'initial_convolution[0][0]']    \n",
      "                                                                                                  \n",
      " classification (Conv2D)        (None, None, None,   7785        ['skipconnection_res_1/1[0][0]'] \n",
      "                                9)                                                                \n",
      "                                                                                                  \n",
      "==================================================================================================\n",
      "Total params: 1,945,641\n",
      "Trainable params: 1,944,105\n",
      "Non-trainable params: 1,536\n",
      "__________________________________________________________________________________________________\n"
     ]
    }
   ],
   "source": [
    "# Create the U-Net model\n",
    "unet = hyspec_cnn.unet(input_channels=tile_nchannels,\n",
    "                       output_channels=OUTPUT_CHANNELS,\n",
    "                       first_layer_channels=FIRST_LAYER_CHANNELS,\n",
    "                       depth = DEPTH,\n",
    "               )\n",
    "unet.summary()"
   ]
  },
  {
   "cell_type": "code",
   "execution_count": 12,
   "id": "f25f2dac-8cd3-4d37-9f88-df7844767bf2",
   "metadata": {},
   "outputs": [
    {
     "name": "stdout",
     "output_type": "stream",
     "text": [
      "----\n",
      "input_image\n",
      "----\n",
      "augmentation\n",
      "\trandom_flip\n",
      "----\n",
      "initial_convolution\n",
      "----\n",
      "downsamp_res_1/2\n",
      "\tconv2d\n",
      "\tbatch_normalization\n",
      "\tleaky_re_lu\n",
      "----\n",
      "downsamp_res_1/4\n",
      "\tconv2d_1\n",
      "\tbatch_normalization_1\n",
      "\tleaky_re_lu_1\n",
      "----\n",
      "downsamp_res_1/8\n",
      "\tconv2d_2\n",
      "\tbatch_normalization_2\n",
      "\tleaky_re_lu_2\n",
      "----\n",
      "upsamp_res_1/4\n",
      "\tconv2d_transpose\n",
      "\tbatch_normalization_3\n",
      "\tre_lu\n",
      "----\n",
      "skipconnection_res_1/4\n",
      "----\n",
      "upsamp_res_1/2\n",
      "\tconv2d_transpose_1\n",
      "\tbatch_normalization_4\n",
      "\tre_lu_1\n",
      "----\n",
      "skipconnection_res_1/2\n",
      "----\n",
      "upsamp_res_1/1\n",
      "\tconv2d_transpose_2\n",
      "\tbatch_normalization_5\n",
      "\tre_lu_2\n",
      "----\n",
      "skipconnection_res_1/1\n",
      "----\n",
      "classification\n"
     ]
    }
   ],
   "source": [
    "# Print layers with sublayers\n",
    "for layer in unet.layers:\n",
    "    print('----')\n",
    "    print(layer.name)\n",
    "    if hasattr(layer,'layers'):\n",
    "        for l in layer.layers:\n",
    "            print('\\t'+l.name)\n",
    "       # print(layer.layers)"
   ]
  },
  {
   "cell_type": "code",
   "execution_count": 13,
   "id": "bf8261c5-81dd-4564-9959-a9d7abbc0751",
   "metadata": {},
   "outputs": [],
   "source": [
    "# Define callbacks\n",
    "model_save_filename = str(unet_model_save_dir) + '/unet_model.depth' + str(DEPTH) +'.epoch{epoch:02d}-loss{val_loss:.6f}-acc{val_sparse_categorical_accuracy:.3f}.hdf5'\n",
    "callbacks =[tf.keras.callbacks.ModelCheckpoint(filepath = model_save_filename,\n",
    "                                               save_best_only=True,\n",
    "                                               verbose = 1),\n",
    "            tf.keras.callbacks.ReduceLROnPlateau(factor=LEARNING_RATE_FRAC_ON_PLATEAU,\n",
    "                                                 patience=LEARNING_RATE_REDUCTION_PATIENCE,\n",
    "                                                 verbose=1),\n",
    "            tf.keras.callbacks.EarlyStopping(patience=EARLY_STOPPING_PATIENCE,\n",
    "                                             min_delta = 0.001)]"
   ]
  },
  {
   "cell_type": "code",
   "execution_count": 14,
   "id": "a031861d-0ca9-4bf9-896a-cc959c93ca03",
   "metadata": {},
   "outputs": [
    {
     "data": {
      "text/plain": [
       "'/home/mha114/data/massimal/vega_sola/hyperspec/models/geohab_unet_log_rrs_v1/2024-04-30-12h57m56s/unet_model.depth3.epoch{epoch:02d}-loss{val_loss:.6f}-acc{val_sparse_categorical_accuracy:.3f}.hdf5'"
      ]
     },
     "execution_count": 14,
     "metadata": {},
     "output_type": "execute_result"
    }
   ],
   "source": [
    "model_save_filename"
   ]
  },
  {
   "cell_type": "code",
   "execution_count": 15,
   "id": "a6bfa707-4233-4fff-b2b0-891b0a25fb3e",
   "metadata": {},
   "outputs": [],
   "source": [
    "# Compile model\n",
    "unet.compile(optimizer=tf.keras.optimizers.RMSprop(INITIAL_LEARNING_RATE), \n",
    "             loss=\"sparse_categorical_crossentropy\",\n",
    "             weighted_metrics=['sparse_categorical_accuracy'], # Need weights to ignore background\n",
    "             metrics = []) # Sparse because classes are numbered, not one-hot"
   ]
  },
  {
   "cell_type": "code",
   "execution_count": 16,
   "id": "8bf3624c-7173-4d06-850c-e9dd04dd7339",
   "metadata": {},
   "outputs": [
    {
     "name": "stdout",
     "output_type": "stream",
     "text": [
      "Epoch 1/100\n",
      "566/566 [==============================] - ETA: 0s - loss: 0.0928 - sparse_categorical_accuracy: 0.5749\n",
      "Epoch 1: val_loss improved from inf to 0.10531, saving model to /home/mha114/data/massimal/vega_sola/hyperspec/models/geohab_unet_log_rrs_v1/2024-04-30-12h57m56s/unet_model.depth3.epoch01-loss0.105307-acc0.452.hdf5\n",
      "566/566 [==============================] - 14s 21ms/step - loss: 0.0928 - sparse_categorical_accuracy: 0.5749 - val_loss: 0.1053 - val_sparse_categorical_accuracy: 0.4521 - lr: 1.0000e-04\n",
      "Epoch 2/100\n",
      "565/566 [============================>.] - ETA: 0s - loss: 0.0824 - sparse_categorical_accuracy: 0.6212\n",
      "Epoch 2: val_loss improved from 0.10531 to 0.09782, saving model to /home/mha114/data/massimal/vega_sola/hyperspec/models/geohab_unet_log_rrs_v1/2024-04-30-12h57m56s/unet_model.depth3.epoch02-loss0.097824-acc0.519.hdf5\n",
      "566/566 [==============================] - 12s 21ms/step - loss: 0.0823 - sparse_categorical_accuracy: 0.6211 - val_loss: 0.0978 - val_sparse_categorical_accuracy: 0.5191 - lr: 1.0000e-04\n",
      "Epoch 3/100\n",
      "563/566 [============================>.] - ETA: 0s - loss: 0.0761 - sparse_categorical_accuracy: 0.6557\n",
      "Epoch 3: val_loss improved from 0.09782 to 0.09516, saving model to /home/mha114/data/massimal/vega_sola/hyperspec/models/geohab_unet_log_rrs_v1/2024-04-30-12h57m56s/unet_model.depth3.epoch03-loss0.095156-acc0.540.hdf5\n",
      "566/566 [==============================] - 12s 21ms/step - loss: 0.0760 - sparse_categorical_accuracy: 0.6549 - val_loss: 0.0952 - val_sparse_categorical_accuracy: 0.5397 - lr: 1.0000e-04\n",
      "Epoch 4/100\n",
      "565/566 [============================>.] - ETA: 0s - loss: 0.0722 - sparse_categorical_accuracy: 0.6752\n",
      "Epoch 4: val_loss improved from 0.09516 to 0.09205, saving model to /home/mha114/data/massimal/vega_sola/hyperspec/models/geohab_unet_log_rrs_v1/2024-04-30-12h57m56s/unet_model.depth3.epoch04-loss0.092046-acc0.523.hdf5\n",
      "566/566 [==============================] - 12s 21ms/step - loss: 0.0722 - sparse_categorical_accuracy: 0.6750 - val_loss: 0.0920 - val_sparse_categorical_accuracy: 0.5227 - lr: 1.0000e-04\n",
      "Epoch 5/100\n",
      "563/566 [============================>.] - ETA: 0s - loss: 0.0682 - sparse_categorical_accuracy: 0.6965\n",
      "Epoch 5: val_loss did not improve from 0.09205\n",
      "566/566 [==============================] - 12s 21ms/step - loss: 0.0681 - sparse_categorical_accuracy: 0.6957 - val_loss: 0.0932 - val_sparse_categorical_accuracy: 0.4947 - lr: 1.0000e-04\n",
      "Epoch 6/100\n",
      "564/566 [============================>.] - ETA: 0s - loss: 0.0646 - sparse_categorical_accuracy: 0.7105\n",
      "Epoch 6: val_loss did not improve from 0.09205\n",
      "566/566 [==============================] - 12s 21ms/step - loss: 0.0646 - sparse_categorical_accuracy: 0.7100 - val_loss: 0.1043 - val_sparse_categorical_accuracy: 0.4413 - lr: 1.0000e-04\n",
      "Epoch 7/100\n",
      "565/566 [============================>.] - ETA: 0s - loss: 0.0606 - sparse_categorical_accuracy: 0.7334\n",
      "Epoch 7: val_loss did not improve from 0.09205\n",
      "566/566 [==============================] - 12s 21ms/step - loss: 0.0606 - sparse_categorical_accuracy: 0.7331 - val_loss: 0.0941 - val_sparse_categorical_accuracy: 0.5508 - lr: 1.0000e-04\n",
      "Epoch 8/100\n",
      "565/566 [============================>.] - ETA: 0s - loss: 0.0583 - sparse_categorical_accuracy: 0.7410\n",
      "Epoch 8: val_loss did not improve from 0.09205\n",
      "566/566 [==============================] - 12s 21ms/step - loss: 0.0583 - sparse_categorical_accuracy: 0.7409 - val_loss: 0.0930 - val_sparse_categorical_accuracy: 0.5284 - lr: 1.0000e-04\n",
      "Epoch 9/100\n",
      "564/566 [============================>.] - ETA: 0s - loss: 0.0569 - sparse_categorical_accuracy: 0.7496\n",
      "Epoch 9: val_loss did not improve from 0.09205\n",
      "566/566 [==============================] - 12s 21ms/step - loss: 0.0569 - sparse_categorical_accuracy: 0.7491 - val_loss: 0.1018 - val_sparse_categorical_accuracy: 0.4475 - lr: 1.0000e-04\n",
      "Epoch 10/100\n",
      "564/566 [============================>.] - ETA: 0s - loss: 0.0557 - sparse_categorical_accuracy: 0.7550\n",
      "Epoch 10: val_loss did not improve from 0.09205\n",
      "\n",
      "Epoch 10: ReduceLROnPlateau reducing learning rate to 1.9999999494757503e-05.\n",
      "566/566 [==============================] - 12s 21ms/step - loss: 0.0557 - sparse_categorical_accuracy: 0.7545 - val_loss: 0.0955 - val_sparse_categorical_accuracy: 0.4971 - lr: 1.0000e-04\n",
      "Epoch 11/100\n",
      "563/566 [============================>.] - ETA: 0s - loss: 0.0652 - sparse_categorical_accuracy: 0.6967\n",
      "Epoch 11: val_loss improved from 0.09205 to 0.07910, saving model to /home/mha114/data/massimal/vega_sola/hyperspec/models/geohab_unet_log_rrs_v1/2024-04-30-12h57m56s/unet_model.depth3.epoch11-loss0.079096-acc0.581.hdf5\n",
      "566/566 [==============================] - 12s 21ms/step - loss: 0.0652 - sparse_categorical_accuracy: 0.6958 - val_loss: 0.0791 - val_sparse_categorical_accuracy: 0.5807 - lr: 2.0000e-05\n",
      "Epoch 12/100\n",
      "565/566 [============================>.] - ETA: 0s - loss: 0.0591 - sparse_categorical_accuracy: 0.7301\n",
      "Epoch 12: val_loss did not improve from 0.07910\n",
      "566/566 [==============================] - 12s 20ms/step - loss: 0.0590 - sparse_categorical_accuracy: 0.7300 - val_loss: 0.0797 - val_sparse_categorical_accuracy: 0.5723 - lr: 2.0000e-05\n",
      "Epoch 13/100\n",
      "564/566 [============================>.] - ETA: 0s - loss: 0.0562 - sparse_categorical_accuracy: 0.7450\n",
      "Epoch 13: val_loss did not improve from 0.07910\n",
      "566/566 [==============================] - 12s 21ms/step - loss: 0.0561 - sparse_categorical_accuracy: 0.7445 - val_loss: 0.0820 - val_sparse_categorical_accuracy: 0.5611 - lr: 2.0000e-05\n",
      "Epoch 14/100\n",
      "564/566 [============================>.] - ETA: 0s - loss: 0.0545 - sparse_categorical_accuracy: 0.7543\n",
      "Epoch 14: val_loss did not improve from 0.07910\n",
      "566/566 [==============================] - 12s 20ms/step - loss: 0.0545 - sparse_categorical_accuracy: 0.7538 - val_loss: 0.0835 - val_sparse_categorical_accuracy: 0.5478 - lr: 2.0000e-05\n",
      "Epoch 15/100\n",
      "563/566 [============================>.] - ETA: 0s - loss: 0.0528 - sparse_categorical_accuracy: 0.7637\n",
      "Epoch 15: val_loss did not improve from 0.07910\n",
      "566/566 [==============================] - 12s 21ms/step - loss: 0.0529 - sparse_categorical_accuracy: 0.7627 - val_loss: 0.0822 - val_sparse_categorical_accuracy: 0.5604 - lr: 2.0000e-05\n",
      "Epoch 16/100\n",
      "563/566 [============================>.] - ETA: 0s - loss: 0.0517 - sparse_categorical_accuracy: 0.7693\n",
      "Epoch 16: val_loss did not improve from 0.07910\n",
      "566/566 [==============================] - 12s 20ms/step - loss: 0.0517 - sparse_categorical_accuracy: 0.7684 - val_loss: 0.0796 - val_sparse_categorical_accuracy: 0.5665 - lr: 2.0000e-05\n",
      "Epoch 17/100\n",
      "564/566 [============================>.] - ETA: 0s - loss: 0.0510 - sparse_categorical_accuracy: 0.7736\n",
      "Epoch 17: val_loss did not improve from 0.07910\n",
      "\n",
      "Epoch 17: ReduceLROnPlateau reducing learning rate to 3.999999898951501e-06.\n",
      "566/566 [==============================] - 12s 20ms/step - loss: 0.0510 - sparse_categorical_accuracy: 0.7731 - val_loss: 0.0816 - val_sparse_categorical_accuracy: 0.5661 - lr: 2.0000e-05\n",
      "Epoch 18/100\n",
      "565/566 [============================>.] - ETA: 0s - loss: 0.0591 - sparse_categorical_accuracy: 0.7229\n",
      "Epoch 18: val_loss improved from 0.07910 to 0.07630, saving model to /home/mha114/data/massimal/vega_sola/hyperspec/models/geohab_unet_log_rrs_v1/2024-04-30-12h57m56s/unet_model.depth3.epoch18-loss0.076303-acc0.587.hdf5\n",
      "566/566 [==============================] - 12s 21ms/step - loss: 0.0591 - sparse_categorical_accuracy: 0.7226 - val_loss: 0.0763 - val_sparse_categorical_accuracy: 0.5875 - lr: 4.0000e-06\n",
      "Epoch 19/100\n",
      "564/566 [============================>.] - ETA: 0s - loss: 0.0545 - sparse_categorical_accuracy: 0.7466\n",
      "Epoch 19: val_loss improved from 0.07630 to 0.07573, saving model to /home/mha114/data/massimal/vega_sola/hyperspec/models/geohab_unet_log_rrs_v1/2024-04-30-12h57m56s/unet_model.depth3.epoch19-loss0.075733-acc0.588.hdf5\n",
      "566/566 [==============================] - 12s 21ms/step - loss: 0.0545 - sparse_categorical_accuracy: 0.7462 - val_loss: 0.0757 - val_sparse_categorical_accuracy: 0.5884 - lr: 4.0000e-06\n",
      "Epoch 20/100\n",
      "564/566 [============================>.] - ETA: 0s - loss: 0.0530 - sparse_categorical_accuracy: 0.7556\n",
      "Epoch 20: val_loss did not improve from 0.07573\n",
      "566/566 [==============================] - 12s 20ms/step - loss: 0.0530 - sparse_categorical_accuracy: 0.7550 - val_loss: 0.0760 - val_sparse_categorical_accuracy: 0.5903 - lr: 4.0000e-06\n",
      "Epoch 21/100\n",
      "564/566 [============================>.] - ETA: 0s - loss: 0.0524 - sparse_categorical_accuracy: 0.7570\n",
      "Epoch 21: val_loss did not improve from 0.07573\n",
      "566/566 [==============================] - 12s 21ms/step - loss: 0.0524 - sparse_categorical_accuracy: 0.7565 - val_loss: 0.0759 - val_sparse_categorical_accuracy: 0.5929 - lr: 4.0000e-06\n",
      "Epoch 22/100\n",
      "563/566 [============================>.] - ETA: 0s - loss: 0.0521 - sparse_categorical_accuracy: 0.7606\n",
      "Epoch 22: val_loss improved from 0.07573 to 0.07558, saving model to /home/mha114/data/massimal/vega_sola/hyperspec/models/geohab_unet_log_rrs_v1/2024-04-30-12h57m56s/unet_model.depth3.epoch22-loss0.075576-acc0.597.hdf5\n",
      "566/566 [==============================] - 12s 20ms/step - loss: 0.0522 - sparse_categorical_accuracy: 0.7597 - val_loss: 0.0756 - val_sparse_categorical_accuracy: 0.5968 - lr: 4.0000e-06\n",
      "Epoch 23/100\n",
      "565/566 [============================>.] - ETA: 0s - loss: 0.0516 - sparse_categorical_accuracy: 0.7631\n",
      "Epoch 23: val_loss did not improve from 0.07558\n",
      "566/566 [==============================] - 12s 21ms/step - loss: 0.0516 - sparse_categorical_accuracy: 0.7629 - val_loss: 0.0758 - val_sparse_categorical_accuracy: 0.5947 - lr: 4.0000e-06\n",
      "Epoch 24/100\n",
      "563/566 [============================>.] - ETA: 0s - loss: 0.0510 - sparse_categorical_accuracy: 0.7660\n",
      "Epoch 24: val_loss did not improve from 0.07558\n",
      "566/566 [==============================] - 12s 21ms/step - loss: 0.0511 - sparse_categorical_accuracy: 0.7650 - val_loss: 0.0770 - val_sparse_categorical_accuracy: 0.5844 - lr: 4.0000e-06\n",
      "Epoch 25/100\n",
      "563/566 [============================>.] - ETA: 0s - loss: 0.0510 - sparse_categorical_accuracy: 0.7672\n",
      "Epoch 25: val_loss did not improve from 0.07558\n",
      "566/566 [==============================] - 12s 21ms/step - loss: 0.0511 - sparse_categorical_accuracy: 0.7662 - val_loss: 0.0765 - val_sparse_categorical_accuracy: 0.5884 - lr: 4.0000e-06\n",
      "Epoch 26/100\n",
      "564/566 [============================>.] - ETA: 0s - loss: 0.0509 - sparse_categorical_accuracy: 0.7682\n",
      "Epoch 26: val_loss did not improve from 0.07558\n",
      "566/566 [==============================] - 12s 20ms/step - loss: 0.0509 - sparse_categorical_accuracy: 0.7677 - val_loss: 0.0765 - val_sparse_categorical_accuracy: 0.5870 - lr: 4.0000e-06\n",
      "Epoch 27/100\n",
      "565/566 [============================>.] - ETA: 0s - loss: 0.0506 - sparse_categorical_accuracy: 0.7679\n",
      "Epoch 27: val_loss did not improve from 0.07558\n",
      "566/566 [==============================] - 12s 20ms/step - loss: 0.0507 - sparse_categorical_accuracy: 0.7676 - val_loss: 0.0771 - val_sparse_categorical_accuracy: 0.5855 - lr: 4.0000e-06\n",
      "Epoch 28/100\n",
      "566/566 [==============================] - ETA: 0s - loss: 0.0496 - sparse_categorical_accuracy: 0.7739\n",
      "Epoch 28: val_loss did not improve from 0.07558\n",
      "\n",
      "Epoch 28: ReduceLROnPlateau reducing learning rate to 7.999999979801942e-07.\n",
      "566/566 [==============================] - 12s 21ms/step - loss: 0.0496 - sparse_categorical_accuracy: 0.7739 - val_loss: 0.0756 - val_sparse_categorical_accuracy: 0.5935 - lr: 4.0000e-06\n",
      "Epoch 29/100\n",
      "565/566 [============================>.] - ETA: 0s - loss: 0.0524 - sparse_categorical_accuracy: 0.7574\n",
      "Epoch 29: val_loss did not improve from 0.07558\n",
      "566/566 [==============================] - 12s 20ms/step - loss: 0.0524 - sparse_categorical_accuracy: 0.7572 - val_loss: 0.0759 - val_sparse_categorical_accuracy: 0.5920 - lr: 8.0000e-07\n",
      "Epoch 30/100\n",
      "563/566 [============================>.] - ETA: 0s - loss: 0.0509 - sparse_categorical_accuracy: 0.7680\n",
      "Epoch 30: val_loss did not improve from 0.07558\n",
      "566/566 [==============================] - 12s 20ms/step - loss: 0.0509 - sparse_categorical_accuracy: 0.7670 - val_loss: 0.0758 - val_sparse_categorical_accuracy: 0.5969 - lr: 8.0000e-07\n"
     ]
    }
   ],
   "source": [
    "# Fit model to dataset\n",
    "history = unet.fit(train_dataset.batch(BATCH_SIZE),\n",
    "                   epochs=MAX_EPOCHS,\n",
    "                   validation_data=test_dataset.batch(BATCH_SIZE),\n",
    "                   callbacks=callbacks)\n",
    "# history = unet.fit(train_dataset.batch(BATCH_SIZE),\n",
    "#                    epochs=MAX_EPOCHS)"
   ]
  },
  {
   "cell_type": "code",
   "execution_count": 17,
   "id": "a0031e90-e097-443f-abd5-29dd979d12c5",
   "metadata": {},
   "outputs": [
    {
     "data": {
      "image/png": "[encoded data removed]",
      "text/plain": [
       "<Figure size 640x480 with 1 Axes>"
      ]
     },
     "metadata": {},
     "output_type": "display_data"
    }
   ],
   "source": [
    "# Plot training history\n",
    "plt.plot(history.history['loss'],label='loss')\n",
    "plt.plot(history.history['val_loss'],label='val_loss')\n",
    "plt.plot(history.history['sparse_categorical_accuracy'],label='acc')\n",
    "plt.plot(history.history['val_sparse_categorical_accuracy'],label='val_acc')\n",
    "plt.xlabel('Epoch')\n",
    "plt.title(f'Depth={DEPTH}, initial LR={INITIAL_LEARNING_RATE}')\n",
    "plt.legend()\n",
    "plt.savefig(unet_model_save_dir / 'unet_training_history.png')\n",
    "plt.show()"
   ]
  },
  {
   "cell_type": "code",
   "execution_count": null,
   "id": "d95e162c-4b01-4b8c-8422-c811ed7ab48b",
   "metadata": {},
   "outputs": [],
   "source": []
  }
 ],
 "metadata": {
  "kernelspec": {
   "display_name": "Python (massimal)",
   "language": "python",
   "name": "massimal"
  },
  "language_info": {
   "codemirror_mode": {
    "name": "ipython",
    "version": 3
   },
   "file_extension": ".py",
   "mimetype": "text/x-python",
   "name": "python",
   "nbconvert_exporter": "python",
   "pygments_lexer": "ipython3",
   "version": "3.10.5"
  }
 },
 "nbformat": 4,
 "nbformat_minor": 5
}
