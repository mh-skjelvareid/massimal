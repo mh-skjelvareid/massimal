{
 "cells": [
  {
   "cell_type": "code",
   "execution_count": 1,
   "id": "d2e6c88d-6c59-40ad-9af8-4033f359c73c",
   "metadata": {},
   "outputs": [],
   "source": [
    "# Disable TensorFlow debugging info and warnings\n",
    "import os\n",
    "os.environ['TF_CPP_MIN_LOG_LEVEL'] = '2'  # 2: Info and warnings not displayed "
   ]
  },
  {
   "cell_type": "code",
   "execution_count": 2,
   "id": "ddcc8d6c-ead5-4ea6-a25a-078796d15f26",
   "metadata": {},
   "outputs": [],
   "source": [
    "import tensorflow as tf\n",
    "import numpy as np\n",
    "import matplotlib.pyplot as plt\n",
    "from pathlib import Path\n",
    "import pickle\n",
    "from massimal import hyspec_cnn\n",
    "from datetime import datetime"
   ]
  },
  {
   "cell_type": "code",
   "execution_count": 3,
   "id": "66b1ea0e-8c1e-48b1-8dee-c4d899e1bb8e",
   "metadata": {},
   "outputs": [
    {
     "name": "stdout",
     "output_type": "stream",
     "text": [
      "2024-04-30-14h00m57s\n"
     ]
    }
   ],
   "source": [
    "# Create timestamp\n",
    "timestamp = datetime.now().strftime('%Y-%m-%d-%Hh%Mm%Ss')\n",
    "print(timestamp)"
   ]
  },
  {
   "cell_type": "code",
   "execution_count": 4,
   "id": "0ddfc5a7-5a11-47de-8dba-c15c2de320e6",
   "metadata": {},
   "outputs": [],
   "source": [
    "# Paths\n",
    "train_dataset_path = Path('/home/mha114/data/massimal/vega_sola/hyperspec/datasets/pca_images/pca_images_log_rrs_v1/train_val_tiles/vega_sola_log_rrs_pca5_tiles/')\n",
    "test_dataset_path = Path('/home/mha114/data/massimal/vega_sola/hyperspec/datasets/pca_images/pca_images_log_rrs_v1/test_tiles/vega_sola_log_rrs_pca5_tiles')\n",
    "unet_model_save_dir = Path(f'/home/mha114/data/massimal/vega_sola/hyperspec/models/geohab_unet_log_rrs_v1/{timestamp}')\n",
    "unet_model_save_dir.mkdir(exist_ok=True)\n"
   ]
  },
  {
   "cell_type": "code",
   "execution_count": 5,
   "id": "aa7f5f11-0000-49e0-821d-46e70b740f68",
   "metadata": {},
   "outputs": [
    {
     "data": {
      "text/plain": [
       "[PhysicalDevice(name='/physical_device:CPU:0', device_type='CPU'),\n",
       " PhysicalDevice(name='/physical_device:GPU:0', device_type='GPU')]"
      ]
     },
     "execution_count": 5,
     "metadata": {},
     "output_type": "execute_result"
    }
   ],
   "source": [
    "# Check if GPU is used\n",
    "tf.config.get_visible_devices()"
   ]
  },
  {
   "cell_type": "code",
   "execution_count": 6,
   "id": "d905edb8-a956-4350-a3d8-8273d46da7c6",
   "metadata": {},
   "outputs": [],
   "source": [
    "# Parameters\n",
    "OUTPUT_CHANNELS = 9 # Background + 8 grouped classes \n",
    "BATCH_SIZE = 32\n",
    "DEPTH = 4\n",
    "#TRAIN_FRAC = 0.7\n",
    "MAX_EPOCHS = 100\n",
    "INITIAL_LEARNING_RATE = 0.0001#0.0001\n",
    "LEARNING_RATE_FRAC_ON_PLATEAU = 0.2\n",
    "LEARNING_RATE_REDUCTION_PATIENCE = 6\n",
    "EARLY_STOPPING_PATIENCE = 12\n",
    "FIRST_LAYER_CHANNELS = 32"
   ]
  },
  {
   "cell_type": "code",
   "execution_count": 7,
   "id": "619f5a2b-0647-450d-b851-74b46bcd24c9",
   "metadata": {},
   "outputs": [
    {
     "name": "stdout",
     "output_type": "stream",
     "text": [
      "Number of training tiles: 4526\n",
      "Number of validation tiles: 2502\n"
     ]
    }
   ],
   "source": [
    "# Load dataset \n",
    "train_dataset = tf.data.experimental.load(str(train_dataset_path))\n",
    "test_dataset = tf.data.experimental.load(str(test_dataset_path))\n",
    "\n",
    "print(f'Number of training tiles: {train_dataset.cardinality()}')\n",
    "print(f'Number of validation tiles: {test_dataset.cardinality()}')\n",
    "\n",
    "tile_nrows,tile_ncols,tile_nchannels = train_dataset.element_spec[0].shape.as_list()"
   ]
  },
  {
   "cell_type": "code",
   "execution_count": 8,
   "id": "9f92f266-bdea-4771-90c1-4f8220844f74",
   "metadata": {},
   "outputs": [
    {
     "data": {
      "text/plain": [
       "<ShuffleDataset element_spec=(TensorSpec(shape=(128, 128, 5), dtype=tf.float32, name=None), TensorSpec(shape=(128, 128), dtype=tf.uint8, name=None), TensorSpec(shape=(), dtype=tf.string, name=None))>"
      ]
     },
     "execution_count": 8,
     "metadata": {},
     "output_type": "execute_result"
    }
   ],
   "source": [
    "# Shuffle training dataset\n",
    "n_train_tiles = train_dataset.cardinality()\n",
    "train_dataset.shuffle(n_train_tiles)"
   ]
  },
  {
   "cell_type": "code",
   "execution_count": 9,
   "id": "4be77fab-ad65-4c7d-a88b-f74252087d17",
   "metadata": {},
   "outputs": [],
   "source": [
    "# From https://www.tensorflow.org/tutorials/images/segmentation#optional_imbalanced_classes_and_class_weights\n",
    "def add_sample_weights(image, label, name):\n",
    "    class_weights = tf.constant([0.0, 1.0, 1.0, 1.0, 1.0, 1.0, 1.0, 1.0, 1.0]) # Hard-coded for 8 classes\n",
    "    # class_weights = tf.constant([0.0, 0.89, 1.24, 0.82, 0.65, 1.08, 1.54, 0.77]) # Hard-coded for 7 classes\n",
    "    class_weights = class_weights/tf.reduce_sum(class_weights)\n",
    "\n",
    "    # Create an image of `sample_weights` by using the label at each pixel as an \n",
    "    # index into the `class weights` .\n",
    "    sample_weights = tf.gather(class_weights, indices=tf.cast(label, tf.int32))\n",
    "\n",
    "    return image, label, sample_weights"
   ]
  },
  {
   "cell_type": "code",
   "execution_count": 10,
   "id": "3d37ac27-0c57-4c04-af1f-6fc13df8c54c",
   "metadata": {},
   "outputs": [],
   "source": [
    "# Add sample weights\n",
    "train_dataset = train_dataset.map(add_sample_weights)\n",
    "test_dataset = test_dataset.map(add_sample_weights)"
   ]
  },
  {
   "cell_type": "code",
   "execution_count": 11,
   "id": "e2d646a8-e947-4cb8-ab18-dd5b4176723d",
   "metadata": {},
   "outputs": [
    {
     "name": "stdout",
     "output_type": "stream",
     "text": [
      "Model: \"model\"\n",
      "__________________________________________________________________________________________________\n",
      " Layer (type)                   Output Shape         Param #     Connected to                     \n",
      "==================================================================================================\n",
      " input_image (InputLayer)       [(None, None, None,  0           []                               \n",
      "                                 5)]                                                              \n",
      "                                                                                                  \n",
      " augmentation (Sequential)      (None, None, None,   0           ['input_image[0][0]']            \n",
      "                                5)                                                                \n",
      "                                                                                                  \n",
      " initial_convolution (Conv2D)   (None, None, None,   1472        ['augmentation[0][0]']           \n",
      "                                32)                                                               \n",
      "                                                                                                  \n",
      " downsamp_res_1/2 (Sequential)  (None, None, None,   33024       ['initial_convolution[0][0]']    \n",
      "                                64)                                                               \n",
      "                                                                                                  \n",
      " downsamp_res_1/4 (Sequential)  (None, None, None,   131584      ['downsamp_res_1/2[0][0]']       \n",
      "                                128)                                                              \n",
      "                                                                                                  \n",
      " downsamp_res_1/8 (Sequential)  (None, None, None,   525312      ['downsamp_res_1/4[0][0]']       \n",
      "                                256)                                                              \n",
      "                                                                                                  \n",
      " downsamp_res_1/16 (Sequential)  (None, None, None,   2099200    ['downsamp_res_1/8[0][0]']       \n",
      "                                512)                                                              \n",
      "                                                                                                  \n",
      " upsamp_res_1/8 (Sequential)    (None, None, None,   2098176     ['downsamp_res_1/16[0][0]']      \n",
      "                                256)                                                              \n",
      "                                                                                                  \n",
      " skipconnection_res_1/8 (Concat  (None, None, None,   0          ['upsamp_res_1/8[0][0]',         \n",
      " enate)                         512)                              'downsamp_res_1/8[0][0]']       \n",
      "                                                                                                  \n",
      " upsamp_res_1/4 (Sequential)    (None, None, None,   2098176     ['skipconnection_res_1/8[0][0]'] \n",
      "                                256)                                                              \n",
      "                                                                                                  \n",
      " skipconnection_res_1/4 (Concat  (None, None, None,   0          ['upsamp_res_1/4[0][0]',         \n",
      " enate)                         384)                              'downsamp_res_1/4[0][0]']       \n",
      "                                                                                                  \n",
      " upsamp_res_1/2 (Sequential)    (None, None, None,   786944      ['skipconnection_res_1/4[0][0]'] \n",
      "                                128)                                                              \n",
      "                                                                                                  \n",
      " skipconnection_res_1/2 (Concat  (None, None, None,   0          ['upsamp_res_1/2[0][0]',         \n",
      " enate)                         192)                              'downsamp_res_1/2[0][0]']       \n",
      "                                                                                                  \n",
      " upsamp_res_1/1 (Sequential)    (None, None, None,   196864      ['skipconnection_res_1/2[0][0]'] \n",
      "                                64)                                                               \n",
      "                                                                                                  \n",
      " skipconnection_res_1/1 (Concat  (None, None, None,   0          ['upsamp_res_1/1[0][0]',         \n",
      " enate)                         96)                               'initial_convolution[0][0]']    \n",
      "                                                                                                  \n",
      " classification (Conv2D)        (None, None, None,   7785        ['skipconnection_res_1/1[0][0]'] \n",
      "                                9)                                                                \n",
      "                                                                                                  \n",
      "==================================================================================================\n",
      "Total params: 7,978,537\n",
      "Trainable params: 7,975,209\n",
      "Non-trainable params: 3,328\n",
      "__________________________________________________________________________________________________\n"
     ]
    }
   ],
   "source": [
    "# Create the U-Net model\n",
    "unet = hyspec_cnn.unet(input_channels=tile_nchannels,\n",
    "                       output_channels=OUTPUT_CHANNELS,\n",
    "                       first_layer_channels=FIRST_LAYER_CHANNELS,\n",
    "                       depth = DEPTH,\n",
    "               )\n",
    "unet.summary()"
   ]
  },
  {
   "cell_type": "code",
   "execution_count": 12,
   "id": "72f411d3-2b72-4c22-9b4d-2f9f9c0f0550",
   "metadata": {},
   "outputs": [
    {
     "name": "stdout",
     "output_type": "stream",
     "text": [
      "----\n",
      "input_image\n",
      "----\n",
      "augmentation\n",
      "\trandom_flip\n",
      "----\n",
      "initial_convolution\n",
      "----\n",
      "downsamp_res_1/2\n",
      "\tconv2d\n",
      "\tbatch_normalization\n",
      "\tleaky_re_lu\n",
      "----\n",
      "downsamp_res_1/4\n",
      "\tconv2d_1\n",
      "\tbatch_normalization_1\n",
      "\tleaky_re_lu_1\n",
      "----\n",
      "downsamp_res_1/8\n",
      "\tconv2d_2\n",
      "\tbatch_normalization_2\n",
      "\tleaky_re_lu_2\n",
      "----\n",
      "downsamp_res_1/16\n",
      "\tconv2d_3\n",
      "\tbatch_normalization_3\n",
      "\tleaky_re_lu_3\n",
      "----\n",
      "upsamp_res_1/8\n",
      "\tconv2d_transpose\n",
      "\tbatch_normalization_4\n",
      "\tre_lu\n",
      "----\n",
      "skipconnection_res_1/8\n",
      "----\n",
      "upsamp_res_1/4\n",
      "\tconv2d_transpose_1\n",
      "\tbatch_normalization_5\n",
      "\tre_lu_1\n",
      "----\n",
      "skipconnection_res_1/4\n",
      "----\n",
      "upsamp_res_1/2\n",
      "\tconv2d_transpose_2\n",
      "\tbatch_normalization_6\n",
      "\tre_lu_2\n",
      "----\n",
      "skipconnection_res_1/2\n",
      "----\n",
      "upsamp_res_1/1\n",
      "\tconv2d_transpose_3\n",
      "\tbatch_normalization_7\n",
      "\tre_lu_3\n",
      "----\n",
      "skipconnection_res_1/1\n",
      "----\n",
      "classification\n"
     ]
    }
   ],
   "source": [
    "# Print layers with sublayers\n",
    "for layer in unet.layers:\n",
    "    print('----')\n",
    "    print(layer.name)\n",
    "    if hasattr(layer,'layers'):\n",
    "        for l in layer.layers:\n",
    "            print('\\t'+l.name)\n",
    "       # print(layer.layers)"
   ]
  },
  {
   "cell_type": "code",
   "execution_count": 13,
   "id": "b0147c38-a7ef-4bde-b6c6-ee165f31ab5e",
   "metadata": {},
   "outputs": [],
   "source": [
    "# Define callbacks\n",
    "model_save_filename = str(unet_model_save_dir) + '/unet_model.depth' + str(DEPTH) +'.epoch{epoch:02d}-loss{val_loss:.6f}-acc{val_sparse_categorical_accuracy:.3f}.hdf5'\n",
    "callbacks =[tf.keras.callbacks.ModelCheckpoint(filepath = model_save_filename,\n",
    "                                               save_best_only=True,\n",
    "                                               verbose = 1),\n",
    "            tf.keras.callbacks.ReduceLROnPlateau(factor=LEARNING_RATE_FRAC_ON_PLATEAU,\n",
    "                                                 patience=LEARNING_RATE_REDUCTION_PATIENCE,\n",
    "                                                 verbose=1),\n",
    "            tf.keras.callbacks.EarlyStopping(patience=EARLY_STOPPING_PATIENCE,\n",
    "                                             min_delta = 0.001)]"
   ]
  },
  {
   "cell_type": "code",
   "execution_count": 14,
   "id": "f2ce0de3-a60a-4eb6-9ec8-6da494deed83",
   "metadata": {},
   "outputs": [
    {
     "data": {
      "text/plain": [
       "'/home/mha114/data/massimal/vega_sola/hyperspec/models/geohab_unet_log_rrs_v1/2024-04-30-14h00m57s/unet_model.depth4.epoch{epoch:02d}-loss{val_loss:.6f}-acc{val_sparse_categorical_accuracy:.3f}.hdf5'"
      ]
     },
     "execution_count": 14,
     "metadata": {},
     "output_type": "execute_result"
    }
   ],
   "source": [
    "model_save_filename"
   ]
  },
  {
   "cell_type": "code",
   "execution_count": 15,
   "id": "02b4c552-a820-4d08-8892-837b3bcfd882",
   "metadata": {},
   "outputs": [],
   "source": [
    "# Compile model\n",
    "unet.compile(optimizer=tf.keras.optimizers.RMSprop(INITIAL_LEARNING_RATE), \n",
    "             loss=\"sparse_categorical_crossentropy\",\n",
    "             weighted_metrics=['sparse_categorical_accuracy'], # Need weights to ignore background\n",
    "             metrics = []) # Sparse because classes are numbered, not one-hot"
   ]
  },
  {
   "cell_type": "code",
   "execution_count": 16,
   "id": "78977c00-4503-4bdd-adc2-be2c168fdb9b",
   "metadata": {},
   "outputs": [
    {
     "name": "stdout",
     "output_type": "stream",
     "text": [
      "Epoch 1/100\n",
      "142/142 [==============================] - ETA: 0s - loss: 0.1130 - sparse_categorical_accuracy: 0.4600\n",
      "Epoch 1: val_loss improved from inf to 0.10237, saving model to /home/mha114/data/massimal/vega_sola/hyperspec/models/geohab_unet_log_rrs_v1/2024-04-30-14h00m57s/unet_model.depth4.epoch01-loss0.102374-acc0.447.hdf5\n",
      "142/142 [==============================] - 16s 94ms/step - loss: 0.1130 - sparse_categorical_accuracy: 0.4600 - val_loss: 0.1024 - val_sparse_categorical_accuracy: 0.4474 - lr: 1.0000e-04\n",
      "Epoch 2/100\n",
      "141/142 [============================>.] - ETA: 0s - loss: 0.0958 - sparse_categorical_accuracy: 0.5368\n",
      "Epoch 2: val_loss improved from 0.10237 to 0.09246, saving model to /home/mha114/data/massimal/vega_sola/hyperspec/models/geohab_unet_log_rrs_v1/2024-04-30-14h00m57s/unet_model.depth4.epoch02-loss0.092455-acc0.479.hdf5\n",
      "142/142 [==============================] - 13s 88ms/step - loss: 0.0957 - sparse_categorical_accuracy: 0.5363 - val_loss: 0.0925 - val_sparse_categorical_accuracy: 0.4790 - lr: 1.0000e-04\n",
      "Epoch 3/100\n",
      "141/142 [============================>.] - ETA: 0s - loss: 0.0892 - sparse_categorical_accuracy: 0.5694\n",
      "Epoch 3: val_loss improved from 0.09246 to 0.08350, saving model to /home/mha114/data/massimal/vega_sola/hyperspec/models/geohab_unet_log_rrs_v1/2024-04-30-14h00m57s/unet_model.depth4.epoch03-loss0.083501-acc0.513.hdf5\n",
      "142/142 [==============================] - 13s 88ms/step - loss: 0.0891 - sparse_categorical_accuracy: 0.5689 - val_loss: 0.0835 - val_sparse_categorical_accuracy: 0.5131 - lr: 1.0000e-04\n",
      "Epoch 4/100\n",
      "141/142 [============================>.] - ETA: 0s - loss: 0.0855 - sparse_categorical_accuracy: 0.5901\n",
      "Epoch 4: val_loss improved from 0.08350 to 0.08307, saving model to /home/mha114/data/massimal/vega_sola/hyperspec/models/geohab_unet_log_rrs_v1/2024-04-30-14h00m57s/unet_model.depth4.epoch04-loss0.083067-acc0.521.hdf5\n",
      "142/142 [==============================] - 13s 88ms/step - loss: 0.0854 - sparse_categorical_accuracy: 0.5896 - val_loss: 0.0831 - val_sparse_categorical_accuracy: 0.5210 - lr: 1.0000e-04\n",
      "Epoch 5/100\n",
      "141/142 [============================>.] - ETA: 0s - loss: 0.0823 - sparse_categorical_accuracy: 0.6126\n",
      "Epoch 5: val_loss improved from 0.08307 to 0.08063, saving model to /home/mha114/data/massimal/vega_sola/hyperspec/models/geohab_unet_log_rrs_v1/2024-04-30-14h00m57s/unet_model.depth4.epoch05-loss0.080627-acc0.536.hdf5\n",
      "142/142 [==============================] - 12s 88ms/step - loss: 0.0823 - sparse_categorical_accuracy: 0.6120 - val_loss: 0.0806 - val_sparse_categorical_accuracy: 0.5359 - lr: 1.0000e-04\n",
      "Epoch 6/100\n",
      "141/142 [============================>.] - ETA: 0s - loss: 0.0787 - sparse_categorical_accuracy: 0.6299\n",
      "Epoch 6: val_loss improved from 0.08063 to 0.07855, saving model to /home/mha114/data/massimal/vega_sola/hyperspec/models/geohab_unet_log_rrs_v1/2024-04-30-14h00m57s/unet_model.depth4.epoch06-loss0.078546-acc0.568.hdf5\n",
      "142/142 [==============================] - 12s 88ms/step - loss: 0.0786 - sparse_categorical_accuracy: 0.6294 - val_loss: 0.0785 - val_sparse_categorical_accuracy: 0.5676 - lr: 1.0000e-04\n",
      "Epoch 7/100\n",
      "141/142 [============================>.] - ETA: 0s - loss: 0.0762 - sparse_categorical_accuracy: 0.6430\n",
      "Epoch 7: val_loss improved from 0.07855 to 0.07554, saving model to /home/mha114/data/massimal/vega_sola/hyperspec/models/geohab_unet_log_rrs_v1/2024-04-30-14h00m57s/unet_model.depth4.epoch07-loss0.075539-acc0.585.hdf5\n",
      "142/142 [==============================] - 12s 88ms/step - loss: 0.0762 - sparse_categorical_accuracy: 0.6426 - val_loss: 0.0755 - val_sparse_categorical_accuracy: 0.5847 - lr: 1.0000e-04\n",
      "Epoch 8/100\n",
      "141/142 [============================>.] - ETA: 0s - loss: 0.0730 - sparse_categorical_accuracy: 0.6619\n",
      "Epoch 8: val_loss did not improve from 0.07554\n",
      "142/142 [==============================] - 12s 87ms/step - loss: 0.0729 - sparse_categorical_accuracy: 0.6615 - val_loss: 0.0777 - val_sparse_categorical_accuracy: 0.5752 - lr: 1.0000e-04\n",
      "Epoch 9/100\n",
      "141/142 [============================>.] - ETA: 0s - loss: 0.0716 - sparse_categorical_accuracy: 0.6698\n",
      "Epoch 9: val_loss did not improve from 0.07554\n",
      "142/142 [==============================] - 12s 87ms/step - loss: 0.0715 - sparse_categorical_accuracy: 0.6694 - val_loss: 0.0767 - val_sparse_categorical_accuracy: 0.5812 - lr: 1.0000e-04\n",
      "Epoch 10/100\n",
      "141/142 [============================>.] - ETA: 0s - loss: 0.0684 - sparse_categorical_accuracy: 0.6863\n",
      "Epoch 10: val_loss did not improve from 0.07554\n",
      "142/142 [==============================] - 12s 87ms/step - loss: 0.0684 - sparse_categorical_accuracy: 0.6859 - val_loss: 0.0766 - val_sparse_categorical_accuracy: 0.5748 - lr: 1.0000e-04\n",
      "Epoch 11/100\n",
      "141/142 [============================>.] - ETA: 0s - loss: 0.0672 - sparse_categorical_accuracy: 0.6959\n",
      "Epoch 11: val_loss did not improve from 0.07554\n",
      "142/142 [==============================] - 12s 87ms/step - loss: 0.0671 - sparse_categorical_accuracy: 0.6954 - val_loss: 0.0776 - val_sparse_categorical_accuracy: 0.5729 - lr: 1.0000e-04\n",
      "Epoch 12/100\n",
      "141/142 [============================>.] - ETA: 0s - loss: 0.0650 - sparse_categorical_accuracy: 0.7071\n",
      "Epoch 12: val_loss did not improve from 0.07554\n",
      "142/142 [==============================] - 12s 87ms/step - loss: 0.0650 - sparse_categorical_accuracy: 0.7066 - val_loss: 0.0791 - val_sparse_categorical_accuracy: 0.5775 - lr: 1.0000e-04\n",
      "Epoch 13/100\n",
      "141/142 [============================>.] - ETA: 0s - loss: 0.0630 - sparse_categorical_accuracy: 0.7187\n",
      "Epoch 13: val_loss did not improve from 0.07554\n",
      "\n",
      "Epoch 13: ReduceLROnPlateau reducing learning rate to 1.9999999494757503e-05.\n",
      "142/142 [==============================] - 12s 87ms/step - loss: 0.0630 - sparse_categorical_accuracy: 0.7182 - val_loss: 0.0785 - val_sparse_categorical_accuracy: 0.5957 - lr: 1.0000e-04\n",
      "Epoch 14/100\n",
      "141/142 [============================>.] - ETA: 0s - loss: 0.0670 - sparse_categorical_accuracy: 0.6829\n",
      "Epoch 14: val_loss improved from 0.07554 to 0.06876, saving model to /home/mha114/data/massimal/vega_sola/hyperspec/models/geohab_unet_log_rrs_v1/2024-04-30-14h00m57s/unet_model.depth4.epoch14-loss0.068763-acc0.621.hdf5\n",
      "142/142 [==============================] - 12s 88ms/step - loss: 0.0670 - sparse_categorical_accuracy: 0.6824 - val_loss: 0.0688 - val_sparse_categorical_accuracy: 0.6213 - lr: 2.0000e-05\n",
      "Epoch 15/100\n",
      "141/142 [============================>.] - ETA: 0s - loss: 0.0619 - sparse_categorical_accuracy: 0.7183\n",
      "Epoch 15: val_loss did not improve from 0.06876\n",
      "142/142 [==============================] - 12s 87ms/step - loss: 0.0619 - sparse_categorical_accuracy: 0.7178 - val_loss: 0.0700 - val_sparse_categorical_accuracy: 0.6147 - lr: 2.0000e-05\n",
      "Epoch 16/100\n",
      "141/142 [============================>.] - ETA: 0s - loss: 0.0604 - sparse_categorical_accuracy: 0.7282\n",
      "Epoch 16: val_loss did not improve from 0.06876\n",
      "142/142 [==============================] - 12s 87ms/step - loss: 0.0604 - sparse_categorical_accuracy: 0.7278 - val_loss: 0.0711 - val_sparse_categorical_accuracy: 0.6050 - lr: 2.0000e-05\n",
      "Epoch 17/100\n",
      "141/142 [============================>.] - ETA: 0s - loss: 0.0591 - sparse_categorical_accuracy: 0.7386\n",
      "Epoch 17: val_loss did not improve from 0.06876\n",
      "142/142 [==============================] - 12s 87ms/step - loss: 0.0591 - sparse_categorical_accuracy: 0.7380 - val_loss: 0.0702 - val_sparse_categorical_accuracy: 0.6088 - lr: 2.0000e-05\n",
      "Epoch 18/100\n",
      "141/142 [============================>.] - ETA: 0s - loss: 0.0576 - sparse_categorical_accuracy: 0.7467\n",
      "Epoch 18: val_loss did not improve from 0.06876\n",
      "142/142 [==============================] - 12s 87ms/step - loss: 0.0575 - sparse_categorical_accuracy: 0.7462 - val_loss: 0.0719 - val_sparse_categorical_accuracy: 0.6088 - lr: 2.0000e-05\n",
      "Epoch 19/100\n",
      "141/142 [============================>.] - ETA: 0s - loss: 0.0567 - sparse_categorical_accuracy: 0.7529\n",
      "Epoch 19: val_loss did not improve from 0.06876\n",
      "142/142 [==============================] - 12s 87ms/step - loss: 0.0567 - sparse_categorical_accuracy: 0.7524 - val_loss: 0.0707 - val_sparse_categorical_accuracy: 0.6105 - lr: 2.0000e-05\n",
      "Epoch 20/100\n",
      "141/142 [============================>.] - ETA: 0s - loss: 0.0558 - sparse_categorical_accuracy: 0.7561\n",
      "Epoch 20: val_loss did not improve from 0.06876\n",
      "\n",
      "Epoch 20: ReduceLROnPlateau reducing learning rate to 3.999999898951501e-06.\n",
      "142/142 [==============================] - 12s 87ms/step - loss: 0.0558 - sparse_categorical_accuracy: 0.7556 - val_loss: 0.0714 - val_sparse_categorical_accuracy: 0.6133 - lr: 2.0000e-05\n",
      "Epoch 21/100\n",
      "141/142 [============================>.] - ETA: 0s - loss: 0.0554 - sparse_categorical_accuracy: 0.7523\n",
      "Epoch 21: val_loss did not improve from 0.06876\n",
      "142/142 [==============================] - 12s 87ms/step - loss: 0.0554 - sparse_categorical_accuracy: 0.7518 - val_loss: 0.0693 - val_sparse_categorical_accuracy: 0.6151 - lr: 4.0000e-06\n",
      "Epoch 22/100\n",
      "141/142 [============================>.] - ETA: 0s - loss: 0.0545 - sparse_categorical_accuracy: 0.7627\n",
      "Epoch 22: val_loss did not improve from 0.06876\n",
      "142/142 [==============================] - 12s 87ms/step - loss: 0.0545 - sparse_categorical_accuracy: 0.7622 - val_loss: 0.0696 - val_sparse_categorical_accuracy: 0.6135 - lr: 4.0000e-06\n",
      "Epoch 23/100\n",
      "141/142 [============================>.] - ETA: 0s - loss: 0.0541 - sparse_categorical_accuracy: 0.7667\n",
      "Epoch 23: val_loss did not improve from 0.06876\n",
      "142/142 [==============================] - 12s 87ms/step - loss: 0.0541 - sparse_categorical_accuracy: 0.7662 - val_loss: 0.0700 - val_sparse_categorical_accuracy: 0.6114 - lr: 4.0000e-06\n",
      "Epoch 24/100\n",
      "141/142 [============================>.] - ETA: 0s - loss: 0.0538 - sparse_categorical_accuracy: 0.7672\n",
      "Epoch 24: val_loss did not improve from 0.06876\n",
      "142/142 [==============================] - 12s 87ms/step - loss: 0.0538 - sparse_categorical_accuracy: 0.7666 - val_loss: 0.0702 - val_sparse_categorical_accuracy: 0.6115 - lr: 4.0000e-06\n",
      "Epoch 25/100\n",
      "141/142 [============================>.] - ETA: 0s - loss: 0.0536 - sparse_categorical_accuracy: 0.7691\n",
      "Epoch 25: val_loss did not improve from 0.06876\n",
      "142/142 [==============================] - 12s 87ms/step - loss: 0.0535 - sparse_categorical_accuracy: 0.7687 - val_loss: 0.0702 - val_sparse_categorical_accuracy: 0.6107 - lr: 4.0000e-06\n",
      "Epoch 26/100\n",
      "141/142 [============================>.] - ETA: 0s - loss: 0.0532 - sparse_categorical_accuracy: 0.7718\n",
      "Epoch 26: val_loss did not improve from 0.06876\n",
      "\n",
      "Epoch 26: ReduceLROnPlateau reducing learning rate to 7.999999979801942e-07.\n",
      "142/142 [==============================] - 12s 87ms/step - loss: 0.0532 - sparse_categorical_accuracy: 0.7712 - val_loss: 0.0700 - val_sparse_categorical_accuracy: 0.6118 - lr: 4.0000e-06\n"
     ]
    }
   ],
   "source": [
    "# Fit model to dataset\n",
    "history = unet.fit(train_dataset.batch(BATCH_SIZE),\n",
    "                   epochs=MAX_EPOCHS,\n",
    "                   validation_data=test_dataset.batch(BATCH_SIZE),\n",
    "                   callbacks=callbacks)\n",
    "# history = unet.fit(train_dataset.batch(BATCH_SIZE),\n",
    "#                    epochs=MAX_EPOCHS)"
   ]
  },
  {
   "cell_type": "code",
   "execution_count": 18,
   "id": "4f8f12f4-9c0a-499c-aed0-7d18726b2985",
   "metadata": {},
   "outputs": [
    {
     "data": {
      "image/png": "[encoded data removed]",
      "text/plain": [
       "<Figure size 1200x600 with 2 Axes>"
      ]
     },
     "metadata": {},
     "output_type": "display_data"
    }
   ],
   "source": [
    "# Plot training history\n",
    "fig,ax = plt.subplots(ncols=2,figsize=(12,6))\n",
    "ax[0].plot(history.history['loss'],label='loss')\n",
    "ax[0].plot(history.history['val_loss'],label='val_loss')\n",
    "\n",
    "ax[1].plot(history.history['sparse_categorical_accuracy'],label='acc')\n",
    "ax[1].plot(history.history['val_sparse_categorical_accuracy'],label='val_acc')\n",
    "\n",
    "for curr_ax in ax:\n",
    "    ax[0].set_xlabel('Epoch')\n",
    "    curr_ax.set_title(f'Depth={DEPTH}, initial LR={INITIAL_LEARNING_RATE}, batch size={BATCH_SIZE}')\n",
    "    ax[1].legend()\n",
    "\n",
    "plt.savefig(unet_model_save_dir / 'unet_training_history.png')\n",
    "plt.show()"
   ]
  },
  {
   "cell_type": "code",
   "execution_count": null,
   "id": "6d743467-88de-46dd-9ca3-873e1c42c3ec",
   "metadata": {},
   "outputs": [],
   "source": []
  }
 ],
 "metadata": {
  "kernelspec": {
   "display_name": "Python (massimal)",
   "language": "python",
   "name": "massimal"
  },
  "language_info": {
   "codemirror_mode": {
    "name": "ipython",
    "version": 3
   },
   "file_extension": ".py",
   "mimetype": "text/x-python",
   "name": "python",
   "nbconvert_exporter": "python",
   "pygments_lexer": "ipython3",
   "version": "3.10.5"
  }
 },
 "nbformat": 4,
 "nbformat_minor": 5
}
