{
 "cells": [
  {
   "cell_type": "code",
   "execution_count": 1,
   "id": "5ee1bbf5-cf5f-4c51-b23c-201284661c28",
   "metadata": {},
   "outputs": [],
   "source": [
    "# Disable TensorFlow debugging info and warnings\n",
    "import os\n",
    "os.environ['TF_CPP_MIN_LOG_LEVEL'] = '2'  # 2: Info and warnings not displayed "
   ]
  },
  {
   "cell_type": "code",
   "execution_count": 2,
   "id": "f86d6258-75d4-4eae-a919-16da06175e0b",
   "metadata": {},
   "outputs": [],
   "source": [
    "import tensorflow as tf\n",
    "import numpy as np\n",
    "import matplotlib.pyplot as plt\n",
    "from pathlib import Path\n",
    "import pickle\n",
    "from massimal import hyspec_cnn\n",
    "from datetime import datetime"
   ]
  },
  {
   "cell_type": "code",
   "execution_count": 3,
   "id": "d31f9455-0395-4ebd-aa53-6af90f43d5ff",
   "metadata": {},
   "outputs": [
    {
     "name": "stdout",
     "output_type": "stream",
     "text": [
      "2024-04-30-12h46m38s\n"
     ]
    }
   ],
   "source": [
    "# Create timestamp\n",
    "timestamp = datetime.now().strftime('%Y-%m-%d-%Hh%Mm%Ss')\n",
    "print(timestamp)"
   ]
  },
  {
   "cell_type": "code",
   "execution_count": 4,
   "id": "c69c67e6-0662-4bfd-a4af-db2f0c22acf8",
   "metadata": {},
   "outputs": [],
   "source": [
    "# Paths\n",
    "train_dataset_path = Path('/home/mha114/data/massimal/vega_sola/hyperspec/datasets/pca_images/pca_images_log_rrs_v1/train_val_tiles/vega_sola_log_rrs_pca5_tiles/')\n",
    "test_dataset_path = Path('/home/mha114/data/massimal/vega_sola/hyperspec/datasets/pca_images/pca_images_log_rrs_v1/test_tiles/vega_sola_log_rrs_pca5_tiles')\n",
    "unet_model_save_dir = Path(f'/home/mha114/data/massimal/vega_sola/hyperspec/models/geohab_unet_log_rrs_v1/{timestamp}')\n",
    "unet_model_save_dir.mkdir(exist_ok=True)\n"
   ]
  },
  {
   "cell_type": "code",
   "execution_count": 5,
   "id": "ba9740aa",
   "metadata": {},
   "outputs": [
    {
     "data": {
      "text/plain": [
       "[PhysicalDevice(name='/physical_device:CPU:0', device_type='CPU'),\n",
       " PhysicalDevice(name='/physical_device:GPU:0', device_type='GPU')]"
      ]
     },
     "execution_count": 5,
     "metadata": {},
     "output_type": "execute_result"
    }
   ],
   "source": [
    "# Check if GPU is used\n",
    "tf.config.get_visible_devices()"
   ]
  },
  {
   "cell_type": "code",
   "execution_count": 6,
   "id": "800c525a",
   "metadata": {},
   "outputs": [],
   "source": [
    "# Parameters\n",
    "OUTPUT_CHANNELS = 9 # Background + 8 grouped classes \n",
    "BATCH_SIZE = 8\n",
    "DEPTH = 2\n",
    "#TRAIN_FRAC = 0.7\n",
    "MAX_EPOCHS = 100\n",
    "INITIAL_LEARNING_RATE = 0.0001#0.0001\n",
    "LEARNING_RATE_FRAC_ON_PLATEAU = 0.2\n",
    "LEARNING_RATE_REDUCTION_PATIENCE = 6\n",
    "EARLY_STOPPING_PATIENCE = 12\n",
    "FIRST_LAYER_CHANNELS = 32"
   ]
  },
  {
   "cell_type": "code",
   "execution_count": 7,
   "id": "6cc79a27",
   "metadata": {},
   "outputs": [
    {
     "name": "stdout",
     "output_type": "stream",
     "text": [
      "Number of training tiles: 4526\n",
      "Number of validation tiles: 2502\n"
     ]
    }
   ],
   "source": [
    "# Load dataset \n",
    "train_dataset = tf.data.experimental.load(str(train_dataset_path))\n",
    "test_dataset = tf.data.experimental.load(str(test_dataset_path))\n",
    "\n",
    "print(f'Number of training tiles: {train_dataset.cardinality()}')\n",
    "print(f'Number of validation tiles: {test_dataset.cardinality()}')\n",
    "\n",
    "tile_nrows,tile_ncols,tile_nchannels = train_dataset.element_spec[0].shape.as_list()"
   ]
  },
  {
   "cell_type": "code",
   "execution_count": 8,
   "id": "1ee9d3be-1a59-4815-86f8-8161954af741",
   "metadata": {},
   "outputs": [
    {
     "data": {
      "text/plain": [
       "<ShuffleDataset element_spec=(TensorSpec(shape=(128, 128, 5), dtype=tf.float32, name=None), TensorSpec(shape=(128, 128), dtype=tf.uint8, name=None), TensorSpec(shape=(), dtype=tf.string, name=None))>"
      ]
     },
     "execution_count": 8,
     "metadata": {},
     "output_type": "execute_result"
    }
   ],
   "source": [
    "# Shuffle training dataset\n",
    "n_train_tiles = train_dataset.cardinality()\n",
    "train_dataset.shuffle(n_train_tiles)"
   ]
  },
  {
   "cell_type": "code",
   "execution_count": 9,
   "id": "6e694020",
   "metadata": {},
   "outputs": [],
   "source": [
    "# From https://www.tensorflow.org/tutorials/images/segmentation#optional_imbalanced_classes_and_class_weights\n",
    "def add_sample_weights(image, label, name):\n",
    "    class_weights = tf.constant([0.0, 1.0, 1.0, 1.0, 1.0, 1.0, 1.0, 1.0, 1.0]) # Hard-coded for 8 classes\n",
    "    # class_weights = tf.constant([0.0, 0.89, 1.24, 0.82, 0.65, 1.08, 1.54, 0.77]) # Hard-coded for 7 classes\n",
    "    class_weights = class_weights/tf.reduce_sum(class_weights)\n",
    "\n",
    "    # Create an image of `sample_weights` by using the label at each pixel as an \n",
    "    # index into the `class weights` .\n",
    "    sample_weights = tf.gather(class_weights, indices=tf.cast(label, tf.int32))\n",
    "\n",
    "    return image, label, sample_weights"
   ]
  },
  {
   "cell_type": "code",
   "execution_count": 10,
   "id": "4fe104df",
   "metadata": {},
   "outputs": [],
   "source": [
    "# Add sample weights\n",
    "train_dataset = train_dataset.map(add_sample_weights)\n",
    "test_dataset = test_dataset.map(add_sample_weights)"
   ]
  },
  {
   "cell_type": "code",
   "execution_count": 11,
   "id": "a66b181f",
   "metadata": {},
   "outputs": [
    {
     "name": "stdout",
     "output_type": "stream",
     "text": [
      "Model: \"model\"\n",
      "__________________________________________________________________________________________________\n",
      " Layer (type)                   Output Shape         Param #     Connected to                     \n",
      "==================================================================================================\n",
      " input_image (InputLayer)       [(None, None, None,  0           []                               \n",
      "                                 5)]                                                              \n",
      "                                                                                                  \n",
      " augmentation (Sequential)      (None, None, None,   0           ['input_image[0][0]']            \n",
      "                                5)                                                                \n",
      "                                                                                                  \n",
      " initial_convolution (Conv2D)   (None, None, None,   1472        ['augmentation[0][0]']           \n",
      "                                32)                                                               \n",
      "                                                                                                  \n",
      " downsamp_res_1/2 (Sequential)  (None, None, None,   33024       ['initial_convolution[0][0]']    \n",
      "                                64)                                                               \n",
      "                                                                                                  \n",
      " downsamp_res_1/4 (Sequential)  (None, None, None,   131584      ['downsamp_res_1/2[0][0]']       \n",
      "                                128)                                                              \n",
      "                                                                                                  \n",
      " upsamp_res_1/2 (Sequential)    (None, None, None,   131328      ['downsamp_res_1/4[0][0]']       \n",
      "                                64)                                                               \n",
      "                                                                                                  \n",
      " skipconnection_res_1/2 (Concat  (None, None, None,   0          ['upsamp_res_1/2[0][0]',         \n",
      " enate)                         128)                              'downsamp_res_1/2[0][0]']       \n",
      "                                                                                                  \n",
      " upsamp_res_1/1 (Sequential)    (None, None, None,   131328      ['skipconnection_res_1/2[0][0]'] \n",
      "                                64)                                                               \n",
      "                                                                                                  \n",
      " skipconnection_res_1/1 (Concat  (None, None, None,   0          ['upsamp_res_1/1[0][0]',         \n",
      " enate)                         96)                               'initial_convolution[0][0]']    \n",
      "                                                                                                  \n",
      " classification (Conv2D)        (None, None, None,   7785        ['skipconnection_res_1/1[0][0]'] \n",
      "                                9)                                                                \n",
      "                                                                                                  \n",
      "==================================================================================================\n",
      "Total params: 436,521\n",
      "Trainable params: 435,881\n",
      "Non-trainable params: 640\n",
      "__________________________________________________________________________________________________\n"
     ]
    }
   ],
   "source": [
    "# Create the U-Net model\n",
    "unet = hyspec_cnn.unet(input_channels=tile_nchannels,\n",
    "                       output_channels=OUTPUT_CHANNELS,\n",
    "                       first_layer_channels=FIRST_LAYER_CHANNELS,\n",
    "                       depth = DEPTH,\n",
    "               )\n",
    "unet.summary()"
   ]
  },
  {
   "cell_type": "code",
   "execution_count": 12,
   "id": "264c87d6",
   "metadata": {},
   "outputs": [
    {
     "name": "stdout",
     "output_type": "stream",
     "text": [
      "----\n",
      "input_image\n",
      "----\n",
      "augmentation\n",
      "\trandom_flip\n",
      "----\n",
      "initial_convolution\n",
      "----\n",
      "downsamp_res_1/2\n",
      "\tconv2d\n",
      "\tbatch_normalization\n",
      "\tleaky_re_lu\n",
      "----\n",
      "downsamp_res_1/4\n",
      "\tconv2d_1\n",
      "\tbatch_normalization_1\n",
      "\tleaky_re_lu_1\n",
      "----\n",
      "upsamp_res_1/2\n",
      "\tconv2d_transpose\n",
      "\tbatch_normalization_2\n",
      "\tre_lu\n",
      "----\n",
      "skipconnection_res_1/2\n",
      "----\n",
      "upsamp_res_1/1\n",
      "\tconv2d_transpose_1\n",
      "\tbatch_normalization_3\n",
      "\tre_lu_1\n",
      "----\n",
      "skipconnection_res_1/1\n",
      "----\n",
      "classification\n"
     ]
    }
   ],
   "source": [
    "# Print layers with sublayers\n",
    "for layer in unet.layers:\n",
    "    print('----')\n",
    "    print(layer.name)\n",
    "    if hasattr(layer,'layers'):\n",
    "        for l in layer.layers:\n",
    "            print('\\t'+l.name)\n",
    "       # print(layer.layers)"
   ]
  },
  {
   "cell_type": "code",
   "execution_count": 13,
   "id": "f909d919",
   "metadata": {},
   "outputs": [],
   "source": [
    "# Define callbacks\n",
    "model_save_filename = str(unet_model_save_dir) + '/unet_model.depth' + str(DEPTH) +'.epoch{epoch:02d}-loss{val_loss:.6f}-acc{val_sparse_categorical_accuracy:.3f}.hdf5'\n",
    "callbacks =[tf.keras.callbacks.ModelCheckpoint(filepath = model_save_filename,\n",
    "                                               save_best_only=True,\n",
    "                                               verbose = 1),\n",
    "            tf.keras.callbacks.ReduceLROnPlateau(factor=LEARNING_RATE_FRAC_ON_PLATEAU,\n",
    "                                                 patience=LEARNING_RATE_REDUCTION_PATIENCE,\n",
    "                                                 verbose=1),\n",
    "            tf.keras.callbacks.EarlyStopping(patience=EARLY_STOPPING_PATIENCE,\n",
    "                                             min_delta = 0.001)]"
   ]
  },
  {
   "cell_type": "code",
   "execution_count": 14,
   "id": "847ab21a",
   "metadata": {},
   "outputs": [
    {
     "data": {
      "text/plain": [
       "'/home/mha114/data/massimal/vega_sola/hyperspec/models/geohab_unet_log_rrs_v1/2024-04-30-12h46m38s/unet_model.depth2.epoch{epoch:02d}-loss{val_loss:.6f}-acc{val_sparse_categorical_accuracy:.3f}.hdf5'"
      ]
     },
     "execution_count": 14,
     "metadata": {},
     "output_type": "execute_result"
    }
   ],
   "source": [
    "model_save_filename"
   ]
  },
  {
   "cell_type": "code",
   "execution_count": 15,
   "id": "c05a527f",
   "metadata": {},
   "outputs": [],
   "source": [
    "# Compile model\n",
    "unet.compile(optimizer=tf.keras.optimizers.RMSprop(INITIAL_LEARNING_RATE), \n",
    "             loss=\"sparse_categorical_crossentropy\",\n",
    "             weighted_metrics=['sparse_categorical_accuracy'], # Need weights to ignore background\n",
    "             metrics = []) # Sparse because classes are numbered, not one-hot"
   ]
  },
  {
   "cell_type": "code",
   "execution_count": 16,
   "id": "dc9cd987",
   "metadata": {},
   "outputs": [
    {
     "name": "stdout",
     "output_type": "stream",
     "text": [
      "Epoch 1/100\n",
      "566/566 [==============================] - ETA: 0s - loss: 0.0966 - sparse_categorical_accuracy: 0.5573\n",
      "Epoch 1: val_loss improved from inf to 0.10039, saving model to /home/mha114/data/massimal/vega_sola/hyperspec/models/geohab_unet_log_rrs_v1/2024-04-30-12h46m38s/unet_model.depth2.epoch01-loss0.100395-acc0.521.hdf5\n",
      "566/566 [==============================] - 11s 16ms/step - loss: 0.0966 - sparse_categorical_accuracy: 0.5573 - val_loss: 0.1004 - val_sparse_categorical_accuracy: 0.5213 - lr: 1.0000e-04\n",
      "Epoch 2/100\n",
      "562/566 [============================>.] - ETA: 0s - loss: 0.0841 - sparse_categorical_accuracy: 0.6168\n",
      "Epoch 2: val_loss improved from 0.10039 to 0.09758, saving model to /home/mha114/data/massimal/vega_sola/hyperspec/models/geohab_unet_log_rrs_v1/2024-04-30-12h46m38s/unet_model.depth2.epoch02-loss0.097579-acc0.519.hdf5\n",
      "566/566 [==============================] - 8s 15ms/step - loss: 0.0840 - sparse_categorical_accuracy: 0.6158 - val_loss: 0.0976 - val_sparse_categorical_accuracy: 0.5186 - lr: 1.0000e-04\n",
      "Epoch 3/100\n",
      "564/566 [============================>.] - ETA: 0s - loss: 0.0774 - sparse_categorical_accuracy: 0.6527\n",
      "Epoch 3: val_loss improved from 0.09758 to 0.09289, saving model to /home/mha114/data/massimal/vega_sola/hyperspec/models/geohab_unet_log_rrs_v1/2024-04-30-12h46m38s/unet_model.depth2.epoch03-loss0.092895-acc0.545.hdf5\n",
      "566/566 [==============================] - 8s 15ms/step - loss: 0.0773 - sparse_categorical_accuracy: 0.6524 - val_loss: 0.0929 - val_sparse_categorical_accuracy: 0.5445 - lr: 1.0000e-04\n",
      "Epoch 4/100\n",
      "564/566 [============================>.] - ETA: 0s - loss: 0.0726 - sparse_categorical_accuracy: 0.6769\n",
      "Epoch 4: val_loss improved from 0.09289 to 0.09150, saving model to /home/mha114/data/massimal/vega_sola/hyperspec/models/geohab_unet_log_rrs_v1/2024-04-30-12h46m38s/unet_model.depth2.epoch04-loss0.091497-acc0.554.hdf5\n",
      "566/566 [==============================] - 8s 15ms/step - loss: 0.0725 - sparse_categorical_accuracy: 0.6765 - val_loss: 0.0915 - val_sparse_categorical_accuracy: 0.5540 - lr: 1.0000e-04\n",
      "Epoch 5/100\n",
      "564/566 [============================>.] - ETA: 0s - loss: 0.0691 - sparse_categorical_accuracy: 0.6939\n",
      "Epoch 5: val_loss improved from 0.09150 to 0.08918, saving model to /home/mha114/data/massimal/vega_sola/hyperspec/models/geohab_unet_log_rrs_v1/2024-04-30-12h46m38s/unet_model.depth2.epoch05-loss0.089178-acc0.579.hdf5\n",
      "566/566 [==============================] - 8s 15ms/step - loss: 0.0691 - sparse_categorical_accuracy: 0.6934 - val_loss: 0.0892 - val_sparse_categorical_accuracy: 0.5792 - lr: 1.0000e-04\n",
      "Epoch 6/100\n",
      "565/566 [============================>.] - ETA: 0s - loss: 0.0668 - sparse_categorical_accuracy: 0.7053\n",
      "Epoch 6: val_loss did not improve from 0.08918\n",
      "566/566 [==============================] - 8s 15ms/step - loss: 0.0668 - sparse_categorical_accuracy: 0.7051 - val_loss: 0.0933 - val_sparse_categorical_accuracy: 0.5404 - lr: 1.0000e-04\n",
      "Epoch 7/100\n",
      "564/566 [============================>.] - ETA: 0s - loss: 0.0649 - sparse_categorical_accuracy: 0.7157\n",
      "Epoch 7: val_loss did not improve from 0.08918\n",
      "566/566 [==============================] - 8s 15ms/step - loss: 0.0648 - sparse_categorical_accuracy: 0.7154 - val_loss: 0.0949 - val_sparse_categorical_accuracy: 0.5289 - lr: 1.0000e-04\n",
      "Epoch 8/100\n",
      "565/566 [============================>.] - ETA: 0s - loss: 0.0627 - sparse_categorical_accuracy: 0.7258\n",
      "Epoch 8: val_loss did not improve from 0.08918\n",
      "566/566 [==============================] - 8s 15ms/step - loss: 0.0627 - sparse_categorical_accuracy: 0.7257 - val_loss: 0.0933 - val_sparse_categorical_accuracy: 0.5116 - lr: 1.0000e-04\n",
      "Epoch 9/100\n",
      "564/566 [============================>.] - ETA: 0s - loss: 0.0608 - sparse_categorical_accuracy: 0.7342\n",
      "Epoch 9: val_loss did not improve from 0.08918\n",
      "566/566 [==============================] - 8s 15ms/step - loss: 0.0608 - sparse_categorical_accuracy: 0.7336 - val_loss: 0.1081 - val_sparse_categorical_accuracy: 0.4664 - lr: 1.0000e-04\n",
      "Epoch 10/100\n",
      "565/566 [============================>.] - ETA: 0s - loss: 0.0590 - sparse_categorical_accuracy: 0.7407\n",
      "Epoch 10: val_loss did not improve from 0.08918\n",
      "566/566 [==============================] - 8s 15ms/step - loss: 0.0590 - sparse_categorical_accuracy: 0.7405 - val_loss: 0.1023 - val_sparse_categorical_accuracy: 0.4978 - lr: 1.0000e-04\n",
      "Epoch 11/100\n",
      "563/566 [============================>.] - ETA: 0s - loss: 0.0577 - sparse_categorical_accuracy: 0.7483\n",
      "Epoch 11: val_loss did not improve from 0.08918\n",
      "\n",
      "Epoch 11: ReduceLROnPlateau reducing learning rate to 1.9999999494757503e-05.\n",
      "566/566 [==============================] - 8s 15ms/step - loss: 0.0577 - sparse_categorical_accuracy: 0.7474 - val_loss: 0.1016 - val_sparse_categorical_accuracy: 0.4943 - lr: 1.0000e-04\n",
      "Epoch 12/100\n",
      "566/566 [==============================] - ETA: 0s - loss: 0.0685 - sparse_categorical_accuracy: 0.6826\n",
      "Epoch 12: val_loss improved from 0.08918 to 0.07989, saving model to /home/mha114/data/massimal/vega_sola/hyperspec/models/geohab_unet_log_rrs_v1/2024-04-30-12h46m38s/unet_model.depth2.epoch12-loss0.079891-acc0.591.hdf5\n",
      "566/566 [==============================] - 8s 15ms/step - loss: 0.0685 - sparse_categorical_accuracy: 0.6826 - val_loss: 0.0799 - val_sparse_categorical_accuracy: 0.5912 - lr: 2.0000e-05\n",
      "Epoch 13/100\n",
      "565/566 [============================>.] - ETA: 0s - loss: 0.0636 - sparse_categorical_accuracy: 0.7075\n",
      "Epoch 13: val_loss improved from 0.07989 to 0.07727, saving model to /home/mha114/data/massimal/vega_sola/hyperspec/models/geohab_unet_log_rrs_v1/2024-04-30-12h46m38s/unet_model.depth2.epoch13-loss0.077269-acc0.596.hdf5\n",
      "566/566 [==============================] - 8s 15ms/step - loss: 0.0636 - sparse_categorical_accuracy: 0.7072 - val_loss: 0.0773 - val_sparse_categorical_accuracy: 0.5965 - lr: 2.0000e-05\n",
      "Epoch 14/100\n",
      "565/566 [============================>.] - ETA: 0s - loss: 0.0615 - sparse_categorical_accuracy: 0.7172\n",
      "Epoch 14: val_loss improved from 0.07727 to 0.07650, saving model to /home/mha114/data/massimal/vega_sola/hyperspec/models/geohab_unet_log_rrs_v1/2024-04-30-12h46m38s/unet_model.depth2.epoch14-loss0.076503-acc0.596.hdf5\n",
      "566/566 [==============================] - 8s 15ms/step - loss: 0.0615 - sparse_categorical_accuracy: 0.7170 - val_loss: 0.0765 - val_sparse_categorical_accuracy: 0.5955 - lr: 2.0000e-05\n",
      "Epoch 15/100\n",
      "565/566 [============================>.] - ETA: 0s - loss: 0.0611 - sparse_categorical_accuracy: 0.7180\n",
      "Epoch 15: val_loss did not improve from 0.07650\n",
      "566/566 [==============================] - 8s 15ms/step - loss: 0.0611 - sparse_categorical_accuracy: 0.7177 - val_loss: 0.0792 - val_sparse_categorical_accuracy: 0.5827 - lr: 2.0000e-05\n",
      "Epoch 16/100\n",
      "566/566 [==============================] - ETA: 0s - loss: 0.0601 - sparse_categorical_accuracy: 0.7241\n",
      "Epoch 16: val_loss did not improve from 0.07650\n",
      "566/566 [==============================] - 8s 15ms/step - loss: 0.0601 - sparse_categorical_accuracy: 0.7241 - val_loss: 0.0789 - val_sparse_categorical_accuracy: 0.5742 - lr: 2.0000e-05\n",
      "Epoch 17/100\n",
      "566/566 [==============================] - ETA: 0s - loss: 0.0597 - sparse_categorical_accuracy: 0.7281\n",
      "Epoch 17: val_loss did not improve from 0.07650\n",
      "566/566 [==============================] - 8s 15ms/step - loss: 0.0597 - sparse_categorical_accuracy: 0.7281 - val_loss: 0.0782 - val_sparse_categorical_accuracy: 0.5862 - lr: 2.0000e-05\n",
      "Epoch 18/100\n",
      "566/566 [==============================] - ETA: 0s - loss: 0.0589 - sparse_categorical_accuracy: 0.7292\n",
      "Epoch 18: val_loss did not improve from 0.07650\n",
      "566/566 [==============================] - 8s 15ms/step - loss: 0.0589 - sparse_categorical_accuracy: 0.7292 - val_loss: 0.0793 - val_sparse_categorical_accuracy: 0.5806 - lr: 2.0000e-05\n",
      "Epoch 19/100\n",
      "566/566 [==============================] - ETA: 0s - loss: 0.0576 - sparse_categorical_accuracy: 0.7350\n",
      "Epoch 19: val_loss did not improve from 0.07650\n",
      "566/566 [==============================] - 8s 15ms/step - loss: 0.0576 - sparse_categorical_accuracy: 0.7350 - val_loss: 0.0768 - val_sparse_categorical_accuracy: 0.5871 - lr: 2.0000e-05\n",
      "Epoch 20/100\n",
      "566/566 [==============================] - ETA: 0s - loss: 0.0574 - sparse_categorical_accuracy: 0.7356\n",
      "Epoch 20: val_loss did not improve from 0.07650\n",
      "\n",
      "Epoch 20: ReduceLROnPlateau reducing learning rate to 3.999999898951501e-06.\n",
      "566/566 [==============================] - 8s 15ms/step - loss: 0.0574 - sparse_categorical_accuracy: 0.7356 - val_loss: 0.0780 - val_sparse_categorical_accuracy: 0.5816 - lr: 2.0000e-05\n",
      "Epoch 21/100\n",
      "566/566 [==============================] - ETA: 0s - loss: 0.0615 - sparse_categorical_accuracy: 0.7086\n",
      "Epoch 21: val_loss did not improve from 0.07650\n",
      "566/566 [==============================] - 8s 15ms/step - loss: 0.0615 - sparse_categorical_accuracy: 0.7086 - val_loss: 0.0773 - val_sparse_categorical_accuracy: 0.5671 - lr: 4.0000e-06\n",
      "Epoch 22/100\n",
      "566/566 [==============================] - ETA: 0s - loss: 0.0604 - sparse_categorical_accuracy: 0.7132\n",
      "Epoch 22: val_loss did not improve from 0.07650\n",
      "566/566 [==============================] - 8s 15ms/step - loss: 0.0604 - sparse_categorical_accuracy: 0.7132 - val_loss: 0.0774 - val_sparse_categorical_accuracy: 0.5671 - lr: 4.0000e-06\n",
      "Epoch 23/100\n",
      "562/566 [============================>.] - ETA: 0s - loss: 0.0596 - sparse_categorical_accuracy: 0.7188\n",
      "Epoch 23: val_loss did not improve from 0.07650\n",
      "566/566 [==============================] - 8s 15ms/step - loss: 0.0597 - sparse_categorical_accuracy: 0.7176 - val_loss: 0.0767 - val_sparse_categorical_accuracy: 0.5727 - lr: 4.0000e-06\n",
      "Epoch 24/100\n",
      "566/566 [==============================] - ETA: 0s - loss: 0.0600 - sparse_categorical_accuracy: 0.7194\n",
      "Epoch 24: val_loss did not improve from 0.07650\n",
      "566/566 [==============================] - 8s 15ms/step - loss: 0.0600 - sparse_categorical_accuracy: 0.7194 - val_loss: 0.0769 - val_sparse_categorical_accuracy: 0.5686 - lr: 4.0000e-06\n",
      "Epoch 25/100\n",
      "566/566 [==============================] - ETA: 0s - loss: 0.0594 - sparse_categorical_accuracy: 0.7195\n",
      "Epoch 25: val_loss improved from 0.07650 to 0.07616, saving model to /home/mha114/data/massimal/vega_sola/hyperspec/models/geohab_unet_log_rrs_v1/2024-04-30-12h46m38s/unet_model.depth2.epoch25-loss0.076162-acc0.574.hdf5\n",
      "566/566 [==============================] - 8s 15ms/step - loss: 0.0594 - sparse_categorical_accuracy: 0.7195 - val_loss: 0.0762 - val_sparse_categorical_accuracy: 0.5743 - lr: 4.0000e-06\n",
      "Epoch 26/100\n",
      "564/566 [============================>.] - ETA: 0s - loss: 0.0594 - sparse_categorical_accuracy: 0.7194\n",
      "Epoch 26: val_loss did not improve from 0.07616\n",
      "566/566 [==============================] - 8s 15ms/step - loss: 0.0594 - sparse_categorical_accuracy: 0.7189 - val_loss: 0.0767 - val_sparse_categorical_accuracy: 0.5708 - lr: 4.0000e-06\n",
      "Epoch 27/100\n",
      "565/566 [============================>.] - ETA: 0s - loss: 0.0589 - sparse_categorical_accuracy: 0.7241\n",
      "Epoch 27: val_loss did not improve from 0.07616\n",
      "566/566 [==============================] - 8s 15ms/step - loss: 0.0589 - sparse_categorical_accuracy: 0.7239 - val_loss: 0.0767 - val_sparse_categorical_accuracy: 0.5710 - lr: 4.0000e-06\n",
      "Epoch 28/100\n",
      "565/566 [============================>.] - ETA: 0s - loss: 0.0582 - sparse_categorical_accuracy: 0.7245\n",
      "Epoch 28: val_loss did not improve from 0.07616\n",
      "566/566 [==============================] - 8s 14ms/step - loss: 0.0582 - sparse_categorical_accuracy: 0.7243 - val_loss: 0.0771 - val_sparse_categorical_accuracy: 0.5691 - lr: 4.0000e-06\n",
      "Epoch 29/100\n",
      "566/566 [==============================] - ETA: 0s - loss: 0.0584 - sparse_categorical_accuracy: 0.7250\n",
      "Epoch 29: val_loss did not improve from 0.07616\n",
      "566/566 [==============================] - 8s 15ms/step - loss: 0.0584 - sparse_categorical_accuracy: 0.7250 - val_loss: 0.0777 - val_sparse_categorical_accuracy: 0.5668 - lr: 4.0000e-06\n",
      "Epoch 30/100\n",
      "565/566 [============================>.] - ETA: 0s - loss: 0.0580 - sparse_categorical_accuracy: 0.7286\n",
      "Epoch 30: val_loss did not improve from 0.07616\n",
      "566/566 [==============================] - 8s 15ms/step - loss: 0.0580 - sparse_categorical_accuracy: 0.7284 - val_loss: 0.0765 - val_sparse_categorical_accuracy: 0.5722 - lr: 4.0000e-06\n",
      "Epoch 31/100\n",
      "565/566 [============================>.] - ETA: 0s - loss: 0.0577 - sparse_categorical_accuracy: 0.7313\n",
      "Epoch 31: val_loss did not improve from 0.07616\n",
      "\n",
      "Epoch 31: ReduceLROnPlateau reducing learning rate to 7.999999979801942e-07.\n",
      "566/566 [==============================] - 8s 15ms/step - loss: 0.0577 - sparse_categorical_accuracy: 0.7310 - val_loss: 0.0764 - val_sparse_categorical_accuracy: 0.5760 - lr: 4.0000e-06\n",
      "Epoch 32/100\n",
      "565/566 [============================>.] - ETA: 0s - loss: 0.0580 - sparse_categorical_accuracy: 0.7256\n",
      "Epoch 32: val_loss did not improve from 0.07616\n",
      "566/566 [==============================] - 8s 15ms/step - loss: 0.0580 - sparse_categorical_accuracy: 0.7253 - val_loss: 0.0764 - val_sparse_categorical_accuracy: 0.5784 - lr: 8.0000e-07\n",
      "Epoch 33/100\n",
      "566/566 [==============================] - ETA: 0s - loss: 0.0586 - sparse_categorical_accuracy: 0.7228\n",
      "Epoch 33: val_loss did not improve from 0.07616\n",
      "566/566 [==============================] - 8s 15ms/step - loss: 0.0586 - sparse_categorical_accuracy: 0.7228 - val_loss: 0.0770 - val_sparse_categorical_accuracy: 0.5768 - lr: 8.0000e-07\n",
      "Epoch 34/100\n",
      "566/566 [==============================] - ETA: 0s - loss: 0.0586 - sparse_categorical_accuracy: 0.7247\n",
      "Epoch 34: val_loss did not improve from 0.07616\n",
      "566/566 [==============================] - 8s 15ms/step - loss: 0.0586 - sparse_categorical_accuracy: 0.7247 - val_loss: 0.0773 - val_sparse_categorical_accuracy: 0.5773 - lr: 8.0000e-07\n",
      "Epoch 35/100\n",
      "566/566 [==============================] - ETA: 0s - loss: 0.0581 - sparse_categorical_accuracy: 0.7258\n",
      "Epoch 35: val_loss did not improve from 0.07616\n",
      "566/566 [==============================] - 8s 15ms/step - loss: 0.0581 - sparse_categorical_accuracy: 0.7258 - val_loss: 0.0774 - val_sparse_categorical_accuracy: 0.5782 - lr: 8.0000e-07\n",
      "Epoch 36/100\n",
      "565/566 [============================>.] - ETA: 0s - loss: 0.0581 - sparse_categorical_accuracy: 0.7266\n",
      "Epoch 36: val_loss did not improve from 0.07616\n",
      "566/566 [==============================] - 8s 15ms/step - loss: 0.0581 - sparse_categorical_accuracy: 0.7264 - val_loss: 0.0772 - val_sparse_categorical_accuracy: 0.5786 - lr: 8.0000e-07\n",
      "Epoch 37/100\n",
      "566/566 [==============================] - ETA: 0s - loss: 0.0580 - sparse_categorical_accuracy: 0.7279\n",
      "Epoch 37: val_loss did not improve from 0.07616\n",
      "\n",
      "Epoch 37: ReduceLROnPlateau reducing learning rate to 1.600000018697756e-07.\n",
      "566/566 [==============================] - 8s 15ms/step - loss: 0.0580 - sparse_categorical_accuracy: 0.7279 - val_loss: 0.0774 - val_sparse_categorical_accuracy: 0.5764 - lr: 8.0000e-07\n"
     ]
    }
   ],
   "source": [
    "# Fit model to dataset\n",
    "history = unet.fit(train_dataset.batch(BATCH_SIZE),\n",
    "                   epochs=MAX_EPOCHS,\n",
    "                   validation_data=test_dataset.batch(BATCH_SIZE),\n",
    "                   callbacks=callbacks)\n",
    "# history = unet.fit(train_dataset.batch(BATCH_SIZE),\n",
    "#                    epochs=MAX_EPOCHS)"
   ]
  },
  {
   "cell_type": "code",
   "execution_count": 17,
   "id": "2142e7a3-7863-4be8-8990-219009f8bb42",
   "metadata": {},
   "outputs": [
    {
     "data": {
      "image/png": "[encoded data removed]",
      "text/plain": [
       "<Figure size 640x480 with 1 Axes>"
      ]
     },
     "metadata": {},
     "output_type": "display_data"
    }
   ],
   "source": [
    "# Plot training history\n",
    "plt.plot(history.history['loss'],label='loss')\n",
    "plt.plot(history.history['val_loss'],label='val_loss')\n",
    "plt.plot(history.history['sparse_categorical_accuracy'],label='acc')\n",
    "plt.plot(history.history['val_sparse_categorical_accuracy'],label='val_acc')\n",
    "plt.xlabel('Epoch')\n",
    "plt.title(f'Depth={DEPTH}, initial LR={INITIAL_LEARNING_RATE}')\n",
    "plt.legend()\n",
    "plt.savefig(unet_model_save_dir / 'unet_training_history.png')\n",
    "plt.show()"
   ]
  },
  {
   "cell_type": "code",
   "execution_count": null,
   "id": "bd0e16ba-d90b-44b9-824e-8c54558c4cee",
   "metadata": {},
   "outputs": [],
   "source": []
  }
 ],
 "metadata": {
  "kernelspec": {
   "display_name": "Python (massimal)",
   "language": "python",
   "name": "massimal"
  },
  "language_info": {
   "codemirror_mode": {
    "name": "ipython",
    "version": 3
   },
   "file_extension": ".py",
   "mimetype": "text/x-python",
   "name": "python",
   "nbconvert_exporter": "python",
   "pygments_lexer": "ipython3",
   "version": "3.10.5"
  }
 },
 "nbformat": 4,
 "nbformat_minor": 5
}
