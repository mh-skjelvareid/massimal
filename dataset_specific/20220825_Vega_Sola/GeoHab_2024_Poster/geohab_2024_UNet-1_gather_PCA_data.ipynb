{
 "cells": [
  {
   "cell_type": "code",
   "execution_count": 1,
   "id": "a9a347f5-f0bd-4b57-b412-f1b272c02954",
   "metadata": {},
   "outputs": [],
   "source": [
    "import numpy as np\n",
    "import skimage.io\n",
    "from pathlib import Path\n",
    "import tqdm\n",
    "from massimal import hyspec_io\n",
    "import datetime"
   ]
  },
  {
   "cell_type": "code",
   "execution_count": 2,
   "id": "c48dec8b-7956-4800-ac23-70e49b1a717b",
   "metadata": {},
   "outputs": [],
   "source": [
    "# Parameters\n",
    "samples_frac = 0.05"
   ]
  },
  {
   "cell_type": "code",
   "execution_count": 4,
   "id": "f971d124-8fbe-445e-8320-39cb957f0813",
   "metadata": {},
   "outputs": [],
   "source": [
    "# Paths\n",
    "hyspec_base = Path('/home/mha114/data/massimal/vega_sola/hyperspec/images/2a_rrs/')\n",
    "annotation_dir = Path(\"/home/mha114/data/massimal/vega_sola/hyperspec/annotation/v2.1/png_gray/train_val/\")\n",
    "sampled_spectra_dir = Path('/home/mha114/data/massimal/vega_sola/hyperspec/sampled_spectra/sola_sampled_spectra_v1')\n",
    "\n",
    "sampled_spectra_dir.mkdir(exist_ok=True,parents=True)\n"
   ]
  },
  {
   "cell_type": "code",
   "execution_count": 5,
   "id": "85e40992-954e-4e3e-aa54-300d1494b827",
   "metadata": {},
   "outputs": [
    {
     "name": "stdout",
     "output_type": "stream",
     "text": [
      "Vega_SolaNW_Coast1_Pika_L_10-Crop Wavelengths.bip\n",
      "Vega_SolaNW_Coast1_Pika_L_11-Crop Wavelengths.bip\n",
      "Vega_SolaNW_Coast1_Pika_L_12-Crop Wavelengths.bip\n",
      "Vega_SolaNW_Coast1_Pika_L_13-Crop Wavelengths.bip\n",
      "Vega_SolaNW_Coast1_Pika_L_15-Crop Wavelengths.bip\n",
      "Vega_SolaNW_Coast1_Pika_L_16-Crop Wavelengths.bip\n",
      "Vega_SolaNW_Coast1_Pika_L_17-Crop Wavelengths.bip\n",
      "Vega_SolaNW_Coast1_Pika_L_18-Crop Wavelengths.bip\n",
      "Vega_SolaNW_Coast1_Pika_L_22-Crop Wavelengths.bip\n",
      "Vega_SolaNW_Coast1_Pika_L_23-Crop Wavelengths.bip\n",
      "Vega_SolaNW_Coast1_Pika_L_24-Crop Wavelengths.bip\n",
      "Vega_SolaNW_Coast1_Pika_L_6-Crop Wavelengths.bip\n",
      "Vega_SolaNW_Coast1_Pika_L_7-Crop Wavelengths.bip\n",
      "Vega_SolaNW_Coast1_Pika_L_8-Crop Wavelengths.bip\n",
      "Vega_SolaNW_Coast1_Pika_L_9-Crop Wavelengths.bip\n",
      "Vega_SolaNW_Coast2_Pika_L_15-Crop Wavelengths.bip\n",
      "Vega_SolaNW_Coast2_Pika_L_16-Crop Wavelengths.bip\n",
      "Vega_SolaNW_Coast2_Pika_L_17-Crop Wavelengths.bip\n",
      "Vega_SolaNW_Coast2_Pika_L_19-Crop Wavelengths.bip\n",
      "Vega_SolaNW_Coast2_Pika_L_20-Crop Wavelengths.bip\n",
      "Vega_SolaNW_Coast2_Pika_L_21-Crop Wavelengths.bip\n",
      "Vega_SolaNW_Coast2_Pika_L_5-Crop Wavelengths.bip\n",
      "Vega_SolaNW_Coast2_Pika_L_6-Crop Wavelengths.bip\n",
      "Vega_SolaNW_Coast2_Pika_L_7-Crop Wavelengths.bip\n",
      "Vega_SolaNW_Coast3_Pika_L_10-Crop Wavelengths.bip\n",
      "Vega_SolaNW_Coast3_Pika_L_11-Crop Wavelengths.bip\n",
      "Vega_SolaNW_Coast3_Pika_L_12-Crop Wavelengths.bip\n",
      "Vega_SolaNW_Coast3_Pika_L_13-Crop Wavelengths.bip\n",
      "Vega_SolaNW_Coast3_Pika_L_14-Crop Wavelengths.bip\n",
      "Vega_SolaNW_Coast3_Pika_L_15-Crop Wavelengths.bip\n",
      "Vega_SolaNW_Coast3_Pika_L_18-Crop Wavelengths.bip\n",
      "Vega_SolaNW_Coast3_Pika_L_19-Crop Wavelengths.bip\n",
      "Vega_SolaNW_Coast3_Pika_L_2-Crop Wavelengths.bip\n",
      "Vega_SolaNW_Coast3_Pika_L_21-Crop Wavelengths.bip\n",
      "Vega_SolaNW_Coast3_Pika_L_22-Crop Wavelengths.bip\n",
      "Vega_SolaNW_Coast3_Pika_L_23-Crop Wavelengths.bip\n",
      "Vega_SolaNW_Coast3_Pika_L_24-Crop Wavelengths.bip\n",
      "Vega_SolaNW_Coast3_Pika_L_25-Crop Wavelengths.bip\n",
      "Vega_SolaNW_Coast3_Pika_L_26-Crop Wavelengths.bip\n",
      "Vega_SolaNW_Coast3_Pika_L_27-Crop Wavelengths.bip\n",
      "Vega_SolaNW_Coast3_Pika_L_3-Crop Wavelengths.bip\n",
      "Vega_SolaNW_Coast3_Pika_L_4-Crop Wavelengths.bip\n",
      "Vega_SolaNW_Coast3_Pika_L_5-Crop Wavelengths.bip\n",
      "Vega_SolaNW_Coast3_Pika_L_6-Crop Wavelengths.bip\n",
      "Vega_SolaNW_Sound1_Pika_L_1-Crop Wavelengths.bip\n",
      "Vega_SolaNW_Sound1_Pika_L_10-Crop Wavelengths.bip\n",
      "Vega_SolaNW_Sound1_Pika_L_11-Crop Wavelengths.bip\n",
      "Vega_SolaNW_Sound1_Pika_L_12-Crop Wavelengths.bip\n",
      "Vega_SolaNW_Sound1_Pika_L_13-Crop Wavelengths.bip\n",
      "Vega_SolaNW_Sound1_Pika_L_14-Crop Wavelengths.bip\n",
      "Vega_SolaNW_Sound1_Pika_L_15-Crop Wavelengths.bip\n",
      "Vega_SolaNW_Sound1_Pika_L_16-Crop Wavelengths.bip\n",
      "Vega_SolaNW_Sound1_Pika_L_17-Crop Wavelengths.bip\n",
      "Vega_SolaNW_Sound1_Pika_L_18-Crop Wavelengths.bip\n",
      "Vega_SolaNW_Sound1_Pika_L_20-Crop Wavelengths.bip\n",
      "Vega_SolaNW_Sound1_Pika_L_22-Crop Wavelengths.bip\n",
      "Vega_SolaNW_Sound1_Pika_L_23-Crop Wavelengths.bip\n",
      "Vega_SolaNW_Sound1_Pika_L_24-Crop Wavelengths.bip\n",
      "Vega_SolaNW_Sound1_Pika_L_26-Crop Wavelengths.bip\n",
      "Vega_SolaNW_Sound1_Pika_L_5-Crop Wavelengths.bip\n",
      "Vega_SolaNW_Sound1_Pika_L_6-Crop Wavelengths.bip\n",
      "Vega_SolaNW_Sound1_Pika_L_7-Crop Wavelengths.bip\n",
      "Vega_SolaNW_Sound1_Pika_L_8-Crop Wavelengths.bip\n",
      "Vega_SolaNW_Sound1_Pika_L_9-Crop Wavelengths.bip\n",
      "Vega_SolaNW_Sound3a_Pika_L_15-Crop Wavelengths.bip\n",
      "Vega_SolaNW_Sound3a_Pika_L_17-Crop Wavelengths.bip\n",
      "Vega_SolaNW_Sound3a_Pika_L_19-Crop Wavelengths.bip\n",
      "Vega_SolaNW_Sound3a_Pika_L_2-Crop Wavelengths.bip\n",
      "Vega_SolaNW_Sound3a_Pika_L_3-Crop Wavelengths.bip\n",
      "Vega_SolaNW_Sound3a_Pika_L_30-Crop Wavelengths.bip\n",
      "Vega_SolaNW_Sound3a_Pika_L_4-Crop Wavelengths.bip\n",
      "Vega_SolaNW_Sound3a_Pika_L_5-Crop Wavelengths.bip\n",
      "Vega_SolaNW_Sound3a_Pika_L_9-Crop Wavelengths.bip\n"
     ]
    }
   ],
   "source": [
    "label_image_paths = [path for path in sorted(annotation_dir.glob('*.png'))]\n",
    "for path in label_image_paths: print(path.stem)"
   ]
  },
  {
   "cell_type": "code",
   "execution_count": 6,
   "id": "fc63b64d-dba7-4a0c-b345-a5e68debb185",
   "metadata": {},
   "outputs": [],
   "source": [
    "# Create random number generator\n",
    "rng = np.random.default_rng()"
   ]
  },
  {
   "cell_type": "code",
   "execution_count": 10,
   "id": "49630506-d9d3-46f3-98d9-4c8959aa258d",
   "metadata": {},
   "outputs": [
    {
     "name": "stderr",
     "output_type": "stream",
     "text": [
      "100%|██████████| 73/73 [04:36<00:00,  3.79s/it]\n"
     ]
    }
   ],
   "source": [
    "spectra_subset_list = []\n",
    "labels_subset_list = []\n",
    "\n",
    "for label_image_path in tqdm.tqdm(label_image_paths):\n",
    "    hyspec_image_path = [path for path in hyspec_base.rglob(label_image_path.stem+'*.hdr')][0]\n",
    "\n",
    "    label_image = skimage.io.imread(label_image_path)\n",
    "    (hyspec_image,_,_,_) = hyspec_io.load_envi_image(str(hyspec_image_path))\n",
    "\n",
    "    # Create annotation mask\n",
    "    annotation_mask = label_image!=0\n",
    "\n",
    "    # Get spectra and labels\n",
    "    spectra = hyspec_image[annotation_mask]\n",
    "    labels = label_image[annotation_mask]\n",
    "\n",
    "    # Create random indices for subset\n",
    "    n_random_samp = np.int64(samples_frac*spectra.shape[0])\n",
    "    random_indices = rng.choice(spectra.shape[0],size=n_random_samp,axis=0,replace=False,shuffle=False)\n",
    "    \n",
    "    # Extract spectra and labels, and append to lists\n",
    "    spectra_subset_list.append(spectra[random_indices])\n",
    "    labels_subset_list.append(labels[random_indices])"
   ]
  },
  {
   "cell_type": "code",
   "execution_count": 11,
   "id": "2be69a59-a4cd-4930-b25b-5d66846ca7eb",
   "metadata": {},
   "outputs": [],
   "source": [
    "X = np.concatenate(spectra_subset_list)\n",
    "y = np.concatenate(labels_subset_list)"
   ]
  },
  {
   "cell_type": "code",
   "execution_count": 12,
   "id": "dac1b8ca-d9b8-4e0e-934e-6d121d03411b",
   "metadata": {
    "tags": []
   },
   "outputs": [
    {
     "name": "stdout",
     "output_type": "stream",
     "text": [
      "(2061350, 255)\n",
      "(2061350,)\n"
     ]
    }
   ],
   "source": [
    "print(X.shape)\n",
    "print(y.shape)"
   ]
  },
  {
   "cell_type": "code",
   "execution_count": 16,
   "id": "46978bfe-da00-457c-b468-feb59cb32e89",
   "metadata": {},
   "outputs": [
    {
     "name": "stdout",
     "output_type": "stream",
     "text": [
      "Total memory needed for X: 2005.173683166504 MB\n"
     ]
    }
   ],
   "source": [
    "print(f\"Total memory needed for X: {(X.itemsize*np.size(X))/(2**20)} MB\")"
   ]
  },
  {
   "cell_type": "code",
   "execution_count": 19,
   "id": "2483ea8a-63f9-4967-b6ce-bc0332a4f3eb",
   "metadata": {},
   "outputs": [],
   "source": [
    "timestamp = datetime.datetime.now().strftime('%Y-%m-%d-%Hh%Mm%Ss')"
   ]
  },
  {
   "cell_type": "code",
   "execution_count": 20,
   "id": "75beab25-9975-48d9-a572-8bf9fb009cb7",
   "metadata": {},
   "outputs": [],
   "source": [
    "# Save to file\n",
    "spectra_file = str(sampled_spectra_dir / ('20220823_Vega_Sola_ExtractedSpectraAndLabels' + timestamp + '.npz'))\n",
    "np.savez(spectra_file, X=X,y=y)"
   ]
  },
  {
   "cell_type": "code",
   "execution_count": 21,
   "id": "9a3e0be0-9897-479e-a1d0-beddefc819ba",
   "metadata": {},
   "outputs": [
    {
     "name": "stdout",
     "output_type": "stream",
     "text": [
      "Found the following Numpy arrays in the saved file:\n",
      "X\n",
      "y\n"
     ]
    }
   ],
   "source": [
    "data = {}\n",
    "with np.load(spectra_file) as npz_files:\n",
    "    print('Found the following Numpy arrays in the saved file:')\n",
    "    for variable_name in npz_files.files:\n",
    "        print(variable_name)\n",
    "        data[variable_name] = npz_files[variable_name]"
   ]
  }
 ],
 "metadata": {
  "kernelspec": {
   "display_name": "Python (massimal)",
   "language": "python",
   "name": "massimal"
  },
  "language_info": {
   "codemirror_mode": {
    "name": "ipython",
    "version": 3
   },
   "file_extension": ".py",
   "mimetype": "text/x-python",
   "name": "python",
   "nbconvert_exporter": "python",
   "pygments_lexer": "ipython3",
   "version": "3.10.5"
  }
 },
 "nbformat": 4,
 "nbformat_minor": 5
}
