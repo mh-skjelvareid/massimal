{
 "cells": [
  {
   "cell_type": "code",
   "execution_count": 2,
   "id": "ec01b705-a77d-4d2a-b311-23378c62d898",
   "metadata": {},
   "outputs": [
    {
     "ename": "ModuleNotFoundError",
     "evalue": "No module named 'hyspec_io'",
     "output_type": "error",
     "traceback": [
      "\u001b[0;31m---------------------------------------------------------------------------\u001b[0m",
      "\u001b[0;31mModuleNotFoundError\u001b[0m                       Traceback (most recent call last)",
      "Cell \u001b[0;32mIn[2], line 7\u001b[0m\n\u001b[1;32m      5\u001b[0m \u001b[38;5;28;01mimport\u001b[39;00m \u001b[38;5;21;01mtqdm\u001b[39;00m\n\u001b[1;32m      6\u001b[0m \u001b[38;5;28;01mfrom\u001b[39;00m \u001b[38;5;21;01mdatetime\u001b[39;00m \u001b[38;5;28;01mimport\u001b[39;00m datetime\n\u001b[0;32m----> 7\u001b[0m \u001b[38;5;28;01mfrom\u001b[39;00m \u001b[38;5;21;01mmassimal\u001b[39;00m \u001b[38;5;28;01mimport\u001b[39;00m hyspec_io, annotation, hyspec_ml\n\u001b[1;32m      8\u001b[0m \u001b[38;5;28;01mimport\u001b[39;00m \u001b[38;5;21;01mjson\u001b[39;00m\n\u001b[1;32m      9\u001b[0m \u001b[38;5;28;01mimport\u001b[39;00m \u001b[38;5;21;01mmatplotlib\u001b[39;00m\u001b[38;5;21;01m.\u001b[39;00m\u001b[38;5;21;01mpyplot\u001b[39;00m \u001b[38;5;28;01mas\u001b[39;00m \u001b[38;5;21;01mplt\u001b[39;00m\n",
      "File \u001b[0;32m~/code/github/massimal/src/massimal/hyspec_ml.py:4\u001b[0m\n\u001b[1;32m      2\u001b[0m \u001b[38;5;28;01mimport\u001b[39;00m \u001b[38;5;21;01msklearn\u001b[39;00m\u001b[38;5;21;01m.\u001b[39;00m\u001b[38;5;21;01mbase\u001b[39;00m\n\u001b[1;32m      3\u001b[0m \u001b[38;5;28;01mimport\u001b[39;00m \u001b[38;5;21;01mskimage\u001b[39;00m\u001b[38;5;21;01m.\u001b[39;00m\u001b[38;5;21;01mmorphology\u001b[39;00m\n\u001b[0;32m----> 4\u001b[0m \u001b[38;5;28;01mimport\u001b[39;00m \u001b[38;5;21;01mhyspec_io\u001b[39;00m\n\u001b[1;32m      5\u001b[0m \u001b[38;5;28;01mimport\u001b[39;00m \u001b[38;5;21;01mcv2\u001b[39;00m \n\u001b[1;32m      6\u001b[0m \u001b[38;5;28;01mimport\u001b[39;00m \u001b[38;5;21;01mnumpy\u001b[39;00m\u001b[38;5;21;01m.\u001b[39;00m\u001b[38;5;21;01mrandom\u001b[39;00m\n",
      "\u001b[0;31mModuleNotFoundError\u001b[0m: No module named 'hyspec_io'"
     ]
    }
   ],
   "source": [
    "import numpy as np\n",
    "import sklearn.decomposition\n",
    "import imblearn\n",
    "from pathlib import Path\n",
    "import tqdm\n",
    "from datetime import datetime\n",
    "from massimal import hyspec_io, annotation, hyspec_ml\n",
    "import json\n",
    "import matplotlib.pyplot as plt"
   ]
  },
  {
   "cell_type": "code",
   "execution_count": null,
   "id": "372b2193-bd21-4e84-9c82-0cc86438ba51",
   "metadata": {},
   "outputs": [],
   "source": [
    "# Paths\n",
    "hyspec_base = Path('/home/mha114/data/massimal/vega_sola/hyperspec/images/2a_rrs/')\n",
    "class_json = Path('/home/mha114/data/massimal/vega_sola/hyperspec/annotation/v2.1/png_gray/label_classes.json')\n",
    "class_hierarchy_json = Path(\"/home/mha114/code/github/massimal/annotation/massimal_annotation_class_hierarchy.json\")\n",
    "pca_dir = Path('/home/mha114/data/massimal/vega_sola/hyperspec/pca_models')\n",
    "spectra_file = Path('/home/mha114/data/massimal/vega_sola/hyperspec/sampled_spectra/sola_sampled_spectra_v1/20220823_Vega_Sola_ExtractedSpectraAndLabels2024-04-27-18h25m55s.npz')\n",
    "\n",
    "timestamp = datetime.now().strftime('%Y-%m-%d-%Hh%Mm%Ss')\n",
    "pca_model_path = pca_dir / f'vega_sola_pca_model_{timestamp}.npz'\n"
   ]
  },
  {
   "cell_type": "code",
   "execution_count": null,
   "id": "9754979a-f372-431d-80bf-bc66af8146aa",
   "metadata": {},
   "outputs": [],
   "source": [
    "# Parameters\n",
    "wl_max = 730\n",
    "wl_min = 400\n",
    "minimum_reflectance = 0.001"
   ]
  },
  {
   "cell_type": "code",
   "execution_count": null,
   "id": "9bbbc178-74b5-4059-baa0-50eb2b57e1e3",
   "metadata": {},
   "outputs": [],
   "source": [
    "# Get wavelengths from example hyspec file\n",
    "example_hyspec_file_path = [path for path in sorted(hyspec_base.rglob('*.hdr'))][0]\n",
    "_,wl,_,_ = hyspec_io.load_envi_image(str(example_hyspec_file_path),rgb_only=True)"
   ]
  },
  {
   "cell_type": "code",
   "execution_count": null,
   "id": "7e6f9aa7-94e6-4688-a035-d6145141c836",
   "metadata": {},
   "outputs": [],
   "source": [
    "# Load data\n",
    "with np.load(spectra_file) as npz_files:\n",
    "    X_raw = npz_files['X']\n",
    "    y_raw = npz_files['y']"
   ]
  },
  {
   "cell_type": "code",
   "execution_count": null,
   "id": "3ce43d5b-62c5-4f3a-b7cb-9c4e44d33c7e",
   "metadata": {},
   "outputs": [],
   "source": [
    "# Remove zero-valued spectra (caused by saturation)\n",
    "nonzero_spectra_mask = ~np.all(X_raw==0,axis=1)\n",
    "X = X_raw[nonzero_spectra_mask,:]\n",
    "y = y_raw[nonzero_spectra_mask]"
   ]
  },
  {
   "cell_type": "code",
   "execution_count": null,
   "id": "5fff3427-20d9-4e2f-8a97-dab0531c77e0",
   "metadata": {},
   "outputs": [],
   "source": [
    "# Ensure non-zero reflectances (better behavior when taking logarithm)\n",
    "X[X<minimum_reflectance] = minimum_reflectance"
   ]
  },
  {
   "cell_type": "code",
   "execution_count": null,
   "id": "c38feffd-041e-42f9-b6f9-54e56b438798",
   "metadata": {},
   "outputs": [],
   "source": [
    "# Load class names and indices\n",
    "class_indices = annotation.read_hasty_metadata(class_json)\n",
    "class_names = {value:key for key,value in class_indices.items()}"
   ]
  },
  {
   "cell_type": "code",
   "execution_count": null,
   "id": "5359c073-34f5-41e5-a129-c35d5b3b525d",
   "metadata": {},
   "outputs": [],
   "source": [
    "# Inspect number of samples per class\n",
    "for class_name, class_index in class_indices.items():\n",
    "    print(f'{class_name:25} {class_index:3} {np.count_nonzero(y==class_index)} samples')"
   ]
  },
  {
   "cell_type": "code",
   "execution_count": null,
   "id": "fd5abfa0-d4ee-452d-8371-ed4f28c554d6",
   "metadata": {},
   "outputs": [],
   "source": [
    "# Load class hierarchy\n",
    "with open(class_hierarchy_json,'r') as file:\n",
    "    class_hierarchy = json.load(file)\n",
    "print(class_hierarchy)"
   ]
  },
  {
   "cell_type": "code",
   "execution_count": null,
   "id": "2a7a8416-7dc3-4bf5-ae6b-62e3a3401a04",
   "metadata": {},
   "outputs": [],
   "source": [
    "# Define grouped classes\n",
    "grouped_classes = ['Sand','Bedrock','Cobble','Maerl','Rockweed','Kelp','Chorda filum']\n",
    "grouped_class_indices = annotation.class_indices_from_hierarchy(class_hierarchy,class_indices,grouped_classes)\n",
    "grouped_class_indices['Brown algae (deep)'] = {class_indices['Brown algae']}\n",
    "print(grouped_class_indices)"
   ]
  },
  {
   "cell_type": "code",
   "execution_count": null,
   "id": "1bb16a20-f678-4478-8515-1280dcf50e5a",
   "metadata": {},
   "outputs": [],
   "source": [
    "# Create \"grouped\" y vector\n",
    "y_grouped = np.zeros_like(y)\n",
    "for i, group_name in enumerate(grouped_class_indices.keys()):\n",
    "    for ci in grouped_class_indices[group_name]:\n",
    "        y_grouped[y==ci] = i+1"
   ]
  },
  {
   "cell_type": "code",
   "execution_count": null,
   "id": "2d229172-626b-44ad-b147-523dcf7d0cf8",
   "metadata": {},
   "outputs": [],
   "source": [
    "# Class histogram\n",
    "y_grouped_values = np.unique(y_grouped)\n",
    "sample_count = [np.count_nonzero(y_grouped==ygv) for ygv in y_grouped_values]\n",
    "plt.bar(y_grouped_values,sample_count)\n",
    "bar_tick_labels = ['Not in groups']+[k for k in grouped_class_indices.keys()]\n",
    "plt.xticks(y_grouped_values,bar_tick_labels,rotation=45)\n",
    "plt.ylabel('Number of samples per class')\n",
    "plt.show()"
   ]
  },
  {
   "cell_type": "code",
   "execution_count": null,
   "id": "f462267c-4285-4d6c-bed1-0db51b067562",
   "metadata": {},
   "outputs": [],
   "source": [
    "print('Not included in any groups:')\n",
    "for not_in_group_ind in np.unique(y[y_grouped==0]):\n",
    "    print(f'  - {class_names[not_in_group_ind]} ({np.count_nonzero(y==not_in_group_ind)} samples)')"
   ]
  },
  {
   "cell_type": "code",
   "execution_count": null,
   "id": "b11ef670-6409-4f5c-a806-5a4dbf41057c",
   "metadata": {},
   "outputs": [],
   "source": [
    "# Limit to wavelength range and convert to logarithmic spectra\n",
    "wl_ind = (wl>= wl_min) & (wl<= wl_max)\n",
    "X_log = np.log10(X[:,wl_ind])\n",
    "print(X_log.shape)"
   ]
  },
  {
   "cell_type": "code",
   "execution_count": null,
   "id": "a3034879-d1c5-4c04-b442-1ba286342d92",
   "metadata": {},
   "outputs": [],
   "source": [
    "# Create PCA model\n",
    "pca = sklearn.decomposition.PCA(n_components=30)\n",
    "_ = pca.fit(X_log)"
   ]
  },
  {
   "cell_type": "code",
   "execution_count": null,
   "id": "33fd3154-cdfc-4ca9-821c-1d73b70e9334",
   "metadata": {},
   "outputs": [],
   "source": [
    "# Plot explained variance ratio\n",
    "plt.semilogy(np.arange(1,pca.n_components+1),pca.explained_variance_ratio_,'-o')\n",
    "plt.ylabel('Explained variance ratio')\n",
    "plt.xlabel('Component number')\n",
    "plt.show()"
   ]
  },
  {
   "cell_type": "code",
   "execution_count": null,
   "id": "a4b6d3dc-e67c-4b20-b237-2424317d6001",
   "metadata": {},
   "outputs": [],
   "source": [
    "print(f'Explained variance using 5 components (in log-domain): {np.sum(pca.explained_variance_ratio_[0:5])*100:.2f} %')"
   ]
  },
  {
   "cell_type": "code",
   "execution_count": null,
   "id": "2e9ed00f-aac6-43f0-9b15-7d98944fa62f",
   "metadata": {},
   "outputs": [],
   "source": [
    "fig, ax = plt.subplots(nrows=3,ncols=3,figsize=(12,12))\n",
    "for i,component in enumerate(pca.components_[0:9]):\n",
    "    ax[i//3][i%3].plot(wl[wl_ind],component)\n",
    "    ax[i//3][i%3].title.set_text(f'Component {i+1}')"
   ]
  },
  {
   "cell_type": "code",
   "execution_count": null,
   "id": "657a5142-4c5d-42a2-b751-2b75a9b8006d",
   "metadata": {},
   "outputs": [],
   "source": [
    "plt.plot(wl[wl_ind],pca.mean_)\n",
    "plt.show()"
   ]
  },
  {
   "cell_type": "code",
   "execution_count": null,
   "id": "6c3b4f29-59ec-4286-8948-095d5ea1251b",
   "metadata": {},
   "outputs": [],
   "source": [
    "# Save model\n",
    "hyspec_ml.save_pca_model(pca,X_log,npz_filename=pca_model_path,n_components=5)\n",
    "# Save wavelengths\n",
    "wl_savename = pca_model_path.parent / (pca_model_path.stem + '_wl.npz')\n",
    "np.savez(npz_filename)"
   ]
  },
  {
   "cell_type": "code",
   "execution_count": null,
   "id": "86e560f4-fe29-4791-9e32-ae21079d60c7",
   "metadata": {},
   "outputs": [],
   "source": [
    "# Load saved model (check that saving was successful)\n",
    "# W_pca,X_mean_loaded,X_std_loaded = hyspec_ml.read_pca_model(pca_model_path)"
   ]
  },
  {
   "cell_type": "code",
   "execution_count": null,
   "id": "ca71b786-8bea-4364-9a99-8d1edeae9684",
   "metadata": {},
   "outputs": [],
   "source": [
    "# assert np.allclose(W_pca,np.transpose(pca.components_[0:8,:]),rtol=1e-2)  # Almost equal - PCA not always the same?\n",
    "# assert np.allclose(X_mean, X_mean_loaded)\n",
    "# assert np.allclose(X_std, X_std_loaded)"
   ]
  },
  {
   "cell_type": "code",
   "execution_count": null,
   "id": "49597c9f-63ca-4a30-a023-55e908d8e03f",
   "metadata": {},
   "outputs": [],
   "source": []
  }
 ],
 "metadata": {
  "kernelspec": {
   "display_name": "Python (massimal)",
   "language": "python",
   "name": "massimal"
  },
  "language_info": {
   "codemirror_mode": {
    "name": "ipython",
    "version": 3
   },
   "file_extension": ".py",
   "mimetype": "text/x-python",
   "name": "python",
   "nbconvert_exporter": "python",
   "pygments_lexer": "ipython3",
   "version": "3.10.5"
  }
 },
 "nbformat": 4,
 "nbformat_minor": 5
}
