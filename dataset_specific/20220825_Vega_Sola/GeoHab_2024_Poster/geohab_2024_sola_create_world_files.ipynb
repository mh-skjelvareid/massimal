{
 "cells": [
  {
   "cell_type": "code",
   "execution_count": 1,
   "id": "f11f8cca-14b0-4ddb-81dd-2cc24c664391",
   "metadata": {
    "tags": []
   },
   "outputs": [],
   "source": [
    "from pathlib import Path\n",
    "from massimal import georeferencing\n",
    "from tqdm import tqdm"
   ]
  },
  {
   "cell_type": "code",
   "execution_count": 2,
   "id": "4d1f7847-1992-4535-a8db-334db0bd90e4",
   "metadata": {},
   "outputs": [],
   "source": [
    "# Paths\n",
    "hyspec_base = Path('/home/mha114/data/massimal/vega_sola/hyperspec/images/2a_rrs/')\n",
    "# world_file_dir = Path('/home/mha114/data/massimal/vega_sola/hyperspec/rgb/worldfiles/worldfiles_v1')\n",
    "world_file_dir = Path('/home/mha114/data/massimal/vega_sola/hyperspec/rgb/worldfiles/worldfiles_all')\n",
    "water_mask_base = Path('/home/mha114/data/massimal/vega_sola/hyperspec/watermask/')\n",
    "subfolders = ['Coast1','Coast2','Coast3','Sound1','Sound2','Sound3a','Sound3b']\n",
    "\n",
    "# Create subfolder if it doesn't exist\n",
    "world_file_dir.mkdir(exist_ok=True,parents=True)"
   ]
  },
  {
   "cell_type": "code",
   "execution_count": 3,
   "id": "84362efc-32cc-4e3a-b2d5-525a2ef66ab9",
   "metadata": {},
   "outputs": [
    {
     "name": "stdout",
     "output_type": "stream",
     "text": [
      "Processing subfolder Coast1\n"
     ]
    },
    {
     "name": "stderr",
     "output_type": "stream",
     "text": [
      "100%|██████████| 31/31 [00:03<00:00,  9.07it/s]\n"
     ]
    },
    {
     "name": "stdout",
     "output_type": "stream",
     "text": [
      "Processing subfolder Coast2\n"
     ]
    },
    {
     "name": "stderr",
     "output_type": "stream",
     "text": [
      "100%|██████████| 31/31 [00:03<00:00,  8.78it/s]\n"
     ]
    },
    {
     "name": "stdout",
     "output_type": "stream",
     "text": [
      "Processing subfolder Coast3\n"
     ]
    },
    {
     "name": "stderr",
     "output_type": "stream",
     "text": [
      "100%|██████████| 28/28 [00:03<00:00,  9.24it/s]\n"
     ]
    },
    {
     "name": "stdout",
     "output_type": "stream",
     "text": [
      "Processing subfolder Sound1\n"
     ]
    },
    {
     "name": "stderr",
     "output_type": "stream",
     "text": [
      "100%|██████████| 29/29 [00:03<00:00,  8.57it/s]\n"
     ]
    },
    {
     "name": "stdout",
     "output_type": "stream",
     "text": [
      "Processing subfolder Sound2\n"
     ]
    },
    {
     "name": "stderr",
     "output_type": "stream",
     "text": [
      "100%|██████████| 32/32 [00:03<00:00,  9.34it/s]\n"
     ]
    },
    {
     "name": "stdout",
     "output_type": "stream",
     "text": [
      "Processing subfolder Sound3a\n"
     ]
    },
    {
     "name": "stderr",
     "output_type": "stream",
     "text": [
      "100%|██████████| 30/30 [00:03<00:00,  9.25it/s]\n"
     ]
    },
    {
     "name": "stdout",
     "output_type": "stream",
     "text": [
      "Processing subfolder Sound3b\n"
     ]
    },
    {
     "name": "stderr",
     "output_type": "stream",
     "text": [
      "100%|██████████| 28/28 [00:03<00:00,  9.33it/s]\n"
     ]
    }
   ],
   "source": [
    "# Loop through all folders and images and create percentile stretched RGB image\n",
    "for subfolder in subfolders:\n",
    "    print(f'Processing subfolder {subfolder}')\n",
    "    \n",
    "    # Construct folder paths for current subfolder\n",
    "    hyspec_folder = hyspec_base / subfolder\n",
    "    water_mask_folder = water_mask_base / subfolder\n",
    "\n",
    "    # Loop through all images which have water masks (some or all of image has water)\n",
    "    #image_stems = [Path(image_path).name.split('.')[0] for image_path in sorted(water_mask_folder.glob('*.png'))]\n",
    "    hyspec_paths = hyspec_folder.glob('*.hdr')\n",
    "    image_stems = [hyspec_path.name.split('.')[0] for hyspec_path in hyspec_paths]\n",
    "    \n",
    "    for image_stem in tqdm(image_stems,leave=True):\n",
    "        lcf_file_name = image_stem + '.lcf'\n",
    "        times_file_name = image_stem + '.bip.times'\n",
    "        world_file_name = image_stem + '.bip.wld'\n",
    "\n",
    "        lcf_file_path = hyspec_folder / lcf_file_name\n",
    "        times_file_path = hyspec_folder / times_file_name\n",
    "        world_file_path = world_file_dir / world_file_name\n",
    "        \n",
    "        try:\n",
    "            georeferencing.world_file_from_lcf_times_files(lcf_file_path,times_file_path,world_file_path)\n",
    "        except e:\n",
    "            print(f'Error: {e=}')\n"
   ]
  },
  {
   "cell_type": "code",
   "execution_count": 4,
   "id": "1c8069f2-56c6-4ddd-a12f-27e8e9ea3070",
   "metadata": {},
   "outputs": [
    {
     "data": {
      "text/plain": [
       "['Vega_SolaNW_Sound3b_Pika_L_19-Crop Wavelengths',\n",
       " 'Vega_SolaNW_Sound3b_Pika_L_1-Crop Wavelengths',\n",
       " 'Vega_SolaNW_Sound3b_Pika_L_5-Crop Wavelengths',\n",
       " 'Vega_SolaNW_Sound3b_Pika_L_28-Crop Wavelengths',\n",
       " 'Vega_SolaNW_Sound3b_Pika_L_15-Crop Wavelengths',\n",
       " 'Vega_SolaNW_Sound3b_Pika_L_25-Crop Wavelengths',\n",
       " 'Vega_SolaNW_Sound3b_Pika_L_16-Crop Wavelengths',\n",
       " 'Vega_SolaNW_Sound3b_Pika_L_7-Crop Wavelengths',\n",
       " 'Vega_SolaNW_Sound3b_Pika_L_18-Crop Wavelengths',\n",
       " 'Vega_SolaNW_Sound3b_Pika_L_27-Crop Wavelengths',\n",
       " 'Vega_SolaNW_Sound3b_Pika_L_2-Crop Wavelengths',\n",
       " 'Vega_SolaNW_Sound3b_Pika_L_8-Crop Wavelengths',\n",
       " 'Vega_SolaNW_Sound3b_Pika_L_6-Crop Wavelengths',\n",
       " 'Vega_SolaNW_Sound3b_Pika_L_13-Crop Wavelengths',\n",
       " 'Vega_SolaNW_Sound3b_Pika_L_20-Crop Wavelengths',\n",
       " 'Vega_SolaNW_Sound3b_Pika_L_10-Crop Wavelengths',\n",
       " 'Vega_SolaNW_Sound3b_Pika_L_14-Crop Wavelengths',\n",
       " 'Vega_SolaNW_Sound3b_Pika_L_3-Crop Wavelengths',\n",
       " 'Vega_SolaNW_Sound3b_Pika_L_21-Crop Wavelengths',\n",
       " 'Vega_SolaNW_Sound3b_Pika_L_11-Crop Wavelengths',\n",
       " 'Vega_SolaNW_Sound3b_Pika_L_9-Crop Wavelengths',\n",
       " 'Vega_SolaNW_Sound3b_Pika_L_26-Crop Wavelengths',\n",
       " 'Vega_SolaNW_Sound3b_Pika_L_23-Crop Wavelengths',\n",
       " 'Vega_SolaNW_Sound3b_Pika_L_22-Crop Wavelengths',\n",
       " 'Vega_SolaNW_Sound3b_Pika_L_17-Crop Wavelengths',\n",
       " 'Vega_SolaNW_Sound3b_Pika_L_4-Crop Wavelengths',\n",
       " 'Vega_SolaNW_Sound3b_Pika_L_12-Crop Wavelengths',\n",
       " 'Vega_SolaNW_Sound3b_Pika_L_24-Crop Wavelengths']"
      ]
     },
     "execution_count": 4,
     "metadata": {},
     "output_type": "execute_result"
    }
   ],
   "source": [
    "image_stems"
   ]
  },
  {
   "cell_type": "code",
   "execution_count": 5,
   "id": "197274d3-564d-429e-9124-7c6c173992b7",
   "metadata": {},
   "outputs": [
    {
     "data": {
      "text/plain": [
       "<generator object Path.glob at 0x7f40b52cf8b0>"
      ]
     },
     "execution_count": 5,
     "metadata": {},
     "output_type": "execute_result"
    }
   ],
   "source": [
    "hyspec_paths"
   ]
  },
  {
   "cell_type": "code",
   "execution_count": 6,
   "id": "25f15043-0d56-4ce6-b157-f8626712f527",
   "metadata": {},
   "outputs": [
    {
     "data": {
      "text/plain": [
       "[]"
      ]
     },
     "execution_count": 6,
     "metadata": {},
     "output_type": "execute_result"
    }
   ],
   "source": [
    "sorted(hyspec_paths)"
   ]
  },
  {
   "cell_type": "code",
   "execution_count": 7,
   "id": "8ff299d8-cc81-4160-ab35-bb02a7f9fdb1",
   "metadata": {},
   "outputs": [
    {
     "data": {
      "text/plain": [
       "PosixPath('/home/mha114/data/massimal/vega_sola/hyperspec/images/2a_rrs/Sound3b')"
      ]
     },
     "execution_count": 7,
     "metadata": {},
     "output_type": "execute_result"
    }
   ],
   "source": [
    "hyspec_folder"
   ]
  },
  {
   "cell_type": "code",
   "execution_count": null,
   "id": "4e9313ff-54f6-4162-9f3f-4ca03e72663a",
   "metadata": {},
   "outputs": [],
   "source": []
  }
 ],
 "metadata": {
  "kernelspec": {
   "display_name": "Python (massimal)",
   "language": "python",
   "name": "massimal"
  },
  "language_info": {
   "codemirror_mode": {
    "name": "ipython",
    "version": 3
   },
   "file_extension": ".py",
   "mimetype": "text/x-python",
   "name": "python",
   "nbconvert_exporter": "python",
   "pygments_lexer": "ipython3",
   "version": "3.10.5"
  }
 },
 "nbformat": 4,
 "nbformat_minor": 5
}
