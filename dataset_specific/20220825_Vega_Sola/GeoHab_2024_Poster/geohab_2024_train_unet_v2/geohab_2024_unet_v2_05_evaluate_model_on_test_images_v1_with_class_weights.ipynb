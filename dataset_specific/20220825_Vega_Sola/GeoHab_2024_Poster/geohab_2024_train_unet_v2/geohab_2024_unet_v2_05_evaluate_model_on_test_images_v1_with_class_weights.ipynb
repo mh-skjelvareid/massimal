{
 "cells": [
  {
   "cell_type": "code",
   "execution_count": 1,
   "id": "c444c1a2-f48d-4eed-8663-eaf2c85c1591",
   "metadata": {},
   "outputs": [],
   "source": [
    "# Disable TensorFlow debugging info and warnings\n",
    "import os\n",
    "os.environ['TF_CPP_MIN_LOG_LEVEL'] = '2'  # 2: Info and warnings not displayed "
   ]
  },
  {
   "cell_type": "code",
   "execution_count": 2,
   "id": "62eaae86-1caf-4ad1-a22a-5e9c9fb9b20a",
   "metadata": {},
   "outputs": [],
   "source": [
    "import numpy as np\n",
    "import skimage.io\n",
    "import skimage.exposure\n",
    "import matplotlib.pyplot as plt\n",
    "import matplotlib.colors\n",
    "from pathlib import Path\n",
    "import tensorflow as tf\n",
    "from tqdm import tqdm\n",
    "from massimal import annotation, image_render, hyspec_cnn\n",
    "import sklearn.metrics\n",
    "import json"
   ]
  },
  {
   "cell_type": "code",
   "execution_count": 3,
   "id": "128b2466-8fae-47e5-8263-6980e5458ffc",
   "metadata": {},
   "outputs": [],
   "source": [
    "# Disable GPUs (in case of Tensorflow trying to use GPUs and raising errors)\n",
    "tf.config.set_visible_devices([], 'GPU')"
   ]
  },
  {
   "cell_type": "code",
   "execution_count": 4,
   "id": "f2690cc3-826d-45f9-a54c-20b9edd38952",
   "metadata": {},
   "outputs": [],
   "source": [
    "# Paths\n",
    "val_im_dir = Path('/home/mha114/data/massimal/vega_sola/hyperspec/datasets/pca_images/pca_images_log_rrs_v2/val/')\n",
    "water_mask_dir = Path('/home/mha114/data/massimal/vega_sola/hyperspec/watermask/')\n",
    "rgb_im_dir = Path('/home/mha114/data/massimal/vega_sola/hyperspec/annotation/rgb_images/')\n",
    "unet_model_path = Path('/home/mha114/data/massimal/vega_sola/hyperspec/models/geohab_unet_log_rrs_v2/2024-05-01-15h09m16s/unet_model.depth3.epoch108-loss0.059994-acc0.681.hdf5')\n",
    "\n",
    "rgb_ann_pred_im_dir = Path('/home/mha114/data/massimal/vega_sola/hyperspec/figures/geohab_2024/val_im_rgb_ann_pred/')\n",
    "pred_im_dir = Path('/home/mha114/data/massimal/vega_sola/hyperspec/figures/geohab_2024/val_im_pred/')\n",
    "ann_im_dir = Path('/home/mha114/data/massimal/vega_sola/hyperspec/figures/geohab_2024/val_im_ann/')\n",
    "figure_dir = Path('/home/mha114/data/massimal/vega_sola/hyperspec/figures/geohab_2024/figures/')\n",
    "figure_dir.mkdir(exist_ok=True)"
   ]
  },
  {
   "cell_type": "code",
   "execution_count": 5,
   "id": "1acb111f-7cc8-4297-ae54-c1e55711a155",
   "metadata": {},
   "outputs": [],
   "source": [
    "# Parameters\n",
    "PAD_MULTIPLE = 8\n",
    "ORIGINAL_WIDTH_PIXELS = 900\n",
    "\n",
    "grouped_class_indices = {\n",
    "    'Sand': {9}, \n",
    "    'Bedrock': {4}, \n",
    "    'Maerl': {33}, \n",
    "    'Rockweed': {19, 20, 21, 22, 23, 25, 26, 27}, \n",
    "    'Kelp': {13, 14, 15}, \n",
    "    'Chorda filum': {29}, \n",
    "    'Brown algae (deep)': {12, 16, 17, 18, 24, 30}}\n",
    "\n",
    "# Create custom colormap for classes (including background:0)\n",
    "custom_cmap = matplotlib.colors.ListedColormap(colors=['darkgray',           # Background - darkgray \n",
    "                                                       'darkturquoise',   # Sand\n",
    "                                                       'pink',            # Bedrock\n",
    "                                                       'magenta',         # Maerl bed\n",
    "                                                       'seagreen',        # Rockweed\n",
    "                                                       'darkorange',      # Kelp \n",
    "                                                       'red',             # Chorda filum (alt. 'lime'?)\n",
    "                                                       'brown'])          # Brown algae"
   ]
  },
  {
   "cell_type": "code",
   "execution_count": 6,
   "id": "d522d841-572b-4097-98f6-a8639c4153b7",
   "metadata": {},
   "outputs": [
    {
     "name": "stdout",
     "output_type": "stream",
     "text": [
      "['Background', 'Sand', 'Bedrock', 'Maerl', 'Rockweed', 'Kelp', 'Chorda filum', 'Brown algae (deep)']\n"
     ]
    }
   ],
   "source": [
    "# Define grouped classes\n",
    "class_names = ['Background'] + [k for k in grouped_class_indices.keys()]\n",
    "print(class_names)"
   ]
  },
  {
   "cell_type": "code",
   "execution_count": 7,
   "id": "d0bf3d64-ad73-4817-817b-57f924be1b6c",
   "metadata": {},
   "outputs": [
    {
     "name": "stdout",
     "output_type": "stream",
     "text": [
      "[0.5, 1.5, 2.5, 3.5, 4.5, 5.5, 6.5, 7.5]\n",
      "['Background', 'Sand', 'Bedrock', 'Maerl', 'Rockweed', 'Kelp', 'Chorda filum', 'Brown algae (deep)']\n"
     ]
    }
   ],
   "source": [
    "# Set plotting info based on class info\n",
    "cbar_vmin = 0\n",
    "cbar_vmax = len(class_names)-0.01\n",
    "cbar_ticks = [i+0.5 for i in range(len(class_names))]\n",
    "cbar_ticklabels = class_names\n",
    "\n",
    "print(cbar_ticks)\n",
    "print(cbar_ticklabels)"
   ]
  },
  {
   "cell_type": "code",
   "execution_count": 8,
   "id": "3226a627-2689-4333-ab12-bf1efaed589c",
   "metadata": {},
   "outputs": [],
   "source": [
    "# Get dataset paths, load and merge datasets\n",
    "val_image_paths = [path for path in sorted(val_im_dir.glob('*'))]\n",
    "val_images = tf.data.experimental.load(str(val_image_paths[0]))                # Load first image as initial dataset\n",
    "for val_image_path in val_image_paths[1:]:                                # For every consecutive image,\n",
    "    val_images = val_images.concatenate(tf.data.experimental.load(str(val_image_path)))     # Append to dataset"
   ]
  },
  {
   "cell_type": "code",
   "execution_count": 9,
   "id": "77a52001-8600-42e9-a6d7-9f3635550033",
   "metadata": {},
   "outputs": [],
   "source": [
    "# Create list of image names\n",
    "image_names = [path.stem for path in val_image_paths]"
   ]
  },
  {
   "cell_type": "code",
   "execution_count": 10,
   "id": "211c5981-3d70-4322-b0f1-64abde4cecfb",
   "metadata": {},
   "outputs": [],
   "source": [
    "# Pad to multiple \n",
    "pca_images = []\n",
    "label_images = []\n",
    "for pca_im, label_im in val_images.as_numpy_iterator():\n",
    "    pca_images.append(hyspec_cnn.pad_image_to_multiple(pca_im,PAD_MULTIPLE))\n",
    "    label_images.append(hyspec_cnn.pad_image_to_multiple(label_im,PAD_MULTIPLE))"
   ]
  },
  {
   "cell_type": "code",
   "execution_count": 11,
   "id": "31aef9c4-1936-47b9-9413-68a03733c05a",
   "metadata": {},
   "outputs": [],
   "source": [
    "# Load RGB_images\n",
    "rgb_images = []\n",
    "for image_name in image_names:\n",
    "    rgb_im_path = [path for path in rgb_im_dir.rglob(image_name+'.bip.png')][0]\n",
    "    rgb_im = skimage.io.imread(rgb_im_path)\n",
    "    rgb_im_padded = hyspec_cnn.pad_image_to_multiple(rgb_im,PAD_MULTIPLE)\n",
    "    rgb_images.append(rgb_im_padded)"
   ]
  },
  {
   "cell_type": "code",
   "execution_count": 12,
   "id": "59c8acab-eda7-4427-b568-48e5192d66ea",
   "metadata": {},
   "outputs": [],
   "source": [
    "# Create masks for valid data (water, not saturated)\n",
    "valid_data_masks = []\n",
    "for image_name, pca_im in zip(image_names,pca_images):\n",
    "    water_mask_path = [path for path in water_mask_dir.rglob(image_name+'.bip.png')][0]\n",
    "    water_mask = skimage.io.imread(water_mask_path)\n",
    "    water_mask = hyspec_cnn.pad_image_to_multiple(water_mask,PAD_MULTIPLE) != 0\n",
    "    nonzero_mask = ~np.all(pca_im==0,axis=2)\n",
    "    valid_data_masks.append(water_mask*nonzero_mask)"
   ]
  },
  {
   "cell_type": "code",
   "execution_count": 13,
   "id": "c90776b9-52f8-488d-8002-1c5cfd4997c1",
   "metadata": {},
   "outputs": [],
   "source": [
    "# Load UNet model \n",
    "unet = tf.keras.models.load_model(unet_model_path)"
   ]
  },
  {
   "cell_type": "code",
   "execution_count": 14,
   "id": "370a11dd-503f-4225-b8ed-ec138eb8d62f",
   "metadata": {},
   "outputs": [
    {
     "name": "stderr",
     "output_type": "stream",
     "text": [
      "100%|██████████| 39/39 [00:38<00:00,  1.02it/s]\n"
     ]
    }
   ],
   "source": [
    "# Predict labels for all images\n",
    "label_images_pred = []\n",
    "for pca_im in tqdm(pca_images):\n",
    "    label_images_pred.append(hyspec_cnn.unet_classify_single_image(unet,pca_im))"
   ]
  },
  {
   "cell_type": "code",
   "execution_count": 15,
   "id": "7f3d87d0-dbb1-4abb-a002-6e9d1211a7c9",
   "metadata": {
    "scrolled": true,
    "tags": []
   },
   "outputs": [],
   "source": [
    "# for rgb_im, valid_mask, label_im, label_im_pred,image_name in tqdm(zip(\n",
    "#         rgb_images, valid_data_masks, label_images,label_images_pred,image_names)):\n",
    "#     fig,(ax0,ax1,ax2) = plt.subplots(nrows=1,ncols=3,figsize=(12,8))\n",
    "#     im0 = ax0.imshow(rgb_im*np.expand_dims(valid_mask,axis=2))\n",
    "#     ax0.set_title('RGB render')\n",
    "#     im1 = ax1.imshow(label_im*valid_mask,cmap=custom_cmap,vmin=cbar_vmin,vmax=cbar_vmax,interpolation='none')\n",
    "#     ax1.set_title('Annotation')\n",
    "#     im2 = ax2.imshow(label_im_pred*valid_mask,cmap=custom_cmap,vmin=cbar_vmin,vmax=cbar_vmax,interpolation='none')\n",
    "#     ax2.set_title('Predicted classes')\n",
    "#     for ax in (ax0,ax1,ax2):\n",
    "#         ax.set_xticks([])\n",
    "#         ax.set_yticks([])\n",
    "#     fig.subplots_adjust(right=0.8)                   # Make room for colorbar\n",
    "#     cbar_ax = fig.add_axes([0.82, 0.175, 0.02, 0.65])  # [left, bottom, width, height] \n",
    "#     cbar = fig.colorbar(im1, cax=cbar_ax)\n",
    "#     cbar.set_ticks(cbar_ticks)\n",
    "#     cbar.set_ticklabels(cbar_ticklabels)\n",
    "#     plt.savefig(rgb_ann_pred_im_dir/(image_name+'.png'),\n",
    "#                 dpi=300,\n",
    "#                 bbox_inches='tight',\n",
    "#                 transparent=True)\n",
    "#     plt.show()"
   ]
  },
  {
   "cell_type": "code",
   "execution_count": 16,
   "id": "b6098a65-535e-4943-b513-41102bff5bd8",
   "metadata": {},
   "outputs": [],
   "source": [
    "# for label_im_pred,valid_mask,image_name in tqdm(zip(label_images_pred,valid_data_masks,image_names)):\n",
    "#     label_im_pred = label_im_pred*valid_mask\n",
    "#     label_im_pred = label_im_pred[:,0:ORIGINAL_WIDTH_PIXELS]\n",
    "#     plt.imsave(\n",
    "#         fname=pred_im_dir/(image_name+'.bip.png'),\n",
    "#         arr=label_im_pred,\n",
    "#         cmap=custom_cmap,\n",
    "#         vmin=cbar_vmin,\n",
    "#         vmax=cbar_vmax)\n"
   ]
  },
  {
   "cell_type": "code",
   "execution_count": 17,
   "id": "02918c24-970a-40c1-8a49-5b371d739b5c",
   "metadata": {},
   "outputs": [],
   "source": [
    "# for label_im,image_name in tqdm(zip(label_images,image_names)):\n",
    "#     plt.imsave(\n",
    "#         fname=ann_im_dir/(image_name+'.bip.png'),\n",
    "#         arr=label_im,\n",
    "#         cmap=custom_cmap,\n",
    "#         vmin=cbar_vmin,\n",
    "#         vmax=cbar_vmax)\n"
   ]
  },
  {
   "cell_type": "code",
   "execution_count": 18,
   "id": "f8640569-fc6d-467f-be83-f1e301356e9f",
   "metadata": {},
   "outputs": [
    {
     "name": "stderr",
     "output_type": "stream",
     "text": [
      "39it [00:00, 288.36it/s]\n"
     ]
    }
   ],
   "source": [
    "# Make confusion matrix based on test images\n",
    "y_true = []\n",
    "y_pred = []\n",
    "\n",
    "for valid_mask, label_im, label_im_pred in tqdm(zip(valid_data_masks, label_images,label_images_pred)):\n",
    "    annotated_mask = label_im != 0\n",
    "    y_true.append(label_im[valid_mask*annotated_mask])\n",
    "    y_pred.append(label_im_pred[valid_mask*annotated_mask])\n",
    "\n",
    "y_true = np.concatenate(y_true)\n",
    "y_pred = np.concatenate(y_pred)\n",
    "\n",
    "# Remove zero-valued predictions (only very few). Odd - check out.\n",
    "nonzero_pred = (y_pred != 0)\n",
    "y_true = y_true[nonzero_pred]\n",
    "y_pred = y_pred[nonzero_pred]\n",
    "\n",
    "confusion_matrix = sklearn.metrics.confusion_matrix(y_true,y_pred,normalize='true')"
   ]
  },
  {
   "cell_type": "code",
   "execution_count": 19,
   "id": "a610320a-9c85-41cd-a8f9-0a1f2202b1dc",
   "metadata": {},
   "outputs": [
    {
     "data": {
      "image/png": "[encoded data removed]",
      "text/plain": [
       "<Figure size 640x480 with 2 Axes>"
      ]
     },
     "metadata": {},
     "output_type": "display_data"
    }
   ],
   "source": [
    "# Show confusion matrix\n",
    "disp = sklearn.metrics.ConfusionMatrixDisplay(confusion_matrix*100,display_labels=cbar_ticklabels[1:])\n",
    "disp.plot(xticks_rotation='vertical',cmap='gist_earth',values_format='.1f')\n",
    "plt.savefig(figure_dir/'vega_sola_confusionmatrix_depth3_withdropout_8firstchannels_weightedloss.png',\n",
    "            dpi=300,\n",
    "            bbox_inches='tight',\n",
    "            transparent=True)\n",
    "plt.show()"
   ]
  },
  {
   "cell_type": "code",
   "execution_count": 22,
   "id": "ea3f308f-0fdf-4ca8-a529-3b91087061a4",
   "metadata": {},
   "outputs": [],
   "source": [
    "classification_report = sklearn.metrics.classification_report(y_true,y_pred)"
   ]
  },
  {
   "cell_type": "code",
   "execution_count": 23,
   "id": "d56a9d3f-3879-4908-9382-37d2c7c216d9",
   "metadata": {},
   "outputs": [
    {
     "name": "stdout",
     "output_type": "stream",
     "text": [
      "              precision    recall  f1-score   support\n",
      "\n",
      "           1       0.84      0.89      0.86   2864597\n",
      "           2       0.76      0.65      0.70   3826572\n",
      "           3       0.75      0.74      0.74   6610192\n",
      "           4       0.75      0.61      0.68   1194793\n",
      "           5       0.90      0.31      0.46    412513\n",
      "           6       0.61      0.60      0.60   1916259\n",
      "           7       0.46      0.71      0.56   2040285\n",
      "\n",
      "    accuracy                           0.71  18865211\n",
      "   macro avg       0.73      0.64      0.66  18865211\n",
      "weighted avg       0.73      0.71      0.71  18865211\n",
      "\n"
     ]
    }
   ],
   "source": [
    "print(classification_report)"
   ]
  },
  {
   "cell_type": "code",
   "execution_count": null,
   "id": "52061442-834c-4b51-b957-2072010fd269",
   "metadata": {},
   "outputs": [],
   "source": []
  }
 ],
 "metadata": {
  "kernelspec": {
   "display_name": "Python (massimal)",
   "language": "python",
   "name": "massimal"
  },
  "language_info": {
   "codemirror_mode": {
    "name": "ipython",
    "version": 3
   },
   "file_extension": ".py",
   "mimetype": "text/x-python",
   "name": "python",
   "nbconvert_exporter": "python",
   "pygments_lexer": "ipython3",
   "version": "3.10.5"
  }
 },
 "nbformat": 4,
 "nbformat_minor": 5
}
