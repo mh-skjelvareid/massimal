{
 "cells": [
  {
   "cell_type": "code",
   "execution_count": 1,
   "id": "3b59b2ce",
   "metadata": {},
   "outputs": [],
   "source": [
    "import video_transect, misc\n",
    "import pathlib"
   ]
  },
  {
   "cell_type": "code",
   "execution_count": 2,
   "id": "73bcd1f1",
   "metadata": {},
   "outputs": [],
   "source": [
    "# Paths\n",
    "# transect_dirs = ['/media/mha114/Massimal/Vega_Sola/Transects/Otter/Sola_01/20220820_134500_Sola01b',\n",
    "#                  '/media/mha114/Massimal/Vega_Sola/Transects/Otter/Sola_02/20220820_160305_Sola02',\n",
    "#                  '/media/mha114/Massimal/Vega_Sola/Transects/Otter/Sola_03/20220821_142404_Sola03']\n",
    "# transect_dirs = ['/media/mha114/Massimal/Vega_Sola/Transects/Otter/Test']\n",
    "transect_dirs = ['/media/mha114/Massimal/Vega_Sola/Transects/Otter/Sola_01/20220820_134500_Sola01b']\n"
   ]
  },
  {
   "cell_type": "code",
   "execution_count": 3,
   "id": "303591b8",
   "metadata": {},
   "outputs": [],
   "source": [
    "# Parameters\n",
    "sample_distance = 1.0"
   ]
  },
  {
   "cell_type": "code",
   "execution_count": 4,
   "id": "c94ac43c",
   "metadata": {},
   "outputs": [
    {
     "name": "stderr",
     "output_type": "stream",
     "text": [
      "100%|███████████████████████████████████████| 1410/1410 [14:05<00:00,  1.67it/s]\n"
     ]
    },
    {
     "name": "stdout",
     "output_type": "stream",
     "text": [
      "['/media/mha114/Massimal/Vega_Sola/Transects/Otter/Sola_01/20220820_134500_Sola01b/GoPro/GX010060.MP4', '/media/mha114/Massimal/Vega_Sola/Transects/Otter/Sola_01/20220820_134500_Sola01b/GoPro/GX020060.MP4', '/media/mha114/Massimal/Vega_Sola/Transects/Otter/Sola_01/20220820_134500_Sola01b/GoPro/GX030060.MP4', '/media/mha114/Massimal/Vega_Sola/Transects/Otter/Sola_01/20220820_134500_Sola01b/GoPro/GX040060.MP4', '/media/mha114/Massimal/Vega_Sola/Transects/Otter/Sola_01/20220820_134500_Sola01b/GoPro/GX050060.MP4']\n"
     ]
    }
   ],
   "source": [
    "for tdir in transect_dirs:\n",
    "    transect_dir = pathlib.Path(tdir)\n",
    "    video_dir = transect_dir / 'GoPro'\n",
    "    image_dir = transect_dir / 'Images'\n",
    "    image_dir.mkdir(exist_ok=True)\n",
    "    gpkg_dir = transect_dir / 'Images Geopackage'\n",
    "    gpkg_dir.mkdir(exist_ok=True)\n",
    "    gpkg_file = gpkg_dir / (transect_dir.stem + '_GeotaggedImages.gpkg')\n",
    "    csv_file = misc.file_pattern_search(str(transect_dir),'*Gnss*.csv', recursive=True)[0]\n",
    "\n",
    "    video_files = misc.file_pattern_search(str(video_dir), '*.[Mm][Pp]4')\n",
    "    video_data = video_transect.get_video_data(str(video_dir))\n",
    "    \n",
    "    gdf = video_transect.otter_csv_to_geodataframe(csv_file)\n",
    "    gdf = video_transect.filter_gdf_on_distance(gdf,sample_distance)\n",
    "    gdf = video_transect.prepare_gdf_with_video_data(gdf,video_data)\n",
    "    gdf = video_transect.extract_images_from_video(gdf,str(image_dir))\n",
    "    gdf.to_file(gpkg_file, driver=\"GPKG\")\n",
    "    \n",
    "    print(video_files)"
   ]
  },
  {
   "cell_type": "code",
   "execution_count": null,
   "id": "76de971c",
   "metadata": {},
   "outputs": [],
   "source": []
  }
 ],
 "metadata": {
  "kernelspec": {
   "display_name": "Python 3 (ipykernel)",
   "language": "python",
   "name": "python3"
  },
  "language_info": {
   "codemirror_mode": {
    "name": "ipython",
    "version": 3
   },
   "file_extension": ".py",
   "mimetype": "text/x-python",
   "name": "python",
   "nbconvert_exporter": "python",
   "pygments_lexer": "ipython3",
   "version": "3.9.12"
  }
 },
 "nbformat": 4,
 "nbformat_minor": 5
}
