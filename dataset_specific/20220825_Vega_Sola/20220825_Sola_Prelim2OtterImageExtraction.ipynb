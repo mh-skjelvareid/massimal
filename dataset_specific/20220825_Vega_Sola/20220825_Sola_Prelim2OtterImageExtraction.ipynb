{
 "cells": [
  {
   "cell_type": "code",
   "execution_count": 1,
   "id": "bc600f29",
   "metadata": {},
   "outputs": [],
   "source": [
    "import matplotlib.pyplot as plt\n",
    "import video_transect, misc\n",
    "import geopandas\n",
    "import ffmpeg\n",
    "import pandas as pd\n",
    "import datetime\n",
    "import numpy as np\n",
    "import tqdm\n",
    "import pathlib\n",
    "\n",
    "from video_transect import image_from_video\n",
    "from video_transect import sec_to_timestring"
   ]
  },
  {
   "cell_type": "code",
   "execution_count": 2,
   "id": "968a5d49",
   "metadata": {},
   "outputs": [],
   "source": [
    "# Paths\n",
    "video_dir = '/media/mha114/Massimal/Vega_Sola/Transects/Otter/Sola_01/20220820_134500_Sola01b/GoPro'\n",
    "# video_dir = '/media/mha114/Massimal/Vega_Sola/Transects/Otter/Sola_01/TestImageExtraction'\n",
    "# video_dir = '/media/mha114/Massimal/Vega_Sola/Transects/Otter/Sola_02/20220820_160305_Sola02/GoPro'\n",
    "# video_dir = '/media/mha114/Massimal/Bodo_Juvika/Video-WalkGroundTransect'\n",
    "\n",
    "csv_file = '/media/mha114/Massimal/Vega_Sola/Transects/Otter/Sola_01/20220820_134500_Sola01b/CSV and mat files/20220820_134500_GnssTimePosHeadCourSpeed.csv'\n",
    "image_dir = '/media/mha114/Massimal/Vega_Sola/Transects/Otter/Sola_01/20220820_134500_Sola01b/Extracted images'\n",
    "gpk_file = '/media/mha114/Massimal/Vega_Sola/Transects/Otter/Sola_01/20220820_134500_Sola01b/Images Geopackage/Sola_1b.gpkg'"
   ]
  },
  {
   "cell_type": "code",
   "execution_count": 3,
   "id": "b21c9364",
   "metadata": {},
   "outputs": [],
   "source": [
    "video_files = misc.file_pattern_search(video_dir, '*.[Mm][Pp]4')"
   ]
  },
  {
   "cell_type": "code",
   "execution_count": 4,
   "id": "91fc5c6d",
   "metadata": {},
   "outputs": [
    {
     "data": {
      "text/plain": [
       "['/media/mha114/Massimal/Vega_Sola/Transects/Otter/Sola_01/20220820_134500_Sola01b/GoPro/GX010060.MP4',\n",
       " '/media/mha114/Massimal/Vega_Sola/Transects/Otter/Sola_01/20220820_134500_Sola01b/GoPro/GX020060.MP4',\n",
       " '/media/mha114/Massimal/Vega_Sola/Transects/Otter/Sola_01/20220820_134500_Sola01b/GoPro/GX030060.MP4',\n",
       " '/media/mha114/Massimal/Vega_Sola/Transects/Otter/Sola_01/20220820_134500_Sola01b/GoPro/GX040060.MP4',\n",
       " '/media/mha114/Massimal/Vega_Sola/Transects/Otter/Sola_01/20220820_134500_Sola01b/GoPro/GX050060.MP4']"
      ]
     },
     "execution_count": 4,
     "metadata": {},
     "output_type": "execute_result"
    }
   ],
   "source": [
    "video_files"
   ]
  },
  {
   "cell_type": "code",
   "execution_count": 5,
   "id": "55e04f11",
   "metadata": {},
   "outputs": [],
   "source": [
    "probe_data = ffmpeg.probe(video_files[0])"
   ]
  },
  {
   "cell_type": "code",
   "execution_count": 6,
   "id": "bd4de895",
   "metadata": {},
   "outputs": [
    {
     "data": {
      "text/plain": [
       "{'creation_time': '2022-08-20T15:33:49.000000Z',\n",
       " 'language': 'eng',\n",
       " 'handler_name': '\\x0bGoPro H.265',\n",
       " 'encoder': 'GoPro H.265 encoder',\n",
       " 'timecode': '15:32:53:03'}"
      ]
     },
     "execution_count": 6,
     "metadata": {},
     "output_type": "execute_result"
    }
   ],
   "source": [
    "probe_data['streams'][0]['tags']"
   ]
  },
  {
   "cell_type": "code",
   "execution_count": 7,
   "id": "58862fa0",
   "metadata": {},
   "outputs": [
    {
     "name": "stdout",
     "output_type": "stream",
     "text": [
      "['Africa/Abidjan', 'Africa/Accra', 'Africa/Addis_Ababa', 'Africa/Algiers', 'Africa/Asmara', 'Africa/Bamako', 'Africa/Bangui', 'Africa/Banjul', 'Africa/Bissau', 'Africa/Blantyre', 'Africa/Brazzaville', 'Africa/Bujumbura', 'Africa/Cairo', 'Africa/Casablanca', 'Africa/Ceuta', 'Africa/Conakry', 'Africa/Dakar', 'Africa/Dar_es_Salaam', 'Africa/Djibouti', 'Africa/Douala', 'Africa/El_Aaiun', 'Africa/Freetown', 'Africa/Gaborone', 'Africa/Harare', 'Africa/Johannesburg', 'Africa/Juba', 'Africa/Kampala', 'Africa/Khartoum', 'Africa/Kigali', 'Africa/Kinshasa', 'Africa/Lagos', 'Africa/Libreville', 'Africa/Lome', 'Africa/Luanda', 'Africa/Lubumbashi', 'Africa/Lusaka', 'Africa/Malabo', 'Africa/Maputo', 'Africa/Maseru', 'Africa/Mbabane', 'Africa/Mogadishu', 'Africa/Monrovia', 'Africa/Nairobi', 'Africa/Ndjamena', 'Africa/Niamey', 'Africa/Nouakchott', 'Africa/Ouagadougou', 'Africa/Porto-Novo', 'Africa/Sao_Tome', 'Africa/Tripoli', 'Africa/Tunis', 'Africa/Windhoek', 'America/Adak', 'America/Anchorage', 'America/Anguilla', 'America/Antigua', 'America/Araguaina', 'America/Argentina/Buenos_Aires', 'America/Argentina/Catamarca', 'America/Argentina/Cordoba', 'America/Argentina/Jujuy', 'America/Argentina/La_Rioja', 'America/Argentina/Mendoza', 'America/Argentina/Rio_Gallegos', 'America/Argentina/Salta', 'America/Argentina/San_Juan', 'America/Argentina/San_Luis', 'America/Argentina/Tucuman', 'America/Argentina/Ushuaia', 'America/Aruba', 'America/Asuncion', 'America/Atikokan', 'America/Bahia', 'America/Bahia_Banderas', 'America/Barbados', 'America/Belem', 'America/Belize', 'America/Blanc-Sablon', 'America/Boa_Vista', 'America/Bogota', 'America/Boise', 'America/Cambridge_Bay', 'America/Campo_Grande', 'America/Cancun', 'America/Caracas', 'America/Cayenne', 'America/Cayman', 'America/Chicago', 'America/Chihuahua', 'America/Costa_Rica', 'America/Creston', 'America/Cuiaba', 'America/Curacao', 'America/Danmarkshavn', 'America/Dawson', 'America/Dawson_Creek', 'America/Denver', 'America/Detroit', 'America/Dominica', 'America/Edmonton', 'America/Eirunepe', 'America/El_Salvador', 'America/Fort_Nelson', 'America/Fortaleza', 'America/Glace_Bay', 'America/Goose_Bay', 'America/Grand_Turk', 'America/Grenada', 'America/Guadeloupe', 'America/Guatemala', 'America/Guayaquil', 'America/Guyana', 'America/Halifax', 'America/Havana', 'America/Hermosillo', 'America/Indiana/Indianapolis', 'America/Indiana/Knox', 'America/Indiana/Marengo', 'America/Indiana/Petersburg', 'America/Indiana/Tell_City', 'America/Indiana/Vevay', 'America/Indiana/Vincennes', 'America/Indiana/Winamac', 'America/Inuvik', 'America/Iqaluit', 'America/Jamaica', 'America/Juneau', 'America/Kentucky/Louisville', 'America/Kentucky/Monticello', 'America/Kralendijk', 'America/La_Paz', 'America/Lima', 'America/Los_Angeles', 'America/Lower_Princes', 'America/Maceio', 'America/Managua', 'America/Manaus', 'America/Marigot', 'America/Martinique', 'America/Matamoros', 'America/Mazatlan', 'America/Menominee', 'America/Merida', 'America/Metlakatla', 'America/Mexico_City', 'America/Miquelon', 'America/Moncton', 'America/Monterrey', 'America/Montevideo', 'America/Montserrat', 'America/Nassau', 'America/New_York', 'America/Nipigon', 'America/Nome', 'America/Noronha', 'America/North_Dakota/Beulah', 'America/North_Dakota/Center', 'America/North_Dakota/New_Salem', 'America/Nuuk', 'America/Ojinaga', 'America/Panama', 'America/Pangnirtung', 'America/Paramaribo', 'America/Phoenix', 'America/Port-au-Prince', 'America/Port_of_Spain', 'America/Porto_Velho', 'America/Puerto_Rico', 'America/Punta_Arenas', 'America/Rainy_River', 'America/Rankin_Inlet', 'America/Recife', 'America/Regina', 'America/Resolute', 'America/Rio_Branco', 'America/Santarem', 'America/Santiago', 'America/Santo_Domingo', 'America/Sao_Paulo', 'America/Scoresbysund', 'America/Sitka', 'America/St_Barthelemy', 'America/St_Johns', 'America/St_Kitts', 'America/St_Lucia', 'America/St_Thomas', 'America/St_Vincent', 'America/Swift_Current', 'America/Tegucigalpa', 'America/Thule', 'America/Thunder_Bay', 'America/Tijuana', 'America/Toronto', 'America/Tortola', 'America/Vancouver', 'America/Whitehorse', 'America/Winnipeg', 'America/Yakutat', 'America/Yellowknife', 'Antarctica/Casey', 'Antarctica/Davis', 'Antarctica/DumontDUrville', 'Antarctica/Macquarie', 'Antarctica/Mawson', 'Antarctica/McMurdo', 'Antarctica/Palmer', 'Antarctica/Rothera', 'Antarctica/Syowa', 'Antarctica/Troll', 'Antarctica/Vostok', 'Arctic/Longyearbyen', 'Asia/Aden', 'Asia/Almaty', 'Asia/Amman', 'Asia/Anadyr', 'Asia/Aqtau', 'Asia/Aqtobe', 'Asia/Ashgabat', 'Asia/Atyrau', 'Asia/Baghdad', 'Asia/Bahrain', 'Asia/Baku', 'Asia/Bangkok', 'Asia/Barnaul', 'Asia/Beirut', 'Asia/Bishkek', 'Asia/Brunei', 'Asia/Chita', 'Asia/Choibalsan', 'Asia/Colombo', 'Asia/Damascus', 'Asia/Dhaka', 'Asia/Dili', 'Asia/Dubai', 'Asia/Dushanbe', 'Asia/Famagusta', 'Asia/Gaza', 'Asia/Hebron', 'Asia/Ho_Chi_Minh', 'Asia/Hong_Kong', 'Asia/Hovd', 'Asia/Irkutsk', 'Asia/Jakarta', 'Asia/Jayapura', 'Asia/Jerusalem', 'Asia/Kabul', 'Asia/Kamchatka', 'Asia/Karachi', 'Asia/Kathmandu', 'Asia/Khandyga', 'Asia/Kolkata', 'Asia/Krasnoyarsk', 'Asia/Kuala_Lumpur', 'Asia/Kuching', 'Asia/Kuwait', 'Asia/Macau', 'Asia/Magadan', 'Asia/Makassar', 'Asia/Manila', 'Asia/Muscat', 'Asia/Nicosia', 'Asia/Novokuznetsk', 'Asia/Novosibirsk', 'Asia/Omsk', 'Asia/Oral', 'Asia/Phnom_Penh', 'Asia/Pontianak', 'Asia/Pyongyang', 'Asia/Qatar', 'Asia/Qostanay', 'Asia/Qyzylorda', 'Asia/Riyadh', 'Asia/Sakhalin', 'Asia/Samarkand', 'Asia/Seoul', 'Asia/Shanghai', 'Asia/Singapore', 'Asia/Srednekolymsk', 'Asia/Taipei', 'Asia/Tashkent', 'Asia/Tbilisi', 'Asia/Tehran', 'Asia/Thimphu', 'Asia/Tokyo', 'Asia/Tomsk', 'Asia/Ulaanbaatar', 'Asia/Urumqi', 'Asia/Ust-Nera', 'Asia/Vientiane', 'Asia/Vladivostok', 'Asia/Yakutsk', 'Asia/Yangon', 'Asia/Yekaterinburg', 'Asia/Yerevan', 'Atlantic/Azores', 'Atlantic/Bermuda', 'Atlantic/Canary', 'Atlantic/Cape_Verde', 'Atlantic/Faroe', 'Atlantic/Madeira', 'Atlantic/Reykjavik', 'Atlantic/South_Georgia', 'Atlantic/St_Helena', 'Atlantic/Stanley', 'Australia/Adelaide', 'Australia/Brisbane', 'Australia/Broken_Hill', 'Australia/Darwin', 'Australia/Eucla', 'Australia/Hobart', 'Australia/Lindeman', 'Australia/Lord_Howe', 'Australia/Melbourne', 'Australia/Perth', 'Australia/Sydney', 'Canada/Atlantic', 'Canada/Central', 'Canada/Eastern', 'Canada/Mountain', 'Canada/Newfoundland', 'Canada/Pacific', 'Europe/Amsterdam', 'Europe/Andorra', 'Europe/Astrakhan', 'Europe/Athens', 'Europe/Belgrade', 'Europe/Berlin', 'Europe/Bratislava', 'Europe/Brussels', 'Europe/Bucharest', 'Europe/Budapest', 'Europe/Busingen', 'Europe/Chisinau', 'Europe/Copenhagen', 'Europe/Dublin', 'Europe/Gibraltar', 'Europe/Guernsey', 'Europe/Helsinki', 'Europe/Isle_of_Man', 'Europe/Istanbul', 'Europe/Jersey', 'Europe/Kaliningrad', 'Europe/Kiev', 'Europe/Kirov', 'Europe/Lisbon', 'Europe/Ljubljana', 'Europe/London', 'Europe/Luxembourg', 'Europe/Madrid', 'Europe/Malta', 'Europe/Mariehamn', 'Europe/Minsk', 'Europe/Monaco', 'Europe/Moscow', 'Europe/Oslo', 'Europe/Paris', 'Europe/Podgorica', 'Europe/Prague', 'Europe/Riga', 'Europe/Rome', 'Europe/Samara', 'Europe/San_Marino', 'Europe/Sarajevo', 'Europe/Saratov', 'Europe/Simferopol', 'Europe/Skopje', 'Europe/Sofia', 'Europe/Stockholm', 'Europe/Tallinn', 'Europe/Tirane', 'Europe/Ulyanovsk', 'Europe/Uzhgorod', 'Europe/Vaduz', 'Europe/Vatican', 'Europe/Vienna', 'Europe/Vilnius', 'Europe/Volgograd', 'Europe/Warsaw', 'Europe/Zagreb', 'Europe/Zaporozhye', 'Europe/Zurich', 'GMT', 'Indian/Antananarivo', 'Indian/Chagos', 'Indian/Christmas', 'Indian/Cocos', 'Indian/Comoro', 'Indian/Kerguelen', 'Indian/Mahe', 'Indian/Maldives', 'Indian/Mauritius', 'Indian/Mayotte', 'Indian/Reunion', 'Pacific/Apia', 'Pacific/Auckland', 'Pacific/Bougainville', 'Pacific/Chatham', 'Pacific/Chuuk', 'Pacific/Easter', 'Pacific/Efate', 'Pacific/Fakaofo', 'Pacific/Fiji', 'Pacific/Funafuti', 'Pacific/Galapagos', 'Pacific/Gambier', 'Pacific/Guadalcanal', 'Pacific/Guam', 'Pacific/Honolulu', 'Pacific/Kanton', 'Pacific/Kiritimati', 'Pacific/Kosrae', 'Pacific/Kwajalein', 'Pacific/Majuro', 'Pacific/Marquesas', 'Pacific/Midway', 'Pacific/Nauru', 'Pacific/Niue', 'Pacific/Norfolk', 'Pacific/Noumea', 'Pacific/Pago_Pago', 'Pacific/Palau', 'Pacific/Pitcairn', 'Pacific/Pohnpei', 'Pacific/Port_Moresby', 'Pacific/Rarotonga', 'Pacific/Saipan', 'Pacific/Tahiti', 'Pacific/Tarawa', 'Pacific/Tongatapu', 'Pacific/Wake', 'Pacific/Wallis', 'US/Alaska', 'US/Arizona', 'US/Central', 'US/Eastern', 'US/Hawaii', 'US/Mountain', 'US/Pacific', 'UTC']\n"
     ]
    }
   ],
   "source": [
    "import pytz\n",
    "print(pytz.common_timezones)\n"
   ]
  },
  {
   "cell_type": "code",
   "execution_count": 8,
   "id": "6d5ba388",
   "metadata": {},
   "outputs": [],
   "source": [
    "def otter_csv_to_geodataframe(csv_file):\n",
    "    \"\"\" Read position and timestamp from Otter CSV file\n",
    "\n",
    "    # Usage:\n",
    "    otter_csv_to_geodataframe(csv_file)\n",
    "\n",
    "    # Required arguments:\n",
    "    csv_file:   CSV file with track data, generated by Otter\n",
    "                and post-processed in Matlab.\n",
    "                Columns \"LatDecDeg\", \"LongDecDeg\" and \"GnssUTC\" are used\n",
    "\n",
    "    # Returns\n",
    "    gdf:        GeoDataFrame with information extracted from CSV file\n",
    "                Columns are renamed \"Lat\", \"Lng\" and \"Time\"\n",
    "\n",
    "    \"\"\"\n",
    "\n",
    "    # Read data\n",
    "    data = pd.read_csv(csv_file,usecols=['LatDecDeg','LongDecDeg','GnssUTC'])\n",
    "    data.columns = ['Time','Lat','Lng']                   # Rename columns\n",
    "    data.Time = pd.to_datetime(data.Time,utc=True)        # Convert time string to datetime format\n",
    "\n",
    "    # Create GeoDataFrame\n",
    "    gdf = geopandas.GeoDataFrame(\n",
    "        data,\n",
    "        crs = 'EPSG:4326',\n",
    "        geometry=geopandas.points_from_xy(data.Lng, data.Lat))\n",
    "\n",
    "    # Return\n",
    "    return gdf"
   ]
  },
  {
   "cell_type": "code",
   "execution_count": 9,
   "id": "9baa5b4a",
   "metadata": {},
   "outputs": [],
   "source": [
    "def filter_gdf_on_distance(gdf,sample_distance,epsg=32633, inplace=False, outlier_distance = 1000):\n",
    "    \"\"\" Filter a geodataframe by only including new samples if position has changed\n",
    "    \n",
    "    # Usage:\n",
    "    gdf_filtered = filter_gdf_on_distance(gdf,...)\n",
    "\n",
    "    # Input arguments:\n",
    "    gdf:                  GeoPandas GeoDataFrame object\n",
    "    sample_distance       Minimum change in position in order for next sample to be included\n",
    "                          Units are defined by CRS (set as EPSG code, see kwarg epsg)\n",
    "    \n",
    "    # Keyword arguments:\n",
    "    epsg:                EPSG code (integer) for CRS to measure distance in\n",
    "                         Default: 32633 (UTM 33N)\n",
    "                         If epsg=None, the existing CRS for the geodataframe is used\n",
    "    outlier_distance     Samples with changes in distance above this limit are not included\n",
    "                         Units are defined by CRS\n",
    "    \n",
    "    \"\"\"\n",
    "    \n",
    "    # Convert CRS (often necessary to get valid distance units, e.g. meters)\n",
    "    if epsg is not None:\n",
    "        geom = gdf.geometry.to_crs(epsg=epsg)\n",
    "    else:\n",
    "        geom = gdf.geometry\n",
    "        \n",
    "    # Iterate over all positions, and only include a new point if position \n",
    "    # has changed more than sample_distance\n",
    "    mask = [0]           # Always include first point\n",
    "    last_pos = geom[0]   # Position at first point\n",
    "    for index, position in enumerate(geom):\n",
    "        dist = position.distance(last_pos)\n",
    "        if (dist > sample_distance) and (dist < outlier_distance):\n",
    "            mask.append(index)\n",
    "            last_pos = position\n",
    "    \n",
    "    # Return a filtered copy of the original geodataframe\n",
    "    return gdf.iloc[mask]\n",
    "        "
   ]
  },
  {
   "cell_type": "code",
   "execution_count": 10,
   "id": "6ccb0c54",
   "metadata": {},
   "outputs": [],
   "source": [
    "gdf = otter_csv_to_geodataframe(csv_file)"
   ]
  },
  {
   "cell_type": "code",
   "execution_count": 11,
   "id": "1f7138bc",
   "metadata": {},
   "outputs": [],
   "source": [
    "# sample_distance=0.7\n",
    "sample_distance=10.0\n",
    "gdf_simp = filter_gdf_on_distance(gdf,sample_distance)"
   ]
  },
  {
   "cell_type": "code",
   "execution_count": 12,
   "id": "9cb06446",
   "metadata": {},
   "outputs": [
    {
     "data": {
      "text/html": [
       "<div>\n",
       "<style scoped>\n",
       "    .dataframe tbody tr th:only-of-type {\n",
       "        vertical-align: middle;\n",
       "    }\n",
       "\n",
       "    .dataframe tbody tr th {\n",
       "        vertical-align: top;\n",
       "    }\n",
       "\n",
       "    .dataframe thead th {\n",
       "        text-align: right;\n",
       "    }\n",
       "</style>\n",
       "<table border=\"1\" class=\"dataframe\">\n",
       "  <thead>\n",
       "    <tr style=\"text-align: right;\">\n",
       "      <th></th>\n",
       "      <th>Time</th>\n",
       "      <th>Lat</th>\n",
       "      <th>Lng</th>\n",
       "      <th>geometry</th>\n",
       "    </tr>\n",
       "  </thead>\n",
       "  <tbody>\n",
       "    <tr>\n",
       "      <th>0</th>\n",
       "      <td>2022-08-20 13:45:00.957000+00:00</td>\n",
       "      <td>65.678659</td>\n",
       "      <td>11.719861</td>\n",
       "      <td>POINT (11.71986 65.67866)</td>\n",
       "    </tr>\n",
       "    <tr>\n",
       "      <th>925</th>\n",
       "      <td>2022-08-20 13:46:33.397000+00:00</td>\n",
       "      <td>65.678630</td>\n",
       "      <td>11.720067</td>\n",
       "      <td>POINT (11.72007 65.67863)</td>\n",
       "    </tr>\n",
       "    <tr>\n",
       "      <th>1179</th>\n",
       "      <td>2022-08-20 13:46:58.788000+00:00</td>\n",
       "      <td>65.678544</td>\n",
       "      <td>11.720003</td>\n",
       "      <td>POINT (11.72000 65.67854)</td>\n",
       "    </tr>\n",
       "    <tr>\n",
       "      <th>1367</th>\n",
       "      <td>2022-08-20 13:47:17.587000+00:00</td>\n",
       "      <td>65.678536</td>\n",
       "      <td>11.720221</td>\n",
       "      <td>POINT (11.72022 65.67854)</td>\n",
       "    </tr>\n",
       "    <tr>\n",
       "      <th>1548</th>\n",
       "      <td>2022-08-20 13:47:35.696000+00:00</td>\n",
       "      <td>65.678554</td>\n",
       "      <td>11.720434</td>\n",
       "      <td>POINT (11.72043 65.67855)</td>\n",
       "    </tr>\n",
       "    <tr>\n",
       "      <th>...</th>\n",
       "      <td>...</td>\n",
       "      <td>...</td>\n",
       "      <td>...</td>\n",
       "      <td>...</td>\n",
       "    </tr>\n",
       "    <tr>\n",
       "      <th>38211</th>\n",
       "      <td>2022-08-20 14:48:41.987000+00:00</td>\n",
       "      <td>65.678286</td>\n",
       "      <td>11.719881</td>\n",
       "      <td>POINT (11.71988 65.67829)</td>\n",
       "    </tr>\n",
       "    <tr>\n",
       "      <th>38411</th>\n",
       "      <td>2022-08-20 14:49:01.986000+00:00</td>\n",
       "      <td>65.678357</td>\n",
       "      <td>11.719747</td>\n",
       "      <td>POINT (11.71975 65.67836)</td>\n",
       "    </tr>\n",
       "    <tr>\n",
       "      <th>38618</th>\n",
       "      <td>2022-08-20 14:49:22.688000+00:00</td>\n",
       "      <td>65.678437</td>\n",
       "      <td>11.719849</td>\n",
       "      <td>POINT (11.71985 65.67844)</td>\n",
       "    </tr>\n",
       "    <tr>\n",
       "      <th>38786</th>\n",
       "      <td>2022-08-20 14:49:39.487000+00:00</td>\n",
       "      <td>65.678506</td>\n",
       "      <td>11.719986</td>\n",
       "      <td>POINT (11.71999 65.67851)</td>\n",
       "    </tr>\n",
       "    <tr>\n",
       "      <th>38962</th>\n",
       "      <td>2022-08-20 14:49:57.086000+00:00</td>\n",
       "      <td>65.678580</td>\n",
       "      <td>11.720111</td>\n",
       "      <td>POINT (11.72011 65.67858)</td>\n",
       "    </tr>\n",
       "  </tbody>\n",
       "</table>\n",
       "<p>203 rows × 4 columns</p>\n",
       "</div>"
      ],
      "text/plain": [
       "                                  Time        Lat        Lng  \\\n",
       "0     2022-08-20 13:45:00.957000+00:00  65.678659  11.719861   \n",
       "925   2022-08-20 13:46:33.397000+00:00  65.678630  11.720067   \n",
       "1179  2022-08-20 13:46:58.788000+00:00  65.678544  11.720003   \n",
       "1367  2022-08-20 13:47:17.587000+00:00  65.678536  11.720221   \n",
       "1548  2022-08-20 13:47:35.696000+00:00  65.678554  11.720434   \n",
       "...                                ...        ...        ...   \n",
       "38211 2022-08-20 14:48:41.987000+00:00  65.678286  11.719881   \n",
       "38411 2022-08-20 14:49:01.986000+00:00  65.678357  11.719747   \n",
       "38618 2022-08-20 14:49:22.688000+00:00  65.678437  11.719849   \n",
       "38786 2022-08-20 14:49:39.487000+00:00  65.678506  11.719986   \n",
       "38962 2022-08-20 14:49:57.086000+00:00  65.678580  11.720111   \n",
       "\n",
       "                        geometry  \n",
       "0      POINT (11.71986 65.67866)  \n",
       "925    POINT (11.72007 65.67863)  \n",
       "1179   POINT (11.72000 65.67854)  \n",
       "1367   POINT (11.72022 65.67854)  \n",
       "1548   POINT (11.72043 65.67855)  \n",
       "...                          ...  \n",
       "38211  POINT (11.71988 65.67829)  \n",
       "38411  POINT (11.71975 65.67836)  \n",
       "38618  POINT (11.71985 65.67844)  \n",
       "38786  POINT (11.71999 65.67851)  \n",
       "38962  POINT (11.72011 65.67858)  \n",
       "\n",
       "[203 rows x 4 columns]"
      ]
     },
     "execution_count": 12,
     "metadata": {},
     "output_type": "execute_result"
    }
   ],
   "source": [
    "gdf_simp"
   ]
  },
  {
   "cell_type": "code",
   "execution_count": 13,
   "id": "87208648",
   "metadata": {},
   "outputs": [
    {
     "data": {
      "text/plain": [
       "Timestamp('2022-08-20 13:45:00.957000+0000', tz='UTC')"
      ]
     },
     "execution_count": 13,
     "metadata": {},
     "output_type": "execute_result"
    }
   ],
   "source": [
    "# Check timezone for Otter data (should be UTC)\n",
    "gdf_simp.iloc[0].Time"
   ]
  },
  {
   "cell_type": "code",
   "execution_count": 14,
   "id": "568fd1ea",
   "metadata": {},
   "outputs": [
    {
     "data": {
      "image/png": "[encoded data removed]",
      "text/plain": [
       "<Figure size 432x288 with 1 Axes>"
      ]
     },
     "metadata": {
      "needs_background": "light"
     },
     "output_type": "display_data"
    }
   ],
   "source": [
    "# Plot points in geodataframe (sanity check)\n",
    "gdf_simp.plot()\n",
    "plt.show()"
   ]
  },
  {
   "cell_type": "code",
   "execution_count": 15,
   "id": "15ea6eef",
   "metadata": {},
   "outputs": [],
   "source": [
    "def get_video_data(video_dir, tz='Europe/Oslo'):\n",
    "    \"\"\" Get info about videos in folder, organized as dataframe\n",
    "\n",
    "    # Usage:\n",
    "    video_data = get_video_data(video_dir)\n",
    "\n",
    "    # Arguments:\n",
    "    video_dir:      Path to folder with video file(s).\n",
    "                    Files are assumed to be from a single continuous \"take\",\n",
    "                    split into files with names ordered alphabetiacally\n",
    "                    according to recording order.\n",
    "    \n",
    "    # Keyword arguments:\n",
    "    tz              Timezone for video. Default: 'Europe/Oslo'\n",
    "                    To see available options:\n",
    "                    > import pytz\n",
    "                    > print(pytz.common_timezones)\n",
    "\n",
    "    # Returns:\n",
    "    video_data:     Pandas dataframe with columns\n",
    "                    'FileName', 'DurationSec','StartTimeSec','StopTimeSec'\n",
    "                    Start and stop times are relative to start of first file.\n",
    "\n",
    "    \"\"\"\n",
    "\n",
    "    video_data = pd.DataFrame({ 'FileName':'',\n",
    "                                'CreationTime':pd.Timestamp(0,tz=tz),\n",
    "                                'DurationSec':float(),\n",
    "                                'StartTimeSec':float(),\n",
    "                                'StopTimeSec':float()},\n",
    "                                 index=[])\n",
    "\n",
    "    # Get list of video files, insert into dataframe\n",
    "    # Use brackets to find both .mp4 and .MP4 files\n",
    "    video_data.FileName = misc.file_pattern_search(video_dir, '*.[Mm][Pp]4')\n",
    "\n",
    "    # Get creation time, duration and frame rate for each video file\n",
    "    # Keep times timezone naive\n",
    "    for ii,file in enumerate(video_data['FileName']):\n",
    "        probe_data = ffmpeg.probe(file)\n",
    "        video_data.loc[ii,'CreationTime'] = pd.to_datetime( \\\n",
    "            probe_data['streams'][0]['tags']['creation_time']). \\\n",
    "            tz_localize(None).tz_localize(tz)  # \"Reset\" to no timezone, then set timezone\n",
    "        video_data.loc[ii,'DurationSec'] = pd.to_numeric(probe_data['streams'][0]['duration'])\n",
    "    \n",
    "    # Calculate start and stop times for each video in seconds, relative to start of video\n",
    "    # Note that columns.get_loc() needs to be used below in order to access dataframs\n",
    "    # by integer indices only.\n",
    "    video_data.loc[0,'StartTimeSec'] = 0.0\n",
    "    video_data.iloc[1:,video_data.columns.get_loc('StartTimeSec')] = np.cumsum(\n",
    "        video_data.iloc[:-1,video_data.columns.get_loc('DurationSec')])\n",
    "    video_data.StopTimeSec = video_data.StartTimeSec + video_data.DurationSec\n",
    "\n",
    "    return video_data"
   ]
  },
  {
   "cell_type": "code",
   "execution_count": 16,
   "id": "1e28da0b",
   "metadata": {},
   "outputs": [],
   "source": [
    "video_data = get_video_data(video_dir)"
   ]
  },
  {
   "cell_type": "code",
   "execution_count": 17,
   "id": "b0c56945",
   "metadata": {},
   "outputs": [
    {
     "data": {
      "text/html": [
       "<div>\n",
       "<style scoped>\n",
       "    .dataframe tbody tr th:only-of-type {\n",
       "        vertical-align: middle;\n",
       "    }\n",
       "\n",
       "    .dataframe tbody tr th {\n",
       "        vertical-align: top;\n",
       "    }\n",
       "\n",
       "    .dataframe thead th {\n",
       "        text-align: right;\n",
       "    }\n",
       "</style>\n",
       "<table border=\"1\" class=\"dataframe\">\n",
       "  <thead>\n",
       "    <tr style=\"text-align: right;\">\n",
       "      <th></th>\n",
       "      <th>FileName</th>\n",
       "      <th>CreationTime</th>\n",
       "      <th>DurationSec</th>\n",
       "      <th>StartTimeSec</th>\n",
       "      <th>StopTimeSec</th>\n",
       "    </tr>\n",
       "  </thead>\n",
       "  <tbody>\n",
       "    <tr>\n",
       "      <th>0</th>\n",
       "      <td>/media/mha114/Massimal/Vega_Sola/Transects/Ott...</td>\n",
       "      <td>2022-08-20 15:33:49+02:00</td>\n",
       "      <td>704.704000</td>\n",
       "      <td>0.000</td>\n",
       "      <td>704.704000</td>\n",
       "    </tr>\n",
       "    <tr>\n",
       "      <th>1</th>\n",
       "      <td>/media/mha114/Massimal/Vega_Sola/Transects/Ott...</td>\n",
       "      <td>2022-08-20 15:33:49+02:00</td>\n",
       "      <td>704.704000</td>\n",
       "      <td>704.704</td>\n",
       "      <td>1409.408000</td>\n",
       "    </tr>\n",
       "    <tr>\n",
       "      <th>2</th>\n",
       "      <td>/media/mha114/Massimal/Vega_Sola/Transects/Ott...</td>\n",
       "      <td>2022-08-20 15:33:49+02:00</td>\n",
       "      <td>704.704000</td>\n",
       "      <td>1409.408</td>\n",
       "      <td>2114.112000</td>\n",
       "    </tr>\n",
       "    <tr>\n",
       "      <th>3</th>\n",
       "      <td>/media/mha114/Massimal/Vega_Sola/Transects/Ott...</td>\n",
       "      <td>2022-08-20 15:33:49+02:00</td>\n",
       "      <td>704.704000</td>\n",
       "      <td>2114.112</td>\n",
       "      <td>2818.816000</td>\n",
       "    </tr>\n",
       "    <tr>\n",
       "      <th>4</th>\n",
       "      <td>/media/mha114/Massimal/Vega_Sola/Transects/Ott...</td>\n",
       "      <td>2022-08-20 15:33:49+02:00</td>\n",
       "      <td>329.195533</td>\n",
       "      <td>2818.816</td>\n",
       "      <td>3148.011533</td>\n",
       "    </tr>\n",
       "  </tbody>\n",
       "</table>\n",
       "</div>"
      ],
      "text/plain": [
       "                                            FileName  \\\n",
       "0  /media/mha114/Massimal/Vega_Sola/Transects/Ott...   \n",
       "1  /media/mha114/Massimal/Vega_Sola/Transects/Ott...   \n",
       "2  /media/mha114/Massimal/Vega_Sola/Transects/Ott...   \n",
       "3  /media/mha114/Massimal/Vega_Sola/Transects/Ott...   \n",
       "4  /media/mha114/Massimal/Vega_Sola/Transects/Ott...   \n",
       "\n",
       "               CreationTime  DurationSec  StartTimeSec  StopTimeSec  \n",
       "0 2022-08-20 15:33:49+02:00   704.704000         0.000   704.704000  \n",
       "1 2022-08-20 15:33:49+02:00   704.704000       704.704  1409.408000  \n",
       "2 2022-08-20 15:33:49+02:00   704.704000      1409.408  2114.112000  \n",
       "3 2022-08-20 15:33:49+02:00   704.704000      2114.112  2818.816000  \n",
       "4 2022-08-20 15:33:49+02:00   329.195533      2818.816  3148.011533  "
      ]
     },
     "execution_count": 17,
     "metadata": {},
     "output_type": "execute_result"
    }
   ],
   "source": [
    "video_data"
   ]
  },
  {
   "cell_type": "code",
   "execution_count": 18,
   "id": "37042eb8",
   "metadata": {},
   "outputs": [
    {
     "data": {
      "text/plain": [
       "Timestamp('2022-08-20 15:33:49+0200', tz='Europe/Oslo')"
      ]
     },
     "execution_count": 18,
     "metadata": {},
     "output_type": "execute_result"
    }
   ],
   "source": [
    "video_data.iloc[0].CreationTime"
   ]
  },
  {
   "cell_type": "code",
   "execution_count": 19,
   "id": "d2eacae4",
   "metadata": {},
   "outputs": [],
   "source": [
    "def prepare_gdf_with_video_data(gdf,video_data, video_time_offset=pd.Timedelta(0)):\n",
    "    \"\"\" Insert video information into geodataframe, prepare for extracting images\n",
    "\n",
    "    # Usage:\n",
    "    gdf = prepare_gdf_with_video_data(gdf,video_data)\n",
    "\n",
    "    # Arguments:\n",
    "    gdf:        geodataframe with positions and timestamps\n",
    "                (see track_csv_to_geodataframe())\n",
    "    video_data: dataframe with video data\n",
    "                (see get_video_data())\n",
    "    \n",
    "    # Keyword arguments:\n",
    "    video_time_offset:    pandas.Timedelta object with time difference between\n",
    "                          video datetime (\"CreationTime\") and GNSS track datetime.\n",
    "                          Example: GoPro camera at Norwegian local time and \n",
    "                          daylight saving time is 2 hours \"in front of\"\n",
    "                          GNNS using UTC time, resulting in\n",
    "                          video_time_offset = pandas.Timedelta(hours=2)\n",
    "\n",
    "    # Returns\n",
    "    gdf:        geodataframe with video information inserted\n",
    "    \"\"\"\n",
    "\n",
    "    # Create copy of original geodataframe\n",
    "    gdf = gdf.copy()\n",
    "    \n",
    "    # Insert additional columns\n",
    "    gdf.insert(gdf.shape[1]-1,'VideoFile','')\n",
    "    gdf.insert(gdf.shape[1]-1,'TimeRelToVideoStart',pd.Timedelta(0))\n",
    "    gdf.insert(gdf.shape[1]-1,'TimeRelToFileStartSec',float())\n",
    "    \n",
    "    # Calculate time for logged positions relative to video\n",
    "    gdf.TimeRelToVideoStart = gdf.Time - (video_data.iloc[0].CreationTime - video_time_offset)\n",
    "    \n",
    "    # Exclude positions outside video time window\n",
    "    ind_within_video_duration = (gdf.TimeRelToVideoStart >= pd.Timedelta(0)) & (\n",
    "                                 gdf.TimeRelToVideoStart <= pd.Timedelta(seconds=video_data.iloc[-1].StopTimeSec))\n",
    "    gdf = gdf[ind_within_video_duration]\n",
    "\n",
    "    # For each position, find corresponding video file and calculate time relative to start of video\n",
    "    for ii in range(video_data.shape[0]):\n",
    "        # Create index for rows within current video time window\n",
    "        ind = (gdf.TimeRelToVideoStart >= pd.Timedelta(seconds=video_data.iloc[ii].StartTimeSec)) & (\n",
    "               gdf.TimeRelToVideoStart < pd.Timedelta(seconds=video_data.iloc[ii].StopTimeSec))\n",
    "        # Set video file and times for current video \n",
    "        gdf.loc[ind, 'VideoFile'] = video_data.iloc[ii].FileName\n",
    "        time_rel_to_video_start = gdf.loc[ind, 'TimeRelToVideoStart'] - pd.Timedelta(seconds=video_data.iloc[ii].StartTimeSec)\n",
    "        gdf.loc[ind, 'TimeRelToFileStartSec'] = time_rel_to_video_start.dt.total_seconds() #gdf.loc[ind, 'TimeRelToVideoStart'] - pd.Timedelta(seconds=video_data.iloc[ii].StartTimeSec)\n",
    "        \n",
    "    return gdf"
   ]
  },
  {
   "cell_type": "code",
   "execution_count": 20,
   "id": "e20baaa1",
   "metadata": {},
   "outputs": [
    {
     "data": {
      "text/html": [
       "<div>\n",
       "<style scoped>\n",
       "    .dataframe tbody tr th:only-of-type {\n",
       "        vertical-align: middle;\n",
       "    }\n",
       "\n",
       "    .dataframe tbody tr th {\n",
       "        vertical-align: top;\n",
       "    }\n",
       "\n",
       "    .dataframe thead th {\n",
       "        text-align: right;\n",
       "    }\n",
       "</style>\n",
       "<table border=\"1\" class=\"dataframe\">\n",
       "  <thead>\n",
       "    <tr style=\"text-align: right;\">\n",
       "      <th></th>\n",
       "      <th>Time</th>\n",
       "      <th>Lat</th>\n",
       "      <th>Lng</th>\n",
       "      <th>VideoFile</th>\n",
       "      <th>TimeRelToVideoStart</th>\n",
       "      <th>TimeRelToFileStartSec</th>\n",
       "      <th>geometry</th>\n",
       "    </tr>\n",
       "  </thead>\n",
       "  <tbody>\n",
       "    <tr>\n",
       "      <th>0</th>\n",
       "      <td>2022-08-20 13:45:00.957000+00:00</td>\n",
       "      <td>65.678659</td>\n",
       "      <td>11.719861</td>\n",
       "      <td>/media/mha114/Massimal/Vega_Sola/Transects/Ott...</td>\n",
       "      <td>0 days 00:11:11.957000</td>\n",
       "      <td>671.957</td>\n",
       "      <td>POINT (11.71986 65.67866)</td>\n",
       "    </tr>\n",
       "    <tr>\n",
       "      <th>925</th>\n",
       "      <td>2022-08-20 13:46:33.397000+00:00</td>\n",
       "      <td>65.678630</td>\n",
       "      <td>11.720067</td>\n",
       "      <td>/media/mha114/Massimal/Vega_Sola/Transects/Ott...</td>\n",
       "      <td>0 days 00:12:44.397000</td>\n",
       "      <td>59.693</td>\n",
       "      <td>POINT (11.72007 65.67863)</td>\n",
       "    </tr>\n",
       "    <tr>\n",
       "      <th>1179</th>\n",
       "      <td>2022-08-20 13:46:58.788000+00:00</td>\n",
       "      <td>65.678544</td>\n",
       "      <td>11.720003</td>\n",
       "      <td>/media/mha114/Massimal/Vega_Sola/Transects/Ott...</td>\n",
       "      <td>0 days 00:13:09.788000</td>\n",
       "      <td>85.084</td>\n",
       "      <td>POINT (11.72000 65.67854)</td>\n",
       "    </tr>\n",
       "    <tr>\n",
       "      <th>1367</th>\n",
       "      <td>2022-08-20 13:47:17.587000+00:00</td>\n",
       "      <td>65.678536</td>\n",
       "      <td>11.720221</td>\n",
       "      <td>/media/mha114/Massimal/Vega_Sola/Transects/Ott...</td>\n",
       "      <td>0 days 00:13:28.587000</td>\n",
       "      <td>103.883</td>\n",
       "      <td>POINT (11.72022 65.67854)</td>\n",
       "    </tr>\n",
       "    <tr>\n",
       "      <th>1548</th>\n",
       "      <td>2022-08-20 13:47:35.696000+00:00</td>\n",
       "      <td>65.678554</td>\n",
       "      <td>11.720434</td>\n",
       "      <td>/media/mha114/Massimal/Vega_Sola/Transects/Ott...</td>\n",
       "      <td>0 days 00:13:46.696000</td>\n",
       "      <td>121.992</td>\n",
       "      <td>POINT (11.72043 65.67855)</td>\n",
       "    </tr>\n",
       "    <tr>\n",
       "      <th>...</th>\n",
       "      <td>...</td>\n",
       "      <td>...</td>\n",
       "      <td>...</td>\n",
       "      <td>...</td>\n",
       "      <td>...</td>\n",
       "      <td>...</td>\n",
       "      <td>...</td>\n",
       "    </tr>\n",
       "    <tr>\n",
       "      <th>24146</th>\n",
       "      <td>2022-08-20 14:25:15.490000+00:00</td>\n",
       "      <td>65.678826</td>\n",
       "      <td>11.720580</td>\n",
       "      <td>/media/mha114/Massimal/Vega_Sola/Transects/Ott...</td>\n",
       "      <td>0 days 00:51:26.490000</td>\n",
       "      <td>267.674</td>\n",
       "      <td>POINT (11.72058 65.67883)</td>\n",
       "    </tr>\n",
       "    <tr>\n",
       "      <th>24273</th>\n",
       "      <td>2022-08-20 14:25:28.178000+00:00</td>\n",
       "      <td>65.678768</td>\n",
       "      <td>11.720414</td>\n",
       "      <td>/media/mha114/Massimal/Vega_Sola/Transects/Ott...</td>\n",
       "      <td>0 days 00:51:39.178000</td>\n",
       "      <td>280.362</td>\n",
       "      <td>POINT (11.72041 65.67877)</td>\n",
       "    </tr>\n",
       "    <tr>\n",
       "      <th>24411</th>\n",
       "      <td>2022-08-20 14:25:41.985000+00:00</td>\n",
       "      <td>65.678710</td>\n",
       "      <td>11.720248</td>\n",
       "      <td>/media/mha114/Massimal/Vega_Sola/Transects/Ott...</td>\n",
       "      <td>0 days 00:51:52.985000</td>\n",
       "      <td>294.169</td>\n",
       "      <td>POINT (11.72025 65.67871)</td>\n",
       "    </tr>\n",
       "    <tr>\n",
       "      <th>24562</th>\n",
       "      <td>2022-08-20 14:25:57.089000+00:00</td>\n",
       "      <td>65.678651</td>\n",
       "      <td>11.720085</td>\n",
       "      <td>/media/mha114/Massimal/Vega_Sola/Transects/Ott...</td>\n",
       "      <td>0 days 00:52:08.089000</td>\n",
       "      <td>309.273</td>\n",
       "      <td>POINT (11.72008 65.67865)</td>\n",
       "    </tr>\n",
       "    <tr>\n",
       "      <th>24717</th>\n",
       "      <td>2022-08-20 14:26:12.576000+00:00</td>\n",
       "      <td>65.678587</td>\n",
       "      <td>11.719932</td>\n",
       "      <td>/media/mha114/Massimal/Vega_Sola/Transects/Ott...</td>\n",
       "      <td>0 days 00:52:23.576000</td>\n",
       "      <td>324.760</td>\n",
       "      <td>POINT (11.71993 65.67859)</td>\n",
       "    </tr>\n",
       "  </tbody>\n",
       "</table>\n",
       "<p>136 rows × 7 columns</p>\n",
       "</div>"
      ],
      "text/plain": [
       "                                  Time        Lat        Lng  \\\n",
       "0     2022-08-20 13:45:00.957000+00:00  65.678659  11.719861   \n",
       "925   2022-08-20 13:46:33.397000+00:00  65.678630  11.720067   \n",
       "1179  2022-08-20 13:46:58.788000+00:00  65.678544  11.720003   \n",
       "1367  2022-08-20 13:47:17.587000+00:00  65.678536  11.720221   \n",
       "1548  2022-08-20 13:47:35.696000+00:00  65.678554  11.720434   \n",
       "...                                ...        ...        ...   \n",
       "24146 2022-08-20 14:25:15.490000+00:00  65.678826  11.720580   \n",
       "24273 2022-08-20 14:25:28.178000+00:00  65.678768  11.720414   \n",
       "24411 2022-08-20 14:25:41.985000+00:00  65.678710  11.720248   \n",
       "24562 2022-08-20 14:25:57.089000+00:00  65.678651  11.720085   \n",
       "24717 2022-08-20 14:26:12.576000+00:00  65.678587  11.719932   \n",
       "\n",
       "                                               VideoFile  \\\n",
       "0      /media/mha114/Massimal/Vega_Sola/Transects/Ott...   \n",
       "925    /media/mha114/Massimal/Vega_Sola/Transects/Ott...   \n",
       "1179   /media/mha114/Massimal/Vega_Sola/Transects/Ott...   \n",
       "1367   /media/mha114/Massimal/Vega_Sola/Transects/Ott...   \n",
       "1548   /media/mha114/Massimal/Vega_Sola/Transects/Ott...   \n",
       "...                                                  ...   \n",
       "24146  /media/mha114/Massimal/Vega_Sola/Transects/Ott...   \n",
       "24273  /media/mha114/Massimal/Vega_Sola/Transects/Ott...   \n",
       "24411  /media/mha114/Massimal/Vega_Sola/Transects/Ott...   \n",
       "24562  /media/mha114/Massimal/Vega_Sola/Transects/Ott...   \n",
       "24717  /media/mha114/Massimal/Vega_Sola/Transects/Ott...   \n",
       "\n",
       "         TimeRelToVideoStart  TimeRelToFileStartSec                   geometry  \n",
       "0     0 days 00:11:11.957000                671.957  POINT (11.71986 65.67866)  \n",
       "925   0 days 00:12:44.397000                 59.693  POINT (11.72007 65.67863)  \n",
       "1179  0 days 00:13:09.788000                 85.084  POINT (11.72000 65.67854)  \n",
       "1367  0 days 00:13:28.587000                103.883  POINT (11.72022 65.67854)  \n",
       "1548  0 days 00:13:46.696000                121.992  POINT (11.72043 65.67855)  \n",
       "...                      ...                    ...                        ...  \n",
       "24146 0 days 00:51:26.490000                267.674  POINT (11.72058 65.67883)  \n",
       "24273 0 days 00:51:39.178000                280.362  POINT (11.72041 65.67877)  \n",
       "24411 0 days 00:51:52.985000                294.169  POINT (11.72025 65.67871)  \n",
       "24562 0 days 00:52:08.089000                309.273  POINT (11.72008 65.67865)  \n",
       "24717 0 days 00:52:23.576000                324.760  POINT (11.71993 65.67859)  \n",
       "\n",
       "[136 rows x 7 columns]"
      ]
     },
     "execution_count": 20,
     "metadata": {},
     "output_type": "execute_result"
    }
   ],
   "source": [
    "video_time_offset = pd.Timedelta(hours=0)\n",
    "gdf_with_video = prepare_gdf_with_video_data(gdf_simp,video_data,video_time_offset=video_time_offset)\n",
    "gdf_with_video"
   ]
  },
  {
   "cell_type": "code",
   "execution_count": 21,
   "id": "bf8284c5",
   "metadata": {},
   "outputs": [
    {
     "name": "stdout",
     "output_type": "stream",
     "text": [
      "/media/mha114/Massimal/Vega_Sola/Transects/Otter/Sola_01/20220820_134500_Sola01b/GoPro/GX010060.MP4\n",
      "/media/mha114/Massimal/Vega_Sola/Transects/Otter/Sola_01/20220820_134500_Sola01b/GoPro/GX020060.MP4\n",
      "/media/mha114/Massimal/Vega_Sola/Transects/Otter/Sola_01/20220820_134500_Sola01b/GoPro/GX020060.MP4\n",
      "/media/mha114/Massimal/Vega_Sola/Transects/Otter/Sola_01/20220820_134500_Sola01b/GoPro/GX020060.MP4\n",
      "/media/mha114/Massimal/Vega_Sola/Transects/Otter/Sola_01/20220820_134500_Sola01b/GoPro/GX020060.MP4\n",
      "/media/mha114/Massimal/Vega_Sola/Transects/Otter/Sola_01/20220820_134500_Sola01b/GoPro/GX020060.MP4\n",
      "/media/mha114/Massimal/Vega_Sola/Transects/Otter/Sola_01/20220820_134500_Sola01b/GoPro/GX020060.MP4\n",
      "/media/mha114/Massimal/Vega_Sola/Transects/Otter/Sola_01/20220820_134500_Sola01b/GoPro/GX020060.MP4\n",
      "/media/mha114/Massimal/Vega_Sola/Transects/Otter/Sola_01/20220820_134500_Sola01b/GoPro/GX020060.MP4\n",
      "/media/mha114/Massimal/Vega_Sola/Transects/Otter/Sola_01/20220820_134500_Sola01b/GoPro/GX020060.MP4\n"
     ]
    }
   ],
   "source": [
    "for file in gdf_with_video.iloc[0:10].VideoFile:\n",
    "    print(file)"
   ]
  },
  {
   "cell_type": "code",
   "execution_count": 48,
   "id": "def4e7fc",
   "metadata": {},
   "outputs": [],
   "source": [
    "def extract_images_from_video(gdf,image_dir):\n",
    "    \"\"\" Extract images from video transect\n",
    "\n",
    "    # Usage:\n",
    "    gdf = extract_images_from_video(gdf,image_dir)\n",
    "\n",
    "    # Required arguments:\n",
    "    gdf:        geodataframe from prepare_gdf_with_video_data()\n",
    "    image_dir:  path to folder where images will be stored\n",
    "\n",
    "    # Returns:\n",
    "    gdf:        geodataframe with image file names inserted\n",
    "                (relative path with parent directory included)\n",
    "    \"\"\"\n",
    "\n",
    "    # Create copy to avoid changing original geodataframe\n",
    "    gdf = gdf.copy()\n",
    "    \n",
    "    # Convert datetimes and timedeltas to strings (needed to save as GPKG)\n",
    "    gdf.Time = gdf.Time.dt.strftime('%Y-%m-%d %H:%M:%S.%f%z')\n",
    "    gdf.TimeRelToVideoStart = gdf.TimeRelToVideoStart.astype(str)\n",
    "    \n",
    "    # Insert additional column for image path\n",
    "    gdf.insert(gdf.shape[1]-1,'ImageFile','')\n",
    "\n",
    "    # Loop over every row, create image and save image file name\n",
    "    for ii in tqdm.tqdm(range(len(gdf))):    # Use tqdm to display progress bar\n",
    "        # Create file name and log it to the geodataframe\n",
    "        image_file_name = pathlib.Path(gdf.iloc[ii].VideoFile).stem + '_' + \\\n",
    "                           sec_to_timestring(gdf.iloc[ii].TimeRelToFileStartSec) + '.jpg'\n",
    "        gdf.iloc[ii, gdf.columns.get_loc('ImageFile')] = str(image_file_name)  # Must use get_loc for \"mixed\" indexing with ints and names\n",
    "        \n",
    "        # Create absolute path\n",
    "        abs_path = pathlib.Path(image_dir,image_file_name)\n",
    "\n",
    "        # Extract image from video and save\n",
    "        image_from_video(gdf.iloc[ii].VideoFile,\n",
    "                            str(abs_path),\n",
    "                            gdf.iloc[ii].TimeRelToFileStartSec)\n",
    "\n",
    "    return gdf"
   ]
  },
  {
   "cell_type": "code",
   "execution_count": 49,
   "id": "2447f081",
   "metadata": {},
   "outputs": [
    {
     "name": "stderr",
     "output_type": "stream",
     "text": [
      "100%|█████████████████████████████████████████| 136/136 [01:24<00:00,  1.61it/s]\n"
     ]
    },
    {
     "data": {
      "text/html": [
       "<div>\n",
       "<style scoped>\n",
       "    .dataframe tbody tr th:only-of-type {\n",
       "        vertical-align: middle;\n",
       "    }\n",
       "\n",
       "    .dataframe tbody tr th {\n",
       "        vertical-align: top;\n",
       "    }\n",
       "\n",
       "    .dataframe thead th {\n",
       "        text-align: right;\n",
       "    }\n",
       "</style>\n",
       "<table border=\"1\" class=\"dataframe\">\n",
       "  <thead>\n",
       "    <tr style=\"text-align: right;\">\n",
       "      <th></th>\n",
       "      <th>Time</th>\n",
       "      <th>Lat</th>\n",
       "      <th>Lng</th>\n",
       "      <th>VideoFile</th>\n",
       "      <th>TimeRelToVideoStart</th>\n",
       "      <th>TimeRelToFileStartSec</th>\n",
       "      <th>ImageFile</th>\n",
       "      <th>geometry</th>\n",
       "    </tr>\n",
       "  </thead>\n",
       "  <tbody>\n",
       "    <tr>\n",
       "      <th>0</th>\n",
       "      <td>2022-08-20 13:45:00.957000+0000</td>\n",
       "      <td>65.678659</td>\n",
       "      <td>11.719861</td>\n",
       "      <td>/media/mha114/Massimal/Vega_Sola/Transects/Ott...</td>\n",
       "      <td>0 days 00:11:11.957000</td>\n",
       "      <td>671.957</td>\n",
       "      <td>GX010060_11m11s957ms.jpg</td>\n",
       "      <td>POINT (11.71986 65.67866)</td>\n",
       "    </tr>\n",
       "    <tr>\n",
       "      <th>925</th>\n",
       "      <td>2022-08-20 13:46:33.397000+0000</td>\n",
       "      <td>65.678630</td>\n",
       "      <td>11.720067</td>\n",
       "      <td>/media/mha114/Massimal/Vega_Sola/Transects/Ott...</td>\n",
       "      <td>0 days 00:12:44.397000</td>\n",
       "      <td>59.693</td>\n",
       "      <td>GX020060_00m59s693ms.jpg</td>\n",
       "      <td>POINT (11.72007 65.67863)</td>\n",
       "    </tr>\n",
       "    <tr>\n",
       "      <th>1179</th>\n",
       "      <td>2022-08-20 13:46:58.788000+0000</td>\n",
       "      <td>65.678544</td>\n",
       "      <td>11.720003</td>\n",
       "      <td>/media/mha114/Massimal/Vega_Sola/Transects/Ott...</td>\n",
       "      <td>0 days 00:13:09.788000</td>\n",
       "      <td>85.084</td>\n",
       "      <td>GX020060_01m25s084ms.jpg</td>\n",
       "      <td>POINT (11.72000 65.67854)</td>\n",
       "    </tr>\n",
       "    <tr>\n",
       "      <th>1367</th>\n",
       "      <td>2022-08-20 13:47:17.587000+0000</td>\n",
       "      <td>65.678536</td>\n",
       "      <td>11.720221</td>\n",
       "      <td>/media/mha114/Massimal/Vega_Sola/Transects/Ott...</td>\n",
       "      <td>0 days 00:13:28.587000</td>\n",
       "      <td>103.883</td>\n",
       "      <td>GX020060_01m43s883ms.jpg</td>\n",
       "      <td>POINT (11.72022 65.67854)</td>\n",
       "    </tr>\n",
       "    <tr>\n",
       "      <th>1548</th>\n",
       "      <td>2022-08-20 13:47:35.696000+0000</td>\n",
       "      <td>65.678554</td>\n",
       "      <td>11.720434</td>\n",
       "      <td>/media/mha114/Massimal/Vega_Sola/Transects/Ott...</td>\n",
       "      <td>0 days 00:13:46.696000</td>\n",
       "      <td>121.992</td>\n",
       "      <td>GX020060_02m01s992ms.jpg</td>\n",
       "      <td>POINT (11.72043 65.67855)</td>\n",
       "    </tr>\n",
       "    <tr>\n",
       "      <th>...</th>\n",
       "      <td>...</td>\n",
       "      <td>...</td>\n",
       "      <td>...</td>\n",
       "      <td>...</td>\n",
       "      <td>...</td>\n",
       "      <td>...</td>\n",
       "      <td>...</td>\n",
       "      <td>...</td>\n",
       "    </tr>\n",
       "    <tr>\n",
       "      <th>24146</th>\n",
       "      <td>2022-08-20 14:25:15.490000+0000</td>\n",
       "      <td>65.678826</td>\n",
       "      <td>11.720580</td>\n",
       "      <td>/media/mha114/Massimal/Vega_Sola/Transects/Ott...</td>\n",
       "      <td>0 days 00:51:26.490000</td>\n",
       "      <td>267.674</td>\n",
       "      <td>GX050060_04m27s674ms.jpg</td>\n",
       "      <td>POINT (11.72058 65.67883)</td>\n",
       "    </tr>\n",
       "    <tr>\n",
       "      <th>24273</th>\n",
       "      <td>2022-08-20 14:25:28.178000+0000</td>\n",
       "      <td>65.678768</td>\n",
       "      <td>11.720414</td>\n",
       "      <td>/media/mha114/Massimal/Vega_Sola/Transects/Ott...</td>\n",
       "      <td>0 days 00:51:39.178000</td>\n",
       "      <td>280.362</td>\n",
       "      <td>GX050060_04m40s362ms.jpg</td>\n",
       "      <td>POINT (11.72041 65.67877)</td>\n",
       "    </tr>\n",
       "    <tr>\n",
       "      <th>24411</th>\n",
       "      <td>2022-08-20 14:25:41.985000+0000</td>\n",
       "      <td>65.678710</td>\n",
       "      <td>11.720248</td>\n",
       "      <td>/media/mha114/Massimal/Vega_Sola/Transects/Ott...</td>\n",
       "      <td>0 days 00:51:52.985000</td>\n",
       "      <td>294.169</td>\n",
       "      <td>GX050060_04m54s169ms.jpg</td>\n",
       "      <td>POINT (11.72025 65.67871)</td>\n",
       "    </tr>\n",
       "    <tr>\n",
       "      <th>24562</th>\n",
       "      <td>2022-08-20 14:25:57.089000+0000</td>\n",
       "      <td>65.678651</td>\n",
       "      <td>11.720085</td>\n",
       "      <td>/media/mha114/Massimal/Vega_Sola/Transects/Ott...</td>\n",
       "      <td>0 days 00:52:08.089000</td>\n",
       "      <td>309.273</td>\n",
       "      <td>GX050060_05m09s273ms.jpg</td>\n",
       "      <td>POINT (11.72008 65.67865)</td>\n",
       "    </tr>\n",
       "    <tr>\n",
       "      <th>24717</th>\n",
       "      <td>2022-08-20 14:26:12.576000+0000</td>\n",
       "      <td>65.678587</td>\n",
       "      <td>11.719932</td>\n",
       "      <td>/media/mha114/Massimal/Vega_Sola/Transects/Ott...</td>\n",
       "      <td>0 days 00:52:23.576000</td>\n",
       "      <td>324.760</td>\n",
       "      <td>GX050060_05m24s760ms.jpg</td>\n",
       "      <td>POINT (11.71993 65.67859)</td>\n",
       "    </tr>\n",
       "  </tbody>\n",
       "</table>\n",
       "<p>136 rows × 8 columns</p>\n",
       "</div>"
      ],
      "text/plain": [
       "                                  Time        Lat        Lng  \\\n",
       "0      2022-08-20 13:45:00.957000+0000  65.678659  11.719861   \n",
       "925    2022-08-20 13:46:33.397000+0000  65.678630  11.720067   \n",
       "1179   2022-08-20 13:46:58.788000+0000  65.678544  11.720003   \n",
       "1367   2022-08-20 13:47:17.587000+0000  65.678536  11.720221   \n",
       "1548   2022-08-20 13:47:35.696000+0000  65.678554  11.720434   \n",
       "...                                ...        ...        ...   \n",
       "24146  2022-08-20 14:25:15.490000+0000  65.678826  11.720580   \n",
       "24273  2022-08-20 14:25:28.178000+0000  65.678768  11.720414   \n",
       "24411  2022-08-20 14:25:41.985000+0000  65.678710  11.720248   \n",
       "24562  2022-08-20 14:25:57.089000+0000  65.678651  11.720085   \n",
       "24717  2022-08-20 14:26:12.576000+0000  65.678587  11.719932   \n",
       "\n",
       "                                               VideoFile  \\\n",
       "0      /media/mha114/Massimal/Vega_Sola/Transects/Ott...   \n",
       "925    /media/mha114/Massimal/Vega_Sola/Transects/Ott...   \n",
       "1179   /media/mha114/Massimal/Vega_Sola/Transects/Ott...   \n",
       "1367   /media/mha114/Massimal/Vega_Sola/Transects/Ott...   \n",
       "1548   /media/mha114/Massimal/Vega_Sola/Transects/Ott...   \n",
       "...                                                  ...   \n",
       "24146  /media/mha114/Massimal/Vega_Sola/Transects/Ott...   \n",
       "24273  /media/mha114/Massimal/Vega_Sola/Transects/Ott...   \n",
       "24411  /media/mha114/Massimal/Vega_Sola/Transects/Ott...   \n",
       "24562  /media/mha114/Massimal/Vega_Sola/Transects/Ott...   \n",
       "24717  /media/mha114/Massimal/Vega_Sola/Transects/Ott...   \n",
       "\n",
       "          TimeRelToVideoStart  TimeRelToFileStartSec  \\\n",
       "0      0 days 00:11:11.957000                671.957   \n",
       "925    0 days 00:12:44.397000                 59.693   \n",
       "1179   0 days 00:13:09.788000                 85.084   \n",
       "1367   0 days 00:13:28.587000                103.883   \n",
       "1548   0 days 00:13:46.696000                121.992   \n",
       "...                       ...                    ...   \n",
       "24146  0 days 00:51:26.490000                267.674   \n",
       "24273  0 days 00:51:39.178000                280.362   \n",
       "24411  0 days 00:51:52.985000                294.169   \n",
       "24562  0 days 00:52:08.089000                309.273   \n",
       "24717  0 days 00:52:23.576000                324.760   \n",
       "\n",
       "                      ImageFile                   geometry  \n",
       "0      GX010060_11m11s957ms.jpg  POINT (11.71986 65.67866)  \n",
       "925    GX020060_00m59s693ms.jpg  POINT (11.72007 65.67863)  \n",
       "1179   GX020060_01m25s084ms.jpg  POINT (11.72000 65.67854)  \n",
       "1367   GX020060_01m43s883ms.jpg  POINT (11.72022 65.67854)  \n",
       "1548   GX020060_02m01s992ms.jpg  POINT (11.72043 65.67855)  \n",
       "...                         ...                        ...  \n",
       "24146  GX050060_04m27s674ms.jpg  POINT (11.72058 65.67883)  \n",
       "24273  GX050060_04m40s362ms.jpg  POINT (11.72041 65.67877)  \n",
       "24411  GX050060_04m54s169ms.jpg  POINT (11.72025 65.67871)  \n",
       "24562  GX050060_05m09s273ms.jpg  POINT (11.72008 65.67865)  \n",
       "24717  GX050060_05m24s760ms.jpg  POINT (11.71993 65.67859)  \n",
       "\n",
       "[136 rows x 8 columns]"
      ]
     },
     "execution_count": 49,
     "metadata": {},
     "output_type": "execute_result"
    }
   ],
   "source": [
    "# Try extracting images from video\n",
    "gdf_with_images = extract_images_from_video(gdf_with_video,image_dir)\n",
    "gdf_with_images"
   ]
  },
  {
   "cell_type": "code",
   "execution_count": 50,
   "id": "bca649e1",
   "metadata": {},
   "outputs": [
    {
     "data": {
      "image/png": "[encoded data removed]",
      "text/plain": [
       "<Figure size 432x288 with 1 Axes>"
      ]
     },
     "metadata": {
      "needs_background": "light"
     },
     "output_type": "display_data"
    }
   ],
   "source": [
    "gdf_with_images.plot()\n",
    "plt.show()"
   ]
  },
  {
   "cell_type": "code",
   "execution_count": 54,
   "id": "90a0fcfc",
   "metadata": {},
   "outputs": [],
   "source": [
    "# Save GDF with image file names\n",
    "gdf_with_images.to_file(gpk_file, driver=\"GPKG\")"
   ]
  },
  {
   "cell_type": "code",
   "execution_count": 51,
   "id": "12ef3dba",
   "metadata": {},
   "outputs": [],
   "source": [
    "tmp = gdf_with_images.iloc[0].Time"
   ]
  },
  {
   "cell_type": "code",
   "execution_count": 29,
   "id": "9830abee",
   "metadata": {},
   "outputs": [
    {
     "data": {
      "text/plain": [
       "'2022-08-20 13:45:00.957000+0000'"
      ]
     },
     "execution_count": 29,
     "metadata": {},
     "output_type": "execute_result"
    }
   ],
   "source": [
    "tmp.strftime('%Y-%m-%d %H:%M:%S.%f%z')"
   ]
  },
  {
   "cell_type": "code",
   "execution_count": 52,
   "id": "2411fb1a",
   "metadata": {},
   "outputs": [
    {
     "data": {
      "text/plain": [
       "'2022-08-20 13:45:00.957000+0000'"
      ]
     },
     "execution_count": 52,
     "metadata": {},
     "output_type": "execute_result"
    }
   ],
   "source": [
    "tmp"
   ]
  },
  {
   "cell_type": "code",
   "execution_count": 35,
   "id": "16943344",
   "metadata": {},
   "outputs": [
    {
     "ename": "AttributeError",
     "evalue": "'TimedeltaProperties' object has no attribute 'strftime'",
     "output_type": "error",
     "traceback": [
      "\u001b[0;31m---------------------------------------------------------------------------\u001b[0m",
      "\u001b[0;31mAttributeError\u001b[0m                            Traceback (most recent call last)",
      "Input \u001b[0;32mIn [35]\u001b[0m, in \u001b[0;36m<cell line: 2>\u001b[0;34m()\u001b[0m\n\u001b[1;32m      1\u001b[0m \u001b[38;5;66;03m#gdf_with_images.Time = gdf_with_images.Time.dt.strftime('%Y-%m-%d %H:%M:%S.%f%z')\u001b[39;00m\n\u001b[0;32m----> 2\u001b[0m gdf_with_images\u001b[38;5;241m.\u001b[39mTimeRelToVideoStart\t\u001b[38;5;241m=\u001b[39m \u001b[43mgdf_with_images\u001b[49m\u001b[38;5;241;43m.\u001b[39;49m\u001b[43mTimeRelToVideoStart\u001b[49m\u001b[38;5;241;43m.\u001b[39;49m\u001b[43mdt\u001b[49m\u001b[38;5;241;43m.\u001b[39;49m\u001b[43mstrftime\u001b[49m(\u001b[38;5;124m'\u001b[39m\u001b[38;5;124m%\u001b[39m\u001b[38;5;124mH:\u001b[39m\u001b[38;5;124m%\u001b[39m\u001b[38;5;124mM:\u001b[39m\u001b[38;5;124m%\u001b[39m\u001b[38;5;124mS.\u001b[39m\u001b[38;5;132;01m%f\u001b[39;00m\u001b[38;5;124m'\u001b[39m)\n",
      "\u001b[0;31mAttributeError\u001b[0m: 'TimedeltaProperties' object has no attribute 'strftime'"
     ]
    }
   ],
   "source": [
    "#gdf_with_images.Time = gdf_with_images.Time.dt.strftime('%Y-%m-%d %H:%M:%S.%f%z')\n",
    "gdf_with_images.TimeRelToVideoStart\t= gdf_with_images.TimeRelToVideoStart.dt.strftime('%H:%M:%S.%f')"
   ]
  },
  {
   "cell_type": "code",
   "execution_count": 33,
   "id": "315afe7b",
   "metadata": {},
   "outputs": [
    {
     "data": {
      "text/plain": [
       "'2022-08-20 13:45:00.957000+0000'"
      ]
     },
     "execution_count": 33,
     "metadata": {},
     "output_type": "execute_result"
    }
   ],
   "source": [
    "gdf_with_images.iloc[0].Time"
   ]
  },
  {
   "cell_type": "code",
   "execution_count": 53,
   "id": "7f4e7a42",
   "metadata": {},
   "outputs": [
    {
     "data": {
      "text/plain": [
       "'0 days 00:11:11.957000'"
      ]
     },
     "execution_count": 53,
     "metadata": {},
     "output_type": "execute_result"
    }
   ],
   "source": [
    "gdf_with_images.iloc[0].TimeRelToVideoStart"
   ]
  },
  {
   "cell_type": "code",
   "execution_count": 37,
   "id": "a529943f",
   "metadata": {},
   "outputs": [],
   "source": [
    "tmp2 = gdf_with_images.iloc[0].TimeRelToVideoStart"
   ]
  },
  {
   "cell_type": "code",
   "execution_count": 41,
   "id": "c4ba7c61",
   "metadata": {},
   "outputs": [
    {
     "ename": "AttributeError",
     "evalue": "'Timedelta' object has no attribute 'astype'",
     "output_type": "error",
     "traceback": [
      "\u001b[0;31m---------------------------------------------------------------------------\u001b[0m",
      "\u001b[0;31mAttributeError\u001b[0m                            Traceback (most recent call last)",
      "Input \u001b[0;32mIn [41]\u001b[0m, in \u001b[0;36m<cell line: 1>\u001b[0;34m()\u001b[0m\n\u001b[0;32m----> 1\u001b[0m \u001b[43mtmp2\u001b[49m\u001b[38;5;241;43m.\u001b[39;49m\u001b[43mastype\u001b[49m(\u001b[38;5;28mstr\u001b[39m)\n",
      "\u001b[0;31mAttributeError\u001b[0m: 'Timedelta' object has no attribute 'astype'"
     ]
    }
   ],
   "source": [
    "tmp2.astype(str)"
   ]
  },
  {
   "cell_type": "code",
   "execution_count": 40,
   "id": "328328e5",
   "metadata": {},
   "outputs": [
    {
     "data": {
      "text/plain": [
       "datetime.datetime(2022, 8, 20, 13, 45, 0, 957000, tzinfo=<UTC>)"
      ]
     },
     "execution_count": 40,
     "metadata": {},
     "output_type": "execute_result"
    }
   ],
   "source": [
    "tmp.to_pydatetime()"
   ]
  },
  {
   "cell_type": "code",
   "execution_count": 47,
   "id": "d37f03b4",
   "metadata": {},
   "outputs": [
    {
     "data": {
      "text/plain": [
       "0        0 days 00:11:11.957000\n",
       "925      0 days 00:12:44.397000\n",
       "1179     0 days 00:13:09.788000\n",
       "1367     0 days 00:13:28.587000\n",
       "1548     0 days 00:13:46.696000\n",
       "                  ...          \n",
       "24146    0 days 00:51:26.490000\n",
       "24273    0 days 00:51:39.178000\n",
       "24411    0 days 00:51:52.985000\n",
       "24562    0 days 00:52:08.089000\n",
       "24717    0 days 00:52:23.576000\n",
       "Name: TimeRelToVideoStart, Length: 136, dtype: object"
      ]
     },
     "execution_count": 47,
     "metadata": {},
     "output_type": "execute_result"
    }
   ],
   "source": [
    "gdf_with_images.TimeRelToVideoStart.astype(str)"
   ]
  },
  {
   "cell_type": "code",
   "execution_count": null,
   "id": "3cfc117f",
   "metadata": {},
   "outputs": [],
   "source": []
  }
 ],
 "metadata": {
  "kernelspec": {
   "display_name": "Python 3 (ipykernel)",
   "language": "python",
   "name": "python3"
  },
  "language_info": {
   "codemirror_mode": {
    "name": "ipython",
    "version": 3
   },
   "file_extension": ".py",
   "mimetype": "text/x-python",
   "name": "python",
   "nbconvert_exporter": "python",
   "pygments_lexer": "ipython3",
   "version": "3.9.12"
  }
 },
 "nbformat": 4,
 "nbformat_minor": 5
}
