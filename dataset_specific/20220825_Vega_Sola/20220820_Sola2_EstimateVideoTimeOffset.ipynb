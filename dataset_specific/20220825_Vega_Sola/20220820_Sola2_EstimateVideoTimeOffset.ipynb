{
 "cells": [
  {
   "cell_type": "code",
   "execution_count": 1,
   "id": "5404d16b",
   "metadata": {},
   "outputs": [],
   "source": [
    "import datetime, dateutil\n",
    "import video_transect, misc\n",
    "import ffmpeg\n",
    "import pathlib\n",
    "import pytz"
   ]
  },
  {
   "cell_type": "code",
   "execution_count": 2,
   "id": "a5f59455",
   "metadata": {},
   "outputs": [],
   "source": [
    "# Paths\n",
    "transect_dirs = ['/media/mha114/Massimal/Vega_Sola/Transects/Otter/Sola_02/20220820_160305_Sola02']\n"
   ]
  },
  {
   "cell_type": "code",
   "execution_count": 3,
   "id": "94c3f13e",
   "metadata": {},
   "outputs": [],
   "source": [
    "for tdir in transect_dirs:\n",
    "    transect_dir = pathlib.Path(tdir)\n",
    "    video_dir = transect_dir / 'GoPro'\n",
    "    image_dir = transect_dir / 'Images'\n",
    "    image_dir.mkdir(exist_ok=True)\n",
    "    gpkg_dir = transect_dir / 'Images Geopackage'\n",
    "    gpkg_dir.mkdir(exist_ok=True)\n",
    "    gpkg_file = gpkg_dir / (transect_dir.stem + '_GeotaggedImages.gpkg')\n",
    "    csv_file = misc.file_pattern_search(str(transect_dir),'*Gnss*.csv', recursive=True)[0]\n",
    "\n",
    "    video_files = misc.file_pattern_search(str(video_dir), '*.[Mm][Pp]4')\n",
    "    video_data = video_transect.get_video_data(str(video_dir))\n",
    "    \n",
    "    gdf = video_transect.otter_csv_to_geodataframe(csv_file)"
   ]
  },
  {
   "cell_type": "code",
   "execution_count": 4,
   "id": "2f919c18",
   "metadata": {},
   "outputs": [
    {
     "name": "stdout",
     "output_type": "stream",
     "text": [
      "Otter time (UTC) at key point is 2022-08-20 17:23:38.884000+00:00\n"
     ]
    }
   ],
   "source": [
    "otter_time_row = 48332\n",
    "otter_key_time = gdf.Time.loc[otter_time_row]\n",
    "print(f'Otter time (UTC) at key point is {otter_key_time}')"
   ]
  },
  {
   "cell_type": "code",
   "execution_count": 5,
   "id": "4650231c",
   "metadata": {},
   "outputs": [
    {
     "name": "stdout",
     "output_type": "stream",
     "text": [
      "Video time (UTC+2) at key point is 2022-08-20 18:54:27+02:00\n"
     ]
    }
   ],
   "source": [
    "video_number = 7\n",
    "video_ind = video_number - 1\n",
    "video_start_time = dateutil.parser.parse(ffmpeg.probe(video_files[video_ind])['streams'][0]['tags']['creation_time'])\n",
    "video_start_time = video_start_time.replace(tzinfo=None)  # Make naive\n",
    "timezone = pytz.timezone('Europe/Oslo')\n",
    "video_start_time = timezone.localize(video_start_time)\n",
    "video_rel_time = datetime.timedelta(minutes=1,seconds=57)\n",
    "video_key_time = video_start_time + video_rel_time\n",
    "print(f'Video time (UTC+2) at key point is {video_key_time}')"
   ]
  },
  {
   "cell_type": "code",
   "execution_count": 6,
   "id": "f6a96e90",
   "metadata": {},
   "outputs": [
    {
     "name": "stdout",
     "output_type": "stream",
     "text": [
      "Video time offset, taking timezones into account, (otter UTC+0, video UTC+2) is -1 days +23:30:48.116000\n",
      "In seconds, the offset is -1751.884 s\n"
     ]
    }
   ],
   "source": [
    "video_offset = video_key_time - otter_key_time\n",
    "print(f'Video time offset, taking timezones into account, (otter UTC+0, video UTC+2) is {video_offset}')\n",
    "print(f'In seconds, the offset is {video_offset.total_seconds()} s')"
   ]
  },
  {
   "cell_type": "code",
   "execution_count": null,
   "id": "bc64a564",
   "metadata": {},
   "outputs": [],
   "source": []
  }
 ],
 "metadata": {
  "kernelspec": {
   "display_name": "Python 3 (ipykernel)",
   "language": "python",
   "name": "python3"
  },
  "language_info": {
   "codemirror_mode": {
    "name": "ipython",
    "version": 3
   },
   "file_extension": ".py",
   "mimetype": "text/x-python",
   "name": "python",
   "nbconvert_exporter": "python",
   "pygments_lexer": "ipython3",
   "version": "3.9.12"
  }
 },
 "nbformat": 4,
 "nbformat_minor": 5
}
