{
 "cells": [
  {
   "cell_type": "code",
   "execution_count": 1,
   "id": "6fdf9ca3-02f6-4998-9175-fb9d6bf2ffbb",
   "metadata": {},
   "outputs": [],
   "source": [
    "# Disable TensorFlow debugging info and warnings\n",
    "import os\n",
    "os.environ['TF_CPP_MIN_LOG_LEVEL'] = '2'  # 2: Info and warnings not displayed "
   ]
  },
  {
   "cell_type": "code",
   "execution_count": 2,
   "id": "be15a180-5751-4592-b995-c971fa7e9b09",
   "metadata": {},
   "outputs": [],
   "source": [
    "import numpy as np\n",
    "import sklearn.decomposition\n",
    "import imblearn\n",
    "import matplotlib.pyplot as plt\n",
    "import matplotlib.colors\n",
    "import pathlib\n",
    "import tqdm\n",
    "import annotation, misc, hyspec_cnn, hyspec_io, hyspec_ml  # Local imports"
   ]
  },
  {
   "cell_type": "code",
   "execution_count": 10,
   "id": "51c94e4e-b685-4d55-9a21-58d79c0cbb3e",
   "metadata": {},
   "outputs": [],
   "source": [
    "# Paths\n",
    "hyspec_base = pathlib.Path('/media/mha114/Massimal/Vega_Sola/Hyperspectral/20220823/Area/2a_Rrs')\n",
    "train_val_base = pathlib.Path('/media/mha114/Massimal/Vega_Sola/Hyperspectral/20220823/Area/3a_PCA_TrainValidationSplit')\n",
    "class_json = train_val_base / 'Training/Annotation/label_classes.json'\n",
    "pca_dir = pathlib.Path('/media/mha114/Massimal/Vega_Sola/Hyperspectral/20220823/Area/M_PCAModel')\n",
    "spectra_file = pca_dir / '20220823_Vega_Sola_ExtractedSpectraAndLabels2023-05-27-01h42m12s.npz'\n",
    "pca_model_path = pca_dir / '20220823_Vega_Sola_PCA-Model.npz'"
   ]
  },
  {
   "cell_type": "code",
   "execution_count": 4,
   "id": "f8064aab-817e-444f-916e-d26cc85145d0",
   "metadata": {},
   "outputs": [],
   "source": [
    "# Get wavelengths from example hyspec file\n",
    "example_hyspec_file_path = [path for path in sorted(hyspec_base.rglob('*.hdr'))][0]\n",
    "_,wl,_,_ = hyspec_io.load_envi_image(str(example_hyspec_file_path),rgb_only=True)"
   ]
  },
  {
   "cell_type": "code",
   "execution_count": 5,
   "id": "ff9cee32-a2d4-4e95-b4ec-814d9780a8eb",
   "metadata": {},
   "outputs": [],
   "source": [
    "# Load data\n",
    "with np.load(spectra_file) as npz_files:\n",
    "    X_raw = npz_files['X']\n",
    "    y_raw = npz_files['y']"
   ]
  },
  {
   "cell_type": "code",
   "execution_count": 6,
   "id": "45a06a25-1075-46a4-94c4-e9f98d1bc96c",
   "metadata": {},
   "outputs": [],
   "source": [
    "# Remove zero-valued spectra (caused by saturation)\n",
    "nonzero_spectra_mask = ~np.all(X_raw==0,axis=1)\n",
    "X = X_raw[nonzero_spectra_mask,:]\n",
    "y = y_raw[nonzero_spectra_mask]"
   ]
  },
  {
   "cell_type": "code",
   "execution_count": 11,
   "id": "b418292c-b9b2-451d-bd4c-0e592d3f5edf",
   "metadata": {},
   "outputs": [],
   "source": [
    "# Load class names and indices\n",
    "class_dict = annotation.read_hasty_metadata(class_json)"
   ]
  },
  {
   "cell_type": "code",
   "execution_count": 13,
   "id": "ac0958e9-ac0d-401f-9ce5-f3ee2075949b",
   "metadata": {},
   "outputs": [
    {
     "name": "stdout",
     "output_type": "stream",
     "text": [
      "Rock                                205572 samples\n",
      "Cobble                              106211 samples\n",
      "Sand                                245730 samples\n",
      "Mearl bed                           385290 samples\n",
      "Rockweed                            139784 samples\n",
      "Kelp                                69648 samples\n",
      "Brown algae                         274157 samples\n"
     ]
    }
   ],
   "source": [
    "# Inspect number of samples per class\n",
    "samples_per_class = {}\n",
    "for class_name, class_index in class_dict.items():\n",
    "    print(f'{class_name:35} {np.count_nonzero(y==class_index)} samples')\n",
    "    samples_per_class[class_name] = np.count_nonzero(y==class_index) / len(y)"
   ]
  },
  {
   "cell_type": "code",
   "execution_count": 14,
   "id": "90187bb3-1a22-4c1c-94ab-0184dfa08dde",
   "metadata": {},
   "outputs": [
    {
     "data": {
      "text/plain": [
       "{'Rock': 0.14412026988373464,\n",
       " 'Cobble': 0.0744612981564675,\n",
       " 'Sand': 0.17227382094122795,\n",
       " 'Mearl bed': 0.2701150875776084,\n",
       " 'Rockweed': 0.09799830621596307,\n",
       " 'Kelp': 0.04882809213736476,\n",
       " 'Brown algae': 0.19220312508763368}"
      ]
     },
     "execution_count": 14,
     "metadata": {},
     "output_type": "execute_result"
    }
   ],
   "source": [
    "samples_per_class"
   ]
  },
  {
   "cell_type": "code",
   "execution_count": 19,
   "id": "41fb3deb-64a9-46cc-8488-ba3eec074d04",
   "metadata": {},
   "outputs": [],
   "source": [
    "weights = {class_name:(1/np.sqrt(frac)) for class_name,frac in samples_per_class.items()}"
   ]
  },
  {
   "cell_type": "code",
   "execution_count": 26,
   "id": "e9d52f78-eea5-4429-b920-a4cd4c26e353",
   "metadata": {},
   "outputs": [],
   "source": [
    "weight_mean = np.mean(np.asarray([v for v in weights.values()]))"
   ]
  },
  {
   "cell_type": "code",
   "execution_count": 27,
   "id": "62860939-850f-46b4-9017-710f208cbb5f",
   "metadata": {},
   "outputs": [],
   "source": [
    "bal_weights = {class_name:weight/weight_mean for class_name,weight in weights.items()}"
   ]
  },
  {
   "cell_type": "code",
   "execution_count": 28,
   "id": "631390f2-20cf-409d-bbab-21f3596f25cf",
   "metadata": {},
   "outputs": [
    {
     "data": {
      "text/plain": [
       "{'Rock': 0.8936593040017538,\n",
       " 'Cobble': 1.2432807598688147,\n",
       " 'Sand': 0.8173816269828617,\n",
       " 'Mearl bed': 0.652769859085942,\n",
       " 'Rockweed': 1.0837403161669816,\n",
       " 'Kelp': 1.5353225790820613,\n",
       " 'Brown algae': 0.7738455548115847}"
      ]
     },
     "execution_count": 28,
     "metadata": {},
     "output_type": "execute_result"
    }
   ],
   "source": [
    "bal_weights"
   ]
  },
  {
   "cell_type": "code",
   "execution_count": 29,
   "id": "ce75f12d-74b0-4c3c-a710-4a80513cf964",
   "metadata": {},
   "outputs": [],
   "source": [
    "bal_weights_rounded = {class_name:round(weight,ndigits=2) for class_name,weight in bal_weights.items()}"
   ]
  },
  {
   "cell_type": "code",
   "execution_count": 30,
   "id": "5cffb9e9-1169-43ce-9a0b-dc22c0e52be4",
   "metadata": {},
   "outputs": [
    {
     "data": {
      "text/plain": [
       "{'Rock': 0.89,\n",
       " 'Cobble': 1.24,\n",
       " 'Sand': 0.82,\n",
       " 'Mearl bed': 0.65,\n",
       " 'Rockweed': 1.08,\n",
       " 'Kelp': 1.54,\n",
       " 'Brown algae': 0.77}"
      ]
     },
     "execution_count": 30,
     "metadata": {},
     "output_type": "execute_result"
    }
   ],
   "source": [
    "bal_weights_rounded"
   ]
  },
  {
   "cell_type": "code",
   "execution_count": null,
   "id": "9ad37914-bef7-4a51-b4e8-72b1e77878e0",
   "metadata": {},
   "outputs": [],
   "source": []
  }
 ],
 "metadata": {
  "kernelspec": {
   "display_name": "Python 3 (ipykernel)",
   "language": "python",
   "name": "python3"
  },
  "language_info": {
   "codemirror_mode": {
    "name": "ipython",
    "version": 3
   },
   "file_extension": ".py",
   "mimetype": "text/x-python",
   "name": "python",
   "nbconvert_exporter": "python",
   "pygments_lexer": "ipython3",
   "version": "3.11.3"
  }
 },
 "nbformat": 4,
 "nbformat_minor": 5
}
