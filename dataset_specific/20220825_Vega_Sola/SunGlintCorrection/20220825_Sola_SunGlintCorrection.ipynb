{
 "cells": [
  {
   "cell_type": "code",
   "execution_count": 2,
   "id": "7e07da91-5c15-4fa8-9f48-f29ae0f33e15",
   "metadata": {},
   "outputs": [],
   "source": [
    "import numpy as np\n",
    "import skimage.io\n",
    "import matplotlib.pyplot as plt\n",
    "import pathlib\n",
    "import hyspec_io, image_render, preprocess, batch_process"
   ]
  },
  {
   "cell_type": "code",
   "execution_count": 3,
   "id": "1e682b9a-ee24-461d-854b-73d3f0256da3",
   "metadata": {},
   "outputs": [],
   "source": [
    "hyspec_base = pathlib.Path('/media/mha114/Massimal/Vega_Sola/Hyperspectral/20220823/Area/2a_Rrs')\n",
    "refcubes_base = pathlib.Path('/media/mha114/Massimal/Vega_Sola/Hyperspectral/20220823/Area/X_TestSGC')\n",
    "sgc_im_base = pathlib.Path('/media/mha114/Massimal/Vega_Sola/Hyperspectral/20220823/Area/3a_Rrs_SGC')\n",
    "subfolders = ['Coast1','Coast2','Coast3','Sound1','Sound2','Sound3a','Sound3b']\n"
   ]
  },
  {
   "cell_type": "code",
   "execution_count": null,
   "id": "c0d6388f-d54c-4c67-96f6-a0cbe84b326b",
   "metadata": {},
   "outputs": [],
   "source": [
    "# Loop through all folders and images and create percentile stretched RGB image\n",
    "for subfolder in subfolders:\n",
    "    print(f'Processing subfolder {subfolder}')\n",
    "    \n",
    "    # Construct folder paths for current subfolder\n",
    "    hyspec_folder = hyspec_base / subfolder\n",
    "    refcube_folder = refcubes_base / subfolder\n",
    "    sgc_im_folder = sgc_im_base / subfolder\n",
    "    \n",
    "    # Create RGB subfolder if it doesn't exist\n",
    "    sgc_im_folder.mkdir(parents=True,exist_ok=True)\n",
    "\n",
    "    # Get reference cube path\n",
    "    refcube_path = [path for path in refcube_folder.glob('*.hdr')][0]\n",
    "\n",
    "    # batch_process.hedley_remove_glint(input_dir=str(hyspec_folder),\n",
    "    #                                   output_dir=str(sgc_im_folder),\n",
    "    #                                   train_cube_path=str(refcube_path))"
   ]
  },
  {
   "cell_type": "code",
   "execution_count": null,
   "id": "8e5b3ec6-882d-44ce-bdf2-da37c83d1efc",
   "metadata": {},
   "outputs": [],
   "source": []
  }
 ],
 "metadata": {
  "kernelspec": {
   "display_name": "Python 3 (ipykernel)",
   "language": "python",
   "name": "python3"
  },
  "language_info": {
   "codemirror_mode": {
    "name": "ipython",
    "version": 3
   },
   "file_extension": ".py",
   "mimetype": "text/x-python",
   "name": "python",
   "nbconvert_exporter": "python",
   "pygments_lexer": "ipython3",
   "version": "3.11.3"
  }
 },
 "nbformat": 4,
 "nbformat_minor": 5
}
