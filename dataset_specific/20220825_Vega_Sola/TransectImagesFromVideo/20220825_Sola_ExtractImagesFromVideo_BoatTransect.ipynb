{
 "cells": [
  {
   "cell_type": "code",
   "execution_count": 1,
   "id": "69b96905",
   "metadata": {},
   "outputs": [],
   "source": [
    "# Imports\n",
    "from pathlib import Path\n",
    "import video_transect, misc"
   ]
  },
  {
   "cell_type": "code",
   "execution_count": 2,
   "id": "529d732e",
   "metadata": {},
   "outputs": [],
   "source": [
    "# Paths\n",
    "main_dir = '/media/mha114/Massimal/Vega_Sola/Transects/Boat/'\n",
    "trans_dirs = misc.file_pattern_search(main_dir,'BT*')"
   ]
  },
  {
   "cell_type": "code",
   "execution_count": 3,
   "id": "21e81701",
   "metadata": {},
   "outputs": [],
   "source": [
    "# Parameters\n",
    "position_downsamp = 2  "
   ]
  },
  {
   "cell_type": "code",
   "execution_count": 4,
   "id": "20f85854",
   "metadata": {},
   "outputs": [
    {
     "name": "stdout",
     "output_type": "stream",
     "text": [
      "Processing folder BT1_Sola\n",
      "CSV file: 2022-08-25_130217_SolaBoat1.csv\n",
      "Read 1224 positions from CSV file.\n",
      "Found 3 video files.\n",
      "Keeping 597 positions after downsampling.\n",
      "Extracting images...\n"
     ]
    },
    {
     "name": "stderr",
     "output_type": "stream",
     "text": [
      "100%|█████████████████████████████████████████| 597/597 [08:18<00:00,  1.20it/s]\n"
     ]
    },
    {
     "name": "stdout",
     "output_type": "stream",
     "text": [
      "Saving geodataframe to file.\n",
      "----\n",
      "Processing folder BT2_Sola\n",
      "CSV file: 2022-08-25_133050_SolaBoat2.csv\n",
      "Read 937 positions from CSV file.\n",
      "Found 2 video files.\n",
      "Keeping 465 positions after downsampling.\n",
      "Extracting images...\n"
     ]
    },
    {
     "name": "stderr",
     "output_type": "stream",
     "text": [
      "100%|█████████████████████████████████████████| 465/465 [06:24<00:00,  1.21it/s]\n"
     ]
    },
    {
     "name": "stdout",
     "output_type": "stream",
     "text": [
      "Saving geodataframe to file.\n",
      "----\n",
      "Processing folder BT3_Sola\n",
      "CSV file: 2022-08-25_135038_SolaBoat3.csv\n",
      "Read 396 positions from CSV file.\n",
      "Found 1 video files.\n"
     ]
    },
    {
     "name": "stderr",
     "output_type": "stream",
     "text": [
      "/home/mha114/Dropbox/Python/massimal/tools/video_transect.py:175: SettingWithCopyWarning: \n",
      "A value is trying to be set on a copy of a slice from a DataFrame.\n",
      "Try using .loc[row_indexer,col_indexer] = value instead\n",
      "\n",
      "See the caveats in the documentation: https://pandas.pydata.org/pandas-docs/stable/user_guide/indexing.html#returning-a-view-versus-a-copy\n",
      "  gdf.loc[ind, 'VideoRelTime'] = gdf.loc[ind, 'TimeDiffSec'] - video_data['StartTimeSec'][ii]\n"
     ]
    },
    {
     "name": "stdout",
     "output_type": "stream",
     "text": [
      "Keeping 179 positions after downsampling.\n",
      "Extracting images...\n"
     ]
    },
    {
     "name": "stderr",
     "output_type": "stream",
     "text": [
      "100%|█████████████████████████████████████████| 179/179 [02:52<00:00,  1.03it/s]"
     ]
    },
    {
     "name": "stdout",
     "output_type": "stream",
     "text": [
      "Saving geodataframe to file.\n",
      "----\n"
     ]
    },
    {
     "name": "stderr",
     "output_type": "stream",
     "text": [
      "\n"
     ]
    }
   ],
   "source": [
    "# Loop over each transect \n",
    "for trans_dir in trans_dirs:\n",
    "    print('Processing folder ' + Path(trans_dir).name)\n",
    "    \n",
    "    csv_file = misc.file_pattern_search(trans_dir,'*.csv')[0]\n",
    "    print('CSV file: ' + Path(csv_file).name)\n",
    "    \n",
    "    video_dir = Path(trans_dir,'Video')\n",
    "    image_dir = Path(trans_dir, 'Images')\n",
    "    gpk_file = Path(trans_dir, Path(trans_dir).name + '_GeotaggedImages.gpkg')\n",
    "    \n",
    "    # Read file, get geodataframe\n",
    "    gdf = video_transect.track_csv_to_geodataframe(str(csv_file))\n",
    "    print('Read ' + str(gdf.shape[0]) + ' positions from CSV file.')\n",
    "    \n",
    "    # Get video info\n",
    "    video_data = video_transect.get_video_data(str(video_dir))\n",
    "    print('Found ' + str(video_data.shape[0]) + ' video files.')\n",
    "    \n",
    "    # Prepare gdf for extraction of images\n",
    "    gdf = video_transect.prepare_gdf_with_video_data(gdf,video_data)\n",
    "    \n",
    "    # Ony keep every n'th row (too densely sampled)\n",
    "    gdf_small = gdf.copy()\n",
    "    gdf_small = gdf_small.iloc[::position_downsamp]\n",
    "    print('Keeping ' + str(gdf_small.shape[0]) + ' positions after downsampling.')\n",
    "    \n",
    "    # Extract images\n",
    "    print('Extracting images...')\n",
    "    gdf_small = video_transect.extract_images_from_video(gdf_small,image_dir)\n",
    "    \n",
    "    # Save gdf as geopackage\n",
    "    print('Saving geodataframe to file.')\n",
    "    gdf_small.to_file(gpk_file, driver=\"GPKG\")\n",
    "    print('----')"
   ]
  }
 ],
 "metadata": {
  "kernelspec": {
   "display_name": "Python 3 (ipykernel)",
   "language": "python",
   "name": "python3"
  },
  "language_info": {
   "codemirror_mode": {
    "name": "ipython",
    "version": 3
   },
   "file_extension": ".py",
   "mimetype": "text/x-python",
   "name": "python",
   "nbconvert_exporter": "python",
   "pygments_lexer": "ipython3",
   "version": "3.9.12"
  }
 },
 "nbformat": 4,
 "nbformat_minor": 5
}
