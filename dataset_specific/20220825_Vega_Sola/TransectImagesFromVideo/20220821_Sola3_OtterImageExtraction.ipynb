{
 "cells": [
  {
   "cell_type": "code",
   "execution_count": 1,
   "id": "171bf9af",
   "metadata": {},
   "outputs": [],
   "source": [
    "import video_transect, misc\n",
    "import pathlib"
   ]
  },
  {
   "cell_type": "code",
   "execution_count": 2,
   "id": "23ee2da4",
   "metadata": {},
   "outputs": [],
   "source": [
    "# Paths\n",
    "transect_dirs = ['/media/mha114/Massimal/Vega_Sola/Transects/Otter/Sola_03/20220821_103936_Sola03a',\n",
    "                 '/media/mha114/Massimal/Vega_Sola/Transects/Otter/Sola_03/20220821_103936_Sola03b']"
   ]
  },
  {
   "cell_type": "code",
   "execution_count": 3,
   "id": "e89f1c3d",
   "metadata": {},
   "outputs": [],
   "source": [
    "# Parameters\n",
    "sample_distance = 1.0\n",
    "video_offset_sec = -2.5  # Video 2.5 sec \"in front of\" position"
   ]
  },
  {
   "cell_type": "code",
   "execution_count": 4,
   "id": "9381dd24",
   "metadata": {},
   "outputs": [
    {
     "name": "stderr",
     "output_type": "stream",
     "text": [
      "100%|█████████████████████████████████████| 2754/2754 [1:56:29<00:00,  2.54s/it]\n",
      "100%|█████████████████████████████████████| 2131/2131 [1:27:17<00:00,  2.46s/it]\n"
     ]
    }
   ],
   "source": [
    "for tdir in transect_dirs:\n",
    "    transect_dir = pathlib.Path(tdir)\n",
    "    video_dir = transect_dir / 'GoPro'\n",
    "    image_dir = transect_dir / 'Images'\n",
    "    image_dir.mkdir(exist_ok=True)\n",
    "    gpkg_dir = transect_dir / 'Images Geopackage'\n",
    "    gpkg_dir.mkdir(exist_ok=True)\n",
    "    gpkg_file = gpkg_dir / (transect_dir.stem + '_GeotaggedImages.gpkg')\n",
    "    csv_file = misc.file_pattern_search(str(transect_dir),'*Gnss*.csv', recursive=True)[0]\n",
    "\n",
    "    video_files = misc.file_pattern_search(str(video_dir), '*.[Mm][Pp]4')\n",
    "    video_data = video_transect.get_video_data(str(video_dir))\n",
    "    \n",
    "    gdf = video_transect.otter_csv_to_geodataframe(csv_file)\n",
    "    gdf = video_transect.filter_gdf_on_distance(gdf,sample_distance)\n",
    "    gdf = video_transect.prepare_gdf_with_video_data(gdf,video_data,video_offset_sec=video_offset_sec)\n",
    "    gdf = video_transect.extract_images_from_video(gdf,str(image_dir))\n",
    "    gdf.to_file(gpkg_file, driver=\"GPKG\")\n",
    "    "
   ]
  },
  {
   "cell_type": "code",
   "execution_count": null,
   "id": "53549061",
   "metadata": {},
   "outputs": [],
   "source": []
  }
 ],
 "metadata": {
  "kernelspec": {
   "display_name": "Python 3 (ipykernel)",
   "language": "python",
   "name": "python3"
  },
  "language_info": {
   "codemirror_mode": {
    "name": "ipython",
    "version": 3
   },
   "file_extension": ".py",
   "mimetype": "text/x-python",
   "name": "python",
   "nbconvert_exporter": "python",
   "pygments_lexer": "ipython3",
   "version": "3.9.12"
  }
 },
 "nbformat": 4,
 "nbformat_minor": 5
}
