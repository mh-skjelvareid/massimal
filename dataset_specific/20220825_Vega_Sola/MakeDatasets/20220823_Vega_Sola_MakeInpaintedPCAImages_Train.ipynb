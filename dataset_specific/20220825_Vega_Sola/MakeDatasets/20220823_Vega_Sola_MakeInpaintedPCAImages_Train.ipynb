{
 "cells": [
  {
   "cell_type": "code",
   "execution_count": 1,
   "id": "8b9222d5-77c5-4cbb-93ea-68ca2fb1b24f",
   "metadata": {},
   "outputs": [],
   "source": [
    "# Disable TensorFlow debugging info and warnings\n",
    "import os\n",
    "os.environ['TF_CPP_MIN_LOG_LEVEL'] = '2'  # 2: Info and warnings not displayed "
   ]
  },
  {
   "cell_type": "code",
   "execution_count": 2,
   "id": "e99a0466-68f8-450f-a628-c537436abf35",
   "metadata": {},
   "outputs": [],
   "source": [
    "import tensorflow as tf\n",
    "import numpy as np\n",
    "import skimage.io\n",
    "import sklearn.decomposition\n",
    "import matplotlib.pyplot as plt\n",
    "import pathlib\n",
    "import tqdm\n",
    "import pickle\n",
    "import annotation, misc, hyspec_cnn, hyspec_io, hyspec_ml, preprocess\n",
    "import datetime"
   ]
  },
  {
   "cell_type": "code",
   "execution_count": 3,
   "id": "08361717-bd14-4f74-8039-6f587abc74fd",
   "metadata": {},
   "outputs": [
    {
     "name": "stdout",
     "output_type": "stream",
     "text": [
      "2.12.0\n"
     ]
    }
   ],
   "source": [
    "# Disable GPUs\n",
    "tf.config.set_visible_devices([], 'GPU')\n",
    "visible_devices = tf.config.get_visible_devices()\n",
    "for device in visible_devices:\n",
    "    assert device.device_type != 'GPU'\n",
    "print(tf.version.VERSION)"
   ]
  },
  {
   "cell_type": "code",
   "execution_count": 4,
   "id": "9b1a4cbb-49a9-4c2d-8344-eb235d66c010",
   "metadata": {},
   "outputs": [],
   "source": [
    "# Paths\n",
    "hyspec_base = pathlib.Path('/media/mha114/Massimal/Vega_Sola/Hyperspectral/20220823/Area/2a_Rrs')\n",
    "annotation_dir = pathlib.Path('/media/mha114/Massimal/Vega_Sola/Hyperspectral/20220823/Area/3a_PCA_TrainValidationSplit/Training/Annotation')\n",
    "water_mask_dir = pathlib.Path('/media/mha114/Massimal/Vega_Sola/Hyperspectral/20220823/Area/M_Annotation_WaterMask/20220823_VegaSola_WaterMask_Gray')\n",
    "pca_dir = pathlib.Path('/media/mha114/Massimal/Vega_Sola/Hyperspectral/20220823/Area/M_PCAModel')\n",
    "pca_model_path = pca_dir / '20220823_Vega_Sola_PCA-Model.npz'\n",
    "pca_im_dir = pathlib.Path('/media/mha114/Massimal/Vega_Sola/Hyperspectral/20220823/Area/3a_PCA_TrainValidationSplit/Training/PCA-Images')"
   ]
  },
  {
   "cell_type": "code",
   "execution_count": 5,
   "id": "e87df78e-4af2-4b6d-9da2-d5a799e00b30",
   "metadata": {},
   "outputs": [
    {
     "name": "stdout",
     "output_type": "stream",
     "text": [
      "Vega_SolaNW_Coast1_Pika_L_10-Crop Wavelengths.bip\n",
      "Vega_SolaNW_Coast1_Pika_L_11-Crop Wavelengths.bip\n",
      "Vega_SolaNW_Coast1_Pika_L_12-Crop Wavelengths.bip\n",
      "Vega_SolaNW_Coast1_Pika_L_13-Crop Wavelengths.bip\n",
      "Vega_SolaNW_Coast1_Pika_L_16-Crop Wavelengths.bip\n",
      "Vega_SolaNW_Coast1_Pika_L_18-Crop Wavelengths.bip\n",
      "Vega_SolaNW_Coast1_Pika_L_22-Crop Wavelengths.bip\n",
      "Vega_SolaNW_Coast1_Pika_L_6-Crop Wavelengths.bip\n",
      "Vega_SolaNW_Coast1_Pika_L_7-Crop Wavelengths.bip\n",
      "Vega_SolaNW_Coast1_Pika_L_8-Crop Wavelengths.bip\n",
      "Vega_SolaNW_Coast1_Pika_L_9-Crop Wavelengths.bip\n",
      "Vega_SolaNW_Coast2_Pika_L_14-Crop Wavelengths.bip\n",
      "Vega_SolaNW_Coast2_Pika_L_16-Crop Wavelengths.bip\n",
      "Vega_SolaNW_Coast2_Pika_L_17-Crop Wavelengths.bip\n",
      "Vega_SolaNW_Coast2_Pika_L_19-Crop Wavelengths.bip\n",
      "Vega_SolaNW_Coast2_Pika_L_20-Crop Wavelengths.bip\n",
      "Vega_SolaNW_Coast2_Pika_L_21-Crop Wavelengths.bip\n",
      "Vega_SolaNW_Coast2_Pika_L_22-Crop Wavelengths.bip\n",
      "Vega_SolaNW_Coast2_Pika_L_23-Crop Wavelengths.bip\n",
      "Vega_SolaNW_Coast2_Pika_L_24-Crop Wavelengths.bip\n",
      "Vega_SolaNW_Coast2_Pika_L_28-Crop Wavelengths.bip\n",
      "Vega_SolaNW_Coast3_Pika_L_10-Crop Wavelengths.bip\n",
      "Vega_SolaNW_Coast3_Pika_L_11-Crop Wavelengths.bip\n",
      "Vega_SolaNW_Coast3_Pika_L_13-Crop Wavelengths.bip\n",
      "Vega_SolaNW_Coast3_Pika_L_15-Crop Wavelengths.bip\n",
      "Vega_SolaNW_Coast3_Pika_L_21-Crop Wavelengths.bip\n",
      "Vega_SolaNW_Coast3_Pika_L_23-Crop Wavelengths.bip\n",
      "Vega_SolaNW_Coast3_Pika_L_24-Crop Wavelengths.bip\n",
      "Vega_SolaNW_Coast3_Pika_L_25-Crop Wavelengths.bip\n",
      "Vega_SolaNW_Coast3_Pika_L_26-Crop Wavelengths.bip\n",
      "Vega_SolaNW_Coast3_Pika_L_27-Crop Wavelengths.bip\n",
      "Vega_SolaNW_Coast3_Pika_L_3-Crop Wavelengths.bip\n",
      "Vega_SolaNW_Coast3_Pika_L_4-Crop Wavelengths.bip\n",
      "Vega_SolaNW_Coast3_Pika_L_5-Crop Wavelengths.bip\n",
      "Vega_SolaNW_Coast3_Pika_L_6-Crop Wavelengths.bip\n",
      "Vega_SolaNW_Sound1_Pika_L_10-Crop Wavelengths.bip\n",
      "Vega_SolaNW_Sound1_Pika_L_11-Crop Wavelengths.bip\n",
      "Vega_SolaNW_Sound1_Pika_L_12-Crop Wavelengths.bip\n",
      "Vega_SolaNW_Sound1_Pika_L_13-Crop Wavelengths.bip\n",
      "Vega_SolaNW_Sound1_Pika_L_14-Crop Wavelengths.bip\n",
      "Vega_SolaNW_Sound1_Pika_L_15-Crop Wavelengths.bip\n",
      "Vega_SolaNW_Sound1_Pika_L_17-Crop Wavelengths.bip\n",
      "Vega_SolaNW_Sound1_Pika_L_23-Crop Wavelengths.bip\n",
      "Vega_SolaNW_Sound1_Pika_L_24-Crop Wavelengths.bip\n",
      "Vega_SolaNW_Sound1_Pika_L_6-Crop Wavelengths.bip\n",
      "Vega_SolaNW_Sound1_Pika_L_7-Crop Wavelengths.bip\n",
      "Vega_SolaNW_Sound1_Pika_L_8-Crop Wavelengths.bip\n",
      "Vega_SolaNW_Sound1_Pika_L_9-Crop Wavelengths.bip\n",
      "Vega_SolaNW_Sound2_Pika_L_10-Crop Wavelengths.bip\n",
      "Vega_SolaNW_Sound2_Pika_L_11-Crop Wavelengths.bip\n",
      "Vega_SolaNW_Sound2_Pika_L_12-Crop Wavelengths.bip\n",
      "Vega_SolaNW_Sound2_Pika_L_13-Crop Wavelengths.bip\n",
      "Vega_SolaNW_Sound2_Pika_L_2-Crop Wavelengths.bip\n",
      "Vega_SolaNW_Sound2_Pika_L_23-Crop Wavelengths.bip\n",
      "Vega_SolaNW_Sound2_Pika_L_26-Crop Wavelengths.bip\n",
      "Vega_SolaNW_Sound2_Pika_L_27-Crop Wavelengths.bip\n",
      "Vega_SolaNW_Sound2_Pika_L_4-Crop Wavelengths.bip\n",
      "Vega_SolaNW_Sound2_Pika_L_6-Crop Wavelengths.bip\n",
      "Vega_SolaNW_Sound2_Pika_L_7-Crop Wavelengths.bip\n",
      "Vega_SolaNW_Sound2_Pika_L_8-Crop Wavelengths.bip\n",
      "Vega_SolaNW_Sound2_Pika_L_9-Crop Wavelengths.bip\n",
      "Vega_SolaNW_Sound3a_Pika_L_9-Crop Wavelengths.bip\n",
      "Vega_SolaNW_Sound3b_Pika_L_13-Crop Wavelengths.bip\n",
      "Vega_SolaNW_Sound3b_Pika_L_15-Crop Wavelengths.bip\n",
      "Vega_SolaNW_Sound3b_Pika_L_18-Crop Wavelengths.bip\n",
      "Vega_SolaNW_Sound3b_Pika_L_22-Crop Wavelengths.bip\n",
      "Vega_SolaNW_Sound3b_Pika_L_24-Crop Wavelengths.bip\n",
      "Vega_SolaNW_Sound3b_Pika_L_25-Crop Wavelengths.bip\n",
      "Vega_SolaNW_Sound3b_Pika_L_26-Crop Wavelengths.bip\n",
      "Vega_SolaNW_Sound3b_Pika_L_27-Crop Wavelengths.bip\n",
      "Vega_SolaNW_Sound3b_Pika_L_5-Crop Wavelengths.bip\n"
     ]
    }
   ],
   "source": [
    "label_image_paths = [path for path in sorted(annotation_dir.glob('*.png'))]\n",
    "for path in label_image_paths: print(path.stem)"
   ]
  },
  {
   "cell_type": "code",
   "execution_count": 6,
   "id": "b66aa4ea-3425-4a13-b843-a4a91f8eaee2",
   "metadata": {},
   "outputs": [],
   "source": [
    "# Load PCA model \n",
    "W_pca,X_mean,X_std = hyspec_ml.read_pca_model(pca_model_path)"
   ]
  },
  {
   "cell_type": "code",
   "execution_count": 7,
   "id": "33db48ea-3434-4dd2-8229-a497f244a14b",
   "metadata": {},
   "outputs": [
    {
     "name": "stderr",
     "output_type": "stream",
     "text": [
      "100%|███████████████████████████████████████████| 71/71 [29:06<00:00, 24.59s/it]\n"
     ]
    }
   ],
   "source": [
    "# Loop over images, PCA transform, inpaint, save\n",
    "for label_image_path in tqdm.tqdm(label_image_paths):\n",
    "    hyspec_image_path = [path for path in hyspec_base.rglob(label_image_path.stem+'*.hdr')][0]\n",
    "    water_mask_path = [path for path in water_mask_dir.rglob(label_image_path.stem+'*.png')][0]\n",
    "\n",
    "    # Read images\n",
    "    label_image = skimage.io.imread(label_image_path)\n",
    "    water_mask_image = np.expand_dims(skimage.io.imread(water_mask_path),axis=2)\n",
    "    (hyspec_image,_,_,_) = hyspec_io.load_envi_image(str(hyspec_image_path))\n",
    "    hyspec_image_masked = hyspec_image*water_mask_image\n",
    "\n",
    "    # Create PCA image\n",
    "    im_pca = hyspec_ml.pca_transform_image(hyspec_image_masked,W_pca,X_mean,X_std)\n",
    "    \n",
    "    # Inpaint PCA image\n",
    "    im_pca_inpaint = preprocess.inpaint_missing_pixels(im_pca)\n",
    "    \n",
    "    # Set labels for zero-valued pixels to background\n",
    "    label_image[np.all(im_pca_inpaint,axis=2)==0] = 0\n",
    "    \n",
    "    # Save as tensorflow dataset\n",
    "    dataset = tf.data.Dataset.from_tensors((im_pca_inpaint,label_image))  # Use tf.data.Dataset.concatenate to merge later\n",
    "    dataset_save_path = pca_im_dir / label_image_path.stem\n",
    "    dataset.save(str(dataset_save_path))\n"
   ]
  },
  {
   "cell_type": "code",
   "execution_count": null,
   "id": "ea0bf4bd-ba74-45ee-98a3-f8134d685f96",
   "metadata": {},
   "outputs": [],
   "source": []
  }
 ],
 "metadata": {
  "kernelspec": {
   "display_name": "Python 3 (ipykernel)",
   "language": "python",
   "name": "python3"
  },
  "language_info": {
   "codemirror_mode": {
    "name": "ipython",
    "version": 3
   },
   "file_extension": ".py",
   "mimetype": "text/x-python",
   "name": "python",
   "nbconvert_exporter": "python",
   "pygments_lexer": "ipython3",
   "version": "3.10.5"
  }
 },
 "nbformat": 4,
 "nbformat_minor": 5
}
