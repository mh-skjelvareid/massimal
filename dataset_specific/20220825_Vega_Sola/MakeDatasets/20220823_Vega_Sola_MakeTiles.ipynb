{
 "cells": [
  {
   "cell_type": "code",
   "execution_count": 1,
   "id": "bca45805-b92b-46a8-a14e-5c3fb00072d1",
   "metadata": {},
   "outputs": [],
   "source": [
    "# Disable TensorFlow debugging info and warnings\n",
    "import os\n",
    "os.environ['TF_CPP_MIN_LOG_LEVEL'] = '2'  # 2: Info and warnings not displayed "
   ]
  },
  {
   "cell_type": "code",
   "execution_count": 2,
   "id": "3aaac25d-09dc-48e0-ac69-1b1dac646173",
   "metadata": {},
   "outputs": [],
   "source": [
    "import tensorflow as tf\n",
    "import numpy as np\n",
    "import skimage.io\n",
    "import sklearn.decomposition\n",
    "import matplotlib.pyplot as plt\n",
    "import pathlib\n",
    "import tqdm\n",
    "import pickle\n",
    "import annotation, misc, hyspec_cnn, hyspec_io, hyspec_ml, preprocess\n",
    "import datetime"
   ]
  },
  {
   "cell_type": "code",
   "execution_count": 3,
   "id": "aa628395-0507-49e7-a092-498d5b37c837",
   "metadata": {},
   "outputs": [
    {
     "name": "stdout",
     "output_type": "stream",
     "text": [
      "2.12.0\n"
     ]
    }
   ],
   "source": [
    "# Disable GPUs\n",
    "tf.config.set_visible_devices([], 'GPU')\n",
    "visible_devices = tf.config.get_visible_devices()\n",
    "for device in visible_devices:\n",
    "    assert device.device_type != 'GPU'\n",
    "print(tf.version.VERSION)"
   ]
  },
  {
   "cell_type": "code",
   "execution_count": 4,
   "id": "4916df61-4699-4a8c-9b00-efd842573025",
   "metadata": {},
   "outputs": [],
   "source": [
    "# Paths\n",
    "train_base = pathlib.Path('/media/mha114/Massimal/Vega_Sola/Hyperspectral/20220823/Area/3a_PCA_TrainValidationSplit/Training/')\n",
    "val_base = pathlib.Path('/media/mha114/Massimal/Vega_Sola/Hyperspectral/20220823/Area/3a_PCA_TrainValidationSplit/Validation/')\n",
    "\n",
    "train_im_path = train_base / 'PCA-Images'\n",
    "train_tile_path = train_base / 'PCA-Tiles'\n",
    "train_tile_path.mkdir(exist_ok=True)\n",
    "\n",
    "val_im_path = val_base / 'PCA-Images'\n",
    "val_tile_path = val_base / 'PCA-Tiles'\n",
    "val_tile_path.mkdir(exist_ok=True)"
   ]
  },
  {
   "cell_type": "code",
   "execution_count": 5,
   "id": "f0f9bba5-bb7f-4072-b373-2c330086fb2f",
   "metadata": {},
   "outputs": [],
   "source": [
    "def extract_pca_tiles(dataset_dir_path):\n",
    "    TILE_SHAPE = (128,128)\n",
    "    dataset_paths = [path for path in dataset_dir_path.glob('*')]\n",
    "    tiles_dataset_list = []\n",
    "    for dataset_path in tqdm.tqdm(dataset_paths):\n",
    "        dataset = tf.data.Dataset.load(str(dataset_path))\n",
    "\n",
    "        # Split into tiles\n",
    "        pca_im, label_im = [numpy_data for numpy_data in dataset.as_numpy_iterator()][0]\n",
    "        pca_tiles, label_tiles = hyspec_cnn.labeled_image_to_tensor_tiles(pca_im,label_im,TILE_SHAPE)\n",
    "\n",
    "        # Create dataset from tiles\n",
    "        tile_image_names = tf.convert_to_tensor([dataset_path.name for i in range(len(pca_tiles))])\n",
    "        tiles_dataset_list.append(tf.data.Dataset.from_tensor_slices((pca_tiles,label_tiles,tile_image_names)))\n",
    "\n",
    "    # Concatenate tiles\n",
    "    tiles_concat = tiles_dataset_list[0]\n",
    "    for tiles in tiles_dataset_list[1:]:\n",
    "        tiles_concat = tiles_concat.concatenate(tiles)\n",
    "    return tiles_concat"
   ]
  },
  {
   "cell_type": "code",
   "execution_count": 6,
   "id": "1b386f86-8181-41a6-842d-a2160c71d333",
   "metadata": {},
   "outputs": [
    {
     "name": "stderr",
     "output_type": "stream",
     "text": [
      "100%|███████████████████████████████████████████| 71/71 [00:32<00:00,  2.15it/s]\n"
     ]
    }
   ],
   "source": [
    "# Extract training tiles\n",
    "train_tiles_dataset = extract_pca_tiles(train_im_path)\n",
    "train_tiles_dataset.save(str(train_tile_path / '20220823_Vega_Sola_Train_Tiles'))"
   ]
  },
  {
   "cell_type": "code",
   "execution_count": 7,
   "id": "0ec15ea6-77d7-45e7-a50d-8da84d8a17d8",
   "metadata": {},
   "outputs": [
    {
     "name": "stderr",
     "output_type": "stream",
     "text": [
      "100%|███████████████████████████████████████████| 10/10 [00:19<00:00,  1.99s/it]\n"
     ]
    }
   ],
   "source": [
    "val_tiles_dataset = extract_pca_tiles(val_im_path)\n",
    "val_tiles_dataset.save(str(val_tile_path / '20220823_Vega_Sola_Val_Tiles'))"
   ]
  },
  {
   "cell_type": "code",
   "execution_count": 8,
   "id": "4eeb2d14-2ee7-4060-8a9e-57c930766111",
   "metadata": {},
   "outputs": [],
   "source": [
    "# for pca_tile, label_tile, im_name in tiles_dataset.skip(100).take(5).as_numpy_iterator():\n",
    "#     plt.imshow(pca_tile[:,:,0:3])\n",
    "#     plt.show()\n",
    "#     plt.imshow(label_tile)\n",
    "#     plt.show()\n",
    "#     print(im_name)"
   ]
  }
 ],
 "metadata": {
  "kernelspec": {
   "display_name": "Python 3 (ipykernel)",
   "language": "python",
   "name": "python3"
  },
  "language_info": {
   "codemirror_mode": {
    "name": "ipython",
    "version": 3
   },
   "file_extension": ".py",
   "mimetype": "text/x-python",
   "name": "python",
   "nbconvert_exporter": "python",
   "pygments_lexer": "ipython3",
   "version": "3.11.3"
  }
 },
 "nbformat": 4,
 "nbformat_minor": 5
}
