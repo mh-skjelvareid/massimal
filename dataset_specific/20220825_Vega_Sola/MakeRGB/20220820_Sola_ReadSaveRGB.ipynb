{
 "cells": [
  {
   "cell_type": "code",
   "execution_count": null,
   "id": "02c9cb26-3fff-48fe-8f82-9410351aac74",
   "metadata": {},
   "outputs": [],
   "source": [
    "import numpy as np\n",
    "import skimage.io\n",
    "import matplotlib.pyplot as plt\n",
    "import pathlib\n",
    "import hyspec_io, image_render\n",
    "# import matplotlib.colors\n",
    "# import tqdm\n",
    "# import skimage.exposure\n",
    "\n",
    "# import sklearn.metrics\n",
    "# import spectral"
   ]
  },
  {
   "cell_type": "code",
   "execution_count": null,
   "id": "07cb20db-c174-459c-ae97-2ec9fec9c94c",
   "metadata": {},
   "outputs": [],
   "source": [
    "hyspec_base = pathlib.Path('/media/mha114/Massimal/Vega_Sola/Hyperspectral/20220823/Area/2a_Rrs')\n",
    "rgb_base = pathlib.Path('/media/mha114/Massimal/Vega_Sola/Hyperspectral/20220823/Area/2b_Rrs_RGB')\n",
    "subfolders = ['Coast1','Coast2','Coast3','Sound1','Sound2','Sound3a','Sound3b']\n",
    "# subfolders = ['Coast2']\n",
    "\n",
    "hyspec_folders = [hyspec_base / folder for folder in subfolders]\n",
    "rgb_folders = [rgb_base / folder for folder in subfolders]"
   ]
  },
  {
   "cell_type": "code",
   "execution_count": null,
   "id": "f0e2e14e-d795-4699-a648-924880458de9",
   "metadata": {},
   "outputs": [],
   "source": [
    "# Loop through all folders and images and create percentile stretched RGB image\n",
    "for hyspec_folder,rgb_folder in zip(hyspec_folders,rgb_folders):\n",
    "    print(f'Folder {hyspec_folder.name}')\n",
    "    hyspec_paths = [pathlib.Path(image_path) for image_path in sorted(hyspec_folder.glob('*.hdr'))]\n",
    "    for hyspec_path in hyspec_paths:\n",
    "        print(f'   Image {hyspec_path.name}')\n",
    "        (image,_,_,_) = hyspec_io.load_envi_image(hyspec_path, rgb_only=True)\n",
    "        skimage.io.imsave(rgb_folder / (hyspec_path.stem + '.png'),\n",
    "                          np.uint8(image_render.percentile_stretch(image)*255),\n",
    "                          check_contrast=False)"
   ]
  }
 ],
 "metadata": {
  "kernelspec": {
   "display_name": "Python 3 (ipykernel)",
   "language": "python",
   "name": "python3"
  },
  "language_info": {
   "codemirror_mode": {
    "name": "ipython",
    "version": 3
   },
   "file_extension": ".py",
   "mimetype": "text/x-python",
   "name": "python",
   "nbconvert_exporter": "python",
   "pygments_lexer": "ipython3",
   "version": "3.11.3"
  }
 },
 "nbformat": 4,
 "nbformat_minor": 5
}
