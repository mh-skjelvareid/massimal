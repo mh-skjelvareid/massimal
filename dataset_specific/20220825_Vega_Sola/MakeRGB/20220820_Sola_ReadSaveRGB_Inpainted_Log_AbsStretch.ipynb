{
 "cells": [
  {
   "cell_type": "code",
   "execution_count": 1,
   "id": "3328eb80-b169-40ef-9325-32d1ab4291e6",
   "metadata": {
    "tags": []
   },
   "outputs": [],
   "source": [
    "import numpy as np\n",
    "import skimage.io\n",
    "import matplotlib.pyplot as plt\n",
    "import pathlib\n",
    "from massimal import hyspec_io, image_render, preprocess\n",
    "from tqdm import tqdm"
   ]
  },
  {
   "cell_type": "code",
   "execution_count": 2,
   "id": "fdac48c9-98bd-4a77-a7f5-83322b908958",
   "metadata": {},
   "outputs": [],
   "source": [
    "# Paths\n",
    "hyspec_base = pathlib.Path('/home/mha114/data/massimal/vega_sola/hyperspec/images/2a_rrs/')\n",
    "water_mask_base = pathlib.Path('/home/mha114/data/massimal/vega_sola/hyperspec/watermask/')\n",
    "rgb_dir = pathlib.Path('/home/mha114/data/massimal/vega_sola/hyperspec/rgb/rgb_log_v1/')\n",
    "subfolders = ['Coast1','Coast2','Coast3','Sound1','Sound2','Sound3a','Sound3b']\n",
    "\n",
    "# Create RGB subfolder if it doesn't exist\n",
    "rgb_dir.mkdir(exist_ok=True)"
   ]
  },
  {
   "cell_type": "code",
   "execution_count": 3,
   "id": "b80be5c9-92ce-461c-9268-081f99ba656c",
   "metadata": {},
   "outputs": [],
   "source": [
    "# Parameters\n",
    "rgb_mod_wl = [640,570,500]\n",
    "rgb_ind = (121, 88, 54)\n",
    "rgb_stretch_limits = np.array([[0.0035, 0.0110, 0.01],   \n",
    "                               [0.0200, 0.0918, 0.07]]).T"
   ]
  },
  {
   "cell_type": "code",
   "execution_count": 4,
   "id": "3a7ea4f5-f295-47fc-92f6-9d5775f3007a",
   "metadata": {},
   "outputs": [
    {
     "name": "stdout",
     "output_type": "stream",
     "text": [
      "Processing subfolder Coast2\n"
     ]
    },
    {
     "name": "stderr",
     "output_type": "stream",
     "text": [
      " 37%|███▋      | 10/27 [00:50<01:02,  3.70s/it]/tmp/ipykernel_4788/3929126210.py:20: RuntimeWarning: divide by zero encountered in log10\n",
      "  np.log10(rgb_im_inpainted),limits=np.log10(rgb_stretch_limits))\n",
      "100%|██████████| 27/27 [01:58<00:00,  4.38s/it]\n"
     ]
    }
   ],
   "source": [
    "# Loop through all folders and images and create percentile stretched RGB image\n",
    "for subfolder in subfolders:\n",
    "    print(f'Processing subfolder {subfolder}')\n",
    "    \n",
    "    # Construct folder paths for current subfolder\n",
    "    hyspec_folder = hyspec_base / subfolder\n",
    "    water_mask_folder = water_mask_base / subfolder\n",
    "\n",
    "    # Loop through all images which have water masks (some or all of image has water)\n",
    "    # Inpaint missing pixels and mask out non-water areas, save RGG images\n",
    "    image_stems = [pathlib.Path(image_path).stem for image_path in sorted(water_mask_folder.glob('*.png'))]\n",
    "    \n",
    "    for image_stem in tqdm(image_stems,leave=True):\n",
    "        (hyspec_im,wl,_,_) = hyspec_io.load_envi_image(str(hyspec_folder/image_stem)+'.hdr')\n",
    "        rgb_im = hyspec_im[:,:,rgb_ind]\n",
    "        water_mask = np.expand_dims(skimage.io.imread(str(water_mask_folder/image_stem)+'.png'), 2)\n",
    "        zeros_mask = np.all(rgb_im==0,axis=2,keepdims=True)\n",
    "        rgb_im_inpainted = preprocess.inpaint_masked(rgb_im,np.squeeze(water_mask*zeros_mask))\n",
    "        rgb_im_stretched = image_render.absolute_stretch(\n",
    "            np.log10(rgb_im_inpainted),limits=np.log10(rgb_stretch_limits))\n",
    "        rgb_im_out = np.uint8(rgb_im_stretched*water_mask*255)\n",
    "        # plt.imshow(rgb_im_out)\n",
    "        # plt.show()\n",
    "        \n",
    "        skimage.io.imsave(str(rgb_dir/image_stem)+'.png',rgb_im_out, check_contrast=False)"
   ]
  }
 ],
 "metadata": {
  "kernelspec": {
   "display_name": "Python (massimal)",
   "language": "python",
   "name": "massimal"
  },
  "language_info": {
   "codemirror_mode": {
    "name": "ipython",
    "version": 3
   },
   "file_extension": ".py",
   "mimetype": "text/x-python",
   "name": "python",
   "nbconvert_exporter": "python",
   "pygments_lexer": "ipython3",
   "version": "3.10.5"
  }
 },
 "nbformat": 4,
 "nbformat_minor": 5
}
