{
 "cells": [
  {
   "cell_type": "code",
   "execution_count": 1,
   "id": "3328eb80-b169-40ef-9325-32d1ab4291e6",
   "metadata": {
    "tags": []
   },
   "outputs": [],
   "source": [
    "import numpy as np\n",
    "import skimage.io\n",
    "import matplotlib.pyplot as plt\n",
    "import pathlib\n",
    "from massimal import hyspec_io, image_render, preprocess\n",
    "from tqdm import tqdm"
   ]
  },
  {
   "cell_type": "code",
   "execution_count": 2,
   "id": "fdac48c9-98bd-4a77-a7f5-83322b908958",
   "metadata": {},
   "outputs": [],
   "source": [
    "# Paths\n",
    "hyspec_base = pathlib.Path('/home/mha114/data/massimal/vega_sola/hyperspec/images/2a_rrs/')\n",
    "water_mask_base = pathlib.Path('/home/mha114/data/massimal/vega_sola/hyperspec/watermask/')\n",
    "# rgb_dir = pathlib.Path('/home/mha114/data/massimal/vega_sola/hyperspec/rgb/rgb_log_v1/')\n",
    "rgb_dir = pathlib.Path('/home/mha114/data/massimal/vega_sola/hyperspec/rgb/rgb_log_v2/')\n",
    "subfolders = ['Coast1','Coast2','Coast3','Sound1','Sound2','Sound3a','Sound3b']\n",
    "\n",
    "# Create RGB subfolder if it doesn't exist\n",
    "rgb_dir.mkdir(exist_ok=True)"
   ]
  },
  {
   "cell_type": "code",
   "execution_count": 3,
   "id": "b80be5c9-92ce-461c-9268-081f99ba656c",
   "metadata": {},
   "outputs": [],
   "source": [
    "# Parameters\n",
    "rgb_mod_wl = [640,570,500]\n",
    "rgb_ind = (121, 88, 54)\n",
    "rgb_stretch_limits = np.array([[0.0035, 0.0110, 0.01],   \n",
    "                               [0.0200, 0.0918, 0.07]]).T\n",
    "minimum_reflectance = 0.001"
   ]
  },
  {
   "cell_type": "code",
   "execution_count": 4,
   "id": "3a7ea4f5-f295-47fc-92f6-9d5775f3007a",
   "metadata": {},
   "outputs": [
    {
     "name": "stdout",
     "output_type": "stream",
     "text": [
      "Processing subfolder Coast1\n"
     ]
    },
    {
     "name": "stderr",
     "output_type": "stream",
     "text": [
      "100%|██████████| 27/27 [01:04<00:00,  2.39s/it]\n"
     ]
    },
    {
     "name": "stdout",
     "output_type": "stream",
     "text": [
      "Processing subfolder Coast2\n"
     ]
    },
    {
     "name": "stderr",
     "output_type": "stream",
     "text": [
      "100%|██████████| 27/27 [00:54<00:00,  2.00s/it]\n"
     ]
    },
    {
     "name": "stdout",
     "output_type": "stream",
     "text": [
      "Processing subfolder Coast3\n"
     ]
    },
    {
     "name": "stderr",
     "output_type": "stream",
     "text": [
      "100%|██████████| 28/28 [01:00<00:00,  2.18s/it]\n"
     ]
    },
    {
     "name": "stdout",
     "output_type": "stream",
     "text": [
      "Processing subfolder Sound1\n"
     ]
    },
    {
     "name": "stderr",
     "output_type": "stream",
     "text": [
      "100%|██████████| 22/22 [04:09<00:00, 11.34s/it]\n"
     ]
    },
    {
     "name": "stdout",
     "output_type": "stream",
     "text": [
      "Processing subfolder Sound2\n"
     ]
    },
    {
     "name": "stderr",
     "output_type": "stream",
     "text": [
      "100%|██████████| 30/30 [04:48<00:00,  9.62s/it]\n"
     ]
    },
    {
     "name": "stdout",
     "output_type": "stream",
     "text": [
      "Processing subfolder Sound3a\n"
     ]
    },
    {
     "name": "stderr",
     "output_type": "stream",
     "text": [
      "100%|██████████| 28/28 [01:32<00:00,  3.30s/it]\n"
     ]
    },
    {
     "name": "stdout",
     "output_type": "stream",
     "text": [
      "Processing subfolder Sound3b\n"
     ]
    },
    {
     "name": "stderr",
     "output_type": "stream",
     "text": [
      "100%|██████████| 27/27 [03:20<00:00,  7.41s/it]\n"
     ]
    }
   ],
   "source": [
    "# Loop through all folders and images and create percentile stretched RGB image\n",
    "for subfolder in subfolders:\n",
    "    print(f'Processing subfolder {subfolder}')\n",
    "    \n",
    "    # Construct folder paths for current subfolder\n",
    "    hyspec_folder = hyspec_base / subfolder\n",
    "    water_mask_folder = water_mask_base / subfolder\n",
    "\n",
    "    # Loop through all images which have water masks (some or all of image has water)\n",
    "    # Inpaint missing pixels and mask out non-water areas, save RGG images\n",
    "    image_stems = [pathlib.Path(image_path).stem for image_path in sorted(water_mask_folder.glob('*.png'))]\n",
    "    \n",
    "    for image_stem in tqdm(image_stems,leave=True):\n",
    "        (hyspec_im,wl,_,_) = hyspec_io.load_envi_image(str(hyspec_folder/image_stem)+'.hdr')\n",
    "        rgb_im = hyspec_im[:,:,rgb_ind]\n",
    "        water_mask = np.expand_dims(skimage.io.imread(str(water_mask_folder/image_stem)+'.png'), 2)\n",
    "        zeros_mask = np.all(rgb_im==0,axis=2,keepdims=True)\n",
    "        rgb_im_inpainted = preprocess.inpaint_masked(rgb_im,np.squeeze(water_mask*zeros_mask))\n",
    "        rgb_im_inpainted[rgb_im_inpainted<minimum_reflectance] = minimum_reflectance\n",
    "        rgb_im_stretched = image_render.absolute_stretch(\n",
    "            np.log10(rgb_im_inpainted),limits=np.log10(rgb_stretch_limits))\n",
    "        rgb_im_out = np.uint8(rgb_im_stretched*water_mask*255)\n",
    "        \n",
    "        transparency_layer = np.ones(shape=(rgb_im_out.shape[0:2])+(1,),dtype=np.uint8)*255\n",
    "        rgb_im_out = np.concatenate((rgb_im_out,transparency_layer),axis=2)\n",
    "        # plt.imshow(rgb_im_out)\n",
    "        # plt.show()\n",
    "        \n",
    "        skimage.io.imsave(str(rgb_dir/image_stem)+'.png',rgb_im_out, check_contrast=False)"
   ]
  }
 ],
 "metadata": {
  "kernelspec": {
   "display_name": "Python (massimal)",
   "language": "python",
   "name": "massimal"
  },
  "language_info": {
   "codemirror_mode": {
    "name": "ipython",
    "version": 3
   },
   "file_extension": ".py",
   "mimetype": "text/x-python",
   "name": "python",
   "nbconvert_exporter": "python",
   "pygments_lexer": "ipython3",
   "version": "3.10.5"
  }
 },
 "nbformat": 4,
 "nbformat_minor": 5
}
