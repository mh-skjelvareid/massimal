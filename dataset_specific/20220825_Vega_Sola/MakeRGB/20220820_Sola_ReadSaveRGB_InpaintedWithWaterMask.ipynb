{
 "cells": [
  {
   "cell_type": "code",
   "execution_count": null,
   "id": "02c9cb26-3fff-48fe-8f82-9410351aac74",
   "metadata": {},
   "outputs": [],
   "source": [
    "import numpy as np\n",
    "import skimage.io\n",
    "import matplotlib.pyplot as plt\n",
    "import pathlib\n",
    "import hyspec_io, image_render, preprocess\n",
    "# import matplotlib.colors\n",
    "import tqdm\n",
    "# import skimage.exposure\n",
    "\n",
    "# import sklearn.metrics\n",
    "# import spectral"
   ]
  },
  {
   "cell_type": "code",
   "execution_count": null,
   "id": "07cb20db-c174-459c-ae97-2ec9fec9c94c",
   "metadata": {},
   "outputs": [],
   "source": [
    "hyspec_base = pathlib.Path('/media/mha114/Massimal/Vega_Sola/Hyperspectral/20220823/Area/2a_Rrs')\n",
    "water_mask_base = pathlib.Path('/media/mha114/Massimal/Vega_Sola/Hyperspectral/20220823/Area/M_Annotation_WaterMask/20220823_VegaSola_WaterMask_Gray')\n",
    "rgb_base = pathlib.Path('/media/mha114/Massimal/Vega_Sola/Hyperspectral/20220823/Area/2c_Rrs_RGB-WaterMask')\n",
    "subfolders = ['Coast1','Coast2','Coast3','Sound1','Sound2','Sound3a','Sound3b']\n"
   ]
  },
  {
   "cell_type": "code",
   "execution_count": null,
   "id": "f0e2e14e-d795-4699-a648-924880458de9",
   "metadata": {},
   "outputs": [],
   "source": [
    "# Loop through all folders and images and create percentile stretched RGB image\n",
    "for subfolder in subfolders:\n",
    "    print(f'Processing subfolder {subfolder}')\n",
    "    \n",
    "    # Construct folder paths for current subfolder\n",
    "    hyspec_folder = hyspec_base / subfolder\n",
    "    water_mask_folder = water_mask_base / subfolder\n",
    "    rgb_folder = rgb_base / subfolder\n",
    "    \n",
    "    # Create RGB subfolder if it doesn't exist\n",
    "    rgb_folder.mkdir(exist_ok=True)\n",
    "\n",
    "    # Loop through all images which have water masks (some or all of image has water)\n",
    "    # Inpaint missing pixels and mask out non-water areas, save RGG images\n",
    "    image_stems = [pathlib.Path(image_path).stem for image_path in sorted(water_mask_folder.glob('*.png'))]\n",
    "    for image_stem in tqdm.tqdm(image_stems):\n",
    "        (rgb_im,_,_,_) = hyspec_io.load_envi_image(str(hyspec_folder/image_stem)+'.hdr' , rgb_only=True)\n",
    "        water_mask = np.expand_dims(skimage.io.imread(str(water_mask_folder/image_stem)+'.png'), 2)\n",
    "        zeros_mask = np.all(rgb_im==0,axis=2,keepdims=True)\n",
    "        rgb_im_inpainted = preprocess.inpaint_masked(rgb_im,np.squeeze(water_mask*zeros_mask))\n",
    "        rgb_im_out = np.uint8(image_render.percentile_stretch(rgb_im_inpainted*water_mask,percentiles=(2,95))*255)\n",
    "        skimage.io.imsave(str(rgb_folder/image_stem)+'.png',rgb_im_out, check_contrast=False)"
   ]
  }
 ],
 "metadata": {
  "kernelspec": {
   "display_name": "Python 3 (ipykernel)",
   "language": "python",
   "name": "python3"
  },
  "language_info": {
   "codemirror_mode": {
    "name": "ipython",
    "version": 3
   },
   "file_extension": ".py",
   "mimetype": "text/x-python",
   "name": "python",
   "nbconvert_exporter": "python",
   "pygments_lexer": "ipython3",
   "version": "3.11.3"
  }
 },
 "nbformat": 4,
 "nbformat_minor": 5
}
