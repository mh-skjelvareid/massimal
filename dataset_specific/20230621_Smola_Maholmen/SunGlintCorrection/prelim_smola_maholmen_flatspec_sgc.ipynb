{
 "cells": [
  {
   "cell_type": "code",
   "execution_count": 1,
   "metadata": {},
   "outputs": [],
   "source": [
    "#%% Imports\n",
    "from pathlib import Path\n",
    "import matplotlib.pyplot as plt\n",
    "import numpy as np\n",
    "import skimage.io\n",
    "from tqdm import tqdm\n",
    "\n",
    "# Import \"local\" packages\n",
    "import hyspec_io, preprocess, image_render"
   ]
  },
  {
   "cell_type": "code",
   "execution_count": 2,
   "metadata": {},
   "outputs": [],
   "source": [
    "# Parameters\n",
    "nir_band = (730,800)\n",
    "Rrs_stretch_limits = np.array((0.003,0.012))"
   ]
  },
  {
   "cell_type": "code",
   "execution_count": 3,
   "metadata": {},
   "outputs": [],
   "source": [
    "# Paths\n",
    "image_dir = Path('/media/mha114/Massimal2/Massimal/Smola_Maholmen/Hyperspectral/20230621/2a_Rrs')\n",
    "image_output_dir = Path('/media/mha114/Massimal2/Massimal/Smola_Maholmen/Hyperspectral/20230621/3a_Rrs_FSSGC')\n",
    "image_output_dir.mkdir(exist_ok=True)\n",
    "\n",
    "image_paths = sorted(image_dir.glob('*.hdr'))"
   ]
  },
  {
   "cell_type": "code",
   "execution_count": 4,
   "metadata": {},
   "outputs": [
    {
     "name": "stderr",
     "output_type": "stream",
     "text": [
      "100%|██████████| 6/6 [01:56<00:00, 19.50s/it]\n"
     ]
    }
   ],
   "source": [
    "for image_path in tqdm(image_paths[10::20]):\n",
    "    # Load image\n",
    "    (image,wl,rgb_ind,metadata) = hyspec_io.load_envi_image(image_path)\n",
    "    \n",
    "    # Remove glint\n",
    "    image_noglint = preprocess.remove_glint_flatspec(image,wl,nir_band=nir_band)\n",
    "\n",
    "    # Save hyspec image\n",
    "    image_save_path = image_output_dir / image_path.name\n",
    "    hyspec_io.save_envi_image(image_save_path,image_noglint,metadata)\n",
    "\n",
    "    # Create RGB version (percentile stretch)\n",
    "    # image_rgb = image_render.percentile_stretch(image_noglint[:,:,rgb_ind])\n",
    "    image_rgb = image_render.absolute_stretch(image_noglint[:,:,rgb_ind],Rrs_stretch_limits)\n",
    "    image_rgb = np.uint8(image_rgb*255)  # Convert to 8-bit int\n",
    "    transparency_layer = np.ones(shape=(image_rgb.shape[0:2])+(1,),dtype=np.uint8)*255\n",
    "    image_rgb = np.concatenate((image_rgb,transparency_layer),axis=2)\n",
    "\n",
    "    # Save RGB image\n",
    "    hyspec_base_name = image_path.name.split('.')[0]\n",
    "    rgg_image_save_path = image_output_dir / (hyspec_base_name + '.png')\n",
    "    skimage.io.imsave(rgg_image_save_path,image_rgb)\n"
   ]
  }
 ],
 "metadata": {
  "kernelspec": {
   "display_name": "massimal",
   "language": "python",
   "name": "python3"
  },
  "language_info": {
   "codemirror_mode": {
    "name": "ipython",
    "version": 3
   },
   "file_extension": ".py",
   "mimetype": "text/x-python",
   "name": "python",
   "nbconvert_exporter": "python",
   "pygments_lexer": "ipython3",
   "version": "3.11.7"
  }
 },
 "nbformat": 4,
 "nbformat_minor": 2
}
