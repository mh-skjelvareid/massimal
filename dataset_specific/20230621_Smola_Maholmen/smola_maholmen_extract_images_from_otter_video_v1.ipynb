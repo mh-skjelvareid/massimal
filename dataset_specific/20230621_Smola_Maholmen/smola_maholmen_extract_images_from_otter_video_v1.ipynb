{
 "cells": [
  {
   "cell_type": "markdown",
   "metadata": {},
   "source": [
    "# Note\n",
    "This processing was done without setting any time offset between Otter and video data, and this probably led to incorrect georeferencing of extracted images. However, this notebook is kept unchanged as a reference."
   ]
  },
  {
   "cell_type": "code",
   "execution_count": 1,
   "metadata": {},
   "outputs": [],
   "source": [
    "import video_transect, misc\n",
    "from pathlib import Path\n",
    "import pandas as pd"
   ]
  },
  {
   "cell_type": "code",
   "execution_count": 2,
   "metadata": {},
   "outputs": [],
   "source": [
    "# Paths\n",
    "transect_dirs = [Path('/media/mha114/Massimal2/Massimal/Smola_Maholmen/OtterTransects/20230619/VideoTransects/Transect1'),\n",
    "                 Path('/media/mha114/Massimal2/Massimal/Smola_Maholmen/OtterTransects/20230619/VideoTransects/Transect2')]\n",
    "csv_dir = Path('/media/mha114/Massimal2/Massimal/Smola_Maholmen/OtterTransects/20230619/GnssData')\n"
   ]
  },
  {
   "cell_type": "code",
   "execution_count": 3,
   "metadata": {},
   "outputs": [],
   "source": [
    "# Parameters\n",
    "sample_distance = 1.0 # Units defined by CRS, default is UTM with unit meters"
   ]
  },
  {
   "cell_type": "code",
   "execution_count": 4,
   "metadata": {},
   "outputs": [
    {
     "data": {
      "text/html": [
       "<div>\n",
       "<style scoped>\n",
       "    .dataframe tbody tr th:only-of-type {\n",
       "        vertical-align: middle;\n",
       "    }\n",
       "\n",
       "    .dataframe tbody tr th {\n",
       "        vertical-align: top;\n",
       "    }\n",
       "\n",
       "    .dataframe thead th {\n",
       "        text-align: right;\n",
       "    }\n",
       "</style>\n",
       "<table border=\"1\" class=\"dataframe\">\n",
       "  <thead>\n",
       "    <tr style=\"text-align: right;\">\n",
       "      <th></th>\n",
       "      <th>Time</th>\n",
       "      <th>Lat</th>\n",
       "      <th>Lng</th>\n",
       "      <th>geometry</th>\n",
       "    </tr>\n",
       "  </thead>\n",
       "  <tbody>\n",
       "    <tr>\n",
       "      <th>0</th>\n",
       "      <td>2023-06-19 12:24:08.756000+00:00</td>\n",
       "      <td>63.408393</td>\n",
       "      <td>7.730441</td>\n",
       "      <td>POINT (7.73044 63.40839)</td>\n",
       "    </tr>\n",
       "    <tr>\n",
       "      <th>8</th>\n",
       "      <td>2023-06-19 12:24:09.538000+00:00</td>\n",
       "      <td>63.408391</td>\n",
       "      <td>7.730462</td>\n",
       "      <td>POINT (7.73046 63.40839)</td>\n",
       "    </tr>\n",
       "    <tr>\n",
       "      <th>16</th>\n",
       "      <td>2023-06-19 12:24:10.338000+00:00</td>\n",
       "      <td>63.408388</td>\n",
       "      <td>7.730483</td>\n",
       "      <td>POINT (7.73048 63.40839)</td>\n",
       "    </tr>\n",
       "    <tr>\n",
       "      <th>24</th>\n",
       "      <td>2023-06-19 12:24:11.138000+00:00</td>\n",
       "      <td>63.408385</td>\n",
       "      <td>7.730504</td>\n",
       "      <td>POINT (7.73050 63.40839)</td>\n",
       "    </tr>\n",
       "    <tr>\n",
       "      <th>32</th>\n",
       "      <td>2023-06-19 12:24:11.938000+00:00</td>\n",
       "      <td>63.408382</td>\n",
       "      <td>7.730524</td>\n",
       "      <td>POINT (7.73052 63.40838)</td>\n",
       "    </tr>\n",
       "    <tr>\n",
       "      <th>...</th>\n",
       "      <td>...</td>\n",
       "      <td>...</td>\n",
       "      <td>...</td>\n",
       "      <td>...</td>\n",
       "    </tr>\n",
       "    <tr>\n",
       "      <th>226783</th>\n",
       "      <td>2023-06-19 19:15:22.194000+00:00</td>\n",
       "      <td>63.407716</td>\n",
       "      <td>7.737913</td>\n",
       "      <td>POINT (7.73791 63.40772)</td>\n",
       "    </tr>\n",
       "    <tr>\n",
       "      <th>226886</th>\n",
       "      <td>2023-06-19 19:15:32.497000+00:00</td>\n",
       "      <td>63.407708</td>\n",
       "      <td>7.737919</td>\n",
       "      <td>POINT (7.73792 63.40771)</td>\n",
       "    </tr>\n",
       "    <tr>\n",
       "      <th>226975</th>\n",
       "      <td>2023-06-19 19:15:41.392000+00:00</td>\n",
       "      <td>63.407715</td>\n",
       "      <td>7.737930</td>\n",
       "      <td>POINT (7.73793 63.40772)</td>\n",
       "    </tr>\n",
       "    <tr>\n",
       "      <th>226993</th>\n",
       "      <td>2023-06-19 19:15:43.200000+00:00</td>\n",
       "      <td>63.407722</td>\n",
       "      <td>7.737943</td>\n",
       "      <td>POINT (7.73794 63.40772)</td>\n",
       "    </tr>\n",
       "    <tr>\n",
       "      <th>227563</th>\n",
       "      <td>2023-06-19 19:16:40.190000+00:00</td>\n",
       "      <td>63.407714</td>\n",
       "      <td>7.737935</td>\n",
       "      <td>POINT (7.73793 63.40771)</td>\n",
       "    </tr>\n",
       "  </tbody>\n",
       "</table>\n",
       "<p>21097 rows × 4 columns</p>\n",
       "</div>"
      ],
      "text/plain": [
       "                                   Time        Lat       Lng  \\\n",
       "0      2023-06-19 12:24:08.756000+00:00  63.408393  7.730441   \n",
       "8      2023-06-19 12:24:09.538000+00:00  63.408391  7.730462   \n",
       "16     2023-06-19 12:24:10.338000+00:00  63.408388  7.730483   \n",
       "24     2023-06-19 12:24:11.138000+00:00  63.408385  7.730504   \n",
       "32     2023-06-19 12:24:11.938000+00:00  63.408382  7.730524   \n",
       "...                                 ...        ...       ...   \n",
       "226783 2023-06-19 19:15:22.194000+00:00  63.407716  7.737913   \n",
       "226886 2023-06-19 19:15:32.497000+00:00  63.407708  7.737919   \n",
       "226975 2023-06-19 19:15:41.392000+00:00  63.407715  7.737930   \n",
       "226993 2023-06-19 19:15:43.200000+00:00  63.407722  7.737943   \n",
       "227563 2023-06-19 19:16:40.190000+00:00  63.407714  7.737935   \n",
       "\n",
       "                        geometry  \n",
       "0       POINT (7.73044 63.40839)  \n",
       "8       POINT (7.73046 63.40839)  \n",
       "16      POINT (7.73048 63.40839)  \n",
       "24      POINT (7.73050 63.40839)  \n",
       "32      POINT (7.73052 63.40838)  \n",
       "...                          ...  \n",
       "226783  POINT (7.73791 63.40772)  \n",
       "226886  POINT (7.73792 63.40771)  \n",
       "226975  POINT (7.73793 63.40772)  \n",
       "226993  POINT (7.73794 63.40772)  \n",
       "227563  POINT (7.73793 63.40771)  \n",
       "\n",
       "[21097 rows x 4 columns]"
      ]
     },
     "execution_count": 4,
     "metadata": {},
     "output_type": "execute_result"
    }
   ],
   "source": [
    "# Read all CSV files with Otter positions, and merge (concatenate) them\n",
    "csv_files = sorted(csv_dir.glob('*.csv'))\n",
    "gdfs = []\n",
    "for csv_file in csv_files:\n",
    "    gdfs.append(video_transect.otter_csv_to_geodataframe(csv_file))\n",
    "otter_gdf = pd.concat(gdfs,axis=0,ignore_index=True)\n",
    "otter_gdf = video_transect.filter_gdf_on_distance(otter_gdf,sample_distance)\n",
    "otter_gdf"
   ]
  },
  {
   "cell_type": "code",
   "execution_count": 5,
   "metadata": {},
   "outputs": [
    {
     "name": "stdout",
     "output_type": "stream",
     "text": [
      "/media/mha114/Massimal2/Massimal/Smola_Maholmen/OtterTransects/20230619/VideoTransects/Transect1/ExtractedImages/Original created (if not created before)\n",
      "/media/mha114/Massimal2/Massimal/Smola_Maholmen/OtterTransects/20230619/VideoTransects/Transect1/ImagesGeopackage created (if not created before)\n",
      "GPKG file name for saving results: /media/mha114/Massimal2/Massimal/Smola_Maholmen/OtterTransects/20230619/VideoTransects/Transect1/ImagesGeopackage/Transect1_GeotaggedImages.gpkg\n",
      "Found video files ['GX015397.MP4', 'GX025397.MP4', 'GX035397.MP4', 'GX045397.MP4', 'GX055397.MP4', 'GX065397.MP4']\n"
     ]
    },
    {
     "name": "stderr",
     "output_type": "stream",
     "text": [
      "100%|██████████| 1739/1739 [22:15<00:00,  1.30it/s]\n"
     ]
    },
    {
     "name": "stdout",
     "output_type": "stream",
     "text": [
      "/media/mha114/Massimal2/Massimal/Smola_Maholmen/OtterTransects/20230619/VideoTransects/Transect2/ExtractedImages/Original created (if not created before)\n",
      "/media/mha114/Massimal2/Massimal/Smola_Maholmen/OtterTransects/20230619/VideoTransects/Transect2/ImagesGeopackage created (if not created before)\n",
      "GPKG file name for saving results: /media/mha114/Massimal2/Massimal/Smola_Maholmen/OtterTransects/20230619/VideoTransects/Transect2/ImagesGeopackage/Transect2_GeotaggedImages.gpkg\n",
      "Found video files ['GX010028.MP4', 'GX020028.MP4', 'GX030028.MP4', 'GX040028.MP4', 'GX050028.MP4']\n"
     ]
    },
    {
     "name": "stderr",
     "output_type": "stream",
     "text": [
      "100%|██████████| 3314/3314 [41:54<00:00,  1.32it/s]  \n"
     ]
    }
   ],
   "source": [
    "# NOTE: Do a \"dry run\" without extracting images and check that time offsets are correct\n",
    "\n",
    "for transect_dir in transect_dirs:\n",
    "    video_dir = transect_dir / 'Video'\n",
    "    \n",
    "    image_dir = transect_dir / 'ExtractedImages/Original'\n",
    "    image_dir.mkdir(parents=True, exist_ok=True)\n",
    "    print(f'{image_dir} created (if not created before)')\n",
    "\n",
    "    gpkg_dir = transect_dir / 'ImagesGeopackage'\n",
    "    gpkg_dir.mkdir(exist_ok=True)\n",
    "    print(f'{gpkg_dir} created (if not created before)')\n",
    "\n",
    "    gpkg_file = gpkg_dir / (transect_dir.stem + '_GeotaggedImages.gpkg')\n",
    "    print(f'GPKG file name for saving results: {gpkg_file}')\n",
    "\n",
    "    video_files = misc.file_pattern_search(str(video_dir), '*.[Mm][Pp]4')\n",
    "    print(f'Found video files {[Path(vfile).name for vfile in video_files]}')\n",
    "    video_data = video_transect.get_video_data(str(video_dir),tz='UTC')\n",
    "    \n",
    "    gdf = video_transect.prepare_gdf_with_video_data(otter_gdf,video_data)\n",
    "    gdf = video_transect.extract_images_from_video(gdf,str(image_dir))\n",
    "    gdf.to_file(gpkg_file, driver=\"GPKG\")\n",
    "    "
   ]
  }
 ],
 "metadata": {
  "kernelspec": {
   "display_name": "massimal",
   "language": "python",
   "name": "python3"
  },
  "language_info": {
   "codemirror_mode": {
    "name": "ipython",
    "version": 3
   },
   "file_extension": ".py",
   "mimetype": "text/x-python",
   "name": "python",
   "nbconvert_exporter": "python",
   "pygments_lexer": "ipython3",
   "version": "3.11.7"
  }
 },
 "nbformat": 4,
 "nbformat_minor": 2
}
