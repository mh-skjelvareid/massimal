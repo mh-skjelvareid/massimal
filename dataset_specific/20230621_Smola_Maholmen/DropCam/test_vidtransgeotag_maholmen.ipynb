{
 "cells": [
  {
   "cell_type": "code",
   "execution_count": 1,
   "metadata": {},
   "outputs": [],
   "source": [
    "from datetime import timedelta\n",
    "from pathlib import Path\n",
    "\n",
    "from vidtransgeotag import VidTransGeoTag, merge_videos_in_directory"
   ]
  },
  {
   "cell_type": "code",
   "execution_count": 2,
   "metadata": {},
   "outputs": [],
   "source": [
    "csv_path = Path(\n",
    "    \"/media/mha114/Massimal2/Massimal/Smola_Maholmen/DropCamTransects/GPS_Tracks/skippo_tracks/20230621_skippo_tracks_maholmen.csv\"\n",
    ")\n",
    "video_dir = Path(\n",
    "    \"/media/mha114/Massimal2/Massimal/Smola_Maholmen/DropCamTransects/20230621/T4/Video\"\n",
    ")\n",
    "merged_video_path = Path(\n",
    "    \"/media/mha114/Massimal2/Massimal/Smola_Maholmen/DropCamTransects/20230621/test_merged/test_merged.mp4\"\n",
    ")\n",
    "image_dir = Path(\n",
    "    \"/media/mha114/Massimal2/Massimal/Smola_Maholmen/DropCamTransects/20230621/test_vidtransgeotag_images\"\n",
    ")\n",
    "gpkg_path = image_dir / \"test_vidtransgeotag.gpkg\""
   ]
  },
  {
   "cell_type": "code",
   "execution_count": null,
   "metadata": {},
   "outputs": [
    {
     "name": "stderr",
     "output_type": "stream",
     "text": [
      "ffmpeg version 6.1.1-3ubuntu5 Copyright (c) 2000-2023 the FFmpeg developers\n",
      "  built with gcc 13 (Ubuntu 13.2.0-23ubuntu3)\n",
      "  configuration: --prefix=/usr --extra-version=3ubuntu5 --toolchain=hardened --libdir=/usr/lib/x86_64-linux-gnu --incdir=/usr/include/x86_64-linux-gnu --arch=amd64 --enable-gpl --disable-stripping --disable-omx --enable-gnutls --enable-libaom --enable-libass --enable-libbs2b --enable-libcaca --enable-libcdio --enable-libcodec2 --enable-libdav1d --enable-libflite --enable-libfontconfig --enable-libfreetype --enable-libfribidi --enable-libglslang --enable-libgme --enable-libgsm --enable-libharfbuzz --enable-libmp3lame --enable-libmysofa --enable-libopenjpeg --enable-libopenmpt --enable-libopus --enable-librubberband --enable-libshine --enable-libsnappy --enable-libsoxr --enable-libspeex --enable-libtheora --enable-libtwolame --enable-libvidstab --enable-libvorbis --enable-libvpx --enable-libwebp --enable-libx265 --enable-libxml2 --enable-libxvid --enable-libzimg --enable-openal --enable-opencl --enable-opengl --disable-sndio --enable-libvpl --disable-libmfx --enable-libdc1394 --enable-libdrm --enable-libiec61883 --enable-chromaprint --enable-frei0r --enable-ladspa --enable-libbluray --enable-libjack --enable-libpulse --enable-librabbitmq --enable-librist --enable-libsrt --enable-libssh --enable-libsvtav1 --enable-libx264 --enable-libzmq --enable-libzvbi --enable-lv2 --enable-sdl2 --enable-libplacebo --enable-librav1e --enable-pocketsphinx --enable-librsvg --enable-libjxl --enable-shared\n",
      "  libavutil      58. 29.100 / 58. 29.100\n",
      "  libavcodec     60. 31.102 / 60. 31.102\n",
      "  libavformat    60. 16.100 / 60. 16.100\n",
      "  libavdevice    60.  3.100 / 60.  3.100\n",
      "  libavfilter     9. 12.100 /  9. 12.100\n",
      "  libswscale      7.  5.100 /  7.  5.100\n",
      "  libswresample   4. 12.100 /  4. 12.100\n",
      "  libpostproc    57.  3.100 / 57.  3.100\n",
      "[mov,mp4,m4a,3gp,3g2,mj2 @ 0x611de1daea80] Auto-inserting h264_mp4toannexb bitstream filter\n",
      "[concat @ 0x611de1da5a40] Could not find codec parameters for stream 2 (Unknown: none): unknown codec\n",
      "Consider increasing the value for the 'analyzeduration' (0) and 'probesize' (5000000) options\n",
      "Input #0, concat, from '/tmp/tmpcq8dirrq.txt':\n",
      "  Duration: N/A, start: 0.000000, bitrate: 60238 kb/s\n",
      "  Stream #0:0(eng): Video: h264 (High) (avc1 / 0x31637661), yuvj420p(pc, bt709, progressive), 3840x2160 [SAR 1:1 DAR 16:9], 60001 kb/s, 29.97 fps, 29.97 tbr, 90k tbn\n",
      "    Metadata:\n",
      "      creation_time   : 2023-06-21T15:23:04.000000Z\n",
      "      handler_name    : GoPro AVC  \n",
      "      vendor_id       : [0][0][0][0]\n",
      "      encoder         : GoPro AVC encoder\n",
      "      timecode        : 15:22:09:08\n",
      "    Side data:\n",
      "      displaymatrix: rotation of -180.00 degrees\n",
      "  Stream #0:1(eng): Audio: aac (LC) (mp4a / 0x6134706D), 48000 Hz, stereo, fltp, 189 kb/s\n",
      "    Metadata:\n",
      "      creation_time   : 2023-06-21T15:23:04.000000Z\n",
      "      handler_name    : GoPro AAC  \n",
      "      vendor_id       : [0][0][0][0]\n",
      "      timecode        : 15:22:09:08\n",
      "  Stream #0:2: Unknown: none\n",
      "  Stream #0:3(eng): Data: bin_data (gpmd / 0x646D7067), 47 kb/s\n",
      "    Metadata:\n",
      "      creation_time   : 2023-06-21T15:23:04.000000Z\n",
      "      handler_name    : GoPro MET  \n",
      "Stream mapping:\n",
      "  Stream #0:0 -> #0:0 (h264 (native) -> h264 (libx264))\n",
      "  Stream #0:1 -> #0:1 (aac (native) -> aac (native))\n",
      "Press [q] to stop, [?] for help\n",
      "[libx264 @ 0x611de1e0d580] using SAR=1/1\n",
      "[libx264 @ 0x611de1e0d580] using cpu capabilities: MMX2 SSE2Fast SSSE3 SSE4.2 AVX FMA3 BMI2 AVX2\n",
      "[libx264 @ 0x611de1e0d580] profile High, level 5.1, 4:2:0, 8-bit\n",
      "[libx264 @ 0x611de1e0d580] 264 - core 164 r3108 31e19f9 - H.264/MPEG-4 AVC codec - Copyleft 2003-2023 - http://www.videolan.org/x264.html - options: cabac=1 ref=3 deblock=1:0:0 analyse=0x3:0x113 me=hex subme=7 psy=1 psy_rd=1.00:0.00 mixed_ref=1 me_range=16 chroma_me=1 trellis=1 8x8dct=1 cqm=0 deadzone=21,11 fast_pskip=1 chroma_qp_offset=-2 threads=18 lookahead_threads=3 sliced_threads=0 nr=0 decimate=1 interlaced=0 bluray_compat=0 constrained_intra=0 bframes=3 b_pyramid=2 b_adapt=1 b_bias=0 direct=1 weightb=1 open_gop=0 weightp=2 keyint=250 keyint_min=25 scenecut=40 intra_refresh=0 rc_lookahead=40 rc=crf mbtree=1 crf=28.0 qcomp=0.60 qpmin=0 qpmax=69 qpstep=4 ip_ratio=1.40 aq=1:1.00\n",
      "Output #0, mp4, to '/media/mha114/Massimal2/Massimal/Smola_Maholmen/DropCamTransects/20230621/test_merged.mp4':\n",
      "  Metadata:\n",
      "    creation_time   : 2023-06-21T15:23:04.000000Z\n",
      "    encoder         : Lavf60.16.100\n",
      "  Stream #0:0(eng): Video: h264 (avc1 / 0x31637661), yuvj420p(pc, bt709, progressive), 3840x2160 [SAR 1:1 DAR 16:9], q=2-31, 29.97 fps, 30k tbn\n",
      "    Metadata:\n",
      "      creation_time   : 2023-06-21T15:23:04.000000Z\n",
      "      handler_name    : GoPro AVC  \n",
      "      vendor_id       : [0][0][0][0]\n",
      "      timecode        : 15:22:09:08\n",
      "      encoder         : Lavc60.31.102 libx264\n",
      "    Side data:\n",
      "      cpb: bitrate max/min/avg: 0/0/0 buffer size: 0 vbv_delay: N/A\n",
      "      displaymatrix: rotation of -0.00 degrees\n",
      "  Stream #0:1(eng): Audio: aac (LC) (mp4a / 0x6134706D), 48000 Hz, stereo, fltp, 128 kb/s\n",
      "    Metadata:\n",
      "      creation_time   : 2023-06-21T15:23:04.000000Z\n",
      "      handler_name    : GoPro AAC  \n",
      "      vendor_id       : [0][0][0][0]\n",
      "      timecode        : 15:22:09:08\n",
      "      encoder         : Lavc60.31.102 aac\n",
      "[mov,mp4,m4a,3gp,3g2,mj2 @ 0x611de1daea80] Auto-inserting h264_mp4toannexb bitstream filter241x    \n",
      "[out#0/mp4 @ 0x611de1e0d240] video:2795787kB audio:14095kB subtitle:0kB other streams:0kB global headers:0kB muxing overhead: 0.033288%\n",
      "frame=26746 fps=7.8 q=-1.0 Lsize= 2810818kB time=00:14:52.37 bitrate=25803.4kbits/s speed=0.259x    \n",
      "[libx264 @ 0x611de1e0d580] frame I:529   Avg QP:27.58  size:238833\n",
      "[libx264 @ 0x611de1e0d580] frame P:9311  Avg QP:30.79  size:138741\n",
      "[libx264 @ 0x611de1e0d580] frame B:16906 Avg QP:31.89  size: 85456\n",
      "[libx264 @ 0x611de1e0d580] consecutive B-frames: 13.9%  2.8%  7.7% 75.6%\n",
      "[libx264 @ 0x611de1e0d580] mb I  I16..4: 16.1% 80.6%  3.3%\n",
      "[libx264 @ 0x611de1e0d580] mb P  I16..4:  9.8% 30.4%  0.9%  P16..4: 37.8%  4.8%  2.1%  0.0%  0.0%    skip:14.1%\n",
      "[libx264 @ 0x611de1e0d580] mb B  I16..4:  1.6%  4.7%  0.1%  B16..8: 45.5%  4.0%  0.5%  direct: 6.7%  skip:36.9%  L0:54.1% L1:43.5% BI: 2.5%\n",
      "[libx264 @ 0x611de1e0d580] 8x8 transform intra:74.6% inter:80.2%\n",
      "[libx264 @ 0x611de1e0d580] coded y,uvDC,uvAC intra: 43.0% 51.9% 5.0% inter: 19.9% 25.5% 0.0%\n",
      "[libx264 @ 0x611de1e0d580] i16 v,h,dc,p: 23% 23% 16% 38%\n",
      "[libx264 @ 0x611de1e0d580] i8 v,h,dc,ddl,ddr,vr,hd,vl,hu: 16% 14% 39%  5%  6%  5%  6%  4%  5%\n",
      "[libx264 @ 0x611de1e0d580] i4 v,h,dc,ddl,ddr,vr,hd,vl,hu: 19% 17% 26%  5% 10%  7%  8%  4%  4%\n",
      "[libx264 @ 0x611de1e0d580] i8c dc,h,v,p: 67% 14% 16%  3%\n",
      "[libx264 @ 0x611de1e0d580] Weighted P-Frames: Y:1.6% UV:0.9%\n",
      "[libx264 @ 0x611de1e0d580] ref P L0: 65.8% 16.4% 13.8%  3.9%  0.1%\n",
      "[libx264 @ 0x611de1e0d580] ref B L0: 93.5%  5.2%  1.3%\n",
      "[libx264 @ 0x611de1e0d580] ref B L1: 97.4%  2.6%\n",
      "[libx264 @ 0x611de1e0d580] kb/s:25663.88\n",
      "[aac @ 0x611de1dd8780] Qavg: 9641.537\n"
     ]
    }
   ],
   "source": [
    "# merge_videos_in_directory(\n",
    "#     input_dir=video_dir, output_file=merged_video_path, compress_by_transcoding=True\n",
    "# )"
   ]
  },
  {
   "cell_type": "code",
   "execution_count": 3,
   "metadata": {},
   "outputs": [],
   "source": [
    "vtgt = VidTransGeoTag(\n",
    "    csv_path, video_time_add_offset=timedelta(hours=-2), csv_header_time=\"DateTimeS\"\n",
    ")"
   ]
  },
  {
   "cell_type": "code",
   "execution_count": 4,
   "metadata": {},
   "outputs": [
    {
     "name": "stdout",
     "output_type": "stream",
     "text": [
      "test_merged.mp4 starts at 2023-06-21 13:23:04+00:00 and ends at 2023-06-21 13:37:56.424867+00:00.\n",
      "Track starts at 2023-06-21 11:12:25+00:00 and ends at 2023-06-21 13:34:17+00:00\n",
      "Video partly overlaps with track\n"
     ]
    },
    {
     "data": {
      "text/plain": [
       "True"
      ]
     },
     "execution_count": 4,
     "metadata": {},
     "output_type": "execute_result"
    }
   ],
   "source": [
    "vtgt.check_video_overlaps_track(merged_video_path, verbose=True)"
   ]
  },
  {
   "cell_type": "code",
   "execution_count": null,
   "metadata": {},
   "outputs": [],
   "source": [
    "# for video_file in video_dir.glob(\"*.MP4\"):\n",
    "#     print(\"--------\")\n",
    "#     vtgt.check_video_overlaps_track(video_file, verbose=True)"
   ]
  },
  {
   "cell_type": "code",
   "execution_count": 5,
   "metadata": {},
   "outputs": [
    {
     "name": "stderr",
     "output_type": "stream",
     "text": [
      "  0%|          | 0/2 [01:10<?, ?it/s]\n"
     ]
    },
    {
     "ename": "KeyboardInterrupt",
     "evalue": "",
     "output_type": "error",
     "traceback": [
      "\u001b[0;31m---------------------------------------------------------------------------\u001b[0m",
      "\u001b[0;31mKeyboardInterrupt\u001b[0m                         Traceback (most recent call last)",
      "Cell \u001b[0;32mIn[5], line 1\u001b[0m\n\u001b[0;32m----> 1\u001b[0m \u001b[43mvtgt\u001b[49m\u001b[38;5;241;43m.\u001b[39;49m\u001b[43mextract_geotagged_images_from_video\u001b[49m\u001b[43m(\u001b[49m\n\u001b[1;32m      2\u001b[0m \u001b[43m    \u001b[49m\u001b[43mvideo_path\u001b[49m\u001b[38;5;241;43m=\u001b[39;49m\u001b[43mmerged_video_path\u001b[49m\u001b[43m,\u001b[49m\n\u001b[1;32m      3\u001b[0m \u001b[43m    \u001b[49m\u001b[43mimage_output_folder\u001b[49m\u001b[38;5;241;43m=\u001b[39;49m\u001b[43mimage_dir\u001b[49m\u001b[43m,\u001b[49m\n\u001b[1;32m      4\u001b[0m \u001b[43m    \u001b[49m\u001b[43mfilter_min_distance_m\u001b[49m\u001b[38;5;241;43m=\u001b[39;49m\u001b[38;5;241;43m10\u001b[39;49m\u001b[43m,\u001b[49m\n\u001b[1;32m      5\u001b[0m \u001b[43m    \u001b[49m\u001b[43mgpkg_path\u001b[49m\u001b[38;5;241;43m=\u001b[39;49m\u001b[43mgpkg_path\u001b[49m\u001b[43m,\u001b[49m\n\u001b[1;32m      6\u001b[0m \u001b[43m)\u001b[49m\n",
      "File \u001b[0;32m~/Dropbox/Python/vidtransgeotag/vidtransgeotag/vidtransgeotag.py:565\u001b[0m, in \u001b[0;36mVidTransGeoTag.extract_geotagged_images_from_video\u001b[0;34m(self, video_path, image_output_folder, gpkg_path, filter_min_distance_m)\u001b[0m\n\u001b[1;32m    560\u001b[0m image_time_relative_to_video_start \u001b[38;5;241m=\u001b[39m pd\u001b[38;5;241m.\u001b[39mTimedeltaIndex(\n\u001b[1;32m    561\u001b[0m     track_timestamps \u001b[38;5;241m-\u001b[39m video_start_time\n\u001b[1;32m    562\u001b[0m )\u001b[38;5;241m.\u001b[39mtotal_seconds()\n\u001b[1;32m    564\u001b[0m \u001b[38;5;66;03m# Extract images at overlapping timestamps\u001b[39;00m\n\u001b[0;32m--> 565\u001b[0m image_files \u001b[38;5;241m=\u001b[39m \u001b[38;5;28;43mself\u001b[39;49m\u001b[38;5;241;43m.\u001b[39;49m\u001b[43mimages_from_video\u001b[49m\u001b[43m(\u001b[49m\n\u001b[1;32m    566\u001b[0m \u001b[43m    \u001b[49m\u001b[43mvideo_path\u001b[49m\u001b[43m,\u001b[49m\n\u001b[1;32m    567\u001b[0m \u001b[43m    \u001b[49m\u001b[43mvideo_frame_rate\u001b[49m\u001b[43m,\u001b[49m\n\u001b[1;32m    568\u001b[0m \u001b[43m    \u001b[49m\u001b[43mimage_base_name\u001b[49m\u001b[38;5;241;43m=\u001b[39;49m\u001b[43mvideo_path\u001b[49m\u001b[38;5;241;43m.\u001b[39;49m\u001b[43mstem\u001b[49m\u001b[43m,\u001b[49m\n\u001b[1;32m    569\u001b[0m \u001b[43m    \u001b[49m\u001b[43mimage_output_dir\u001b[49m\u001b[38;5;241;43m=\u001b[39;49m\u001b[43mimage_output_folder\u001b[49m\u001b[43m,\u001b[49m\n\u001b[1;32m    570\u001b[0m \u001b[43m    \u001b[49m\u001b[43mtimes\u001b[49m\u001b[38;5;241;43m=\u001b[39;49m\u001b[43mimage_time_relative_to_video_start\u001b[49m\u001b[43m,\u001b[49m\u001b[43m  \u001b[49m\u001b[38;5;66;43;03m# type: ignore\u001b[39;49;00m\n\u001b[1;32m    571\u001b[0m \u001b[43m\u001b[49m\u001b[43m)\u001b[49m\n\u001b[1;32m    573\u001b[0m \u001b[38;5;66;03m# Add image filenames to track_gdf_within_video\u001b[39;00m\n\u001b[1;32m    574\u001b[0m track_gdf_within_video[\u001b[38;5;124m\"\u001b[39m\u001b[38;5;124mimage_file\u001b[39m\u001b[38;5;124m\"\u001b[39m] \u001b[38;5;241m=\u001b[39m [f\u001b[38;5;241m.\u001b[39mname \u001b[38;5;28;01mfor\u001b[39;00m f \u001b[38;5;129;01min\u001b[39;00m image_files]\n",
      "File \u001b[0;32m~/Dropbox/Python/vidtransgeotag/vidtransgeotag/vidtransgeotag.py:460\u001b[0m, in \u001b[0;36mVidTransGeoTag.images_from_video\u001b[0;34m(self, video_input_file, video_frame_rate, image_base_name, image_output_dir, times, batch_size, image_quality, overwrite)\u001b[0m\n\u001b[1;32m    446\u001b[0m \u001b[38;5;66;03m# Call FFMPEG to extract images\u001b[39;00m\n\u001b[1;32m    447\u001b[0m \u001b[38;5;28;01mtry\u001b[39;00m:\n\u001b[1;32m    448\u001b[0m     out, _ \u001b[38;5;241m=\u001b[39m (\n\u001b[1;32m    449\u001b[0m         \u001b[38;5;66;03m# Use -ss and -t to restrict processing to the relevant segment.\u001b[39;00m\n\u001b[1;32m    450\u001b[0m         \u001b[43mffmpeg\u001b[49m\u001b[38;5;241;43m.\u001b[39;49m\u001b[43minput\u001b[49m\u001b[43m(\u001b[49m\u001b[43mvideo_input_file\u001b[49m\u001b[43m,\u001b[49m\u001b[43m \u001b[49m\u001b[43mss\u001b[49m\u001b[38;5;241;43m=\u001b[39;49m\u001b[43mseek_start\u001b[49m\u001b[43m,\u001b[49m\u001b[43m \u001b[49m\u001b[43mt\u001b[49m\u001b[38;5;241;43m=\u001b[39;49m\u001b[43mseek_duration\u001b[49m\u001b[43m)\u001b[49m\n\u001b[1;32m    451\u001b[0m \u001b[43m        \u001b[49m\u001b[38;5;241;43m.\u001b[39;49m\u001b[43mfilter\u001b[49m\u001b[43m(\u001b[49m\u001b[38;5;124;43m\"\u001b[39;49m\u001b[38;5;124;43mselect\u001b[39;49m\u001b[38;5;124;43m\"\u001b[39;49m\u001b[43m,\u001b[49m\u001b[43m \u001b[49m\u001b[43mselect_expr\u001b[49m\u001b[43m)\u001b[49m\n\u001b[1;32m    452\u001b[0m \u001b[43m        \u001b[49m\u001b[38;5;241;43m.\u001b[39;49m\u001b[43mfilter\u001b[49m\u001b[43m(\u001b[49m\u001b[38;5;124;43m\"\u001b[39;49m\u001b[38;5;124;43msettb\u001b[39;49m\u001b[38;5;124;43m\"\u001b[39;49m\u001b[43m,\u001b[49m\u001b[43m \u001b[49m\u001b[38;5;124;43m\"\u001b[39;49m\u001b[38;5;124;43mAVTB\u001b[39;49m\u001b[38;5;124;43m\"\u001b[39;49m\u001b[43m)\u001b[49m\u001b[43m  \u001b[49m\u001b[38;5;66;43;03m# Fix timestamp basis\u001b[39;49;00m\n\u001b[1;32m    453\u001b[0m \u001b[43m        \u001b[49m\u001b[38;5;241;43m.\u001b[39;49m\u001b[43moutput\u001b[49m\u001b[43m(\u001b[49m\n\u001b[1;32m    454\u001b[0m \u001b[43m            \u001b[49m\u001b[38;5;28;43mstr\u001b[39;49m\u001b[43m(\u001b[49m\u001b[43mIMAGE_OUTPUT_TEMPLATE\u001b[49m\u001b[43m)\u001b[49m\u001b[43m,\u001b[49m\n\u001b[1;32m    455\u001b[0m \u001b[43m            \u001b[49m\u001b[38;5;28;43mformat\u001b[39;49m\u001b[38;5;241;43m=\u001b[39;49m\u001b[38;5;124;43m\"\u001b[39;49m\u001b[38;5;124;43mimage2\u001b[39;49m\u001b[38;5;124;43m\"\u001b[39;49m\u001b[43m,\u001b[49m\n\u001b[1;32m    456\u001b[0m \u001b[43m            \u001b[49m\u001b[43mvsync\u001b[49m\u001b[38;5;241;43m=\u001b[39;49m\u001b[38;5;124;43m\"\u001b[39;49m\u001b[38;5;124;43m0\u001b[39;49m\u001b[38;5;124;43m\"\u001b[39;49m\u001b[43m,\u001b[49m\u001b[43m  \u001b[49m\u001b[38;5;66;43;03m# Prevent frame duplication\u001b[39;49;00m\n\u001b[1;32m    457\u001b[0m \u001b[43m            \u001b[49m\u001b[43mvcodec\u001b[49m\u001b[38;5;241;43m=\u001b[39;49m\u001b[38;5;124;43m\"\u001b[39;49m\u001b[38;5;124;43mmjpeg\u001b[39;49m\u001b[38;5;124;43m\"\u001b[39;49m\u001b[43m,\u001b[49m\n\u001b[1;32m    458\u001b[0m \u001b[43m            \u001b[49m\u001b[38;5;241;43m*\u001b[39;49m\u001b[38;5;241;43m*\u001b[39;49m\u001b[43m{\u001b[49m\u001b[38;5;124;43m\"\u001b[39;49m\u001b[38;5;124;43mq:v\u001b[39;49m\u001b[38;5;124;43m\"\u001b[39;49m\u001b[43m:\u001b[49m\u001b[43m \u001b[49m\u001b[43mimage_quality\u001b[49m\u001b[43m}\u001b[49m\u001b[43m,\u001b[49m\u001b[43m  \u001b[49m\u001b[38;5;66;43;03m# Set image quality\u001b[39;49;00m\n\u001b[1;32m    459\u001b[0m \u001b[43m        \u001b[49m\u001b[43m)\u001b[49m\n\u001b[0;32m--> 460\u001b[0m \u001b[43m        \u001b[49m\u001b[38;5;241;43m.\u001b[39;49m\u001b[43mrun\u001b[49m\u001b[43m(\u001b[49m\u001b[43mcapture_stdout\u001b[49m\u001b[38;5;241;43m=\u001b[39;49m\u001b[38;5;28;43;01mTrue\u001b[39;49;00m\u001b[43m,\u001b[49m\u001b[43m \u001b[49m\u001b[43mcapture_stderr\u001b[49m\u001b[38;5;241;43m=\u001b[39;49m\u001b[38;5;28;43;01mTrue\u001b[39;49;00m\u001b[43m,\u001b[49m\u001b[43m \u001b[49m\u001b[43moverwrite_output\u001b[49m\u001b[38;5;241;43m=\u001b[39;49m\u001b[43moverwrite\u001b[49m\u001b[43m)\u001b[49m\n\u001b[1;32m    461\u001b[0m     )\n\u001b[1;32m    462\u001b[0m \u001b[38;5;28;01mexcept\u001b[39;00m ffmpeg\u001b[38;5;241m.\u001b[39mError \u001b[38;5;28;01mas\u001b[39;00m e:\n\u001b[1;32m    463\u001b[0m     \u001b[38;5;28mprint\u001b[39m(e\u001b[38;5;241m.\u001b[39mstderr\u001b[38;5;241m.\u001b[39mdecode())\n",
      "File \u001b[0;32m~/miniconda3/envs/massimal/lib/python3.11/site-packages/ffmpeg/_run.py:322\u001b[0m, in \u001b[0;36mrun\u001b[0;34m(stream_spec, cmd, capture_stdout, capture_stderr, input, quiet, overwrite_output)\u001b[0m\n\u001b[1;32m    299\u001b[0m \u001b[38;5;250m\u001b[39m\u001b[38;5;124;03m\"\"\"Invoke ffmpeg for the supplied node graph.\u001b[39;00m\n\u001b[1;32m    300\u001b[0m \n\u001b[1;32m    301\u001b[0m \u001b[38;5;124;03mArgs:\u001b[39;00m\n\u001b[0;32m   (...)\u001b[0m\n\u001b[1;32m    311\u001b[0m \u001b[38;5;124;03mReturns: (out, err) tuple containing captured stdout and stderr data.\u001b[39;00m\n\u001b[1;32m    312\u001b[0m \u001b[38;5;124;03m\"\"\"\u001b[39;00m\n\u001b[1;32m    313\u001b[0m process \u001b[38;5;241m=\u001b[39m run_async(\n\u001b[1;32m    314\u001b[0m     stream_spec,\n\u001b[1;32m    315\u001b[0m     cmd,\n\u001b[0;32m   (...)\u001b[0m\n\u001b[1;32m    320\u001b[0m     overwrite_output\u001b[38;5;241m=\u001b[39moverwrite_output,\n\u001b[1;32m    321\u001b[0m )\n\u001b[0;32m--> 322\u001b[0m out, err \u001b[38;5;241m=\u001b[39m \u001b[43mprocess\u001b[49m\u001b[38;5;241;43m.\u001b[39;49m\u001b[43mcommunicate\u001b[49m\u001b[43m(\u001b[49m\u001b[38;5;28;43minput\u001b[39;49m\u001b[43m)\u001b[49m\n\u001b[1;32m    323\u001b[0m retcode \u001b[38;5;241m=\u001b[39m process\u001b[38;5;241m.\u001b[39mpoll()\n\u001b[1;32m    324\u001b[0m \u001b[38;5;28;01mif\u001b[39;00m retcode:\n",
      "File \u001b[0;32m~/miniconda3/envs/massimal/lib/python3.11/subprocess.py:1209\u001b[0m, in \u001b[0;36mPopen.communicate\u001b[0;34m(self, input, timeout)\u001b[0m\n\u001b[1;32m   1206\u001b[0m     endtime \u001b[38;5;241m=\u001b[39m \u001b[38;5;28;01mNone\u001b[39;00m\n\u001b[1;32m   1208\u001b[0m \u001b[38;5;28;01mtry\u001b[39;00m:\n\u001b[0;32m-> 1209\u001b[0m     stdout, stderr \u001b[38;5;241m=\u001b[39m \u001b[38;5;28;43mself\u001b[39;49m\u001b[38;5;241;43m.\u001b[39;49m\u001b[43m_communicate\u001b[49m\u001b[43m(\u001b[49m\u001b[38;5;28;43minput\u001b[39;49m\u001b[43m,\u001b[49m\u001b[43m \u001b[49m\u001b[43mendtime\u001b[49m\u001b[43m,\u001b[49m\u001b[43m \u001b[49m\u001b[43mtimeout\u001b[49m\u001b[43m)\u001b[49m\n\u001b[1;32m   1210\u001b[0m \u001b[38;5;28;01mexcept\u001b[39;00m \u001b[38;5;167;01mKeyboardInterrupt\u001b[39;00m:\n\u001b[1;32m   1211\u001b[0m     \u001b[38;5;66;03m# https://bugs.python.org/issue25942\u001b[39;00m\n\u001b[1;32m   1212\u001b[0m     \u001b[38;5;66;03m# See the detailed comment in .wait().\u001b[39;00m\n\u001b[1;32m   1213\u001b[0m     \u001b[38;5;28;01mif\u001b[39;00m timeout \u001b[38;5;129;01mis\u001b[39;00m \u001b[38;5;129;01mnot\u001b[39;00m \u001b[38;5;28;01mNone\u001b[39;00m:\n",
      "File \u001b[0;32m~/miniconda3/envs/massimal/lib/python3.11/subprocess.py:2108\u001b[0m, in \u001b[0;36mPopen._communicate\u001b[0;34m(self, input, endtime, orig_timeout)\u001b[0m\n\u001b[1;32m   2101\u001b[0m     \u001b[38;5;28mself\u001b[39m\u001b[38;5;241m.\u001b[39m_check_timeout(endtime, orig_timeout,\n\u001b[1;32m   2102\u001b[0m                         stdout, stderr,\n\u001b[1;32m   2103\u001b[0m                         skip_check_and_raise\u001b[38;5;241m=\u001b[39m\u001b[38;5;28;01mTrue\u001b[39;00m)\n\u001b[1;32m   2104\u001b[0m     \u001b[38;5;28;01mraise\u001b[39;00m \u001b[38;5;167;01mRuntimeError\u001b[39;00m(  \u001b[38;5;66;03m# Impossible :)\u001b[39;00m\n\u001b[1;32m   2105\u001b[0m         \u001b[38;5;124m'\u001b[39m\u001b[38;5;124m_check_timeout(..., skip_check_and_raise=True) \u001b[39m\u001b[38;5;124m'\u001b[39m\n\u001b[1;32m   2106\u001b[0m         \u001b[38;5;124m'\u001b[39m\u001b[38;5;124mfailed to raise TimeoutExpired.\u001b[39m\u001b[38;5;124m'\u001b[39m)\n\u001b[0;32m-> 2108\u001b[0m ready \u001b[38;5;241m=\u001b[39m \u001b[43mselector\u001b[49m\u001b[38;5;241;43m.\u001b[39;49m\u001b[43mselect\u001b[49m\u001b[43m(\u001b[49m\u001b[43mtimeout\u001b[49m\u001b[43m)\u001b[49m\n\u001b[1;32m   2109\u001b[0m \u001b[38;5;28mself\u001b[39m\u001b[38;5;241m.\u001b[39m_check_timeout(endtime, orig_timeout, stdout, stderr)\n\u001b[1;32m   2111\u001b[0m \u001b[38;5;66;03m# XXX Rewrite these to use non-blocking I/O on the file\u001b[39;00m\n\u001b[1;32m   2112\u001b[0m \u001b[38;5;66;03m# objects; they are no longer using C stdio!\u001b[39;00m\n",
      "File \u001b[0;32m~/miniconda3/envs/massimal/lib/python3.11/selectors.py:415\u001b[0m, in \u001b[0;36m_PollLikeSelector.select\u001b[0;34m(self, timeout)\u001b[0m\n\u001b[1;32m    413\u001b[0m ready \u001b[38;5;241m=\u001b[39m []\n\u001b[1;32m    414\u001b[0m \u001b[38;5;28;01mtry\u001b[39;00m:\n\u001b[0;32m--> 415\u001b[0m     fd_event_list \u001b[38;5;241m=\u001b[39m \u001b[38;5;28mself\u001b[39m\u001b[38;5;241m.\u001b[39m_selector\u001b[38;5;241m.\u001b[39mpoll(timeout)\n\u001b[1;32m    416\u001b[0m \u001b[38;5;28;01mexcept\u001b[39;00m \u001b[38;5;167;01mInterruptedError\u001b[39;00m:\n\u001b[1;32m    417\u001b[0m     \u001b[38;5;28;01mreturn\u001b[39;00m ready\n",
      "\u001b[0;31mKeyboardInterrupt\u001b[0m: "
     ]
    }
   ],
   "source": [
    "vtgt.extract_geotagged_images_from_video(\n",
    "    video_path=merged_video_path,\n",
    "    image_output_folder=image_dir,\n",
    "    filter_min_distance_m=10,\n",
    "    gpkg_path=gpkg_path,\n",
    ")"
   ]
  },
  {
   "cell_type": "code",
   "execution_count": null,
   "metadata": {},
   "outputs": [],
   "source": []
  }
 ],
 "metadata": {
  "kernelspec": {
   "display_name": "massimal",
   "language": "python",
   "name": "python3"
  },
  "language_info": {
   "codemirror_mode": {
    "name": "ipython",
    "version": 3
   },
   "file_extension": ".py",
   "mimetype": "text/x-python",
   "name": "python",
   "nbconvert_exporter": "python",
   "pygments_lexer": "ipython3",
   "version": "3.11.7"
  }
 },
 "nbformat": 4,
 "nbformat_minor": 2
}
