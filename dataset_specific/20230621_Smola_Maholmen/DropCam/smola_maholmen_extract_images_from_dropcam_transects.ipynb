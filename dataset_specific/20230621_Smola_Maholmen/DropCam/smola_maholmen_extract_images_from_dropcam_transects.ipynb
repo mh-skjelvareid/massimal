{
 "cells": [
  {
   "cell_type": "code",
   "execution_count": 1,
   "metadata": {},
   "outputs": [],
   "source": [
    "import video_transect, misc\n",
    "from pathlib import Path\n",
    "import pandas as pd"
   ]
  },
  {
   "cell_type": "code",
   "execution_count": 2,
   "metadata": {},
   "outputs": [],
   "source": [
    "# Paths\n",
    "transect_dirs = [Path('/media/mha114/Massimal2/Massimal/Smola_Maholmen/DropCamTransects/20230621/T2'),\n",
    "                 Path('/media/mha114/Massimal2/Massimal/Smola_Maholmen/DropCamTransects/20230621/T3'),\n",
    "                 Path('/media/mha114/Massimal2/Massimal/Smola_Maholmen/DropCamTransects/20230621/T4')]\n",
    "# transect_dirs = [Path('/media/mha114/Massimal2/Massimal/Smola_Maholmen/DropCamTransects/20230621/T2')] # Redo T2 after video rotation\n",
    "csv_file  = Path('/media/mha114/Massimal2/Massimal/Smola_Maholmen/DropCamTransects/GPS_Tracks/skippo_tracks/20230621_skippo_tracks_maholmen.csv')"
   ]
  },
  {
   "cell_type": "code",
   "execution_count": 3,
   "metadata": {},
   "outputs": [],
   "source": [
    "# Parameters\n",
    "# sample_distance = 1.0 # Units defined by CRS, default is UTM with unit meters\n",
    "# sample_distance = 10 # Units defined by CRS, default is UTM with unit meters\n",
    "video_offset_sec = 210 #235 #223 #135 # Time offset between Skippo and GoPro"
   ]
  },
  {
   "cell_type": "markdown",
   "metadata": {},
   "source": [
    "# Note\n",
    "Skippo CSV file does not seem to include the first transect. Therefore, only transects 2-4 are included here."
   ]
  },
  {
   "cell_type": "code",
   "execution_count": 4,
   "metadata": {},
   "outputs": [
    {
     "data": {
      "text/html": [
       "<div>\n",
       "<style scoped>\n",
       "    .dataframe tbody tr th:only-of-type {\n",
       "        vertical-align: middle;\n",
       "    }\n",
       "\n",
       "    .dataframe tbody tr th {\n",
       "        vertical-align: top;\n",
       "    }\n",
       "\n",
       "    .dataframe thead th {\n",
       "        text-align: right;\n",
       "    }\n",
       "</style>\n",
       "<table border=\"1\" class=\"dataframe\">\n",
       "  <thead>\n",
       "    <tr style=\"text-align: right;\">\n",
       "      <th></th>\n",
       "      <th>Lat</th>\n",
       "      <th>Lng</th>\n",
       "      <th>Time</th>\n",
       "      <th>geometry</th>\n",
       "    </tr>\n",
       "  </thead>\n",
       "  <tbody>\n",
       "    <tr>\n",
       "      <th>228</th>\n",
       "      <td>63.409889</td>\n",
       "      <td>7.73651</td>\n",
       "      <td>2023-06-21 11:12:25+00:00</td>\n",
       "      <td>POINT (7.73651 63.40989)</td>\n",
       "    </tr>\n",
       "    <tr>\n",
       "      <th>229</th>\n",
       "      <td>63.409882</td>\n",
       "      <td>7.73651</td>\n",
       "      <td>2023-06-21 11:12:27+00:00</td>\n",
       "      <td>POINT (7.73651 63.40988)</td>\n",
       "    </tr>\n",
       "    <tr>\n",
       "      <th>230</th>\n",
       "      <td>63.409870</td>\n",
       "      <td>7.73652</td>\n",
       "      <td>2023-06-21 11:12:29+00:00</td>\n",
       "      <td>POINT (7.73652 63.40987)</td>\n",
       "    </tr>\n",
       "    <tr>\n",
       "      <th>231</th>\n",
       "      <td>63.409859</td>\n",
       "      <td>7.73653</td>\n",
       "      <td>2023-06-21 11:12:31+00:00</td>\n",
       "      <td>POINT (7.73653 63.40986)</td>\n",
       "    </tr>\n",
       "    <tr>\n",
       "      <th>232</th>\n",
       "      <td>63.409851</td>\n",
       "      <td>7.73651</td>\n",
       "      <td>2023-06-21 11:12:33+00:00</td>\n",
       "      <td>POINT (7.73651 63.40985)</td>\n",
       "    </tr>\n",
       "    <tr>\n",
       "      <th>...</th>\n",
       "      <td>...</td>\n",
       "      <td>...</td>\n",
       "      <td>...</td>\n",
       "      <td>...</td>\n",
       "    </tr>\n",
       "    <tr>\n",
       "      <th>223</th>\n",
       "      <td>63.407139</td>\n",
       "      <td>7.74505</td>\n",
       "      <td>2023-06-21 13:34:09+00:00</td>\n",
       "      <td>POINT (7.74505 63.40714)</td>\n",
       "    </tr>\n",
       "    <tr>\n",
       "      <th>224</th>\n",
       "      <td>63.407150</td>\n",
       "      <td>7.74509</td>\n",
       "      <td>2023-06-21 13:34:11+00:00</td>\n",
       "      <td>POINT (7.74509 63.40715)</td>\n",
       "    </tr>\n",
       "    <tr>\n",
       "      <th>225</th>\n",
       "      <td>63.407181</td>\n",
       "      <td>7.74515</td>\n",
       "      <td>2023-06-21 13:34:13+00:00</td>\n",
       "      <td>POINT (7.74515 63.40718)</td>\n",
       "    </tr>\n",
       "    <tr>\n",
       "      <th>226</th>\n",
       "      <td>63.407242</td>\n",
       "      <td>7.74532</td>\n",
       "      <td>2023-06-21 13:34:15+00:00</td>\n",
       "      <td>POINT (7.74532 63.40724)</td>\n",
       "    </tr>\n",
       "    <tr>\n",
       "      <th>227</th>\n",
       "      <td>63.407249</td>\n",
       "      <td>7.74535</td>\n",
       "      <td>2023-06-21 13:34:17+00:00</td>\n",
       "      <td>POINT (7.74535 63.40725)</td>\n",
       "    </tr>\n",
       "  </tbody>\n",
       "</table>\n",
       "<p>2061 rows × 4 columns</p>\n",
       "</div>"
      ],
      "text/plain": [
       "           Lat      Lng                      Time                  geometry\n",
       "228  63.409889  7.73651 2023-06-21 11:12:25+00:00  POINT (7.73651 63.40989)\n",
       "229  63.409882  7.73651 2023-06-21 11:12:27+00:00  POINT (7.73651 63.40988)\n",
       "230  63.409870  7.73652 2023-06-21 11:12:29+00:00  POINT (7.73652 63.40987)\n",
       "231  63.409859  7.73653 2023-06-21 11:12:31+00:00  POINT (7.73653 63.40986)\n",
       "232  63.409851  7.73651 2023-06-21 11:12:33+00:00  POINT (7.73651 63.40985)\n",
       "..         ...      ...                       ...                       ...\n",
       "223  63.407139  7.74505 2023-06-21 13:34:09+00:00  POINT (7.74505 63.40714)\n",
       "224  63.407150  7.74509 2023-06-21 13:34:11+00:00  POINT (7.74509 63.40715)\n",
       "225  63.407181  7.74515 2023-06-21 13:34:13+00:00  POINT (7.74515 63.40718)\n",
       "226  63.407242  7.74532 2023-06-21 13:34:15+00:00  POINT (7.74532 63.40724)\n",
       "227  63.407249  7.74535 2023-06-21 13:34:17+00:00  POINT (7.74535 63.40725)\n",
       "\n",
       "[2061 rows x 4 columns]"
      ]
     },
     "execution_count": 4,
     "metadata": {},
     "output_type": "execute_result"
    }
   ],
   "source": [
    "# Read \"Skippo\" CSV file\n",
    "skippo_gdf = video_transect.yx_csv_to_geodataframe(csv_file,time_column_name='DateTimeS')\n",
    "skippo_gdf = skippo_gdf.dropna() # Drop points without timestamps (at end of file)\n",
    "skippo_gdf = skippo_gdf.sort_values('Time')\n",
    "#skippo_gdf = video_transect.filter_gdf_on_distance(skippo_gdf,sample_distance)\n",
    "skippo_gdf"
   ]
  },
  {
   "cell_type": "code",
   "execution_count": 5,
   "metadata": {},
   "outputs": [
    {
     "name": "stdout",
     "output_type": "stream",
     "text": [
      "/media/mha114/Massimal2/Massimal/Smola_Maholmen/DropCamTransects/20230621/T2/ExtractedImages/Original created (if not created before)\n",
      "/media/mha114/Massimal2/Massimal/Smola_Maholmen/DropCamTransects/20230621/T2/ImagesGeopackage created (if not created before)\n",
      "GPKG file name for saving results: /media/mha114/Massimal2/Massimal/Smola_Maholmen/DropCamTransects/20230621/T2/ImagesGeopackage/T2_GeotaggedImages.gpkg\n",
      "Found video files ['GH010771.MP4', 'GH020771.MP4', 'GH030771.MP4', 'GH040771.MP4', 'GH050771.MP4']\n"
     ]
    },
    {
     "name": "stderr",
     "output_type": "stream",
     "text": [
      "100%|██████████| 1159/1159 [11:41<00:00,  1.65it/s]\n"
     ]
    },
    {
     "name": "stdout",
     "output_type": "stream",
     "text": [
      "/media/mha114/Massimal2/Massimal/Smola_Maholmen/DropCamTransects/20230621/T3/ExtractedImages/Original created (if not created before)\n",
      "/media/mha114/Massimal2/Massimal/Smola_Maholmen/DropCamTransects/20230621/T3/ImagesGeopackage created (if not created before)\n",
      "GPKG file name for saving results: /media/mha114/Massimal2/Massimal/Smola_Maholmen/DropCamTransects/20230621/T3/ImagesGeopackage/T3_GeotaggedImages.gpkg\n",
      "Found video files ['GH010772.MP4', 'GH020772.MP4', 'GH030772.MP4']\n"
     ]
    },
    {
     "name": "stderr",
     "output_type": "stream",
     "text": [
      "100%|██████████| 553/553 [06:26<00:00,  1.43it/s]\n"
     ]
    },
    {
     "name": "stdout",
     "output_type": "stream",
     "text": [
      "/media/mha114/Massimal2/Massimal/Smola_Maholmen/DropCamTransects/20230621/T4/ExtractedImages/Original created (if not created before)\n",
      "/media/mha114/Massimal2/Massimal/Smola_Maholmen/DropCamTransects/20230621/T4/ImagesGeopackage created (if not created before)\n",
      "GPKG file name for saving results: /media/mha114/Massimal2/Massimal/Smola_Maholmen/DropCamTransects/20230621/T4/ImagesGeopackage/T4_GeotaggedImages.gpkg\n",
      "Found video files ['GH010773.MP4', 'GH020773.MP4']\n"
     ]
    },
    {
     "name": "stderr",
     "output_type": "stream",
     "text": [
      "100%|██████████| 228/228 [02:15<00:00,  1.68it/s]\n"
     ]
    }
   ],
   "source": [
    "# NOTE: Do a \"dry run\" without extracting images and check that time offsets are correct\n",
    "\n",
    "for transect_dir in transect_dirs:\n",
    "    video_dir = transect_dir / 'Video'\n",
    "    \n",
    "    image_dir = transect_dir / 'ExtractedImages/Original'\n",
    "    image_dir.mkdir(parents=True, exist_ok=True)\n",
    "    print(f'{image_dir} created (if not created before)')\n",
    "\n",
    "    gpkg_dir = transect_dir / 'ImagesGeopackage'\n",
    "    gpkg_dir.mkdir(exist_ok=True)\n",
    "    print(f'{gpkg_dir} created (if not created before)')\n",
    "\n",
    "    gpkg_file = gpkg_dir / (transect_dir.stem + '_GeotaggedImages.gpkg')\n",
    "    print(f'GPKG file name for saving results: {gpkg_file}')\n",
    "\n",
    "    video_files = misc.file_pattern_search(str(video_dir), '*.[Mm][Pp]4')\n",
    "    print(f'Found video files {[Path(vfile).name for vfile in video_files]}')\n",
    "    video_data = video_transect.get_video_data(str(video_dir),tz='utc',video_time_offset=pd.Timedelta(hours=-2))\n",
    "    #display(video_data)\n",
    "    \n",
    "    gdf = video_transect.prepare_gdf_with_video_data(skippo_gdf,video_data,video_offset_sec=video_offset_sec)\n",
    "    # display(gdf)\n",
    "\n",
    "    gdf = video_transect.extract_images_from_video(gdf,str(image_dir))\n",
    "    gdf.to_file(gpkg_file, driver=\"GPKG\")\n",
    "    "
   ]
  }
 ],
 "metadata": {
  "kernelspec": {
   "display_name": "massimal",
   "language": "python",
   "name": "python3"
  },
  "language_info": {
   "codemirror_mode": {
    "name": "ipython",
    "version": 3
   },
   "file_extension": ".py",
   "mimetype": "text/x-python",
   "name": "python",
   "nbconvert_exporter": "python",
   "pygments_lexer": "ipython3",
   "version": "3.11.7"
  }
 },
 "nbformat": 4,
 "nbformat_minor": 2
}
