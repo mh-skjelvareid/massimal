{
 "cells": [
  {
   "cell_type": "code",
   "execution_count": 1,
   "metadata": {},
   "outputs": [],
   "source": [
    "from pathlib import Path\n",
    "import numpy as np\n",
    "import hyspec_io, preprocess, image_render\n",
    "import skimage.io\n",
    "from tqdm import tqdm"
   ]
  },
  {
   "cell_type": "code",
   "execution_count": 2,
   "metadata": {},
   "outputs": [],
   "source": [
    "# Paths\n",
    "# image_dir = Path('/media/mha114/Massimal2/Massimal/X_TemporaryDeletableFiles/PrelimMaholmenDeglint')\n",
    "image_dir = Path('/media/mha114/Massimal2/Massimal/Smola_Maholmen/Hyperspectral/20230621/3a_Rrs_PCASGC')\n",
    "output_dir = image_dir.parent / '3b_Rrs_PCASGC_RGB'\n",
    "output_dir.mkdir(exist_ok=True)\n",
    "image_paths = sorted(image_dir.glob('*.hdr'))"
   ]
  },
  {
   "cell_type": "code",
   "execution_count": 3,
   "metadata": {},
   "outputs": [
    {
     "name": "stderr",
     "output_type": "stream",
     "text": [
      "100%|██████████| 115/115 [34:19<00:00, 17.91s/it]\n"
     ]
    }
   ],
   "source": [
    "for image_path in tqdm(image_paths):\n",
    "    # Load image \n",
    "    (image,wl,rgb_ind,metadata) = hyspec_io.load_envi_image(image_path)\n",
    "    \n",
    "    # Filter spectrally (reduces spatial noise)\n",
    "    image = preprocess.filter_image_savitzky_golay(image)\n",
    "\n",
    "    # Extract RGB\n",
    "    image_rgb = image[:,:,rgb_ind]\n",
    "\n",
    "    # Stretch\n",
    "    im_rgb = image_render.percentile_stretch(image_rgb)\n",
    "\n",
    "    # Convert to 8-bit int\n",
    "    im_rgb = np.uint8(im_rgb*255)\n",
    "\n",
    "    # Save\n",
    "    output_file = output_dir / (image_path.stem.split('.')[0] + '.png')\n",
    "    skimage.io.imsave(output_file,im_rgb)"
   ]
  },
  {
   "cell_type": "code",
   "execution_count": 4,
   "metadata": {},
   "outputs": [],
   "source": [
    "# Parameters\n",
    "# limits = np.array(((0.016,0.024),(0.02,0.035),(0.023,0.032))) # R, G, B limits\n",
    "# print(limits)"
   ]
  },
  {
   "cell_type": "code",
   "execution_count": 5,
   "metadata": {},
   "outputs": [],
   "source": [
    "# batch_process.envi_rgb_render(str(image_dir),str(output_dir),limits=limits)"
   ]
  }
 ],
 "metadata": {
  "kernelspec": {
   "display_name": "massimal",
   "language": "python",
   "name": "python3"
  },
  "language_info": {
   "codemirror_mode": {
    "name": "ipython",
    "version": 3
   },
   "file_extension": ".py",
   "mimetype": "text/x-python",
   "name": "python",
   "nbconvert_exporter": "python",
   "pygments_lexer": "ipython3",
   "version": "3.11.7"
  }
 },
 "nbformat": 4,
 "nbformat_minor": 2
}
