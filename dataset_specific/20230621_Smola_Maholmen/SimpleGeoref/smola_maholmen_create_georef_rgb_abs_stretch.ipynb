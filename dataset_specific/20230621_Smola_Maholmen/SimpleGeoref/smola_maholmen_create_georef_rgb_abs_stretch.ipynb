{
 "cells": [
  {
   "cell_type": "code",
   "execution_count": 1,
   "metadata": {},
   "outputs": [],
   "source": [
    "from pathlib import Path\n",
    "import numpy as np\n",
    "import georeferencing\n",
    "from tqdm import tqdm\n",
    "import hyspec_io\n",
    "import image_render\n",
    "import skimage.io"
   ]
  },
  {
   "cell_type": "code",
   "execution_count": 2,
   "metadata": {},
   "outputs": [],
   "source": [
    "# Parameters\n",
    "Rrs_limits = np.array([0.003,0.012])"
   ]
  },
  {
   "cell_type": "code",
   "execution_count": 3,
   "metadata": {},
   "outputs": [],
   "source": [
    "# Paths\n",
    "lcf_dir = Path('/media/mha114/Massimal2/Massimal/Smola_Maholmen/Hyperspectral/20230621/2a_Rrs')\n",
    "times_dir = lcf_dir\n",
    "hyspec_dir = Path('/media/mha114/Massimal2/Massimal/Smola_Maholmen/Hyperspectral/20230621/3a_Rrs_FSSGC')\n",
    "rgb_dir = hyspec_dir.parent / '3b_Rrs_FSSGC_RGB'\n",
    "rgb_dir.mkdir(exist_ok=True)\n",
    "hyspec_paths = sorted(hyspec_dir.glob('*.hdr'))"
   ]
  },
  {
   "cell_type": "code",
   "execution_count": 4,
   "metadata": {},
   "outputs": [
    {
     "name": "stderr",
     "output_type": "stream",
     "text": [
      "100%|██████████| 115/115 [15:44<00:00,  8.21s/it]\n"
     ]
    }
   ],
   "source": [
    "for hyspec_path in tqdm(hyspec_paths):\n",
    "    # Load only RGB bands from image\n",
    "    (image,wl,rgb_ind,metadata) = hyspec_io.load_envi_image(hyspec_path,rgb_only=True)\n",
    "\n",
    "    # Absolute stretch RGB image\n",
    "    image_rgb = image_render.absolute_stretch(image,Rrs_limits)\n",
    "    image_rgb = np.uint8(image_rgb*255)  # Convert to 8-bit int\n",
    "    transparency_layer = np.ones(shape=(image_rgb.shape[0:2])+(1,),dtype=np.uint8)*255\n",
    "    image_rgb = np.concatenate((image_rgb,transparency_layer),axis=2)\n",
    "\n",
    "    # Save RGB image\n",
    "    hyspec_base_name = hyspec_path.name.split('.')[0]\n",
    "    rgg_image_save_path = rgb_dir / (hyspec_base_name + '.png')\n",
    "    skimage.io.imsave(rgg_image_save_path,image_rgb,check_contrast=False)\n",
    "\n",
    "    # Read LCF and times files, create world file\n",
    "    lcf_file_name = hyspec_base_name + '.lcf'\n",
    "    times_file_name = hyspec_path.stem + '.times'\n",
    "    world_file_name = hyspec_base_name + '.wld'\n",
    "    \n",
    "    lcf_file_path = lcf_dir / lcf_file_name\n",
    "    times_file_path = times_dir / times_file_name\n",
    "    world_file_path = rgb_dir / world_file_name\n",
    "\n",
    "    georeferencing.world_file_from_lcf_times_files(lcf_file_path,times_file_path,world_file_path)"
   ]
  }
 ],
 "metadata": {
  "kernelspec": {
   "display_name": "massimal",
   "language": "python",
   "name": "python3"
  },
  "language_info": {
   "codemirror_mode": {
    "name": "ipython",
    "version": 3
   },
   "file_extension": ".py",
   "mimetype": "text/x-python",
   "name": "python",
   "nbconvert_exporter": "python",
   "pygments_lexer": "ipython3",
   "version": "3.11.7"
  }
 },
 "nbformat": 4,
 "nbformat_minor": 2
}
