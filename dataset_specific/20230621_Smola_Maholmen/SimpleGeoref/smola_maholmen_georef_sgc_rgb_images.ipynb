{
 "cells": [
  {
   "cell_type": "code",
   "execution_count": 1,
   "metadata": {},
   "outputs": [],
   "source": [
    "from pathlib import Path\n",
    "import numpy as np\n",
    "import georeferencing\n",
    "from tqdm import tqdm"
   ]
  },
  {
   "cell_type": "code",
   "execution_count": 9,
   "metadata": {},
   "outputs": [],
   "source": [
    "# Paths\n",
    "hyspec_dir = Path('/media/mha114/Massimal2/Massimal/Smola_Maholmen/Hyperspectral/20230621/2a_Rrs')\n",
    "rgb_dir = hyspec_dir.parent / '3b_Rrs_PCASGC_RGB'\n",
    "rgb_file_name_end = '-PCASGC'\n",
    "hyspec_paths = sorted(hyspec_dir.glob('*.hdr'))"
   ]
  },
  {
   "cell_type": "code",
   "execution_count": 11,
   "metadata": {},
   "outputs": [
    {
     "name": "stderr",
     "output_type": "stream",
     "text": [
      "100%|██████████| 115/115 [00:14<00:00,  7.90it/s]\n"
     ]
    }
   ],
   "source": [
    "for hyspec_path in tqdm(hyspec_paths):\n",
    "    hyspec_base_name = hyspec_path.name.split('.')[0]\n",
    "    lcf_file_name = hyspec_base_name + '.lcf'\n",
    "    times_file_name = hyspec_path.stem + '.times'\n",
    "    world_file_name = hyspec_base_name + rgb_file_name_end + '.wld'\n",
    "    \n",
    "    lcf_file_path = hyspec_dir / lcf_file_name\n",
    "    times_file_path = hyspec_dir / times_file_name\n",
    "    world_file_path = rgb_dir / world_file_name\n",
    "\n",
    "    georeferencing.world_file_from_lcf_times_files(lcf_file_path,times_file_path,world_file_path)"
   ]
  }
 ],
 "metadata": {
  "kernelspec": {
   "display_name": "massimal",
   "language": "python",
   "name": "python3"
  },
  "language_info": {
   "codemirror_mode": {
    "name": "ipython",
    "version": 3
   },
   "file_extension": ".py",
   "mimetype": "text/x-python",
   "name": "python",
   "nbconvert_exporter": "python",
   "pygments_lexer": "ipython3",
   "version": "3.11.7"
  }
 },
 "nbformat": 4,
 "nbformat_minor": 2
}
