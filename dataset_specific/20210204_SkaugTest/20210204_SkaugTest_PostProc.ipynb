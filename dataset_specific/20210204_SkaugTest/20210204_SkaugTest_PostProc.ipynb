{
 "cells": [
  {
   "cell_type": "code",
   "execution_count": 1,
   "metadata": {},
   "outputs": [
    {
     "ename": "ModuleNotFoundError",
     "evalue": "No module named 'numpy'",
     "output_type": "error",
     "traceback": [
      "\u001b[0;31m---------------------------------------------------------------------------\u001b[0m",
      "\u001b[0;31mModuleNotFoundError\u001b[0m                       Traceback (most recent call last)",
      "\u001b[0;32m<ipython-input-1-31e2aabd5123>\u001b[0m in \u001b[0;36m<module>\u001b[0;34m\u001b[0m\n\u001b[1;32m      1\u001b[0m \u001b[0;31m#%% Imports\u001b[0m\u001b[0;34m\u001b[0m\u001b[0;34m\u001b[0m\u001b[0;34m\u001b[0m\u001b[0m\n\u001b[1;32m      2\u001b[0m \u001b[0;32mimport\u001b[0m \u001b[0mos\u001b[0m\u001b[0;34m\u001b[0m\u001b[0;34m\u001b[0m\u001b[0m\n\u001b[0;32m----> 3\u001b[0;31m \u001b[0;32mimport\u001b[0m \u001b[0mnumpy\u001b[0m \u001b[0;32mas\u001b[0m \u001b[0mnp\u001b[0m\u001b[0;34m\u001b[0m\u001b[0;34m\u001b[0m\u001b[0m\n\u001b[0m\u001b[1;32m      4\u001b[0m \u001b[0;32mimport\u001b[0m \u001b[0mspectral\u001b[0m\u001b[0;34m.\u001b[0m\u001b[0mio\u001b[0m\u001b[0;34m.\u001b[0m\u001b[0menvi\u001b[0m \u001b[0;32mas\u001b[0m \u001b[0menvi\u001b[0m\u001b[0;34m\u001b[0m\u001b[0;34m\u001b[0m\u001b[0m\n\u001b[1;32m      5\u001b[0m \u001b[0;32mimport\u001b[0m \u001b[0mglob\u001b[0m\u001b[0;34m\u001b[0m\u001b[0;34m\u001b[0m\u001b[0m\n",
      "\u001b[0;31mModuleNotFoundError\u001b[0m: No module named 'numpy'"
     ]
    }
   ],
   "source": [
    "#%% Imports\n",
    "import os\n",
    "import numpy as np\n",
    "import spectral.io.envi as envi\n",
    "import glob\n",
    "import shutil"
   ]
  },
  {
   "cell_type": "code",
   "execution_count": 2,
   "metadata": {},
   "outputs": [],
   "source": [
    "#%% Paths\n",
    "base_path = '/mnt/datadisk/Massimal/20210204_SkaugTest'\n",
    "# scan_name = '1-SmallArea-17mmFocLength'\n",
    "scan_name = '4-LargeArea-12mmFocLength'\n",
    "# scan_name = '3-SmallArea-12mmFocLength'"
   ]
  },
  {
   "cell_type": "code",
   "execution_count": 5,
   "metadata": {},
   "outputs": [
    {
     "name": "stdout",
     "output_type": "stream",
     "text": [
      "Searching for files in  /mnt/datadisk/Massimal/20210204_SkaugTest/4-LargeArea-12mmFocLength/**/*.bil\n"
     ]
    }
   ],
   "source": [
    "# Derived paths\n",
    "search_path = os.path.join(base_path,scan_name) + '/**/*.bil'\n",
    "out_path = os.path.join(base_path,'Flipped',scan_name)\n",
    "\n",
    "print('Searching for files in ', search_path)"
   ]
  },
  {
   "cell_type": "code",
   "execution_count": 6,
   "metadata": {},
   "outputs": [
    {
     "name": "stdout",
     "output_type": "stream",
     "text": [
      "/mnt/datadisk/Massimal/20210204_SkaugTest/4-LargeArea-12mmFocLength/Skaug_LargeArea-01/Skaug_LargeArea_Pika_L_1-radiance.bil\n",
      "/mnt/datadisk/Massimal/20210204_SkaugTest/4-LargeArea-12mmFocLength/Skaug_LargeArea-02/Skaug_LargeArea_Pika_L_2-radiance.bil\n",
      "/mnt/datadisk/Massimal/20210204_SkaugTest/4-LargeArea-12mmFocLength/Skaug_LargeArea-03/Skaug_LargeArea_Pika_L_3-radiance.bil\n",
      "/mnt/datadisk/Massimal/20210204_SkaugTest/4-LargeArea-12mmFocLength/Skaug_LargeArea-04/Skaug_LargeArea_Pika_L_4-radiance.bil\n",
      "/mnt/datadisk/Massimal/20210204_SkaugTest/4-LargeArea-12mmFocLength/Skaug_LargeArea-05/Skaug_LargeArea_Pika_L_5-radiance.bil\n",
      "/mnt/datadisk/Massimal/20210204_SkaugTest/4-LargeArea-12mmFocLength/Skaug_LargeArea-06/Skaug_LargeArea_Pika_L_6-radiance.bil\n",
      "/mnt/datadisk/Massimal/20210204_SkaugTest/4-LargeArea-12mmFocLength/Skaug_LargeArea-07/Skaug_LargeArea_Pika_L_7-radiance.bil\n",
      "/mnt/datadisk/Massimal/20210204_SkaugTest/4-LargeArea-12mmFocLength/Skaug_LargeArea-08/Skaug_LargeArea_Pika_L_8-radiance.bil\n",
      "/mnt/datadisk/Massimal/20210204_SkaugTest/4-LargeArea-12mmFocLength/Skaug_LargeArea-09/Skaug_LargeArea_Pika_L_9-radiance.bil\n",
      "/mnt/datadisk/Massimal/20210204_SkaugTest/4-LargeArea-12mmFocLength/Skaug_LargeArea-10/Skaug_LargeArea_Pika_L_10-radiance.bil\n",
      "/mnt/datadisk/Massimal/20210204_SkaugTest/4-LargeArea-12mmFocLength/Skaug_LargeArea-11/Skaug_LargeArea_Pika_L_11-radiance.bil\n",
      "/mnt/datadisk/Massimal/20210204_SkaugTest/4-LargeArea-12mmFocLength/Skaug_LargeArea-12/Skaug_LargeArea_Pika_L_12-radiance.bil\n",
      "/mnt/datadisk/Massimal/20210204_SkaugTest/4-LargeArea-12mmFocLength/Skaug_LargeArea-13/Skaug_LargeArea_Pika_L_13-radiance.bil\n",
      "/mnt/datadisk/Massimal/20210204_SkaugTest/4-LargeArea-12mmFocLength/Skaug_LargeArea-14/Skaug_LargeArea_Pika_L_14-radiance.bil\n",
      "/mnt/datadisk/Massimal/20210204_SkaugTest/4-LargeArea-12mmFocLength/Skaug_LargeArea-15/Skaug_LargeArea_Pika_L_15-radiance.bil\n",
      "/mnt/datadisk/Massimal/20210204_SkaugTest/4-LargeArea-12mmFocLength/Skaug_LargeArea-16/Skaug_LargeArea_Pika_L_16-radiance.bil\n",
      "/mnt/datadisk/Massimal/20210204_SkaugTest/4-LargeArea-12mmFocLength/Skaug_LargeArea-17/Skaug_LargeArea_Pika_L_17-radiance.bil\n"
     ]
    }
   ],
   "source": [
    "# Find all original files\n",
    "# Remember that folders and files are not numbered with leading zeros\n",
    "files = glob.glob(search_path,recursive=True)\n",
    "files.sort()\n",
    "for file in files:\n",
    "    print(file)"
   ]
  },
  {
   "cell_type": "code",
   "execution_count": 8,
   "metadata": {},
   "outputs": [
    {
     "name": "stdout",
     "output_type": "stream",
     "text": [
      "Output dir already exists:  /mnt/datadisk/Massimal/20210204_SkaugTest/Flipped/4-LargeArea-12mmFocLength\n"
     ]
    }
   ],
   "source": [
    "# Create output dir (if not already present)\n",
    "if not os.path.exists(out_path):\n",
    "    os.mkdir(out_path)\n",
    "    print('Output dir created: ', out_path)\n",
    "else:\n",
    "    print('Output dir already exists: ', out_path)"
   ]
  },
  {
   "cell_type": "code",
   "execution_count": 9,
   "metadata": {},
   "outputs": [
    {
     "name": "stdout",
     "output_type": "stream",
     "text": [
      "Flipping file  1  of  17\n",
      "Created output dir:  /mnt/datadisk/Massimal/20210204_SkaugTest/Flipped/4-LargeArea-12mmFocLength/4-LargeArea-12mmFocLength_000\n",
      "Flipping file  2  of  17\n",
      "Created output dir:  /mnt/datadisk/Massimal/20210204_SkaugTest/Flipped/4-LargeArea-12mmFocLength/4-LargeArea-12mmFocLength_001\n",
      "Flipping file  3  of  17\n",
      "Created output dir:  /mnt/datadisk/Massimal/20210204_SkaugTest/Flipped/4-LargeArea-12mmFocLength/4-LargeArea-12mmFocLength_002\n",
      "Flipping file  4  of  17\n",
      "Created output dir:  /mnt/datadisk/Massimal/20210204_SkaugTest/Flipped/4-LargeArea-12mmFocLength/4-LargeArea-12mmFocLength_003\n",
      "Flipping file  5  of  17\n",
      "Created output dir:  /mnt/datadisk/Massimal/20210204_SkaugTest/Flipped/4-LargeArea-12mmFocLength/4-LargeArea-12mmFocLength_004\n",
      "Flipping file  6  of  17\n",
      "Created output dir:  /mnt/datadisk/Massimal/20210204_SkaugTest/Flipped/4-LargeArea-12mmFocLength/4-LargeArea-12mmFocLength_005\n",
      "Flipping file  7  of  17\n",
      "Created output dir:  /mnt/datadisk/Massimal/20210204_SkaugTest/Flipped/4-LargeArea-12mmFocLength/4-LargeArea-12mmFocLength_006\n",
      "Flipping file  8  of  17\n",
      "Created output dir:  /mnt/datadisk/Massimal/20210204_SkaugTest/Flipped/4-LargeArea-12mmFocLength/4-LargeArea-12mmFocLength_007\n",
      "Flipping file  9  of  17\n",
      "Created output dir:  /mnt/datadisk/Massimal/20210204_SkaugTest/Flipped/4-LargeArea-12mmFocLength/4-LargeArea-12mmFocLength_008\n",
      "Flipping file  10  of  17\n",
      "Created output dir:  /mnt/datadisk/Massimal/20210204_SkaugTest/Flipped/4-LargeArea-12mmFocLength/4-LargeArea-12mmFocLength_009\n",
      "Flipping file  11  of  17\n",
      "Created output dir:  /mnt/datadisk/Massimal/20210204_SkaugTest/Flipped/4-LargeArea-12mmFocLength/4-LargeArea-12mmFocLength_010\n",
      "Flipping file  12  of  17\n",
      "Created output dir:  /mnt/datadisk/Massimal/20210204_SkaugTest/Flipped/4-LargeArea-12mmFocLength/4-LargeArea-12mmFocLength_011\n",
      "Flipping file  13  of  17\n",
      "Created output dir:  /mnt/datadisk/Massimal/20210204_SkaugTest/Flipped/4-LargeArea-12mmFocLength/4-LargeArea-12mmFocLength_012\n",
      "Flipping file  14  of  17\n",
      "Created output dir:  /mnt/datadisk/Massimal/20210204_SkaugTest/Flipped/4-LargeArea-12mmFocLength/4-LargeArea-12mmFocLength_013\n",
      "Flipping file  15  of  17\n",
      "Created output dir:  /mnt/datadisk/Massimal/20210204_SkaugTest/Flipped/4-LargeArea-12mmFocLength/4-LargeArea-12mmFocLength_014\n",
      "Flipping file  16  of  17\n",
      "Created output dir:  /mnt/datadisk/Massimal/20210204_SkaugTest/Flipped/4-LargeArea-12mmFocLength/4-LargeArea-12mmFocLength_015\n",
      "Flipping file  17  of  17\n",
      "Created output dir:  /mnt/datadisk/Massimal/20210204_SkaugTest/Flipped/4-LargeArea-12mmFocLength/4-LargeArea-12mmFocLength_016\n"
     ]
    }
   ],
   "source": [
    "# Loop through all files, create flipped copy, and copy all files\n",
    "for num,file in enumerate(files):\n",
    "    print('Flipping file ', num+1, ' of ', len(files))\n",
    "    \n",
    "    # Create base for output dir and file names\n",
    "    out_name = scan_name + '_' + str(num).zfill(3)\n",
    "    \n",
    "    # Create output dir (one for each file)\n",
    "    out_file_dir = os.path.join(out_path,out_name)\n",
    "    if not os.path.exists(out_file_dir):\n",
    "        os.mkdir(out_file_dir)\n",
    "        print('Created output dir: ', out_file_dir)\n",
    "    \n",
    "    # Create output file name base\n",
    "    in_file_base,fileext = os.path.splitext(file)\n",
    "    \n",
    "    out_file_base = out_file_dir + '/' + out_name\n",
    "#     print('In:', in_file_base)\n",
    "#     print('Out:', out_file_base)\n",
    "    \n",
    "    # Copy .lcf and .bil.times files (may not have exactly same name as .bil file)\n",
    "    lcf_file = glob.glob(os.path.dirname(file) + '/*.lcf')\n",
    "    times_file = glob.glob(os.path.dirname(file) + '/*.times')\n",
    "    shutil.copyfile(lcf_file[0],\n",
    "                    str(out_file_base + '.lcf'))\n",
    "    shutil.copyfile(times_file[0],\n",
    "                    str(out_file_base + '.bil.times'))\n",
    "    \n",
    "    # Open ENVI image and flip\n",
    "    im = envi.open(in_file_base + '.bil.hdr')\n",
    "    im_arr = im.load()\n",
    "    im_arr = np.fliplr(im_arr)\n",
    "    \n",
    "    envi.save_image(out_file_base + '.bil.hdr',\n",
    "                    im_arr,\n",
    "                    dtype = im.dtype,\n",
    "                    interleave='bil',\n",
    "                    ext=None,\n",
    "                    metadata = im.metadata)\n",
    "    "
   ]
  }
 ],
 "metadata": {
  "kernelspec": {
   "display_name": "Python 3",
   "language": "python",
   "name": "python3"
  },
  "language_info": {
   "codemirror_mode": {
    "name": "ipython",
    "version": 3
   },
   "file_extension": ".py",
   "mimetype": "text/x-python",
   "name": "python",
   "nbconvert_exporter": "python",
   "pygments_lexer": "ipython3",
   "version": "3.9.4"
  }
 },
 "nbformat": 4,
 "nbformat_minor": 2
}
