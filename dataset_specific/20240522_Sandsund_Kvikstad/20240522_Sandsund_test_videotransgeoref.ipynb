{
 "cells": [
  {
   "cell_type": "code",
   "execution_count": 1,
   "metadata": {},
   "outputs": [],
   "source": [
    "from datetime import timedelta\n",
    "from pathlib import Path\n",
    "\n",
    "from vidtransgeotag import VidTransGeoTag, merge_videos_in_directory"
   ]
  },
  {
   "cell_type": "code",
   "execution_count": 7,
   "metadata": {},
   "outputs": [],
   "source": [
    "csv_path = Path(\n",
    "    \"/media/mha114/Massimal2/Massimal/Bodo_Sandsund/BoatTransect/20240522/GPS_Track/2024-05-22_092812_massimal-sandsund.csv\"\n",
    ")\n",
    "video_dir = Path(\"/media/mha114/Massimal2/Massimal/Bodo_Sandsund/BoatTransect/20240522/Video\")\n",
    "merged_video_path = Path(\n",
    "    \"/media/mha114/Massimal2/Massimal/Bodo_Sandsund/BoatTransect/20240522/merged_video/merged.mp4\"\n",
    ")\n",
    "image_dir = Path(\n",
    "    \"/media/mha114/Massimal2/Massimal/Bodo_Sandsund/BoatTransect/20240522/test_vidtransgeotag_images\"\n",
    ")\n",
    "gpkg_path = image_dir / \"test_vidtransgeotag.gpkg\""
   ]
  },
  {
   "cell_type": "code",
   "execution_count": 3,
   "metadata": {},
   "outputs": [],
   "source": [
    "# merge_videos_in_directory(input_dir=video_dir, output_file=merged_video_path)"
   ]
  },
  {
   "cell_type": "code",
   "execution_count": 4,
   "metadata": {},
   "outputs": [],
   "source": [
    "vtgt = VidTransGeoTag(csv_path, video_time_add_offset=timedelta(hours=-2))"
   ]
  },
  {
   "cell_type": "code",
   "execution_count": 5,
   "metadata": {},
   "outputs": [
    {
     "name": "stdout",
     "output_type": "stream",
     "text": [
      "merged.mp4 starts at 2024-05-22 07:28:12+00:00 and ends at 2024-05-22 08:23:50.569533+00:00.\n",
      "Track starts at 2024-05-22 07:28:13.586000+00:00 and ends at 2024-05-22 08:26:31.648000+00:00\n",
      "Video partly overlaps with track\n"
     ]
    },
    {
     "data": {
      "text/plain": [
       "True"
      ]
     },
     "execution_count": 5,
     "metadata": {},
     "output_type": "execute_result"
    }
   ],
   "source": [
    "vtgt.check_video_overlaps_track(merged_video_path, verbose=True)"
   ]
  },
  {
   "cell_type": "code",
   "execution_count": 6,
   "metadata": {},
   "outputs": [],
   "source": [
    "# for video_file in video_dir.glob(\"*.MP4\"):\n",
    "#     print(\"--------\")\n",
    "#     vtgt.check_video_overlaps_track(video_file, verbose=True)"
   ]
  },
  {
   "cell_type": "code",
   "execution_count": 8,
   "metadata": {},
   "outputs": [
    {
     "data": {
      "text/html": [
       "<div>\n",
       "<style scoped>\n",
       "    .dataframe tbody tr th:only-of-type {\n",
       "        vertical-align: middle;\n",
       "    }\n",
       "\n",
       "    .dataframe tbody tr th {\n",
       "        vertical-align: top;\n",
       "    }\n",
       "\n",
       "    .dataframe thead th {\n",
       "        text-align: right;\n",
       "    }\n",
       "</style>\n",
       "<table border=\"1\" class=\"dataframe\">\n",
       "  <thead>\n",
       "    <tr style=\"text-align: right;\">\n",
       "      <th></th>\n",
       "      <th>time</th>\n",
       "      <th>geometry</th>\n",
       "      <th>image_file</th>\n",
       "    </tr>\n",
       "  </thead>\n",
       "  <tbody>\n",
       "    <tr>\n",
       "      <th>0</th>\n",
       "      <td>2024-05-22 07:28:13.586000+00:00</td>\n",
       "      <td>POINT (14.95092 67.20942)</td>\n",
       "      <td>merged_000m01s585ms.jpg</td>\n",
       "    </tr>\n",
       "    <tr>\n",
       "      <th>208</th>\n",
       "      <td>2024-05-22 07:31:40.590000+00:00</td>\n",
       "      <td>POINT (14.95113 67.20945)</td>\n",
       "      <td>merged_003m28s590ms.jpg</td>\n",
       "    </tr>\n",
       "    <tr>\n",
       "      <th>222</th>\n",
       "      <td>2024-05-22 07:31:54.607000+00:00</td>\n",
       "      <td>POINT (14.95132 67.20951)</td>\n",
       "      <td>merged_003m42s606ms.jpg</td>\n",
       "    </tr>\n",
       "    <tr>\n",
       "      <th>237</th>\n",
       "      <td>2024-05-22 07:32:09.595000+00:00</td>\n",
       "      <td>POINT (14.95154 67.20954)</td>\n",
       "      <td>merged_003m57s594ms.jpg</td>\n",
       "    </tr>\n",
       "    <tr>\n",
       "      <th>254</th>\n",
       "      <td>2024-05-22 07:32:26.591000+00:00</td>\n",
       "      <td>POINT (14.95149 67.20963)</td>\n",
       "      <td>merged_004m14s591ms.jpg</td>\n",
       "    </tr>\n",
       "    <tr>\n",
       "      <th>...</th>\n",
       "      <td>...</td>\n",
       "      <td>...</td>\n",
       "      <td>...</td>\n",
       "    </tr>\n",
       "    <tr>\n",
       "      <th>3267</th>\n",
       "      <td>2024-05-22 08:22:39.597000+00:00</td>\n",
       "      <td>POINT (14.95041 67.20846)</td>\n",
       "      <td>merged_054m27s597ms.jpg</td>\n",
       "    </tr>\n",
       "    <tr>\n",
       "      <th>3282</th>\n",
       "      <td>2024-05-22 08:22:54.593000+00:00</td>\n",
       "      <td>POINT (14.95038 67.20837)</td>\n",
       "      <td>merged_054m42s592ms.jpg</td>\n",
       "    </tr>\n",
       "    <tr>\n",
       "      <th>3297</th>\n",
       "      <td>2024-05-22 08:23:09.589000+00:00</td>\n",
       "      <td>POINT (14.95042 67.20828)</td>\n",
       "      <td>merged_054m57s588ms.jpg</td>\n",
       "    </tr>\n",
       "    <tr>\n",
       "      <th>3315</th>\n",
       "      <td>2024-05-22 08:23:27.577000+00:00</td>\n",
       "      <td>POINT (14.95054 67.20820)</td>\n",
       "      <td>merged_055m15s577ms.jpg</td>\n",
       "    </tr>\n",
       "    <tr>\n",
       "      <th>3333</th>\n",
       "      <td>2024-05-22 08:23:45.677000+00:00</td>\n",
       "      <td>POINT (14.95071 67.20813)</td>\n",
       "      <td>merged_055m33s677ms.jpg</td>\n",
       "    </tr>\n",
       "  </tbody>\n",
       "</table>\n",
       "<p>247 rows × 3 columns</p>\n",
       "</div>"
      ],
      "text/plain": [
       "                                 time                   geometry  \\\n",
       "0    2024-05-22 07:28:13.586000+00:00  POINT (14.95092 67.20942)   \n",
       "208  2024-05-22 07:31:40.590000+00:00  POINT (14.95113 67.20945)   \n",
       "222  2024-05-22 07:31:54.607000+00:00  POINT (14.95132 67.20951)   \n",
       "237  2024-05-22 07:32:09.595000+00:00  POINT (14.95154 67.20954)   \n",
       "254  2024-05-22 07:32:26.591000+00:00  POINT (14.95149 67.20963)   \n",
       "...                               ...                        ...   \n",
       "3267 2024-05-22 08:22:39.597000+00:00  POINT (14.95041 67.20846)   \n",
       "3282 2024-05-22 08:22:54.593000+00:00  POINT (14.95038 67.20837)   \n",
       "3297 2024-05-22 08:23:09.589000+00:00  POINT (14.95042 67.20828)   \n",
       "3315 2024-05-22 08:23:27.577000+00:00  POINT (14.95054 67.20820)   \n",
       "3333 2024-05-22 08:23:45.677000+00:00  POINT (14.95071 67.20813)   \n",
       "\n",
       "                   image_file  \n",
       "0     merged_000m01s585ms.jpg  \n",
       "208   merged_003m28s590ms.jpg  \n",
       "222   merged_003m42s606ms.jpg  \n",
       "237   merged_003m57s594ms.jpg  \n",
       "254   merged_004m14s591ms.jpg  \n",
       "...                       ...  \n",
       "3267  merged_054m27s597ms.jpg  \n",
       "3282  merged_054m42s592ms.jpg  \n",
       "3297  merged_054m57s588ms.jpg  \n",
       "3315  merged_055m15s577ms.jpg  \n",
       "3333  merged_055m33s677ms.jpg  \n",
       "\n",
       "[247 rows x 3 columns]"
      ]
     },
     "execution_count": 8,
     "metadata": {},
     "output_type": "execute_result"
    }
   ],
   "source": [
    "vtgt.extract_geotagged_images_from_video(\n",
    "    video_path=merged_video_path,\n",
    "    image_output_folder=image_dir,\n",
    "    filter_min_distance_m=10,\n",
    "    gpkg_path=gpkg_path,\n",
    ")"
   ]
  },
  {
   "cell_type": "code",
   "execution_count": null,
   "metadata": {},
   "outputs": [],
   "source": []
  }
 ],
 "metadata": {
  "kernelspec": {
   "display_name": "massimal",
   "language": "python",
   "name": "python3"
  },
  "language_info": {
   "codemirror_mode": {
    "name": "ipython",
    "version": 3
   },
   "file_extension": ".py",
   "mimetype": "text/x-python",
   "name": "python",
   "nbconvert_exporter": "python",
   "pygments_lexer": "ipython3",
   "version": "3.11.7"
  }
 },
 "nbformat": 4,
 "nbformat_minor": 2
}
