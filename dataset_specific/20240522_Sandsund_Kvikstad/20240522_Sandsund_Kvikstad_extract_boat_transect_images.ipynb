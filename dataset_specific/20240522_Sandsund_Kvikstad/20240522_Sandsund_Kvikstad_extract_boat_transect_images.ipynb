{
 "cells": [
  {
   "cell_type": "code",
   "execution_count": 1,
   "metadata": {},
   "outputs": [
    {
     "name": "stderr",
     "output_type": "stream",
     "text": [
      "/tmp/ipykernel_3387199/1386386205.py:3: DeprecationWarning: \n",
      "Pyarrow will become a required dependency of pandas in the next major release of pandas (pandas 3.0),\n",
      "(to allow more performant data types, such as the Arrow string type, and better interoperability with other libraries)\n",
      "but was not found to be installed on your system.\n",
      "If this would cause problems for you,\n",
      "please provide us feedback at https://github.com/pandas-dev/pandas/issues/54466\n",
      "        \n",
      "  import pandas as pd\n"
     ]
    }
   ],
   "source": [
    "from pathlib import Path\n",
    "\n",
    "import pandas as pd\n",
    "\n",
    "from massimal.batch_process import underwater_image_correction\n",
    "from massimal.video_transect import (\n",
    "    extract_images_from_video,\n",
    "    filter_gdf_on_distance,\n",
    "    get_video_data,\n",
    "    prepare_gdf_with_video_data,\n",
    "    track_csv_to_geodataframe,\n",
    ")"
   ]
  },
  {
   "cell_type": "code",
   "execution_count": 2,
   "metadata": {},
   "outputs": [],
   "source": [
    "# Parameters\n",
    "transect_root_paths = [\n",
    "    Path(\"/media/mha114/Massimal2/Massimal/Bodo_Kvikstad/BoatTransect/20240522\"),\n",
    "    Path(\"/media/mha114/Massimal2/Massimal/Bodo_Sandsund/BoatTransect/20240522\"),\n",
    "]\n",
    "\n",
    "dataset_names = [\n",
    "    \"massimal_bodo_kvikstad_20240522_boat_geotagged_images\",\n",
    "    \"massimal_bodo_sandsund_20240522_boat_geotagged_images\",\n",
    "]\n",
    "\n",
    "sample_distance = 1"
   ]
  },
  {
   "cell_type": "code",
   "execution_count": 3,
   "metadata": {},
   "outputs": [],
   "source": [
    "# for transect_root_path, dataset_name in zip(transect_root_paths, dataset_names):\n",
    "#     print(f\"Processing data in {transect_root_path}\")\n",
    "\n",
    "#     try:\n",
    "#         # Find CSV file\n",
    "#         csv_file = next(transect_root_path.rglob(\"*.csv\"))\n",
    "\n",
    "#         # Define input and output paths\n",
    "#         video_dir = transect_root_path / \"Video\"\n",
    "#         geotagged_dir = transect_root_path / \"geotagged_images\"\n",
    "#         geotagged_dir.mkdir(exist_ok=True)\n",
    "#         image_dir = geotagged_dir / \"images\"\n",
    "#         image_dir.mkdir(exist_ok=True)\n",
    "#         gpkg_file = geotagged_dir / f\"{dataset_name}.gpkg\"\n",
    "\n",
    "#         video_files = video_dir.glob(\"*.[Mm][Pp]4\")\n",
    "#         print(f\"Found video files {[vfile.name for vfile in video_files]}\")\n",
    "#         video_data = get_video_data(\n",
    "#             str(video_dir), tz=\"UTC\", video_time_offset=pd.Timedelta(hours=-2)\n",
    "#         )\n",
    "\n",
    "#         gdf = track_csv_to_geodataframe(csv_file)\n",
    "#         gdf = filter_gdf_on_distance(gdf, sample_distance)\n",
    "#         gdf = prepare_gdf_with_video_data(gdf, video_data)\n",
    "\n",
    "#         gdf = extract_images_from_video(gdf, str(image_dir))\n",
    "#         gdf.to_file(gpkg_file, driver=\"GPKG\")\n",
    "\n",
    "#     except Exception as e:\n",
    "#         print(f\"Failed to process data in {transect_root_path}: {e}\")\n"
   ]
  },
  {
   "cell_type": "code",
   "execution_count": 4,
   "metadata": {},
   "outputs": [
    {
     "name": "stdout",
     "output_type": "stream",
     "text": [
      "[PosixPath('/media/mha114/Massimal2/Massimal/Bodo_Kvikstad/BoatTransect/20240522/geotagged_images/images'), PosixPath('/media/mha114/Massimal2/Massimal/Bodo_Sandsund/BoatTransect/20240522/geotagged_images/images')]\n",
      "[PosixPath('/media/mha114/Massimal2/Massimal/Bodo_Kvikstad/BoatTransect/20240522/geotagged_images/corrected_images'), PosixPath('/media/mha114/Massimal2/Massimal/Bodo_Sandsund/BoatTransect/20240522/geotagged_images/corrected_images')]\n"
     ]
    }
   ],
   "source": [
    "input_image_dirs = [t / \"geotagged_images\" / \"images\" for t in transect_root_paths]\n",
    "output_image_dirs = [t / \"geotagged_images\" / \"corrected_images\" for t in transect_root_paths]\n",
    "\n",
    "print(input_image_dirs)\n",
    "print(output_image_dirs)"
   ]
  },
  {
   "cell_type": "code",
   "execution_count": 5,
   "metadata": {},
   "outputs": [
    {
     "name": "stdout",
     "output_type": "stream",
     "text": [
      "Processing 2541 images in /media/mha114/Massimal2/Massimal/Bodo_Kvikstad/BoatTransect/20240522/geotagged_images/images:\n"
     ]
    },
    {
     "name": "stderr",
     "output_type": "stream",
     "text": [
      "100%|██████████| 2541/2541 [24:39<00:00,  1.72it/s]\n"
     ]
    },
    {
     "name": "stdout",
     "output_type": "stream",
     "text": [
      "Processing 1892 images in /media/mha114/Massimal2/Massimal/Bodo_Sandsund/BoatTransect/20240522/geotagged_images/images:\n"
     ]
    },
    {
     "name": "stderr",
     "output_type": "stream",
     "text": [
      "100%|██████████| 1892/1892 [18:00<00:00,  1.75it/s]\n"
     ]
    }
   ],
   "source": [
    "underwater_image_correction(input_image_dirs, output_image_dirs)"
   ]
  },
  {
   "cell_type": "code",
   "execution_count": null,
   "metadata": {},
   "outputs": [],
   "source": []
  }
 ],
 "metadata": {
  "kernelspec": {
   "display_name": "massimal",
   "language": "python",
   "name": "python3"
  },
  "language_info": {
   "codemirror_mode": {
    "name": "ipython",
    "version": 3
   },
   "file_extension": ".py",
   "mimetype": "text/x-python",
   "name": "python",
   "nbconvert_exporter": "python",
   "pygments_lexer": "ipython3",
   "version": "3.11.7"
  }
 },
 "nbformat": 4,
 "nbformat_minor": 2
}
