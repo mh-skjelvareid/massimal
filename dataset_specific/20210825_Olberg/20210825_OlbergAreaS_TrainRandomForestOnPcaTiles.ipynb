{
 "cells": [
  {
   "cell_type": "code",
   "execution_count": 1,
   "id": "f570a0f9-eaf5-4338-b63f-31c05f2b0819",
   "metadata": {},
   "outputs": [],
   "source": [
    "# Disable TensorFlow debugging info and warnings\n",
    "import os\n",
    "os.environ['TF_CPP_MIN_LOG_LEVEL'] = '2'  # 2: Info and warnings not displayed "
   ]
  },
  {
   "cell_type": "code",
   "execution_count": 2,
   "id": "47d30d62-8de5-4239-b6a3-d2b1c15fc92b",
   "metadata": {},
   "outputs": [],
   "source": [
    "import numpy as np\n",
    "import matplotlib.pyplot as plt\n",
    "import tensorflow as tf\n",
    "import sklearn.ensemble"
   ]
  },
  {
   "cell_type": "code",
   "execution_count": 3,
   "id": "19ff6b64-ac11-4921-a91d-865015652edd",
   "metadata": {},
   "outputs": [],
   "source": [
    "# Disable GPUs (in case of Tensorflow trying to use GPUs and raising errors)\n",
    "tf.config.set_visible_devices([], 'GPU')"
   ]
  },
  {
   "cell_type": "code",
   "execution_count": 4,
   "id": "d357160c-b2e0-484f-a0d0-5fb91cb73766",
   "metadata": {},
   "outputs": [],
   "source": [
    "# Paths (Note: Use double backslash on Windows)\n",
    "tiles_dataset_path = 'D:\\\\Larvik_Olberg\\\\Hyperspectral\\\\20210825\\\\OlbergAreaS\\\\5c_Rad_Georef_SGC_PCA_Tiles\\\\20210825_Olberg_PCA_TrainValDataset'"
   ]
  },
  {
   "cell_type": "code",
   "execution_count": 5,
   "id": "73a6c01e-7b30-4701-a8e5-2adb05321d5b",
   "metadata": {},
   "outputs": [],
   "source": [
    "# Load dataset (or, rather, pointer to dataset)\n",
    "dataset = tf.data.experimental.load(tiles_dataset_path)"
   ]
  },
  {
   "cell_type": "code",
   "execution_count": 6,
   "id": "5256766f-7840-4d45-88a9-6df3166eac5b",
   "metadata": {},
   "outputs": [
    {
     "name": "stdout",
     "output_type": "stream",
     "text": [
      "Dataset specification: <_LoadDataset element_spec=(TensorSpec(shape=(128, 128, 8), dtype=tf.float32, name=None), TensorSpec(shape=(128, 128), dtype=tf.int32, name=None))>\n",
      "Number of tiles: 459\n"
     ]
    }
   ],
   "source": [
    "# Show dataset details\n",
    "n_tiles = int(dataset.cardinality())\n",
    "print(f'Dataset specification: {dataset}')\n",
    "print(f'Number of tiles: {n_tiles}')"
   ]
  },
  {
   "cell_type": "code",
   "execution_count": 7,
   "id": "38ed30c3-0a7c-4fbf-aabb-e8943f652387",
   "metadata": {},
   "outputs": [],
   "source": [
    "# Shuffle dataset (tiles are originally ordered by image)\n",
    "dataset = dataset.shuffle(buffer_size=n_tiles)"
   ]
  },
  {
   "cell_type": "code",
   "execution_count": 8,
   "id": "9ea27a2c-042b-4fed-856c-a951e425f47f",
   "metadata": {},
   "outputs": [
    {
     "name": "stdout",
     "output_type": "stream",
     "text": [
      "Image tile size: (128, 128, 8)\n",
      "Label tile size: (128, 128)\n",
      "Image tile size: (128, 128, 8)\n",
      "Label tile size: (128, 128)\n",
      "Image tile size: (128, 128, 8)\n",
      "Label tile size: (128, 128)\n"
     ]
    }
   ],
   "source": [
    "# Demonstrate iteration over dataset, using 3 first data points\n",
    "# By using as_numpy_iterator(), datasets are converted from Tensorflow tensors\n",
    "# into Numpy arrays on-the-fly.\n",
    "small_dataset = dataset.take(3)\n",
    "for image_tile, label_tile in small_dataset.as_numpy_iterator():\n",
    "    print(f'Image tile size: {image_tile.shape}') \n",
    "    print(f'Label tile size: {label_tile.shape}')"
   ]
  },
  {
   "cell_type": "code",
   "execution_count": 9,
   "id": "67930d7e-9036-4cd3-ae99-a5fdc03f1c0e",
   "metadata": {},
   "outputs": [
    {
     "name": "stdout",
     "output_type": "stream",
     "text": [
      "Number of tiles in training dataset: 321\n",
      "Number of tiles in validation dataset: 138\n"
     ]
    }
   ],
   "source": [
    "# Split dataset into training and validation\n",
    "# Note: Doing K-fold validation on Tensorflow datasets is not straightforward,\n",
    "# but can probably be done using generators. We'll do a simple split for now.\n",
    "training_frac = 0.7\n",
    "n_training_tiles = int(training_frac*n_tiles)\n",
    "training_dataset = dataset.take(n_training_tiles)\n",
    "validation_dataset = dataset.skip(n_training_tiles)\n",
    "print(f'Number of tiles in training dataset: {training_dataset.cardinality()}')\n",
    "print(f'Number of tiles in validation dataset: {validation_dataset.cardinality()}')"
   ]
  },
  {
   "cell_type": "code",
   "execution_count": 10,
   "id": "17c8aafb-4c1a-4a19-bc9a-68a56aa3a987",
   "metadata": {},
   "outputs": [],
   "source": [
    "def collect_dataset_spectra(dataset):\n",
    "    \"\"\" Collect annotated pixels in feature matrix X and label vector y \"\"\"\n",
    "    pixels_list = []\n",
    "    label_list = []\n",
    "    for image_tile,label_tile in dataset:\n",
    "        annotated_mask = (label_tile > 0) # Label 0 corresponds to background (not annotated)\n",
    "        pixels_list.append(image_tile[annotated_mask])\n",
    "        label_list.append(label_tile[annotated_mask])\n",
    "    X = np.concatenate(pixels_list)\n",
    "    y = np.concatenate(label_list)\n",
    "    return (X,y)"
   ]
  },
  {
   "cell_type": "code",
   "execution_count": 11,
   "id": "88034333-8014-4213-9511-3345758f94bd",
   "metadata": {},
   "outputs": [
    {
     "name": "stdout",
     "output_type": "stream",
     "text": [
      "(2100256, 8)\n",
      "(2100256,)\n"
     ]
    }
   ],
   "source": [
    "# Get data and labels for training data\n",
    "X_train,y_train = collect_dataset_spectra(training_dataset)\n",
    "print(X_train.shape)\n",
    "print(y_train.shape)"
   ]
  },
  {
   "cell_type": "code",
   "execution_count": 12,
   "id": "31ae93b8-c8eb-428e-8761-737e54a9f3ab",
   "metadata": {},
   "outputs": [
    {
     "name": "stdout",
     "output_type": "stream",
     "text": [
      "(866857, 8)\n",
      "(866857,)\n"
     ]
    }
   ],
   "source": [
    "# Get data and labels for validation data\n",
    "X_val,y_val = collect_dataset_spectra(validation_dataset)\n",
    "print(X_val.shape)\n",
    "print(y_val.shape)"
   ]
  },
  {
   "cell_type": "code",
   "execution_count": 13,
   "id": "b4ddbe91-56e6-429f-8ddf-ff39a2567423",
   "metadata": {},
   "outputs": [],
   "source": [
    "# Create a random forest model\n",
    "rfc = sklearn.ensemble.RandomForestClassifier(\n",
    "    n_estimators=30,            # Ensemble of 30 decision trees\n",
    "    min_samples_leaf=10,        # Stop splitting data when number of samples < 10 (faster)\n",
    "    max_samples=0.1)            # Use only 10% of data for each estimator (faster)"
   ]
  },
  {
   "cell_type": "code",
   "execution_count": 14,
   "id": "a238b913-58ec-450a-b8e5-45fab11652f6",
   "metadata": {},
   "outputs": [
    {
     "data": {
      "text/html": [
       "<style>#sk-container-id-1 {color: black;background-color: white;}#sk-container-id-1 pre{padding: 0;}#sk-container-id-1 div.sk-toggleable {background-color: white;}#sk-container-id-1 label.sk-toggleable__label {cursor: pointer;display: block;width: 100%;margin-bottom: 0;padding: 0.3em;box-sizing: border-box;text-align: center;}#sk-container-id-1 label.sk-toggleable__label-arrow:before {content: \"▸\";float: left;margin-right: 0.25em;color: #696969;}#sk-container-id-1 label.sk-toggleable__label-arrow:hover:before {color: black;}#sk-container-id-1 div.sk-estimator:hover label.sk-toggleable__label-arrow:before {color: black;}#sk-container-id-1 div.sk-toggleable__content {max-height: 0;max-width: 0;overflow: hidden;text-align: left;background-color: #f0f8ff;}#sk-container-id-1 div.sk-toggleable__content pre {margin: 0.2em;color: black;border-radius: 0.25em;background-color: #f0f8ff;}#sk-container-id-1 input.sk-toggleable__control:checked~div.sk-toggleable__content {max-height: 200px;max-width: 100%;overflow: auto;}#sk-container-id-1 input.sk-toggleable__control:checked~label.sk-toggleable__label-arrow:before {content: \"▾\";}#sk-container-id-1 div.sk-estimator input.sk-toggleable__control:checked~label.sk-toggleable__label {background-color: #d4ebff;}#sk-container-id-1 div.sk-label input.sk-toggleable__control:checked~label.sk-toggleable__label {background-color: #d4ebff;}#sk-container-id-1 input.sk-hidden--visually {border: 0;clip: rect(1px 1px 1px 1px);clip: rect(1px, 1px, 1px, 1px);height: 1px;margin: -1px;overflow: hidden;padding: 0;position: absolute;width: 1px;}#sk-container-id-1 div.sk-estimator {font-family: monospace;background-color: #f0f8ff;border: 1px dotted black;border-radius: 0.25em;box-sizing: border-box;margin-bottom: 0.5em;}#sk-container-id-1 div.sk-estimator:hover {background-color: #d4ebff;}#sk-container-id-1 div.sk-parallel-item::after {content: \"\";width: 100%;border-bottom: 1px solid gray;flex-grow: 1;}#sk-container-id-1 div.sk-label:hover label.sk-toggleable__label {background-color: #d4ebff;}#sk-container-id-1 div.sk-serial::before {content: \"\";position: absolute;border-left: 1px solid gray;box-sizing: border-box;top: 0;bottom: 0;left: 50%;z-index: 0;}#sk-container-id-1 div.sk-serial {display: flex;flex-direction: column;align-items: center;background-color: white;padding-right: 0.2em;padding-left: 0.2em;position: relative;}#sk-container-id-1 div.sk-item {position: relative;z-index: 1;}#sk-container-id-1 div.sk-parallel {display: flex;align-items: stretch;justify-content: center;background-color: white;position: relative;}#sk-container-id-1 div.sk-item::before, #sk-container-id-1 div.sk-parallel-item::before {content: \"\";position: absolute;border-left: 1px solid gray;box-sizing: border-box;top: 0;bottom: 0;left: 50%;z-index: -1;}#sk-container-id-1 div.sk-parallel-item {display: flex;flex-direction: column;z-index: 1;position: relative;background-color: white;}#sk-container-id-1 div.sk-parallel-item:first-child::after {align-self: flex-end;width: 50%;}#sk-container-id-1 div.sk-parallel-item:last-child::after {align-self: flex-start;width: 50%;}#sk-container-id-1 div.sk-parallel-item:only-child::after {width: 0;}#sk-container-id-1 div.sk-dashed-wrapped {border: 1px dashed gray;margin: 0 0.4em 0.5em 0.4em;box-sizing: border-box;padding-bottom: 0.4em;background-color: white;}#sk-container-id-1 div.sk-label label {font-family: monospace;font-weight: bold;display: inline-block;line-height: 1.2em;}#sk-container-id-1 div.sk-label-container {text-align: center;}#sk-container-id-1 div.sk-container {/* jupyter's `normalize.less` sets `[hidden] { display: none; }` but bootstrap.min.css set `[hidden] { display: none !important; }` so we also need the `!important` here to be able to override the default hidden behavior on the sphinx rendered scikit-learn.org. See: https://github.com/scikit-learn/scikit-learn/issues/21755 */display: inline-block !important;position: relative;}#sk-container-id-1 div.sk-text-repr-fallback {display: none;}</style><div id=\"sk-container-id-1\" class=\"sk-top-container\"><div class=\"sk-text-repr-fallback\"><pre>RandomForestClassifier(max_samples=0.1, min_samples_leaf=10, n_estimators=30)</pre><b>In a Jupyter environment, please rerun this cell to show the HTML representation or trust the notebook. <br />On GitHub, the HTML representation is unable to render, please try loading this page with nbviewer.org.</b></div><div class=\"sk-container\" hidden><div class=\"sk-item\"><div class=\"sk-estimator sk-toggleable\"><input class=\"sk-toggleable__control sk-hidden--visually\" id=\"sk-estimator-id-1\" type=\"checkbox\" checked><label for=\"sk-estimator-id-1\" class=\"sk-toggleable__label sk-toggleable__label-arrow\">RandomForestClassifier</label><div class=\"sk-toggleable__content\"><pre>RandomForestClassifier(max_samples=0.1, min_samples_leaf=10, n_estimators=30)</pre></div></div></div></div></div>"
      ],
      "text/plain": [
       "RandomForestClassifier(max_samples=0.1, min_samples_leaf=10, n_estimators=30)"
      ]
     },
     "execution_count": 14,
     "metadata": {},
     "output_type": "execute_result"
    }
   ],
   "source": [
    "# Train classifier (takes about 1-2 minutes)\n",
    "rfc.fit(X_train,y_train)"
   ]
  },
  {
   "cell_type": "code",
   "execution_count": 15,
   "id": "793845aa-3c39-4f01-a546-f5615eb8f2ae",
   "metadata": {},
   "outputs": [],
   "source": [
    "# Use classifier to make predictions on validation data\n",
    "y_val_pred = rfc.predict(X_val)"
   ]
  },
  {
   "cell_type": "code",
   "execution_count": 21,
   "id": "60c137a2-ddd6-4b19-8801-50ea9717bcf5",
   "metadata": {},
   "outputs": [
    {
     "data": {
      "image/png": "[encoded data removed]",
      "text/plain": [
       "<Figure size 640x480 with 2 Axes>"
      ]
     },
     "metadata": {},
     "output_type": "display_data"
    }
   ],
   "source": [
    "# Show confusion matrix\n",
    "display_labels = ['Sand', 'Seagrass', 'Seagrass w/turf','Rockweed','Other algae']\n",
    "confusion_matrix = sklearn.metrics.confusion_matrix(y_val,y_val_pred,normalize='true')\n",
    "disp = sklearn.metrics.ConfusionMatrixDisplay(confusion_matrix*100,display_labels=display_labels)\n",
    "disp.plot(xticks_rotation='vertical',cmap='gist_earth',values_format='.1f')\n",
    "plt.title('Confusion matrix (%)')\n",
    "plt.show()"
   ]
  },
  {
   "cell_type": "markdown",
   "id": "524d271c-6f3f-4176-b124-9079f1021b98",
   "metadata": {},
   "source": [
    "We can see that\n",
    "- Sand is classified with very high accuracy\n",
    "- Among the non-sand classes there is a relatively even \"spread\" of misclassifiactions\n",
    "- The largest single misclassification is \"seagrass with turf\" pixels being misclassified as seagrass, which makes sense, since these two classes are not easily separable, especially not on a pixel-per-pixel basis\n",
    "\n",
    "NOTE: The dataset shuffle and split earlier in the notebook is random, and if the notebook is run several times, the confusion matrix will CHANGE somewhat between iterations. To get a more stable result, use e.g. K-fold crossvalidation."
   ]
  },
  {
   "cell_type": "code",
   "execution_count": 17,
   "id": "9a47c0de-b819-4627-816c-d3bca19bb31f",
   "metadata": {},
   "outputs": [],
   "source": [
    "def sample_weights_balanced(y):\n",
    "    \"\"\" Create sample weigths which are inversely proportional to class frequencies \n",
    "    \n",
    "    # Arguments:\n",
    "    y        Numpy vector with (numerical) labels\n",
    "    \n",
    "    # Returns:\n",
    "    sample_weights  Numpy vector with same shape as y\n",
    "                    Classes with a low number of samples get higher weights\n",
    "                    See 'balanced' option in\n",
    "                    https://scikit-learn.org/stable/modules/generated/sklearn.utils.class_weight.compute_sample_weight.html\n",
    "    \n",
    "    # Notes\n",
    "    - Useful in combination with score() function for various classifiers,\n",
    "    to calculate a balanced score in case on unbalanced datasets\n",
    "    \"\"\"\n",
    "    sample_weights = np.zeros(len(y),dtype=float)\n",
    "    for label in np.unique(y_val):\n",
    "        label_mask = (y_val == label)\n",
    "        sample_weights[label_mask] = len(y)/np.count_nonzero(label_mask)\n",
    "    return sample_weights"
   ]
  },
  {
   "cell_type": "code",
   "execution_count": 19,
   "id": "06202d91-829e-485a-9b42-4edd275f12be",
   "metadata": {},
   "outputs": [],
   "source": [
    "# Calculate classifier score (accuracy)\n",
    "sample_weights = sample_weights_balanced(y_val)\n",
    "val_score_unweighted = rfc.score(X_val,y_val)\n",
    "val_score_weighted = rfc.score(X_val,y_val,sample_weight=sample_weights)"
   ]
  },
  {
   "cell_type": "code",
   "execution_count": 20,
   "id": "ebe8432a-3da5-48ee-991d-0ad2805b7369",
   "metadata": {},
   "outputs": [
    {
     "name": "stdout",
     "output_type": "stream",
     "text": [
      "\"Raw\" classifier score (unweighted):     0.9314281363592841\n",
      "Balanced classifier score (weighted):    0.8647116474656409\n",
      "Mean value of confusion matrix diagonal: 0.8647116474656412\n"
     ]
    }
   ],
   "source": [
    "# Print classifier score\n",
    "print(f'\\\"Raw\\\" classifier score (unweighted):     {val_score_unweighted}')\n",
    "print(f'Balanced classifier score (weighted):    {val_score_weighted}')   \n",
    "print(f'Mean value of confusion matrix diagonal: {np.mean(confusion_matrix.diagonal())}')"
   ]
  },
  {
   "cell_type": "markdown",
   "id": "b2ea8983-273f-43c7-8bcd-d83a73851fe8",
   "metadata": {},
   "source": [
    "We can see that the balanced classifier score is lower than the unbalanced score. This is probably due to the high number of sand pixels, combined with the classifier's high performance for the sand class. The balanced score is identical to the mean value of diagonal elements in the (normalized) confusion matrix."
   ]
  }
 ],
 "metadata": {
  "kernelspec": {
   "display_name": "Python 3 (ipykernel)",
   "language": "python",
   "name": "python3"
  },
  "language_info": {
   "codemirror_mode": {
    "name": "ipython",
    "version": 3
   },
   "file_extension": ".py",
   "mimetype": "text/x-python",
   "name": "python",
   "nbconvert_exporter": "python",
   "pygments_lexer": "ipython3",
   "version": "3.10.8"
  }
 },
 "nbformat": 4,
 "nbformat_minor": 5
}
