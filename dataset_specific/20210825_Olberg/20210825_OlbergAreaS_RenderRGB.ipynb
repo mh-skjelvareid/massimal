{
 "cells": [
  {
   "cell_type": "code",
   "execution_count": 1,
   "id": "9a79da72-3f74-401c-92bb-608a6be45ad4",
   "metadata": {},
   "outputs": [],
   "source": [
    "# Imports \n",
    "import batch_process"
   ]
  },
  {
   "cell_type": "code",
   "execution_count": 3,
   "id": "f7e42bd8-29d8-4d99-953a-eceef4743a05",
   "metadata": {},
   "outputs": [],
   "source": [
    "# Paths\n",
    "#input_dir = '/media/mha114/Massimal/Larvik_Olberg/Hyperspectral/20210825/OlbergAreaS/X_Test_Stretch'\n",
    "input_dir = '/media/mha114/Massimal/Larvik_Olberg/Hyperspectral/20210825/OlbergAreaS/4_Rad_Georef_SGC'\n",
    "output_dir = '/media/mha114/Massimal/Larvik_Olberg/Hyperspectral/20210825/OlbergAreaS/4_Rad_Georef_SGC'"
   ]
  },
  {
   "cell_type": "code",
   "execution_count": 4,
   "id": "c975248f-c095-4ae0-9973-00b7e70d8fd4",
   "metadata": {},
   "outputs": [
    {
     "name": "stdout",
     "output_type": "stream",
     "text": [
      "Found 28 images in input folder.\n",
      "Loading input file /media/mha114/Massimal/Larvik_Olberg/Hyperspectral/20210825/OlbergAreaS/4_Rad_Georef_SGC/OlbergholmenS_Pika_L_1-Radiance From Raw Data-Georectify Airborne Datacube.bip.hdr\n",
      "Saving RGB render of hyperspectral file as /media/mha114/Massimal/Larvik_Olberg/Hyperspectral/20210825/OlbergAreaS/4_Rad_Georef_SGC/OlbergholmenS_Pika_L_1-Radiance From Raw Data-Georectify Airborne Datacube.png\n",
      "Loading input file /media/mha114/Massimal/Larvik_Olberg/Hyperspectral/20210825/OlbergAreaS/4_Rad_Georef_SGC/OlbergholmenS_Pika_L_10-Radiance From Raw Data-Georectify Airborne Datacube.bip.hdr\n",
      "Saving RGB render of hyperspectral file as /media/mha114/Massimal/Larvik_Olberg/Hyperspectral/20210825/OlbergAreaS/4_Rad_Georef_SGC/OlbergholmenS_Pika_L_10-Radiance From Raw Data-Georectify Airborne Datacube.png\n",
      "Loading input file /media/mha114/Massimal/Larvik_Olberg/Hyperspectral/20210825/OlbergAreaS/4_Rad_Georef_SGC/OlbergholmenS_Pika_L_11-Radiance From Raw Data-Georectify Airborne Datacube.bip.hdr\n",
      "Saving RGB render of hyperspectral file as /media/mha114/Massimal/Larvik_Olberg/Hyperspectral/20210825/OlbergAreaS/4_Rad_Georef_SGC/OlbergholmenS_Pika_L_11-Radiance From Raw Data-Georectify Airborne Datacube.png\n",
      "Loading input file /media/mha114/Massimal/Larvik_Olberg/Hyperspectral/20210825/OlbergAreaS/4_Rad_Georef_SGC/OlbergholmenS_Pika_L_12-Radiance From Raw Data-Georectify Airborne Datacube.bip.hdr\n",
      "Saving RGB render of hyperspectral file as /media/mha114/Massimal/Larvik_Olberg/Hyperspectral/20210825/OlbergAreaS/4_Rad_Georef_SGC/OlbergholmenS_Pika_L_12-Radiance From Raw Data-Georectify Airborne Datacube.png\n",
      "Loading input file /media/mha114/Massimal/Larvik_Olberg/Hyperspectral/20210825/OlbergAreaS/4_Rad_Georef_SGC/OlbergholmenS_Pika_L_13-Radiance From Raw Data-Georectify Airborne Datacube.bip.hdr\n",
      "Saving RGB render of hyperspectral file as /media/mha114/Massimal/Larvik_Olberg/Hyperspectral/20210825/OlbergAreaS/4_Rad_Georef_SGC/OlbergholmenS_Pika_L_13-Radiance From Raw Data-Georectify Airborne Datacube.png\n",
      "Loading input file /media/mha114/Massimal/Larvik_Olberg/Hyperspectral/20210825/OlbergAreaS/4_Rad_Georef_SGC/OlbergholmenS_Pika_L_14-Radiance From Raw Data-Georectify Airborne Datacube.bip.hdr\n",
      "Saving RGB render of hyperspectral file as /media/mha114/Massimal/Larvik_Olberg/Hyperspectral/20210825/OlbergAreaS/4_Rad_Georef_SGC/OlbergholmenS_Pika_L_14-Radiance From Raw Data-Georectify Airborne Datacube.png\n",
      "Loading input file /media/mha114/Massimal/Larvik_Olberg/Hyperspectral/20210825/OlbergAreaS/4_Rad_Georef_SGC/OlbergholmenS_Pika_L_15-Radiance From Raw Data-Georectify Airborne Datacube.bip.hdr\n",
      "Saving RGB render of hyperspectral file as /media/mha114/Massimal/Larvik_Olberg/Hyperspectral/20210825/OlbergAreaS/4_Rad_Georef_SGC/OlbergholmenS_Pika_L_15-Radiance From Raw Data-Georectify Airborne Datacube.png\n",
      "Loading input file /media/mha114/Massimal/Larvik_Olberg/Hyperspectral/20210825/OlbergAreaS/4_Rad_Georef_SGC/OlbergholmenS_Pika_L_16-Radiance From Raw Data-Georectify Airborne Datacube.bip.hdr\n",
      "Saving RGB render of hyperspectral file as /media/mha114/Massimal/Larvik_Olberg/Hyperspectral/20210825/OlbergAreaS/4_Rad_Georef_SGC/OlbergholmenS_Pika_L_16-Radiance From Raw Data-Georectify Airborne Datacube.png\n",
      "Loading input file /media/mha114/Massimal/Larvik_Olberg/Hyperspectral/20210825/OlbergAreaS/4_Rad_Georef_SGC/OlbergholmenS_Pika_L_17-Radiance From Raw Data-Georectify Airborne Datacube.bip.hdr\n",
      "Saving RGB render of hyperspectral file as /media/mha114/Massimal/Larvik_Olberg/Hyperspectral/20210825/OlbergAreaS/4_Rad_Georef_SGC/OlbergholmenS_Pika_L_17-Radiance From Raw Data-Georectify Airborne Datacube.png\n",
      "Loading input file /media/mha114/Massimal/Larvik_Olberg/Hyperspectral/20210825/OlbergAreaS/4_Rad_Georef_SGC/OlbergholmenS_Pika_L_18-Radiance From Raw Data-Georectify Airborne Datacube.bip.hdr\n",
      "Saving RGB render of hyperspectral file as /media/mha114/Massimal/Larvik_Olberg/Hyperspectral/20210825/OlbergAreaS/4_Rad_Georef_SGC/OlbergholmenS_Pika_L_18-Radiance From Raw Data-Georectify Airborne Datacube.png\n",
      "Loading input file /media/mha114/Massimal/Larvik_Olberg/Hyperspectral/20210825/OlbergAreaS/4_Rad_Georef_SGC/OlbergholmenS_Pika_L_19-Radiance From Raw Data-Georectify Airborne Datacube.bip.hdr\n",
      "Saving RGB render of hyperspectral file as /media/mha114/Massimal/Larvik_Olberg/Hyperspectral/20210825/OlbergAreaS/4_Rad_Georef_SGC/OlbergholmenS_Pika_L_19-Radiance From Raw Data-Georectify Airborne Datacube.png\n",
      "Loading input file /media/mha114/Massimal/Larvik_Olberg/Hyperspectral/20210825/OlbergAreaS/4_Rad_Georef_SGC/OlbergholmenS_Pika_L_2-Radiance From Raw Data-Georectify Airborne Datacube.bip.hdr\n",
      "Saving RGB render of hyperspectral file as /media/mha114/Massimal/Larvik_Olberg/Hyperspectral/20210825/OlbergAreaS/4_Rad_Georef_SGC/OlbergholmenS_Pika_L_2-Radiance From Raw Data-Georectify Airborne Datacube.png\n",
      "Loading input file /media/mha114/Massimal/Larvik_Olberg/Hyperspectral/20210825/OlbergAreaS/4_Rad_Georef_SGC/OlbergholmenS_Pika_L_20-Radiance From Raw Data-Georectify Airborne Datacube.bip.hdr\n",
      "Saving RGB render of hyperspectral file as /media/mha114/Massimal/Larvik_Olberg/Hyperspectral/20210825/OlbergAreaS/4_Rad_Georef_SGC/OlbergholmenS_Pika_L_20-Radiance From Raw Data-Georectify Airborne Datacube.png\n",
      "Loading input file /media/mha114/Massimal/Larvik_Olberg/Hyperspectral/20210825/OlbergAreaS/4_Rad_Georef_SGC/OlbergholmenS_Pika_L_21-Radiance From Raw Data-Georectify Airborne Datacube.bip.hdr\n",
      "Saving RGB render of hyperspectral file as /media/mha114/Massimal/Larvik_Olberg/Hyperspectral/20210825/OlbergAreaS/4_Rad_Georef_SGC/OlbergholmenS_Pika_L_21-Radiance From Raw Data-Georectify Airborne Datacube.png\n",
      "Loading input file /media/mha114/Massimal/Larvik_Olberg/Hyperspectral/20210825/OlbergAreaS/4_Rad_Georef_SGC/OlbergholmenS_Pika_L_22-Radiance From Raw Data-Georectify Airborne Datacube.bip.hdr\n",
      "Saving RGB render of hyperspectral file as /media/mha114/Massimal/Larvik_Olberg/Hyperspectral/20210825/OlbergAreaS/4_Rad_Georef_SGC/OlbergholmenS_Pika_L_22-Radiance From Raw Data-Georectify Airborne Datacube.png\n",
      "Loading input file /media/mha114/Massimal/Larvik_Olberg/Hyperspectral/20210825/OlbergAreaS/4_Rad_Georef_SGC/OlbergholmenS_Pika_L_23-Radiance From Raw Data-Georectify Airborne Datacube.bip.hdr\n",
      "Saving RGB render of hyperspectral file as /media/mha114/Massimal/Larvik_Olberg/Hyperspectral/20210825/OlbergAreaS/4_Rad_Georef_SGC/OlbergholmenS_Pika_L_23-Radiance From Raw Data-Georectify Airborne Datacube.png\n",
      "Loading input file /media/mha114/Massimal/Larvik_Olberg/Hyperspectral/20210825/OlbergAreaS/4_Rad_Georef_SGC/OlbergholmenS_Pika_L_24-Radiance From Raw Data-Georectify Airborne Datacube.bip.hdr\n",
      "Saving RGB render of hyperspectral file as /media/mha114/Massimal/Larvik_Olberg/Hyperspectral/20210825/OlbergAreaS/4_Rad_Georef_SGC/OlbergholmenS_Pika_L_24-Radiance From Raw Data-Georectify Airborne Datacube.png\n",
      "Loading input file /media/mha114/Massimal/Larvik_Olberg/Hyperspectral/20210825/OlbergAreaS/4_Rad_Georef_SGC/OlbergholmenS_Pika_L_25-Radiance From Raw Data-Georectify Airborne Datacube.bip.hdr\n",
      "Saving RGB render of hyperspectral file as /media/mha114/Massimal/Larvik_Olberg/Hyperspectral/20210825/OlbergAreaS/4_Rad_Georef_SGC/OlbergholmenS_Pika_L_25-Radiance From Raw Data-Georectify Airborne Datacube.png\n",
      "Loading input file /media/mha114/Massimal/Larvik_Olberg/Hyperspectral/20210825/OlbergAreaS/4_Rad_Georef_SGC/OlbergholmenS_Pika_L_26-Radiance From Raw Data-Georectify Airborne Datacube.bip.hdr\n",
      "Saving RGB render of hyperspectral file as /media/mha114/Massimal/Larvik_Olberg/Hyperspectral/20210825/OlbergAreaS/4_Rad_Georef_SGC/OlbergholmenS_Pika_L_26-Radiance From Raw Data-Georectify Airborne Datacube.png\n",
      "Loading input file /media/mha114/Massimal/Larvik_Olberg/Hyperspectral/20210825/OlbergAreaS/4_Rad_Georef_SGC/OlbergholmenS_Pika_L_27-Radiance From Raw Data-Georectify Airborne Datacube.bip.hdr\n",
      "Saving RGB render of hyperspectral file as /media/mha114/Massimal/Larvik_Olberg/Hyperspectral/20210825/OlbergAreaS/4_Rad_Georef_SGC/OlbergholmenS_Pika_L_27-Radiance From Raw Data-Georectify Airborne Datacube.png\n",
      "Loading input file /media/mha114/Massimal/Larvik_Olberg/Hyperspectral/20210825/OlbergAreaS/4_Rad_Georef_SGC/OlbergholmenS_Pika_L_28-Radiance From Raw Data-Georectify Airborne Datacube.bip.hdr\n",
      "Saving RGB render of hyperspectral file as /media/mha114/Massimal/Larvik_Olberg/Hyperspectral/20210825/OlbergAreaS/4_Rad_Georef_SGC/OlbergholmenS_Pika_L_28-Radiance From Raw Data-Georectify Airborne Datacube.png\n",
      "Loading input file /media/mha114/Massimal/Larvik_Olberg/Hyperspectral/20210825/OlbergAreaS/4_Rad_Georef_SGC/OlbergholmenS_Pika_L_3-Radiance From Raw Data-Georectify Airborne Datacube.bip.hdr\n"
     ]
    },
    {
     "name": "stderr",
     "output_type": "stream",
     "text": [
      "/home/mha114/Dropbox/Python/massimal/tools/batch_process.py:181: UserWarning: /media/mha114/Massimal/Larvik_Olberg/Hyperspectral/20210825/OlbergAreaS/4_Rad_Georef_SGC/OlbergholmenS_Pika_L_28-Radiance From Raw Data-Georectify Airborne Datacube.png is a low contrast image\n",
      "  im_rgb_sc = preprocess.inpaint_masked(im_rgb_sc,mask_diff)\n"
     ]
    },
    {
     "name": "stdout",
     "output_type": "stream",
     "text": [
      "Saving RGB render of hyperspectral file as /media/mha114/Massimal/Larvik_Olberg/Hyperspectral/20210825/OlbergAreaS/4_Rad_Georef_SGC/OlbergholmenS_Pika_L_3-Radiance From Raw Data-Georectify Airborne Datacube.png\n",
      "Loading input file /media/mha114/Massimal/Larvik_Olberg/Hyperspectral/20210825/OlbergAreaS/4_Rad_Georef_SGC/OlbergholmenS_Pika_L_4-Radiance From Raw Data-Georectify Airborne Datacube.bip.hdr\n",
      "Saving RGB render of hyperspectral file as /media/mha114/Massimal/Larvik_Olberg/Hyperspectral/20210825/OlbergAreaS/4_Rad_Georef_SGC/OlbergholmenS_Pika_L_4-Radiance From Raw Data-Georectify Airborne Datacube.png\n",
      "Loading input file /media/mha114/Massimal/Larvik_Olberg/Hyperspectral/20210825/OlbergAreaS/4_Rad_Georef_SGC/OlbergholmenS_Pika_L_5-Radiance From Raw Data-Georectify Airborne Datacube.bip.hdr\n",
      "Saving RGB render of hyperspectral file as /media/mha114/Massimal/Larvik_Olberg/Hyperspectral/20210825/OlbergAreaS/4_Rad_Georef_SGC/OlbergholmenS_Pika_L_5-Radiance From Raw Data-Georectify Airborne Datacube.png\n",
      "Loading input file /media/mha114/Massimal/Larvik_Olberg/Hyperspectral/20210825/OlbergAreaS/4_Rad_Georef_SGC/OlbergholmenS_Pika_L_6-Radiance From Raw Data-Georectify Airborne Datacube.bip.hdr\n",
      "Saving RGB render of hyperspectral file as /media/mha114/Massimal/Larvik_Olberg/Hyperspectral/20210825/OlbergAreaS/4_Rad_Georef_SGC/OlbergholmenS_Pika_L_6-Radiance From Raw Data-Georectify Airborne Datacube.png\n",
      "Loading input file /media/mha114/Massimal/Larvik_Olberg/Hyperspectral/20210825/OlbergAreaS/4_Rad_Georef_SGC/OlbergholmenS_Pika_L_7-Radiance From Raw Data-Georectify Airborne Datacube.bip.hdr\n",
      "Saving RGB render of hyperspectral file as /media/mha114/Massimal/Larvik_Olberg/Hyperspectral/20210825/OlbergAreaS/4_Rad_Georef_SGC/OlbergholmenS_Pika_L_7-Radiance From Raw Data-Georectify Airborne Datacube.png\n",
      "Loading input file /media/mha114/Massimal/Larvik_Olberg/Hyperspectral/20210825/OlbergAreaS/4_Rad_Georef_SGC/OlbergholmenS_Pika_L_8-Radiance From Raw Data-Georectify Airborne Datacube.bip.hdr\n",
      "Saving RGB render of hyperspectral file as /media/mha114/Massimal/Larvik_Olberg/Hyperspectral/20210825/OlbergAreaS/4_Rad_Georef_SGC/OlbergholmenS_Pika_L_8-Radiance From Raw Data-Georectify Airborne Datacube.png\n",
      "Loading input file /media/mha114/Massimal/Larvik_Olberg/Hyperspectral/20210825/OlbergAreaS/4_Rad_Georef_SGC/OlbergholmenS_Pika_L_9-Radiance From Raw Data-Georectify Airborne Datacube.bip.hdr\n",
      "Saving RGB render of hyperspectral file as /media/mha114/Massimal/Larvik_Olberg/Hyperspectral/20210825/OlbergAreaS/4_Rad_Georef_SGC/OlbergholmenS_Pika_L_9-Radiance From Raw Data-Georectify Airborne Datacube.png\n"
     ]
    }
   ],
   "source": [
    "# Render\n",
    "batch_process.envi_rgb_render(input_dir,output_dir,inpaint=True)"
   ]
  }
 ],
 "metadata": {
  "kernelspec": {
   "display_name": "Python 3",
   "language": "python",
   "name": "python3"
  },
  "language_info": {
   "codemirror_mode": {
    "name": "ipython",
    "version": 3
   },
   "file_extension": ".py",
   "mimetype": "text/x-python",
   "name": "python",
   "nbconvert_exporter": "python",
   "pygments_lexer": "ipython3",
   "version": "3.9.4"
  }
 },
 "nbformat": 4,
 "nbformat_minor": 5
}
