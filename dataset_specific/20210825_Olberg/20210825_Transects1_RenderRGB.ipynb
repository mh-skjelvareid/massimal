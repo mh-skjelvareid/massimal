{
 "cells": [
  {
   "cell_type": "code",
   "execution_count": 1,
   "id": "b24202cf-a3c0-4c98-ba82-d42af9de8265",
   "metadata": {},
   "outputs": [],
   "source": [
    "import batch_process"
   ]
  },
  {
   "cell_type": "code",
   "execution_count": 2,
   "id": "6eb9ef1a-95cc-4a77-8487-3ac0632a5cad",
   "metadata": {},
   "outputs": [],
   "source": [
    "input_dir = '/media/mha114/Massimal/Larvik_Olberg/Hyperspectral/20210825/Transects-1/4_Rad_Georef_SGC'"
   ]
  },
  {
   "cell_type": "code",
   "execution_count": 3,
   "id": "ee017bf2-e76a-40e8-8225-9c459384cf96",
   "metadata": {},
   "outputs": [
    {
     "name": "stdout",
     "output_type": "stream",
     "text": [
      "Found 21 images in input folder.\n",
      "Loading input file /media/mha114/Massimal/Larvik_Olberg/Hyperspectral/20210825/Transects-1/4_Rad_Georef_SGC/manual_Pika_L_1-Radiance From Raw Data-Georectify Airborne Datacube.bip.hdr\n",
      "Saving RGB render of hyperspectral file as /media/mha114/Massimal/Larvik_Olberg/Hyperspectral/20210825/Transects-1/4_Rad_Georef_SGC/manual_Pika_L_1-Radiance From Raw Data-Georectify Airborne Datacube.png\n",
      "Loading input file /media/mha114/Massimal/Larvik_Olberg/Hyperspectral/20210825/Transects-1/4_Rad_Georef_SGC/manual_Pika_L_10-Radiance From Raw Data-Georectify Airborne Datacube.bip.hdr\n",
      "Saving RGB render of hyperspectral file as /media/mha114/Massimal/Larvik_Olberg/Hyperspectral/20210825/Transects-1/4_Rad_Georef_SGC/manual_Pika_L_10-Radiance From Raw Data-Georectify Airborne Datacube.png\n",
      "Loading input file /media/mha114/Massimal/Larvik_Olberg/Hyperspectral/20210825/Transects-1/4_Rad_Georef_SGC/manual_Pika_L_11-Radiance From Raw Data-Georectify Airborne Datacube.bip.hdr\n",
      "Saving RGB render of hyperspectral file as /media/mha114/Massimal/Larvik_Olberg/Hyperspectral/20210825/Transects-1/4_Rad_Georef_SGC/manual_Pika_L_11-Radiance From Raw Data-Georectify Airborne Datacube.png\n",
      "Loading input file /media/mha114/Massimal/Larvik_Olberg/Hyperspectral/20210825/Transects-1/4_Rad_Georef_SGC/manual_Pika_L_12-Radiance From Raw Data-Georectify Airborne Datacube.bip.hdr\n",
      "Saving RGB render of hyperspectral file as /media/mha114/Massimal/Larvik_Olberg/Hyperspectral/20210825/Transects-1/4_Rad_Georef_SGC/manual_Pika_L_12-Radiance From Raw Data-Georectify Airborne Datacube.png\n",
      "Loading input file /media/mha114/Massimal/Larvik_Olberg/Hyperspectral/20210825/Transects-1/4_Rad_Georef_SGC/manual_Pika_L_13-Radiance From Raw Data-Georectify Airborne Datacube.bip.hdr\n",
      "Saving RGB render of hyperspectral file as /media/mha114/Massimal/Larvik_Olberg/Hyperspectral/20210825/Transects-1/4_Rad_Georef_SGC/manual_Pika_L_13-Radiance From Raw Data-Georectify Airborne Datacube.png\n",
      "Loading input file /media/mha114/Massimal/Larvik_Olberg/Hyperspectral/20210825/Transects-1/4_Rad_Georef_SGC/manual_Pika_L_14-Radiance From Raw Data-Georectify Airborne Datacube.bip.hdr\n",
      "Saving RGB render of hyperspectral file as /media/mha114/Massimal/Larvik_Olberg/Hyperspectral/20210825/Transects-1/4_Rad_Georef_SGC/manual_Pika_L_14-Radiance From Raw Data-Georectify Airborne Datacube.png\n",
      "Loading input file /media/mha114/Massimal/Larvik_Olberg/Hyperspectral/20210825/Transects-1/4_Rad_Georef_SGC/manual_Pika_L_15-Radiance From Raw Data-Georectify Airborne Datacube.bip.hdr\n",
      "Saving RGB render of hyperspectral file as /media/mha114/Massimal/Larvik_Olberg/Hyperspectral/20210825/Transects-1/4_Rad_Georef_SGC/manual_Pika_L_15-Radiance From Raw Data-Georectify Airborne Datacube.png\n",
      "Loading input file /media/mha114/Massimal/Larvik_Olberg/Hyperspectral/20210825/Transects-1/4_Rad_Georef_SGC/manual_Pika_L_16-Radiance From Raw Data-Georectify Airborne Datacube.bip.hdr\n",
      "Saving RGB render of hyperspectral file as /media/mha114/Massimal/Larvik_Olberg/Hyperspectral/20210825/Transects-1/4_Rad_Georef_SGC/manual_Pika_L_16-Radiance From Raw Data-Georectify Airborne Datacube.png\n",
      "Loading input file /media/mha114/Massimal/Larvik_Olberg/Hyperspectral/20210825/Transects-1/4_Rad_Georef_SGC/manual_Pika_L_17-Radiance From Raw Data-Georectify Airborne Datacube.bip.hdr\n",
      "Saving RGB render of hyperspectral file as /media/mha114/Massimal/Larvik_Olberg/Hyperspectral/20210825/Transects-1/4_Rad_Georef_SGC/manual_Pika_L_17-Radiance From Raw Data-Georectify Airborne Datacube.png\n",
      "Loading input file /media/mha114/Massimal/Larvik_Olberg/Hyperspectral/20210825/Transects-1/4_Rad_Georef_SGC/manual_Pika_L_18-Radiance From Raw Data-Georectify Airborne Datacube.bip.hdr\n",
      "Saving RGB render of hyperspectral file as /media/mha114/Massimal/Larvik_Olberg/Hyperspectral/20210825/Transects-1/4_Rad_Georef_SGC/manual_Pika_L_18-Radiance From Raw Data-Georectify Airborne Datacube.png\n",
      "Loading input file /media/mha114/Massimal/Larvik_Olberg/Hyperspectral/20210825/Transects-1/4_Rad_Georef_SGC/manual_Pika_L_19-Radiance From Raw Data-Georectify Airborne Datacube.bip.hdr\n",
      "Saving RGB render of hyperspectral file as /media/mha114/Massimal/Larvik_Olberg/Hyperspectral/20210825/Transects-1/4_Rad_Georef_SGC/manual_Pika_L_19-Radiance From Raw Data-Georectify Airborne Datacube.png\n",
      "Loading input file /media/mha114/Massimal/Larvik_Olberg/Hyperspectral/20210825/Transects-1/4_Rad_Georef_SGC/manual_Pika_L_2-Radiance From Raw Data-Georectify Airborne Datacube.bip.hdr\n",
      "Saving RGB render of hyperspectral file as /media/mha114/Massimal/Larvik_Olberg/Hyperspectral/20210825/Transects-1/4_Rad_Georef_SGC/manual_Pika_L_2-Radiance From Raw Data-Georectify Airborne Datacube.png\n",
      "Loading input file /media/mha114/Massimal/Larvik_Olberg/Hyperspectral/20210825/Transects-1/4_Rad_Georef_SGC/manual_Pika_L_20-Radiance From Raw Data-Georectify Airborne Datacube.bip.hdr\n",
      "Saving RGB render of hyperspectral file as /media/mha114/Massimal/Larvik_Olberg/Hyperspectral/20210825/Transects-1/4_Rad_Georef_SGC/manual_Pika_L_20-Radiance From Raw Data-Georectify Airborne Datacube.png\n",
      "Loading input file /media/mha114/Massimal/Larvik_Olberg/Hyperspectral/20210825/Transects-1/4_Rad_Georef_SGC/manual_Pika_L_21-Radiance From Raw Data-Georectify Airborne Datacube.bip.hdr\n",
      "Saving RGB render of hyperspectral file as /media/mha114/Massimal/Larvik_Olberg/Hyperspectral/20210825/Transects-1/4_Rad_Georef_SGC/manual_Pika_L_21-Radiance From Raw Data-Georectify Airborne Datacube.png\n",
      "Loading input file /media/mha114/Massimal/Larvik_Olberg/Hyperspectral/20210825/Transects-1/4_Rad_Georef_SGC/manual_Pika_L_3-Radiance From Raw Data-Georectify Airborne Datacube.bip.hdr\n",
      "Saving RGB render of hyperspectral file as /media/mha114/Massimal/Larvik_Olberg/Hyperspectral/20210825/Transects-1/4_Rad_Georef_SGC/manual_Pika_L_3-Radiance From Raw Data-Georectify Airborne Datacube.png\n",
      "Loading input file /media/mha114/Massimal/Larvik_Olberg/Hyperspectral/20210825/Transects-1/4_Rad_Georef_SGC/manual_Pika_L_4-Radiance From Raw Data-Georectify Airborne Datacube.bip.hdr\n",
      "Saving RGB render of hyperspectral file as /media/mha114/Massimal/Larvik_Olberg/Hyperspectral/20210825/Transects-1/4_Rad_Georef_SGC/manual_Pika_L_4-Radiance From Raw Data-Georectify Airborne Datacube.png\n",
      "Loading input file /media/mha114/Massimal/Larvik_Olberg/Hyperspectral/20210825/Transects-1/4_Rad_Georef_SGC/manual_Pika_L_5-Radiance From Raw Data-Georectify Airborne Datacube.bip.hdr\n",
      "Saving RGB render of hyperspectral file as /media/mha114/Massimal/Larvik_Olberg/Hyperspectral/20210825/Transects-1/4_Rad_Georef_SGC/manual_Pika_L_5-Radiance From Raw Data-Georectify Airborne Datacube.png\n",
      "Loading input file /media/mha114/Massimal/Larvik_Olberg/Hyperspectral/20210825/Transects-1/4_Rad_Georef_SGC/manual_Pika_L_6-Radiance From Raw Data-Georectify Airborne Datacube.bip.hdr\n",
      "Saving RGB render of hyperspectral file as /media/mha114/Massimal/Larvik_Olberg/Hyperspectral/20210825/Transects-1/4_Rad_Georef_SGC/manual_Pika_L_6-Radiance From Raw Data-Georectify Airborne Datacube.png\n",
      "Loading input file /media/mha114/Massimal/Larvik_Olberg/Hyperspectral/20210825/Transects-1/4_Rad_Georef_SGC/manual_Pika_L_7-Radiance From Raw Data-Georectify Airborne Datacube.bip.hdr\n",
      "Saving RGB render of hyperspectral file as /media/mha114/Massimal/Larvik_Olberg/Hyperspectral/20210825/Transects-1/4_Rad_Georef_SGC/manual_Pika_L_7-Radiance From Raw Data-Georectify Airborne Datacube.png\n",
      "Loading input file /media/mha114/Massimal/Larvik_Olberg/Hyperspectral/20210825/Transects-1/4_Rad_Georef_SGC/manual_Pika_L_8-Radiance From Raw Data-Georectify Airborne Datacube.bip.hdr\n",
      "Saving RGB render of hyperspectral file as /media/mha114/Massimal/Larvik_Olberg/Hyperspectral/20210825/Transects-1/4_Rad_Georef_SGC/manual_Pika_L_8-Radiance From Raw Data-Georectify Airborne Datacube.png\n",
      "Loading input file /media/mha114/Massimal/Larvik_Olberg/Hyperspectral/20210825/Transects-1/4_Rad_Georef_SGC/manual_Pika_L_9-Radiance From Raw Data-Georectify Airborne Datacube.bip.hdr\n",
      "Saving RGB render of hyperspectral file as /media/mha114/Massimal/Larvik_Olberg/Hyperspectral/20210825/Transects-1/4_Rad_Georef_SGC/manual_Pika_L_9-Radiance From Raw Data-Georectify Airborne Datacube.png\n"
     ]
    }
   ],
   "source": [
    "batch_process.envi_rgb_render(input_dir,inpaint=True)"
   ]
  }
 ],
 "metadata": {
  "kernelspec": {
   "display_name": "Python 3",
   "language": "python",
   "name": "python3"
  },
  "language_info": {
   "codemirror_mode": {
    "name": "ipython",
    "version": 3
   },
   "file_extension": ".py",
   "mimetype": "text/x-python",
   "name": "python",
   "nbconvert_exporter": "python",
   "pygments_lexer": "ipython3",
   "version": "3.9.4"
  }
 },
 "nbformat": 4,
 "nbformat_minor": 5
}
