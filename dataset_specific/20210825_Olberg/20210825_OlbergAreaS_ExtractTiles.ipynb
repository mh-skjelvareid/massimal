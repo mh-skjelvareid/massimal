{
 "cells": [
  {
   "cell_type": "code",
   "execution_count": 1,
   "id": "d700a982-aaa9-43c4-9d8b-09927ad56db2",
   "metadata": {},
   "outputs": [],
   "source": [
    "# Disable TensorFlow debugging info and warnings\n",
    "import os\n",
    "os.environ['TF_CPP_MIN_LOG_LEVEL'] = '2'  # 2: Info and warnings not displayed "
   ]
  },
  {
   "cell_type": "code",
   "execution_count": 2,
   "id": "96d8b483-2c1f-47ad-b881-cb88b0890cf2",
   "metadata": {},
   "outputs": [],
   "source": [
    "import tensorflow as tf\n",
    "import numpy as np\n",
    "import skimage.io\n",
    "import matplotlib.pyplot as plt\n",
    "import pathlib\n",
    "import tqdm\n",
    "import annotation, misc, hyspec_cnn, hyspec_io"
   ]
  },
  {
   "cell_type": "code",
   "execution_count": 3,
   "id": "7e8793f4-e75d-4ed0-80b4-1ac0265f515e",
   "metadata": {},
   "outputs": [],
   "source": [
    "# Disable GPUs\n",
    "tf.config.set_visible_devices([], 'GPU')\n",
    "visible_devices = tf.config.get_visible_devices()\n",
    "for device in visible_devices:\n",
    "    assert device.device_type != 'GPU'"
   ]
  },
  {
   "cell_type": "code",
   "execution_count": 4,
   "id": "aa8aa874-12ea-4a54-ab63-2587a792b721",
   "metadata": {},
   "outputs": [],
   "source": [
    "# Paths\n",
    "json_gray = pathlib.Path('/media/mha114/Massimal/Larvik_Olberg/Hyperspectral/20210825/OlbergAreaS/M_Annotation/20210825_Olbergholmen_Annotation_20230228_gray/label_classes.json')\n",
    "annotation_dir = pathlib.Path('/media/mha114/Massimal/Larvik_Olberg/Hyperspectral/20210825/OlbergAreaS/M_Annotation/20210825_Olbergholmen_Annotation_20230228_gray/OlbergAreaS')\n",
    "hyspec_dir = pathlib.Path('/media/mha114/Massimal/Larvik_Olberg/Hyperspectral/20210825/OlbergAreaS/4_Rad_Georef_SGC')\n",
    "tiles_dir = pathlib.Path('/media/mha114/Massimal/Larvik_Olberg/Hyperspectral/20210825/OlbergAreaS/4b_Rad_Georef_SGC_Tiles')"
   ]
  },
  {
   "cell_type": "code",
   "execution_count": 5,
   "id": "85e8a7a2-16ec-41fb-a4d4-be91529d85a6",
   "metadata": {},
   "outputs": [],
   "source": [
    "# Parameters\n",
    "tile_shape = (128,128)\n",
    "\n",
    "# Instructions for merging / extracting classes\n",
    "classes_to_merge = [['Zostera marina - dominant','Zostera marina - normal','Zostera marina - sparse'],\n",
    "                    ['Rockweed','Rockweed with turf algae','Fucus serratus','Saccharina latissima'],\n",
    "                    ['Turf algae - dominant','Turf algae - normal','Turf algae - sparse','Aegagropila (algae ball)']]\n",
    "merged_class_names = ['Zostera marina',\n",
    "                      'Rockweed',\n",
    "                      'Other algae']\n",
    "classes_to_extract = ['Sand',\n",
    "                      'Zostera marina',\n",
    "                      'Zostera marina with turf algae',\n",
    "                      'Rockweed',\n",
    "                      'Other algae',\n",
    "                      'Zostera marina - NGT',\n",
    "                      'Rockweed - NGT',\n",
    "                      'Other algae - NGT']"
   ]
  },
  {
   "cell_type": "code",
   "execution_count": 6,
   "id": "fa62ec14-3bde-4d83-89fd-d7fb98c02f13",
   "metadata": {},
   "outputs": [],
   "source": [
    "# Read annotation metadata file, show classes\n",
    "class_dict = annotation.read_hasty_metadata(json_gray)"
   ]
  },
  {
   "cell_type": "code",
   "execution_count": 7,
   "id": "3f6af3e6-00fe-4f6a-aeb5-dbfb9a56a3d1",
   "metadata": {},
   "outputs": [
    {
     "name": "stderr",
     "output_type": "stream",
     "text": [
      "100%|████████████████████████████████████████████████████████| 18/18 [03:43<00:00, 12.41s/it]\n"
     ]
    }
   ],
   "source": [
    "ann_files = misc.file_pattern_search(str(annotation_dir),'*.png')\n",
    "for file in tqdm.tqdm(ann_files):\n",
    "    # Construct input/output paths for current file\n",
    "    file_stem = pathlib.Path(file).stem\n",
    "    png_path = annotation_dir / (file_stem + '.png')\n",
    "    hyspec_path = hyspec_dir / (file_stem + '.bip.hdr')\n",
    "    tiles_path = tiles_dir / file_stem\n",
    "    \n",
    "    # Read hyperspectral image\n",
    "    hyspec_im,_,_,_ = hyspec_io.load_envi_image(str(hyspec_path))\n",
    "    nonzero_mask = np.any(hyspec_im!=0,axis=2)\n",
    "    \n",
    "    # Read and filter image (class mask)\n",
    "    class_mask = skimage.io.imread(str(png_path)) * nonzero_mask\n",
    "    merged_class_dict, merged_class_mask = annotation.merge_classes_with_mask(\n",
    "        class_dict,class_mask,classes_to_merge,merged_class_names)\n",
    "    filtered_class_dict, filtered_class_mask = annotation.extract_subset(\n",
    "        merged_class_dict,merged_class_mask,classes_to_extract)\n",
    "    \n",
    "    # Extract tiles\n",
    "    tiles = hyspec_cnn.labeled_image_to_tensor_tiles(hyspec_im,filtered_class_mask,tile_shape)\n",
    "    \n",
    "    # Create dataset and save as file(s)\n",
    "    dataset = tf.data.Dataset.from_tensor_slices(tiles)\n",
    "    tf.data.experimental.save(dataset,str(tiles_path))\n",
    "    \n",
    "# Save \"filtered\" class dict \n",
    "filtered_class_dict_path = tiles_dir / 'tile_classes.json'\n",
    "annotation.save_class_dict(filtered_class_dict,str(filtered_class_dict_path))"
   ]
  }
 ],
 "metadata": {
  "kernelspec": {
   "display_name": "Python 3 (ipykernel)",
   "language": "python",
   "name": "python3"
  },
  "language_info": {
   "codemirror_mode": {
    "name": "ipython",
    "version": 3
   },
   "file_extension": ".py",
   "mimetype": "text/x-python",
   "name": "python",
   "nbconvert_exporter": "python",
   "pygments_lexer": "ipython3",
   "version": "3.9.13"
  }
 },
 "nbformat": 4,
 "nbformat_minor": 5
}
