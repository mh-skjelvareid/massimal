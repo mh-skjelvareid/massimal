{
 "cells": [
  {
   "cell_type": "code",
   "execution_count": 1,
   "id": "d91f6c3e-ad98-4364-9d8e-1ab418288ccf",
   "metadata": {},
   "outputs": [],
   "source": [
    "# Disable TensorFlow debugging info and warnings\n",
    "import os\n",
    "os.environ['TF_CPP_MIN_LOG_LEVEL'] = '2'  # 2: Info and warnings not displayed "
   ]
  },
  {
   "cell_type": "code",
   "execution_count": 2,
   "id": "603a66fb-9145-4eb4-ad67-24ffcb96b20a",
   "metadata": {},
   "outputs": [],
   "source": [
    "import tensorflow as tf\n",
    "import numpy as np\n",
    "import skimage.io\n",
    "import matplotlib.pyplot as plt\n",
    "import pathlib\n",
    "import tqdm\n",
    "import annotation, misc, hyspec_cnn, hyspec_io"
   ]
  },
  {
   "cell_type": "code",
   "execution_count": 3,
   "id": "31957a16-69d8-4f64-982d-1a5972839ce9",
   "metadata": {},
   "outputs": [
    {
     "name": "stdout",
     "output_type": "stream",
     "text": [
      "2.9.1\n"
     ]
    }
   ],
   "source": [
    "# Disable GPUs\n",
    "tf.config.set_visible_devices([], 'GPU')\n",
    "visible_devices = tf.config.get_visible_devices()\n",
    "for device in visible_devices:\n",
    "    assert device.device_type != 'GPU'\n",
    "print(tf.version.VERSION)"
   ]
  },
  {
   "cell_type": "code",
   "execution_count": 4,
   "id": "16fef15e-1944-4bc0-91d3-47c11ad5caf7",
   "metadata": {},
   "outputs": [],
   "source": [
    "# Paths\n",
    "json_gray = pathlib.Path('/media/mha114/Massimal/Larvik_Olberg/Hyperspectral/20210825/OlbergAreaS/M_Annotation/20210825_Olbergholmen_Annotation_20230228_gray/label_classes.json')\n",
    "annotation_dir = pathlib.Path('/media/mha114/Massimal/Larvik_Olberg/Hyperspectral/20210825/OlbergAreaS/M_Annotation/20210825_Olbergholmen_Annotation_20230228_gray/OlbergAreaS')\n",
    "hyspec_dir = pathlib.Path('/media/mha114/Massimal/Larvik_Olberg/Hyperspectral/20210825/OlbergAreaS/4_Rad_Georef_SGC')\n",
    "spectra_dir = pathlib.Path('/media/mha114/Massimal/Larvik_Olberg/Hyperspectral/20210825/OlbergAreaS/4c_Rad_Georef_SGC_Spectra')"
   ]
  },
  {
   "cell_type": "code",
   "execution_count": 5,
   "id": "3b0d4be2-358d-4140-be73-54d5c5ff06da",
   "metadata": {},
   "outputs": [],
   "source": [
    "# Parameters\n",
    "\n",
    "# Instructions for merging / extracting classes\n",
    "classes_to_merge = [['Zostera marina - dominant','Zostera marina - normal','Zostera marina - sparse'],\n",
    "                    ['Rockweed','Rockweed with turf algae','Fucus serratus','Saccharina latissima'],\n",
    "                    ['Turf algae - dominant','Turf algae - normal','Turf algae - sparse','Aegagropila (algae ball)']]\n",
    "merged_class_names = ['Zostera marina',\n",
    "                      'Rockweed',\n",
    "                      'Other algae']\n",
    "classes_to_extract = ['Sand',\n",
    "                      'Zostera marina',\n",
    "                      'Zostera marina with turf algae',\n",
    "                      'Rockweed',\n",
    "                      'Other algae',\n",
    "                      'Zostera marina - NGT',\n",
    "                      'Rockweed - NGT',\n",
    "                      'Other algae - NGT']"
   ]
  },
  {
   "cell_type": "code",
   "execution_count": 6,
   "id": "1d79c1f3-fda2-4b62-97c9-032e9e58d496",
   "metadata": {},
   "outputs": [],
   "source": [
    "# Read annotation metadata file, show classes\n",
    "class_dict = annotation.read_hasty_metadata(json_gray)"
   ]
  },
  {
   "cell_type": "code",
   "execution_count": 7,
   "id": "14d26f2d-6098-41b0-bed2-2119ce67508a",
   "metadata": {},
   "outputs": [
    {
     "data": {
      "text/plain": [
       "{'Sand': 1,\n",
       " 'Zostera marina - NGT': 2,\n",
       " 'Other algae - NGT': 3,\n",
       " 'Rockweed - NGT': 4,\n",
       " 'Zostera marina - dominant': 5,\n",
       " 'Mud': 6,\n",
       " 'Gravel': 7,\n",
       " 'Terrestrial': 8,\n",
       " 'Zostera marina - normal': 9,\n",
       " 'Zostera marina - sparse': 10,\n",
       " 'Turf algae - dominant': 11,\n",
       " 'Zostera marina with turf algae': 12,\n",
       " 'Turf algae - normal': 13,\n",
       " 'Turf algae - sparse': 14,\n",
       " 'Fucus serratus': 15,\n",
       " 'Rockweed with turf algae': 16,\n",
       " 'Rockweed': 17,\n",
       " 'Mixed algae classes on soft substrate': 18,\n",
       " 'Aegagropila (algae ball)': 19,\n",
       " 'Saccharina latissima': 20}"
      ]
     },
     "execution_count": 7,
     "metadata": {},
     "output_type": "execute_result"
    }
   ],
   "source": [
    "class_dict"
   ]
  },
  {
   "cell_type": "code",
   "execution_count": 8,
   "id": "5c927259-8235-467a-a89f-434956ddb507",
   "metadata": {},
   "outputs": [],
   "source": [
    "ann_files = misc.file_pattern_search(str(annotation_dir),'*.png')"
   ]
  },
  {
   "cell_type": "code",
   "execution_count": 9,
   "id": "86c7e114-0b4e-4fa8-bc76-7bc5dcb645f4",
   "metadata": {},
   "outputs": [
    {
     "name": "stderr",
     "output_type": "stream",
     "text": [
      "100%|████████████████████████████████████████████████████████| 18/18 [02:32<00:00,  8.49s/it]\n"
     ]
    }
   ],
   "source": [
    "for file in tqdm.tqdm(ann_files):\n",
    "    # Construct input/output paths for current file\n",
    "    file_stem = pathlib.Path(file).stem\n",
    "    png_path = annotation_dir / (file_stem + '.png')\n",
    "    hyspec_path = hyspec_dir / (file_stem + '.bip.hdr')\n",
    "    spectra_path = spectra_dir / file_stem\n",
    "    \n",
    "    # Read hyperspectral image\n",
    "    hyspec_im,_,_,_ = hyspec_io.load_envi_image(str(hyspec_path))\n",
    "    nonzero_mask = np.any(hyspec_im!=0,axis=2)\n",
    "    \n",
    "    # Read and filter image (class mask)\n",
    "    class_mask = skimage.io.imread(str(png_path)) * nonzero_mask\n",
    "    merged_class_dict, merged_class_mask = annotation.merge_classes_with_mask(\n",
    "        class_dict,class_mask,classes_to_merge,merged_class_names)\n",
    "    filtered_class_dict, filtered_class_mask = annotation.extract_subset(\n",
    "        merged_class_dict,merged_class_mask,classes_to_extract)\n",
    "    \n",
    "    # Extract spectra\n",
    "    spectra = hyspec_im[filtered_class_mask!=0]\n",
    "    labels = filtered_class_mask[filtered_class_mask!=0]\n",
    "    \n",
    "    # Create dataset and save as file(s)\n",
    "    dataset = tf.data.Dataset.from_tensor_slices((spectra,labels))\n",
    "    tf.data.experimental.save(dataset,str(spectra_path))\n",
    "    \n",
    "# Save \"filtered\" class dict \n",
    "filtered_class_dict_path = spectra_dir / 'spectra_classes.json'\n",
    "annotation.save_class_dict(filtered_class_dict,str(filtered_class_dict_path))"
   ]
  },
  {
   "cell_type": "code",
   "execution_count": null,
   "id": "da7d711d-13cc-460c-99f4-c89954fa219f",
   "metadata": {},
   "outputs": [],
   "source": []
  }
 ],
 "metadata": {
  "kernelspec": {
   "display_name": "Python 3 (ipykernel)",
   "language": "python",
   "name": "python3"
  },
  "language_info": {
   "codemirror_mode": {
    "name": "ipython",
    "version": 3
   },
   "file_extension": ".py",
   "mimetype": "text/x-python",
   "name": "python",
   "nbconvert_exporter": "python",
   "pygments_lexer": "ipython3",
   "version": "3.9.13"
  }
 },
 "nbformat": 4,
 "nbformat_minor": 5
}
