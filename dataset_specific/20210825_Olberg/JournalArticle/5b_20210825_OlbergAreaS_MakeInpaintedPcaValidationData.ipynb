{
 "cells": [
  {
   "cell_type": "code",
   "execution_count": 1,
   "id": "d2b1d33b-8b06-47b0-a09e-549f29762d3a",
   "metadata": {},
   "outputs": [],
   "source": [
    "# Disable TensorFlow debugging info and warnings\n",
    "import os\n",
    "os.environ['TF_CPP_MIN_LOG_LEVEL'] = '2'  # 2: Info and warnings not displayed "
   ]
  },
  {
   "cell_type": "code",
   "execution_count": 2,
   "id": "034facfe-c092-4513-a9d7-346686e231fc",
   "metadata": {},
   "outputs": [],
   "source": [
    "import numpy as np\n",
    "import skimage.io\n",
    "import matplotlib.pyplot as plt\n",
    "import pathlib\n",
    "import tqdm\n",
    "import annotation, misc, hyspec_io, image_render, hyspec_ml, hyspec_cnn, preprocess\n",
    "import skimage.exposure\n",
    "import tensorflow as tf"
   ]
  },
  {
   "cell_type": "code",
   "execution_count": 3,
   "id": "d31b1c51-586e-4b7d-afe8-3768e71571e6",
   "metadata": {},
   "outputs": [],
   "source": [
    "# Disable GPUs\n",
    "tf.config.set_visible_devices([], 'GPU')\n",
    "visible_devices = tf.config.get_visible_devices()\n",
    "for device in visible_devices:\n",
    "    assert device.device_type != 'GPU'"
   ]
  },
  {
   "cell_type": "code",
   "execution_count": 4,
   "id": "2d60ce15-d9fa-42f9-897f-dfb60824372a",
   "metadata": {},
   "outputs": [],
   "source": [
    "# Paths\n",
    "json_gray = pathlib.Path('/media/mha114/Massimal/Larvik_Olberg/Hyperspectral/20210825/OlbergAreaS/M_Annotation/20210825_Olbergholmen_Annotation_20230228_gray/label_classes.json')\n",
    "val_dataset_dir = pathlib.Path('/media/mha114/Massimal/Larvik_Olberg/Hyperspectral/20210825/OlbergAreaS/5b_Rad_Georef_SGC_PCA_TrainValSplit/Validation_Images')\n",
    "val_tiles_dir = pathlib.Path('/media/mha114/Massimal/Larvik_Olberg/Hyperspectral/20210825/OlbergAreaS/5b_Rad_Georef_SGC_PCA_TrainValSplit/Validation_Tiles')\n",
    "val_spectra_path = pathlib.Path('/media/mha114/Massimal/Larvik_Olberg/Hyperspectral/20210825/OlbergAreaS/5b_Rad_Georef_SGC_PCA_TrainValSplit/Validation_Spectra/20210825_OlbergAreaS_Spectra.npz')\n",
    "merged_classes_json_tiles = val_tiles_dir / '20210825_OlbergAreaS_MergedClasses.json'\n",
    "merged_classes_json_spectra = val_spectra_path.parent / '20210825_OlbergAreaS_MergedClasses.json'\n"
   ]
  },
  {
   "cell_type": "code",
   "execution_count": 5,
   "id": "5ef01f56-8496-400a-84ee-883b0c5418f8",
   "metadata": {},
   "outputs": [],
   "source": [
    "# Parameters\n",
    "TILE_SHAPE = (128,128)\n",
    "\n",
    "# Instructions for merging / extracting classes\n",
    "classes_to_merge = [['Zostera marina - dominant','Zostera marina - normal','Zostera marina - sparse','Zostera marina - NGT'],\n",
    "                    ['Rockweed','Rockweed with turf algae','Fucus serratus','Saccharina latissima','Rockweed - NGT'],\n",
    "                    ['Turf algae - dominant','Turf algae - normal','Turf algae - sparse','Aegagropila (algae ball)','Other algae - NGT']]\n",
    "merged_class_names = ['Zostera marina',\n",
    "                      'Rockweed',\n",
    "                      'Other algae']\n",
    "classes_to_extract = ['Sand',\n",
    "                      'Zostera marina',\n",
    "                      'Zostera marina with turf algae',\n",
    "                      'Rockweed',\n",
    "                      'Other algae']\n"
   ]
  },
  {
   "cell_type": "code",
   "execution_count": 6,
   "id": "928a7505-4998-4690-96d1-b456ee7fcea0",
   "metadata": {},
   "outputs": [],
   "source": [
    "# Read annotation metadata file, show classes\n",
    "class_dict = annotation.read_hasty_metadata(json_gray)"
   ]
  },
  {
   "cell_type": "code",
   "execution_count": 7,
   "id": "7d0a4f79-1cf6-48ea-9c75-60f06b9d6db4",
   "metadata": {},
   "outputs": [],
   "source": [
    "# Loop through PCA images, merge labels and create tiles\n",
    "tiles_dataset_list = []\n",
    "for dataset_path in val_dataset_dir.glob('*'):\n",
    "    dataset = tf.data.experimental.load(str(dataset_path))\n",
    "    pca_im, label_im = [numpy_data for numpy_data in dataset.as_numpy_iterator()][0]\n",
    "        \n",
    "    # Read and filter image (class mask)\n",
    "    merged_class_dict, merged_class_mask = annotation.merge_classes_with_mask(\n",
    "        class_dict,label_im,classes_to_merge,merged_class_names)\n",
    "    filtered_class_dict, filtered_class_mask = annotation.extract_subset(\n",
    "        merged_class_dict,merged_class_mask,classes_to_extract)\n",
    "    \n",
    "    # Split into tiles\n",
    "    pca_tiles, label_tiles = hyspec_cnn.labeled_image_to_tensor_tiles(pca_im,filtered_class_mask,TILE_SHAPE)\n",
    "\n",
    "    # Create dataset from tiles\n",
    "    tile_image_names = tf.convert_to_tensor([dataset_path.name for i in range(len(pca_tiles))])\n",
    "    tiles_dataset_list.append(tf.data.Dataset.from_tensor_slices((pca_tiles,label_tiles,tile_image_names)))"
   ]
  },
  {
   "cell_type": "code",
   "execution_count": 8,
   "id": "5b354516-a445-4268-8427-3266a139bd30",
   "metadata": {},
   "outputs": [
    {
     "data": {
      "text/plain": [
       "{'Sand': 1,\n",
       " 'Zostera marina': 2,\n",
       " 'Zostera marina with turf algae': 3,\n",
       " 'Rockweed': 4,\n",
       " 'Other algae': 5}"
      ]
     },
     "execution_count": 8,
     "metadata": {},
     "output_type": "execute_result"
    }
   ],
   "source": [
    "# Show merged / filtered classes\n",
    "filtered_class_dict"
   ]
  },
  {
   "cell_type": "code",
   "execution_count": 9,
   "id": "bf1b9b45-e132-43b4-b3b9-208a2ad6a40f",
   "metadata": {},
   "outputs": [],
   "source": [
    "# Concatenate tiles\n",
    "tiles_concat = tiles_dataset_list[0]\n",
    "for tiles in tiles_dataset_list[1:]:\n",
    "    tiles_concat = tiles_concat.concatenate(tiles)"
   ]
  },
  {
   "cell_type": "code",
   "execution_count": 10,
   "id": "d86dab71-fffd-407e-9afe-a90c8132b964",
   "metadata": {},
   "outputs": [
    {
     "name": "stdout",
     "output_type": "stream",
     "text": [
      "Number of tiles: 107\n"
     ]
    }
   ],
   "source": [
    "print(f'Number of tiles: {tiles_concat.cardinality()}')"
   ]
  },
  {
   "cell_type": "code",
   "execution_count": 11,
   "id": "f35fa43b-6635-475f-b6f2-28968b82a4f2",
   "metadata": {},
   "outputs": [],
   "source": [
    "# Save tiles dataset and class dict\n",
    "tf.data.experimental.save(tiles_concat,str(val_tiles_dir/'Dataset'))\n",
    "annotation.save_class_dict(filtered_class_dict,merged_classes_json_tiles)"
   ]
  },
  {
   "cell_type": "code",
   "execution_count": 12,
   "id": "efe50fef-11a3-4ff3-adfc-f2043aa79ade",
   "metadata": {},
   "outputs": [],
   "source": [
    "# Extract spectra and classes from dataset\n",
    "X_list = []\n",
    "y_list = []\n",
    "for pca_tile,label_tile,_ in tiles_concat.as_numpy_iterator():\n",
    "    labelled_mask = (label_tile != 0)\n",
    "    X_list.append(pca_tile[labelled_mask])\n",
    "    y_list.append(label_tile[labelled_mask])\n",
    "X = np.concatenate(X_list)\n",
    "y = np.concatenate(y_list)"
   ]
  },
  {
   "cell_type": "code",
   "execution_count": 13,
   "id": "c3bb848a-9a8c-443e-92fb-203f9954bb1e",
   "metadata": {},
   "outputs": [],
   "source": [
    "# Save spectra and class disct\n",
    "np.savez(val_spectra_path,X=X,y=y)\n",
    "annotation.save_class_dict(filtered_class_dict,merged_classes_json_spectra)"
   ]
  },
  {
   "cell_type": "code",
   "execution_count": 14,
   "id": "744c35fa-2b51-455c-a1e4-ae709ed334b6",
   "metadata": {},
   "outputs": [],
   "source": [
    "# Test loading spectra\n",
    "# with np.load(val_spectra_path) as npz_files:\n",
    "#     X_loaded = npz_files['X']\n",
    "#     y_loaded = npz_files['y']"
   ]
  }
 ],
 "metadata": {
  "kernelspec": {
   "display_name": "Python 3 (ipykernel)",
   "language": "python",
   "name": "python3"
  },
  "language_info": {
   "codemirror_mode": {
    "name": "ipython",
    "version": 3
   },
   "file_extension": ".py",
   "mimetype": "text/x-python",
   "name": "python",
   "nbconvert_exporter": "python",
   "pygments_lexer": "ipython3",
   "version": "3.9.13"
  }
 },
 "nbformat": 4,
 "nbformat_minor": 5
}
