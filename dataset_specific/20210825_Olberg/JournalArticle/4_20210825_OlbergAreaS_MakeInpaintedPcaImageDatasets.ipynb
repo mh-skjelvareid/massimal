{
 "cells": [
  {
   "cell_type": "code",
   "execution_count": 1,
   "id": "b403c608-17fe-4921-8eab-0631de36c48d",
   "metadata": {},
   "outputs": [],
   "source": [
    "# Disable TensorFlow debugging info and warnings\n",
    "import os\n",
    "os.environ['TF_CPP_MIN_LOG_LEVEL'] = '2'  # 2: Info and warnings not displayed "
   ]
  },
  {
   "cell_type": "code",
   "execution_count": 2,
   "id": "233a0831-ee1b-4cfc-bd8d-10020fb96974",
   "metadata": {},
   "outputs": [],
   "source": [
    "import numpy as np\n",
    "import skimage.io\n",
    "import matplotlib.pyplot as plt\n",
    "import pathlib\n",
    "import tqdm\n",
    "import annotation, misc, hyspec_io, image_render, hyspec_ml, preprocess\n",
    "import skimage.exposure\n",
    "import tensorflow as tf"
   ]
  },
  {
   "cell_type": "code",
   "execution_count": 3,
   "id": "cad8500b-ac36-450f-a22d-e4b0203508a4",
   "metadata": {},
   "outputs": [],
   "source": [
    "# Disable GPUs\n",
    "tf.config.set_visible_devices([], 'GPU')\n",
    "visible_devices = tf.config.get_visible_devices()\n",
    "for device in visible_devices:\n",
    "    assert device.device_type != 'GPU'"
   ]
  },
  {
   "cell_type": "code",
   "execution_count": 4,
   "id": "4a858a50-4b8a-45c1-99b7-a941f1df1f39",
   "metadata": {},
   "outputs": [],
   "source": [
    "# Paths\n",
    "pca_data_model_file = pathlib.Path('/media/mha114/Massimal/Larvik_Olberg/Hyperspectral/20210825/OlbergAreaS/M_PCA_Model/20210825_OlbergAreaA_PCA_data_and_model.npz')\n",
    "hyspec_dir = pathlib.Path('/media/mha114/Massimal/Larvik_Olberg/Hyperspectral/20210825/OlbergAreaS/4a_Rad_Georef_SGC')\n",
    "labels_dir = pathlib.Path('/media/mha114/Massimal/Larvik_Olberg/Hyperspectral/20210825/OlbergAreaS/M_Annotation/20210825_Olbergholmen_Annotation_20230228_gray/OlbergAreaS')\n",
    "pca_im_dir = pathlib.Path('/media/mha114/Massimal/Larvik_Olberg/Hyperspectral/20210825/OlbergAreaS/5a_Rad_Georef_SGC_PCA')"
   ]
  },
  {
   "cell_type": "code",
   "execution_count": 5,
   "id": "14fa5058-93ec-42ae-8f0c-86cb54846b87",
   "metadata": {},
   "outputs": [],
   "source": [
    "# Load PCA model\n",
    "with np.load(pca_data_model_file) as npz_files:\n",
    "    X_mean = npz_files['spectra_mean']\n",
    "    X_std = npz_files['spectra_std']\n",
    "    W_pca = npz_files['pca_components']"
   ]
  },
  {
   "cell_type": "code",
   "execution_count": 6,
   "id": "66dd1b98-9023-4fab-aadc-f008ee376be5",
   "metadata": {},
   "outputs": [],
   "source": [
    "# Get filename paths\n",
    "label_image_paths = sorted([file for file in labels_dir.glob('*.png')])\n",
    "hyspec_image_paths = [hyspec_dir / (file.stem + '.bip.hdr') for file in label_image_paths]"
   ]
  },
  {
   "cell_type": "code",
   "execution_count": 7,
   "id": "626fc400-c2d2-4594-8817-05165d1d7caf",
   "metadata": {},
   "outputs": [
    {
     "name": "stderr",
     "output_type": "stream",
     "text": [
      "  0%|                                                    | 0/18 [00:00<?, ?it/s]"
     ]
    },
    {
     "name": "stdout",
     "output_type": "stream",
     "text": [
      "Inpainting band 8 of 8\r"
     ]
    },
    {
     "name": "stderr",
     "output_type": "stream",
     "text": [
      "  6%|██▍                                         | 1/18 [00:06<01:57,  6.91s/it]"
     ]
    },
    {
     "name": "stdout",
     "output_type": "stream",
     "text": [
      "Inpainting band 8 of 8\r"
     ]
    },
    {
     "name": "stderr",
     "output_type": "stream",
     "text": [
      " 11%|████▉                                       | 2/18 [01:56<18:01, 67.59s/it]"
     ]
    },
    {
     "name": "stdout",
     "output_type": "stream",
     "text": [
      "Inpainting band 8 of 8\r"
     ]
    },
    {
     "name": "stderr",
     "output_type": "stream",
     "text": [
      " 17%|███████▎                                    | 3/18 [02:37<13:48, 55.25s/it]"
     ]
    },
    {
     "name": "stdout",
     "output_type": "stream",
     "text": [
      "Inpainting band 8 of 8\r"
     ]
    },
    {
     "name": "stderr",
     "output_type": "stream",
     "text": [
      " 22%|█████████▊                                  | 4/18 [03:09<10:47, 46.23s/it]"
     ]
    },
    {
     "name": "stdout",
     "output_type": "stream",
     "text": [
      "Inpainting band 8 of 8\r"
     ]
    },
    {
     "name": "stderr",
     "output_type": "stream",
     "text": [
      " 28%|███████████▉                               | 5/18 [12:30<50:12, 231.76s/it]"
     ]
    },
    {
     "name": "stdout",
     "output_type": "stream",
     "text": [
      "Inpainting band 8 of 8\r"
     ]
    },
    {
     "name": "stderr",
     "output_type": "stream",
     "text": [
      " 33%|██████████████▎                            | 6/18 [12:54<32:12, 161.06s/it]"
     ]
    },
    {
     "name": "stdout",
     "output_type": "stream",
     "text": [
      "Inpainting band 8 of 8\r"
     ]
    },
    {
     "name": "stderr",
     "output_type": "stream",
     "text": [
      " 39%|████████████████▋                          | 7/18 [13:13<20:59, 114.53s/it]"
     ]
    },
    {
     "name": "stdout",
     "output_type": "stream",
     "text": [
      "Inpainting band 8 of 8\r"
     ]
    },
    {
     "name": "stderr",
     "output_type": "stream",
     "text": [
      " 44%|███████████████████▌                        | 8/18 [13:53<15:07, 90.76s/it]"
     ]
    },
    {
     "name": "stdout",
     "output_type": "stream",
     "text": [
      "Inpainting band 8 of 8\r"
     ]
    },
    {
     "name": "stderr",
     "output_type": "stream",
     "text": [
      " 50%|██████████████████████                      | 9/18 [14:36<11:24, 76.06s/it]"
     ]
    },
    {
     "name": "stdout",
     "output_type": "stream",
     "text": [
      "Inpainting band 8 of 8\r"
     ]
    },
    {
     "name": "stderr",
     "output_type": "stream",
     "text": [
      " 56%|███████████████████████▉                   | 10/18 [14:50<07:33, 56.71s/it]"
     ]
    },
    {
     "name": "stdout",
     "output_type": "stream",
     "text": [
      "Inpainting band 8 of 8\r"
     ]
    },
    {
     "name": "stderr",
     "output_type": "stream",
     "text": [
      " 61%|██████████████████████████▎                | 11/18 [16:41<08:34, 73.44s/it]"
     ]
    },
    {
     "name": "stdout",
     "output_type": "stream",
     "text": [
      "Inpainting band 8 of 8\r"
     ]
    },
    {
     "name": "stderr",
     "output_type": "stream",
     "text": [
      " 67%|████████████████████████████▋              | 12/18 [19:17<09:51, 98.56s/it]"
     ]
    },
    {
     "name": "stdout",
     "output_type": "stream",
     "text": [
      "Inpainting band 8 of 8\r"
     ]
    },
    {
     "name": "stderr",
     "output_type": "stream",
     "text": [
      " 72%|███████████████████████████████            | 13/18 [20:01<06:49, 81.97s/it]"
     ]
    },
    {
     "name": "stdout",
     "output_type": "stream",
     "text": [
      "Inpainting band 8 of 8\r"
     ]
    },
    {
     "name": "stderr",
     "output_type": "stream",
     "text": [
      " 78%|█████████████████████████████████▍         | 14/18 [20:59<04:59, 74.77s/it]"
     ]
    },
    {
     "name": "stdout",
     "output_type": "stream",
     "text": [
      "Inpainting band 8 of 8\r"
     ]
    },
    {
     "name": "stderr",
     "output_type": "stream",
     "text": [
      " 83%|███████████████████████████████████▊       | 15/18 [21:15<02:51, 57.03s/it]"
     ]
    },
    {
     "name": "stdout",
     "output_type": "stream",
     "text": [
      "Inpainting band 8 of 8\r"
     ]
    },
    {
     "name": "stderr",
     "output_type": "stream",
     "text": [
      " 89%|██████████████████████████████████████▏    | 16/18 [21:22<01:23, 41.89s/it]"
     ]
    },
    {
     "name": "stdout",
     "output_type": "stream",
     "text": [
      "Inpainting band 8 of 8\r"
     ]
    },
    {
     "name": "stderr",
     "output_type": "stream",
     "text": [
      " 94%|████████████████████████████████████████▌  | 17/18 [21:59<00:40, 40.61s/it]"
     ]
    },
    {
     "name": "stdout",
     "output_type": "stream",
     "text": [
      "Inpainting band 8 of 8\r"
     ]
    },
    {
     "name": "stderr",
     "output_type": "stream",
     "text": [
      "100%|███████████████████████████████████████████| 18/18 [24:14<00:00, 80.82s/it]\n"
     ]
    }
   ],
   "source": [
    "for hyspec_image_path, label_image_path in tqdm.tqdm(zip(hyspec_image_paths, label_image_paths),total=len(hyspec_image_paths)):\n",
    "    # Load hyperspectral image\n",
    "    image,wl,rgb_ind,_ = hyspec_io.load_envi_image(str(hyspec_image_path))\n",
    "\n",
    "    # Load label image\n",
    "    label_image = skimage.io.imread(label_image_path)\n",
    "    \n",
    "    # Create PCA image\n",
    "    im_pca = hyspec_ml.pca_transform_image(image,W_pca,X_mean,X_std)\n",
    "    \n",
    "    # Inpaint PCA image\n",
    "    im_pca_inpaint = preprocess.inpaint_missing_pixels(im_pca)\n",
    "    \n",
    "    # Set labels for zero-valued pixels to background\n",
    "    label_image[np.all(im_pca_inpaint,axis=2)==0] = 0\n",
    "    \n",
    "    # Save as tensorflow dataset\n",
    "    dataset = tf.data.Dataset.from_tensors((im_pca_inpaint,label_image))  # Use tf.data.Dataset.concatenate to merge later\n",
    "    dataset_save_path = pca_im_dir / label_image_path.stem\n",
    "    tf.data.experimental.save(dataset,str(dataset_save_path))\n",
    "    "
   ]
  }
 ],
 "metadata": {
  "kernelspec": {
   "display_name": "Python 3 (ipykernel)",
   "language": "python",
   "name": "python3"
  },
  "language_info": {
   "codemirror_mode": {
    "name": "ipython",
    "version": 3
   },
   "file_extension": ".py",
   "mimetype": "text/x-python",
   "name": "python",
   "nbconvert_exporter": "python",
   "pygments_lexer": "ipython3",
   "version": "3.11.3"
  }
 },
 "nbformat": 4,
 "nbformat_minor": 5
}
