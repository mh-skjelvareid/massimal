{
 "cells": [
  {
   "cell_type": "code",
   "execution_count": 1,
   "id": "46deea0a-177a-499a-8662-c2efc7e441fc",
   "metadata": {},
   "outputs": [],
   "source": [
    "# Use Intel faster SVM\n",
    "# from sklearnex import patch_sklearn\n",
    "# patch_sklearn()"
   ]
  },
  {
   "cell_type": "code",
   "execution_count": 2,
   "id": "47d30d62-8de5-4239-b6a3-d2b1c15fc92b",
   "metadata": {},
   "outputs": [],
   "source": [
    "import numpy as np\n",
    "import matplotlib.pyplot as plt\n",
    "import sklearn.ensemble\n",
    "import sklearn.svm\n",
    "import pathlib\n",
    "import pickle\n",
    "import imblearn\n",
    "import time"
   ]
  },
  {
   "cell_type": "code",
   "execution_count": 3,
   "id": "d357160c-b2e0-484f-a0d0-5fb91cb73766",
   "metadata": {},
   "outputs": [],
   "source": [
    "# Paths \n",
    "base_dir = pathlib.Path('/media/mha114/Massimal/Larvik_Olberg/Hyperspectral/20210825/OlbergAreaS')\n",
    "train_spectra_path = base_dir / '5b_Rad_Georef_SGC_PCA_TrainValSplit/Training_Spectra/20210825_OlbergAreaS_Spectra.npz'\n",
    "val_spectra_path = base_dir / '5b_Rad_Georef_SGC_PCA_TrainValSplit/Validation_Spectra/20210825_OlbergAreaS_Spectra.npz'\n",
    "#random_forest_save_path = base_dir / 'X_SavedModels_RF_SVM/20210825_OlbergAreaS_RandomForest_InpaintedDataset.pkl'\n",
    "svm_save_path = base_dir / 'X_SavedModels_RF_SVM/20210825_OlbergAreaS_SVM_InpaintedDataset_SmallFast.pkl'\n"
   ]
  },
  {
   "cell_type": "code",
   "execution_count": 4,
   "id": "73a6c01e-7b30-4701-a8e5-2adb05321d5b",
   "metadata": {},
   "outputs": [
    {
     "name": "stdout",
     "output_type": "stream",
     "text": [
      "(3270821, 8)\n",
      "(3270821,)\n"
     ]
    }
   ],
   "source": [
    "# Load training dataset\n",
    "with np.load(train_spectra_path) as npz_files:\n",
    "    X_train = npz_files['X']\n",
    "    y_train = npz_files['y']\n",
    "print(f'{X_train.shape}')\n",
    "print(f'{y_train.shape}')"
   ]
  },
  {
   "cell_type": "code",
   "execution_count": 5,
   "id": "ea7ce423-6e70-49bb-af2c-314c13fb7d37",
   "metadata": {},
   "outputs": [
    {
     "name": "stdout",
     "output_type": "stream",
     "text": [
      "(689903, 8)\n",
      "(689903,)\n"
     ]
    }
   ],
   "source": [
    "# Load validation dataset\n",
    "with np.load(val_spectra_path) as npz_files:\n",
    "    X_val = npz_files['X']\n",
    "    y_val = npz_files['y']\n",
    "print(f'{X_val.shape}')\n",
    "print(f'{y_val.shape}')"
   ]
  },
  {
   "cell_type": "code",
   "execution_count": 6,
   "id": "b4ddbe91-56e6-429f-8ddf-ff39a2567423",
   "metadata": {},
   "outputs": [],
   "source": [
    "# Create a random forest model\n",
    "# rfc = sklearn.ensemble.RandomForestClassifier(\n",
    "#     n_estimators=20,            # Ensemble of 30 decision trees\n",
    "#     min_samples_leaf=15,        # Stop splitting data when number of samples < 15 (faster)\n",
    "#     max_samples=0.1)            # Use only 60% of data for each estimator (faster)\n",
    "# max_samples=0.6)            # Use only 60% of data for each estimator (faster)"
   ]
  },
  {
   "cell_type": "code",
   "execution_count": 7,
   "id": "a238b913-58ec-450a-b8e5-45fab11652f6",
   "metadata": {},
   "outputs": [],
   "source": [
    "# Train classifier (takes about 1-2 minutes)\n",
    "# rfc.fit(X_train,y_train)"
   ]
  },
  {
   "cell_type": "code",
   "execution_count": 8,
   "id": "678f35a9-0102-427d-b2c0-513bf983b919",
   "metadata": {},
   "outputs": [],
   "source": [
    "# Save the model\n",
    "# pickle.dump(rfc,open(random_forest_save_path,'wb'))"
   ]
  },
  {
   "cell_type": "code",
   "execution_count": 9,
   "id": "793845aa-3c39-4f01-a546-f5615eb8f2ae",
   "metadata": {},
   "outputs": [],
   "source": [
    "# Use classifier to make predictions on validation data\n",
    "# y_pred_rf = rfc.predict(X_val)"
   ]
  },
  {
   "cell_type": "code",
   "execution_count": 10,
   "id": "60c137a2-ddd6-4b19-8801-50ea9717bcf5",
   "metadata": {},
   "outputs": [],
   "source": [
    "# Show confusion matrix\n",
    "# display_labels = ['Sand', 'Seagrass', 'Seagrass w/turf','Rockweed','Other algae']\n",
    "# confusion_matrix = sklearn.metrics.confusion_matrix(y_val,y_pred_rf,normalize='true')\n",
    "# disp = sklearn.metrics.ConfusionMatrixDisplay(confusion_matrix*100,display_labels=display_labels)\n",
    "# disp.plot(xticks_rotation='vertical',cmap='gist_earth',values_format='.1f')\n",
    "# plt.title('Confusion matrix (%)')\n",
    "# plt.show()"
   ]
  },
  {
   "cell_type": "code",
   "execution_count": 11,
   "id": "2264236e-a9d6-4267-8644-f5c9a5873ca5",
   "metadata": {},
   "outputs": [],
   "source": [
    "# Create under-sampled version of X and y\n",
    "#rus = imblearn.under_sampling.RandomUnderSampler()\n",
    "\n",
    "rng = np.random.default_rng()\n",
    "# n_samp_us = 200000\n",
    "# n_samp_us = 50000\n",
    "n_samp_us = 5000\n",
    "random_indices = rng.integers(0,len(y_train),size=n_samp_us)\n",
    "X_train_us = X_train[random_indices,:]\n",
    "y_train_us = y_train[random_indices]"
   ]
  },
  {
   "cell_type": "code",
   "execution_count": 12,
   "id": "2c703886-f75c-4418-a091-e74d6c02c4b8",
   "metadata": {},
   "outputs": [
    {
     "name": "stdout",
     "output_type": "stream",
     "text": [
      "SVM training took 0.2589825210015988 s\n"
     ]
    }
   ],
   "source": [
    "# Create and train SVM model \n",
    "# Samples:    50 000      100 000   200 000\n",
    "# Stardard:     15 s        66 s      288 s \n",
    "# sklearnex:   2-3 s        5-6 s      15 s\n",
    "svm = sklearn.svm.SVC(C=0.5,kernel='rbf',gamma='scale')\n",
    "\n",
    "start_time = time.perf_counter()\n",
    "svm.fit(X_train_us,y_train_us)\n",
    "end_time = time.perf_counter()\n",
    "print(f'SVM training took {end_time-start_time} s')"
   ]
  },
  {
   "cell_type": "code",
   "execution_count": 13,
   "id": "2614ce74-2189-4856-8de4-317e967c9ae3",
   "metadata": {},
   "outputs": [],
   "source": [
    "# rng = np.random.default_rng()\n",
    "# n_samp_val_us = 100000\n",
    "# random_indices_val = rng.integers(0,len(y_val),size=n_samp_val_us)\n",
    "# X_val_us = X_val[random_indices_val,:]\n",
    "# y_val_us = y_val[random_indices_val]"
   ]
  },
  {
   "cell_type": "code",
   "execution_count": 14,
   "id": "1e446b51-20b3-44c5-8e8e-2f6f9f4939b4",
   "metadata": {},
   "outputs": [],
   "source": [
    "# Use classifier to make predictions on validation data\n",
    "# start_time = time.perf_counter()\n",
    "# y_pred_svm = svm.predict(X_val)\n",
    "# end_time = time.perf_counter()\n",
    "# print(f'SVM inference took {end_time-start_time} s')"
   ]
  },
  {
   "cell_type": "code",
   "execution_count": 15,
   "id": "429a307b-dd7b-4ff6-9299-8669d572bb5b",
   "metadata": {},
   "outputs": [],
   "source": [
    "# Show confusion matrix\n",
    "# display_labels = ['Sand', 'Seagrass', 'Seagrass w/turf','Rockweed','Other algae']\n",
    "# confusion_matrix = sklearn.metrics.confusion_matrix(y_val,y_pred_svm,normalize='true')\n",
    "# disp = sklearn.metrics.ConfusionMatrixDisplay(confusion_matrix*100,display_labels=display_labels)\n",
    "# disp.plot(xticks_rotation='vertical',cmap='gist_earth',values_format='.1f')\n",
    "# plt.title('Confusion matrix (%)')\n",
    "# plt.show()"
   ]
  },
  {
   "cell_type": "code",
   "execution_count": 16,
   "id": "342047ff-5e8e-4438-966f-5bcf2e0c7733",
   "metadata": {},
   "outputs": [],
   "source": [
    "# Save SVM model\n",
    "# pickle.dump(svm,open(svm_save_path,'wb'))"
   ]
  },
  {
   "cell_type": "code",
   "execution_count": 17,
   "id": "8a090de4-6e8d-41ac-8e14-e841fb9ff8ea",
   "metadata": {},
   "outputs": [
    {
     "name": "stdout",
     "output_type": "stream",
     "text": [
      "SVM training took 14.702619152994885 s\n"
     ]
    }
   ],
   "source": [
    "# Create an ensemble of SVM classifiers\n",
    "# This crashes(!) when using sklearnex\n",
    "# With regular SVM, time improves significantly when spreading the same \n",
    "# number of samples across multiple estimators.\n",
    "# 20 estimators and 5000 samples: 15 s with regular SVM\n",
    "n_classifiers_svm = 20\n",
    "svm_base_est = sklearn.svm.SVC(C=0.5,kernel='rbf',gamma='scale')\n",
    "svm_ens = sklearn.ensemble.BaggingClassifier(estimator=svm_base_est,\n",
    "                                             n_estimators=n_classifiers_svm,\n",
    "                                             max_samples=5000,\n",
    "                                             bootstrap=False)\n",
    "start_time = time.perf_counter()\n",
    "y_pred_svm = svm_ens.fit(X_train,y_train)\n",
    "end_time = time.perf_counter()\n",
    "print(f'SVM training took {end_time-start_time} s')"
   ]
  }
 ],
 "metadata": {
  "kernelspec": {
   "display_name": "Python 3 (ipykernel)",
   "language": "python",
   "name": "python3"
  },
  "language_info": {
   "codemirror_mode": {
    "name": "ipython",
    "version": 3
   },
   "file_extension": ".py",
   "mimetype": "text/x-python",
   "name": "python",
   "nbconvert_exporter": "python",
   "pygments_lexer": "ipython3",
   "version": "3.11.3"
  }
 },
 "nbformat": 4,
 "nbformat_minor": 5
}
