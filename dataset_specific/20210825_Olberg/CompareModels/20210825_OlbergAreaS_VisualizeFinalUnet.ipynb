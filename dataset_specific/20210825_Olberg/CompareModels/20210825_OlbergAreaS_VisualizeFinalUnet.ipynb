{
 "cells": [
  {
   "cell_type": "code",
   "execution_count": 1,
   "id": "f85e95af-6cd3-42b7-a4ab-d86055e3a2aa",
   "metadata": {},
   "outputs": [],
   "source": [
    "# Disable TensorFlow debugging info and warnings\n",
    "import os\n",
    "os.environ['TF_CPP_MIN_LOG_LEVEL'] = '2'  # 2: Info and warnings not displayed "
   ]
  },
  {
   "cell_type": "code",
   "execution_count": 2,
   "id": "3efc4469-efe0-4df0-95e4-a24bb7f55dd6",
   "metadata": {},
   "outputs": [],
   "source": [
    "# import numpy as np\n",
    "# import skimage.io\n",
    "# import matplotlib.pyplot as plt\n",
    "# import matplotlib.colors\n",
    "import pathlib\n",
    "# import tqdm\n",
    "# import annotation, misc, hyspec_io, image_render, hyspec_ml, hyspec_cnn, preprocess\n",
    "# import skimage.exposure\n",
    "import tensorflow as tf\n",
    "# import sklearn.metrics"
   ]
  },
  {
   "cell_type": "code",
   "execution_count": 3,
   "id": "685423b5-72e9-4b68-961f-e9265b32e233",
   "metadata": {},
   "outputs": [],
   "source": [
    "# Disable GPUs\n",
    "tf.config.set_visible_devices([], 'GPU')\n",
    "visible_devices = tf.config.get_visible_devices()\n",
    "for device in visible_devices:\n",
    "    assert device.device_type != 'GPU'"
   ]
  },
  {
   "cell_type": "code",
   "execution_count": 4,
   "id": "77e250b0-1fe6-430b-8253-64d6655ff3db",
   "metadata": {},
   "outputs": [],
   "source": [
    "# Paths\n",
    "# unet_model_path = pathlib.Path('/media/mha114/Massimal/Larvik_Olberg/Hyperspectral/20210825/OlbergAreaS/X_SavedKerasModels/InpaintedDataset_TestImages-12-17-24/20230511_Unet_Depth2_UsingReduceLrOnPlateau/unet_model.epoch40-loss0.028375-acc0.887.hdf5')\n",
    "unet_model_path = pathlib.Path('D:/Larvik_Olberg/Hyperspectral/20210825/OlbergAreaS/X_SavedKerasModels/InpaintedDataset_TestImages-12-17-24/20230511_Unet_Depth2_UsingReduceLrOnPlateau/unet_model.epoch40-loss0.028375-acc0.887.hdf5')"
   ]
  },
  {
   "cell_type": "code",
   "execution_count": 5,
   "id": "ac0eeccf-7b49-4cbd-a17e-63cd140b9f1f",
   "metadata": {},
   "outputs": [],
   "source": [
    "unet = tf.keras.models.load_model(str(unet_model_path),compile=False)\n",
    "unet.compile(optimizer=tf.keras.optimizers.RMSprop(0.0001), \n",
    "             loss=\"sparse_categorical_crossentropy\",\n",
    "             weighted_metrics=['sparse_categorical_accuracy'], \n",
    "             metrics = []) "
   ]
  },
  {
   "cell_type": "code",
   "execution_count": 6,
   "id": "b61fe3f0-2056-44c4-94fc-461515fba10a",
   "metadata": {},
   "outputs": [
    {
     "name": "stdout",
     "output_type": "stream",
     "text": [
      "You must install pydot (`pip install pydot`) and install graphviz (see instructions at https://graphviz.gitlab.io/download/) for plot_model to work.\n"
     ]
    }
   ],
   "source": [
    "tf.keras.utils.plot_model(unet)"
   ]
  },
  {
   "cell_type": "code",
   "execution_count": null,
   "id": "cff57794-5e25-4168-8568-efe04e652de0",
   "metadata": {},
   "outputs": [],
   "source": []
  }
 ],
 "metadata": {
  "kernelspec": {
   "display_name": "Python 3 (ipykernel)",
   "language": "python",
   "name": "python3"
  },
  "language_info": {
   "codemirror_mode": {
    "name": "ipython",
    "version": 3
   },
   "file_extension": ".py",
   "mimetype": "text/x-python",
   "name": "python",
   "nbconvert_exporter": "python",
   "pygments_lexer": "ipython3",
   "version": "3.11.3"
  }
 },
 "nbformat": 4,
 "nbformat_minor": 5
}
