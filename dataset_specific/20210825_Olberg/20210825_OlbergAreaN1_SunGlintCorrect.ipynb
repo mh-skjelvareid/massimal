{
 "cells": [
  {
   "cell_type": "code",
   "execution_count": 1,
   "id": "049f8e39-a7cb-46d4-b4cf-f8b6276fb110",
   "metadata": {},
   "outputs": [],
   "source": [
    "import batch_process"
   ]
  },
  {
   "cell_type": "code",
   "execution_count": 2,
   "id": "fae46a36-77e5-41bf-803e-53b67019a0a7",
   "metadata": {},
   "outputs": [],
   "source": [
    "# Paths\n",
    "input_dir = '/media/mha114/Massimal/Larvik_Olberg/Hyperspectral/20210825/OlbergAreaN-1/3_Rad_Georef'\n",
    "train_rad_file = '/media/mha114/Massimal/Larvik_Olberg/Hyperspectral/20210825/OlbergAreaN-1/M_SunGlint_RefCube/OlbergholmenN_Pika_L_23.bil-SpatialCrop.bip.hdr'\n",
    "output_dir = '/media/mha114/Massimal/Larvik_Olberg/Hyperspectral/20210825/OlbergAreaN-1/4_Rad_Georef_SGC'"
   ]
  },
  {
   "cell_type": "code",
   "execution_count": 3,
   "id": "27ba5f6e-42cf-49ba-983e-92f56dc88b55",
   "metadata": {},
   "outputs": [
    {
     "name": "stdout",
     "output_type": "stream",
     "text": [
      "Loading training data /media/mha114/Massimal/Larvik_Olberg/Hyperspectral/20210825/OlbergAreaN-1/M_SunGlint_RefCube/OlbergholmenN_Pika_L_23.bil-SpatialCrop.bip.hdr\n",
      "Training Hedley sun glint correction model\n",
      "Found 27 images in input folder.\n",
      "Loading input file /media/mha114/Massimal/Larvik_Olberg/Hyperspectral/20210825/OlbergAreaN-1/3_Rad_Georef/OlbergholmenN_Pika_L_10-Radiance From Raw Data-Georectify Airborne Datacube.bip.hdr\n",
      "Saving sun glint corrected file as /media/mha114/Massimal/Larvik_Olberg/Hyperspectral/20210825/OlbergAreaN-1/4_Rad_Georef_SGC/OlbergholmenN_Pika_L_10-Radiance From Raw Data-Georectify Airborne Datacube.bip.hdr\n",
      "Loading input file /media/mha114/Massimal/Larvik_Olberg/Hyperspectral/20210825/OlbergAreaN-1/3_Rad_Georef/OlbergholmenN_Pika_L_11-Radiance From Raw Data-Georectify Airborne Datacube.bip.hdr\n",
      "Saving sun glint corrected file as /media/mha114/Massimal/Larvik_Olberg/Hyperspectral/20210825/OlbergAreaN-1/4_Rad_Georef_SGC/OlbergholmenN_Pika_L_11-Radiance From Raw Data-Georectify Airborne Datacube.bip.hdr\n",
      "Loading input file /media/mha114/Massimal/Larvik_Olberg/Hyperspectral/20210825/OlbergAreaN-1/3_Rad_Georef/OlbergholmenN_Pika_L_12-Radiance From Raw Data-Georectify Airborne Datacube.bip.hdr\n",
      "Saving sun glint corrected file as /media/mha114/Massimal/Larvik_Olberg/Hyperspectral/20210825/OlbergAreaN-1/4_Rad_Georef_SGC/OlbergholmenN_Pika_L_12-Radiance From Raw Data-Georectify Airborne Datacube.bip.hdr\n",
      "Loading input file /media/mha114/Massimal/Larvik_Olberg/Hyperspectral/20210825/OlbergAreaN-1/3_Rad_Georef/OlbergholmenN_Pika_L_13-Radiance From Raw Data-Georectify Airborne Datacube.bip.hdr\n",
      "Saving sun glint corrected file as /media/mha114/Massimal/Larvik_Olberg/Hyperspectral/20210825/OlbergAreaN-1/4_Rad_Georef_SGC/OlbergholmenN_Pika_L_13-Radiance From Raw Data-Georectify Airborne Datacube.bip.hdr\n",
      "Loading input file /media/mha114/Massimal/Larvik_Olberg/Hyperspectral/20210825/OlbergAreaN-1/3_Rad_Georef/OlbergholmenN_Pika_L_14-Radiance From Raw Data-Georectify Airborne Datacube.bip.hdr\n",
      "Saving sun glint corrected file as /media/mha114/Massimal/Larvik_Olberg/Hyperspectral/20210825/OlbergAreaN-1/4_Rad_Georef_SGC/OlbergholmenN_Pika_L_14-Radiance From Raw Data-Georectify Airborne Datacube.bip.hdr\n",
      "Loading input file /media/mha114/Massimal/Larvik_Olberg/Hyperspectral/20210825/OlbergAreaN-1/3_Rad_Georef/OlbergholmenN_Pika_L_15-Radiance From Raw Data-Georectify Airborne Datacube.bip.hdr\n",
      "Saving sun glint corrected file as /media/mha114/Massimal/Larvik_Olberg/Hyperspectral/20210825/OlbergAreaN-1/4_Rad_Georef_SGC/OlbergholmenN_Pika_L_15-Radiance From Raw Data-Georectify Airborne Datacube.bip.hdr\n",
      "Loading input file /media/mha114/Massimal/Larvik_Olberg/Hyperspectral/20210825/OlbergAreaN-1/3_Rad_Georef/OlbergholmenN_Pika_L_16-Radiance From Raw Data-Georectify Airborne Datacube.bip.hdr\n",
      "Saving sun glint corrected file as /media/mha114/Massimal/Larvik_Olberg/Hyperspectral/20210825/OlbergAreaN-1/4_Rad_Georef_SGC/OlbergholmenN_Pika_L_16-Radiance From Raw Data-Georectify Airborne Datacube.bip.hdr\n",
      "Loading input file /media/mha114/Massimal/Larvik_Olberg/Hyperspectral/20210825/OlbergAreaN-1/3_Rad_Georef/OlbergholmenN_Pika_L_17-Radiance From Raw Data-Georectify Airborne Datacube.bip.hdr\n",
      "Saving sun glint corrected file as /media/mha114/Massimal/Larvik_Olberg/Hyperspectral/20210825/OlbergAreaN-1/4_Rad_Georef_SGC/OlbergholmenN_Pika_L_17-Radiance From Raw Data-Georectify Airborne Datacube.bip.hdr\n",
      "Loading input file /media/mha114/Massimal/Larvik_Olberg/Hyperspectral/20210825/OlbergAreaN-1/3_Rad_Georef/OlbergholmenN_Pika_L_18-Radiance From Raw Data-Georectify Airborne Datacube.bip.hdr\n",
      "Saving sun glint corrected file as /media/mha114/Massimal/Larvik_Olberg/Hyperspectral/20210825/OlbergAreaN-1/4_Rad_Georef_SGC/OlbergholmenN_Pika_L_18-Radiance From Raw Data-Georectify Airborne Datacube.bip.hdr\n",
      "Loading input file /media/mha114/Massimal/Larvik_Olberg/Hyperspectral/20210825/OlbergAreaN-1/3_Rad_Georef/OlbergholmenN_Pika_L_19-Radiance From Raw Data-Georectify Airborne Datacube.bip.hdr\n",
      "Saving sun glint corrected file as /media/mha114/Massimal/Larvik_Olberg/Hyperspectral/20210825/OlbergAreaN-1/4_Rad_Georef_SGC/OlbergholmenN_Pika_L_19-Radiance From Raw Data-Georectify Airborne Datacube.bip.hdr\n",
      "Loading input file /media/mha114/Massimal/Larvik_Olberg/Hyperspectral/20210825/OlbergAreaN-1/3_Rad_Georef/OlbergholmenN_Pika_L_2-Radiance From Raw Data-Georectify Airborne Datacube.bip.hdr\n",
      "Saving sun glint corrected file as /media/mha114/Massimal/Larvik_Olberg/Hyperspectral/20210825/OlbergAreaN-1/4_Rad_Georef_SGC/OlbergholmenN_Pika_L_2-Radiance From Raw Data-Georectify Airborne Datacube.bip.hdr\n",
      "Loading input file /media/mha114/Massimal/Larvik_Olberg/Hyperspectral/20210825/OlbergAreaN-1/3_Rad_Georef/OlbergholmenN_Pika_L_20-Radiance From Raw Data-Georectify Airborne Datacube.bip.hdr\n",
      "Saving sun glint corrected file as /media/mha114/Massimal/Larvik_Olberg/Hyperspectral/20210825/OlbergAreaN-1/4_Rad_Georef_SGC/OlbergholmenN_Pika_L_20-Radiance From Raw Data-Georectify Airborne Datacube.bip.hdr\n",
      "Loading input file /media/mha114/Massimal/Larvik_Olberg/Hyperspectral/20210825/OlbergAreaN-1/3_Rad_Georef/OlbergholmenN_Pika_L_21-Radiance From Raw Data-Georectify Airborne Datacube.bip.hdr\n",
      "Saving sun glint corrected file as /media/mha114/Massimal/Larvik_Olberg/Hyperspectral/20210825/OlbergAreaN-1/4_Rad_Georef_SGC/OlbergholmenN_Pika_L_21-Radiance From Raw Data-Georectify Airborne Datacube.bip.hdr\n",
      "Loading input file /media/mha114/Massimal/Larvik_Olberg/Hyperspectral/20210825/OlbergAreaN-1/3_Rad_Georef/OlbergholmenN_Pika_L_22-Radiance From Raw Data-Georectify Airborne Datacube.bip.hdr\n",
      "Saving sun glint corrected file as /media/mha114/Massimal/Larvik_Olberg/Hyperspectral/20210825/OlbergAreaN-1/4_Rad_Georef_SGC/OlbergholmenN_Pika_L_22-Radiance From Raw Data-Georectify Airborne Datacube.bip.hdr\n",
      "Loading input file /media/mha114/Massimal/Larvik_Olberg/Hyperspectral/20210825/OlbergAreaN-1/3_Rad_Georef/OlbergholmenN_Pika_L_23-Radiance From Raw Data-Georectify Airborne Datacube.bip.hdr\n",
      "Saving sun glint corrected file as /media/mha114/Massimal/Larvik_Olberg/Hyperspectral/20210825/OlbergAreaN-1/4_Rad_Georef_SGC/OlbergholmenN_Pika_L_23-Radiance From Raw Data-Georectify Airborne Datacube.bip.hdr\n",
      "Loading input file /media/mha114/Massimal/Larvik_Olberg/Hyperspectral/20210825/OlbergAreaN-1/3_Rad_Georef/OlbergholmenN_Pika_L_24-Radiance From Raw Data-Georectify Airborne Datacube.bip.hdr\n",
      "Saving sun glint corrected file as /media/mha114/Massimal/Larvik_Olberg/Hyperspectral/20210825/OlbergAreaN-1/4_Rad_Georef_SGC/OlbergholmenN_Pika_L_24-Radiance From Raw Data-Georectify Airborne Datacube.bip.hdr\n",
      "Loading input file /media/mha114/Massimal/Larvik_Olberg/Hyperspectral/20210825/OlbergAreaN-1/3_Rad_Georef/OlbergholmenN_Pika_L_25-Radiance From Raw Data-Georectify Airborne Datacube.bip.hdr\n",
      "Saving sun glint corrected file as /media/mha114/Massimal/Larvik_Olberg/Hyperspectral/20210825/OlbergAreaN-1/4_Rad_Georef_SGC/OlbergholmenN_Pika_L_25-Radiance From Raw Data-Georectify Airborne Datacube.bip.hdr\n",
      "Loading input file /media/mha114/Massimal/Larvik_Olberg/Hyperspectral/20210825/OlbergAreaN-1/3_Rad_Georef/OlbergholmenN_Pika_L_26-Radiance From Raw Data-Georectify Airborne Datacube.bip.hdr\n",
      "Saving sun glint corrected file as /media/mha114/Massimal/Larvik_Olberg/Hyperspectral/20210825/OlbergAreaN-1/4_Rad_Georef_SGC/OlbergholmenN_Pika_L_26-Radiance From Raw Data-Georectify Airborne Datacube.bip.hdr\n",
      "Loading input file /media/mha114/Massimal/Larvik_Olberg/Hyperspectral/20210825/OlbergAreaN-1/3_Rad_Georef/OlbergholmenN_Pika_L_27-Radiance From Raw Data-Georectify Airborne Datacube.bip.hdr\n",
      "Saving sun glint corrected file as /media/mha114/Massimal/Larvik_Olberg/Hyperspectral/20210825/OlbergAreaN-1/4_Rad_Georef_SGC/OlbergholmenN_Pika_L_27-Radiance From Raw Data-Georectify Airborne Datacube.bip.hdr\n",
      "Loading input file /media/mha114/Massimal/Larvik_Olberg/Hyperspectral/20210825/OlbergAreaN-1/3_Rad_Georef/OlbergholmenN_Pika_L_28-Radiance From Raw Data-Georectify Airborne Datacube.bip.hdr\n",
      "Saving sun glint corrected file as /media/mha114/Massimal/Larvik_Olberg/Hyperspectral/20210825/OlbergAreaN-1/4_Rad_Georef_SGC/OlbergholmenN_Pika_L_28-Radiance From Raw Data-Georectify Airborne Datacube.bip.hdr\n",
      "Loading input file /media/mha114/Massimal/Larvik_Olberg/Hyperspectral/20210825/OlbergAreaN-1/3_Rad_Georef/OlbergholmenN_Pika_L_3-Radiance From Raw Data-Georectify Airborne Datacube.bip.hdr\n",
      "Saving sun glint corrected file as /media/mha114/Massimal/Larvik_Olberg/Hyperspectral/20210825/OlbergAreaN-1/4_Rad_Georef_SGC/OlbergholmenN_Pika_L_3-Radiance From Raw Data-Georectify Airborne Datacube.bip.hdr\n",
      "Loading input file /media/mha114/Massimal/Larvik_Olberg/Hyperspectral/20210825/OlbergAreaN-1/3_Rad_Georef/OlbergholmenN_Pika_L_4-Radiance From Raw Data-Georectify Airborne Datacube.bip.hdr\n",
      "Saving sun glint corrected file as /media/mha114/Massimal/Larvik_Olberg/Hyperspectral/20210825/OlbergAreaN-1/4_Rad_Georef_SGC/OlbergholmenN_Pika_L_4-Radiance From Raw Data-Georectify Airborne Datacube.bip.hdr\n",
      "Loading input file /media/mha114/Massimal/Larvik_Olberg/Hyperspectral/20210825/OlbergAreaN-1/3_Rad_Georef/OlbergholmenN_Pika_L_5-Radiance From Raw Data-Georectify Airborne Datacube.bip.hdr\n",
      "Saving sun glint corrected file as /media/mha114/Massimal/Larvik_Olberg/Hyperspectral/20210825/OlbergAreaN-1/4_Rad_Georef_SGC/OlbergholmenN_Pika_L_5-Radiance From Raw Data-Georectify Airborne Datacube.bip.hdr\n",
      "Loading input file /media/mha114/Massimal/Larvik_Olberg/Hyperspectral/20210825/OlbergAreaN-1/3_Rad_Georef/OlbergholmenN_Pika_L_6-Radiance From Raw Data-Georectify Airborne Datacube.bip.hdr\n",
      "Saving sun glint corrected file as /media/mha114/Massimal/Larvik_Olberg/Hyperspectral/20210825/OlbergAreaN-1/4_Rad_Georef_SGC/OlbergholmenN_Pika_L_6-Radiance From Raw Data-Georectify Airborne Datacube.bip.hdr\n",
      "Loading input file /media/mha114/Massimal/Larvik_Olberg/Hyperspectral/20210825/OlbergAreaN-1/3_Rad_Georef/OlbergholmenN_Pika_L_7-Radiance From Raw Data-Georectify Airborne Datacube.bip.hdr\n",
      "Saving sun glint corrected file as /media/mha114/Massimal/Larvik_Olberg/Hyperspectral/20210825/OlbergAreaN-1/4_Rad_Georef_SGC/OlbergholmenN_Pika_L_7-Radiance From Raw Data-Georectify Airborne Datacube.bip.hdr\n",
      "Loading input file /media/mha114/Massimal/Larvik_Olberg/Hyperspectral/20210825/OlbergAreaN-1/3_Rad_Georef/OlbergholmenN_Pika_L_8-Radiance From Raw Data-Georectify Airborne Datacube.bip.hdr\n",
      "Saving sun glint corrected file as /media/mha114/Massimal/Larvik_Olberg/Hyperspectral/20210825/OlbergAreaN-1/4_Rad_Georef_SGC/OlbergholmenN_Pika_L_8-Radiance From Raw Data-Georectify Airborne Datacube.bip.hdr\n",
      "Loading input file /media/mha114/Massimal/Larvik_Olberg/Hyperspectral/20210825/OlbergAreaN-1/3_Rad_Georef/OlbergholmenN_Pika_L_9-Radiance From Raw Data-Georectify Airborne Datacube.bip.hdr\n",
      "Saving sun glint corrected file as /media/mha114/Massimal/Larvik_Olberg/Hyperspectral/20210825/OlbergAreaN-1/4_Rad_Georef_SGC/OlbergholmenN_Pika_L_9-Radiance From Raw Data-Georectify Airborne Datacube.bip.hdr\n"
     ]
    }
   ],
   "source": [
    "# Run batch processing\n",
    "batch_process.hedley_remove_glint(input_dir,output_dir,train_rad_file)"
   ]
  }
 ],
 "metadata": {
  "kernelspec": {
   "display_name": "Python 3",
   "language": "python",
   "name": "python3"
  },
  "language_info": {
   "codemirror_mode": {
    "name": "ipython",
    "version": 3
   },
   "file_extension": ".py",
   "mimetype": "text/x-python",
   "name": "python",
   "nbconvert_exporter": "python",
   "pygments_lexer": "ipython3",
   "version": "3.9.4"
  }
 },
 "nbformat": 4,
 "nbformat_minor": 5
}
