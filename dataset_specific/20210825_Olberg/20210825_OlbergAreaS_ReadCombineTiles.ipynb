{
 "cells": [
  {
   "cell_type": "code",
   "execution_count": 1,
   "id": "af4a7c95-dd7b-475a-82a4-a8af916b95a3",
   "metadata": {},
   "outputs": [],
   "source": [
    "# Disable TensorFlow debugging info and warnings\n",
    "import os\n",
    "os.environ['TF_CPP_MIN_LOG_LEVEL'] = '2'  # 2: Info and warnings not displayed "
   ]
  },
  {
   "cell_type": "code",
   "execution_count": 2,
   "id": "138ac9b8-88a1-4210-999e-81439be064bc",
   "metadata": {},
   "outputs": [],
   "source": [
    "import tensorflow as tf\n",
    "import numpy as np\n",
    "import skimage.io\n",
    "import matplotlib.pyplot as plt\n",
    "import pathlib\n",
    "import tqdm\n",
    "import annotation, misc, hyspec_cnn, hyspec_io"
   ]
  },
  {
   "cell_type": "code",
   "execution_count": 3,
   "id": "0568fbf7-5218-4857-9451-1dc9683c404b",
   "metadata": {},
   "outputs": [],
   "source": [
    "# Disable GPUs\n",
    "tf.config.set_visible_devices([], 'GPU')\n",
    "visible_devices = tf.config.get_visible_devices()\n",
    "for device in visible_devices:\n",
    "    assert device.device_type != 'GPU'"
   ]
  },
  {
   "cell_type": "code",
   "execution_count": 4,
   "id": "8f27cf4d-d01b-4c2b-bac9-14ea04f247af",
   "metadata": {},
   "outputs": [],
   "source": [
    "# Parameters\n",
    "train_frac = 0.7\n",
    "train_classes_to_merge = {6:2,7:4,8:5}\n",
    "val_classes_to_skip = [6,7,8]"
   ]
  },
  {
   "cell_type": "code",
   "execution_count": 5,
   "id": "03498506-c9a0-4bad-8fe6-7cdab599a179",
   "metadata": {},
   "outputs": [],
   "source": [
    "# Paths\n",
    "tiles_dir = pathlib.Path('/media/mha114/Massimal/Larvik_Olberg/Hyperspectral/20210825/OlbergAreaS/4b_Rad_Georef_SGC_Tiles/TrainingAndValidationDatasets')\n",
    "json_file = '/media/mha114/Massimal/Larvik_Olberg/Hyperspectral/20210825/OlbergAreaS/4b_Rad_Georef_SGC_Tiles/tile_classes.json'"
   ]
  },
  {
   "cell_type": "code",
   "execution_count": 6,
   "id": "57836155-17c9-4210-b5de-06f5027a279c",
   "metadata": {},
   "outputs": [],
   "source": [
    "# Read JSON with class names and labels\n",
    "class_dict = annotation.read_class_dict(json_file)"
   ]
  },
  {
   "cell_type": "code",
   "execution_count": 7,
   "id": "e4a91ebf-fb50-4a99-968d-fa73de5bc43c",
   "metadata": {},
   "outputs": [],
   "source": [
    "# Load and merge datasets\n",
    "dataset_dirs = [x for x in tiles_dir.glob('*/') if x.is_dir()]\n",
    "merged_dataset = tf.data.experimental.load(str(dataset_dirs[0]))\n",
    "for ds_dir in dataset_dirs[1:]:\n",
    "    merged_dataset = merged_dataset.concatenate(tf.data.experimental.load(str(ds_dir)))"
   ]
  },
  {
   "cell_type": "code",
   "execution_count": 8,
   "id": "d8d9c91f-8705-466a-ad86-bba16f9497e7",
   "metadata": {},
   "outputs": [
    {
     "name": "stdout",
     "output_type": "stream",
     "text": [
      "459\n"
     ]
    }
   ],
   "source": [
    "# Check how many tiles there are\n",
    "n_tiles = merged_dataset.cardinality().numpy()\n",
    "print(n_tiles)"
   ]
  },
  {
   "cell_type": "code",
   "execution_count": 9,
   "id": "4510f08d-c283-419d-b8fe-190f678d53bf",
   "metadata": {},
   "outputs": [],
   "source": [
    "# Shuffle dataset\n",
    "shuffled_dataset = merged_dataset.shuffle(n_tiles)"
   ]
  },
  {
   "cell_type": "code",
   "execution_count": 10,
   "id": "a15aac29-a2e1-4e1f-8c46-62348ba1e10f",
   "metadata": {},
   "outputs": [],
   "source": [
    "# Split into training and validation datasets\n",
    "n_train_tiles = int(train_frac*n_tiles)\n",
    "train_ds = shuffled_dataset.take(n_train_tiles)\n",
    "val_ds = shuffled_dataset.skip(n_train_tiles)"
   ]
  },
  {
   "cell_type": "code",
   "execution_count": 11,
   "id": "f8611239-c753-4911-9f23-411337689f23",
   "metadata": {},
   "outputs": [],
   "source": [
    "# test saving the shuffled dataset\n",
    "# Reads from original files and saves to new location - nice!\n",
    "# ReadCombineTilestest_save_path = '/media/mha114/Massimal/Larvik_Olberg/Hyperspectral/20210825/OlbergAreaS/X_SaveTensorflowDataset/test_shuffled_dataset'\n",
    "# tf.data.experimental.save(shuffled_dataset,test_save_path)"
   ]
  }
 ],
 "metadata": {
  "kernelspec": {
   "display_name": "Python 3 (ipykernel)",
   "language": "python",
   "name": "python3"
  },
  "language_info": {
   "codemirror_mode": {
    "name": "ipython",
    "version": 3
   },
   "file_extension": ".py",
   "mimetype": "text/x-python",
   "name": "python",
   "nbconvert_exporter": "python",
   "pygments_lexer": "ipython3",
   "version": "3.9.13"
  }
 },
 "nbformat": 4,
 "nbformat_minor": 5
}
