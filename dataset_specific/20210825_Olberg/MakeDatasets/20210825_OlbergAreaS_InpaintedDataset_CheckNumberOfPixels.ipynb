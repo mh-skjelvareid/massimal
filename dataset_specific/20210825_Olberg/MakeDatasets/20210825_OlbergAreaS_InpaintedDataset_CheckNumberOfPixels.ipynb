{
 "cells": [
  {
   "cell_type": "code",
   "execution_count": 1,
   "metadata": {},
   "outputs": [],
   "source": [
    "import numpy as np\n",
    "import pathlib\n"
   ]
  },
  {
   "cell_type": "code",
   "execution_count": 2,
   "metadata": {},
   "outputs": [],
   "source": [
    "# Paths\n",
    "train_spectra_path = pathlib.Path('/media/mha114/Massimal/Larvik_Olberg/Hyperspectral/20210825/OlbergAreaS/5b_Rad_Georef_SGC_PCA_TrainValSplit/Training_Spectra/20210825_OlbergAreaS_Spectra.npz')\n",
    "val_spectra_path = pathlib.Path('/media/mha114/Massimal/Larvik_Olberg/Hyperspectral/20210825/OlbergAreaS/5b_Rad_Georef_SGC_PCA_TrainValSplit/Validation_Spectra/20210825_OlbergAreaS_Spectra.npz')\n"
   ]
  },
  {
   "cell_type": "code",
   "execution_count": 3,
   "metadata": {},
   "outputs": [],
   "source": [
    "# Load training spectra\n",
    "with np.load(train_spectra_path) as npz_files:\n",
    "    y_train = npz_files['y']"
   ]
  },
  {
   "cell_type": "code",
   "execution_count": 4,
   "metadata": {},
   "outputs": [],
   "source": [
    "# Load validation spectra\n",
    "with np.load(val_spectra_path) as npz_files:\n",
    "    y_val = npz_files['y']"
   ]
  },
  {
   "cell_type": "code",
   "execution_count": 5,
   "metadata": {},
   "outputs": [],
   "source": [
    "# Define classes\n",
    "class_index =   {1: 'Sand',\n",
    "                2: 'Zostera marina',\n",
    "                3: 'Zostera marina with turf algae',\n",
    "                4: 'Rockweed',\n",
    "                5: 'Other algae'}"
   ]
  },
  {
   "cell_type": "code",
   "execution_count": 6,
   "metadata": {},
   "outputs": [
    {
     "name": "stdout",
     "output_type": "stream",
     "text": [
      "Sand                          :  1345990 training pixels,  121731 validation pixels\n",
      "Zostera marina                :   685021 training pixels,  233355 validation pixels\n",
      "Zostera marina with turf algae:   143152 training pixels,  161667 validation pixels\n",
      "Rockweed                      :   718073 training pixels,   74536 validation pixels\n",
      "Other algae                   :   378585 training pixels,   98614 validation pixels\n",
      "------------------------------------------------------------------------------------\n",
      "Total                         :  3270821 training pixels,  689903 validation pixels\n"
     ]
    }
   ],
   "source": [
    "for i in class_index:\n",
    "    n_train_pix = np.count_nonzero(y_train == i) \n",
    "    n_val_pix = np.count_nonzero(y_val == i)\n",
    "    print(f'{class_index[i]: <30}: {n_train_pix: >8} training pixels, {n_val_pix: >7} validation pixels')\n",
    "print('-'*84)\n",
    "print(f'{\"Total\": <30}: {len(y_train): >8} training pixels, {len(y_val): >7} validation pixels')"
   ]
  }
 ],
 "metadata": {
  "kernelspec": {
   "display_name": "massimal",
   "language": "python",
   "name": "python3"
  },
  "language_info": {
   "codemirror_mode": {
    "name": "ipython",
    "version": 3
   },
   "file_extension": ".py",
   "mimetype": "text/x-python",
   "name": "python",
   "nbconvert_exporter": "python",
   "pygments_lexer": "ipython3",
   "version": "3.11.7"
  }
 },
 "nbformat": 4,
 "nbformat_minor": 2
}
