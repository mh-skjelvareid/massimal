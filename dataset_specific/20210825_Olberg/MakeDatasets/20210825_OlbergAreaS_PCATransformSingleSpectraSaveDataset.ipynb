{
 "cells": [
  {
   "cell_type": "code",
   "execution_count": 1,
   "id": "54b444dd-cb55-4f35-81f0-0ee69697cf6e",
   "metadata": {},
   "outputs": [],
   "source": [
    "# Disable TensorFlow debugging info and warnings\n",
    "import os\n",
    "os.environ['TF_CPP_MIN_LOG_LEVEL'] = '2'  # 2: Info and warnings not displayed "
   ]
  },
  {
   "cell_type": "code",
   "execution_count": 2,
   "id": "2fcc0b7d-905a-4a0f-b20c-67d339aa8cc2",
   "metadata": {},
   "outputs": [],
   "source": [
    "import numpy as np\n",
    "import skimage.io\n",
    "import matplotlib.pyplot as plt\n",
    "import pathlib\n",
    "import tqdm\n",
    "import annotation, misc, hyspec_io, image_render\n",
    "import skimage.exposure\n",
    "import tensorflow as tf"
   ]
  },
  {
   "cell_type": "code",
   "execution_count": 3,
   "id": "813853e4-70ff-434e-91ba-f9fe2b8f0ca5",
   "metadata": {},
   "outputs": [],
   "source": [
    "# Disable GPUs\n",
    "tf.config.set_visible_devices([], 'GPU')\n",
    "visible_devices = tf.config.get_visible_devices()\n",
    "for device in visible_devices:\n",
    "    assert device.device_type != 'GPU'"
   ]
  },
  {
   "cell_type": "code",
   "execution_count": 4,
   "id": "4ead297e-7b76-4fdf-9be6-9200f9cc2291",
   "metadata": {},
   "outputs": [],
   "source": [
    "# Paths\n",
    "pca_data_model_file = pathlib.Path('/media/mha114/Massimal/Larvik_Olberg/Hyperspectral/20210825/OlbergAreaS/M_PCA_Model/20210825_OlbergAreaA_PCA_data_and_model.npz')\n",
    "spectra_dir_train = pathlib.Path('/media/mha114/Massimal/Larvik_Olberg/Hyperspectral/20210825/OlbergAreaS/4c_Rad_Georef_SGC_Spectra/TrainingAndValidationDatasets')\n",
    "spectra_dir_test = pathlib.Path('/media/mha114/Massimal/Larvik_Olberg/Hyperspectral/20210825/OlbergAreaS/4c_Rad_Georef_SGC_Spectra/TestDatasets')\n",
    "class_dict_file = pathlib.Path('/media/mha114/Massimal/Larvik_Olberg/Hyperspectral/20210825/OlbergAreaS/4c_Rad_Georef_SGC_Spectra/spectra_classes.json')\n",
    "pca_dataset_train_path = pathlib.Path('/media/mha114/Massimal/Larvik_Olberg/Hyperspectral/20210825/OlbergAreaS/5b_Rad_Georef_SGC_PCA-spectra/20210825_Olberg_PCA_TrainValDataset.npz')\n",
    "pca_dataset_test_path = pathlib.Path('/media/mha114/Massimal/Larvik_Olberg/Hyperspectral/20210825/OlbergAreaS/5b_Rad_Georef_SGC_PCA-spectra/20210825_Olberg_PCA_TestDataset.npz')"
   ]
  },
  {
   "cell_type": "code",
   "execution_count": 5,
   "id": "8ab87588-bb6f-4efe-914f-51d72e485e2d",
   "metadata": {},
   "outputs": [],
   "source": [
    "# Load PCA model\n",
    "with np.load(pca_data_model_file) as npz_files:\n",
    "    X_mean = npz_files['spectra_mean']\n",
    "    X_std = npz_files['spectra_std']\n",
    "    W_pca = npz_files['pca_components']"
   ]
  },
  {
   "cell_type": "code",
   "execution_count": 6,
   "id": "0d4c6370-b4fe-4f96-a11a-1847dc766922",
   "metadata": {},
   "outputs": [],
   "source": [
    "# Get class dict\n",
    "class_dict = annotation.read_class_dict(class_dict_file)"
   ]
  },
  {
   "cell_type": "code",
   "execution_count": 7,
   "id": "df908b23-2988-4ef5-b228-2c4cdb31fdc8",
   "metadata": {},
   "outputs": [
    {
     "name": "stderr",
     "output_type": "stream",
     "text": [
      "100%|████████████████████████████████████████████████████████| 16/16 [00:26<00:00,  1.63s/it]\n"
     ]
    }
   ],
   "source": [
    "# Get list of datasets\n",
    "dataset_paths = [path for path in spectra_dir_train.glob('*') if path.is_dir()]\n",
    "\n",
    "# Iterate over datasets and merge numpy arrays\n",
    "pca_list = []\n",
    "labels_list = []\n",
    "for dataset_path in tqdm.tqdm(dataset_paths):\n",
    "    dataset = tf.data.experimental.load(str(dataset_path))\n",
    "    spectra,labels = next(dataset.batch(dataset.cardinality()).as_numpy_iterator())\n",
    "    spectra_pca = ((spectra - X_mean)/X_std) @ W_pca\n",
    "    pca_list.append(spectra_pca)\n",
    "    labels_list.append(labels)\n",
    "pca_scores = np.concatenate(pca_list)\n",
    "labels = np.concatenate(labels_list)\n",
    "\n",
    "# Save data as numpy array \n",
    "np.savez(pca_dataset_train_path,\n",
    "         pca_scores=pca_scores, \n",
    "         labels=labels, \n",
    "         class_dict=class_dict)"
   ]
  },
  {
   "cell_type": "code",
   "execution_count": 8,
   "id": "03a7bf9b-b29d-4b36-8a02-d0750af83eee",
   "metadata": {},
   "outputs": [
    {
     "name": "stderr",
     "output_type": "stream",
     "text": [
      "100%|██████████████████████████████████████████████████████████| 2/2 [00:06<00:00,  3.12s/it]\n"
     ]
    }
   ],
   "source": [
    "# Get list of datasets\n",
    "dataset_paths = [path for path in spectra_dir_test.glob('*') if path.is_dir()]\n",
    "\n",
    "# Iterate over datasets and merge numpy arrays\n",
    "pca_list = []\n",
    "labels_list = []\n",
    "for dataset_path in tqdm.tqdm(dataset_paths):\n",
    "    dataset = tf.data.experimental.load(str(dataset_path))\n",
    "    spectra,labels = next(dataset.batch(dataset.cardinality()).as_numpy_iterator())\n",
    "    spectra_pca = ((spectra - X_mean)/X_std) @ W_pca\n",
    "    pca_list.append(spectra_pca)\n",
    "    labels_list.append(labels)\n",
    "pca_scores = np.concatenate(pca_list)\n",
    "labels = np.concatenate(labels_list)\n",
    "\n",
    "# Save data as numpy array \n",
    "np.savez(pca_dataset_test_path,\n",
    "         pca_scores=pca_scores, \n",
    "         labels=labels, \n",
    "         class_dict=class_dict)"
   ]
  }
 ],
 "metadata": {
  "kernelspec": {
   "display_name": "Python 3 (ipykernel)",
   "language": "python",
   "name": "python3"
  },
  "language_info": {
   "codemirror_mode": {
    "name": "ipython",
    "version": 3
   },
   "file_extension": ".py",
   "mimetype": "text/x-python",
   "name": "python",
   "nbconvert_exporter": "python",
   "pygments_lexer": "ipython3",
   "version": "3.9.13"
  }
 },
 "nbformat": 4,
 "nbformat_minor": 5
}
