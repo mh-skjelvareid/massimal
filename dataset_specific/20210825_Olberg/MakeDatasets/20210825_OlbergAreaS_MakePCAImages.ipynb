{
 "cells": [
  {
   "cell_type": "code",
   "execution_count": 1,
   "id": "b70d85c7-fd6f-4cc1-808d-72cd9f07a267",
   "metadata": {},
   "outputs": [],
   "source": [
    "import numpy as np\n",
    "import skimage.io\n",
    "import matplotlib.pyplot as plt\n",
    "import pathlib\n",
    "import tqdm\n",
    "import annotation, misc, hyspec_io, image_render\n",
    "import skimage.exposure"
   ]
  },
  {
   "cell_type": "code",
   "execution_count": 2,
   "id": "99090a4f-0327-4599-8645-5b29954aa8a0",
   "metadata": {},
   "outputs": [],
   "source": [
    "# Paths\n",
    "pca_data_model_file = pathlib.Path('/media/mha114/Massimal/Larvik_Olberg/Hyperspectral/20210825/OlbergAreaS/M_PCA_Model/20210825_OlbergAreaA_PCA_data_and_model.npz')\n",
    "hyspec_dir = pathlib.Path('/media/mha114/Massimal/Larvik_Olberg/Hyperspectral/20210825/OlbergAreaS/4_Rad_Georef_SGC')\n",
    "pca_im_dir = pathlib.Path('/media/mha114/Massimal/Larvik_Olberg/Hyperspectral/20210825/OlbergAreaS/5_Rad_Georef_SGC_PCA')"
   ]
  },
  {
   "cell_type": "code",
   "execution_count": 3,
   "id": "4b7a7d70-653d-4467-bf37-6c3ee1ce02c5",
   "metadata": {},
   "outputs": [],
   "source": [
    "# Load PCA model\n",
    "with np.load(pca_data_model_file) as npz_files:\n",
    "    X_mean = npz_files['spectra_mean']\n",
    "    X_std = npz_files['spectra_std']\n",
    "    W_pca = npz_files['pca_components']"
   ]
  },
  {
   "cell_type": "code",
   "execution_count": 4,
   "id": "4a6fd6ae-b36f-437c-9ed6-316463aeb692",
   "metadata": {},
   "outputs": [],
   "source": [
    "hyspec_images = [file for file in hyspec_dir.glob('*.hdr')]"
   ]
  },
  {
   "cell_type": "code",
   "execution_count": 5,
   "id": "cef18721-36d5-4596-82d0-776a83948e15",
   "metadata": {},
   "outputs": [
    {
     "name": "stderr",
     "output_type": "stream",
     "text": [
      "100%|██████████████████████████████████████████████████████████| 1/1 [00:04<00:00,  4.97s/it]\n"
     ]
    }
   ],
   "source": [
    "for hyspec_image_path in tqdm.tqdm(hyspec_images):\n",
    "    # Load image\n",
    "    image,wl,rgb_ind,_ = hyspec_io.load_envi_image(str(hyspec_image_path))\n",
    "    \n",
    "    # Create PCA image\n",
    "    im_vec = np.reshape(image,(-1,image.shape[-1]))\n",
    "    im_vec_norm = (im_vec-X_mean)/X_std\n",
    "    im_vec_pca = im_vec_norm @ W_pca\n",
    "    im_pca = np.reshape(im_vec_pca,image.shape[0:2]+(im_vec_pca.shape[-1],))\n",
    "    \n",
    "    # Percentile stretch image and show 3 first components as RGB\n",
    "    nonzero_mask = ~np.all(image==0,axis=2,keepdims=True)\n",
    "    im_pca_rgb = image_render.percentile_stretch(im_pca[:,:,[2,1,0]])*nonzero_mask\n",
    "\n",
    "    # Save PCA image to file\n",
    "    pca_file = pca_im_dir / (str(hyspec_image_path.name).split('.')[0] + '.png')"
   ]
  }
 ],
 "metadata": {
  "kernelspec": {
   "display_name": "Python 3 (ipykernel)",
   "language": "python",
   "name": "python3"
  },
  "language_info": {
   "codemirror_mode": {
    "name": "ipython",
    "version": 3
   },
   "file_extension": ".py",
   "mimetype": "text/x-python",
   "name": "python",
   "nbconvert_exporter": "python",
   "pygments_lexer": "ipython3",
   "version": "3.9.13"
  }
 },
 "nbformat": 4,
 "nbformat_minor": 5
}
