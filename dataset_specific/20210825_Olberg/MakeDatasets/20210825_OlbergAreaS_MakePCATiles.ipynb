{
 "cells": [
  {
   "cell_type": "code",
   "execution_count": 1,
   "id": "04f37e77-78e2-4efe-adda-cd6bbeb4a736",
   "metadata": {},
   "outputs": [],
   "source": [
    "# Disable TensorFlow debugging info and warnings\n",
    "import os\n",
    "os.environ['TF_CPP_MIN_LOG_LEVEL'] = '2'  # 2: Info and warnings not displayed "
   ]
  },
  {
   "cell_type": "code",
   "execution_count": 2,
   "id": "bdf0910f-369c-4314-82cb-a364f445f3f7",
   "metadata": {},
   "outputs": [],
   "source": [
    "import numpy as np\n",
    "import skimage.io\n",
    "import matplotlib.pyplot as plt\n",
    "import pathlib\n",
    "import tqdm\n",
    "import annotation, misc, hyspec_io, image_render\n",
    "import skimage.exposure\n",
    "import tensorflow as tf"
   ]
  },
  {
   "cell_type": "code",
   "execution_count": 3,
   "id": "63fb6a9b-5293-4d6c-9a81-ed50338a0cb4",
   "metadata": {},
   "outputs": [],
   "source": [
    "# Disable GPUs\n",
    "tf.config.set_visible_devices([], 'GPU')\n",
    "visible_devices = tf.config.get_visible_devices()\n",
    "for device in visible_devices:\n",
    "    assert device.device_type != 'GPU'"
   ]
  },
  {
   "cell_type": "code",
   "execution_count": 4,
   "id": "99090a4f-0327-4599-8645-5b29954aa8a0",
   "metadata": {},
   "outputs": [],
   "source": [
    "# Paths\n",
    "pca_data_model_file = pathlib.Path('/media/mha114/Massimal/Larvik_Olberg/Hyperspectral/20210825/OlbergAreaS/M_PCA_Model/20210825_OlbergAreaA_PCA_data_and_model.npz')\n",
    "tiles_dataset_path = pathlib.Path('/media/mha114/Massimal/Larvik_Olberg/Hyperspectral/20210825/OlbergAreaS/4c_Rad_Georef_SGC_Tiles/MergedTrainValDatasetNGT')\n",
    "pca_tiles_dataset_path = pathlib.Path('/media/mha114/Massimal/Larvik_Olberg/Hyperspectral/20210825/OlbergAreaS/5c_Rad_Georef_SGC_PCA_Tiles/20210825_Olberg_PCA_TrainValDataset')"
   ]
  },
  {
   "cell_type": "code",
   "execution_count": 5,
   "id": "4b7a7d70-653d-4467-bf37-6c3ee1ce02c5",
   "metadata": {},
   "outputs": [],
   "source": [
    "# Load PCA model\n",
    "with np.load(pca_data_model_file) as npz_files:\n",
    "    X_mean = npz_files['spectra_mean']\n",
    "    X_std = npz_files['spectra_std']\n",
    "    W_pca = npz_files['pca_components']"
   ]
  },
  {
   "cell_type": "code",
   "execution_count": 6,
   "id": "19d97456-3a3c-4ddb-9a5e-e7af98bffb96",
   "metadata": {},
   "outputs": [],
   "source": [
    "def pca_transform_image(image,W_pca,X_mean,X_std=None):\n",
    "    \"\"\" Apply PCA transform to 3D image cube \n",
    "    \n",
    "    # Arguments:\n",
    "    image       NumPy array with 3 dimensions (n_rows,n_cols,n_channels)\n",
    "    W_pca       PCA weight matrix with 2 dimensions (n_channels,n_components)\n",
    "    X_mean      Mean value vector, to be subtracted from data (\"centering\")\n",
    "                Length (n_channels,)\n",
    "    \n",
    "    # Keyword arguments:\n",
    "    X_std       Standard deviation vector, to be used for scaling (z score)\n",
    "                If None, no scaling is performed\n",
    "                Length (n_channels)\n",
    "                \n",
    "    # Returns:\n",
    "    image_pca   Numpy array with dimension (n_rows, n_cols, n_channels)\n",
    "    \n",
    "    # Notes:\n",
    "    - Input pixels which are zero across all channels are set to zero in the \n",
    "    output PCA image as well.\n",
    "    \n",
    "    \"\"\"\n",
    "    # Create mask for nonzero values\n",
    "    nonzero_mask = ~np.all(image==0,axis=2,keepdims=True)\n",
    "    \n",
    "    # Vectorize image\n",
    "    im_vec = np.reshape(image,(-1,image.shape[-1]))\n",
    "    \n",
    "    # Subtract mean (always) and scale (optional)\n",
    "    im_vec_norm = im_vec-X_mean\n",
    "    if X_std is not None:\n",
    "        im_vec_norm = im_vec_norm/X_std\n",
    "\n",
    "    # PCA transform through matrix multiplication (projection to rotated coordinate system)\n",
    "    im_vec_pca = im_vec_norm @ W_pca\n",
    "    \n",
    "    # Reshape into image, and ensure that zero-value input pixels are also zero in output\n",
    "    im_pca = np.reshape(im_vec_pca,image.shape[0:2]+(im_vec_pca.shape[-1],))*nonzero_mask\n",
    "\n",
    "    return im_pca"
   ]
  },
  {
   "cell_type": "code",
   "execution_count": 7,
   "id": "4a6fd6ae-b36f-437c-9ed6-316463aeb692",
   "metadata": {},
   "outputs": [],
   "source": [
    "# Load tiles dataset\n",
    "tiles_data = tf.data.experimental.load(str(tiles_dataset_path))"
   ]
  },
  {
   "cell_type": "code",
   "execution_count": 8,
   "id": "629df140-abc1-4da8-81bc-93e13a6d45d3",
   "metadata": {},
   "outputs": [
    {
     "name": "stderr",
     "output_type": "stream",
     "text": [
      "459it [00:26, 17.05it/s]\n"
     ]
    }
   ],
   "source": [
    "# PCA transform each tile\n",
    "pca_tiles_list = []\n",
    "label_tiles_list = []\n",
    "for image_tile, label_tile in tqdm.tqdm(tiles_data.as_numpy_iterator()):    \n",
    "    im_pca = pca_transform_image(image_tile,W_pca,X_mean,X_std)\n",
    "    pca_tiles_list.append(im_pca)\n",
    "    label_tiles_list.append(label_tile)"
   ]
  },
  {
   "cell_type": "code",
   "execution_count": 9,
   "id": "681991d6-5928-4d25-ad82-0387d977aea5",
   "metadata": {},
   "outputs": [],
   "source": [
    "# Concantenate tiles into single tensor\n",
    "pca_tiles = np.concatenate(np.expand_dims(pca_tiles_list,axis=0))\n",
    "label_tiles = np.concatenate(np.expand_dims(label_tiles_list,axis=0))"
   ]
  },
  {
   "cell_type": "code",
   "execution_count": 10,
   "id": "b3154622-7e2e-421c-a526-cd19364f0ff3",
   "metadata": {},
   "outputs": [],
   "source": [
    "# Create PCA dataset\n",
    "pca_tiles_dataset = tf.data.Dataset.from_tensor_slices((pca_tiles,label_tiles))"
   ]
  },
  {
   "cell_type": "code",
   "execution_count": 11,
   "id": "bb87695f-ebf8-4769-9aa4-33f753de2ab7",
   "metadata": {},
   "outputs": [],
   "source": [
    "# Save PCA dataset\n",
    "tf.data.experimental.save(pca_tiles_dataset,str(pca_tiles_dataset_path))"
   ]
  },
  {
   "cell_type": "code",
   "execution_count": null,
   "id": "014d5a0e-bcad-40d5-8745-139b2ed50aac",
   "metadata": {},
   "outputs": [],
   "source": []
  }
 ],
 "metadata": {
  "kernelspec": {
   "display_name": "Python 3 (ipykernel)",
   "language": "python",
   "name": "python3"
  },
  "language_info": {
   "codemirror_mode": {
    "name": "ipython",
    "version": 3
   },
   "file_extension": ".py",
   "mimetype": "text/x-python",
   "name": "python",
   "nbconvert_exporter": "python",
   "pygments_lexer": "ipython3",
   "version": "3.9.13"
  }
 },
 "nbformat": 4,
 "nbformat_minor": 5
}
