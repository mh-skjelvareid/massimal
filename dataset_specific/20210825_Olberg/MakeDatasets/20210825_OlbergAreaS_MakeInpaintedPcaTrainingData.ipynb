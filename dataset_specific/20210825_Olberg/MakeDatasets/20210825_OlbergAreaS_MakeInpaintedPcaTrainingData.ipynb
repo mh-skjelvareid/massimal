{
 "cells": [
  {
   "cell_type": "code",
   "execution_count": 1,
   "id": "ea84d574-9314-49e1-9ad3-4045159536a8",
   "metadata": {},
   "outputs": [],
   "source": [
    "# Disable TensorFlow debugging info and warnings\n",
    "import os\n",
    "os.environ['TF_CPP_MIN_LOG_LEVEL'] = '2'  # 2: Info and warnings not displayed "
   ]
  },
  {
   "cell_type": "code",
   "execution_count": 2,
   "id": "5036068b-dccc-472f-a8d9-3e9147558dc2",
   "metadata": {},
   "outputs": [],
   "source": [
    "import numpy as np\n",
    "import skimage.io\n",
    "import matplotlib.pyplot as plt\n",
    "import pathlib\n",
    "import tqdm\n",
    "import annotation, misc, hyspec_io, image_render, hyspec_ml, hyspec_cnn, preprocess\n",
    "import skimage.exposure\n",
    "import tensorflow as tf"
   ]
  },
  {
   "cell_type": "code",
   "execution_count": 3,
   "id": "2433f914-a78a-4fc3-99e8-5b9e12ba630e",
   "metadata": {},
   "outputs": [],
   "source": [
    "# Disable GPUs\n",
    "tf.config.set_visible_devices([], 'GPU')\n",
    "visible_devices = tf.config.get_visible_devices()\n",
    "for device in visible_devices:\n",
    "    assert device.device_type != 'GPU'"
   ]
  },
  {
   "cell_type": "code",
   "execution_count": 4,
   "id": "075c9c68-3ec4-4bde-8a3c-2138fbd0d8a4",
   "metadata": {},
   "outputs": [],
   "source": [
    "# Paths\n",
    "json_gray = pathlib.Path('/media/mha114/Massimal/Larvik_Olberg/Hyperspectral/20210825/OlbergAreaS/M_Annotation/20210825_Olbergholmen_Annotation_20230228_gray/label_classes.json')\n",
    "train_dataset_dir = pathlib.Path('/media/mha114/Massimal/Larvik_Olberg/Hyperspectral/20210825/OlbergAreaS/5b_Rad_Georef_SGC_PCA_TrainValSplit/Training_Images')\n",
    "train_tiles_dir = pathlib.Path('/media/mha114/Massimal/Larvik_Olberg/Hyperspectral/20210825/OlbergAreaS/5b_Rad_Georef_SGC_PCA_TrainValSplit/Training_Tiles')\n",
    "train_spectra_path = pathlib.Path('/media/mha114/Massimal/Larvik_Olberg/Hyperspectral/20210825/OlbergAreaS/5b_Rad_Georef_SGC_PCA_TrainValSplit/Training_Spectra/20210825_OlbergAreaS_Spectra.npz')\n",
    "merged_classes_json_tiles = train_tiles_dir / '20210825_OlbergAreaS_MergedClasses.json'\n",
    "merged_classes_json_spectra = train_spectra_path.parent / '20210825_OlbergAreaS_MergedClasses.json'\n"
   ]
  },
  {
   "cell_type": "code",
   "execution_count": 5,
   "id": "6bb812a5-36e6-4baa-b638-43640bccc66b",
   "metadata": {},
   "outputs": [],
   "source": [
    "# Parameters\n",
    "TILE_SHAPE = (128,128)\n",
    "\n",
    "# Instructions for merging / extracting classes\n",
    "classes_to_merge = [['Zostera marina - dominant','Zostera marina - normal','Zostera marina - sparse','Zostera marina - NGT'],\n",
    "                    ['Rockweed','Rockweed with turf algae','Fucus serratus','Saccharina latissima','Rockweed - NGT'],\n",
    "                    ['Turf algae - dominant','Turf algae - normal','Turf algae - sparse','Aegagropila (algae ball)','Other algae - NGT']]\n",
    "merged_class_names = ['Zostera marina',\n",
    "                      'Rockweed',\n",
    "                      'Other algae']\n",
    "classes_to_extract = ['Sand',\n",
    "                      'Zostera marina',\n",
    "                      'Zostera marina with turf algae',\n",
    "                      'Rockweed',\n",
    "                      'Other algae']\n"
   ]
  },
  {
   "cell_type": "code",
   "execution_count": 6,
   "id": "80f937c1-7077-4ffc-9390-d634755422ce",
   "metadata": {},
   "outputs": [],
   "source": [
    "# Read annotation metadata file, show classes\n",
    "class_dict = annotation.read_hasty_metadata(json_gray)"
   ]
  },
  {
   "cell_type": "code",
   "execution_count": 7,
   "id": "2e6fad8e-ff23-4a8b-bda7-1721bd2764d3",
   "metadata": {},
   "outputs": [],
   "source": [
    "# Loop through PCA images, merge labels and create tiles\n",
    "tiles_dataset_list = []\n",
    "for dataset_path in train_dataset_dir.glob('*'):\n",
    "    dataset = tf.data.experimental.load(str(dataset_path))\n",
    "    pca_im, label_im = [numpy_data for numpy_data in dataset.as_numpy_iterator()][0]\n",
    "        \n",
    "    # Read and filter image (class mask)\n",
    "    merged_class_dict, merged_class_mask = annotation.merge_classes_with_mask(\n",
    "        class_dict,label_im,classes_to_merge,merged_class_names)\n",
    "    filtered_class_dict, filtered_class_mask = annotation.extract_subset(\n",
    "        merged_class_dict,merged_class_mask,classes_to_extract)\n",
    "    \n",
    "    # Split into tiles\n",
    "    pca_tiles, label_tiles = hyspec_cnn.labeled_image_to_tensor_tiles(pca_im,filtered_class_mask,TILE_SHAPE)\n",
    "\n",
    "    # Create dataset from tiles\n",
    "    tile_image_names = tf.convert_to_tensor([dataset_path.name for i in range(len(pca_tiles))])\n",
    "    tiles_dataset_list.append(tf.data.Dataset.from_tensor_slices((pca_tiles,label_tiles,tile_image_names)))"
   ]
  },
  {
   "cell_type": "code",
   "execution_count": 8,
   "id": "edd2cbb3-f558-4774-9c8c-8484ee7b39b8",
   "metadata": {},
   "outputs": [
    {
     "data": {
      "text/plain": [
       "{'Sand': 1,\n",
       " 'Zostera marina': 2,\n",
       " 'Zostera marina with turf algae': 3,\n",
       " 'Rockweed': 4,\n",
       " 'Other algae': 5}"
      ]
     },
     "execution_count": 8,
     "metadata": {},
     "output_type": "execute_result"
    }
   ],
   "source": [
    "# Show merged / filtered classes\n",
    "filtered_class_dict"
   ]
  },
  {
   "cell_type": "code",
   "execution_count": 9,
   "id": "7c6f2e9a-c56d-4bdc-bc8d-067cdef530dc",
   "metadata": {},
   "outputs": [],
   "source": [
    "# Concatenate tiles\n",
    "tiles_concat = tiles_dataset_list[0]\n",
    "for tiles in tiles_dataset_list[1:]:\n",
    "    tiles_concat = tiles_concat.concatenate(tiles)"
   ]
  },
  {
   "cell_type": "code",
   "execution_count": 10,
   "id": "00784ac3-6aa0-4fa5-a7c7-64d42fcf864d",
   "metadata": {},
   "outputs": [
    {
     "name": "stdout",
     "output_type": "stream",
     "text": [
      "Number of tiles: 457\n"
     ]
    }
   ],
   "source": [
    "print(f'Number of tiles: {tiles_concat.cardinality()}')"
   ]
  },
  {
   "cell_type": "code",
   "execution_count": 11,
   "id": "4d7b157f-3c64-4ad7-b9dc-2c87d3f41f45",
   "metadata": {},
   "outputs": [],
   "source": [
    "# Save tiles dataset and class dict\n",
    "tf.data.experimental.save(tiles_concat,str(train_tiles_dir/'Dataset'))\n",
    "annotation.save_class_dict(filtered_class_dict,merged_classes_json_tiles)"
   ]
  },
  {
   "cell_type": "code",
   "execution_count": 12,
   "id": "9a7f694d-1ebb-47c6-bae9-addead285a4d",
   "metadata": {},
   "outputs": [],
   "source": [
    "# Extract spectra and classes from dataset\n",
    "X_list = []\n",
    "y_list = []\n",
    "for pca_tile,label_tile,_ in tiles_concat.as_numpy_iterator():\n",
    "    # nonzero_mask = np.all(pca_tile != 0,axis=2,keepdims=False)\n",
    "    labelled_mask = (label_tile != 0)\n",
    "    X_list.append(pca_tile[labelled_mask])\n",
    "    y_list.append(label_tile[labelled_mask])\n",
    "X = np.concatenate(X_list)\n",
    "y = np.concatenate(y_list)"
   ]
  },
  {
   "cell_type": "code",
   "execution_count": 13,
   "id": "2b38e9c5-d607-444a-a243-3185f94d383e",
   "metadata": {},
   "outputs": [],
   "source": [
    "# Save spectra and class disct\n",
    "np.savez(train_spectra_path,X=X,y=y)\n",
    "annotation.save_class_dict(filtered_class_dict,merged_classes_json_spectra)"
   ]
  },
  {
   "cell_type": "code",
   "execution_count": 14,
   "id": "0aebe2aa-4cc5-4859-99ed-9352e6aafa97",
   "metadata": {},
   "outputs": [],
   "source": [
    "# Test loading spectra\n",
    "# with np.load(train_spectra_path) as npz_files:\n",
    "#     X_loaded = npz_files['X']\n",
    "#     y_loaded = npz_files['y']"
   ]
  }
 ],
 "metadata": {
  "kernelspec": {
   "display_name": "Python 3 (ipykernel)",
   "language": "python",
   "name": "python3"
  },
  "language_info": {
   "codemirror_mode": {
    "name": "ipython",
    "version": 3
   },
   "file_extension": ".py",
   "mimetype": "text/x-python",
   "name": "python",
   "nbconvert_exporter": "python",
   "pygments_lexer": "ipython3",
   "version": "3.9.13"
  }
 },
 "nbformat": 4,
 "nbformat_minor": 5
}
