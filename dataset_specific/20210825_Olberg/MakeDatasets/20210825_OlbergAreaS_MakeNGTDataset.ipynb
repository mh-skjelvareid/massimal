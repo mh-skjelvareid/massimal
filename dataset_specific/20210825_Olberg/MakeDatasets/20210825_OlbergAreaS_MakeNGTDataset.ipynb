{
 "cells": [
  {
   "cell_type": "code",
   "execution_count": 1,
   "id": "48454acc-44ce-4877-89e4-b667b4ed571d",
   "metadata": {},
   "outputs": [],
   "source": [
    "# Disable TensorFlow debugging info and warnings\n",
    "import os\n",
    "os.environ['TF_CPP_MIN_LOG_LEVEL'] = '2'  # 2: Info and warnings not displayed "
   ]
  },
  {
   "cell_type": "code",
   "execution_count": 2,
   "id": "b59b83b7-948b-4a1f-a50d-4186a5552ef5",
   "metadata": {},
   "outputs": [],
   "source": [
    "import tensorflow as tf\n",
    "import numpy as np\n",
    "import skimage.io\n",
    "import matplotlib.pyplot as plt\n",
    "import pathlib\n",
    "import tqdm\n",
    "import annotation, misc, hyspec_cnn, hyspec_io"
   ]
  },
  {
   "cell_type": "code",
   "execution_count": 3,
   "id": "1f17bc4c-d6ba-4d27-a828-74c13a1b5c3a",
   "metadata": {},
   "outputs": [],
   "source": [
    "# Disable GPUs\n",
    "tf.config.set_visible_devices([], 'GPU')\n",
    "visible_devices = tf.config.get_visible_devices()\n",
    "for device in visible_devices:\n",
    "    assert device.device_type != 'GPU'"
   ]
  },
  {
   "cell_type": "code",
   "execution_count": 4,
   "id": "44bad699-d3f1-4a74-9e87-ce400035a22a",
   "metadata": {},
   "outputs": [],
   "source": [
    "# Paths\n",
    "tiles_dir = pathlib.Path('/media/mha114/Massimal/Larvik_Olberg/Hyperspectral/20210825/OlbergAreaS/4b_Rad_Georef_SGC_Tiles/TrainingAndValidationDatasets')\n",
    "json_file = '/media/mha114/Massimal/Larvik_Olberg/Hyperspectral/20210825/OlbergAreaS/4b_Rad_Georef_SGC_Tiles/tile_classes.json'\n",
    "merged_dataset_path = '/media/mha114/Massimal/Larvik_Olberg/Hyperspectral/20210825/OlbergAreaS/4b_Rad_Georef_SGC_Tiles/MergedDatasetNGT'\n",
    "json_file_merged = '/media/mha114/Massimal/Larvik_Olberg/Hyperspectral/20210825/OlbergAreaS/4b_Rad_Georef_SGC_Tiles/tile_classes_merged_NGT.json'"
   ]
  },
  {
   "cell_type": "code",
   "execution_count": 5,
   "id": "9bdf178b-16c1-406b-9544-0bd685c61c15",
   "metadata": {},
   "outputs": [],
   "source": [
    "# Read JSON with class names and labels\n",
    "class_dict = annotation.read_class_dict(json_file)"
   ]
  },
  {
   "cell_type": "code",
   "execution_count": 6,
   "id": "3bdcddd0-80f7-4a6f-96a7-4ecf412ee98d",
   "metadata": {},
   "outputs": [],
   "source": [
    "# Load and merge datasets\n",
    "dataset_dirs = [x for x in tiles_dir.glob('*/') if x.is_dir()]\n",
    "merged_dataset = tf.data.experimental.load(str(dataset_dirs[0]))\n",
    "for ds_dir in dataset_dirs[1:]:\n",
    "    merged_dataset = merged_dataset.concatenate(tf.data.experimental.load(str(ds_dir)))"
   ]
  },
  {
   "cell_type": "code",
   "execution_count": 7,
   "id": "b5e929be-826f-455b-b504-a42e1f20da4e",
   "metadata": {},
   "outputs": [
    {
     "name": "stdout",
     "output_type": "stream",
     "text": [
      "459\n"
     ]
    }
   ],
   "source": [
    "# Check how many tiles there are\n",
    "n_tiles = merged_dataset.cardinality().numpy()\n",
    "print(n_tiles)"
   ]
  },
  {
   "cell_type": "code",
   "execution_count": 8,
   "id": "ceede4bb-638b-4947-91c8-c0747958cdfe",
   "metadata": {},
   "outputs": [],
   "source": [
    "def merge_nft_labels(image,labels):\n",
    "    merged_label_indices = tf.constant([0,1,2,3,4,5,2,4,5])  # 6 = seagrass, 7 = rockweed, 8 = other\n",
    "    new_labels = tf.gather(merged_label_indices,tf.cast(labels,tf.int32))\n",
    "    return image, new_labels"
   ]
  },
  {
   "cell_type": "code",
   "execution_count": 9,
   "id": "38c20aea-2192-445d-b042-dbb957d0e1b8",
   "metadata": {},
   "outputs": [],
   "source": [
    "dataset_ngt_labels_merged = merged_dataset.map(merge_nft_labels)"
   ]
  },
  {
   "cell_type": "code",
   "execution_count": 10,
   "id": "58fe6e94-9000-4010-b4df-58afa90901f6",
   "metadata": {},
   "outputs": [],
   "source": [
    "# Save dataset with labels merged\n",
    "tf.data.experimental.save(dataset_ngt_labels_merged,merged_dataset_path)"
   ]
  },
  {
   "cell_type": "code",
   "execution_count": 11,
   "id": "60c8cc0d-fd81-4901-ba64-a260abd6f547",
   "metadata": {},
   "outputs": [],
   "source": [
    "# Save new class dict\n",
    "class_dict_merged = {key:value for key,value in class_dict.items() if value<=5}\n",
    "annotation.save_class_dict(class_dict_merged, json_file_merged)"
   ]
  },
  {
   "cell_type": "code",
   "execution_count": null,
   "id": "4045060b-fee6-4b70-8251-fcdd53c27ec7",
   "metadata": {},
   "outputs": [],
   "source": []
  }
 ],
 "metadata": {
  "kernelspec": {
   "display_name": "Python 3 (ipykernel)",
   "language": "python",
   "name": "python3"
  },
  "language_info": {
   "codemirror_mode": {
    "name": "ipython",
    "version": 3
   },
   "file_extension": ".py",
   "mimetype": "text/x-python",
   "name": "python",
   "nbconvert_exporter": "python",
   "pygments_lexer": "ipython3",
   "version": "3.9.13"
  }
 },
 "nbformat": 4,
 "nbformat_minor": 5
}
