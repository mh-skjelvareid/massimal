{
 "cells": [
  {
   "cell_type": "code",
   "execution_count": 1,
   "id": "f17fc3ff-6edb-4507-9473-20f7c3560b5d",
   "metadata": {},
   "outputs": [],
   "source": [
    "import batch_process"
   ]
  },
  {
   "cell_type": "code",
   "execution_count": 2,
   "id": "bfa3fe1f-fb53-4d6e-97fe-2ad653decee4",
   "metadata": {},
   "outputs": [],
   "source": [
    "# Paths\n",
    "input_dir = '/media/mha114/Massimal/Larvik_Olberg/Hyperspectral/20210825/Transects-1/3_Rad_Georef'\n",
    "train_rad_file = '/media/mha114/Massimal/Larvik_Olberg/Hyperspectral/20210825/Transects-1/M_SunGlint_RefCube/manual_Pika_L_21.bil-SpatialCrop.bip.hdr'\n",
    "output_dir = '/media/mha114/Massimal/Larvik_Olberg/Hyperspectral/20210825/Transects-1/4_Rad_Georef_SGC'"
   ]
  },
  {
   "cell_type": "code",
   "execution_count": 3,
   "id": "bbc9204a-4fb2-46bd-8686-7356efdb19c9",
   "metadata": {},
   "outputs": [
    {
     "name": "stdout",
     "output_type": "stream",
     "text": [
      "Loading training data /media/mha114/Massimal/Larvik_Olberg/Hyperspectral/20210825/Transects-1/M_SunGlint_RefCube/manual_Pika_L_21.bil-SpatialCrop.bip.hdr\n",
      "Training Hedley sun glint correction model\n",
      "Found 21 images in input folder.\n",
      "Loading input file /media/mha114/Massimal/Larvik_Olberg/Hyperspectral/20210825/Transects-1/3_Rad_Georef/manual_Pika_L_1-Radiance From Raw Data-Georectify Airborne Datacube.bip.hdr\n",
      "Saving sun glint corrected file as /media/mha114/Massimal/Larvik_Olberg/Hyperspectral/20210825/Transects-1/4_Rad_Georef_SGC/manual_Pika_L_1-Radiance From Raw Data-Georectify Airborne Datacube.bip.hdr\n",
      "Loading input file /media/mha114/Massimal/Larvik_Olberg/Hyperspectral/20210825/Transects-1/3_Rad_Georef/manual_Pika_L_10-Radiance From Raw Data-Georectify Airborne Datacube.bip.hdr\n",
      "Saving sun glint corrected file as /media/mha114/Massimal/Larvik_Olberg/Hyperspectral/20210825/Transects-1/4_Rad_Georef_SGC/manual_Pika_L_10-Radiance From Raw Data-Georectify Airborne Datacube.bip.hdr\n",
      "Loading input file /media/mha114/Massimal/Larvik_Olberg/Hyperspectral/20210825/Transects-1/3_Rad_Georef/manual_Pika_L_11-Radiance From Raw Data-Georectify Airborne Datacube.bip.hdr\n",
      "Saving sun glint corrected file as /media/mha114/Massimal/Larvik_Olberg/Hyperspectral/20210825/Transects-1/4_Rad_Georef_SGC/manual_Pika_L_11-Radiance From Raw Data-Georectify Airborne Datacube.bip.hdr\n",
      "Loading input file /media/mha114/Massimal/Larvik_Olberg/Hyperspectral/20210825/Transects-1/3_Rad_Georef/manual_Pika_L_12-Radiance From Raw Data-Georectify Airborne Datacube.bip.hdr\n",
      "Saving sun glint corrected file as /media/mha114/Massimal/Larvik_Olberg/Hyperspectral/20210825/Transects-1/4_Rad_Georef_SGC/manual_Pika_L_12-Radiance From Raw Data-Georectify Airborne Datacube.bip.hdr\n",
      "Loading input file /media/mha114/Massimal/Larvik_Olberg/Hyperspectral/20210825/Transects-1/3_Rad_Georef/manual_Pika_L_13-Radiance From Raw Data-Georectify Airborne Datacube.bip.hdr\n",
      "Saving sun glint corrected file as /media/mha114/Massimal/Larvik_Olberg/Hyperspectral/20210825/Transects-1/4_Rad_Georef_SGC/manual_Pika_L_13-Radiance From Raw Data-Georectify Airborne Datacube.bip.hdr\n",
      "Loading input file /media/mha114/Massimal/Larvik_Olberg/Hyperspectral/20210825/Transects-1/3_Rad_Georef/manual_Pika_L_14-Radiance From Raw Data-Georectify Airborne Datacube.bip.hdr\n",
      "Saving sun glint corrected file as /media/mha114/Massimal/Larvik_Olberg/Hyperspectral/20210825/Transects-1/4_Rad_Georef_SGC/manual_Pika_L_14-Radiance From Raw Data-Georectify Airborne Datacube.bip.hdr\n",
      "Loading input file /media/mha114/Massimal/Larvik_Olberg/Hyperspectral/20210825/Transects-1/3_Rad_Georef/manual_Pika_L_15-Radiance From Raw Data-Georectify Airborne Datacube.bip.hdr\n",
      "Saving sun glint corrected file as /media/mha114/Massimal/Larvik_Olberg/Hyperspectral/20210825/Transects-1/4_Rad_Georef_SGC/manual_Pika_L_15-Radiance From Raw Data-Georectify Airborne Datacube.bip.hdr\n",
      "Loading input file /media/mha114/Massimal/Larvik_Olberg/Hyperspectral/20210825/Transects-1/3_Rad_Georef/manual_Pika_L_16-Radiance From Raw Data-Georectify Airborne Datacube.bip.hdr\n",
      "Saving sun glint corrected file as /media/mha114/Massimal/Larvik_Olberg/Hyperspectral/20210825/Transects-1/4_Rad_Georef_SGC/manual_Pika_L_16-Radiance From Raw Data-Georectify Airborne Datacube.bip.hdr\n",
      "Loading input file /media/mha114/Massimal/Larvik_Olberg/Hyperspectral/20210825/Transects-1/3_Rad_Georef/manual_Pika_L_17-Radiance From Raw Data-Georectify Airborne Datacube.bip.hdr\n",
      "Saving sun glint corrected file as /media/mha114/Massimal/Larvik_Olberg/Hyperspectral/20210825/Transects-1/4_Rad_Georef_SGC/manual_Pika_L_17-Radiance From Raw Data-Georectify Airborne Datacube.bip.hdr\n",
      "Loading input file /media/mha114/Massimal/Larvik_Olberg/Hyperspectral/20210825/Transects-1/3_Rad_Georef/manual_Pika_L_18-Radiance From Raw Data-Georectify Airborne Datacube.bip.hdr\n",
      "Saving sun glint corrected file as /media/mha114/Massimal/Larvik_Olberg/Hyperspectral/20210825/Transects-1/4_Rad_Georef_SGC/manual_Pika_L_18-Radiance From Raw Data-Georectify Airborne Datacube.bip.hdr\n",
      "Loading input file /media/mha114/Massimal/Larvik_Olberg/Hyperspectral/20210825/Transects-1/3_Rad_Georef/manual_Pika_L_19-Radiance From Raw Data-Georectify Airborne Datacube.bip.hdr\n",
      "Saving sun glint corrected file as /media/mha114/Massimal/Larvik_Olberg/Hyperspectral/20210825/Transects-1/4_Rad_Georef_SGC/manual_Pika_L_19-Radiance From Raw Data-Georectify Airborne Datacube.bip.hdr\n",
      "Loading input file /media/mha114/Massimal/Larvik_Olberg/Hyperspectral/20210825/Transects-1/3_Rad_Georef/manual_Pika_L_2-Radiance From Raw Data-Georectify Airborne Datacube.bip.hdr\n",
      "Saving sun glint corrected file as /media/mha114/Massimal/Larvik_Olberg/Hyperspectral/20210825/Transects-1/4_Rad_Georef_SGC/manual_Pika_L_2-Radiance From Raw Data-Georectify Airborne Datacube.bip.hdr\n",
      "Loading input file /media/mha114/Massimal/Larvik_Olberg/Hyperspectral/20210825/Transects-1/3_Rad_Georef/manual_Pika_L_20-Radiance From Raw Data-Georectify Airborne Datacube.bip.hdr\n",
      "Saving sun glint corrected file as /media/mha114/Massimal/Larvik_Olberg/Hyperspectral/20210825/Transects-1/4_Rad_Georef_SGC/manual_Pika_L_20-Radiance From Raw Data-Georectify Airborne Datacube.bip.hdr\n",
      "Loading input file /media/mha114/Massimal/Larvik_Olberg/Hyperspectral/20210825/Transects-1/3_Rad_Georef/manual_Pika_L_21-Radiance From Raw Data-Georectify Airborne Datacube.bip.hdr\n",
      "Saving sun glint corrected file as /media/mha114/Massimal/Larvik_Olberg/Hyperspectral/20210825/Transects-1/4_Rad_Georef_SGC/manual_Pika_L_21-Radiance From Raw Data-Georectify Airborne Datacube.bip.hdr\n",
      "Loading input file /media/mha114/Massimal/Larvik_Olberg/Hyperspectral/20210825/Transects-1/3_Rad_Georef/manual_Pika_L_3-Radiance From Raw Data-Georectify Airborne Datacube.bip.hdr\n",
      "Saving sun glint corrected file as /media/mha114/Massimal/Larvik_Olberg/Hyperspectral/20210825/Transects-1/4_Rad_Georef_SGC/manual_Pika_L_3-Radiance From Raw Data-Georectify Airborne Datacube.bip.hdr\n",
      "Loading input file /media/mha114/Massimal/Larvik_Olberg/Hyperspectral/20210825/Transects-1/3_Rad_Georef/manual_Pika_L_4-Radiance From Raw Data-Georectify Airborne Datacube.bip.hdr\n",
      "Saving sun glint corrected file as /media/mha114/Massimal/Larvik_Olberg/Hyperspectral/20210825/Transects-1/4_Rad_Georef_SGC/manual_Pika_L_4-Radiance From Raw Data-Georectify Airborne Datacube.bip.hdr\n",
      "Loading input file /media/mha114/Massimal/Larvik_Olberg/Hyperspectral/20210825/Transects-1/3_Rad_Georef/manual_Pika_L_5-Radiance From Raw Data-Georectify Airborne Datacube.bip.hdr\n",
      "Saving sun glint corrected file as /media/mha114/Massimal/Larvik_Olberg/Hyperspectral/20210825/Transects-1/4_Rad_Georef_SGC/manual_Pika_L_5-Radiance From Raw Data-Georectify Airborne Datacube.bip.hdr\n",
      "Loading input file /media/mha114/Massimal/Larvik_Olberg/Hyperspectral/20210825/Transects-1/3_Rad_Georef/manual_Pika_L_6-Radiance From Raw Data-Georectify Airborne Datacube.bip.hdr\n",
      "Saving sun glint corrected file as /media/mha114/Massimal/Larvik_Olberg/Hyperspectral/20210825/Transects-1/4_Rad_Georef_SGC/manual_Pika_L_6-Radiance From Raw Data-Georectify Airborne Datacube.bip.hdr\n",
      "Loading input file /media/mha114/Massimal/Larvik_Olberg/Hyperspectral/20210825/Transects-1/3_Rad_Georef/manual_Pika_L_7-Radiance From Raw Data-Georectify Airborne Datacube.bip.hdr\n",
      "Saving sun glint corrected file as /media/mha114/Massimal/Larvik_Olberg/Hyperspectral/20210825/Transects-1/4_Rad_Georef_SGC/manual_Pika_L_7-Radiance From Raw Data-Georectify Airborne Datacube.bip.hdr\n",
      "Loading input file /media/mha114/Massimal/Larvik_Olberg/Hyperspectral/20210825/Transects-1/3_Rad_Georef/manual_Pika_L_8-Radiance From Raw Data-Georectify Airborne Datacube.bip.hdr\n",
      "Saving sun glint corrected file as /media/mha114/Massimal/Larvik_Olberg/Hyperspectral/20210825/Transects-1/4_Rad_Georef_SGC/manual_Pika_L_8-Radiance From Raw Data-Georectify Airborne Datacube.bip.hdr\n",
      "Loading input file /media/mha114/Massimal/Larvik_Olberg/Hyperspectral/20210825/Transects-1/3_Rad_Georef/manual_Pika_L_9-Radiance From Raw Data-Georectify Airborne Datacube.bip.hdr\n",
      "Saving sun glint corrected file as /media/mha114/Massimal/Larvik_Olberg/Hyperspectral/20210825/Transects-1/4_Rad_Georef_SGC/manual_Pika_L_9-Radiance From Raw Data-Georectify Airborne Datacube.bip.hdr\n"
     ]
    }
   ],
   "source": [
    "# Run batch processing\n",
    "batch_process.hedley_remove_glint(input_dir,output_dir,train_rad_file)"
   ]
  }
 ],
 "metadata": {
  "kernelspec": {
   "display_name": "Python 3",
   "language": "python",
   "name": "python3"
  },
  "language_info": {
   "codemirror_mode": {
    "name": "ipython",
    "version": 3
   },
   "file_extension": ".py",
   "mimetype": "text/x-python",
   "name": "python",
   "nbconvert_exporter": "python",
   "pygments_lexer": "ipython3",
   "version": "3.9.4"
  }
 },
 "nbformat": 4,
 "nbformat_minor": 5
}
