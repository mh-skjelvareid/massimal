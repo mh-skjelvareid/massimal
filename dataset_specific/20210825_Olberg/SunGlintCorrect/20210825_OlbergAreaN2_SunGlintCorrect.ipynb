{
 "cells": [
  {
   "cell_type": "code",
   "execution_count": 1,
   "id": "049f8e39-a7cb-46d4-b4cf-f8b6276fb110",
   "metadata": {},
   "outputs": [],
   "source": [
    "import batch_process"
   ]
  },
  {
   "cell_type": "code",
   "execution_count": 2,
   "id": "fae46a36-77e5-41bf-803e-53b67019a0a7",
   "metadata": {},
   "outputs": [],
   "source": [
    "# Paths\n",
    "input_dir = '/media/mha114/Massimal/Larvik_Olberg/Hyperspectral/20210825/OlbergAreaN-2/Radiance'\n",
    "train_rad_file = '/media/mha114/Massimal/Larvik_Olberg/Hyperspectral/20210825/OlbergAreaN-2/SunGlint_RefCube/OlbergholmenN_Pika_L_51.bil-SpatialCrop.bip.hdr'\n",
    "output_dir = '/media/mha114/Massimal/Larvik_Olberg/Hyperspectral/20210825/OlbergAreaN-2/Radiance_SGC'"
   ]
  },
  {
   "cell_type": "code",
   "execution_count": 3,
   "id": "13ccf067-1ea2-462d-9567-fa4ada1cff0c",
   "metadata": {},
   "outputs": [
    {
     "name": "stdout",
     "output_type": "stream",
     "text": [
      "Loading training data /media/mha114/Massimal/Larvik_Olberg/Hyperspectral/20210825/OlbergAreaN-2/SunGlint_RefCube/OlbergholmenN_Pika_L_51.bil-SpatialCrop.bip.hdr\n",
      "Training Hedley sun glint correction model\n",
      "Found 28 images in input folder.\n",
      "Loading input file /media/mha114/Massimal/Larvik_Olberg/Hyperspectral/20210825/OlbergAreaN-2/Radiance/OlbergholmenN_Pika_L_30-Radiance From Raw Data.bip.hdr\n",
      "Saving sun glint corrected file as /media/mha114/Massimal/Larvik_Olberg/Hyperspectral/20210825/OlbergAreaN-2/Radiance_SGC/OlbergholmenN_Pika_L_30-Radiance From Raw Data.bip.hdr\n",
      "Loading input file /media/mha114/Massimal/Larvik_Olberg/Hyperspectral/20210825/OlbergAreaN-2/Radiance/OlbergholmenN_Pika_L_31-Radiance From Raw Data.bip.hdr\n",
      "Saving sun glint corrected file as /media/mha114/Massimal/Larvik_Olberg/Hyperspectral/20210825/OlbergAreaN-2/Radiance_SGC/OlbergholmenN_Pika_L_31-Radiance From Raw Data.bip.hdr\n",
      "Loading input file /media/mha114/Massimal/Larvik_Olberg/Hyperspectral/20210825/OlbergAreaN-2/Radiance/OlbergholmenN_Pika_L_32-Radiance From Raw Data.bip.hdr\n",
      "Saving sun glint corrected file as /media/mha114/Massimal/Larvik_Olberg/Hyperspectral/20210825/OlbergAreaN-2/Radiance_SGC/OlbergholmenN_Pika_L_32-Radiance From Raw Data.bip.hdr\n",
      "Loading input file /media/mha114/Massimal/Larvik_Olberg/Hyperspectral/20210825/OlbergAreaN-2/Radiance/OlbergholmenN_Pika_L_33-Radiance From Raw Data.bip.hdr\n",
      "Saving sun glint corrected file as /media/mha114/Massimal/Larvik_Olberg/Hyperspectral/20210825/OlbergAreaN-2/Radiance_SGC/OlbergholmenN_Pika_L_33-Radiance From Raw Data.bip.hdr\n",
      "Loading input file /media/mha114/Massimal/Larvik_Olberg/Hyperspectral/20210825/OlbergAreaN-2/Radiance/OlbergholmenN_Pika_L_34-Radiance From Raw Data.bip.hdr\n",
      "Saving sun glint corrected file as /media/mha114/Massimal/Larvik_Olberg/Hyperspectral/20210825/OlbergAreaN-2/Radiance_SGC/OlbergholmenN_Pika_L_34-Radiance From Raw Data.bip.hdr\n",
      "Loading input file /media/mha114/Massimal/Larvik_Olberg/Hyperspectral/20210825/OlbergAreaN-2/Radiance/OlbergholmenN_Pika_L_35-Radiance From Raw Data.bip.hdr\n",
      "Saving sun glint corrected file as /media/mha114/Massimal/Larvik_Olberg/Hyperspectral/20210825/OlbergAreaN-2/Radiance_SGC/OlbergholmenN_Pika_L_35-Radiance From Raw Data.bip.hdr\n",
      "Loading input file /media/mha114/Massimal/Larvik_Olberg/Hyperspectral/20210825/OlbergAreaN-2/Radiance/OlbergholmenN_Pika_L_36-Radiance From Raw Data.bip.hdr\n",
      "Saving sun glint corrected file as /media/mha114/Massimal/Larvik_Olberg/Hyperspectral/20210825/OlbergAreaN-2/Radiance_SGC/OlbergholmenN_Pika_L_36-Radiance From Raw Data.bip.hdr\n",
      "Loading input file /media/mha114/Massimal/Larvik_Olberg/Hyperspectral/20210825/OlbergAreaN-2/Radiance/OlbergholmenN_Pika_L_37-Radiance From Raw Data.bip.hdr\n",
      "Saving sun glint corrected file as /media/mha114/Massimal/Larvik_Olberg/Hyperspectral/20210825/OlbergAreaN-2/Radiance_SGC/OlbergholmenN_Pika_L_37-Radiance From Raw Data.bip.hdr\n",
      "Loading input file /media/mha114/Massimal/Larvik_Olberg/Hyperspectral/20210825/OlbergAreaN-2/Radiance/OlbergholmenN_Pika_L_38-Radiance From Raw Data.bip.hdr\n",
      "Saving sun glint corrected file as /media/mha114/Massimal/Larvik_Olberg/Hyperspectral/20210825/OlbergAreaN-2/Radiance_SGC/OlbergholmenN_Pika_L_38-Radiance From Raw Data.bip.hdr\n",
      "Loading input file /media/mha114/Massimal/Larvik_Olberg/Hyperspectral/20210825/OlbergAreaN-2/Radiance/OlbergholmenN_Pika_L_39-Radiance From Raw Data.bip.hdr\n",
      "Saving sun glint corrected file as /media/mha114/Massimal/Larvik_Olberg/Hyperspectral/20210825/OlbergAreaN-2/Radiance_SGC/OlbergholmenN_Pika_L_39-Radiance From Raw Data.bip.hdr\n",
      "Loading input file /media/mha114/Massimal/Larvik_Olberg/Hyperspectral/20210825/OlbergAreaN-2/Radiance/OlbergholmenN_Pika_L_40-Radiance From Raw Data.bip.hdr\n",
      "Saving sun glint corrected file as /media/mha114/Massimal/Larvik_Olberg/Hyperspectral/20210825/OlbergAreaN-2/Radiance_SGC/OlbergholmenN_Pika_L_40-Radiance From Raw Data.bip.hdr\n",
      "Loading input file /media/mha114/Massimal/Larvik_Olberg/Hyperspectral/20210825/OlbergAreaN-2/Radiance/OlbergholmenN_Pika_L_41-Radiance From Raw Data.bip.hdr\n",
      "Saving sun glint corrected file as /media/mha114/Massimal/Larvik_Olberg/Hyperspectral/20210825/OlbergAreaN-2/Radiance_SGC/OlbergholmenN_Pika_L_41-Radiance From Raw Data.bip.hdr\n",
      "Loading input file /media/mha114/Massimal/Larvik_Olberg/Hyperspectral/20210825/OlbergAreaN-2/Radiance/OlbergholmenN_Pika_L_42-Radiance From Raw Data.bip.hdr\n",
      "Saving sun glint corrected file as /media/mha114/Massimal/Larvik_Olberg/Hyperspectral/20210825/OlbergAreaN-2/Radiance_SGC/OlbergholmenN_Pika_L_42-Radiance From Raw Data.bip.hdr\n",
      "Loading input file /media/mha114/Massimal/Larvik_Olberg/Hyperspectral/20210825/OlbergAreaN-2/Radiance/OlbergholmenN_Pika_L_43-Radiance From Raw Data.bip.hdr\n",
      "Saving sun glint corrected file as /media/mha114/Massimal/Larvik_Olberg/Hyperspectral/20210825/OlbergAreaN-2/Radiance_SGC/OlbergholmenN_Pika_L_43-Radiance From Raw Data.bip.hdr\n",
      "Loading input file /media/mha114/Massimal/Larvik_Olberg/Hyperspectral/20210825/OlbergAreaN-2/Radiance/OlbergholmenN_Pika_L_44-Radiance From Raw Data.bip.hdr\n",
      "Saving sun glint corrected file as /media/mha114/Massimal/Larvik_Olberg/Hyperspectral/20210825/OlbergAreaN-2/Radiance_SGC/OlbergholmenN_Pika_L_44-Radiance From Raw Data.bip.hdr\n",
      "Loading input file /media/mha114/Massimal/Larvik_Olberg/Hyperspectral/20210825/OlbergAreaN-2/Radiance/OlbergholmenN_Pika_L_45-Radiance From Raw Data.bip.hdr\n",
      "Saving sun glint corrected file as /media/mha114/Massimal/Larvik_Olberg/Hyperspectral/20210825/OlbergAreaN-2/Radiance_SGC/OlbergholmenN_Pika_L_45-Radiance From Raw Data.bip.hdr\n",
      "Loading input file /media/mha114/Massimal/Larvik_Olberg/Hyperspectral/20210825/OlbergAreaN-2/Radiance/OlbergholmenN_Pika_L_46-Radiance From Raw Data.bip.hdr\n",
      "Saving sun glint corrected file as /media/mha114/Massimal/Larvik_Olberg/Hyperspectral/20210825/OlbergAreaN-2/Radiance_SGC/OlbergholmenN_Pika_L_46-Radiance From Raw Data.bip.hdr\n",
      "Loading input file /media/mha114/Massimal/Larvik_Olberg/Hyperspectral/20210825/OlbergAreaN-2/Radiance/OlbergholmenN_Pika_L_47-Radiance From Raw Data.bip.hdr\n",
      "Saving sun glint corrected file as /media/mha114/Massimal/Larvik_Olberg/Hyperspectral/20210825/OlbergAreaN-2/Radiance_SGC/OlbergholmenN_Pika_L_47-Radiance From Raw Data.bip.hdr\n",
      "Loading input file /media/mha114/Massimal/Larvik_Olberg/Hyperspectral/20210825/OlbergAreaN-2/Radiance/OlbergholmenN_Pika_L_48-Radiance From Raw Data.bip.hdr\n",
      "Saving sun glint corrected file as /media/mha114/Massimal/Larvik_Olberg/Hyperspectral/20210825/OlbergAreaN-2/Radiance_SGC/OlbergholmenN_Pika_L_48-Radiance From Raw Data.bip.hdr\n",
      "Loading input file /media/mha114/Massimal/Larvik_Olberg/Hyperspectral/20210825/OlbergAreaN-2/Radiance/OlbergholmenN_Pika_L_49-Radiance From Raw Data.bip.hdr\n",
      "Saving sun glint corrected file as /media/mha114/Massimal/Larvik_Olberg/Hyperspectral/20210825/OlbergAreaN-2/Radiance_SGC/OlbergholmenN_Pika_L_49-Radiance From Raw Data.bip.hdr\n",
      "Loading input file /media/mha114/Massimal/Larvik_Olberg/Hyperspectral/20210825/OlbergAreaN-2/Radiance/OlbergholmenN_Pika_L_50-Radiance From Raw Data.bip.hdr\n",
      "Saving sun glint corrected file as /media/mha114/Massimal/Larvik_Olberg/Hyperspectral/20210825/OlbergAreaN-2/Radiance_SGC/OlbergholmenN_Pika_L_50-Radiance From Raw Data.bip.hdr\n",
      "Loading input file /media/mha114/Massimal/Larvik_Olberg/Hyperspectral/20210825/OlbergAreaN-2/Radiance/OlbergholmenN_Pika_L_51-Radiance From Raw Data.bip.hdr\n",
      "Saving sun glint corrected file as /media/mha114/Massimal/Larvik_Olberg/Hyperspectral/20210825/OlbergAreaN-2/Radiance_SGC/OlbergholmenN_Pika_L_51-Radiance From Raw Data.bip.hdr\n",
      "Loading input file /media/mha114/Massimal/Larvik_Olberg/Hyperspectral/20210825/OlbergAreaN-2/Radiance/OlbergholmenN_Pika_L_52-Radiance From Raw Data.bip.hdr\n",
      "Saving sun glint corrected file as /media/mha114/Massimal/Larvik_Olberg/Hyperspectral/20210825/OlbergAreaN-2/Radiance_SGC/OlbergholmenN_Pika_L_52-Radiance From Raw Data.bip.hdr\n",
      "Loading input file /media/mha114/Massimal/Larvik_Olberg/Hyperspectral/20210825/OlbergAreaN-2/Radiance/OlbergholmenN_Pika_L_53-Radiance From Raw Data.bip.hdr\n",
      "Saving sun glint corrected file as /media/mha114/Massimal/Larvik_Olberg/Hyperspectral/20210825/OlbergAreaN-2/Radiance_SGC/OlbergholmenN_Pika_L_53-Radiance From Raw Data.bip.hdr\n",
      "Loading input file /media/mha114/Massimal/Larvik_Olberg/Hyperspectral/20210825/OlbergAreaN-2/Radiance/OlbergholmenN_Pika_L_54-Radiance From Raw Data.bip.hdr\n",
      "Saving sun glint corrected file as /media/mha114/Massimal/Larvik_Olberg/Hyperspectral/20210825/OlbergAreaN-2/Radiance_SGC/OlbergholmenN_Pika_L_54-Radiance From Raw Data.bip.hdr\n",
      "Loading input file /media/mha114/Massimal/Larvik_Olberg/Hyperspectral/20210825/OlbergAreaN-2/Radiance/OlbergholmenN_Pika_L_55-Radiance From Raw Data.bip.hdr\n",
      "Saving sun glint corrected file as /media/mha114/Massimal/Larvik_Olberg/Hyperspectral/20210825/OlbergAreaN-2/Radiance_SGC/OlbergholmenN_Pika_L_55-Radiance From Raw Data.bip.hdr\n",
      "Loading input file /media/mha114/Massimal/Larvik_Olberg/Hyperspectral/20210825/OlbergAreaN-2/Radiance/OlbergholmenN_Pika_L_56-Radiance From Raw Data.bip.hdr\n",
      "Saving sun glint corrected file as /media/mha114/Massimal/Larvik_Olberg/Hyperspectral/20210825/OlbergAreaN-2/Radiance_SGC/OlbergholmenN_Pika_L_56-Radiance From Raw Data.bip.hdr\n",
      "Loading input file /media/mha114/Massimal/Larvik_Olberg/Hyperspectral/20210825/OlbergAreaN-2/Radiance/OlbergholmenN_Pika_L_57-Radiance From Raw Data.bip.hdr\n",
      "Saving sun glint corrected file as /media/mha114/Massimal/Larvik_Olberg/Hyperspectral/20210825/OlbergAreaN-2/Radiance_SGC/OlbergholmenN_Pika_L_57-Radiance From Raw Data.bip.hdr\n"
     ]
    }
   ],
   "source": [
    "# Run batch processing\n",
    "batch_process.hedley_remove_glint(input_dir,output_dir,train_rad_file)"
   ]
  }
 ],
 "metadata": {
  "kernelspec": {
   "display_name": "Python 3",
   "language": "python",
   "name": "python3"
  },
  "language_info": {
   "codemirror_mode": {
    "name": "ipython",
    "version": 3
   },
   "file_extension": ".py",
   "mimetype": "text/x-python",
   "name": "python",
   "nbconvert_exporter": "python",
   "pygments_lexer": "ipython3",
   "version": "3.9.4"
  }
 },
 "nbformat": 4,
 "nbformat_minor": 5
}
