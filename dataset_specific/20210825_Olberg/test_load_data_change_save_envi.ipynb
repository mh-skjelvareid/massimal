{
 "cells": [
  {
   "cell_type": "code",
   "execution_count": 1,
   "id": "81841bd8",
   "metadata": {},
   "outputs": [],
   "source": [
    "#%% Imports\n",
    "import os\n",
    "import numpy as np\n",
    "import spectral\n",
    "import matplotlib.pyplot as plt\n",
    "from skimage import exposure, io\n",
    "import json"
   ]
  },
  {
   "cell_type": "code",
   "execution_count": null,
   "id": "d89db2ca",
   "metadata": {},
   "outputs": [],
   "source": [
    "spectral.io.envi.save_image()"
   ]
  }
 ],
 "metadata": {
  "kernelspec": {
   "display_name": "Python 3",
   "language": "python",
   "name": "python3"
  },
  "language_info": {
   "codemirror_mode": {
    "name": "ipython",
    "version": 3
   },
   "file_extension": ".py",
   "mimetype": "text/x-python",
   "name": "python",
   "nbconvert_exporter": "python",
   "pygments_lexer": "ipython3",
   "version": "3.9.4"
  }
 },
 "nbformat": 4,
 "nbformat_minor": 5
}
