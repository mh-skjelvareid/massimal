{
 "cells": [
  {
   "cell_type": "code",
   "execution_count": null,
   "id": "b9f51e42-429c-401d-ade6-f5d67c7cb54b",
   "metadata": {},
   "outputs": [],
   "source": [
    "# Imports\n"
   ]
  },
  {
   "cell_type": "raw",
   "id": "aaf5766c-124e-42a1-96fb-bf085d02ba49",
   "metadata": {},
   "source": [
    "# Paths"
   ]
  }
 ],
 "metadata": {
  "kernelspec": {
   "display_name": "Python 3",
   "language": "python",
   "name": "python3"
  },
  "language_info": {
   "codemirror_mode": {
    "name": "ipython",
    "version": 3
   },
   "file_extension": ".py",
   "mimetype": "text/x-python",
   "name": "python",
   "nbconvert_exporter": "python",
   "pygments_lexer": "ipython3",
   "version": "3.9.4"
  }
 },
 "nbformat": 4,
 "nbformat_minor": 5
}
