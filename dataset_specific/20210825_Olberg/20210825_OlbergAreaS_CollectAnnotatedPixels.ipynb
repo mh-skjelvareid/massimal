{
 "cells": [
  {
   "cell_type": "code",
   "execution_count": 16,
   "id": "b7c334c4-a253-45c5-baa3-b6925b86d30c",
   "metadata": {},
   "outputs": [],
   "source": [
    "#%% Imports\n",
    "import os\n",
    "import numpy as np\n",
    "import matplotlib.pyplot as plt\n",
    "import skimage.io\n",
    "import spectral\n",
    "import json\n",
    "\n",
    "from sklearn.preprocessing import StandardScaler\n",
    "from sklearn.decomposition import PCA\n",
    "from sklearn.ensemble import RandomForestClassifier\n",
    "from sklearn.pipeline import make_pipeline\n",
    "\n",
    "import annotation, image_render, hyspec_io, misc"
   ]
  },
  {
   "cell_type": "code",
   "execution_count": 3,
   "id": "f39bb332-a594-4ebb-8430-a53d1e728a4a",
   "metadata": {},
   "outputs": [],
   "source": [
    "# Paths\n",
    "json_gray = '/media/mha114/Massimal/Larvik_Olberg/Hyperspectral/20210825/OlbergAreaS/M_Annotation/20210825_Olbergholmen_Annotation_Grayscale/label_classes.json'\n",
    "annotation_dir = '/media/mha114/Massimal/Larvik_Olberg/Hyperspectral/20210825/OlbergAreaS/M_Annotation/20210825_Olbergholmen_Annotation_Grayscale/OlbergAreaS'\n",
    "hyspec_dir = '/media/mha114/Massimal/Larvik_Olberg/Hyperspectral/20210825/OlbergAreaS/4_Rad_Georef_SGC'"
   ]
  },
  {
   "cell_type": "code",
   "execution_count": 10,
   "id": "52f9c12c-d10a-4f4c-8b7e-79d46acfa3c9",
   "metadata": {},
   "outputs": [
    {
     "name": "stdout",
     "output_type": "stream",
     "text": [
      "['/media/mha114/Massimal/Larvik_Olberg/Hyperspectral/20210825/OlbergAreaS/M_Annotation/20210825_Olbergholmen_Annotation_Grayscale/OlbergAreaS/OlbergholmenS_Pika_L_1-Radiance From Raw Data-Georectify Airborne Datacube.png', '/media/mha114/Massimal/Larvik_Olberg/Hyperspectral/20210825/OlbergAreaS/M_Annotation/20210825_Olbergholmen_Annotation_Grayscale/OlbergAreaS/OlbergholmenS_Pika_L_10-Radiance From Raw Data-Georectify Airborne Datacube.png', '/media/mha114/Massimal/Larvik_Olberg/Hyperspectral/20210825/OlbergAreaS/M_Annotation/20210825_Olbergholmen_Annotation_Grayscale/OlbergAreaS/OlbergholmenS_Pika_L_11-Radiance From Raw Data-Georectify Airborne Datacube.png', '/media/mha114/Massimal/Larvik_Olberg/Hyperspectral/20210825/OlbergAreaS/M_Annotation/20210825_Olbergholmen_Annotation_Grayscale/OlbergAreaS/OlbergholmenS_Pika_L_12-Radiance From Raw Data-Georectify Airborne Datacube.png', '/media/mha114/Massimal/Larvik_Olberg/Hyperspectral/20210825/OlbergAreaS/M_Annotation/20210825_Olbergholmen_Annotation_Grayscale/OlbergAreaS/OlbergholmenS_Pika_L_15-Radiance From Raw Data-Georectify Airborne Datacube.png', '/media/mha114/Massimal/Larvik_Olberg/Hyperspectral/20210825/OlbergAreaS/M_Annotation/20210825_Olbergholmen_Annotation_Grayscale/OlbergAreaS/OlbergholmenS_Pika_L_16-Radiance From Raw Data-Georectify Airborne Datacube.png', '/media/mha114/Massimal/Larvik_Olberg/Hyperspectral/20210825/OlbergAreaS/M_Annotation/20210825_Olbergholmen_Annotation_Grayscale/OlbergAreaS/OlbergholmenS_Pika_L_17-Radiance From Raw Data-Georectify Airborne Datacube.png', '/media/mha114/Massimal/Larvik_Olberg/Hyperspectral/20210825/OlbergAreaS/M_Annotation/20210825_Olbergholmen_Annotation_Grayscale/OlbergAreaS/OlbergholmenS_Pika_L_18-Radiance From Raw Data-Georectify Airborne Datacube.png', '/media/mha114/Massimal/Larvik_Olberg/Hyperspectral/20210825/OlbergAreaS/M_Annotation/20210825_Olbergholmen_Annotation_Grayscale/OlbergAreaS/OlbergholmenS_Pika_L_2-Radiance From Raw Data-Georectify Airborne Datacube.png', '/media/mha114/Massimal/Larvik_Olberg/Hyperspectral/20210825/OlbergAreaS/M_Annotation/20210825_Olbergholmen_Annotation_Grayscale/OlbergAreaS/OlbergholmenS_Pika_L_23-Radiance From Raw Data-Georectify Airborne Datacube.png', '/media/mha114/Massimal/Larvik_Olberg/Hyperspectral/20210825/OlbergAreaS/M_Annotation/20210825_Olbergholmen_Annotation_Grayscale/OlbergAreaS/OlbergholmenS_Pika_L_24-Radiance From Raw Data-Georectify Airborne Datacube.png', '/media/mha114/Massimal/Larvik_Olberg/Hyperspectral/20210825/OlbergAreaS/M_Annotation/20210825_Olbergholmen_Annotation_Grayscale/OlbergAreaS/OlbergholmenS_Pika_L_8-Radiance From Raw Data-Georectify Airborne Datacube.png', '/media/mha114/Massimal/Larvik_Olberg/Hyperspectral/20210825/OlbergAreaS/M_Annotation/20210825_Olbergholmen_Annotation_Grayscale/OlbergAreaS/OlbergholmenS_Pika_L_9-Radiance From Raw Data-Georectify Airborne Datacube.png']\n"
     ]
    }
   ],
   "source": [
    "# Find names of annotated images\n",
    "ann_im_fullpath = misc.file_pattern_search(annotation_dir,'*.png')\n",
    "print(ann_im_fullpath)"
   ]
  },
  {
   "cell_type": "code",
   "execution_count": 14,
   "id": "2e3c155e-12c9-413a-8eec-f230af07c127",
   "metadata": {},
   "outputs": [
    {
     "name": "stdout",
     "output_type": "stream",
     "text": [
      "OlbergholmenS_Pika_L_1-Radiance From Raw Data-Georectify Airborne Datacube\n",
      "OlbergholmenS_Pika_L_10-Radiance From Raw Data-Georectify Airborne Datacube\n",
      "OlbergholmenS_Pika_L_11-Radiance From Raw Data-Georectify Airborne Datacube\n",
      "OlbergholmenS_Pika_L_12-Radiance From Raw Data-Georectify Airborne Datacube\n",
      "OlbergholmenS_Pika_L_15-Radiance From Raw Data-Georectify Airborne Datacube\n",
      "OlbergholmenS_Pika_L_16-Radiance From Raw Data-Georectify Airborne Datacube\n",
      "OlbergholmenS_Pika_L_17-Radiance From Raw Data-Georectify Airborne Datacube\n",
      "OlbergholmenS_Pika_L_18-Radiance From Raw Data-Georectify Airborne Datacube\n",
      "OlbergholmenS_Pika_L_2-Radiance From Raw Data-Georectify Airborne Datacube\n",
      "OlbergholmenS_Pika_L_23-Radiance From Raw Data-Georectify Airborne Datacube\n",
      "OlbergholmenS_Pika_L_24-Radiance From Raw Data-Georectify Airborne Datacube\n",
      "OlbergholmenS_Pika_L_8-Radiance From Raw Data-Georectify Airborne Datacube\n",
      "OlbergholmenS_Pika_L_9-Radiance From Raw Data-Georectify Airborne Datacube\n"
     ]
    }
   ],
   "source": [
    "filenames = [os.path.splitext(os.path.basename(filepath))[0] for filepath in ann_im_fullpath]\n",
    "for filename in filenames:\n",
    "    print(filename)"
   ]
  },
  {
   "cell_type": "code",
   "execution_count": 13,
   "id": "de7c9c02-ba56-4590-baa6-a71a5aa5a030",
   "metadata": {},
   "outputs": [
    {
     "name": "stdout",
     "output_type": "stream",
     "text": [
      "Sand: 1\n",
      "Gravel: 2\n",
      "Mud: 3\n",
      "Terrestrial: 4\n",
      "Zostera marina - dominant: 5\n",
      "Zostera marina - normal: 6\n",
      "Zostera marina - sparse: 7\n",
      "Zostera marina with turf algae: 8\n",
      "Turf algae - dominant: 9\n",
      "Turf algae - normal: 10\n",
      "Turf algae - sparse: 11\n",
      "Rockweed: 12\n",
      "Rockweed with turf algae: 13\n",
      "Fucus serratus: 14\n",
      "Aegagropila (algae ball): 15\n",
      "Mixed algae classes on soft substrate: 16\n",
      "Saccharina latissima: 17\n"
     ]
    }
   ],
   "source": [
    "# Read annotation metadata file, show classes\n",
    "class_dict = annotation.read_hasty_metadata(json_gray)\n",
    "for class_name,class_ind in class_dict.items():\n",
    "    print(class_name + ': ' + str(class_ind))"
   ]
  },
  {
   "cell_type": "code",
   "execution_count": 28,
   "id": "f26d03d6-05d2-498d-add8-bfb03425b2d9",
   "metadata": {},
   "outputs": [],
   "source": [
    "test_list = []\n",
    "test_list.append({'file': filenames[0], 'classes':list(class_dict.keys())})"
   ]
  },
  {
   "cell_type": "code",
   "execution_count": 29,
   "id": "825ee44f-9fbe-4304-9c49-5e85ec2b5e27",
   "metadata": {},
   "outputs": [
    {
     "data": {
      "text/plain": [
       "[{'file': 'OlbergholmenS_Pika_L_1-Radiance From Raw Data-Georectify Airborne Datacube',\n",
       "  'classes': ['Sand',\n",
       "   'Gravel',\n",
       "   'Mud',\n",
       "   'Terrestrial',\n",
       "   'Zostera marina - dominant',\n",
       "   'Zostera marina - normal',\n",
       "   'Zostera marina - sparse',\n",
       "   'Zostera marina with turf algae',\n",
       "   'Turf algae - dominant',\n",
       "   'Turf algae - normal',\n",
       "   'Turf algae - sparse',\n",
       "   'Rockweed',\n",
       "   'Rockweed with turf algae',\n",
       "   'Fucus serratus',\n",
       "   'Aegagropila (algae ball)',\n",
       "   'Mixed algae classes on soft substrate',\n",
       "   'Saccharina latissima']}]"
      ]
     },
     "execution_count": 29,
     "metadata": {},
     "output_type": "execute_result"
    }
   ],
   "source": [
    "test_list"
   ]
  },
  {
   "cell_type": "code",
   "execution_count": 32,
   "id": "b881741d-b984-4b80-adfa-e052a19c26e3",
   "metadata": {},
   "outputs": [
    {
     "name": "stdout",
     "output_type": "stream",
     "text": [
      "/media/mha114/Massimal/Larvik_Olberg/Hyperspectral/20210825/OlbergAreaS/M_Annotation/20210825_Olbergholmen_Annotation_Grayscale/OlbergAreaS/OlbergholmenS_Pika_L_1-Radiance From Raw Data-Georectify Airborne Datacube.png\n",
      "/media/mha114/Massimal/Larvik_Olberg/Hyperspectral/20210825/OlbergAreaS/M_Annotation/20210825_Olbergholmen_Annotation_Grayscale/OlbergAreaS/OlbergholmenS_Pika_L_10-Radiance From Raw Data-Georectify Airborne Datacube.png\n",
      "/media/mha114/Massimal/Larvik_Olberg/Hyperspectral/20210825/OlbergAreaS/M_Annotation/20210825_Olbergholmen_Annotation_Grayscale/OlbergAreaS/OlbergholmenS_Pika_L_11-Radiance From Raw Data-Georectify Airborne Datacube.png\n",
      "/media/mha114/Massimal/Larvik_Olberg/Hyperspectral/20210825/OlbergAreaS/M_Annotation/20210825_Olbergholmen_Annotation_Grayscale/OlbergAreaS/OlbergholmenS_Pika_L_12-Radiance From Raw Data-Georectify Airborne Datacube.png\n",
      "/media/mha114/Massimal/Larvik_Olberg/Hyperspectral/20210825/OlbergAreaS/M_Annotation/20210825_Olbergholmen_Annotation_Grayscale/OlbergAreaS/OlbergholmenS_Pika_L_15-Radiance From Raw Data-Georectify Airborne Datacube.png\n",
      "/media/mha114/Massimal/Larvik_Olberg/Hyperspectral/20210825/OlbergAreaS/M_Annotation/20210825_Olbergholmen_Annotation_Grayscale/OlbergAreaS/OlbergholmenS_Pika_L_16-Radiance From Raw Data-Georectify Airborne Datacube.png\n",
      "/media/mha114/Massimal/Larvik_Olberg/Hyperspectral/20210825/OlbergAreaS/M_Annotation/20210825_Olbergholmen_Annotation_Grayscale/OlbergAreaS/OlbergholmenS_Pika_L_17-Radiance From Raw Data-Georectify Airborne Datacube.png\n",
      "/media/mha114/Massimal/Larvik_Olberg/Hyperspectral/20210825/OlbergAreaS/M_Annotation/20210825_Olbergholmen_Annotation_Grayscale/OlbergAreaS/OlbergholmenS_Pika_L_18-Radiance From Raw Data-Georectify Airborne Datacube.png\n",
      "/media/mha114/Massimal/Larvik_Olberg/Hyperspectral/20210825/OlbergAreaS/M_Annotation/20210825_Olbergholmen_Annotation_Grayscale/OlbergAreaS/OlbergholmenS_Pika_L_2-Radiance From Raw Data-Georectify Airborne Datacube.png\n",
      "/media/mha114/Massimal/Larvik_Olberg/Hyperspectral/20210825/OlbergAreaS/M_Annotation/20210825_Olbergholmen_Annotation_Grayscale/OlbergAreaS/OlbergholmenS_Pika_L_23-Radiance From Raw Data-Georectify Airborne Datacube.png\n",
      "/media/mha114/Massimal/Larvik_Olberg/Hyperspectral/20210825/OlbergAreaS/M_Annotation/20210825_Olbergholmen_Annotation_Grayscale/OlbergAreaS/OlbergholmenS_Pika_L_24-Radiance From Raw Data-Georectify Airborne Datacube.png\n",
      "/media/mha114/Massimal/Larvik_Olberg/Hyperspectral/20210825/OlbergAreaS/M_Annotation/20210825_Olbergholmen_Annotation_Grayscale/OlbergAreaS/OlbergholmenS_Pika_L_8-Radiance From Raw Data-Georectify Airborne Datacube.png\n",
      "/media/mha114/Massimal/Larvik_Olberg/Hyperspectral/20210825/OlbergAreaS/M_Annotation/20210825_Olbergholmen_Annotation_Grayscale/OlbergAreaS/OlbergholmenS_Pika_L_9-Radiance From Raw Data-Georectify Airborne Datacube.png\n"
     ]
    }
   ],
   "source": [
    "data = []\n",
    "for file in filenames:\n",
    "    ann_file = os.path.join(annotation_dir,file + '.png')\n",
    "    hyspec_file = os.path.join(annotation_dir,file + '.bip.hdr')\n",
    "    \n",
    "    # data.append(dictionary with data)"
   ]
  },
  {
   "cell_type": "code",
   "execution_count": 36,
   "id": "eb58de2d-e6bf-455e-90a7-b39559d0d32f",
   "metadata": {},
   "outputs": [
    {
     "name": "stdout",
     "output_type": "stream",
     "text": [
      "Sand: 1\n",
      "Gravel: 2\n",
      "Mud: 3\n",
      "Terrestrial: 4\n",
      "Zostera marina - dominant: 5\n",
      "Zostera marina - normal: 6\n",
      "Zostera marina - sparse: 7\n",
      "Zostera marina with turf algae: 8\n",
      "Turf algae - dominant: 9\n",
      "Turf algae - normal: 10\n",
      "Turf algae - sparse: 11\n",
      "Rockweed: 12\n",
      "Rockweed with turf algae: 13\n",
      "Fucus serratus: 14\n",
      "Aegagropila (algae ball): 15\n",
      "Mixed algae classes on soft substrate: 16\n",
      "Saccharina latissima: 17\n"
     ]
    }
   ],
   "source": [
    "for (key,value) in class_dict.items():\n",
    "    print(key + ': ' + str(value))"
   ]
  }
 ],
 "metadata": {
  "kernelspec": {
   "display_name": "Python 3",
   "language": "python",
   "name": "python3"
  },
  "language_info": {
   "codemirror_mode": {
    "name": "ipython",
    "version": 3
   },
   "file_extension": ".py",
   "mimetype": "text/x-python",
   "name": "python",
   "nbconvert_exporter": "python",
   "pygments_lexer": "ipython3",
   "version": "3.9.4"
  }
 },
 "nbformat": 4,
 "nbformat_minor": 5
}
