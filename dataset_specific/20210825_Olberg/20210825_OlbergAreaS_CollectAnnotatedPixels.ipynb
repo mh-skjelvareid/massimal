{
 "cells": [
  {
   "cell_type": "code",
   "execution_count": 1,
   "id": "b7c334c4-a253-45c5-baa3-b6925b86d30c",
   "metadata": {},
   "outputs": [],
   "source": [
    "#%% Imports\n",
    "import numpy as np\n",
    "import matplotlib.pyplot as plt\n",
    "\n",
    "import batch_process, annotation"
   ]
  },
  {
   "cell_type": "code",
   "execution_count": 2,
   "id": "f39bb332-a594-4ebb-8430-a53d1e728a4a",
   "metadata": {},
   "outputs": [],
   "source": [
    "# Paths\n",
    "json_gray = '/media/mha114/Massimal/Larvik_Olberg/Hyperspectral/20210825/OlbergAreaS/M_Annotation/20210825_Olbergholmen_Annotation_Grayscale/label_classes.json'\n",
    "annotation_dir = '/media/mha114/Massimal/Larvik_Olberg/Hyperspectral/20210825/OlbergAreaS/M_Annotation/Test_SampleAnnotations'\n",
    "#annotation_dir = '/media/mha114/Massimal/Larvik_Olberg/Hyperspectral/20210825/OlbergAreaS/M_Annotation/20210825_Olbergholmen_Annotation_Grayscale/OlbergAreaS'\n",
    "hyspec_dir = '/media/mha114/Massimal/Larvik_Olberg/Hyperspectral/20210825/OlbergAreaS/4_Rad_Georef_SGC'"
   ]
  },
  {
   "cell_type": "code",
   "execution_count": 3,
   "id": "b0b6643b-9478-4ea5-a560-e322eac8648b",
   "metadata": {},
   "outputs": [],
   "source": [
    "# Read annotation metadata file, show classes\n",
    "class_dict = annotation.read_hasty_metadata(json_gray)"
   ]
  },
  {
   "cell_type": "code",
   "execution_count": 4,
   "id": "f929a1d5-07a5-42b7-8676-adf4f6ccdf88",
   "metadata": {},
   "outputs": [
    {
     "name": "stdout",
     "output_type": "stream",
     "text": [
      "Processing file: OlbergholmenS_Pika_L_16-Radiance From Raw Data-Georectify Airborne Datacube\n",
      "Processing file: OlbergholmenS_Pika_L_17-Radiance From Raw Data-Georectify Airborne Datacube\n",
      "Processing file: OlbergholmenS_Pika_L_18-Radiance From Raw Data-Georectify Airborne Datacube\n"
     ]
    }
   ],
   "source": [
    "data = batch_process.collect_annotated_data(class_dict,hyspec_dir,annotation_dir)"
   ]
  },
  {
   "cell_type": "code",
   "execution_count": 5,
   "id": "f91ae433-b66f-4d76-8585-6b316ec1249c",
   "metadata": {},
   "outputs": [],
   "source": [
    "# Try collecting all samples from same class in single matrix\n",
    "X = []\n",
    "for data_dict in data:\n",
    "    X.append(data_dict['spectra']['Zostera marina - dominant'])\n",
    "X = np.concatenate(X,axis=0)"
   ]
  },
  {
   "cell_type": "code",
   "execution_count": 6,
   "id": "a66a1ab2-6f70-4ced-b514-b83bc48f6b4f",
   "metadata": {},
   "outputs": [
    {
     "data": {
      "text/plain": [
       "(107779, 173)"
      ]
     },
     "execution_count": 6,
     "metadata": {},
     "output_type": "execute_result"
    }
   ],
   "source": [
    "X.shape"
   ]
  },
  {
   "cell_type": "code",
   "execution_count": 7,
   "id": "279ca5ff-f02e-473e-a3b6-b02a4ec7dd90",
   "metadata": {},
   "outputs": [
    {
     "data": {
      "text/plain": [
       "[<matplotlib.lines.Line2D at 0x7fbfbcd11f70>]"
      ]
     },
     "execution_count": 7,
     "metadata": {},
     "output_type": "execute_result"
    },
    {
     "data": {
      "image/png": "[encoded data removed]",
      "text/plain": [
       "<Figure size 432x288 with 1 Axes>"
      ]
     },
     "metadata": {
      "needs_background": "light"
     },
     "output_type": "display_data"
    }
   ],
   "source": [
    "plt.plot(X.mean(axis=0))"
   ]
  }
 ],
 "metadata": {
  "kernelspec": {
   "display_name": "Python 3",
   "language": "python",
   "name": "python3"
  },
  "language_info": {
   "codemirror_mode": {
    "name": "ipython",
    "version": 3
   },
   "file_extension": ".py",
   "mimetype": "text/x-python",
   "name": "python",
   "nbconvert_exporter": "python",
   "pygments_lexer": "ipython3",
   "version": "3.9.4"
  }
 },
 "nbformat": 4,
 "nbformat_minor": 5
}
