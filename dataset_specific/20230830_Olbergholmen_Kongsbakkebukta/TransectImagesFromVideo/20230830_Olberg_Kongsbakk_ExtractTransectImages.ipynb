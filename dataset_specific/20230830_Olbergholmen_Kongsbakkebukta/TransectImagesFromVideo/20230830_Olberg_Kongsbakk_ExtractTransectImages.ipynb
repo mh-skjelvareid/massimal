{
 "cells": [
  {
   "cell_type": "code",
   "execution_count": 1,
   "id": "c277ef58",
   "metadata": {},
   "outputs": [],
   "source": [
    "import video_transect, misc\n",
    "import pathlib"
   ]
  },
  {
   "cell_type": "code",
   "execution_count": 2,
   "id": "b60437da",
   "metadata": {},
   "outputs": [],
   "source": [
    "# Paths\n",
    "transect_dirs = ['/media/mha114/LaCie/LarvikData/Larvik_Olberg/Otter/20230830/OlbergholmenNorth',\n",
    "                 '/media/mha114/LaCie/LarvikData/Larvik_Olberg/Otter/20230830/OlbergholmenSouth',\n",
    "                 '/media/mha114/LaCie/LarvikData/Larvik_Kongsbakkebukta/Otter/20230830_Kongsbakkebukta']\n"
   ]
  },
  {
   "cell_type": "code",
   "execution_count": 3,
   "id": "c007f89c",
   "metadata": {},
   "outputs": [],
   "source": [
    "# Parameters\n",
    "sample_distance = 1.0 # Units defined by CRS, default is UTM with unit meters"
   ]
  },
  {
   "cell_type": "code",
   "execution_count": 4,
   "id": "a4548ebd",
   "metadata": {},
   "outputs": [
    {
     "name": "stdout",
     "output_type": "stream",
     "text": [
      "/media/mha114/LaCie/LarvikData/Larvik_Olberg/Otter/20230830/OlbergholmenNorth/8_ExtractedImages/Original created (if not created before)\n",
      "/media/mha114/LaCie/LarvikData/Larvik_Olberg/Otter/20230830/OlbergholmenNorth/9_ImagesGeopackage created (if not created before)\n",
      "GPKG file name for saving results: /media/mha114/LaCie/LarvikData/Larvik_Olberg/Otter/20230830/OlbergholmenNorth/9_ImagesGeopackage/OlbergholmenNorth_GeotaggedImages.gpkg\n",
      "Found CSV: /media/mha114/LaCie/LarvikData/Larvik_Olberg/Otter/20230830/OlbergholmenNorth/4_Processed_position/20230830_091657_OtterValeportTurnerGeoreferenced/CSV and mat files/20230830_091657_GnssTimePosHeadCourSpeed.csv\n",
      "Found video files ['20230830_OlbergN_Otter_1.MP4', '20230830_OlbergN_Otter_2.MP4', '20230830_OlbergN_Otter_3.MP4', '20230830_OlbergN_Otter_4.MP4', '20230830_OlbergN_Otter_5.MP4', '20230830_OlbergN_Otter_6.MP4', '20230830_OlbergN_Otter_7.MP4']\n"
     ]
    },
    {
     "name": "stderr",
     "output_type": "stream",
     "text": [
      "100%|██████████| 3746/3746 [45:03<00:00,  1.39it/s]\n"
     ]
    },
    {
     "name": "stdout",
     "output_type": "stream",
     "text": [
      "/media/mha114/LaCie/LarvikData/Larvik_Olberg/Otter/20230830/OlbergholmenSouth/8_ExtractedImages/Original created (if not created before)\n",
      "/media/mha114/LaCie/LarvikData/Larvik_Olberg/Otter/20230830/OlbergholmenSouth/9_ImagesGeopackage created (if not created before)\n",
      "GPKG file name for saving results: /media/mha114/LaCie/LarvikData/Larvik_Olberg/Otter/20230830/OlbergholmenSouth/9_ImagesGeopackage/OlbergholmenSouth_GeotaggedImages.gpkg\n",
      "Found CSV: /media/mha114/LaCie/LarvikData/Larvik_Olberg/Otter/20230830/OlbergholmenSouth/4_Processed_position/20230830_112937_OtterValeportTurnerGeoreferenced/CSV and mat files/20230830_112937_GnssTimePosHeadCourSpeed.csv\n",
      "Found video files ['20230830_OlbergS_Otter_1.MP4', '20230830_OlbergS_Otter_2.MP4', '20230830_OlbergS_Otter_3.MP4', '20230830_OlbergS_Otter_4.MP4', '20230830_OlbergS_Otter_5.MP4', '20230830_OlbergS_Otter_6.MP4']\n"
     ]
    },
    {
     "name": "stderr",
     "output_type": "stream",
     "text": [
      "100%|██████████| 2907/2907 [34:05<00:00,  1.42it/s]\n"
     ]
    },
    {
     "name": "stdout",
     "output_type": "stream",
     "text": [
      "/media/mha114/LaCie/LarvikData/Larvik_Kongsbakkebukta/Otter/20230830_Kongsbakkebukta/8_ExtractedImages/Original created (if not created before)\n",
      "/media/mha114/LaCie/LarvikData/Larvik_Kongsbakkebukta/Otter/20230830_Kongsbakkebukta/9_ImagesGeopackage created (if not created before)\n",
      "GPKG file name for saving results: /media/mha114/LaCie/LarvikData/Larvik_Kongsbakkebukta/Otter/20230830_Kongsbakkebukta/9_ImagesGeopackage/20230830_Kongsbakkebukta_GeotaggedImages.gpkg\n",
      "Found CSV: /media/mha114/LaCie/LarvikData/Larvik_Kongsbakkebukta/Otter/20230830_Kongsbakkebukta/4_Processed_position/20230830_143438_OtterValeportTurnerGeoreferenced/CSV and mat files/20230830_143438_GnssTimePosHeadCourSpeed.csv\n",
      "Found video files ['20230830_Kongsbakkebukta_Otter_A1.MP4', '20230830_Kongsbakkebukta_Otter_A2.MP4', '20230830_Kongsbakkebukta_Otter_A3.MP4', '20230830_Kongsbakkebukta_Otter_A4.MP4', '20230830_Kongsbakkebukta_Otter_A5.MP4', '20230830_Kongsbakkebukta_Otter_B1.MP4', '20230830_Kongsbakkebukta_Otter_B2.MP4', '20230830_Kongsbakkebukta_Otter_B3.MP4']\n"
     ]
    },
    {
     "name": "stderr",
     "output_type": "stream",
     "text": [
      "100%|██████████| 2847/2847 [33:18<00:00,  1.42it/s]\n"
     ]
    }
   ],
   "source": [
    "# NOTE: Do a \"dry run\" without extracting images and check that time offsets are correct\n",
    "\n",
    "for tdir in transect_dirs:\n",
    "    transect_dir = pathlib.Path(tdir)\n",
    "    video_dir = transect_dir / '3_GoPro/Video'\n",
    "    \n",
    "    image_dir = transect_dir / '8_ExtractedImages/Original'\n",
    "    image_dir.mkdir(parents=True, exist_ok=True)\n",
    "    print(f'{image_dir} created (if not created before)')\n",
    "\n",
    "    gpkg_dir = transect_dir / '9_ImagesGeopackage'\n",
    "    gpkg_dir.mkdir(exist_ok=True)\n",
    "    print(f'{gpkg_dir} created (if not created before)')\n",
    "\n",
    "    gpkg_file = gpkg_dir / (transect_dir.stem + '_GeotaggedImages.gpkg')\n",
    "    print(f'GPKG file name for saving results: {gpkg_file}')\n",
    "\n",
    "    csv_file = misc.file_pattern_search(str(transect_dir),'*Gnss*.csv', recursive=True)\n",
    "    if csv_file:\n",
    "        csv_file = pathlib.Path(csv_file[0]) # Index 0 because file pattern search returns list\n",
    "        print(f'Found CSV: {csv_file}')\n",
    "\n",
    "    video_files = misc.file_pattern_search(str(video_dir), '*.[Mm][Pp]4')\n",
    "    print(f'Found video files {[pathlib.Path(vfile).name for vfile in video_files]}')\n",
    "    video_data = video_transect.get_video_data(str(video_dir),tz='UTC')\n",
    "    \n",
    "    gdf = video_transect.otter_csv_to_geodataframe(csv_file)\n",
    "    gdf = video_transect.filter_gdf_on_distance(gdf,sample_distance)\n",
    "    gdf = video_transect.prepare_gdf_with_video_data(gdf,video_data)\n",
    "    gdf = video_transect.extract_images_from_video(gdf,str(image_dir))\n",
    "    gdf.to_file(gpkg_file, driver=\"GPKG\")\n",
    "    "
   ]
  }
 ],
 "metadata": {
  "kernelspec": {
   "display_name": "Python 3 (ipykernel)",
   "language": "python",
   "name": "python3"
  },
  "language_info": {
   "codemirror_mode": {
    "name": "ipython",
    "version": 3
   },
   "file_extension": ".py",
   "mimetype": "text/x-python",
   "name": "python",
   "nbconvert_exporter": "python",
   "pygments_lexer": "ipython3",
   "version": "3.11.3"
  }
 },
 "nbformat": 4,
 "nbformat_minor": 5
}
