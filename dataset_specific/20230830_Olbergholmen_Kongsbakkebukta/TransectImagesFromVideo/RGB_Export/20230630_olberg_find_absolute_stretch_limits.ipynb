{
 "cells": [
  {
   "cell_type": "code",
   "execution_count": 1,
   "metadata": {},
   "outputs": [],
   "source": [
    "from pathlib import Path\n",
    "import numpy as np\n",
    "import georeferencing\n",
    "from tqdm import tqdm\n",
    "import hyspec_io\n",
    "import image_render\n",
    "import skimage.io\n",
    "import matplotlib.pyplot as plt"
   ]
  },
  {
   "cell_type": "code",
   "execution_count": 14,
   "metadata": {},
   "outputs": [],
   "source": [
    "# Parameters\n",
    "# Rrs_limits = np.array([[0.005,0.016],[0.005,0.016],[0.004,0.012]])\n",
    "#Rrs_limits = np.array([[0.003,0.016],[0.003,0.016],[0.004,0.012]])"
   ]
  },
  {
   "cell_type": "code",
   "execution_count": 12,
   "metadata": {},
   "outputs": [],
   "source": [
    "# Paths\n",
    "lcf_dir = Path('/media/mha114/Massimal2/Massimal/Larvik_Olberg/Hyperspectral/20230830/2_Rrs')\n",
    "times_dir = lcf_dir\n",
    "hyspec_dir = Path('/media/mha114/Massimal2/Massimal/Larvik_Olberg/Hyperspectral/20230830/3a_Rrs_FSSGC')\n",
    "rgb_dir = hyspec_dir.parent / '3b_Rrs_FSSGC_RGB'\n",
    "rgb_dir.mkdir(exist_ok=True)\n",
    "hyspec_paths = sorted(hyspec_dir.glob('*.hdr'))\n"
   ]
  },
  {
   "cell_type": "code",
   "execution_count": 29,
   "metadata": {},
   "outputs": [],
   "source": [
    "# Olbergholmen north\n",
    "\n",
    "Rrs_limits = np.array([[0.003,0.016],[0.003,0.016],[0.004,0.012]])\n",
    "test_image_numbers = (4,8,5,13)\n",
    "\n",
    "# for im_num in test_image_numbers:\n",
    "for im_num in range(1,23):\n",
    "    hyspec_path = hyspec_dir / f'OlbergholmenN_Pika_L_{im_num}-Crop Wavelengths.bip.hdr'\n",
    "    \n",
    "    # Load only RGB bands from image\n",
    "    (image,wl,rgb_ind,metadata) = hyspec_io.load_envi_image(hyspec_path,rgb_only=True)\n",
    "\n",
    "    # Absolute stretch RGB image\n",
    "    image_rgb = image_render.absolute_stretch(image,Rrs_limits)\n",
    "    image_rgb = np.uint8(image_rgb*255)  # Convert to 8-bit int\n",
    "    transparency_layer = np.ones(shape=(image_rgb.shape[0:2])+(1,),dtype=np.uint8)*255\n",
    "    image_rgb = np.concatenate((image_rgb,transparency_layer),axis=2)\n",
    "    \n",
    "    # Save RGB image\n",
    "    hyspec_base_name = hyspec_path.name.split('.')[0]\n",
    "    rgg_image_save_path = rgb_dir / (hyspec_base_name + '.png')\n",
    "    skimage.io.imsave(rgg_image_save_path,image_rgb,check_contrast=False)\n",
    "\n",
    "    # Read LCF and times files, create world file\n",
    "    lcf_file_name = hyspec_base_name + '.lcf'\n",
    "    times_file_name = hyspec_path.stem + '.times'\n",
    "    world_file_name = hyspec_base_name + '.wld'\n",
    "    \n",
    "    lcf_file_path = lcf_dir / lcf_file_name\n",
    "    times_file_path = times_dir / times_file_name\n",
    "    world_file_path = rgb_dir / world_file_name\n",
    "\n",
    "    georeferencing.world_file_from_lcf_times_files(lcf_file_path,times_file_path,world_file_path)\n",
    "    # plt.imshow(image_rgb)\n",
    "    # plt.show()"
   ]
  },
  {
   "cell_type": "code",
   "execution_count": 30,
   "metadata": {},
   "outputs": [],
   "source": [
    "# Olbergholmen south 1\n",
    "\n",
    "# Rrs_limits = np.array([[0.005,0.013],[0.005,0.02],[0.005,0.012]])\n",
    "Rrs_limits = np.array([[0.0055,0.013],[0.0055,0.02],[0.0055,0.012]])\n",
    "test_image_numbers = (6,7,9,10)\n",
    "\n",
    "# for im_num in test_image_numbers:\n",
    "for im_num in range(1,16):\n",
    "    hyspec_path = hyspec_dir / f'OlbergholmenS1_Pika_L_{im_num}-Crop Wavelengths.bip.hdr'\n",
    "    \n",
    "    # Load only RGB bands from image\n",
    "    (image,wl,rgb_ind,metadata) = hyspec_io.load_envi_image(hyspec_path,rgb_only=True)\n",
    "\n",
    "    # Absolute stretch RGB image\n",
    "    image_rgb = image_render.absolute_stretch(image,Rrs_limits)\n",
    "    image_rgb = np.uint8(image_rgb*255)  # Convert to 8-bit int\n",
    "    transparency_layer = np.ones(shape=(image_rgb.shape[0:2])+(1,),dtype=np.uint8)*255\n",
    "    image_rgb = np.concatenate((image_rgb,transparency_layer),axis=2)\n",
    "\n",
    "    # Save RGB image\n",
    "    hyspec_base_name = hyspec_path.name.split('.')[0]\n",
    "    rgg_image_save_path = rgb_dir / (hyspec_base_name + '.png')\n",
    "    skimage.io.imsave(rgg_image_save_path,image_rgb,check_contrast=False)\n",
    "\n",
    "    # Read LCF and times files, create world file\n",
    "    lcf_file_name = hyspec_base_name + '.lcf'\n",
    "    times_file_name = hyspec_path.stem + '.times'\n",
    "    world_file_name = hyspec_base_name + '.wld'\n",
    "    \n",
    "    lcf_file_path = lcf_dir / lcf_file_name\n",
    "    times_file_path = times_dir / times_file_name\n",
    "    world_file_path = rgb_dir / world_file_name\n",
    "\n",
    "    georeferencing.world_file_from_lcf_times_files(lcf_file_path,times_file_path,world_file_path)\n",
    "\n",
    "    # plt.imshow(image_rgb)\n",
    "    # plt.show()"
   ]
  },
  {
   "cell_type": "code",
   "execution_count": 27,
   "metadata": {},
   "outputs": [
    {
     "data": {
      "text/plain": [
       "13"
      ]
     },
     "execution_count": 27,
     "metadata": {},
     "output_type": "execute_result"
    }
   ],
   "source": [
    "im_num"
   ]
  },
  {
   "cell_type": "code",
   "execution_count": 5,
   "metadata": {},
   "outputs": [
    {
     "name": "stderr",
     "output_type": "stream",
     "text": [
      "  0%|          | 0/143 [00:00<?, ?it/s]"
     ]
    },
    {
     "name": "stderr",
     "output_type": "stream",
     "text": [
      "100%|██████████| 143/143 [19:27<00:00,  8.17s/it]\n"
     ]
    }
   ],
   "source": [
    "# for hyspec_path in tqdm(hyspec_paths):\n",
    "#     # Load only RGB bands from image\n",
    "#     (image,wl,rgb_ind,metadata) = hyspec_io.load_envi_image(hyspec_path,rgb_only=True)\n",
    "\n",
    "#     # Absolute stretch RGB image\n",
    "#     image_rgb = image_render.absolute_stretch(image,Rrs_limits)\n",
    "#     image_rgb = np.uint8(image_rgb*255)  # Convert to 8-bit int\n",
    "#     transparency_layer = np.ones(shape=(image_rgb.shape[0:2])+(1,),dtype=np.uint8)*255\n",
    "#     image_rgb = np.concatenate((image_rgb,transparency_layer),axis=2)\n",
    "\n",
    "#     # Save RGB image\n",
    "#     hyspec_base_name = hyspec_path.name.split('.')[0]\n",
    "#     rgg_image_save_path = rgb_dir / (hyspec_base_name + '.png')\n",
    "#     skimage.io.imsave(rgg_image_save_path,image_rgb,check_contrast=False)\n",
    "\n",
    "#     # Read LCF and times files, create world file\n",
    "#     lcf_file_name = hyspec_base_name + '.lcf'\n",
    "#     times_file_name = hyspec_path.stem + '.times'\n",
    "#     world_file_name = hyspec_base_name + '.wld'\n",
    "    \n",
    "#     lcf_file_path = lcf_dir / lcf_file_name\n",
    "#     times_file_path = times_dir / times_file_name\n",
    "#     world_file_path = rgb_dir / world_file_name\n",
    "\n",
    "#     georeferencing.world_file_from_lcf_times_files(lcf_file_path,times_file_path,world_file_path)"
   ]
  }
 ],
 "metadata": {
  "kernelspec": {
   "display_name": "massimal",
   "language": "python",
   "name": "python3"
  },
  "language_info": {
   "codemirror_mode": {
    "name": "ipython",
    "version": 3
   },
   "file_extension": ".py",
   "mimetype": "text/x-python",
   "name": "python",
   "nbconvert_exporter": "python",
   "pygments_lexer": "ipython3",
   "version": "3.11.7"
  }
 },
 "nbformat": 4,
 "nbformat_minor": 2
}
