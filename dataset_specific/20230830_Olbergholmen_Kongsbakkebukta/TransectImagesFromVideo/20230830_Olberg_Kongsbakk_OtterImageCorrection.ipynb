{
 "cells": [
  {
   "cell_type": "code",
   "execution_count": 1,
   "metadata": {},
   "outputs": [],
   "source": [
    "import batch_process\n",
    "import pathlib"
   ]
  },
  {
   "cell_type": "code",
   "execution_count": 2,
   "metadata": {},
   "outputs": [],
   "source": [
    "input_dirs = ['/media/mha114/LaCie/LarvikData/Larvik_Olberg/Otter/20230830/OlbergholmenNorth/8_ExtractedImages/Original',\n",
    "              '/media/mha114/LaCie/LarvikData/Larvik_Olberg/Otter/20230830/OlbergholmenSouth/8_ExtractedImages/Original',\n",
    "              '/media/mha114/LaCie/LarvikData/Larvik_Kongsbakkebukta/Otter/20230830_Kongsbakkebukta/8_ExtractedImages/Original']\n",
    "output_dirs = [str(pathlib.Path(ipdir).parent / 'Adjusted') for ipdir in input_dirs]"
   ]
  },
  {
   "cell_type": "code",
   "execution_count": 3,
   "metadata": {},
   "outputs": [
    {
     "name": "stdout",
     "output_type": "stream",
     "text": [
      "Processing 3746 images in /media/mha114/LaCie/LarvikData/Larvik_Olberg/Otter/20230830/OlbergholmenNorth/8_ExtractedImages/Original:\n"
     ]
    },
    {
     "name": "stderr",
     "output_type": "stream",
     "text": [
      "100%|██████████| 3746/3746 [23:23<00:00,  2.67it/s]\n"
     ]
    },
    {
     "name": "stdout",
     "output_type": "stream",
     "text": [
      "Processing 2907 images in /media/mha114/LaCie/LarvikData/Larvik_Olberg/Otter/20230830/OlbergholmenSouth/8_ExtractedImages/Original:\n"
     ]
    },
    {
     "name": "stderr",
     "output_type": "stream",
     "text": [
      "100%|██████████| 2907/2907 [16:59<00:00,  2.85it/s]\n"
     ]
    },
    {
     "name": "stdout",
     "output_type": "stream",
     "text": [
      "Processing 2847 images in /media/mha114/LaCie/LarvikData/Larvik_Kongsbakkebukta/Otter/20230830_Kongsbakkebukta/8_ExtractedImages/Original:\n"
     ]
    },
    {
     "name": "stderr",
     "output_type": "stream",
     "text": [
      "100%|██████████| 2847/2847 [16:38<00:00,  2.85it/s]\n"
     ]
    }
   ],
   "source": [
    "batch_process.underwater_image_correction(input_dirs,output_dirs)"
   ]
  },
  {
   "cell_type": "code",
   "execution_count": null,
   "metadata": {},
   "outputs": [],
   "source": []
  }
 ],
 "metadata": {
  "kernelspec": {
   "display_name": "massimal-ml",
   "language": "python",
   "name": "python3"
  },
  "language_info": {
   "codemirror_mode": {
    "name": "ipython",
    "version": 3
   },
   "file_extension": ".py",
   "mimetype": "text/x-python",
   "name": "python",
   "nbconvert_exporter": "python",
   "pygments_lexer": "ipython3",
   "version": "3.11.3"
  }
 },
 "nbformat": 4,
 "nbformat_minor": 2
}
