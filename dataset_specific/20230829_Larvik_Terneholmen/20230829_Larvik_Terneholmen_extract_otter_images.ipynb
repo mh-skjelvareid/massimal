{
 "cells": [
  {
   "cell_type": "code",
   "execution_count": 1,
   "metadata": {},
   "outputs": [
    {
     "name": "stderr",
     "output_type": "stream",
     "text": [
      "/tmp/ipykernel_3092284/2880921486.py:3: DeprecationWarning: \n",
      "Pyarrow will become a required dependency of pandas in the next major release of pandas (pandas 3.0),\n",
      "(to allow more performant data types, such as the Arrow string type, and better interoperability with other libraries)\n",
      "but was not found to be installed on your system.\n",
      "If this would cause problems for you,\n",
      "please provide us feedback at https://github.com/pandas-dev/pandas/issues/54466\n",
      "        \n",
      "  import pandas as pd\n"
     ]
    }
   ],
   "source": [
    "from pathlib import Path\n",
    "\n",
    "import pandas as pd\n",
    "\n",
    "from massimal.batch_process import underwater_image_correction\n",
    "from massimal.video_transect import (\n",
    "    extract_images_from_video,\n",
    "    filter_gdf_on_distance,\n",
    "    get_video_data,\n",
    "    otter_csv_to_geodataframe,\n",
    "    prepare_gdf_with_video_data,\n",
    ")"
   ]
  },
  {
   "cell_type": "code",
   "execution_count": 2,
   "metadata": {},
   "outputs": [],
   "source": [
    "# Parameters\n",
    "dataset_root_dir = Path(\"/media/mha114/Massimal2/Massimal/Larvik_Terneholmen/Otter/20230829\")\n",
    "video_root_dir = dataset_root_dir / \"3_GoPro/Video\"\n",
    "\n",
    "video_dirs = sorted(video_root_dir.glob(\"T*\"))\n",
    "dataset_base_name = \"massimal_larvik_terneholmen_20230829_usv\"\n",
    "\n",
    "sample_distance = 2  # meters"
   ]
  },
  {
   "cell_type": "code",
   "execution_count": 5,
   "metadata": {},
   "outputs": [
    {
     "name": "stdout",
     "output_type": "stream",
     "text": [
      "Processing data in /media/mha114/Massimal2/Massimal/Larvik_Terneholmen/Otter/20230829/3_GoPro/Video/T2\n",
      "Found video files ['GX018302.MP4', 'GX028302.MP4', 'GX038302.MP4', 'GX048302.MP4', 'GX058302.MP4', 'GX068302.MP4', 'GX078302.MP4']\n"
     ]
    },
    {
     "name": "stderr",
     "output_type": "stream",
     "text": [
      "100%|██████████| 2291/2291 [32:15<00:00,  1.18it/s]\n"
     ]
    },
    {
     "name": "stdout",
     "output_type": "stream",
     "text": [
      "Processing data in /media/mha114/Massimal2/Massimal/Larvik_Terneholmen/Otter/20230829/3_GoPro/Video/T3\n",
      "Found video files ['GX018303.MP4', 'GX028303.MP4', 'GX038303.MP4', 'GX048303.MP4', 'GX058303.MP4', 'GX068303.MP4', 'GX078303.MP4']\n"
     ]
    },
    {
     "name": "stderr",
     "output_type": "stream",
     "text": [
      "100%|██████████| 1305/1305 [17:06<00:00,  1.27it/s]\n"
     ]
    }
   ],
   "source": [
    "# for video_dir in video_dirs[0:1]:\n",
    "for video_dir in video_dirs[1:]:\n",
    "    print(f\"Processing data in {video_dir}\")\n",
    "\n",
    "    try:\n",
    "        # Find CSV file\n",
    "        csv_file = next(video_dir.glob(\"*.csv\"))\n",
    "\n",
    "        # Define input and output paths\n",
    "        geotagged_dir = dataset_root_dir / \"8_GeotaggedImages\" / video_dir.name\n",
    "        geotagged_dir.mkdir(parents=True, exist_ok=True)\n",
    "        image_dir = geotagged_dir / \"images\"\n",
    "        image_dir.mkdir(parents=True, exist_ok=True)\n",
    "\n",
    "        dataset_name = f\"{dataset_base_name}_{video_dir.name}_geotagged_images\"\n",
    "        gpkg_file = geotagged_dir / f\"{dataset_name}.gpkg\"\n",
    "\n",
    "        video_files = video_dir.glob(\"*.[Mm][Pp]4\")\n",
    "        print(f\"Found video files {[vfile.name for vfile in video_files]}\")\n",
    "        video_data = get_video_data(\n",
    "            str(video_dir), tz=\"UTC\", video_time_offset=pd.Timedelta(hours=0)\n",
    "        )\n",
    "\n",
    "        gdf = otter_csv_to_geodataframe(csv_file)\n",
    "        gdf = filter_gdf_on_distance(gdf, sample_distance)\n",
    "        gdf = prepare_gdf_with_video_data(gdf, video_data)\n",
    "\n",
    "        gdf = extract_images_from_video(gdf, str(image_dir))\n",
    "        gdf.to_file(gpkg_file, driver=\"GPKG\")\n",
    "\n",
    "    except Exception as e:\n",
    "        print(f\"Failed to process data in {video_dir}: {e}\")\n"
   ]
  },
  {
   "cell_type": "code",
   "execution_count": 4,
   "metadata": {},
   "outputs": [],
   "source": [
    "# Underwater image correction - skipped for this dataset\n",
    "# input_image_dirs = [\n",
    "#     p / \"images\" for p in sorted((dataset_root_dir / \"8_GeotaggedImages\").glob(\"T*\"))\n",
    "# ]\n",
    "# output_image_dirs = [p.parent / \"images_corrected\" for p in input_image_dirs]\n",
    "\n",
    "# underwater_image_correction(input_image_dirs, output_image_dirs)\n"
   ]
  }
 ],
 "metadata": {
  "kernelspec": {
   "display_name": "massimal",
   "language": "python",
   "name": "python3"
  },
  "language_info": {
   "codemirror_mode": {
    "name": "ipython",
    "version": 3
   },
   "file_extension": ".py",
   "mimetype": "text/x-python",
   "name": "python",
   "nbconvert_exporter": "python",
   "pygments_lexer": "ipython3",
   "version": "3.11.7"
  }
 },
 "nbformat": 4,
 "nbformat_minor": 2
}
