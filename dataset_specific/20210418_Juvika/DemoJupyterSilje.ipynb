{
 "cells": [
  {
   "cell_type": "code",
   "execution_count": 4,
   "id": "82c5caf4-9b38-40c3-ab1f-493ffa482982",
   "metadata": {},
   "outputs": [],
   "source": [
    "a = 2"
   ]
  },
  {
   "cell_type": "code",
   "execution_count": 2,
   "id": "f93ce14d-2411-438b-8083-3e0bd84d1e7a",
   "metadata": {},
   "outputs": [
    {
     "data": {
      "text/plain": [
       "34"
      ]
     },
     "execution_count": 2,
     "metadata": {},
     "output_type": "execute_result"
    }
   ],
   "source": [
    "a"
   ]
  },
  {
   "cell_type": "code",
   "execution_count": 3,
   "id": "73ac65f2-6493-4bd0-8840-123a010932a9",
   "metadata": {},
   "outputs": [],
   "source": [
    "b = 11"
   ]
  },
  {
   "cell_type": "code",
   "execution_count": 5,
   "id": "60776fa3-d667-44ec-b4fa-cd41210ddd27",
   "metadata": {},
   "outputs": [
    {
     "data": {
      "text/plain": [
       "13"
      ]
     },
     "execution_count": 5,
     "metadata": {},
     "output_type": "execute_result"
    }
   ],
   "source": [
    "a+b"
   ]
  },
  {
   "cell_type": "markdown",
   "id": "9bc72233-2d7d-48e0-ba78-9fd9fc63ac0c",
   "metadata": {},
   "source": [
    "# Tittel\n",
    "Dette er litt forklarende tekst"
   ]
  },
  {
   "cell_type": "code",
   "execution_count": 6,
   "id": "7308fdef-e186-4cde-9c16-a01cba2f764e",
   "metadata": {},
   "outputs": [],
   "source": [
    "import matplotlib.pyplot as plt"
   ]
  },
  {
   "cell_type": "code",
   "execution_count": 8,
   "id": "77dd28ef-ba8a-4144-8841-8d1cc0b41100",
   "metadata": {},
   "outputs": [
    {
     "data": {
      "text/plain": [
       "[<matplotlib.lines.Line2D at 0x258612929d0>]"
      ]
     },
     "execution_count": 8,
     "metadata": {},
     "output_type": "execute_result"
    },
    {
     "data": {
      "image/png": "[encoded data removed]",
      "text/plain": [
       "<Figure size 432x288 with 1 Axes>"
      ]
     },
     "metadata": {
      "needs_background": "light"
     },
     "output_type": "display_data"
    }
   ],
   "source": [
    "plt.plot([0,1,2,3,4],[4,2,7,4,1])"
   ]
  },
  {
   "cell_type": "code",
   "execution_count": 9,
   "id": "a67f4952-b992-42ac-b6b7-b4140344c79d",
   "metadata": {},
   "outputs": [],
   "source": [
    "# Vi gjør en liten endring\n",
    "c = 42"
   ]
  },
  {
   "cell_type": "code",
   "execution_count": null,
   "id": "6ec291e3-3f37-48cb-b0c2-6527a7079b34",
   "metadata": {},
   "outputs": [],
   "source": []
  }
 ],
 "metadata": {
  "kernelspec": {
   "display_name": "Python 3 (ipykernel)",
   "language": "python",
   "name": "python3"
  },
  "language_info": {
   "codemirror_mode": {
    "name": "ipython",
    "version": 3
   },
   "file_extension": ".py",
   "mimetype": "text/x-python",
   "name": "python",
   "nbconvert_exporter": "python",
   "pygments_lexer": "ipython3",
   "version": "3.9.7"
  }
 },
 "nbformat": 4,
 "nbformat_minor": 5
}
