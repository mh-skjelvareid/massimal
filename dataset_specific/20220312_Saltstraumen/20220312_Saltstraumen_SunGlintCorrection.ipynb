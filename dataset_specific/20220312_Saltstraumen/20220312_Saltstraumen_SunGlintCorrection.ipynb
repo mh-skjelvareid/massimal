{
 "cells": [
  {
   "cell_type": "code",
   "execution_count": 1,
   "id": "463bd96a-a659-42a0-be21-5c72ce867494",
   "metadata": {},
   "outputs": [],
   "source": [
    "# Imports\n",
    "import batch_process"
   ]
  },
  {
   "cell_type": "code",
   "execution_count": 2,
   "id": "9ba3bfb8-8573-4d9c-9b4f-6c6e94bb58b2",
   "metadata": {},
   "outputs": [],
   "source": [
    "# Paths\n",
    "input_dir = '/media/mha114/MassimalDataProcessing/20210312_Saltstraumen/Saltbrygga-Large-2-best/2a_Radiance'\n",
    "train_rad_file = '/media/mha114/MassimalDataProcessing/20210312_Saltstraumen/Saltbrygga-Large-2-best/M_SunGlint_RefCube/Saltstraumen_Saltbrygga_Large_Pika_L_41-Radiance From Raw Data-SpatialCrop.bip.hdr'\n",
    "output_dir = '/media/mha114/MassimalDataProcessing/20210312_Saltstraumen/Saltbrygga-Large-2-best/2c_Radiance_SGC'"
   ]
  },
  {
   "cell_type": "code",
   "execution_count": 3,
   "id": "a674ba6f-4d7f-4efd-8e89-b1931a256e96",
   "metadata": {},
   "outputs": [
    {
     "name": "stdout",
     "output_type": "stream",
     "text": [
      "Loading training data /media/mha114/MassimalDataProcessing/20210312_Saltstraumen/Saltbrygga-Large-2-best/M_SunGlint_RefCube/Saltstraumen_Saltbrygga_Large_Pika_L_41-Radiance From Raw Data-SpatialCrop.bip.hdr\n",
      "Training Hedley sun glint correction model\n",
      "Found 52 images in input folder.\n",
      "Loading input file /media/mha114/MassimalDataProcessing/20210312_Saltstraumen/Saltbrygga-Large-2-best/2a_Radiance/Saltstraumen_Saltbrygga_Large_Pika_L_23-Radiance From Raw Data.bip.hdr\n",
      "Saving sun glint corrected file as /media/mha114/MassimalDataProcessing/20210312_Saltstraumen/Saltbrygga-Large-2-best/2c_Radiance_SGC/Saltstraumen_Saltbrygga_Large_Pika_L_23-Radiance From Raw Data.bip.hdr\n",
      "Loading input file /media/mha114/MassimalDataProcessing/20210312_Saltstraumen/Saltbrygga-Large-2-best/2a_Radiance/Saltstraumen_Saltbrygga_Large_Pika_L_24-Radiance From Raw Data.bip.hdr\n",
      "Saving sun glint corrected file as /media/mha114/MassimalDataProcessing/20210312_Saltstraumen/Saltbrygga-Large-2-best/2c_Radiance_SGC/Saltstraumen_Saltbrygga_Large_Pika_L_24-Radiance From Raw Data.bip.hdr\n",
      "Loading input file /media/mha114/MassimalDataProcessing/20210312_Saltstraumen/Saltbrygga-Large-2-best/2a_Radiance/Saltstraumen_Saltbrygga_Large_Pika_L_25-Radiance From Raw Data.bip.hdr\n",
      "Saving sun glint corrected file as /media/mha114/MassimalDataProcessing/20210312_Saltstraumen/Saltbrygga-Large-2-best/2c_Radiance_SGC/Saltstraumen_Saltbrygga_Large_Pika_L_25-Radiance From Raw Data.bip.hdr\n",
      "Loading input file /media/mha114/MassimalDataProcessing/20210312_Saltstraumen/Saltbrygga-Large-2-best/2a_Radiance/Saltstraumen_Saltbrygga_Large_Pika_L_26-Radiance From Raw Data.bip.hdr\n",
      "Saving sun glint corrected file as /media/mha114/MassimalDataProcessing/20210312_Saltstraumen/Saltbrygga-Large-2-best/2c_Radiance_SGC/Saltstraumen_Saltbrygga_Large_Pika_L_26-Radiance From Raw Data.bip.hdr\n",
      "Loading input file /media/mha114/MassimalDataProcessing/20210312_Saltstraumen/Saltbrygga-Large-2-best/2a_Radiance/Saltstraumen_Saltbrygga_Large_Pika_L_27-Radiance From Raw Data.bip.hdr\n",
      "Saving sun glint corrected file as /media/mha114/MassimalDataProcessing/20210312_Saltstraumen/Saltbrygga-Large-2-best/2c_Radiance_SGC/Saltstraumen_Saltbrygga_Large_Pika_L_27-Radiance From Raw Data.bip.hdr\n",
      "Loading input file /media/mha114/MassimalDataProcessing/20210312_Saltstraumen/Saltbrygga-Large-2-best/2a_Radiance/Saltstraumen_Saltbrygga_Large_Pika_L_28-Radiance From Raw Data.bip.hdr\n",
      "Saving sun glint corrected file as /media/mha114/MassimalDataProcessing/20210312_Saltstraumen/Saltbrygga-Large-2-best/2c_Radiance_SGC/Saltstraumen_Saltbrygga_Large_Pika_L_28-Radiance From Raw Data.bip.hdr\n",
      "Loading input file /media/mha114/MassimalDataProcessing/20210312_Saltstraumen/Saltbrygga-Large-2-best/2a_Radiance/Saltstraumen_Saltbrygga_Large_Pika_L_29-Radiance From Raw Data.bip.hdr\n",
      "Saving sun glint corrected file as /media/mha114/MassimalDataProcessing/20210312_Saltstraumen/Saltbrygga-Large-2-best/2c_Radiance_SGC/Saltstraumen_Saltbrygga_Large_Pika_L_29-Radiance From Raw Data.bip.hdr\n",
      "Loading input file /media/mha114/MassimalDataProcessing/20210312_Saltstraumen/Saltbrygga-Large-2-best/2a_Radiance/Saltstraumen_Saltbrygga_Large_Pika_L_30-Radiance From Raw Data.bip.hdr\n",
      "Saving sun glint corrected file as /media/mha114/MassimalDataProcessing/20210312_Saltstraumen/Saltbrygga-Large-2-best/2c_Radiance_SGC/Saltstraumen_Saltbrygga_Large_Pika_L_30-Radiance From Raw Data.bip.hdr\n",
      "Loading input file /media/mha114/MassimalDataProcessing/20210312_Saltstraumen/Saltbrygga-Large-2-best/2a_Radiance/Saltstraumen_Saltbrygga_Large_Pika_L_31-Radiance From Raw Data.bip.hdr\n",
      "Saving sun glint corrected file as /media/mha114/MassimalDataProcessing/20210312_Saltstraumen/Saltbrygga-Large-2-best/2c_Radiance_SGC/Saltstraumen_Saltbrygga_Large_Pika_L_31-Radiance From Raw Data.bip.hdr\n",
      "Loading input file /media/mha114/MassimalDataProcessing/20210312_Saltstraumen/Saltbrygga-Large-2-best/2a_Radiance/Saltstraumen_Saltbrygga_Large_Pika_L_32-Radiance From Raw Data.bip.hdr\n",
      "Saving sun glint corrected file as /media/mha114/MassimalDataProcessing/20210312_Saltstraumen/Saltbrygga-Large-2-best/2c_Radiance_SGC/Saltstraumen_Saltbrygga_Large_Pika_L_32-Radiance From Raw Data.bip.hdr\n",
      "Loading input file /media/mha114/MassimalDataProcessing/20210312_Saltstraumen/Saltbrygga-Large-2-best/2a_Radiance/Saltstraumen_Saltbrygga_Large_Pika_L_33-Radiance From Raw Data.bip.hdr\n",
      "Saving sun glint corrected file as /media/mha114/MassimalDataProcessing/20210312_Saltstraumen/Saltbrygga-Large-2-best/2c_Radiance_SGC/Saltstraumen_Saltbrygga_Large_Pika_L_33-Radiance From Raw Data.bip.hdr\n",
      "Loading input file /media/mha114/MassimalDataProcessing/20210312_Saltstraumen/Saltbrygga-Large-2-best/2a_Radiance/Saltstraumen_Saltbrygga_Large_Pika_L_34-Radiance From Raw Data.bip.hdr\n",
      "Saving sun glint corrected file as /media/mha114/MassimalDataProcessing/20210312_Saltstraumen/Saltbrygga-Large-2-best/2c_Radiance_SGC/Saltstraumen_Saltbrygga_Large_Pika_L_34-Radiance From Raw Data.bip.hdr\n",
      "Loading input file /media/mha114/MassimalDataProcessing/20210312_Saltstraumen/Saltbrygga-Large-2-best/2a_Radiance/Saltstraumen_Saltbrygga_Large_Pika_L_35-Radiance From Raw Data.bip.hdr\n",
      "Saving sun glint corrected file as /media/mha114/MassimalDataProcessing/20210312_Saltstraumen/Saltbrygga-Large-2-best/2c_Radiance_SGC/Saltstraumen_Saltbrygga_Large_Pika_L_35-Radiance From Raw Data.bip.hdr\n",
      "Loading input file /media/mha114/MassimalDataProcessing/20210312_Saltstraumen/Saltbrygga-Large-2-best/2a_Radiance/Saltstraumen_Saltbrygga_Large_Pika_L_36-Radiance From Raw Data.bip.hdr\n",
      "Saving sun glint corrected file as /media/mha114/MassimalDataProcessing/20210312_Saltstraumen/Saltbrygga-Large-2-best/2c_Radiance_SGC/Saltstraumen_Saltbrygga_Large_Pika_L_36-Radiance From Raw Data.bip.hdr\n",
      "Loading input file /media/mha114/MassimalDataProcessing/20210312_Saltstraumen/Saltbrygga-Large-2-best/2a_Radiance/Saltstraumen_Saltbrygga_Large_Pika_L_37-Radiance From Raw Data.bip.hdr\n",
      "Saving sun glint corrected file as /media/mha114/MassimalDataProcessing/20210312_Saltstraumen/Saltbrygga-Large-2-best/2c_Radiance_SGC/Saltstraumen_Saltbrygga_Large_Pika_L_37-Radiance From Raw Data.bip.hdr\n",
      "Loading input file /media/mha114/MassimalDataProcessing/20210312_Saltstraumen/Saltbrygga-Large-2-best/2a_Radiance/Saltstraumen_Saltbrygga_Large_Pika_L_38-Radiance From Raw Data.bip.hdr\n",
      "Saving sun glint corrected file as /media/mha114/MassimalDataProcessing/20210312_Saltstraumen/Saltbrygga-Large-2-best/2c_Radiance_SGC/Saltstraumen_Saltbrygga_Large_Pika_L_38-Radiance From Raw Data.bip.hdr\n",
      "Loading input file /media/mha114/MassimalDataProcessing/20210312_Saltstraumen/Saltbrygga-Large-2-best/2a_Radiance/Saltstraumen_Saltbrygga_Large_Pika_L_39-Radiance From Raw Data.bip.hdr\n",
      "Saving sun glint corrected file as /media/mha114/MassimalDataProcessing/20210312_Saltstraumen/Saltbrygga-Large-2-best/2c_Radiance_SGC/Saltstraumen_Saltbrygga_Large_Pika_L_39-Radiance From Raw Data.bip.hdr\n",
      "Loading input file /media/mha114/MassimalDataProcessing/20210312_Saltstraumen/Saltbrygga-Large-2-best/2a_Radiance/Saltstraumen_Saltbrygga_Large_Pika_L_40-Radiance From Raw Data.bip.hdr\n",
      "Saving sun glint corrected file as /media/mha114/MassimalDataProcessing/20210312_Saltstraumen/Saltbrygga-Large-2-best/2c_Radiance_SGC/Saltstraumen_Saltbrygga_Large_Pika_L_40-Radiance From Raw Data.bip.hdr\n",
      "Loading input file /media/mha114/MassimalDataProcessing/20210312_Saltstraumen/Saltbrygga-Large-2-best/2a_Radiance/Saltstraumen_Saltbrygga_Large_Pika_L_41-Radiance From Raw Data.bip.hdr\n",
      "Saving sun glint corrected file as /media/mha114/MassimalDataProcessing/20210312_Saltstraumen/Saltbrygga-Large-2-best/2c_Radiance_SGC/Saltstraumen_Saltbrygga_Large_Pika_L_41-Radiance From Raw Data.bip.hdr\n",
      "Loading input file /media/mha114/MassimalDataProcessing/20210312_Saltstraumen/Saltbrygga-Large-2-best/2a_Radiance/Saltstraumen_Saltbrygga_Large_Pika_L_42-Radiance From Raw Data.bip.hdr\n",
      "Saving sun glint corrected file as /media/mha114/MassimalDataProcessing/20210312_Saltstraumen/Saltbrygga-Large-2-best/2c_Radiance_SGC/Saltstraumen_Saltbrygga_Large_Pika_L_42-Radiance From Raw Data.bip.hdr\n",
      "Loading input file /media/mha114/MassimalDataProcessing/20210312_Saltstraumen/Saltbrygga-Large-2-best/2a_Radiance/Saltstraumen_Saltbrygga_Large_Pika_L_43-Radiance From Raw Data.bip.hdr\n",
      "Saving sun glint corrected file as /media/mha114/MassimalDataProcessing/20210312_Saltstraumen/Saltbrygga-Large-2-best/2c_Radiance_SGC/Saltstraumen_Saltbrygga_Large_Pika_L_43-Radiance From Raw Data.bip.hdr\n",
      "Loading input file /media/mha114/MassimalDataProcessing/20210312_Saltstraumen/Saltbrygga-Large-2-best/2a_Radiance/Saltstraumen_Saltbrygga_Large_Pika_L_44-Radiance From Raw Data.bip.hdr\n",
      "Saving sun glint corrected file as /media/mha114/MassimalDataProcessing/20210312_Saltstraumen/Saltbrygga-Large-2-best/2c_Radiance_SGC/Saltstraumen_Saltbrygga_Large_Pika_L_44-Radiance From Raw Data.bip.hdr\n",
      "Loading input file /media/mha114/MassimalDataProcessing/20210312_Saltstraumen/Saltbrygga-Large-2-best/2a_Radiance/Saltstraumen_Saltbrygga_Large_Pika_L_45-Radiance From Raw Data.bip.hdr\n",
      "Saving sun glint corrected file as /media/mha114/MassimalDataProcessing/20210312_Saltstraumen/Saltbrygga-Large-2-best/2c_Radiance_SGC/Saltstraumen_Saltbrygga_Large_Pika_L_45-Radiance From Raw Data.bip.hdr\n",
      "Loading input file /media/mha114/MassimalDataProcessing/20210312_Saltstraumen/Saltbrygga-Large-2-best/2a_Radiance/Saltstraumen_Saltbrygga_Large_Pika_L_46-Radiance From Raw Data.bip.hdr\n",
      "Saving sun glint corrected file as /media/mha114/MassimalDataProcessing/20210312_Saltstraumen/Saltbrygga-Large-2-best/2c_Radiance_SGC/Saltstraumen_Saltbrygga_Large_Pika_L_46-Radiance From Raw Data.bip.hdr\n",
      "Loading input file /media/mha114/MassimalDataProcessing/20210312_Saltstraumen/Saltbrygga-Large-2-best/2a_Radiance/Saltstraumen_Saltbrygga_Large_Pika_L_47-Radiance From Raw Data.bip.hdr\n",
      "Saving sun glint corrected file as /media/mha114/MassimalDataProcessing/20210312_Saltstraumen/Saltbrygga-Large-2-best/2c_Radiance_SGC/Saltstraumen_Saltbrygga_Large_Pika_L_47-Radiance From Raw Data.bip.hdr\n",
      "Loading input file /media/mha114/MassimalDataProcessing/20210312_Saltstraumen/Saltbrygga-Large-2-best/2a_Radiance/Saltstraumen_Saltbrygga_Large_downwelling_23_pre.spec.hdr\n"
     ]
    },
    {
     "ename": "IndexError",
     "evalue": "boolean index did not match indexed array along dimension 1; dimension is 2048 but corresponding boolean dimension is 150",
     "output_type": "error",
     "traceback": [
      "\u001b[0;31m---------------------------------------------------------------------------\u001b[0m",
      "\u001b[0;31mIndexError\u001b[0m                                Traceback (most recent call last)",
      "\u001b[0;32m<ipython-input-3-b8cbb2a6c6b3>\u001b[0m in \u001b[0;36m<module>\u001b[0;34m\u001b[0m\n\u001b[1;32m      1\u001b[0m \u001b[0;31m# Run batch processing\u001b[0m\u001b[0;34m\u001b[0m\u001b[0;34m\u001b[0m\u001b[0;34m\u001b[0m\u001b[0m\n\u001b[0;32m----> 2\u001b[0;31m \u001b[0mbatch_process\u001b[0m\u001b[0;34m.\u001b[0m\u001b[0mhedley_remove_glint\u001b[0m\u001b[0;34m(\u001b[0m\u001b[0minput_dir\u001b[0m\u001b[0;34m,\u001b[0m\u001b[0moutput_dir\u001b[0m\u001b[0;34m,\u001b[0m\u001b[0mtrain_rad_file\u001b[0m\u001b[0;34m)\u001b[0m\u001b[0;34m\u001b[0m\u001b[0;34m\u001b[0m\u001b[0m\n\u001b[0m",
      "\u001b[0;32m~/Dropbox/Python/massimal/tools/batch_process.py\u001b[0m in \u001b[0;36mhedley_remove_glint\u001b[0;34m(input_dir, output_dir, train_cube_path, recursive_src)\u001b[0m\n\u001b[1;32m     74\u001b[0m \u001b[0;34m\u001b[0m\u001b[0m\n\u001b[1;32m     75\u001b[0m         \u001b[0;31m# Remove glint\u001b[0m\u001b[0;34m\u001b[0m\u001b[0;34m\u001b[0m\u001b[0;34m\u001b[0m\u001b[0m\n\u001b[0;32m---> 76\u001b[0;31m         \u001b[0mim_sgc\u001b[0m \u001b[0;34m=\u001b[0m \u001b[0msgm\u001b[0m\u001b[0;34m.\u001b[0m\u001b[0mremove_glint\u001b[0m\u001b[0;34m(\u001b[0m\u001b[0mim\u001b[0m\u001b[0;34m)\u001b[0m\u001b[0;34m\u001b[0m\u001b[0;34m\u001b[0m\u001b[0m\n\u001b[0m\u001b[1;32m     77\u001b[0m \u001b[0;34m\u001b[0m\u001b[0m\n\u001b[1;32m     78\u001b[0m         \u001b[0;31m# Update metadata\u001b[0m\u001b[0;34m\u001b[0m\u001b[0;34m\u001b[0m\u001b[0;34m\u001b[0m\u001b[0m\n",
      "\u001b[0;32m~/Dropbox/Python/massimal/tools/preprocess.py\u001b[0m in \u001b[0;36mremove_glint\u001b[0;34m(self, data, invalid_threshold)\u001b[0m\n\u001b[1;32m    225\u001b[0m \u001b[0;34m\u001b[0m\u001b[0m\n\u001b[1;32m    226\u001b[0m         \u001b[0;31m# Extract VIS and NIR bands\u001b[0m\u001b[0;34m\u001b[0m\u001b[0;34m\u001b[0m\u001b[0;34m\u001b[0m\u001b[0m\n\u001b[0;32m--> 227\u001b[0;31m         \u001b[0mvis\u001b[0m \u001b[0;34m=\u001b[0m \u001b[0mdata\u001b[0m\u001b[0;34m[\u001b[0m\u001b[0;34m:\u001b[0m\u001b[0;34m,\u001b[0m\u001b[0mself\u001b[0m\u001b[0;34m.\u001b[0m\u001b[0mvis_ind\u001b[0m\u001b[0;34m]\u001b[0m\u001b[0;34m\u001b[0m\u001b[0;34m\u001b[0m\u001b[0m\n\u001b[0m\u001b[1;32m    228\u001b[0m         \u001b[0mnir\u001b[0m \u001b[0;34m=\u001b[0m \u001b[0mnp\u001b[0m\u001b[0;34m.\u001b[0m\u001b[0mmean\u001b[0m\u001b[0;34m(\u001b[0m\u001b[0mdata\u001b[0m\u001b[0;34m[\u001b[0m\u001b[0;34m:\u001b[0m\u001b[0;34m,\u001b[0m\u001b[0mself\u001b[0m\u001b[0;34m.\u001b[0m\u001b[0mnir_ind\u001b[0m\u001b[0;34m]\u001b[0m\u001b[0;34m,\u001b[0m \u001b[0maxis\u001b[0m\u001b[0;34m=\u001b[0m\u001b[0;36m1\u001b[0m\u001b[0;34m,\u001b[0m \u001b[0mkeepdims\u001b[0m\u001b[0;34m=\u001b[0m\u001b[0;32mTrue\u001b[0m\u001b[0;34m)\u001b[0m\u001b[0;34m\u001b[0m\u001b[0;34m\u001b[0m\u001b[0m\n\u001b[1;32m    229\u001b[0m \u001b[0;34m\u001b[0m\u001b[0m\n",
      "\u001b[0;31mIndexError\u001b[0m: boolean index did not match indexed array along dimension 1; dimension is 2048 but corresponding boolean dimension is 150"
     ]
    }
   ],
   "source": [
    "# Run batch processing\n",
    "batch_process.hedley_remove_glint(input_dir,output_dir,train_rad_file)"
   ]
  }
 ],
 "metadata": {
  "kernelspec": {
   "display_name": "Python 3",
   "language": "python",
   "name": "python3"
  },
  "language_info": {
   "codemirror_mode": {
    "name": "ipython",
    "version": 3
   },
   "file_extension": ".py",
   "mimetype": "text/x-python",
   "name": "python",
   "nbconvert_exporter": "python",
   "pygments_lexer": "ipython3",
   "version": "3.9.4"
  }
 },
 "nbformat": 4,
 "nbformat_minor": 5
}
