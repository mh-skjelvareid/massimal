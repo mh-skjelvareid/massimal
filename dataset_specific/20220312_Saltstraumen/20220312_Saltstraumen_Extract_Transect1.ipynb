{
 "cells": [
  {
   "cell_type": "code",
   "execution_count": 1,
   "id": "75108aec",
   "metadata": {},
   "outputs": [],
   "source": [
    "# Imports\n",
    "import ffmpeg\n",
    "import pandas as pd\n",
    "import geopandas\n",
    "import datetime\n",
    "import shapely\n",
    "import warnings\n",
    "import numpy as np\n",
    "import os\n",
    "from pathlib import Path\n",
    "\n",
    "import video_transect, misc"
   ]
  },
  {
   "cell_type": "code",
   "execution_count": 10,
   "id": "d6c00f8a",
   "metadata": {},
   "outputs": [],
   "source": [
    "# Paths\n",
    "csv_file = '/media/mha114/MassimalDataProcessing/20210312_Saltstraumen/Images-UW/20220329/VideoTransect_Structured/Transect1/2022-03-29_125003_MassimalTrack.csv'\n",
    "video_dir = '/media/mha114/MassimalDataProcessing/20210312_Saltstraumen/Images-UW/20220329/VideoTransect_Structured/Transect1/Video'\n",
    "image_dir = '/media/mha114/MassimalDataProcessing/20210312_Saltstraumen/Images-UW/20220329/VideoTransect_Structured/Transect1/Images'\n",
    "gpk_file = '/media/mha114/MassimalDataProcessing/20210312_Saltstraumen/Images-UW/20220329/VideoTransect_Structured/Transect1/20210312_Saltstraumen_VideoTransect1.gpkg'"
   ]
  },
  {
   "cell_type": "code",
   "execution_count": 3,
   "id": "6c93540b",
   "metadata": {},
   "outputs": [],
   "source": [
    "# Read file, get geodataframe\n",
    "gdf = video_transect.track_csv_to_geodataframe(csv_file)"
   ]
  },
  {
   "cell_type": "code",
   "execution_count": 4,
   "id": "fedb2772",
   "metadata": {},
   "outputs": [],
   "source": [
    "# Get video info\n",
    "video_data = video_transect.get_video_data(video_dir)"
   ]
  },
  {
   "cell_type": "code",
   "execution_count": 5,
   "id": "e20ea225",
   "metadata": {},
   "outputs": [],
   "source": [
    "# Prepare gdf for extraction of images\n",
    "gdf = video_transect.prepare_gdf_with_video_data(gdf,video_data)"
   ]
  },
  {
   "cell_type": "code",
   "execution_count": 6,
   "id": "ed10ddd4",
   "metadata": {},
   "outputs": [],
   "source": [
    "# Ony keep every n'th row (too densely sampled)\n",
    "N = 5  # Every fifth second\n",
    "gdf_small = gdf.copy()\n",
    "gdf_small = gdf_small.iloc[::N]"
   ]
  },
  {
   "cell_type": "code",
   "execution_count": 7,
   "id": "261917be",
   "metadata": {},
   "outputs": [
    {
     "name": "stderr",
     "output_type": "stream",
     "text": [
      "100%|█████████████████████████████████████████| 583/583 [07:15<00:00,  1.34it/s]\n"
     ]
    }
   ],
   "source": [
    "# Extract images\n",
    "gdf_small = video_transect.extract_images_from_video(gdf_small,image_dir)"
   ]
  },
  {
   "cell_type": "code",
   "execution_count": 8,
   "id": "f686dc49",
   "metadata": {},
   "outputs": [
    {
     "data": {
      "text/html": [
       "<div>\n",
       "<style scoped>\n",
       "    .dataframe tbody tr th:only-of-type {\n",
       "        vertical-align: middle;\n",
       "    }\n",
       "\n",
       "    .dataframe tbody tr th {\n",
       "        vertical-align: top;\n",
       "    }\n",
       "\n",
       "    .dataframe thead th {\n",
       "        text-align: right;\n",
       "    }\n",
       "</style>\n",
       "<table border=\"1\" class=\"dataframe\">\n",
       "  <thead>\n",
       "    <tr style=\"text-align: right;\">\n",
       "      <th></th>\n",
       "      <th>Lat</th>\n",
       "      <th>Lng</th>\n",
       "      <th>Time</th>\n",
       "      <th>TimeDiffSec</th>\n",
       "      <th>VideoFile</th>\n",
       "      <th>VideoRelTime</th>\n",
       "      <th>ImageFile</th>\n",
       "      <th>geometry</th>\n",
       "    </tr>\n",
       "  </thead>\n",
       "  <tbody>\n",
       "    <tr>\n",
       "      <th>2890</th>\n",
       "      <td>67.227385</td>\n",
       "      <td>14.626143</td>\n",
       "      <td>2022-03-29 11:38:13.100000+00:00</td>\n",
       "      <td>2889.011</td>\n",
       "      <td>/media/mha114/MassimalDataProcessing/20210312_...</td>\n",
       "      <td>226.351</td>\n",
       "      <td>GX060370_03m46s351ms.jpg</td>\n",
       "      <td>POINT (14.62614 67.22738)</td>\n",
       "    </tr>\n",
       "    <tr>\n",
       "      <th>2895</th>\n",
       "      <td>67.227399</td>\n",
       "      <td>14.626135</td>\n",
       "      <td>2022-03-29 11:38:18.109000+00:00</td>\n",
       "      <td>2894.020</td>\n",
       "      <td>/media/mha114/MassimalDataProcessing/20210312_...</td>\n",
       "      <td>231.360</td>\n",
       "      <td>GX060370_03m51s360ms.jpg</td>\n",
       "      <td>POINT (14.62613 67.22740)</td>\n",
       "    </tr>\n",
       "    <tr>\n",
       "      <th>2900</th>\n",
       "      <td>67.227409</td>\n",
       "      <td>14.626121</td>\n",
       "      <td>2022-03-29 11:38:23.105000+00:00</td>\n",
       "      <td>2899.016</td>\n",
       "      <td>/media/mha114/MassimalDataProcessing/20210312_...</td>\n",
       "      <td>236.356</td>\n",
       "      <td>GX060370_03m56s356ms.jpg</td>\n",
       "      <td>POINT (14.62612 67.22741)</td>\n",
       "    </tr>\n",
       "    <tr>\n",
       "      <th>2905</th>\n",
       "      <td>67.227417</td>\n",
       "      <td>14.626103</td>\n",
       "      <td>2022-03-29 11:38:28.129000+00:00</td>\n",
       "      <td>2904.040</td>\n",
       "      <td>/media/mha114/MassimalDataProcessing/20210312_...</td>\n",
       "      <td>241.380</td>\n",
       "      <td>GX060370_04m01s380ms.jpg</td>\n",
       "      <td>POINT (14.62610 67.22742)</td>\n",
       "    </tr>\n",
       "    <tr>\n",
       "      <th>2910</th>\n",
       "      <td>67.227423</td>\n",
       "      <td>14.626085</td>\n",
       "      <td>2022-03-29 11:38:33.113000+00:00</td>\n",
       "      <td>2909.024</td>\n",
       "      <td>/media/mha114/MassimalDataProcessing/20210312_...</td>\n",
       "      <td>246.364</td>\n",
       "      <td>GX060370_04m06s364ms.jpg</td>\n",
       "      <td>POINT (14.62608 67.22742)</td>\n",
       "    </tr>\n",
       "  </tbody>\n",
       "</table>\n",
       "</div>"
      ],
      "text/plain": [
       "            Lat        Lng                             Time  TimeDiffSec  \\\n",
       "2890  67.227385  14.626143 2022-03-29 11:38:13.100000+00:00     2889.011   \n",
       "2895  67.227399  14.626135 2022-03-29 11:38:18.109000+00:00     2894.020   \n",
       "2900  67.227409  14.626121 2022-03-29 11:38:23.105000+00:00     2899.016   \n",
       "2905  67.227417  14.626103 2022-03-29 11:38:28.129000+00:00     2904.040   \n",
       "2910  67.227423  14.626085 2022-03-29 11:38:33.113000+00:00     2909.024   \n",
       "\n",
       "                                              VideoFile  VideoRelTime  \\\n",
       "2890  /media/mha114/MassimalDataProcessing/20210312_...       226.351   \n",
       "2895  /media/mha114/MassimalDataProcessing/20210312_...       231.360   \n",
       "2900  /media/mha114/MassimalDataProcessing/20210312_...       236.356   \n",
       "2905  /media/mha114/MassimalDataProcessing/20210312_...       241.380   \n",
       "2910  /media/mha114/MassimalDataProcessing/20210312_...       246.364   \n",
       "\n",
       "                     ImageFile                   geometry  \n",
       "2890  GX060370_03m46s351ms.jpg  POINT (14.62614 67.22738)  \n",
       "2895  GX060370_03m51s360ms.jpg  POINT (14.62613 67.22740)  \n",
       "2900  GX060370_03m56s356ms.jpg  POINT (14.62612 67.22741)  \n",
       "2905  GX060370_04m01s380ms.jpg  POINT (14.62610 67.22742)  \n",
       "2910  GX060370_04m06s364ms.jpg  POINT (14.62608 67.22742)  "
      ]
     },
     "execution_count": 8,
     "metadata": {},
     "output_type": "execute_result"
    }
   ],
   "source": [
    "gdf_small.tail()"
   ]
  },
  {
   "cell_type": "code",
   "execution_count": 11,
   "id": "8ec21b90",
   "metadata": {},
   "outputs": [],
   "source": [
    "# Save gdf as geopackage\n",
    "gdf_small.to_file(gpk_file, driver=\"GPKG\")"
   ]
  }
 ],
 "metadata": {
  "kernelspec": {
   "display_name": "Python 3 (ipykernel)",
   "language": "python",
   "name": "python3"
  },
  "language_info": {
   "codemirror_mode": {
    "name": "ipython",
    "version": 3
   },
   "file_extension": ".py",
   "mimetype": "text/x-python",
   "name": "python",
   "nbconvert_exporter": "python",
   "pygments_lexer": "ipython3",
   "version": "3.9.12"
  }
 },
 "nbformat": 4,
 "nbformat_minor": 5
}
