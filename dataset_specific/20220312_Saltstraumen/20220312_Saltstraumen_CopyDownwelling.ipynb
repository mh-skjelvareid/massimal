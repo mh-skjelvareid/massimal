{
 "cells": [
  {
   "cell_type": "code",
   "execution_count": 7,
   "id": "d34642a0-075d-4d07-8f59-ebcd413901d6",
   "metadata": {},
   "outputs": [],
   "source": [
    "import glob\n",
    "import os\n",
    "import shutil\n",
    "\n",
    "#import misc\n",
    "import importlib.util\n",
    "spec = importlib.util.spec_from_file_location( \"misc\", \"C:/Users/mha114/Dropbox/Python/massimal/tools/misc.py\")\n",
    "misc = importlib.util.module_from_spec(spec)\n",
    "spec.loader.exec_module(misc)"
   ]
  },
  {
   "cell_type": "code",
   "execution_count": 19,
   "id": "ffa67be4-5198-43e6-9f10-57ba10bdd1bb",
   "metadata": {},
   "outputs": [],
   "source": [
    "raw_dir = 'E:/20210312_Saltstraumen/Saltbrygga-Large-1/1_Raw'\n",
    "radiance_dir = 'E:/20210312_Saltstraumen/Saltbrygga-Large-1/2a_Radiance'"
   ]
  },
  {
   "cell_type": "code",
   "execution_count": 20,
   "id": "f853965e-3a18-4603-824c-112830da4357",
   "metadata": {},
   "outputs": [
    {
     "name": "stdout",
     "output_type": "stream",
     "text": [
      "Found 44 files.\n",
      "E:/20210312_Saltstraumen/Saltbrygga-Large-1/1_Raw\\Saltstraumen_Saltbrygga_Large-10\\Saltstraumen_Saltbrygga_Large_downwelling_10_pre.spec\n",
      "E:/20210312_Saltstraumen/Saltbrygga-Large-1/1_Raw\\Saltstraumen_Saltbrygga_Large-10\\Saltstraumen_Saltbrygga_Large_downwelling_10_pre.spec.hdr\n",
      "E:/20210312_Saltstraumen/Saltbrygga-Large-1/1_Raw\\Saltstraumen_Saltbrygga_Large-11\\Saltstraumen_Saltbrygga_Large_downwelling_11_pre.spec\n",
      "E:/20210312_Saltstraumen/Saltbrygga-Large-1/1_Raw\\Saltstraumen_Saltbrygga_Large-11\\Saltstraumen_Saltbrygga_Large_downwelling_11_pre.spec.hdr\n",
      "E:/20210312_Saltstraumen/Saltbrygga-Large-1/1_Raw\\Saltstraumen_Saltbrygga_Large-12\\Saltstraumen_Saltbrygga_Large_downwelling_12_pre.spec\n",
      "E:/20210312_Saltstraumen/Saltbrygga-Large-1/1_Raw\\Saltstraumen_Saltbrygga_Large-12\\Saltstraumen_Saltbrygga_Large_downwelling_12_pre.spec.hdr\n",
      "E:/20210312_Saltstraumen/Saltbrygga-Large-1/1_Raw\\Saltstraumen_Saltbrygga_Large-13\\Saltstraumen_Saltbrygga_Large_downwelling_13_pre.spec\n",
      "E:/20210312_Saltstraumen/Saltbrygga-Large-1/1_Raw\\Saltstraumen_Saltbrygga_Large-13\\Saltstraumen_Saltbrygga_Large_downwelling_13_pre.spec.hdr\n",
      "E:/20210312_Saltstraumen/Saltbrygga-Large-1/1_Raw\\Saltstraumen_Saltbrygga_Large-14\\Saltstraumen_Saltbrygga_Large_downwelling_14_pre.spec\n",
      "E:/20210312_Saltstraumen/Saltbrygga-Large-1/1_Raw\\Saltstraumen_Saltbrygga_Large-14\\Saltstraumen_Saltbrygga_Large_downwelling_14_pre.spec.hdr\n",
      "E:/20210312_Saltstraumen/Saltbrygga-Large-1/1_Raw\\Saltstraumen_Saltbrygga_Large-15\\Saltstraumen_Saltbrygga_Large_downwelling_15_pre.spec\n",
      "E:/20210312_Saltstraumen/Saltbrygga-Large-1/1_Raw\\Saltstraumen_Saltbrygga_Large-15\\Saltstraumen_Saltbrygga_Large_downwelling_15_pre.spec.hdr\n",
      "E:/20210312_Saltstraumen/Saltbrygga-Large-1/1_Raw\\Saltstraumen_Saltbrygga_Large-16\\Saltstraumen_Saltbrygga_Large_downwelling_16_pre.spec\n",
      "E:/20210312_Saltstraumen/Saltbrygga-Large-1/1_Raw\\Saltstraumen_Saltbrygga_Large-16\\Saltstraumen_Saltbrygga_Large_downwelling_16_pre.spec.hdr\n",
      "E:/20210312_Saltstraumen/Saltbrygga-Large-1/1_Raw\\Saltstraumen_Saltbrygga_Large-17\\Saltstraumen_Saltbrygga_Large_downwelling_17_pre.spec\n",
      "E:/20210312_Saltstraumen/Saltbrygga-Large-1/1_Raw\\Saltstraumen_Saltbrygga_Large-17\\Saltstraumen_Saltbrygga_Large_downwelling_17_pre.spec.hdr\n",
      "E:/20210312_Saltstraumen/Saltbrygga-Large-1/1_Raw\\Saltstraumen_Saltbrygga_Large-18\\Saltstraumen_Saltbrygga_Large_downwelling_18_pre.spec\n",
      "E:/20210312_Saltstraumen/Saltbrygga-Large-1/1_Raw\\Saltstraumen_Saltbrygga_Large-18\\Saltstraumen_Saltbrygga_Large_downwelling_18_pre.spec.hdr\n",
      "E:/20210312_Saltstraumen/Saltbrygga-Large-1/1_Raw\\Saltstraumen_Saltbrygga_Large-19\\Saltstraumen_Saltbrygga_Large_downwelling_19_pre.spec\n",
      "E:/20210312_Saltstraumen/Saltbrygga-Large-1/1_Raw\\Saltstraumen_Saltbrygga_Large-19\\Saltstraumen_Saltbrygga_Large_downwelling_19_pre.spec.hdr\n",
      "E:/20210312_Saltstraumen/Saltbrygga-Large-1/1_Raw\\Saltstraumen_Saltbrygga_Large-1\\Saltstraumen_Saltbrygga_Large_downwelling_1_pre.spec\n",
      "E:/20210312_Saltstraumen/Saltbrygga-Large-1/1_Raw\\Saltstraumen_Saltbrygga_Large-1\\Saltstraumen_Saltbrygga_Large_downwelling_1_pre.spec.hdr\n",
      "E:/20210312_Saltstraumen/Saltbrygga-Large-1/1_Raw\\Saltstraumen_Saltbrygga_Large-20\\Saltstraumen_Saltbrygga_Large_downwelling_20_pre.spec\n",
      "E:/20210312_Saltstraumen/Saltbrygga-Large-1/1_Raw\\Saltstraumen_Saltbrygga_Large-20\\Saltstraumen_Saltbrygga_Large_downwelling_20_pre.spec.hdr\n",
      "E:/20210312_Saltstraumen/Saltbrygga-Large-1/1_Raw\\Saltstraumen_Saltbrygga_Large-21\\Saltstraumen_Saltbrygga_Large_downwelling_21_pre.spec\n",
      "E:/20210312_Saltstraumen/Saltbrygga-Large-1/1_Raw\\Saltstraumen_Saltbrygga_Large-21\\Saltstraumen_Saltbrygga_Large_downwelling_21_pre.spec.hdr\n",
      "E:/20210312_Saltstraumen/Saltbrygga-Large-1/1_Raw\\Saltstraumen_Saltbrygga_Large-22\\Saltstraumen_Saltbrygga_Large_downwelling_22_pre.spec\n",
      "E:/20210312_Saltstraumen/Saltbrygga-Large-1/1_Raw\\Saltstraumen_Saltbrygga_Large-22\\Saltstraumen_Saltbrygga_Large_downwelling_22_pre.spec.hdr\n",
      "E:/20210312_Saltstraumen/Saltbrygga-Large-1/1_Raw\\Saltstraumen_Saltbrygga_Large-2\\Saltstraumen_Saltbrygga_Large_downwelling_2_pre.spec\n",
      "E:/20210312_Saltstraumen/Saltbrygga-Large-1/1_Raw\\Saltstraumen_Saltbrygga_Large-2\\Saltstraumen_Saltbrygga_Large_downwelling_2_pre.spec.hdr\n",
      "E:/20210312_Saltstraumen/Saltbrygga-Large-1/1_Raw\\Saltstraumen_Saltbrygga_Large-3\\Saltstraumen_Saltbrygga_Large_downwelling_3_pre.spec\n",
      "E:/20210312_Saltstraumen/Saltbrygga-Large-1/1_Raw\\Saltstraumen_Saltbrygga_Large-3\\Saltstraumen_Saltbrygga_Large_downwelling_3_pre.spec.hdr\n",
      "E:/20210312_Saltstraumen/Saltbrygga-Large-1/1_Raw\\Saltstraumen_Saltbrygga_Large-4\\Saltstraumen_Saltbrygga_Large_downwelling_4_pre.spec\n",
      "E:/20210312_Saltstraumen/Saltbrygga-Large-1/1_Raw\\Saltstraumen_Saltbrygga_Large-4\\Saltstraumen_Saltbrygga_Large_downwelling_4_pre.spec.hdr\n",
      "E:/20210312_Saltstraumen/Saltbrygga-Large-1/1_Raw\\Saltstraumen_Saltbrygga_Large-5\\Saltstraumen_Saltbrygga_Large_downwelling_5_pre.spec\n",
      "E:/20210312_Saltstraumen/Saltbrygga-Large-1/1_Raw\\Saltstraumen_Saltbrygga_Large-5\\Saltstraumen_Saltbrygga_Large_downwelling_5_pre.spec.hdr\n",
      "E:/20210312_Saltstraumen/Saltbrygga-Large-1/1_Raw\\Saltstraumen_Saltbrygga_Large-6\\Saltstraumen_Saltbrygga_Large_downwelling_6_pre.spec\n",
      "E:/20210312_Saltstraumen/Saltbrygga-Large-1/1_Raw\\Saltstraumen_Saltbrygga_Large-6\\Saltstraumen_Saltbrygga_Large_downwelling_6_pre.spec.hdr\n",
      "E:/20210312_Saltstraumen/Saltbrygga-Large-1/1_Raw\\Saltstraumen_Saltbrygga_Large-7\\Saltstraumen_Saltbrygga_Large_downwelling_7_pre.spec\n",
      "E:/20210312_Saltstraumen/Saltbrygga-Large-1/1_Raw\\Saltstraumen_Saltbrygga_Large-7\\Saltstraumen_Saltbrygga_Large_downwelling_7_pre.spec.hdr\n",
      "E:/20210312_Saltstraumen/Saltbrygga-Large-1/1_Raw\\Saltstraumen_Saltbrygga_Large-8\\Saltstraumen_Saltbrygga_Large_downwelling_8_pre.spec\n",
      "E:/20210312_Saltstraumen/Saltbrygga-Large-1/1_Raw\\Saltstraumen_Saltbrygga_Large-8\\Saltstraumen_Saltbrygga_Large_downwelling_8_pre.spec.hdr\n",
      "E:/20210312_Saltstraumen/Saltbrygga-Large-1/1_Raw\\Saltstraumen_Saltbrygga_Large-9\\Saltstraumen_Saltbrygga_Large_downwelling_9_pre.spec\n",
      "E:/20210312_Saltstraumen/Saltbrygga-Large-1/1_Raw\\Saltstraumen_Saltbrygga_Large-9\\Saltstraumen_Saltbrygga_Large_downwelling_9_pre.spec.hdr\n"
     ]
    }
   ],
   "source": [
    "# Find all \"downwelling\" files (*.spec and *.spec.hdr) in raw folder\n",
    "dw_files = misc.file_pattern_search(root_dir=raw_dir, file_pattern='*downwelling*',recursive=True)\n",
    "print('Found ' + str(len(dw_files)) + ' files.')\n",
    "for file in dw_files:\n",
    "    print(file)"
   ]
  },
  {
   "cell_type": "code",
   "execution_count": 21,
   "id": "3cc7f7fc-a799-4b06-a694-61e0c13cd5c8",
   "metadata": {},
   "outputs": [],
   "source": [
    "# Copy files to radiance folder\n",
    "for file in dw_files:\n",
    "    shutil.copy(file,radiance_dir)"
   ]
  },
  {
   "cell_type": "code",
   "execution_count": 22,
   "id": "a94ab77e-0752-4fc4-a8cd-9d4d2d13f888",
   "metadata": {},
   "outputs": [],
   "source": [
    "raw_dir = 'E:/20210312_Saltstraumen/Saltbrygga-Large-2/1_Raw'\n",
    "radiance_dir = 'E:/20210312_Saltstraumen/Saltbrygga-Large-2/2a_Radiance'"
   ]
  },
  {
   "cell_type": "code",
   "execution_count": 23,
   "id": "8fe0c0c0-e4d2-482d-982b-42e77f9925da",
   "metadata": {},
   "outputs": [
    {
     "name": "stdout",
     "output_type": "stream",
     "text": [
      "Found 54 files.\n",
      "E:/20210312_Saltstraumen/Saltbrygga-Large-2/1_Raw\\Saltstraumen_Saltbrygga_Large-23\\Saltstraumen_Saltbrygga_Large_downwelling_23_pre.spec\n",
      "E:/20210312_Saltstraumen/Saltbrygga-Large-2/1_Raw\\Saltstraumen_Saltbrygga_Large-23\\Saltstraumen_Saltbrygga_Large_downwelling_23_pre.spec.hdr\n",
      "E:/20210312_Saltstraumen/Saltbrygga-Large-2/1_Raw\\Saltstraumen_Saltbrygga_Large-24\\Saltstraumen_Saltbrygga_Large_downwelling_24_pre.spec\n",
      "E:/20210312_Saltstraumen/Saltbrygga-Large-2/1_Raw\\Saltstraumen_Saltbrygga_Large-24\\Saltstraumen_Saltbrygga_Large_downwelling_24_pre.spec.hdr\n",
      "E:/20210312_Saltstraumen/Saltbrygga-Large-2/1_Raw\\Saltstraumen_Saltbrygga_Large-25\\Saltstraumen_Saltbrygga_Large_downwelling_25_pre.spec\n",
      "E:/20210312_Saltstraumen/Saltbrygga-Large-2/1_Raw\\Saltstraumen_Saltbrygga_Large-25\\Saltstraumen_Saltbrygga_Large_downwelling_25_pre.spec.hdr\n",
      "E:/20210312_Saltstraumen/Saltbrygga-Large-2/1_Raw\\Saltstraumen_Saltbrygga_Large-26\\Saltstraumen_Saltbrygga_Large_downwelling_26_pre.spec\n",
      "E:/20210312_Saltstraumen/Saltbrygga-Large-2/1_Raw\\Saltstraumen_Saltbrygga_Large-26\\Saltstraumen_Saltbrygga_Large_downwelling_26_pre.spec.hdr\n",
      "E:/20210312_Saltstraumen/Saltbrygga-Large-2/1_Raw\\Saltstraumen_Saltbrygga_Large-27\\Saltstraumen_Saltbrygga_Large_downwelling_27_pre.spec\n",
      "E:/20210312_Saltstraumen/Saltbrygga-Large-2/1_Raw\\Saltstraumen_Saltbrygga_Large-27\\Saltstraumen_Saltbrygga_Large_downwelling_27_pre.spec.hdr\n",
      "E:/20210312_Saltstraumen/Saltbrygga-Large-2/1_Raw\\Saltstraumen_Saltbrygga_Large-28\\Saltstraumen_Saltbrygga_Large_downwelling_28_pre.spec\n",
      "E:/20210312_Saltstraumen/Saltbrygga-Large-2/1_Raw\\Saltstraumen_Saltbrygga_Large-28\\Saltstraumen_Saltbrygga_Large_downwelling_28_pre.spec.hdr\n",
      "E:/20210312_Saltstraumen/Saltbrygga-Large-2/1_Raw\\Saltstraumen_Saltbrygga_Large-29\\Saltstraumen_Saltbrygga_Large_downwelling_29_pre.spec\n",
      "E:/20210312_Saltstraumen/Saltbrygga-Large-2/1_Raw\\Saltstraumen_Saltbrygga_Large-29\\Saltstraumen_Saltbrygga_Large_downwelling_29_pre.spec.hdr\n",
      "E:/20210312_Saltstraumen/Saltbrygga-Large-2/1_Raw\\Saltstraumen_Saltbrygga_Large-30\\Saltstraumen_Saltbrygga_Large_downwelling_30_pre.spec\n",
      "E:/20210312_Saltstraumen/Saltbrygga-Large-2/1_Raw\\Saltstraumen_Saltbrygga_Large-30\\Saltstraumen_Saltbrygga_Large_downwelling_30_pre.spec.hdr\n",
      "E:/20210312_Saltstraumen/Saltbrygga-Large-2/1_Raw\\Saltstraumen_Saltbrygga_Large-31\\Saltstraumen_Saltbrygga_Large_downwelling_31_pre.spec\n",
      "E:/20210312_Saltstraumen/Saltbrygga-Large-2/1_Raw\\Saltstraumen_Saltbrygga_Large-31\\Saltstraumen_Saltbrygga_Large_downwelling_31_pre.spec.hdr\n",
      "E:/20210312_Saltstraumen/Saltbrygga-Large-2/1_Raw\\Saltstraumen_Saltbrygga_Large-32\\Saltstraumen_Saltbrygga_Large_downwelling_32_pre.spec\n",
      "E:/20210312_Saltstraumen/Saltbrygga-Large-2/1_Raw\\Saltstraumen_Saltbrygga_Large-32\\Saltstraumen_Saltbrygga_Large_downwelling_32_pre.spec.hdr\n",
      "E:/20210312_Saltstraumen/Saltbrygga-Large-2/1_Raw\\Saltstraumen_Saltbrygga_Large-33\\Saltstraumen_Saltbrygga_Large_downwelling_33_pre.spec\n",
      "E:/20210312_Saltstraumen/Saltbrygga-Large-2/1_Raw\\Saltstraumen_Saltbrygga_Large-33\\Saltstraumen_Saltbrygga_Large_downwelling_33_pre.spec.hdr\n",
      "E:/20210312_Saltstraumen/Saltbrygga-Large-2/1_Raw\\Saltstraumen_Saltbrygga_Large-34\\Saltstraumen_Saltbrygga_Large_downwelling_34_pre.spec\n",
      "E:/20210312_Saltstraumen/Saltbrygga-Large-2/1_Raw\\Saltstraumen_Saltbrygga_Large-34\\Saltstraumen_Saltbrygga_Large_downwelling_34_pre.spec.hdr\n",
      "E:/20210312_Saltstraumen/Saltbrygga-Large-2/1_Raw\\Saltstraumen_Saltbrygga_Large-35\\Saltstraumen_Saltbrygga_Large_downwelling_35_pre.spec\n",
      "E:/20210312_Saltstraumen/Saltbrygga-Large-2/1_Raw\\Saltstraumen_Saltbrygga_Large-35\\Saltstraumen_Saltbrygga_Large_downwelling_35_pre.spec.hdr\n",
      "E:/20210312_Saltstraumen/Saltbrygga-Large-2/1_Raw\\Saltstraumen_Saltbrygga_Large-36\\Saltstraumen_Saltbrygga_Large_downwelling_36_pre.spec\n",
      "E:/20210312_Saltstraumen/Saltbrygga-Large-2/1_Raw\\Saltstraumen_Saltbrygga_Large-36\\Saltstraumen_Saltbrygga_Large_downwelling_36_pre.spec.hdr\n",
      "E:/20210312_Saltstraumen/Saltbrygga-Large-2/1_Raw\\Saltstraumen_Saltbrygga_Large-37\\Saltstraumen_Saltbrygga_Large_downwelling_37_pre.spec\n",
      "E:/20210312_Saltstraumen/Saltbrygga-Large-2/1_Raw\\Saltstraumen_Saltbrygga_Large-37\\Saltstraumen_Saltbrygga_Large_downwelling_37_pre.spec.hdr\n",
      "E:/20210312_Saltstraumen/Saltbrygga-Large-2/1_Raw\\Saltstraumen_Saltbrygga_Large-38\\Saltstraumen_Saltbrygga_Large_downwelling_38_pre.spec\n",
      "E:/20210312_Saltstraumen/Saltbrygga-Large-2/1_Raw\\Saltstraumen_Saltbrygga_Large-38\\Saltstraumen_Saltbrygga_Large_downwelling_38_pre.spec.hdr\n",
      "E:/20210312_Saltstraumen/Saltbrygga-Large-2/1_Raw\\Saltstraumen_Saltbrygga_Large-39\\Saltstraumen_Saltbrygga_Large_downwelling_39_pre.spec\n",
      "E:/20210312_Saltstraumen/Saltbrygga-Large-2/1_Raw\\Saltstraumen_Saltbrygga_Large-39\\Saltstraumen_Saltbrygga_Large_downwelling_39_pre.spec.hdr\n",
      "E:/20210312_Saltstraumen/Saltbrygga-Large-2/1_Raw\\Saltstraumen_Saltbrygga_Large-40\\Saltstraumen_Saltbrygga_Large_downwelling_40_pre.spec\n",
      "E:/20210312_Saltstraumen/Saltbrygga-Large-2/1_Raw\\Saltstraumen_Saltbrygga_Large-40\\Saltstraumen_Saltbrygga_Large_downwelling_40_pre.spec.hdr\n",
      "E:/20210312_Saltstraumen/Saltbrygga-Large-2/1_Raw\\Saltstraumen_Saltbrygga_Large-41\\Saltstraumen_Saltbrygga_Large_downwelling_41_pre.spec\n",
      "E:/20210312_Saltstraumen/Saltbrygga-Large-2/1_Raw\\Saltstraumen_Saltbrygga_Large-41\\Saltstraumen_Saltbrygga_Large_downwelling_41_pre.spec.hdr\n",
      "E:/20210312_Saltstraumen/Saltbrygga-Large-2/1_Raw\\Saltstraumen_Saltbrygga_Large-42\\Saltstraumen_Saltbrygga_Large_downwelling_42_pre.spec\n",
      "E:/20210312_Saltstraumen/Saltbrygga-Large-2/1_Raw\\Saltstraumen_Saltbrygga_Large-42\\Saltstraumen_Saltbrygga_Large_downwelling_42_pre.spec.hdr\n",
      "E:/20210312_Saltstraumen/Saltbrygga-Large-2/1_Raw\\Saltstraumen_Saltbrygga_Large-43\\Saltstraumen_Saltbrygga_Large_downwelling_43_pre.spec\n",
      "E:/20210312_Saltstraumen/Saltbrygga-Large-2/1_Raw\\Saltstraumen_Saltbrygga_Large-43\\Saltstraumen_Saltbrygga_Large_downwelling_43_pre.spec.hdr\n",
      "E:/20210312_Saltstraumen/Saltbrygga-Large-2/1_Raw\\Saltstraumen_Saltbrygga_Large-44\\Saltstraumen_Saltbrygga_Large_downwelling_44_pre.spec\n",
      "E:/20210312_Saltstraumen/Saltbrygga-Large-2/1_Raw\\Saltstraumen_Saltbrygga_Large-44\\Saltstraumen_Saltbrygga_Large_downwelling_44_pre.spec.hdr\n",
      "E:/20210312_Saltstraumen/Saltbrygga-Large-2/1_Raw\\Saltstraumen_Saltbrygga_Large-45\\Saltstraumen_Saltbrygga_Large_downwelling_45_pre.spec\n",
      "E:/20210312_Saltstraumen/Saltbrygga-Large-2/1_Raw\\Saltstraumen_Saltbrygga_Large-45\\Saltstraumen_Saltbrygga_Large_downwelling_45_pre.spec.hdr\n",
      "E:/20210312_Saltstraumen/Saltbrygga-Large-2/1_Raw\\Saltstraumen_Saltbrygga_Large-46\\Saltstraumen_Saltbrygga_Large_downwelling_46_pre.spec\n",
      "E:/20210312_Saltstraumen/Saltbrygga-Large-2/1_Raw\\Saltstraumen_Saltbrygga_Large-46\\Saltstraumen_Saltbrygga_Large_downwelling_46_pre.spec.hdr\n",
      "E:/20210312_Saltstraumen/Saltbrygga-Large-2/1_Raw\\Saltstraumen_Saltbrygga_Large-47\\Saltstraumen_Saltbrygga_Large_downwelling_47_pre.spec\n",
      "E:/20210312_Saltstraumen/Saltbrygga-Large-2/1_Raw\\Saltstraumen_Saltbrygga_Large-47\\Saltstraumen_Saltbrygga_Large_downwelling_47_pre.spec.hdr\n",
      "E:/20210312_Saltstraumen/Saltbrygga-Large-2/1_Raw\\Saltstraumen_Saltbrygga_Large-48\\Saltstraumen_Saltbrygga_Large_downwelling_48_pre.spec\n",
      "E:/20210312_Saltstraumen/Saltbrygga-Large-2/1_Raw\\Saltstraumen_Saltbrygga_Large-48\\Saltstraumen_Saltbrygga_Large_downwelling_48_pre.spec.hdr\n",
      "E:/20210312_Saltstraumen/Saltbrygga-Large-2/1_Raw\\Saltstraumen_Saltbrygga_Large-49\\Saltstraumen_Saltbrygga_Large_downwelling_49_pre.spec\n",
      "E:/20210312_Saltstraumen/Saltbrygga-Large-2/1_Raw\\Saltstraumen_Saltbrygga_Large-49\\Saltstraumen_Saltbrygga_Large_downwelling_49_pre.spec.hdr\n"
     ]
    }
   ],
   "source": [
    "# Find all \"downwelling\" files (*.spec and *.spec.hdr) in raw folder\n",
    "dw_files = misc.file_pattern_search(root_dir=raw_dir, file_pattern='*downwelling*',recursive=True)\n",
    "print('Found ' + str(len(dw_files)) + ' files.')\n",
    "for file in dw_files:\n",
    "    print(file)"
   ]
  },
  {
   "cell_type": "code",
   "execution_count": 25,
   "id": "63d17162-ae7d-402d-8714-14d4ea4cd79b",
   "metadata": {},
   "outputs": [],
   "source": [
    "# Copy files to radiance folder\n",
    "for file in dw_files:\n",
    "    shutil.copy(file,radiance_dir)"
   ]
  },
  {
   "cell_type": "code",
   "execution_count": 26,
   "id": "c58f0b03-87b4-4c40-8268-2bac7cb9fb50",
   "metadata": {},
   "outputs": [],
   "source": [
    "raw_dir = 'E:/20210312_Saltstraumen/Saltbrygga-Small/1_Raw'\n",
    "radiance_dir = 'E:/20210312_Saltstraumen/Saltbrygga-Small/2a_Radiance'"
   ]
  },
  {
   "cell_type": "code",
   "execution_count": 27,
   "id": "be4785b0-c7c8-4a8e-af64-b7509b451e99",
   "metadata": {},
   "outputs": [
    {
     "name": "stdout",
     "output_type": "stream",
     "text": [
      "Found 44 files.\n",
      "E:/20210312_Saltstraumen/Saltbrygga-Small/1_Raw\\Saltstraumen_Saltbrygga_Small-10\\Saltstraumen_Saltbrygga_Small_downwelling_10_pre.spec\n",
      "E:/20210312_Saltstraumen/Saltbrygga-Small/1_Raw\\Saltstraumen_Saltbrygga_Small-10\\Saltstraumen_Saltbrygga_Small_downwelling_10_pre.spec.hdr\n",
      "E:/20210312_Saltstraumen/Saltbrygga-Small/1_Raw\\Saltstraumen_Saltbrygga_Small-11\\Saltstraumen_Saltbrygga_Small_downwelling_11_pre.spec\n",
      "E:/20210312_Saltstraumen/Saltbrygga-Small/1_Raw\\Saltstraumen_Saltbrygga_Small-11\\Saltstraumen_Saltbrygga_Small_downwelling_11_pre.spec.hdr\n",
      "E:/20210312_Saltstraumen/Saltbrygga-Small/1_Raw\\Saltstraumen_Saltbrygga_Small-12\\Saltstraumen_Saltbrygga_Small_downwelling_12_pre.spec\n",
      "E:/20210312_Saltstraumen/Saltbrygga-Small/1_Raw\\Saltstraumen_Saltbrygga_Small-12\\Saltstraumen_Saltbrygga_Small_downwelling_12_pre.spec.hdr\n",
      "E:/20210312_Saltstraumen/Saltbrygga-Small/1_Raw\\Saltstraumen_Saltbrygga_Small-13\\Saltstraumen_Saltbrygga_Small_downwelling_13_pre.spec\n",
      "E:/20210312_Saltstraumen/Saltbrygga-Small/1_Raw\\Saltstraumen_Saltbrygga_Small-13\\Saltstraumen_Saltbrygga_Small_downwelling_13_pre.spec.hdr\n",
      "E:/20210312_Saltstraumen/Saltbrygga-Small/1_Raw\\Saltstraumen_Saltbrygga_Small-14\\Saltstraumen_Saltbrygga_Small_downwelling_14_pre.spec\n",
      "E:/20210312_Saltstraumen/Saltbrygga-Small/1_Raw\\Saltstraumen_Saltbrygga_Small-14\\Saltstraumen_Saltbrygga_Small_downwelling_14_pre.spec.hdr\n",
      "E:/20210312_Saltstraumen/Saltbrygga-Small/1_Raw\\Saltstraumen_Saltbrygga_Small-15\\Saltstraumen_Saltbrygga_Small_downwelling_15_pre.spec\n",
      "E:/20210312_Saltstraumen/Saltbrygga-Small/1_Raw\\Saltstraumen_Saltbrygga_Small-15\\Saltstraumen_Saltbrygga_Small_downwelling_15_pre.spec.hdr\n",
      "E:/20210312_Saltstraumen/Saltbrygga-Small/1_Raw\\Saltstraumen_Saltbrygga_Small-16\\Saltstraumen_Saltbrygga_Small_downwelling_16_pre.spec\n",
      "E:/20210312_Saltstraumen/Saltbrygga-Small/1_Raw\\Saltstraumen_Saltbrygga_Small-16\\Saltstraumen_Saltbrygga_Small_downwelling_16_pre.spec.hdr\n",
      "E:/20210312_Saltstraumen/Saltbrygga-Small/1_Raw\\Saltstraumen_Saltbrygga_Small-17\\Saltstraumen_Saltbrygga_Small_downwelling_17_pre.spec\n",
      "E:/20210312_Saltstraumen/Saltbrygga-Small/1_Raw\\Saltstraumen_Saltbrygga_Small-17\\Saltstraumen_Saltbrygga_Small_downwelling_17_pre.spec.hdr\n",
      "E:/20210312_Saltstraumen/Saltbrygga-Small/1_Raw\\Saltstraumen_Saltbrygga_Small-18\\Saltstraumen_Saltbrygga_Small_downwelling_18_pre.spec\n",
      "E:/20210312_Saltstraumen/Saltbrygga-Small/1_Raw\\Saltstraumen_Saltbrygga_Small-18\\Saltstraumen_Saltbrygga_Small_downwelling_18_pre.spec.hdr\n",
      "E:/20210312_Saltstraumen/Saltbrygga-Small/1_Raw\\Saltstraumen_Saltbrygga_Small-19\\Saltstraumen_Saltbrygga_Small_downwelling_19_pre.spec\n",
      "E:/20210312_Saltstraumen/Saltbrygga-Small/1_Raw\\Saltstraumen_Saltbrygga_Small-19\\Saltstraumen_Saltbrygga_Small_downwelling_19_pre.spec.hdr\n",
      "E:/20210312_Saltstraumen/Saltbrygga-Small/1_Raw\\Saltstraumen_Saltbrygga_Small-1\\Saltstraumen_Saltbrygga_Small_downwelling_1_pre.spec\n",
      "E:/20210312_Saltstraumen/Saltbrygga-Small/1_Raw\\Saltstraumen_Saltbrygga_Small-1\\Saltstraumen_Saltbrygga_Small_downwelling_1_pre.spec.hdr\n",
      "E:/20210312_Saltstraumen/Saltbrygga-Small/1_Raw\\Saltstraumen_Saltbrygga_Small-20\\Saltstraumen_Saltbrygga_Small_downwelling_20_pre.spec\n",
      "E:/20210312_Saltstraumen/Saltbrygga-Small/1_Raw\\Saltstraumen_Saltbrygga_Small-20\\Saltstraumen_Saltbrygga_Small_downwelling_20_pre.spec.hdr\n",
      "E:/20210312_Saltstraumen/Saltbrygga-Small/1_Raw\\Saltstraumen_Saltbrygga_Small-21\\Saltstraumen_Saltbrygga_Small_downwelling_21_pre.spec\n",
      "E:/20210312_Saltstraumen/Saltbrygga-Small/1_Raw\\Saltstraumen_Saltbrygga_Small-21\\Saltstraumen_Saltbrygga_Small_downwelling_21_pre.spec.hdr\n",
      "E:/20210312_Saltstraumen/Saltbrygga-Small/1_Raw\\Saltstraumen_Saltbrygga_Small-22\\Saltstraumen_Saltbrygga_Small_downwelling_22_pre.spec\n",
      "E:/20210312_Saltstraumen/Saltbrygga-Small/1_Raw\\Saltstraumen_Saltbrygga_Small-22\\Saltstraumen_Saltbrygga_Small_downwelling_22_pre.spec.hdr\n",
      "E:/20210312_Saltstraumen/Saltbrygga-Small/1_Raw\\Saltstraumen_Saltbrygga_Small-2\\Saltstraumen_Saltbrygga_Small_downwelling_2_pre.spec\n",
      "E:/20210312_Saltstraumen/Saltbrygga-Small/1_Raw\\Saltstraumen_Saltbrygga_Small-2\\Saltstraumen_Saltbrygga_Small_downwelling_2_pre.spec.hdr\n",
      "E:/20210312_Saltstraumen/Saltbrygga-Small/1_Raw\\Saltstraumen_Saltbrygga_Small-3\\Saltstraumen_Saltbrygga_Small_downwelling_3_pre.spec\n",
      "E:/20210312_Saltstraumen/Saltbrygga-Small/1_Raw\\Saltstraumen_Saltbrygga_Small-3\\Saltstraumen_Saltbrygga_Small_downwelling_3_pre.spec.hdr\n",
      "E:/20210312_Saltstraumen/Saltbrygga-Small/1_Raw\\Saltstraumen_Saltbrygga_Small-4\\Saltstraumen_Saltbrygga_Small_downwelling_4_pre.spec\n",
      "E:/20210312_Saltstraumen/Saltbrygga-Small/1_Raw\\Saltstraumen_Saltbrygga_Small-4\\Saltstraumen_Saltbrygga_Small_downwelling_4_pre.spec.hdr\n",
      "E:/20210312_Saltstraumen/Saltbrygga-Small/1_Raw\\Saltstraumen_Saltbrygga_Small-5\\Saltstraumen_Saltbrygga_Small_downwelling_5_pre.spec\n",
      "E:/20210312_Saltstraumen/Saltbrygga-Small/1_Raw\\Saltstraumen_Saltbrygga_Small-5\\Saltstraumen_Saltbrygga_Small_downwelling_5_pre.spec.hdr\n",
      "E:/20210312_Saltstraumen/Saltbrygga-Small/1_Raw\\Saltstraumen_Saltbrygga_Small-6\\Saltstraumen_Saltbrygga_Small_downwelling_6_pre.spec\n",
      "E:/20210312_Saltstraumen/Saltbrygga-Small/1_Raw\\Saltstraumen_Saltbrygga_Small-6\\Saltstraumen_Saltbrygga_Small_downwelling_6_pre.spec.hdr\n",
      "E:/20210312_Saltstraumen/Saltbrygga-Small/1_Raw\\Saltstraumen_Saltbrygga_Small-7\\Saltstraumen_Saltbrygga_Small_downwelling_7_pre.spec\n",
      "E:/20210312_Saltstraumen/Saltbrygga-Small/1_Raw\\Saltstraumen_Saltbrygga_Small-7\\Saltstraumen_Saltbrygga_Small_downwelling_7_pre.spec.hdr\n",
      "E:/20210312_Saltstraumen/Saltbrygga-Small/1_Raw\\Saltstraumen_Saltbrygga_Small-8\\Saltstraumen_Saltbrygga_Small_downwelling_8_pre.spec\n",
      "E:/20210312_Saltstraumen/Saltbrygga-Small/1_Raw\\Saltstraumen_Saltbrygga_Small-8\\Saltstraumen_Saltbrygga_Small_downwelling_8_pre.spec.hdr\n",
      "E:/20210312_Saltstraumen/Saltbrygga-Small/1_Raw\\Saltstraumen_Saltbrygga_Small-9\\Saltstraumen_Saltbrygga_Small_downwelling_9_pre.spec\n",
      "E:/20210312_Saltstraumen/Saltbrygga-Small/1_Raw\\Saltstraumen_Saltbrygga_Small-9\\Saltstraumen_Saltbrygga_Small_downwelling_9_pre.spec.hdr\n"
     ]
    }
   ],
   "source": [
    "# Find all \"downwelling\" files (*.spec and *.spec.hdr) in raw folder\n",
    "dw_files = misc.file_pattern_search(root_dir=raw_dir, file_pattern='*downwelling*',recursive=True)\n",
    "print('Found ' + str(len(dw_files)) + ' files.')\n",
    "for file in dw_files:\n",
    "    print(file)"
   ]
  },
  {
   "cell_type": "code",
   "execution_count": 28,
   "id": "e2a61b2f-a517-4564-823b-8e9526b6160b",
   "metadata": {},
   "outputs": [],
   "source": [
    "# Copy files to radiance folder\n",
    "for file in dw_files:\n",
    "    shutil.copy(file,radiance_dir)"
   ]
  }
 ],
 "metadata": {
  "kernelspec": {
   "display_name": "Python 3 (ipykernel)",
   "language": "python",
   "name": "python3"
  },
  "language_info": {
   "codemirror_mode": {
    "name": "ipython",
    "version": 3
   },
   "file_extension": ".py",
   "mimetype": "text/x-python",
   "name": "python",
   "nbconvert_exporter": "python",
   "pygments_lexer": "ipython3",
   "version": "3.9.7"
  }
 },
 "nbformat": 4,
 "nbformat_minor": 5
}
