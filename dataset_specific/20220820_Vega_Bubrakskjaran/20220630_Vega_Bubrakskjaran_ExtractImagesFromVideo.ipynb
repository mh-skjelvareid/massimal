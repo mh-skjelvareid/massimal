{
 "cells": [
  {
   "cell_type": "code",
   "execution_count": 1,
   "id": "b226b406",
   "metadata": {},
   "outputs": [],
   "source": [
    "# Imports\n",
    "from pathlib import Path\n",
    "import video_transect, misc"
   ]
  },
  {
   "cell_type": "code",
   "execution_count": 2,
   "id": "aad76242",
   "metadata": {},
   "outputs": [],
   "source": [
    "# Paths\n",
    "main_dir = '/mnt/datadisk/Massimal/Vega/GoPro/20220820_Sola_Bubrakskjaran/'\n",
    "trans_dirs = misc.file_pattern_search(main_dir,'Transect*')"
   ]
  },
  {
   "cell_type": "code",
   "execution_count": 5,
   "id": "fc16fdbe",
   "metadata": {},
   "outputs": [
    {
     "name": "stdout",
     "output_type": "stream",
     "text": [
      "Processing folder Transect1\n",
      "CSV file: 2022-08-20_122938_MassimalKelp.csv\n",
      "Read 250 positions from CSV file.\n",
      "Found 5 video files.\n",
      "Extracting images...\n"
     ]
    },
    {
     "name": "stderr",
     "output_type": "stream",
     "text": [
      "100%|█████████████████████████████████████████| 243/243 [03:29<00:00,  1.16it/s]\n"
     ]
    },
    {
     "name": "stdout",
     "output_type": "stream",
     "text": [
      "Saving geodataframe to file.\n",
      "----\n",
      "Processing folder Transect2\n",
      "CSV file: 2022-08-20_131508_MassimalKelp_2.csv\n",
      "Read 154 positions from CSV file.\n",
      "Found 3 video files.\n",
      "Extracting images...\n"
     ]
    },
    {
     "name": "stderr",
     "output_type": "stream",
     "text": [
      "100%|█████████████████████████████████████████| 145/145 [01:58<00:00,  1.22it/s]"
     ]
    },
    {
     "name": "stdout",
     "output_type": "stream",
     "text": [
      "Saving geodataframe to file.\n",
      "----\n"
     ]
    },
    {
     "name": "stderr",
     "output_type": "stream",
     "text": [
      "\n"
     ]
    }
   ],
   "source": [
    "# Loop over each transect \n",
    "for trans_dir in trans_dirs:\n",
    "    print('Processing folder ' + Path(trans_dir).name)\n",
    "    \n",
    "    csv_file = misc.file_pattern_search(trans_dir,'*.csv')[0]\n",
    "    print('CSV file: ' + Path(csv_file).name)\n",
    "    \n",
    "    video_dir = Path(trans_dir,'Video')\n",
    "    image_dir = Path(trans_dir, 'Images')\n",
    "    gpk_file = Path(trans_dir, Path(trans_dir).name + '_GeotaggedImages.gpkg')\n",
    "    \n",
    "    # Read file, get geodataframe\n",
    "    gdf = video_transect.track_csv_to_geodataframe(str(csv_file))\n",
    "    print('Read ' + str(gdf.shape[0]) + ' positions from CSV file.')\n",
    "    \n",
    "    # Get video info\n",
    "    video_data = video_transect.get_video_data(str(video_dir))\n",
    "    print('Found ' + str(video_data.shape[0]) + ' video files.')\n",
    "    \n",
    "    # Prepare gdf for extraction of images\n",
    "    gdf = video_transect.prepare_gdf_with_video_data(gdf,video_data)\n",
    "        \n",
    "    # Extract images\n",
    "    print('Extracting images...')\n",
    "    gdf = video_transect.extract_images_from_video(gdf,image_dir)\n",
    "    \n",
    "    # Save gdf as geopackage\n",
    "    print('Saving geodataframe to file.')\n",
    "    gdf.to_file(gpk_file, driver=\"GPKG\")\n",
    "    print('----')"
   ]
  }
 ],
 "metadata": {
  "kernelspec": {
   "display_name": "Python 3 (ipykernel)",
   "language": "python",
   "name": "python3"
  },
  "language_info": {
   "codemirror_mode": {
    "name": "ipython",
    "version": 3
   },
   "file_extension": ".py",
   "mimetype": "text/x-python",
   "name": "python",
   "nbconvert_exporter": "python",
   "pygments_lexer": "ipython3",
   "version": "3.9.12"
  }
 },
 "nbformat": 4,
 "nbformat_minor": 5
}
