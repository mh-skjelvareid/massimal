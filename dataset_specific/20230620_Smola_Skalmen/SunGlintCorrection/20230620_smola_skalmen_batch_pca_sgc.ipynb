{
 "cells": [
  {
   "cell_type": "code",
   "execution_count": 3,
   "metadata": {},
   "outputs": [],
   "source": [
    "#%% Imports\n",
    "from pathlib import Path\n",
    "import numpy as np\n",
    "\n",
    "# Import \"local\" packages\n",
    "import hyspec_io, hyspec_ml"
   ]
  },
  {
   "cell_type": "code",
   "execution_count": 4,
   "metadata": {},
   "outputs": [],
   "source": [
    "# Define / create paths\n",
    "image_base_dir = Path('/media/mha114/Massimal2/Massimal/Smola_Skalmen/Hyperspectral/20230620/2a_Rrs')\n",
    "\n",
    "image_output_dir = image_base_dir.parent / '3a_Rrs_SGC'\n",
    "pca_output_dir = image_output_dir / 'PCA_SGC_Models'\n",
    "image_output_dir.mkdir(exist_ok=True)\n",
    "pca_output_dir.mkdir(exist_ok=True)"
   ]
  },
  {
   "cell_type": "code",
   "execution_count": 5,
   "metadata": {},
   "outputs": [],
   "source": [
    "# Define image groups (images taken during same flight are in same group)\n",
    "filename_bases = ('manual_Pika_L_',) + ('Skardskjaringen_Pika_L_',)*4 + ('SkardskjaringenSor_Pika_L_',)*2\n",
    "file_number_ranges = ((25,29),(2,25),(26,54),(55,82),(83,98),(1,23),(24,41))\n",
    "filename_endings = ('-Crop Wavelengths.bip.hdr',)*7\n",
    "sgc_training_file_numbers = ((25,28),(6,10,19),(32,41,48),(55,62,68,75,81),(85,88,93),(2,8,18,19,23),(29,34,38))"
   ]
  },
  {
   "cell_type": "code",
   "execution_count": 10,
   "metadata": {},
   "outputs": [],
   "source": [
    "# Loop over all image groups, and images within each group\n",
    "for filename_base, file_number_range, filename_end, train_file_nums in zip(\n",
    "    filename_bases, file_number_ranges, filename_endings, sgc_training_file_numbers):\n",
    "\n",
    "    # Define file names\n",
    "    image_file_names = [filename_base + str(i) + filename_end for i in range(file_number_range[0],file_number_range[1]+1)]\n",
    "    image_file_paths = [image_base_dir / im_file for im_file in image_file_names]\n",
    "    training_files = [filename_base + str(i) + filename_end for i in train_file_nums]\n",
    "    training_file_paths = [image_base_dir / im_file for im_file in training_files]\n",
    "    \n",
    "    # Validate that training images are among images in group\n",
    "    if not all([tfp in image_file_paths for tfp in training_file_paths]):\n",
    "        print('WARNING: Training file paths not among image files in group! Continuing to next group...')\n",
    "        continue\n",
    "\n",
    "    # Validate that images exist\n",
    "    if not all([ifp.exists() for ifp in image_file_paths]):\n",
    "        print('WARNING: Image file paths not valid! Continuing to next group...')\n",
    "        continue\n",
    "\n",
    "    # Train PCA model\n",
    "    W_pca, X_mean = hyspec_ml.train_image_pca(image_paths=training_file_paths,random_sample_frac=0.1,\n",
    "                                              verbose=True,normalize=False)\n",
    "\n",
    "    # Save PCA model\n",
    "    pca_file_name = f'{filename_base}PCA-SGC_{file_number_range[0]:02d}-{file_number_range[1]:02d}.npz'\n",
    "    pca_file_path = pca_output_dir / pca_file_name\n",
    "    np.savez(pca_file_path,\n",
    "        W_pca = W_pca,\n",
    "        X_mean = X_mean)\n",
    "    \n",
    "    # Apply PCA-SGC to all images and save corrected images:\n",
    "    for i,image_file_path in enumerate(image_file_paths):\n",
    "        print(f'Processing file {image_file_path.name}, number {i+1} of {len(image_file_paths)} in group')\n",
    "        (image,wl,rgb_ind,metadata) = hyspec_io.load_envi_image(image_file_path)\n",
    "        image_noglint = hyspec_ml.remove_sun_glint_pca(image,W_pca,X_mean)\n",
    "\n",
    "        sgc_file_base, sgc_file_ext = image_file_path.name.split('.',maxsplit=1)\n",
    "        hyspec_ml.save_pca_scg_image_envi(image_noglint,metadata,image_output_dir,\n",
    "                                          sgc_file_base,header_file_ext=sgc_file_ext)"
   ]
  }
 ],
 "metadata": {
  "kernelspec": {
   "display_name": "massimal",
   "language": "python",
   "name": "python3"
  },
  "language_info": {
   "codemirror_mode": {
    "name": "ipython",
    "version": 3
   },
   "file_extension": ".py",
   "mimetype": "text/x-python",
   "name": "python",
   "nbconvert_exporter": "python",
   "pygments_lexer": "ipython3",
   "version": "3.11.7"
  }
 },
 "nbformat": 4,
 "nbformat_minor": 2
}
