{
 "cells": [
  {
   "cell_type": "code",
   "execution_count": 1,
   "metadata": {},
   "outputs": [],
   "source": [
    "from pathlib import Path\n",
    "from zipfile import ZipFile\n",
    "import tqdm"
   ]
  },
  {
   "cell_type": "code",
   "execution_count": 2,
   "metadata": {},
   "outputs": [],
   "source": [
    "im_dirs = [Path('/media/mha114/Massimal/Smola_Skalmen/OtterTransects/20230620/Images'),\n",
    "           Path('/media/mha114/Massimal/Smola_Maholmen/OtterTransects/20230619/Images')]"
   ]
  },
  {
   "cell_type": "code",
   "execution_count": 3,
   "metadata": {},
   "outputs": [
    {
     "name": "stdout",
     "output_type": "stream",
     "text": [
      "Processing /media/mha114/Massimal/Smola_Skalmen/OtterTransects/20230620/Images containing 44 zip files\n"
     ]
    },
    {
     "name": "stderr",
     "output_type": "stream",
     "text": [
      "  7%|▋         | 3/44 [27:33<6:16:41, 551.25s/it]\n"
     ]
    },
    {
     "ename": "KeyboardInterrupt",
     "evalue": "",
     "output_type": "error",
     "traceback": [
      "\u001b[0;31m---------------------------------------------------------------------------\u001b[0m",
      "\u001b[0;31mKeyboardInterrupt\u001b[0m                         Traceback (most recent call last)",
      "Cell \u001b[0;32mIn[3], line 6\u001b[0m\n\u001b[1;32m      4\u001b[0m \u001b[38;5;28;01mfor\u001b[39;00m file \u001b[38;5;129;01min\u001b[39;00m tqdm\u001b[38;5;241m.\u001b[39mtqdm(zip_files):\n\u001b[1;32m      5\u001b[0m     \u001b[38;5;28;01mwith\u001b[39;00m ZipFile(file) \u001b[38;5;28;01mas\u001b[39;00m zf:\n\u001b[0;32m----> 6\u001b[0m         \u001b[43mzf\u001b[49m\u001b[38;5;241;43m.\u001b[39;49m\u001b[43mextractall\u001b[49m\u001b[43m(\u001b[49m\u001b[43mpath\u001b[49m\u001b[38;5;241;43m=\u001b[39;49m\u001b[43mfile\u001b[49m\u001b[38;5;241;43m.\u001b[39;49m\u001b[43mparent\u001b[49m\u001b[43m)\u001b[49m\n",
      "File \u001b[0;32m~/miniconda3/envs/massimal-ml/lib/python3.11/zipfile.py:1679\u001b[0m, in \u001b[0;36mZipFile.extractall\u001b[0;34m(self, path, members, pwd)\u001b[0m\n\u001b[1;32m   1676\u001b[0m     path \u001b[38;5;241m=\u001b[39m os\u001b[38;5;241m.\u001b[39mfspath(path)\n\u001b[1;32m   1678\u001b[0m \u001b[38;5;28;01mfor\u001b[39;00m zipinfo \u001b[38;5;129;01min\u001b[39;00m members:\n\u001b[0;32m-> 1679\u001b[0m     \u001b[38;5;28;43mself\u001b[39;49m\u001b[38;5;241;43m.\u001b[39;49m\u001b[43m_extract_member\u001b[49m\u001b[43m(\u001b[49m\u001b[43mzipinfo\u001b[49m\u001b[43m,\u001b[49m\u001b[43m \u001b[49m\u001b[43mpath\u001b[49m\u001b[43m,\u001b[49m\u001b[43m \u001b[49m\u001b[43mpwd\u001b[49m\u001b[43m)\u001b[49m\n",
      "File \u001b[0;32m~/miniconda3/envs/massimal-ml/lib/python3.11/zipfile.py:1734\u001b[0m, in \u001b[0;36mZipFile._extract_member\u001b[0;34m(self, member, targetpath, pwd)\u001b[0m\n\u001b[1;32m   1730\u001b[0m     \u001b[38;5;28;01mreturn\u001b[39;00m targetpath\n\u001b[1;32m   1732\u001b[0m \u001b[38;5;28;01mwith\u001b[39;00m \u001b[38;5;28mself\u001b[39m\u001b[38;5;241m.\u001b[39mopen(member, pwd\u001b[38;5;241m=\u001b[39mpwd) \u001b[38;5;28;01mas\u001b[39;00m source, \\\n\u001b[1;32m   1733\u001b[0m      \u001b[38;5;28mopen\u001b[39m(targetpath, \u001b[38;5;124m\"\u001b[39m\u001b[38;5;124mwb\u001b[39m\u001b[38;5;124m\"\u001b[39m) \u001b[38;5;28;01mas\u001b[39;00m target:\n\u001b[0;32m-> 1734\u001b[0m     \u001b[43mshutil\u001b[49m\u001b[38;5;241;43m.\u001b[39;49m\u001b[43mcopyfileobj\u001b[49m\u001b[43m(\u001b[49m\u001b[43msource\u001b[49m\u001b[43m,\u001b[49m\u001b[43m \u001b[49m\u001b[43mtarget\u001b[49m\u001b[43m)\u001b[49m\n\u001b[1;32m   1736\u001b[0m \u001b[38;5;28;01mreturn\u001b[39;00m targetpath\n",
      "File \u001b[0;32m~/miniconda3/envs/massimal-ml/lib/python3.11/shutil.py:200\u001b[0m, in \u001b[0;36mcopyfileobj\u001b[0;34m(fsrc, fdst, length)\u001b[0m\n\u001b[1;32m    198\u001b[0m \u001b[38;5;28;01mif\u001b[39;00m \u001b[38;5;129;01mnot\u001b[39;00m buf:\n\u001b[1;32m    199\u001b[0m     \u001b[38;5;28;01mbreak\u001b[39;00m\n\u001b[0;32m--> 200\u001b[0m fdst_write(buf)\n",
      "\u001b[0;31mKeyboardInterrupt\u001b[0m: "
     ]
    }
   ],
   "source": [
    "for im_dir in im_dirs:\n",
    "    zip_files = list(im_dir.rglob('*.zip'))\n",
    "    print(f'Processing {im_dir} containing {len(zip_files)} zip files')\n",
    "    for file in tqdm.tqdm(zip_files):\n",
    "        with ZipFile(file) as zf:\n",
    "            zf.extractall(path=file.parent)"
   ]
  },
  {
   "cell_type": "code",
   "execution_count": null,
   "metadata": {},
   "outputs": [
    {
     "data": {
      "text/plain": [
       "[PosixPath('/media/mha114/Massimal/Smola_Skalmen/OtterTransects/20230620/Images/GoPro1/100GOPRO.zip'),\n",
       " PosixPath('/media/mha114/Massimal/Smola_Skalmen/OtterTransects/20230620/Images/GoPro1/101GOPRO.zip'),\n",
       " PosixPath('/media/mha114/Massimal/Smola_Skalmen/OtterTransects/20230620/Images/GoPro1/102GOPRO.zip'),\n",
       " PosixPath('/media/mha114/Massimal/Smola_Skalmen/OtterTransects/20230620/Images/GoPro1/103GOPRO.zip'),\n",
       " PosixPath('/media/mha114/Massimal/Smola_Skalmen/OtterTransects/20230620/Images/GoPro1/104GOPRO.zip'),\n",
       " PosixPath('/media/mha114/Massimal/Smola_Skalmen/OtterTransects/20230620/Images/GoPro1/105GOPRO.zip'),\n",
       " PosixPath('/media/mha114/Massimal/Smola_Skalmen/OtterTransects/20230620/Images/GoPro1/106GOPRO.zip'),\n",
       " PosixPath('/media/mha114/Massimal/Smola_Skalmen/OtterTransects/20230620/Images/GoPro1/107GOPRO.zip'),\n",
       " PosixPath('/media/mha114/Massimal/Smola_Skalmen/OtterTransects/20230620/Images/GoPro1/108GOPRO.zip'),\n",
       " PosixPath('/media/mha114/Massimal/Smola_Skalmen/OtterTransects/20230620/Images/GoPro1/109GOPRO.zip'),\n",
       " PosixPath('/media/mha114/Massimal/Smola_Skalmen/OtterTransects/20230620/Images/GoPro1/110GOPRO.zip'),\n",
       " PosixPath('/media/mha114/Massimal/Smola_Skalmen/OtterTransects/20230620/Images/GoPro1/111GOPRO.zip'),\n",
       " PosixPath('/media/mha114/Massimal/Smola_Skalmen/OtterTransects/20230620/Images/GoPro1/112GOPRO.zip'),\n",
       " PosixPath('/media/mha114/Massimal/Smola_Skalmen/OtterTransects/20230620/Images/GoPro1/113GOPRO.zip'),\n",
       " PosixPath('/media/mha114/Massimal/Smola_Skalmen/OtterTransects/20230620/Images/GoPro1/114GOPRO.zip'),\n",
       " PosixPath('/media/mha114/Massimal/Smola_Skalmen/OtterTransects/20230620/Images/GoPro1/115GOPRO.zip'),\n",
       " PosixPath('/media/mha114/Massimal/Smola_Skalmen/OtterTransects/20230620/Images/GoPro1/116GOPRO.zip'),\n",
       " PosixPath('/media/mha114/Massimal/Smola_Skalmen/OtterTransects/20230620/Images/GoPro1/117GOPRO.zip'),\n",
       " PosixPath('/media/mha114/Massimal/Smola_Skalmen/OtterTransects/20230620/Images/GoPro2/100GOPRO.zip'),\n",
       " PosixPath('/media/mha114/Massimal/Smola_Skalmen/OtterTransects/20230620/Images/GoPro2/101GOPRO.zip'),\n",
       " PosixPath('/media/mha114/Massimal/Smola_Skalmen/OtterTransects/20230620/Images/GoPro2/102GOPRO.zip'),\n",
       " PosixPath('/media/mha114/Massimal/Smola_Skalmen/OtterTransects/20230620/Images/GoPro2/103GOPRO.zip'),\n",
       " PosixPath('/media/mha114/Massimal/Smola_Skalmen/OtterTransects/20230620/Images/GoPro2/104GOPRO.zip'),\n",
       " PosixPath('/media/mha114/Massimal/Smola_Skalmen/OtterTransects/20230620/Images/GoPro2/105GOPRO.zip'),\n",
       " PosixPath('/media/mha114/Massimal/Smola_Skalmen/OtterTransects/20230620/Images/GoPro2/106GOPRO.zip'),\n",
       " PosixPath('/media/mha114/Massimal/Smola_Skalmen/OtterTransects/20230620/Images/GoPro2/107GOPRO.zip'),\n",
       " PosixPath('/media/mha114/Massimal/Smola_Skalmen/OtterTransects/20230620/Images/GoPro2/108GOPRO.zip'),\n",
       " PosixPath('/media/mha114/Massimal/Smola_Skalmen/OtterTransects/20230620/Images/GoPro2/109GOPRO.zip'),\n",
       " PosixPath('/media/mha114/Massimal/Smola_Skalmen/OtterTransects/20230620/Images/GoPro2/110GOPRO.zip'),\n",
       " PosixPath('/media/mha114/Massimal/Smola_Skalmen/OtterTransects/20230620/Images/GoPro2/111GOPRO.zip'),\n",
       " PosixPath('/media/mha114/Massimal/Smola_Skalmen/OtterTransects/20230620/Images/GoPro2/112GOPRO.zip'),\n",
       " PosixPath('/media/mha114/Massimal/Smola_Skalmen/OtterTransects/20230620/Images/GoPro2/113GOPRO.zip'),\n",
       " PosixPath('/media/mha114/Massimal/Smola_Skalmen/OtterTransects/20230620/Images/GoPro2/114GOPRO.zip'),\n",
       " PosixPath('/media/mha114/Massimal/Smola_Skalmen/OtterTransects/20230620/Images/GoPro2/115GOPRO.zip'),\n",
       " PosixPath('/media/mha114/Massimal/Smola_Skalmen/OtterTransects/20230620/Images/GoPro2/116GOPRO.zip'),\n",
       " PosixPath('/media/mha114/Massimal/Smola_Skalmen/OtterTransects/20230620/Images/GoPro2/117GOPRO.zip'),\n",
       " PosixPath('/media/mha114/Massimal/Smola_Skalmen/OtterTransects/20230620/Images/GoPro2/118GOPRO.zip'),\n",
       " PosixPath('/media/mha114/Massimal/Smola_Skalmen/OtterTransects/20230620/Images/GoPro2/119GOPRO.zip'),\n",
       " PosixPath('/media/mha114/Massimal/Smola_Skalmen/OtterTransects/20230620/Images/GoPro2/120GOPRO.zip'),\n",
       " PosixPath('/media/mha114/Massimal/Smola_Skalmen/OtterTransects/20230620/Images/GoPro2/121GOPRO.zip'),\n",
       " PosixPath('/media/mha114/Massimal/Smola_Skalmen/OtterTransects/20230620/Images/GoPro2/122GOPRO.zip'),\n",
       " PosixPath('/media/mha114/Massimal/Smola_Skalmen/OtterTransects/20230620/Images/GoPro2/123GOPRO.zip'),\n",
       " PosixPath('/media/mha114/Massimal/Smola_Skalmen/OtterTransects/20230620/Images/GoPro2/124GOPRO.zip'),\n",
       " PosixPath('/media/mha114/Massimal/Smola_Skalmen/OtterTransects/20230620/Images/GoPro2/125GOPRO.zip')]"
      ]
     },
     "execution_count": 5,
     "metadata": {},
     "output_type": "execute_result"
    }
   ],
   "source": [
    "list(im_dir.rglob('*.zip'))"
   ]
  },
  {
   "cell_type": "code",
   "execution_count": null,
   "metadata": {},
   "outputs": [],
   "source": []
  }
 ],
 "metadata": {
  "kernelspec": {
   "display_name": "massimal-ml",
   "language": "python",
   "name": "python3"
  },
  "language_info": {
   "codemirror_mode": {
    "name": "ipython",
    "version": 3
   },
   "file_extension": ".py",
   "mimetype": "text/x-python",
   "name": "python",
   "nbconvert_exporter": "python",
   "pygments_lexer": "ipython3",
   "version": "3.11.3"
  }
 },
 "nbformat": 4,
 "nbformat_minor": 2
}
