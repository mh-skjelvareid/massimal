{
 "cells": [
  {
   "cell_type": "code",
   "execution_count": 1,
   "metadata": {},
   "outputs": [],
   "source": [
    "from pathlib import Path\n",
    "from zipfile import ZipFile\n",
    "import tqdm"
   ]
  },
  {
   "cell_type": "code",
   "execution_count": 2,
   "metadata": {},
   "outputs": [],
   "source": [
    "im_dirs = [Path('/media/mha114/Massimal2/Massimal/Smola_Skalmen/OtterTransects/20230620/Images'),\n",
    "           Path('/media/mha114/Massimal2/Massimal/Smola_Maholmen/OtterTransects/20230619/Images')]\n",
    "# im_dir = [Path('/media/mha114/Massimal2/Massimal/Smola_Skalmen/OtterTransects/20230620/Images')]"
   ]
  },
  {
   "cell_type": "code",
   "execution_count": 3,
   "metadata": {},
   "outputs": [
    {
     "name": "stdout",
     "output_type": "stream",
     "text": [
      "Processing /media/mha114/Massimal2/Massimal/Smola_Skalmen/OtterTransects/20230620/Images containing 44 zip files\n"
     ]
    },
    {
     "name": "stderr",
     "output_type": "stream",
     "text": [
      "100%|██████████| 44/44 [38:40<00:00, 52.73s/it]\n"
     ]
    },
    {
     "name": "stdout",
     "output_type": "stream",
     "text": [
      "Processing /media/mha114/Massimal2/Massimal/Smola_Maholmen/OtterTransects/20230619/Images containing 40 zip files\n"
     ]
    },
    {
     "name": "stderr",
     "output_type": "stream",
     "text": [
      "100%|██████████| 40/40 [33:24<00:00, 50.12s/it]\n"
     ]
    }
   ],
   "source": [
    "for im_dir in im_dirs:\n",
    "    zip_files = list(im_dir.rglob('*.zip'))\n",
    "    print(f'Processing {im_dir} containing {len(zip_files)} zip files')\n",
    "    for file in tqdm.tqdm(zip_files):\n",
    "        with ZipFile(file) as zf:\n",
    "            zf.extractall(path=file.parent)"
   ]
  },
  {
   "cell_type": "code",
   "execution_count": 4,
   "metadata": {},
   "outputs": [],
   "source": [
    "# zip_files = list(im_dir.rglob('*.zip'))\n",
    "# print(f'Processing {im_dir} containing {len(zip_files)} zip files')\n",
    "# for file in tqdm.tqdm(zip_files):\n",
    "#     with ZipFile(file) as zf:\n",
    "#         zf.extractall(path=file.parent)"
   ]
  },
  {
   "cell_type": "code",
   "execution_count": null,
   "metadata": {},
   "outputs": [],
   "source": []
  }
 ],
 "metadata": {
  "kernelspec": {
   "display_name": "massimal-ml",
   "language": "python",
   "name": "python3"
  },
  "language_info": {
   "codemirror_mode": {
    "name": "ipython",
    "version": 3
   },
   "file_extension": ".py",
   "mimetype": "text/x-python",
   "name": "python",
   "nbconvert_exporter": "python",
   "pygments_lexer": "ipython3",
   "version": "3.11.7"
  }
 },
 "nbformat": 4,
 "nbformat_minor": 2
}
