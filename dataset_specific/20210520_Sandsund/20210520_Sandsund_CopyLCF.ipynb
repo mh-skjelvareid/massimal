{
 "cells": [
  {
   "cell_type": "code",
   "execution_count": 1,
   "id": "e6d02faf-0d0a-4c60-a3a5-5d6bcdd2d8ee",
   "metadata": {},
   "outputs": [],
   "source": [
    "import glob\n",
    "import os\n",
    "import shutil\n",
    "\n",
    "import misc"
   ]
  },
  {
   "cell_type": "code",
   "execution_count": 2,
   "id": "588898b2-9dd2-4dfc-b165-e46632ae4cd1",
   "metadata": {},
   "outputs": [],
   "source": [
    "lcf_dir = '/media/mha114/Massimal/Bodo_Sandsund/Hyperspectral/20210602/Area/1_Raw'\n",
    "hyspec_dir = '/media/mha114/Massimal/Bodo_Sandsund/Hyperspectral/20210602/Area/3a_R_rs'\n",
    "out_dir = '/media/mha114/Massimal/Bodo_Sandsund/Hyperspectral/20210602/Area/lcf'"
   ]
  },
  {
   "cell_type": "code",
   "execution_count": 10,
   "id": "a92d4e9e-d773-473e-a955-0fbd2c6d4601",
   "metadata": {},
   "outputs": [
    {
     "name": "stdout",
     "output_type": "stream",
     "text": [
      "Found 31 .lcf files.\n",
      "/media/mha114/Massimal/Bodo_Sandsund/Hyperspectral/20210602/Area/1_Raw/Sandsund_May2021-10/Sandsund_May2021_Pika_L_10.lcf\n",
      "/media/mha114/Massimal/Bodo_Sandsund/Hyperspectral/20210602/Area/1_Raw/Sandsund_May2021-11/Sandsund_May2021_Pika_L_11.lcf\n",
      "/media/mha114/Massimal/Bodo_Sandsund/Hyperspectral/20210602/Area/1_Raw/Sandsund_May2021-12/Sandsund_May2021_Pika_L_12.lcf\n",
      "/media/mha114/Massimal/Bodo_Sandsund/Hyperspectral/20210602/Area/1_Raw/Sandsund_May2021-13/Sandsund_May2021_Pika_L_13.lcf\n",
      "/media/mha114/Massimal/Bodo_Sandsund/Hyperspectral/20210602/Area/1_Raw/Sandsund_May2021-14/Sandsund_May2021_Pika_L_14.lcf\n",
      "/media/mha114/Massimal/Bodo_Sandsund/Hyperspectral/20210602/Area/1_Raw/Sandsund_May2021-15/Sandsund_May2021_Pika_L_15.lcf\n",
      "/media/mha114/Massimal/Bodo_Sandsund/Hyperspectral/20210602/Area/1_Raw/Sandsund_May2021-16/Sandsund_May2021_Pika_L_16.lcf\n",
      "/media/mha114/Massimal/Bodo_Sandsund/Hyperspectral/20210602/Area/1_Raw/Sandsund_May2021-17/Sandsund_May2021_Pika_L_17.lcf\n",
      "/media/mha114/Massimal/Bodo_Sandsund/Hyperspectral/20210602/Area/1_Raw/Sandsund_May2021-18/Sandsund_May2021_Pika_L_18.lcf\n",
      "/media/mha114/Massimal/Bodo_Sandsund/Hyperspectral/20210602/Area/1_Raw/Sandsund_May2021-19/Sandsund_May2021_Pika_L_19.lcf\n",
      "/media/mha114/Massimal/Bodo_Sandsund/Hyperspectral/20210602/Area/1_Raw/Sandsund_May2021-2/Sandsund_May2021_Pika_L_2.lcf\n",
      "/media/mha114/Massimal/Bodo_Sandsund/Hyperspectral/20210602/Area/1_Raw/Sandsund_May2021-20/Sandsund_May2021_Pika_L_20.lcf\n",
      "/media/mha114/Massimal/Bodo_Sandsund/Hyperspectral/20210602/Area/1_Raw/Sandsund_May2021-21/Sandsund_May2021_Pika_L_21.lcf\n",
      "/media/mha114/Massimal/Bodo_Sandsund/Hyperspectral/20210602/Area/1_Raw/Sandsund_May2021-22/Sandsund_May2021_Pika_L_22.lcf\n",
      "/media/mha114/Massimal/Bodo_Sandsund/Hyperspectral/20210602/Area/1_Raw/Sandsund_May2021-23/Sandsund_May2021_Pika_L_23.lcf\n",
      "/media/mha114/Massimal/Bodo_Sandsund/Hyperspectral/20210602/Area/1_Raw/Sandsund_May2021-24/Sandsund_May2021_Pika_L_24.lcf\n",
      "/media/mha114/Massimal/Bodo_Sandsund/Hyperspectral/20210602/Area/1_Raw/Sandsund_May2021-25/Sandsund_May2021_Pika_L_25.lcf\n",
      "/media/mha114/Massimal/Bodo_Sandsund/Hyperspectral/20210602/Area/1_Raw/Sandsund_May2021-26/Sandsund_May2021_Pika_L_26.lcf\n",
      "/media/mha114/Massimal/Bodo_Sandsund/Hyperspectral/20210602/Area/1_Raw/Sandsund_May2021-27/Sandsund_May2021_Pika_L_27.lcf\n",
      "/media/mha114/Massimal/Bodo_Sandsund/Hyperspectral/20210602/Area/1_Raw/Sandsund_May2021-28/Sandsund_May2021_Pika_L_28.lcf\n",
      "/media/mha114/Massimal/Bodo_Sandsund/Hyperspectral/20210602/Area/1_Raw/Sandsund_May2021-29/Sandsund_May2021_Pika_L_29.lcf\n",
      "/media/mha114/Massimal/Bodo_Sandsund/Hyperspectral/20210602/Area/1_Raw/Sandsund_May2021-3/Sandsund_May2021_Pika_L_3.lcf\n",
      "/media/mha114/Massimal/Bodo_Sandsund/Hyperspectral/20210602/Area/1_Raw/Sandsund_May2021-30/Sandsund_May2021_Pika_L_30.lcf\n",
      "/media/mha114/Massimal/Bodo_Sandsund/Hyperspectral/20210602/Area/1_Raw/Sandsund_May2021-31/Sandsund_May2021_Pika_L_31.lcf\n",
      "/media/mha114/Massimal/Bodo_Sandsund/Hyperspectral/20210602/Area/1_Raw/Sandsund_May2021-32/Sandsund_May2021_Pika_L_32.lcf\n",
      "/media/mha114/Massimal/Bodo_Sandsund/Hyperspectral/20210602/Area/1_Raw/Sandsund_May2021-4/Sandsund_May2021_Pika_L_4.lcf\n",
      "/media/mha114/Massimal/Bodo_Sandsund/Hyperspectral/20210602/Area/1_Raw/Sandsund_May2021-5/Sandsund_May2021_Pika_L_5.lcf\n",
      "/media/mha114/Massimal/Bodo_Sandsund/Hyperspectral/20210602/Area/1_Raw/Sandsund_May2021-6/Sandsund_May2021_Pika_L_6.lcf\n",
      "/media/mha114/Massimal/Bodo_Sandsund/Hyperspectral/20210602/Area/1_Raw/Sandsund_May2021-7/Sandsund_May2021_Pika_L_7.lcf\n",
      "/media/mha114/Massimal/Bodo_Sandsund/Hyperspectral/20210602/Area/1_Raw/Sandsund_May2021-8/Sandsund_May2021_Pika_L_8.lcf\n",
      "/media/mha114/Massimal/Bodo_Sandsund/Hyperspectral/20210602/Area/1_Raw/Sandsund_May2021-9/Sandsund_May2021_Pika_L_9.lcf\n"
     ]
    }
   ],
   "source": [
    "# Find all lcf files\n",
    "orig_lcf_files = misc.file_pattern_search(root_dir=lcf_dir, file_pattern='*.lcf',recursive=True)\n",
    "print('Found ' + str(len(orig_lcf_files)) + ' .lcf files.')\n",
    "for file in orig_lcf_files:\n",
    "    print(file)"
   ]
  },
  {
   "cell_type": "code",
   "execution_count": 11,
   "id": "e392cb31-5b6c-4be4-aeb8-87cf0b74b577",
   "metadata": {},
   "outputs": [
    {
     "name": "stdout",
     "output_type": "stream",
     "text": [
      "Found 31 .lcf files.\n",
      "/media/mha114/Massimal/Bodo_Sandsund/Hyperspectral/20210602/Area/3a_R_rs/Sandsund_May2021_Pika_L_10-Radiance From Raw Data-Reflectance from Radiance Data and Downwelling Irradiance Spectrum.lcf\n",
      "/media/mha114/Massimal/Bodo_Sandsund/Hyperspectral/20210602/Area/3a_R_rs/Sandsund_May2021_Pika_L_11-Radiance From Raw Data-Reflectance from Radiance Data and Downwelling Irradiance Spectrum.lcf\n",
      "/media/mha114/Massimal/Bodo_Sandsund/Hyperspectral/20210602/Area/3a_R_rs/Sandsund_May2021_Pika_L_12-Radiance From Raw Data-Reflectance from Radiance Data and Downwelling Irradiance Spectrum.lcf\n",
      "/media/mha114/Massimal/Bodo_Sandsund/Hyperspectral/20210602/Area/3a_R_rs/Sandsund_May2021_Pika_L_13-Radiance From Raw Data-Reflectance from Radiance Data and Downwelling Irradiance Spectrum.lcf\n",
      "/media/mha114/Massimal/Bodo_Sandsund/Hyperspectral/20210602/Area/3a_R_rs/Sandsund_May2021_Pika_L_14-Radiance From Raw Data-Reflectance from Radiance Data and Downwelling Irradiance Spectrum.lcf\n",
      "/media/mha114/Massimal/Bodo_Sandsund/Hyperspectral/20210602/Area/3a_R_rs/Sandsund_May2021_Pika_L_15-Radiance From Raw Data-Reflectance from Radiance Data and Downwelling Irradiance Spectrum.lcf\n",
      "/media/mha114/Massimal/Bodo_Sandsund/Hyperspectral/20210602/Area/3a_R_rs/Sandsund_May2021_Pika_L_16-Radiance From Raw Data-Reflectance from Radiance Data and Downwelling Irradiance Spectrum.lcf\n",
      "/media/mha114/Massimal/Bodo_Sandsund/Hyperspectral/20210602/Area/3a_R_rs/Sandsund_May2021_Pika_L_17-Radiance From Raw Data-Reflectance from Radiance Data and Downwelling Irradiance Spectrum.lcf\n",
      "/media/mha114/Massimal/Bodo_Sandsund/Hyperspectral/20210602/Area/3a_R_rs/Sandsund_May2021_Pika_L_18-Radiance From Raw Data-Reflectance from Radiance Data and Downwelling Irradiance Spectrum.lcf\n",
      "/media/mha114/Massimal/Bodo_Sandsund/Hyperspectral/20210602/Area/3a_R_rs/Sandsund_May2021_Pika_L_19-Radiance From Raw Data-Reflectance from Radiance Data and Downwelling Irradiance Spectrum.lcf\n",
      "/media/mha114/Massimal/Bodo_Sandsund/Hyperspectral/20210602/Area/3a_R_rs/Sandsund_May2021_Pika_L_2-Radiance From Raw Data-Reflectance from Radiance Data and Downwelling Irradiance Spectrum.lcf\n",
      "/media/mha114/Massimal/Bodo_Sandsund/Hyperspectral/20210602/Area/3a_R_rs/Sandsund_May2021_Pika_L_20-Radiance From Raw Data-Reflectance from Radiance Data and Downwelling Irradiance Spectrum.lcf\n",
      "/media/mha114/Massimal/Bodo_Sandsund/Hyperspectral/20210602/Area/3a_R_rs/Sandsund_May2021_Pika_L_21-Radiance From Raw Data-Reflectance from Radiance Data and Downwelling Irradiance Spectrum.lcf\n",
      "/media/mha114/Massimal/Bodo_Sandsund/Hyperspectral/20210602/Area/3a_R_rs/Sandsund_May2021_Pika_L_22-Radiance From Raw Data-Reflectance from Radiance Data and Downwelling Irradiance Spectrum.lcf\n",
      "/media/mha114/Massimal/Bodo_Sandsund/Hyperspectral/20210602/Area/3a_R_rs/Sandsund_May2021_Pika_L_23-Radiance From Raw Data-Reflectance from Radiance Data and Downwelling Irradiance Spectrum.lcf\n",
      "/media/mha114/Massimal/Bodo_Sandsund/Hyperspectral/20210602/Area/3a_R_rs/Sandsund_May2021_Pika_L_24-Radiance From Raw Data-Reflectance from Radiance Data and Downwelling Irradiance Spectrum.lcf\n",
      "/media/mha114/Massimal/Bodo_Sandsund/Hyperspectral/20210602/Area/3a_R_rs/Sandsund_May2021_Pika_L_25-Radiance From Raw Data-Reflectance from Radiance Data and Downwelling Irradiance Spectrum.lcf\n",
      "/media/mha114/Massimal/Bodo_Sandsund/Hyperspectral/20210602/Area/3a_R_rs/Sandsund_May2021_Pika_L_26-Radiance From Raw Data-Reflectance from Radiance Data and Downwelling Irradiance Spectrum.lcf\n",
      "/media/mha114/Massimal/Bodo_Sandsund/Hyperspectral/20210602/Area/3a_R_rs/Sandsund_May2021_Pika_L_27-Radiance From Raw Data-Reflectance from Radiance Data and Downwelling Irradiance Spectrum.lcf\n",
      "/media/mha114/Massimal/Bodo_Sandsund/Hyperspectral/20210602/Area/3a_R_rs/Sandsund_May2021_Pika_L_28-Radiance From Raw Data-Reflectance from Radiance Data and Downwelling Irradiance Spectrum.lcf\n",
      "/media/mha114/Massimal/Bodo_Sandsund/Hyperspectral/20210602/Area/3a_R_rs/Sandsund_May2021_Pika_L_29-Radiance From Raw Data-Reflectance from Radiance Data and Downwelling Irradiance Spectrum.lcf\n",
      "/media/mha114/Massimal/Bodo_Sandsund/Hyperspectral/20210602/Area/3a_R_rs/Sandsund_May2021_Pika_L_3-Radiance From Raw Data-Reflectance from Radiance Data and Downwelling Irradiance Spectrum.lcf\n",
      "/media/mha114/Massimal/Bodo_Sandsund/Hyperspectral/20210602/Area/3a_R_rs/Sandsund_May2021_Pika_L_30-Radiance From Raw Data-Reflectance from Radiance Data and Downwelling Irradiance Spectrum.lcf\n",
      "/media/mha114/Massimal/Bodo_Sandsund/Hyperspectral/20210602/Area/3a_R_rs/Sandsund_May2021_Pika_L_31-Radiance From Raw Data-Reflectance from Radiance Data and Downwelling Irradiance Spectrum.lcf\n",
      "/media/mha114/Massimal/Bodo_Sandsund/Hyperspectral/20210602/Area/3a_R_rs/Sandsund_May2021_Pika_L_32-Radiance From Raw Data-Reflectance from Radiance Data and Downwelling Irradiance Spectrum.lcf\n",
      "/media/mha114/Massimal/Bodo_Sandsund/Hyperspectral/20210602/Area/3a_R_rs/Sandsund_May2021_Pika_L_4-Radiance From Raw Data-Reflectance from Radiance Data and Downwelling Irradiance Spectrum.lcf\n",
      "/media/mha114/Massimal/Bodo_Sandsund/Hyperspectral/20210602/Area/3a_R_rs/Sandsund_May2021_Pika_L_5-Radiance From Raw Data-Reflectance from Radiance Data and Downwelling Irradiance Spectrum.lcf\n",
      "/media/mha114/Massimal/Bodo_Sandsund/Hyperspectral/20210602/Area/3a_R_rs/Sandsund_May2021_Pika_L_6-Radiance From Raw Data-Reflectance from Radiance Data and Downwelling Irradiance Spectrum.lcf\n",
      "/media/mha114/Massimal/Bodo_Sandsund/Hyperspectral/20210602/Area/3a_R_rs/Sandsund_May2021_Pika_L_7-Radiance From Raw Data-Reflectance from Radiance Data and Downwelling Irradiance Spectrum.lcf\n",
      "/media/mha114/Massimal/Bodo_Sandsund/Hyperspectral/20210602/Area/3a_R_rs/Sandsund_May2021_Pika_L_8-Radiance From Raw Data-Reflectance from Radiance Data and Downwelling Irradiance Spectrum.lcf\n",
      "/media/mha114/Massimal/Bodo_Sandsund/Hyperspectral/20210602/Area/3a_R_rs/Sandsund_May2021_Pika_L_9-Radiance From Raw Data-Reflectance from Radiance Data and Downwelling Irradiance Spectrum.lcf\n"
     ]
    }
   ],
   "source": [
    "# Find all (incorrectly) copied .lcf files\n",
    "copied_lcf_files = misc.file_pattern_search(root_dir=hyspec_dir, file_pattern='*.lcf',recursive=True)\n",
    "print('Found ' + str(len(copied_lcf_files)) + ' .lcf files.')\n",
    "for file in copied_lcf_files:\n",
    "    print(file)"
   ]
  },
  {
   "cell_type": "code",
   "execution_count": 12,
   "id": "e0ab32ed-2955-45ea-9cef-e40a68ab460c",
   "metadata": {},
   "outputs": [],
   "source": [
    "# Re-copy (but correctly this time) each .lcf file\n",
    "for (src_file,cop_file) in zip(orig_lcf_files,copied_lcf_files):\n",
    "    shutil.copy(src_file,cop_file)"
   ]
  }
 ],
 "metadata": {
  "kernelspec": {
   "display_name": "Python 3 (ipykernel)",
   "language": "python",
   "name": "python3"
  },
  "language_info": {
   "codemirror_mode": {
    "name": "ipython",
    "version": 3
   },
   "file_extension": ".py",
   "mimetype": "text/x-python",
   "name": "python",
   "nbconvert_exporter": "python",
   "pygments_lexer": "ipython3",
   "version": "3.9.7"
  }
 },
 "nbformat": 4,
 "nbformat_minor": 5
}
