{
 "cells": [
  {
   "cell_type": "code",
   "execution_count": 31,
   "id": "74f02d57",
   "metadata": {},
   "outputs": [],
   "source": [
    "# Imports\n",
    "import numpy as np\n",
    "import matplotlib.pyplot as plt\n",
    "from skimage import exposure\n",
    "import skimage.io\n",
    "import os\n",
    "\n",
    "import hyspec_io, misc, batch_process\n"
   ]
  },
  {
   "cell_type": "code",
   "execution_count": 16,
   "id": "7b01cfff",
   "metadata": {},
   "outputs": [],
   "source": [
    "# Paths\n",
    "template_file = '/media/mha114/Massimal/Bodo_Sandsund/Hyperspectral/20210602/Area/3b_R_rs_GeoRef/Sandsund_May2021_Pika_L_17-Radiance From Raw Data-Reflectance from Radiance Data and Downwelling Irradiance Spectrum-Georectify Airborne Datacube.bip.hdr'\n",
    "image_dir = '/media/mha114/Massimal/Bodo_Sandsund/Hyperspectral/20210602/Area/3b_R_rs_GeoRef'\n",
    "out_dir = '/media/mha114/Massimal/Bodo_Sandsund/Hyperspectral/20210602/Area/M_Annotation/RGB_Render_Georef_GlobalStretch'"
   ]
  },
  {
   "cell_type": "code",
   "execution_count": 11,
   "id": "1c0276b0",
   "metadata": {},
   "outputs": [],
   "source": [
    "# Load image\n",
    "(image,wl,rgb_ind,metadata) = hyspec_io.load_envi_image(template_file,rgb_only=True)"
   ]
  },
  {
   "cell_type": "code",
   "execution_count": 12,
   "id": "8b20dd08",
   "metadata": {},
   "outputs": [
    {
     "name": "stdout",
     "output_type": "stream",
     "text": [
      "Limits for band 0: 0.006497780326753855, 0.015875259414315224\n",
      "Limits for band 1: 0.013920793309807777, 0.025958580896258354\n",
      "Limits for band 2: 0.00775771914049983, 0.011904085986316204\n"
     ]
    }
   ],
   "source": [
    "# Find percentiles for template image\n",
    "mask = ~np.all(image==0,axis=2)\n",
    "percentiles = (2,98)\n",
    "\n",
    "pct_limits = np.zeros((3,2))\n",
    "\n",
    "for ii,image_band in enumerate(np.moveaxis(image,2,0)):\n",
    "    p_low,p_high = np.percentile(image_band[mask], percentiles)\n",
    "    pct_limits[ii,:] = [p_low,p_high]\n",
    "    print('Limits for band ' + str(ii) + ': ' + str(p_low) + ', ' + str(p_high))"
   ]
  },
  {
   "cell_type": "code",
   "execution_count": 17,
   "id": "25045e75",
   "metadata": {},
   "outputs": [],
   "source": [
    "# Get list of files\n",
    "image_files = misc.file_pattern_search(image_dir,'*.hdr')"
   ]
  },
  {
   "cell_type": "code",
   "execution_count": 19,
   "id": "20910cd9",
   "metadata": {},
   "outputs": [
    {
     "name": "stdout",
     "output_type": "stream",
     "text": [
      "/media/mha114/Massimal/Bodo_Sandsund/Hyperspectral/20210602/Area/3b_R_rs_GeoRef/Sandsund_May2021_Pika_L_10-Radiance From Raw Data-Reflectance from Radiance Data and Downwelling Irradiance Spectrum-Georectify Airborne Datacube.bip.hdr\n",
      "/media/mha114/Massimal/Bodo_Sandsund/Hyperspectral/20210602/Area/3b_R_rs_GeoRef/Sandsund_May2021_Pika_L_11-Radiance From Raw Data-Reflectance from Radiance Data and Downwelling Irradiance Spectrum-Georectify Airborne Datacube.bip.hdr\n",
      "/media/mha114/Massimal/Bodo_Sandsund/Hyperspectral/20210602/Area/3b_R_rs_GeoRef/Sandsund_May2021_Pika_L_12-Radiance From Raw Data-Reflectance from Radiance Data and Downwelling Irradiance Spectrum-Georectify Airborne Datacube.bip.hdr\n",
      "/media/mha114/Massimal/Bodo_Sandsund/Hyperspectral/20210602/Area/3b_R_rs_GeoRef/Sandsund_May2021_Pika_L_13-Radiance From Raw Data-Reflectance from Radiance Data and Downwelling Irradiance Spectrum-Georectify Airborne Datacube.bip.hdr\n",
      "/media/mha114/Massimal/Bodo_Sandsund/Hyperspectral/20210602/Area/3b_R_rs_GeoRef/Sandsund_May2021_Pika_L_14-Radiance From Raw Data-Reflectance from Radiance Data and Downwelling Irradiance Spectrum-Georectify Airborne Datacube.bip.hdr\n",
      "/media/mha114/Massimal/Bodo_Sandsund/Hyperspectral/20210602/Area/3b_R_rs_GeoRef/Sandsund_May2021_Pika_L_15-Radiance From Raw Data-Reflectance from Radiance Data and Downwelling Irradiance Spectrum-Georectify Airborne Datacube.bip.hdr\n",
      "/media/mha114/Massimal/Bodo_Sandsund/Hyperspectral/20210602/Area/3b_R_rs_GeoRef/Sandsund_May2021_Pika_L_16-Radiance From Raw Data-Reflectance from Radiance Data and Downwelling Irradiance Spectrum-Georectify Airborne Datacube.bip.hdr\n",
      "/media/mha114/Massimal/Bodo_Sandsund/Hyperspectral/20210602/Area/3b_R_rs_GeoRef/Sandsund_May2021_Pika_L_17-Radiance From Raw Data-Reflectance from Radiance Data and Downwelling Irradiance Spectrum-Georectify Airborne Datacube.bip.hdr\n",
      "/media/mha114/Massimal/Bodo_Sandsund/Hyperspectral/20210602/Area/3b_R_rs_GeoRef/Sandsund_May2021_Pika_L_18-Radiance From Raw Data-Reflectance from Radiance Data and Downwelling Irradiance Spectrum-Georectify Airborne Datacube.bip.hdr\n",
      "/media/mha114/Massimal/Bodo_Sandsund/Hyperspectral/20210602/Area/3b_R_rs_GeoRef/Sandsund_May2021_Pika_L_19-Radiance From Raw Data-Reflectance from Radiance Data and Downwelling Irradiance Spectrum-Georectify Airborne Datacube.bip.hdr\n",
      "/media/mha114/Massimal/Bodo_Sandsund/Hyperspectral/20210602/Area/3b_R_rs_GeoRef/Sandsund_May2021_Pika_L_2-Radiance From Raw Data-Reflectance from Radiance Data and Downwelling Irradiance Spectrum-Georectify Airborne Datacube.bip.hdr\n",
      "/media/mha114/Massimal/Bodo_Sandsund/Hyperspectral/20210602/Area/3b_R_rs_GeoRef/Sandsund_May2021_Pika_L_20-Radiance From Raw Data-Reflectance from Radiance Data and Downwelling Irradiance Spectrum-Georectify Airborne Datacube.bip.hdr\n",
      "/media/mha114/Massimal/Bodo_Sandsund/Hyperspectral/20210602/Area/3b_R_rs_GeoRef/Sandsund_May2021_Pika_L_21-Radiance From Raw Data-Reflectance from Radiance Data and Downwelling Irradiance Spectrum-Georectify Airborne Datacube.bip.hdr\n",
      "/media/mha114/Massimal/Bodo_Sandsund/Hyperspectral/20210602/Area/3b_R_rs_GeoRef/Sandsund_May2021_Pika_L_22-Radiance From Raw Data-Reflectance from Radiance Data and Downwelling Irradiance Spectrum-Georectify Airborne Datacube.bip.hdr\n",
      "/media/mha114/Massimal/Bodo_Sandsund/Hyperspectral/20210602/Area/3b_R_rs_GeoRef/Sandsund_May2021_Pika_L_23-Radiance From Raw Data-Reflectance from Radiance Data and Downwelling Irradiance Spectrum-Georectify Airborne Datacube.bip.hdr\n",
      "/media/mha114/Massimal/Bodo_Sandsund/Hyperspectral/20210602/Area/3b_R_rs_GeoRef/Sandsund_May2021_Pika_L_24-Radiance From Raw Data-Reflectance from Radiance Data and Downwelling Irradiance Spectrum-Georectify Airborne Datacube.bip.hdr\n",
      "/media/mha114/Massimal/Bodo_Sandsund/Hyperspectral/20210602/Area/3b_R_rs_GeoRef/Sandsund_May2021_Pika_L_25-Radiance From Raw Data-Reflectance from Radiance Data and Downwelling Irradiance Spectrum-Georectify Airborne Datacube.bip.hdr\n",
      "/media/mha114/Massimal/Bodo_Sandsund/Hyperspectral/20210602/Area/3b_R_rs_GeoRef/Sandsund_May2021_Pika_L_26-Radiance From Raw Data-Reflectance from Radiance Data and Downwelling Irradiance Spectrum-Georectify Airborne Datacube.bip.hdr\n",
      "/media/mha114/Massimal/Bodo_Sandsund/Hyperspectral/20210602/Area/3b_R_rs_GeoRef/Sandsund_May2021_Pika_L_27-Radiance From Raw Data-Reflectance from Radiance Data and Downwelling Irradiance Spectrum-Georectify Airborne Datacube.bip.hdr\n",
      "/media/mha114/Massimal/Bodo_Sandsund/Hyperspectral/20210602/Area/3b_R_rs_GeoRef/Sandsund_May2021_Pika_L_28-Radiance From Raw Data-Reflectance from Radiance Data and Downwelling Irradiance Spectrum-Georectify Airborne Datacube.bip.hdr\n",
      "/media/mha114/Massimal/Bodo_Sandsund/Hyperspectral/20210602/Area/3b_R_rs_GeoRef/Sandsund_May2021_Pika_L_29-Radiance From Raw Data-Reflectance from Radiance Data and Downwelling Irradiance Spectrum-Georectify Airborne Datacube.bip.hdr\n",
      "/media/mha114/Massimal/Bodo_Sandsund/Hyperspectral/20210602/Area/3b_R_rs_GeoRef/Sandsund_May2021_Pika_L_3-Radiance From Raw Data-Reflectance from Radiance Data and Downwelling Irradiance Spectrum-Georectify Airborne Datacube.bip.hdr\n",
      "/media/mha114/Massimal/Bodo_Sandsund/Hyperspectral/20210602/Area/3b_R_rs_GeoRef/Sandsund_May2021_Pika_L_30-Radiance From Raw Data-Reflectance from Radiance Data and Downwelling Irradiance Spectrum-Georectify Airborne Datacube.bip.hdr\n",
      "/media/mha114/Massimal/Bodo_Sandsund/Hyperspectral/20210602/Area/3b_R_rs_GeoRef/Sandsund_May2021_Pika_L_31-Radiance From Raw Data-Reflectance from Radiance Data and Downwelling Irradiance Spectrum-Georectify Airborne Datacube.bip.hdr\n",
      "/media/mha114/Massimal/Bodo_Sandsund/Hyperspectral/20210602/Area/3b_R_rs_GeoRef/Sandsund_May2021_Pika_L_32-Radiance From Raw Data-Reflectance from Radiance Data and Downwelling Irradiance Spectrum-Georectify Airborne Datacube.bip.hdr\n",
      "/media/mha114/Massimal/Bodo_Sandsund/Hyperspectral/20210602/Area/3b_R_rs_GeoRef/Sandsund_May2021_Pika_L_4-Radiance From Raw Data-Reflectance from Radiance Data and Downwelling Irradiance Spectrum-Georectify Airborne Datacube.bip.hdr\n",
      "/media/mha114/Massimal/Bodo_Sandsund/Hyperspectral/20210602/Area/3b_R_rs_GeoRef/Sandsund_May2021_Pika_L_5-Radiance From Raw Data-Reflectance from Radiance Data and Downwelling Irradiance Spectrum-Georectify Airborne Datacube.bip.hdr\n",
      "/media/mha114/Massimal/Bodo_Sandsund/Hyperspectral/20210602/Area/3b_R_rs_GeoRef/Sandsund_May2021_Pika_L_6-Radiance From Raw Data-Reflectance from Radiance Data and Downwelling Irradiance Spectrum-Georectify Airborne Datacube.bip.hdr\n",
      "/media/mha114/Massimal/Bodo_Sandsund/Hyperspectral/20210602/Area/3b_R_rs_GeoRef/Sandsund_May2021_Pika_L_7-Radiance From Raw Data-Reflectance from Radiance Data and Downwelling Irradiance Spectrum-Georectify Airborne Datacube.bip.hdr\n",
      "/media/mha114/Massimal/Bodo_Sandsund/Hyperspectral/20210602/Area/3b_R_rs_GeoRef/Sandsund_May2021_Pika_L_8-Radiance From Raw Data-Reflectance from Radiance Data and Downwelling Irradiance Spectrum-Georectify Airborne Datacube.bip.hdr\n",
      "/media/mha114/Massimal/Bodo_Sandsund/Hyperspectral/20210602/Area/3b_R_rs_GeoRef/Sandsund_May2021_Pika_L_9-Radiance From Raw Data-Reflectance from Radiance Data and Downwelling Irradiance Spectrum-Georectify Airborne Datacube.bip.hdr\n"
     ]
    }
   ],
   "source": [
    "# Show images\n",
    "for file in image_files:\n",
    "    print(file)"
   ]
  },
  {
   "cell_type": "code",
   "execution_count": 30,
   "id": "35db8aaf",
   "metadata": {},
   "outputs": [
    {
     "name": "stderr",
     "output_type": "stream",
     "text": [
      "<ipython-input-30-d8a052539766>:14: UserWarning: /media/mha114/Massimal/Bodo_Sandsund/Hyperspectral/20210602/Area/M_Annotation/RGB_Render_Georef_GlobalStretch/Sandsund_May2021_Pika_L_25-Radiance From Raw Data-Reflectance from Radiance Data and Downwelling Irradiance Spectrum-Georectify Airborne Datacube.png is a low contrast image\n",
      "  skimage.io.imsave(out_file,skimage.img_as_ubyte(im_rescaled))\n",
      "<ipython-input-30-d8a052539766>:14: UserWarning: /media/mha114/Massimal/Bodo_Sandsund/Hyperspectral/20210602/Area/M_Annotation/RGB_Render_Georef_GlobalStretch/Sandsund_May2021_Pika_L_28-Radiance From Raw Data-Reflectance from Radiance Data and Downwelling Irradiance Spectrum-Georectify Airborne Datacube.png is a low contrast image\n",
      "  skimage.io.imsave(out_file,skimage.img_as_ubyte(im_rescaled))\n",
      "<ipython-input-30-d8a052539766>:14: UserWarning: /media/mha114/Massimal/Bodo_Sandsund/Hyperspectral/20210602/Area/M_Annotation/RGB_Render_Georef_GlobalStretch/Sandsund_May2021_Pika_L_29-Radiance From Raw Data-Reflectance from Radiance Data and Downwelling Irradiance Spectrum-Georectify Airborne Datacube.png is a low contrast image\n",
      "  skimage.io.imsave(out_file,skimage.img_as_ubyte(im_rescaled))\n",
      "<ipython-input-30-d8a052539766>:14: UserWarning: /media/mha114/Massimal/Bodo_Sandsund/Hyperspectral/20210602/Area/M_Annotation/RGB_Render_Georef_GlobalStretch/Sandsund_May2021_Pika_L_30-Radiance From Raw Data-Reflectance from Radiance Data and Downwelling Irradiance Spectrum-Georectify Airborne Datacube.png is a low contrast image\n",
      "  skimage.io.imsave(out_file,skimage.img_as_ubyte(im_rescaled))\n"
     ]
    }
   ],
   "source": [
    "# Load each file, stretch and save\n",
    "# output_files = misc.build_newdir_filepath(image_files,out_dir,new_ext = '.png')\n",
    "\n",
    "# for (in_file,out_file) in zip(image_files,output_files):\n",
    "#     # Load data\n",
    "#     (image,wl,rgb_ind,metadata) = hyspec_io.load_envi_image(in_file,rgb_only=True)\n",
    "    \n",
    "#     # Stretch each band\n",
    "#     im_rescaled = np.zeros(image.shape)\n",
    "#     for ii,image_band in enumerate(np.moveaxis(image,2,0)):\n",
    "#         im_rescaled[:,:,ii] = exposure.rescale_intensity(image_band, in_range=tuple(pct_limits[ii,:]))\n",
    "\n",
    "#     # Save stretched image\n",
    "#     skimage.io.imsave(out_file,skimage.img_as_ubyte(im_rescaled))\n",
    "    "
   ]
  },
  {
   "cell_type": "code",
   "execution_count": 32,
   "id": "426f0a3c",
   "metadata": {},
   "outputs": [
    {
     "name": "stdout",
     "output_type": "stream",
     "text": [
      "Found 31 images in input folder.\n",
      "Loading input file /media/mha114/Massimal/Bodo_Sandsund/Hyperspectral/20210602/Area/3b_R_rs_GeoRef/Sandsund_May2021_Pika_L_10-Radiance From Raw Data-Reflectance from Radiance Data and Downwelling Irradiance Spectrum-Georectify Airborne Datacube.bip.hdr\n",
      "Saving RGB render of hyperspectral file as /media/mha114/Massimal/Bodo_Sandsund/Hyperspectral/20210602/Area/M_Annotation/RGB_Render_Georef_GlobalStretch/Sandsund_May2021_Pika_L_10-Radiance From Raw Data-Reflectance from Radiance Data and Downwelling Irradiance Spectrum-Georectify Airborne Datacube.png\n",
      "Loading input file /media/mha114/Massimal/Bodo_Sandsund/Hyperspectral/20210602/Area/3b_R_rs_GeoRef/Sandsund_May2021_Pika_L_11-Radiance From Raw Data-Reflectance from Radiance Data and Downwelling Irradiance Spectrum-Georectify Airborne Datacube.bip.hdr\n",
      "Saving RGB render of hyperspectral file as /media/mha114/Massimal/Bodo_Sandsund/Hyperspectral/20210602/Area/M_Annotation/RGB_Render_Georef_GlobalStretch/Sandsund_May2021_Pika_L_11-Radiance From Raw Data-Reflectance from Radiance Data and Downwelling Irradiance Spectrum-Georectify Airborne Datacube.png\n",
      "Loading input file /media/mha114/Massimal/Bodo_Sandsund/Hyperspectral/20210602/Area/3b_R_rs_GeoRef/Sandsund_May2021_Pika_L_12-Radiance From Raw Data-Reflectance from Radiance Data and Downwelling Irradiance Spectrum-Georectify Airborne Datacube.bip.hdr\n",
      "Saving RGB render of hyperspectral file as /media/mha114/Massimal/Bodo_Sandsund/Hyperspectral/20210602/Area/M_Annotation/RGB_Render_Georef_GlobalStretch/Sandsund_May2021_Pika_L_12-Radiance From Raw Data-Reflectance from Radiance Data and Downwelling Irradiance Spectrum-Georectify Airborne Datacube.png\n",
      "Loading input file /media/mha114/Massimal/Bodo_Sandsund/Hyperspectral/20210602/Area/3b_R_rs_GeoRef/Sandsund_May2021_Pika_L_13-Radiance From Raw Data-Reflectance from Radiance Data and Downwelling Irradiance Spectrum-Georectify Airborne Datacube.bip.hdr\n",
      "Saving RGB render of hyperspectral file as /media/mha114/Massimal/Bodo_Sandsund/Hyperspectral/20210602/Area/M_Annotation/RGB_Render_Georef_GlobalStretch/Sandsund_May2021_Pika_L_13-Radiance From Raw Data-Reflectance from Radiance Data and Downwelling Irradiance Spectrum-Georectify Airborne Datacube.png\n",
      "Loading input file /media/mha114/Massimal/Bodo_Sandsund/Hyperspectral/20210602/Area/3b_R_rs_GeoRef/Sandsund_May2021_Pika_L_14-Radiance From Raw Data-Reflectance from Radiance Data and Downwelling Irradiance Spectrum-Georectify Airborne Datacube.bip.hdr\n",
      "Saving RGB render of hyperspectral file as /media/mha114/Massimal/Bodo_Sandsund/Hyperspectral/20210602/Area/M_Annotation/RGB_Render_Georef_GlobalStretch/Sandsund_May2021_Pika_L_14-Radiance From Raw Data-Reflectance from Radiance Data and Downwelling Irradiance Spectrum-Georectify Airborne Datacube.png\n",
      "Loading input file /media/mha114/Massimal/Bodo_Sandsund/Hyperspectral/20210602/Area/3b_R_rs_GeoRef/Sandsund_May2021_Pika_L_15-Radiance From Raw Data-Reflectance from Radiance Data and Downwelling Irradiance Spectrum-Georectify Airborne Datacube.bip.hdr\n",
      "Saving RGB render of hyperspectral file as /media/mha114/Massimal/Bodo_Sandsund/Hyperspectral/20210602/Area/M_Annotation/RGB_Render_Georef_GlobalStretch/Sandsund_May2021_Pika_L_15-Radiance From Raw Data-Reflectance from Radiance Data and Downwelling Irradiance Spectrum-Georectify Airborne Datacube.png\n",
      "Loading input file /media/mha114/Massimal/Bodo_Sandsund/Hyperspectral/20210602/Area/3b_R_rs_GeoRef/Sandsund_May2021_Pika_L_16-Radiance From Raw Data-Reflectance from Radiance Data and Downwelling Irradiance Spectrum-Georectify Airborne Datacube.bip.hdr\n",
      "Saving RGB render of hyperspectral file as /media/mha114/Massimal/Bodo_Sandsund/Hyperspectral/20210602/Area/M_Annotation/RGB_Render_Georef_GlobalStretch/Sandsund_May2021_Pika_L_16-Radiance From Raw Data-Reflectance from Radiance Data and Downwelling Irradiance Spectrum-Georectify Airborne Datacube.png\n",
      "Loading input file /media/mha114/Massimal/Bodo_Sandsund/Hyperspectral/20210602/Area/3b_R_rs_GeoRef/Sandsund_May2021_Pika_L_17-Radiance From Raw Data-Reflectance from Radiance Data and Downwelling Irradiance Spectrum-Georectify Airborne Datacube.bip.hdr\n",
      "Saving RGB render of hyperspectral file as /media/mha114/Massimal/Bodo_Sandsund/Hyperspectral/20210602/Area/M_Annotation/RGB_Render_Georef_GlobalStretch/Sandsund_May2021_Pika_L_17-Radiance From Raw Data-Reflectance from Radiance Data and Downwelling Irradiance Spectrum-Georectify Airborne Datacube.png\n",
      "Loading input file /media/mha114/Massimal/Bodo_Sandsund/Hyperspectral/20210602/Area/3b_R_rs_GeoRef/Sandsund_May2021_Pika_L_18-Radiance From Raw Data-Reflectance from Radiance Data and Downwelling Irradiance Spectrum-Georectify Airborne Datacube.bip.hdr\n",
      "Saving RGB render of hyperspectral file as /media/mha114/Massimal/Bodo_Sandsund/Hyperspectral/20210602/Area/M_Annotation/RGB_Render_Georef_GlobalStretch/Sandsund_May2021_Pika_L_18-Radiance From Raw Data-Reflectance from Radiance Data and Downwelling Irradiance Spectrum-Georectify Airborne Datacube.png\n",
      "Loading input file /media/mha114/Massimal/Bodo_Sandsund/Hyperspectral/20210602/Area/3b_R_rs_GeoRef/Sandsund_May2021_Pika_L_19-Radiance From Raw Data-Reflectance from Radiance Data and Downwelling Irradiance Spectrum-Georectify Airborne Datacube.bip.hdr\n",
      "Saving RGB render of hyperspectral file as /media/mha114/Massimal/Bodo_Sandsund/Hyperspectral/20210602/Area/M_Annotation/RGB_Render_Georef_GlobalStretch/Sandsund_May2021_Pika_L_19-Radiance From Raw Data-Reflectance from Radiance Data and Downwelling Irradiance Spectrum-Georectify Airborne Datacube.png\n",
      "Loading input file /media/mha114/Massimal/Bodo_Sandsund/Hyperspectral/20210602/Area/3b_R_rs_GeoRef/Sandsund_May2021_Pika_L_2-Radiance From Raw Data-Reflectance from Radiance Data and Downwelling Irradiance Spectrum-Georectify Airborne Datacube.bip.hdr\n",
      "Saving RGB render of hyperspectral file as /media/mha114/Massimal/Bodo_Sandsund/Hyperspectral/20210602/Area/M_Annotation/RGB_Render_Georef_GlobalStretch/Sandsund_May2021_Pika_L_2-Radiance From Raw Data-Reflectance from Radiance Data and Downwelling Irradiance Spectrum-Georectify Airborne Datacube.png\n",
      "Loading input file /media/mha114/Massimal/Bodo_Sandsund/Hyperspectral/20210602/Area/3b_R_rs_GeoRef/Sandsund_May2021_Pika_L_20-Radiance From Raw Data-Reflectance from Radiance Data and Downwelling Irradiance Spectrum-Georectify Airborne Datacube.bip.hdr\n",
      "Saving RGB render of hyperspectral file as /media/mha114/Massimal/Bodo_Sandsund/Hyperspectral/20210602/Area/M_Annotation/RGB_Render_Georef_GlobalStretch/Sandsund_May2021_Pika_L_20-Radiance From Raw Data-Reflectance from Radiance Data and Downwelling Irradiance Spectrum-Georectify Airborne Datacube.png\n",
      "Loading input file /media/mha114/Massimal/Bodo_Sandsund/Hyperspectral/20210602/Area/3b_R_rs_GeoRef/Sandsund_May2021_Pika_L_21-Radiance From Raw Data-Reflectance from Radiance Data and Downwelling Irradiance Spectrum-Georectify Airborne Datacube.bip.hdr\n",
      "Saving RGB render of hyperspectral file as /media/mha114/Massimal/Bodo_Sandsund/Hyperspectral/20210602/Area/M_Annotation/RGB_Render_Georef_GlobalStretch/Sandsund_May2021_Pika_L_21-Radiance From Raw Data-Reflectance from Radiance Data and Downwelling Irradiance Spectrum-Georectify Airborne Datacube.png\n",
      "Loading input file /media/mha114/Massimal/Bodo_Sandsund/Hyperspectral/20210602/Area/3b_R_rs_GeoRef/Sandsund_May2021_Pika_L_22-Radiance From Raw Data-Reflectance from Radiance Data and Downwelling Irradiance Spectrum-Georectify Airborne Datacube.bip.hdr\n",
      "Saving RGB render of hyperspectral file as /media/mha114/Massimal/Bodo_Sandsund/Hyperspectral/20210602/Area/M_Annotation/RGB_Render_Georef_GlobalStretch/Sandsund_May2021_Pika_L_22-Radiance From Raw Data-Reflectance from Radiance Data and Downwelling Irradiance Spectrum-Georectify Airborne Datacube.png\n",
      "Loading input file /media/mha114/Massimal/Bodo_Sandsund/Hyperspectral/20210602/Area/3b_R_rs_GeoRef/Sandsund_May2021_Pika_L_23-Radiance From Raw Data-Reflectance from Radiance Data and Downwelling Irradiance Spectrum-Georectify Airborne Datacube.bip.hdr\n",
      "Saving RGB render of hyperspectral file as /media/mha114/Massimal/Bodo_Sandsund/Hyperspectral/20210602/Area/M_Annotation/RGB_Render_Georef_GlobalStretch/Sandsund_May2021_Pika_L_23-Radiance From Raw Data-Reflectance from Radiance Data and Downwelling Irradiance Spectrum-Georectify Airborne Datacube.png\n",
      "Loading input file /media/mha114/Massimal/Bodo_Sandsund/Hyperspectral/20210602/Area/3b_R_rs_GeoRef/Sandsund_May2021_Pika_L_24-Radiance From Raw Data-Reflectance from Radiance Data and Downwelling Irradiance Spectrum-Georectify Airborne Datacube.bip.hdr\n",
      "Saving RGB render of hyperspectral file as /media/mha114/Massimal/Bodo_Sandsund/Hyperspectral/20210602/Area/M_Annotation/RGB_Render_Georef_GlobalStretch/Sandsund_May2021_Pika_L_24-Radiance From Raw Data-Reflectance from Radiance Data and Downwelling Irradiance Spectrum-Georectify Airborne Datacube.png\n",
      "Loading input file /media/mha114/Massimal/Bodo_Sandsund/Hyperspectral/20210602/Area/3b_R_rs_GeoRef/Sandsund_May2021_Pika_L_25-Radiance From Raw Data-Reflectance from Radiance Data and Downwelling Irradiance Spectrum-Georectify Airborne Datacube.bip.hdr\n",
      "Saving RGB render of hyperspectral file as /media/mha114/Massimal/Bodo_Sandsund/Hyperspectral/20210602/Area/M_Annotation/RGB_Render_Georef_GlobalStretch/Sandsund_May2021_Pika_L_25-Radiance From Raw Data-Reflectance from Radiance Data and Downwelling Irradiance Spectrum-Georectify Airborne Datacube.png\n"
     ]
    },
    {
     "name": "stderr",
     "output_type": "stream",
     "text": [
      "/home/mha114/Dropbox/Python/massimal/tools/batch_process.py:185: UserWarning: /media/mha114/Massimal/Bodo_Sandsund/Hyperspectral/20210602/Area/M_Annotation/RGB_Render_Georef_GlobalStretch/Sandsund_May2021_Pika_L_25-Radiance From Raw Data-Reflectance from Radiance Data and Downwelling Irradiance Spectrum-Georectify Airborne Datacube.png is a low contrast image\n",
      "  skimage.io.imsave(output_file,im_rgb_sc)\n"
     ]
    },
    {
     "name": "stdout",
     "output_type": "stream",
     "text": [
      "Loading input file /media/mha114/Massimal/Bodo_Sandsund/Hyperspectral/20210602/Area/3b_R_rs_GeoRef/Sandsund_May2021_Pika_L_26-Radiance From Raw Data-Reflectance from Radiance Data and Downwelling Irradiance Spectrum-Georectify Airborne Datacube.bip.hdr\n",
      "Saving RGB render of hyperspectral file as /media/mha114/Massimal/Bodo_Sandsund/Hyperspectral/20210602/Area/M_Annotation/RGB_Render_Georef_GlobalStretch/Sandsund_May2021_Pika_L_26-Radiance From Raw Data-Reflectance from Radiance Data and Downwelling Irradiance Spectrum-Georectify Airborne Datacube.png\n",
      "Loading input file /media/mha114/Massimal/Bodo_Sandsund/Hyperspectral/20210602/Area/3b_R_rs_GeoRef/Sandsund_May2021_Pika_L_27-Radiance From Raw Data-Reflectance from Radiance Data and Downwelling Irradiance Spectrum-Georectify Airborne Datacube.bip.hdr\n",
      "Saving RGB render of hyperspectral file as /media/mha114/Massimal/Bodo_Sandsund/Hyperspectral/20210602/Area/M_Annotation/RGB_Render_Georef_GlobalStretch/Sandsund_May2021_Pika_L_27-Radiance From Raw Data-Reflectance from Radiance Data and Downwelling Irradiance Spectrum-Georectify Airborne Datacube.png\n",
      "Loading input file /media/mha114/Massimal/Bodo_Sandsund/Hyperspectral/20210602/Area/3b_R_rs_GeoRef/Sandsund_May2021_Pika_L_28-Radiance From Raw Data-Reflectance from Radiance Data and Downwelling Irradiance Spectrum-Georectify Airborne Datacube.bip.hdr\n",
      "Saving RGB render of hyperspectral file as /media/mha114/Massimal/Bodo_Sandsund/Hyperspectral/20210602/Area/M_Annotation/RGB_Render_Georef_GlobalStretch/Sandsund_May2021_Pika_L_28-Radiance From Raw Data-Reflectance from Radiance Data and Downwelling Irradiance Spectrum-Georectify Airborne Datacube.png\n"
     ]
    },
    {
     "name": "stderr",
     "output_type": "stream",
     "text": [
      "/home/mha114/Dropbox/Python/massimal/tools/batch_process.py:185: UserWarning: /media/mha114/Massimal/Bodo_Sandsund/Hyperspectral/20210602/Area/M_Annotation/RGB_Render_Georef_GlobalStretch/Sandsund_May2021_Pika_L_28-Radiance From Raw Data-Reflectance from Radiance Data and Downwelling Irradiance Spectrum-Georectify Airborne Datacube.png is a low contrast image\n",
      "  skimage.io.imsave(output_file,im_rgb_sc)\n"
     ]
    },
    {
     "name": "stdout",
     "output_type": "stream",
     "text": [
      "Loading input file /media/mha114/Massimal/Bodo_Sandsund/Hyperspectral/20210602/Area/3b_R_rs_GeoRef/Sandsund_May2021_Pika_L_29-Radiance From Raw Data-Reflectance from Radiance Data and Downwelling Irradiance Spectrum-Georectify Airborne Datacube.bip.hdr\n",
      "Saving RGB render of hyperspectral file as /media/mha114/Massimal/Bodo_Sandsund/Hyperspectral/20210602/Area/M_Annotation/RGB_Render_Georef_GlobalStretch/Sandsund_May2021_Pika_L_29-Radiance From Raw Data-Reflectance from Radiance Data and Downwelling Irradiance Spectrum-Georectify Airborne Datacube.png\n"
     ]
    },
    {
     "name": "stderr",
     "output_type": "stream",
     "text": [
      "/home/mha114/Dropbox/Python/massimal/tools/batch_process.py:185: UserWarning: /media/mha114/Massimal/Bodo_Sandsund/Hyperspectral/20210602/Area/M_Annotation/RGB_Render_Georef_GlobalStretch/Sandsund_May2021_Pika_L_29-Radiance From Raw Data-Reflectance from Radiance Data and Downwelling Irradiance Spectrum-Georectify Airborne Datacube.png is a low contrast image\n",
      "  skimage.io.imsave(output_file,im_rgb_sc)\n"
     ]
    },
    {
     "name": "stdout",
     "output_type": "stream",
     "text": [
      "Loading input file /media/mha114/Massimal/Bodo_Sandsund/Hyperspectral/20210602/Area/3b_R_rs_GeoRef/Sandsund_May2021_Pika_L_3-Radiance From Raw Data-Reflectance from Radiance Data and Downwelling Irradiance Spectrum-Georectify Airborne Datacube.bip.hdr\n",
      "Saving RGB render of hyperspectral file as /media/mha114/Massimal/Bodo_Sandsund/Hyperspectral/20210602/Area/M_Annotation/RGB_Render_Georef_GlobalStretch/Sandsund_May2021_Pika_L_3-Radiance From Raw Data-Reflectance from Radiance Data and Downwelling Irradiance Spectrum-Georectify Airborne Datacube.png\n",
      "Loading input file /media/mha114/Massimal/Bodo_Sandsund/Hyperspectral/20210602/Area/3b_R_rs_GeoRef/Sandsund_May2021_Pika_L_30-Radiance From Raw Data-Reflectance from Radiance Data and Downwelling Irradiance Spectrum-Georectify Airborne Datacube.bip.hdr\n",
      "Saving RGB render of hyperspectral file as /media/mha114/Massimal/Bodo_Sandsund/Hyperspectral/20210602/Area/M_Annotation/RGB_Render_Georef_GlobalStretch/Sandsund_May2021_Pika_L_30-Radiance From Raw Data-Reflectance from Radiance Data and Downwelling Irradiance Spectrum-Georectify Airborne Datacube.png\n"
     ]
    },
    {
     "name": "stderr",
     "output_type": "stream",
     "text": [
      "/home/mha114/Dropbox/Python/massimal/tools/batch_process.py:185: UserWarning: /media/mha114/Massimal/Bodo_Sandsund/Hyperspectral/20210602/Area/M_Annotation/RGB_Render_Georef_GlobalStretch/Sandsund_May2021_Pika_L_30-Radiance From Raw Data-Reflectance from Radiance Data and Downwelling Irradiance Spectrum-Georectify Airborne Datacube.png is a low contrast image\n",
      "  skimage.io.imsave(output_file,im_rgb_sc)\n"
     ]
    },
    {
     "name": "stdout",
     "output_type": "stream",
     "text": [
      "Loading input file /media/mha114/Massimal/Bodo_Sandsund/Hyperspectral/20210602/Area/3b_R_rs_GeoRef/Sandsund_May2021_Pika_L_31-Radiance From Raw Data-Reflectance from Radiance Data and Downwelling Irradiance Spectrum-Georectify Airborne Datacube.bip.hdr\n",
      "Saving RGB render of hyperspectral file as /media/mha114/Massimal/Bodo_Sandsund/Hyperspectral/20210602/Area/M_Annotation/RGB_Render_Georef_GlobalStretch/Sandsund_May2021_Pika_L_31-Radiance From Raw Data-Reflectance from Radiance Data and Downwelling Irradiance Spectrum-Georectify Airborne Datacube.png\n",
      "Loading input file /media/mha114/Massimal/Bodo_Sandsund/Hyperspectral/20210602/Area/3b_R_rs_GeoRef/Sandsund_May2021_Pika_L_32-Radiance From Raw Data-Reflectance from Radiance Data and Downwelling Irradiance Spectrum-Georectify Airborne Datacube.bip.hdr\n",
      "Saving RGB render of hyperspectral file as /media/mha114/Massimal/Bodo_Sandsund/Hyperspectral/20210602/Area/M_Annotation/RGB_Render_Georef_GlobalStretch/Sandsund_May2021_Pika_L_32-Radiance From Raw Data-Reflectance from Radiance Data and Downwelling Irradiance Spectrum-Georectify Airborne Datacube.png\n",
      "Loading input file /media/mha114/Massimal/Bodo_Sandsund/Hyperspectral/20210602/Area/3b_R_rs_GeoRef/Sandsund_May2021_Pika_L_4-Radiance From Raw Data-Reflectance from Radiance Data and Downwelling Irradiance Spectrum-Georectify Airborne Datacube.bip.hdr\n",
      "Saving RGB render of hyperspectral file as /media/mha114/Massimal/Bodo_Sandsund/Hyperspectral/20210602/Area/M_Annotation/RGB_Render_Georef_GlobalStretch/Sandsund_May2021_Pika_L_4-Radiance From Raw Data-Reflectance from Radiance Data and Downwelling Irradiance Spectrum-Georectify Airborne Datacube.png\n",
      "Loading input file /media/mha114/Massimal/Bodo_Sandsund/Hyperspectral/20210602/Area/3b_R_rs_GeoRef/Sandsund_May2021_Pika_L_5-Radiance From Raw Data-Reflectance from Radiance Data and Downwelling Irradiance Spectrum-Georectify Airborne Datacube.bip.hdr\n",
      "Saving RGB render of hyperspectral file as /media/mha114/Massimal/Bodo_Sandsund/Hyperspectral/20210602/Area/M_Annotation/RGB_Render_Georef_GlobalStretch/Sandsund_May2021_Pika_L_5-Radiance From Raw Data-Reflectance from Radiance Data and Downwelling Irradiance Spectrum-Georectify Airborne Datacube.png\n",
      "Loading input file /media/mha114/Massimal/Bodo_Sandsund/Hyperspectral/20210602/Area/3b_R_rs_GeoRef/Sandsund_May2021_Pika_L_6-Radiance From Raw Data-Reflectance from Radiance Data and Downwelling Irradiance Spectrum-Georectify Airborne Datacube.bip.hdr\n",
      "Saving RGB render of hyperspectral file as /media/mha114/Massimal/Bodo_Sandsund/Hyperspectral/20210602/Area/M_Annotation/RGB_Render_Georef_GlobalStretch/Sandsund_May2021_Pika_L_6-Radiance From Raw Data-Reflectance from Radiance Data and Downwelling Irradiance Spectrum-Georectify Airborne Datacube.png\n",
      "Loading input file /media/mha114/Massimal/Bodo_Sandsund/Hyperspectral/20210602/Area/3b_R_rs_GeoRef/Sandsund_May2021_Pika_L_7-Radiance From Raw Data-Reflectance from Radiance Data and Downwelling Irradiance Spectrum-Georectify Airborne Datacube.bip.hdr\n",
      "Saving RGB render of hyperspectral file as /media/mha114/Massimal/Bodo_Sandsund/Hyperspectral/20210602/Area/M_Annotation/RGB_Render_Georef_GlobalStretch/Sandsund_May2021_Pika_L_7-Radiance From Raw Data-Reflectance from Radiance Data and Downwelling Irradiance Spectrum-Georectify Airborne Datacube.png\n",
      "Loading input file /media/mha114/Massimal/Bodo_Sandsund/Hyperspectral/20210602/Area/3b_R_rs_GeoRef/Sandsund_May2021_Pika_L_8-Radiance From Raw Data-Reflectance from Radiance Data and Downwelling Irradiance Spectrum-Georectify Airborne Datacube.bip.hdr\n",
      "Saving RGB render of hyperspectral file as /media/mha114/Massimal/Bodo_Sandsund/Hyperspectral/20210602/Area/M_Annotation/RGB_Render_Georef_GlobalStretch/Sandsund_May2021_Pika_L_8-Radiance From Raw Data-Reflectance from Radiance Data and Downwelling Irradiance Spectrum-Georectify Airborne Datacube.png\n",
      "Loading input file /media/mha114/Massimal/Bodo_Sandsund/Hyperspectral/20210602/Area/3b_R_rs_GeoRef/Sandsund_May2021_Pika_L_9-Radiance From Raw Data-Reflectance from Radiance Data and Downwelling Irradiance Spectrum-Georectify Airborne Datacube.bip.hdr\n",
      "Saving RGB render of hyperspectral file as /media/mha114/Massimal/Bodo_Sandsund/Hyperspectral/20210602/Area/M_Annotation/RGB_Render_Georef_GlobalStretch/Sandsund_May2021_Pika_L_9-Radiance From Raw Data-Reflectance from Radiance Data and Downwelling Irradiance Spectrum-Georectify Airborne Datacube.png\n"
     ]
    }
   ],
   "source": [
    "batch_process.envi_rgb_render(input_dir=image_dir,output_dir=out_dir,inpaint=True,limits = pct_limits)"
   ]
  }
 ],
 "metadata": {
  "kernelspec": {
   "display_name": "Python 3 (ipykernel)",
   "language": "python",
   "name": "python3"
  },
  "language_info": {
   "codemirror_mode": {
    "name": "ipython",
    "version": 3
   },
   "file_extension": ".py",
   "mimetype": "text/x-python",
   "name": "python",
   "nbconvert_exporter": "python",
   "pygments_lexer": "ipython3",
   "version": "3.9.12"
  }
 },
 "nbformat": 4,
 "nbformat_minor": 5
}
