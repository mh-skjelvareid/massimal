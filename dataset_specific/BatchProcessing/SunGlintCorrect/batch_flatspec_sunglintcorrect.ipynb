{
 "cells": [
  {
   "cell_type": "code",
   "execution_count": 1,
   "metadata": {},
   "outputs": [],
   "source": [
    "#%% Imports\n",
    "from pathlib import Path\n",
    "import numpy as np\n",
    "import skimage.io\n",
    "from tqdm import tqdm\n",
    "\n",
    "# Import \"local\" packages\n",
    "import hyspec_io, preprocess, image_render"
   ]
  },
  {
   "cell_type": "code",
   "execution_count": 2,
   "metadata": {},
   "outputs": [],
   "source": [
    "# Parameters\n",
    "nir_band = (730,800)"
   ]
  },
  {
   "cell_type": "code",
   "execution_count": 3,
   "metadata": {},
   "outputs": [],
   "source": [
    "# Paths\n",
    "image_dirs = [Path('/media/mha114/Massimal2/Massimal/Smola_Maholmen/Hyperspectral/20230621/2a_Rrs'),\n",
    "              Path('/media/mha114/Massimal2/Massimal/Smola_Skalmen/Hyperspectral/20230620/2a_Rrs'),\n",
    "              Path('/media/mha114/Massimal2/Massimal/Larvik_Olberg/Hyperspectral/20230830/2_Rrs'),\n",
    "              Path('/media/mha114/Massimal2/Massimal/Larvik_Kongsbakkebukta/Hyperspectral/20230830/2_Rrs')]"
   ]
  },
  {
   "cell_type": "code",
   "execution_count": 4,
   "metadata": {},
   "outputs": [
    {
     "name": "stdout",
     "output_type": "stream",
     "text": [
      "Processing files in /media/mha114/Massimal2/Massimal/Smola_Maholmen/Hyperspectral/20230621/2a_Rrs\n"
     ]
    },
    {
     "name": "stderr",
     "output_type": "stream",
     "text": [
      "100%|██████████| 6/6 [01:54<00:00, 19.09s/it]\n"
     ]
    },
    {
     "name": "stdout",
     "output_type": "stream",
     "text": [
      "Processing files in /media/mha114/Massimal2/Massimal/Smola_Skalmen/Hyperspectral/20230620/2a_Rrs\n"
     ]
    },
    {
     "name": "stderr",
     "output_type": "stream",
     "text": [
      "100%|██████████| 8/8 [02:21<00:00, 17.72s/it]\n"
     ]
    },
    {
     "name": "stdout",
     "output_type": "stream",
     "text": [
      "Processing files in /media/mha114/Massimal2/Massimal/Larvik_Olberg/Hyperspectral/20230830/2_Rrs\n"
     ]
    },
    {
     "name": "stderr",
     "output_type": "stream",
     "text": [
      "100%|██████████| 3/3 [01:02<00:00, 20.94s/it]\n"
     ]
    },
    {
     "name": "stdout",
     "output_type": "stream",
     "text": [
      "Processing files in /media/mha114/Massimal2/Massimal/Larvik_Kongsbakkebukta/Hyperspectral/20230830/2_Rrs\n"
     ]
    },
    {
     "name": "stderr",
     "output_type": "stream",
     "text": [
      "  0%|          | 0/2 [00:00<?, ?it/s]/tmp/ipykernel_1068658/2793951330.py:31: UserWarning: /media/mha114/Massimal2/Massimal/Larvik_Kongsbakkebukta/Hyperspectral/20230830/3a_Rrs_FSSGC/Kongsbakkebukta_Pika_L_1-Crop Wavelengths.png is a low contrast image\n",
      "  skimage.io.imsave(rgg_image_save_path,image_rgb)\n",
      " 50%|█████     | 1/2 [00:19<00:19, 19.19s/it]/tmp/ipykernel_1068658/2793951330.py:31: UserWarning: /media/mha114/Massimal2/Massimal/Larvik_Kongsbakkebukta/Hyperspectral/20230830/3a_Rrs_FSSGC/Kongsbakkebukta_Pika_L_4-Crop Wavelengths.png is a low contrast image\n",
      "  skimage.io.imsave(rgg_image_save_path,image_rgb)\n",
      "100%|██████████| 2/2 [00:34<00:00, 17.03s/it]\n"
     ]
    }
   ],
   "source": [
    "for image_dir in image_dirs:\n",
    "    print(f'Processing files in {image_dir}')\n",
    "    # Create output dir\n",
    "    image_output_dir = image_dir.parent / '3a_Rrs_FSSGC'\n",
    "    image_output_dir.mkdir(exist_ok=True)\n",
    "    \n",
    "    # Find hyperspectral images\n",
    "    image_paths = sorted(image_dir.glob('*.hdr'))\n",
    "    \n",
    "    for image_path in tqdm(image_paths):\n",
    "        # Load image\n",
    "        (image,wl,rgb_ind,metadata) = hyspec_io.load_envi_image(image_path)\n",
    "        \n",
    "        # Remove glint\n",
    "        image_noglint = preprocess.remove_glint_flatspec(image,wl,nir_band=nir_band)\n",
    "\n",
    "        # Save hyspec image\n",
    "        image_save_path = image_output_dir / image_path.name\n",
    "        hyspec_io.save_envi_image(image_save_path,image_noglint,metadata)\n",
    "\n",
    "        # Create RGB version (percentile stretch)\n",
    "        image_rgb = image_render.percentile_stretch(image_noglint[:,:,rgb_ind])\n",
    "        image_rgb = np.uint8(image_rgb*255)  # Convert to 8-bit int\n",
    "        transparency_layer = np.ones(shape=(image_rgb.shape[0:2])+(1,),dtype=np.uint8)*255\n",
    "        image_rgb = np.concatenate((image_rgb,transparency_layer),axis=2)\n",
    "\n",
    "        # Save RGB image\n",
    "        hyspec_base_name = image_path.name.split('.')[0]\n",
    "        rgg_image_save_path = image_output_dir / (hyspec_base_name + '.png')\n",
    "        skimage.io.imsave(rgg_image_save_path,image_rgb,check_contrast=False)\n"
   ]
  }
 ],
 "metadata": {
  "kernelspec": {
   "display_name": "massimal",
   "language": "python",
   "name": "python3"
  },
  "language_info": {
   "codemirror_mode": {
    "name": "ipython",
    "version": 3
   },
   "file_extension": ".py",
   "mimetype": "text/x-python",
   "name": "python",
   "nbconvert_exporter": "python",
   "pygments_lexer": "ipython3",
   "version": "3.11.7"
  }
 },
 "nbformat": 4,
 "nbformat_minor": 2
}
