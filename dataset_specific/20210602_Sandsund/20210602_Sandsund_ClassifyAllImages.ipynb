{
 "cells": [
  {
   "cell_type": "code",
   "execution_count": 2,
   "id": "d5575298",
   "metadata": {},
   "outputs": [],
   "source": [
    "# Imports\n",
    "import os\n",
    "import numpy as np\n",
    "import matplotlib.pyplot as plt\n",
    "import skimage.io\n",
    "import json\n",
    "import copy\n",
    "\n",
    "from sklearn.preprocessing import StandardScaler\n",
    "from sklearn.decomposition import PCA\n",
    "from sklearn.ensemble import RandomForestClassifier\n",
    "from imblearn.ensemble import BalancedRandomForestClassifier\n",
    "from imblearn.under_sampling import RandomUnderSampler\n",
    "from sklearn.pipeline import make_pipeline\n",
    "from sklearn.cluster import KMeans\n",
    "\n",
    "from sklearn.metrics import classification_report\n",
    "from sklearn.metrics import confusion_matrix\n",
    "from sklearn.metrics import ConfusionMatrixDisplay\n",
    "\n",
    "\n",
    "import annotation, image_render, hyspec_io, hyspec_ml, batch_process, misc, preprocess"
   ]
  },
  {
   "cell_type": "code",
   "execution_count": 8,
   "id": "e1a00f36",
   "metadata": {},
   "outputs": [],
   "source": [
    "# Paths\n",
    "hyspec_dir = \"/media/mha114/Massimal/Bodo_Sandsund/Hyperspectral/20210602/Area/3b_R_rs_GeoRef\"\n",
    "annotation_json = \"/media/mha114/Massimal/Bodo_Sandsund/Hyperspectral/20210602/Area/M_Annotation/label_classes.json\"\n",
    "annotation_image_dir = \"/media/mha114/Massimal/Bodo_Sandsund/Hyperspectral/20210602/Area/M_Annotation/All\"\n",
    "classifier_file = \"/media/mha114/Massimal/Bodo_Sandsund/Hyperspectral/20210602/Area/M_Classification/Classifiers/Sandsund_20210602_SimpleRF\"\n",
    "\n",
    "classification_results_dir = \"/media/mha114/Massimal/Bodo_Sandsund/Hyperspectral/20210602/Area/M_Classification/Results\""
   ]
  },
  {
   "cell_type": "code",
   "execution_count": 3,
   "id": "8cc99bbc",
   "metadata": {},
   "outputs": [],
   "source": [
    "# Read class dictionary\n",
    "class_dict = annotation.read_hasty_metadata(annotation_json)"
   ]
  },
  {
   "cell_type": "code",
   "execution_count": 6,
   "id": "e43e1e35",
   "metadata": {},
   "outputs": [],
   "source": [
    "# Load classifier from file\n",
    "classifier = misc.pickle_load_data(classifier_file)"
   ]
  },
  {
   "cell_type": "code",
   "execution_count": 7,
   "id": "369f43b4",
   "metadata": {},
   "outputs": [
    {
     "data": {
      "text/plain": [
       "Pipeline(steps=[('wavelengthselector',\n",
       "                 WavelengthSelector(wl=array([ 390.86,  392.87,  394.88,  396.89,  398.9 ,  400.91,  402.92,\n",
       "        404.93,  406.94,  408.96,  410.97,  412.99,  415.  ,  417.02,\n",
       "        419.04,  421.06,  423.08,  425.1 ,  427.12,  429.14,  431.17,\n",
       "        433.19,  435.22,  437.24,  439.27,  441.3 ,  443.33,  445.36,\n",
       "        447.39,  449.42,  451.45,  453.49,  455.52,  457.56,  459.59,\n",
       "        461.63,  463.67,  465.71,  467.75,  469.79,  471.83,  4...\n",
       "        956.09,  958.33,  960.58,  962.82,  965.07,  967.32,  969.56,\n",
       "        971.81,  974.06,  976.31,  978.57,  980.82,  983.07,  985.33,\n",
       "        987.58,  989.84,  992.1 ,  994.36,  996.62,  998.88, 1001.14,\n",
       "       1003.4 , 1005.66, 1007.92, 1010.19, 1012.45, 1014.72, 1016.99,\n",
       "       1019.26, 1021.52, 1023.79, 1026.07, 1028.34, 1030.61]),\n",
       "                                    wl_max=900, wl_min=400)),\n",
       "                ('standardscaler', StandardScaler()),\n",
       "                ('pca', PCA(n_components=7)),\n",
       "                ('randomforestclassifier', RandomForestClassifier())])"
      ]
     },
     "execution_count": 7,
     "metadata": {},
     "output_type": "execute_result"
    }
   ],
   "source": [
    "classifier"
   ]
  },
  {
   "cell_type": "code",
   "execution_count": 4,
   "id": "94d8d5d5",
   "metadata": {},
   "outputs": [],
   "source": [
    "# Get all hyperspectral files\n",
    "hyspec_files = misc.file_pattern_search(hyspec_dir,'*.hdr')"
   ]
  },
  {
   "cell_type": "code",
   "execution_count": 5,
   "id": "0a70c149",
   "metadata": {},
   "outputs": [
    {
     "data": {
      "text/plain": [
       "['/media/mha114/Massimal/Bodo_Sandsund/Hyperspectral/20210602/Area/3b_R_rs_GeoRef/Sandsund_May2021_Pika_L_10-Radiance From Raw Data-Reflectance from Radiance Data and Downwelling Irradiance Spectrum-Georectify Airborne Datacube.bip.hdr',\n",
       " '/media/mha114/Massimal/Bodo_Sandsund/Hyperspectral/20210602/Area/3b_R_rs_GeoRef/Sandsund_May2021_Pika_L_11-Radiance From Raw Data-Reflectance from Radiance Data and Downwelling Irradiance Spectrum-Georectify Airborne Datacube.bip.hdr',\n",
       " '/media/mha114/Massimal/Bodo_Sandsund/Hyperspectral/20210602/Area/3b_R_rs_GeoRef/Sandsund_May2021_Pika_L_12-Radiance From Raw Data-Reflectance from Radiance Data and Downwelling Irradiance Spectrum-Georectify Airborne Datacube.bip.hdr',\n",
       " '/media/mha114/Massimal/Bodo_Sandsund/Hyperspectral/20210602/Area/3b_R_rs_GeoRef/Sandsund_May2021_Pika_L_13-Radiance From Raw Data-Reflectance from Radiance Data and Downwelling Irradiance Spectrum-Georectify Airborne Datacube.bip.hdr',\n",
       " '/media/mha114/Massimal/Bodo_Sandsund/Hyperspectral/20210602/Area/3b_R_rs_GeoRef/Sandsund_May2021_Pika_L_14-Radiance From Raw Data-Reflectance from Radiance Data and Downwelling Irradiance Spectrum-Georectify Airborne Datacube.bip.hdr',\n",
       " '/media/mha114/Massimal/Bodo_Sandsund/Hyperspectral/20210602/Area/3b_R_rs_GeoRef/Sandsund_May2021_Pika_L_15-Radiance From Raw Data-Reflectance from Radiance Data and Downwelling Irradiance Spectrum-Georectify Airborne Datacube.bip.hdr',\n",
       " '/media/mha114/Massimal/Bodo_Sandsund/Hyperspectral/20210602/Area/3b_R_rs_GeoRef/Sandsund_May2021_Pika_L_16-Radiance From Raw Data-Reflectance from Radiance Data and Downwelling Irradiance Spectrum-Georectify Airborne Datacube.bip.hdr',\n",
       " '/media/mha114/Massimal/Bodo_Sandsund/Hyperspectral/20210602/Area/3b_R_rs_GeoRef/Sandsund_May2021_Pika_L_17-Radiance From Raw Data-Reflectance from Radiance Data and Downwelling Irradiance Spectrum-Georectify Airborne Datacube.bip.hdr',\n",
       " '/media/mha114/Massimal/Bodo_Sandsund/Hyperspectral/20210602/Area/3b_R_rs_GeoRef/Sandsund_May2021_Pika_L_18-Radiance From Raw Data-Reflectance from Radiance Data and Downwelling Irradiance Spectrum-Georectify Airborne Datacube.bip.hdr',\n",
       " '/media/mha114/Massimal/Bodo_Sandsund/Hyperspectral/20210602/Area/3b_R_rs_GeoRef/Sandsund_May2021_Pika_L_19-Radiance From Raw Data-Reflectance from Radiance Data and Downwelling Irradiance Spectrum-Georectify Airborne Datacube.bip.hdr',\n",
       " '/media/mha114/Massimal/Bodo_Sandsund/Hyperspectral/20210602/Area/3b_R_rs_GeoRef/Sandsund_May2021_Pika_L_2-Radiance From Raw Data-Reflectance from Radiance Data and Downwelling Irradiance Spectrum-Georectify Airborne Datacube.bip.hdr',\n",
       " '/media/mha114/Massimal/Bodo_Sandsund/Hyperspectral/20210602/Area/3b_R_rs_GeoRef/Sandsund_May2021_Pika_L_20-Radiance From Raw Data-Reflectance from Radiance Data and Downwelling Irradiance Spectrum-Georectify Airborne Datacube.bip.hdr',\n",
       " '/media/mha114/Massimal/Bodo_Sandsund/Hyperspectral/20210602/Area/3b_R_rs_GeoRef/Sandsund_May2021_Pika_L_21-Radiance From Raw Data-Reflectance from Radiance Data and Downwelling Irradiance Spectrum-Georectify Airborne Datacube.bip.hdr',\n",
       " '/media/mha114/Massimal/Bodo_Sandsund/Hyperspectral/20210602/Area/3b_R_rs_GeoRef/Sandsund_May2021_Pika_L_22-Radiance From Raw Data-Reflectance from Radiance Data and Downwelling Irradiance Spectrum-Georectify Airborne Datacube.bip.hdr',\n",
       " '/media/mha114/Massimal/Bodo_Sandsund/Hyperspectral/20210602/Area/3b_R_rs_GeoRef/Sandsund_May2021_Pika_L_23-Radiance From Raw Data-Reflectance from Radiance Data and Downwelling Irradiance Spectrum-Georectify Airborne Datacube.bip.hdr',\n",
       " '/media/mha114/Massimal/Bodo_Sandsund/Hyperspectral/20210602/Area/3b_R_rs_GeoRef/Sandsund_May2021_Pika_L_24-Radiance From Raw Data-Reflectance from Radiance Data and Downwelling Irradiance Spectrum-Georectify Airborne Datacube.bip.hdr',\n",
       " '/media/mha114/Massimal/Bodo_Sandsund/Hyperspectral/20210602/Area/3b_R_rs_GeoRef/Sandsund_May2021_Pika_L_25-Radiance From Raw Data-Reflectance from Radiance Data and Downwelling Irradiance Spectrum-Georectify Airborne Datacube.bip.hdr',\n",
       " '/media/mha114/Massimal/Bodo_Sandsund/Hyperspectral/20210602/Area/3b_R_rs_GeoRef/Sandsund_May2021_Pika_L_26-Radiance From Raw Data-Reflectance from Radiance Data and Downwelling Irradiance Spectrum-Georectify Airborne Datacube.bip.hdr',\n",
       " '/media/mha114/Massimal/Bodo_Sandsund/Hyperspectral/20210602/Area/3b_R_rs_GeoRef/Sandsund_May2021_Pika_L_27-Radiance From Raw Data-Reflectance from Radiance Data and Downwelling Irradiance Spectrum-Georectify Airborne Datacube.bip.hdr',\n",
       " '/media/mha114/Massimal/Bodo_Sandsund/Hyperspectral/20210602/Area/3b_R_rs_GeoRef/Sandsund_May2021_Pika_L_28-Radiance From Raw Data-Reflectance from Radiance Data and Downwelling Irradiance Spectrum-Georectify Airborne Datacube.bip.hdr',\n",
       " '/media/mha114/Massimal/Bodo_Sandsund/Hyperspectral/20210602/Area/3b_R_rs_GeoRef/Sandsund_May2021_Pika_L_29-Radiance From Raw Data-Reflectance from Radiance Data and Downwelling Irradiance Spectrum-Georectify Airborne Datacube.bip.hdr',\n",
       " '/media/mha114/Massimal/Bodo_Sandsund/Hyperspectral/20210602/Area/3b_R_rs_GeoRef/Sandsund_May2021_Pika_L_3-Radiance From Raw Data-Reflectance from Radiance Data and Downwelling Irradiance Spectrum-Georectify Airborne Datacube.bip.hdr',\n",
       " '/media/mha114/Massimal/Bodo_Sandsund/Hyperspectral/20210602/Area/3b_R_rs_GeoRef/Sandsund_May2021_Pika_L_30-Radiance From Raw Data-Reflectance from Radiance Data and Downwelling Irradiance Spectrum-Georectify Airborne Datacube.bip.hdr',\n",
       " '/media/mha114/Massimal/Bodo_Sandsund/Hyperspectral/20210602/Area/3b_R_rs_GeoRef/Sandsund_May2021_Pika_L_31-Radiance From Raw Data-Reflectance from Radiance Data and Downwelling Irradiance Spectrum-Georectify Airborne Datacube.bip.hdr',\n",
       " '/media/mha114/Massimal/Bodo_Sandsund/Hyperspectral/20210602/Area/3b_R_rs_GeoRef/Sandsund_May2021_Pika_L_32-Radiance From Raw Data-Reflectance from Radiance Data and Downwelling Irradiance Spectrum-Georectify Airborne Datacube.bip.hdr',\n",
       " '/media/mha114/Massimal/Bodo_Sandsund/Hyperspectral/20210602/Area/3b_R_rs_GeoRef/Sandsund_May2021_Pika_L_4-Radiance From Raw Data-Reflectance from Radiance Data and Downwelling Irradiance Spectrum-Georectify Airborne Datacube.bip.hdr',\n",
       " '/media/mha114/Massimal/Bodo_Sandsund/Hyperspectral/20210602/Area/3b_R_rs_GeoRef/Sandsund_May2021_Pika_L_5-Radiance From Raw Data-Reflectance from Radiance Data and Downwelling Irradiance Spectrum-Georectify Airborne Datacube.bip.hdr',\n",
       " '/media/mha114/Massimal/Bodo_Sandsund/Hyperspectral/20210602/Area/3b_R_rs_GeoRef/Sandsund_May2021_Pika_L_6-Radiance From Raw Data-Reflectance from Radiance Data and Downwelling Irradiance Spectrum-Georectify Airborne Datacube.bip.hdr',\n",
       " '/media/mha114/Massimal/Bodo_Sandsund/Hyperspectral/20210602/Area/3b_R_rs_GeoRef/Sandsund_May2021_Pika_L_7-Radiance From Raw Data-Reflectance from Radiance Data and Downwelling Irradiance Spectrum-Georectify Airborne Datacube.bip.hdr',\n",
       " '/media/mha114/Massimal/Bodo_Sandsund/Hyperspectral/20210602/Area/3b_R_rs_GeoRef/Sandsund_May2021_Pika_L_8-Radiance From Raw Data-Reflectance from Radiance Data and Downwelling Irradiance Spectrum-Georectify Airborne Datacube.bip.hdr',\n",
       " '/media/mha114/Massimal/Bodo_Sandsund/Hyperspectral/20210602/Area/3b_R_rs_GeoRef/Sandsund_May2021_Pika_L_9-Radiance From Raw Data-Reflectance from Radiance Data and Downwelling Irradiance Spectrum-Georectify Airborne Datacube.bip.hdr']"
      ]
     },
     "execution_count": 5,
     "metadata": {},
     "output_type": "execute_result"
    }
   ],
   "source": [
    "hyspec_files"
   ]
  },
  {
   "cell_type": "code",
   "execution_count": 9,
   "id": "06b2ba4c",
   "metadata": {},
   "outputs": [],
   "source": [
    "classification_files = misc.build_newdir_filepath(hyspec_files,classification_results_dir)"
   ]
  },
  {
   "cell_type": "code",
   "execution_count": 11,
   "id": "f0501ede",
   "metadata": {},
   "outputs": [
    {
     "name": "stdout",
     "output_type": "stream",
     "text": [
      "Loading file /media/mha114/Massimal/Bodo_Sandsund/Hyperspectral/20210602/Area/3b_R_rs_GeoRef/Sandsund_May2021_Pika_L_10-Radiance From Raw Data-Reflectance from Radiance Data and Downwelling Irradiance Spectrum-Georectify Airborne Datacube.bip.hdr\n",
      "Saving result to /media/mha114/Massimal/Bodo_Sandsund/Hyperspectral/20210602/Area/M_Classification/Results/Sandsund_May2021_Pika_L_10-Radiance From Raw Data-Reflectance from Radiance Data and Downwelling Irradiance Spectrum-Georectify Airborne Datacube.bip.hdr\n",
      "Loading file /media/mha114/Massimal/Bodo_Sandsund/Hyperspectral/20210602/Area/3b_R_rs_GeoRef/Sandsund_May2021_Pika_L_11-Radiance From Raw Data-Reflectance from Radiance Data and Downwelling Irradiance Spectrum-Georectify Airborne Datacube.bip.hdr\n",
      "Saving result to /media/mha114/Massimal/Bodo_Sandsund/Hyperspectral/20210602/Area/M_Classification/Results/Sandsund_May2021_Pika_L_11-Radiance From Raw Data-Reflectance from Radiance Data and Downwelling Irradiance Spectrum-Georectify Airborne Datacube.bip.hdr\n",
      "Loading file /media/mha114/Massimal/Bodo_Sandsund/Hyperspectral/20210602/Area/3b_R_rs_GeoRef/Sandsund_May2021_Pika_L_12-Radiance From Raw Data-Reflectance from Radiance Data and Downwelling Irradiance Spectrum-Georectify Airborne Datacube.bip.hdr\n",
      "Saving result to /media/mha114/Massimal/Bodo_Sandsund/Hyperspectral/20210602/Area/M_Classification/Results/Sandsund_May2021_Pika_L_12-Radiance From Raw Data-Reflectance from Radiance Data and Downwelling Irradiance Spectrum-Georectify Airborne Datacube.bip.hdr\n",
      "Loading file /media/mha114/Massimal/Bodo_Sandsund/Hyperspectral/20210602/Area/3b_R_rs_GeoRef/Sandsund_May2021_Pika_L_13-Radiance From Raw Data-Reflectance from Radiance Data and Downwelling Irradiance Spectrum-Georectify Airborne Datacube.bip.hdr\n",
      "Saving result to /media/mha114/Massimal/Bodo_Sandsund/Hyperspectral/20210602/Area/M_Classification/Results/Sandsund_May2021_Pika_L_13-Radiance From Raw Data-Reflectance from Radiance Data and Downwelling Irradiance Spectrum-Georectify Airborne Datacube.bip.hdr\n",
      "Loading file /media/mha114/Massimal/Bodo_Sandsund/Hyperspectral/20210602/Area/3b_R_rs_GeoRef/Sandsund_May2021_Pika_L_14-Radiance From Raw Data-Reflectance from Radiance Data and Downwelling Irradiance Spectrum-Georectify Airborne Datacube.bip.hdr\n",
      "Saving result to /media/mha114/Massimal/Bodo_Sandsund/Hyperspectral/20210602/Area/M_Classification/Results/Sandsund_May2021_Pika_L_14-Radiance From Raw Data-Reflectance from Radiance Data and Downwelling Irradiance Spectrum-Georectify Airborne Datacube.bip.hdr\n",
      "Loading file /media/mha114/Massimal/Bodo_Sandsund/Hyperspectral/20210602/Area/3b_R_rs_GeoRef/Sandsund_May2021_Pika_L_15-Radiance From Raw Data-Reflectance from Radiance Data and Downwelling Irradiance Spectrum-Georectify Airborne Datacube.bip.hdr\n",
      "Saving result to /media/mha114/Massimal/Bodo_Sandsund/Hyperspectral/20210602/Area/M_Classification/Results/Sandsund_May2021_Pika_L_15-Radiance From Raw Data-Reflectance from Radiance Data and Downwelling Irradiance Spectrum-Georectify Airborne Datacube.bip.hdr\n",
      "Loading file /media/mha114/Massimal/Bodo_Sandsund/Hyperspectral/20210602/Area/3b_R_rs_GeoRef/Sandsund_May2021_Pika_L_16-Radiance From Raw Data-Reflectance from Radiance Data and Downwelling Irradiance Spectrum-Georectify Airborne Datacube.bip.hdr\n",
      "Saving result to /media/mha114/Massimal/Bodo_Sandsund/Hyperspectral/20210602/Area/M_Classification/Results/Sandsund_May2021_Pika_L_16-Radiance From Raw Data-Reflectance from Radiance Data and Downwelling Irradiance Spectrum-Georectify Airborne Datacube.bip.hdr\n",
      "Loading file /media/mha114/Massimal/Bodo_Sandsund/Hyperspectral/20210602/Area/3b_R_rs_GeoRef/Sandsund_May2021_Pika_L_17-Radiance From Raw Data-Reflectance from Radiance Data and Downwelling Irradiance Spectrum-Georectify Airborne Datacube.bip.hdr\n",
      "Saving result to /media/mha114/Massimal/Bodo_Sandsund/Hyperspectral/20210602/Area/M_Classification/Results/Sandsund_May2021_Pika_L_17-Radiance From Raw Data-Reflectance from Radiance Data and Downwelling Irradiance Spectrum-Georectify Airborne Datacube.bip.hdr\n",
      "Loading file /media/mha114/Massimal/Bodo_Sandsund/Hyperspectral/20210602/Area/3b_R_rs_GeoRef/Sandsund_May2021_Pika_L_18-Radiance From Raw Data-Reflectance from Radiance Data and Downwelling Irradiance Spectrum-Georectify Airborne Datacube.bip.hdr\n",
      "Saving result to /media/mha114/Massimal/Bodo_Sandsund/Hyperspectral/20210602/Area/M_Classification/Results/Sandsund_May2021_Pika_L_18-Radiance From Raw Data-Reflectance from Radiance Data and Downwelling Irradiance Spectrum-Georectify Airborne Datacube.bip.hdr\n",
      "Loading file /media/mha114/Massimal/Bodo_Sandsund/Hyperspectral/20210602/Area/3b_R_rs_GeoRef/Sandsund_May2021_Pika_L_19-Radiance From Raw Data-Reflectance from Radiance Data and Downwelling Irradiance Spectrum-Georectify Airborne Datacube.bip.hdr\n",
      "Saving result to /media/mha114/Massimal/Bodo_Sandsund/Hyperspectral/20210602/Area/M_Classification/Results/Sandsund_May2021_Pika_L_19-Radiance From Raw Data-Reflectance from Radiance Data and Downwelling Irradiance Spectrum-Georectify Airborne Datacube.bip.hdr\n",
      "Loading file /media/mha114/Massimal/Bodo_Sandsund/Hyperspectral/20210602/Area/3b_R_rs_GeoRef/Sandsund_May2021_Pika_L_2-Radiance From Raw Data-Reflectance from Radiance Data and Downwelling Irradiance Spectrum-Georectify Airborne Datacube.bip.hdr\n",
      "Saving result to /media/mha114/Massimal/Bodo_Sandsund/Hyperspectral/20210602/Area/M_Classification/Results/Sandsund_May2021_Pika_L_2-Radiance From Raw Data-Reflectance from Radiance Data and Downwelling Irradiance Spectrum-Georectify Airborne Datacube.bip.hdr\n",
      "Loading file /media/mha114/Massimal/Bodo_Sandsund/Hyperspectral/20210602/Area/3b_R_rs_GeoRef/Sandsund_May2021_Pika_L_20-Radiance From Raw Data-Reflectance from Radiance Data and Downwelling Irradiance Spectrum-Georectify Airborne Datacube.bip.hdr\n",
      "Saving result to /media/mha114/Massimal/Bodo_Sandsund/Hyperspectral/20210602/Area/M_Classification/Results/Sandsund_May2021_Pika_L_20-Radiance From Raw Data-Reflectance from Radiance Data and Downwelling Irradiance Spectrum-Georectify Airborne Datacube.bip.hdr\n",
      "Loading file /media/mha114/Massimal/Bodo_Sandsund/Hyperspectral/20210602/Area/3b_R_rs_GeoRef/Sandsund_May2021_Pika_L_21-Radiance From Raw Data-Reflectance from Radiance Data and Downwelling Irradiance Spectrum-Georectify Airborne Datacube.bip.hdr\n",
      "Saving result to /media/mha114/Massimal/Bodo_Sandsund/Hyperspectral/20210602/Area/M_Classification/Results/Sandsund_May2021_Pika_L_21-Radiance From Raw Data-Reflectance from Radiance Data and Downwelling Irradiance Spectrum-Georectify Airborne Datacube.bip.hdr\n",
      "Loading file /media/mha114/Massimal/Bodo_Sandsund/Hyperspectral/20210602/Area/3b_R_rs_GeoRef/Sandsund_May2021_Pika_L_22-Radiance From Raw Data-Reflectance from Radiance Data and Downwelling Irradiance Spectrum-Georectify Airborne Datacube.bip.hdr\n",
      "Saving result to /media/mha114/Massimal/Bodo_Sandsund/Hyperspectral/20210602/Area/M_Classification/Results/Sandsund_May2021_Pika_L_22-Radiance From Raw Data-Reflectance from Radiance Data and Downwelling Irradiance Spectrum-Georectify Airborne Datacube.bip.hdr\n",
      "Loading file /media/mha114/Massimal/Bodo_Sandsund/Hyperspectral/20210602/Area/3b_R_rs_GeoRef/Sandsund_May2021_Pika_L_23-Radiance From Raw Data-Reflectance from Radiance Data and Downwelling Irradiance Spectrum-Georectify Airborne Datacube.bip.hdr\n",
      "Saving result to /media/mha114/Massimal/Bodo_Sandsund/Hyperspectral/20210602/Area/M_Classification/Results/Sandsund_May2021_Pika_L_23-Radiance From Raw Data-Reflectance from Radiance Data and Downwelling Irradiance Spectrum-Georectify Airborne Datacube.bip.hdr\n",
      "Loading file /media/mha114/Massimal/Bodo_Sandsund/Hyperspectral/20210602/Area/3b_R_rs_GeoRef/Sandsund_May2021_Pika_L_24-Radiance From Raw Data-Reflectance from Radiance Data and Downwelling Irradiance Spectrum-Georectify Airborne Datacube.bip.hdr\n",
      "Saving result to /media/mha114/Massimal/Bodo_Sandsund/Hyperspectral/20210602/Area/M_Classification/Results/Sandsund_May2021_Pika_L_24-Radiance From Raw Data-Reflectance from Radiance Data and Downwelling Irradiance Spectrum-Georectify Airborne Datacube.bip.hdr\n",
      "Loading file /media/mha114/Massimal/Bodo_Sandsund/Hyperspectral/20210602/Area/3b_R_rs_GeoRef/Sandsund_May2021_Pika_L_25-Radiance From Raw Data-Reflectance from Radiance Data and Downwelling Irradiance Spectrum-Georectify Airborne Datacube.bip.hdr\n",
      "Saving result to /media/mha114/Massimal/Bodo_Sandsund/Hyperspectral/20210602/Area/M_Classification/Results/Sandsund_May2021_Pika_L_25-Radiance From Raw Data-Reflectance from Radiance Data and Downwelling Irradiance Spectrum-Georectify Airborne Datacube.bip.hdr\n",
      "Loading file /media/mha114/Massimal/Bodo_Sandsund/Hyperspectral/20210602/Area/3b_R_rs_GeoRef/Sandsund_May2021_Pika_L_26-Radiance From Raw Data-Reflectance from Radiance Data and Downwelling Irradiance Spectrum-Georectify Airborne Datacube.bip.hdr\n",
      "Saving result to /media/mha114/Massimal/Bodo_Sandsund/Hyperspectral/20210602/Area/M_Classification/Results/Sandsund_May2021_Pika_L_26-Radiance From Raw Data-Reflectance from Radiance Data and Downwelling Irradiance Spectrum-Georectify Airborne Datacube.bip.hdr\n",
      "Loading file /media/mha114/Massimal/Bodo_Sandsund/Hyperspectral/20210602/Area/3b_R_rs_GeoRef/Sandsund_May2021_Pika_L_27-Radiance From Raw Data-Reflectance from Radiance Data and Downwelling Irradiance Spectrum-Georectify Airborne Datacube.bip.hdr\n",
      "Saving result to /media/mha114/Massimal/Bodo_Sandsund/Hyperspectral/20210602/Area/M_Classification/Results/Sandsund_May2021_Pika_L_27-Radiance From Raw Data-Reflectance from Radiance Data and Downwelling Irradiance Spectrum-Georectify Airborne Datacube.bip.hdr\n",
      "Loading file /media/mha114/Massimal/Bodo_Sandsund/Hyperspectral/20210602/Area/3b_R_rs_GeoRef/Sandsund_May2021_Pika_L_28-Radiance From Raw Data-Reflectance from Radiance Data and Downwelling Irradiance Spectrum-Georectify Airborne Datacube.bip.hdr\n",
      "Saving result to /media/mha114/Massimal/Bodo_Sandsund/Hyperspectral/20210602/Area/M_Classification/Results/Sandsund_May2021_Pika_L_28-Radiance From Raw Data-Reflectance from Radiance Data and Downwelling Irradiance Spectrum-Georectify Airborne Datacube.bip.hdr\n",
      "Loading file /media/mha114/Massimal/Bodo_Sandsund/Hyperspectral/20210602/Area/3b_R_rs_GeoRef/Sandsund_May2021_Pika_L_29-Radiance From Raw Data-Reflectance from Radiance Data and Downwelling Irradiance Spectrum-Georectify Airborne Datacube.bip.hdr\n",
      "Saving result to /media/mha114/Massimal/Bodo_Sandsund/Hyperspectral/20210602/Area/M_Classification/Results/Sandsund_May2021_Pika_L_29-Radiance From Raw Data-Reflectance from Radiance Data and Downwelling Irradiance Spectrum-Georectify Airborne Datacube.bip.hdr\n",
      "Loading file /media/mha114/Massimal/Bodo_Sandsund/Hyperspectral/20210602/Area/3b_R_rs_GeoRef/Sandsund_May2021_Pika_L_3-Radiance From Raw Data-Reflectance from Radiance Data and Downwelling Irradiance Spectrum-Georectify Airborne Datacube.bip.hdr\n",
      "Saving result to /media/mha114/Massimal/Bodo_Sandsund/Hyperspectral/20210602/Area/M_Classification/Results/Sandsund_May2021_Pika_L_3-Radiance From Raw Data-Reflectance from Radiance Data and Downwelling Irradiance Spectrum-Georectify Airborne Datacube.bip.hdr\n",
      "Loading file /media/mha114/Massimal/Bodo_Sandsund/Hyperspectral/20210602/Area/3b_R_rs_GeoRef/Sandsund_May2021_Pika_L_30-Radiance From Raw Data-Reflectance from Radiance Data and Downwelling Irradiance Spectrum-Georectify Airborne Datacube.bip.hdr\n",
      "Saving result to /media/mha114/Massimal/Bodo_Sandsund/Hyperspectral/20210602/Area/M_Classification/Results/Sandsund_May2021_Pika_L_30-Radiance From Raw Data-Reflectance from Radiance Data and Downwelling Irradiance Spectrum-Georectify Airborne Datacube.bip.hdr\n",
      "Loading file /media/mha114/Massimal/Bodo_Sandsund/Hyperspectral/20210602/Area/3b_R_rs_GeoRef/Sandsund_May2021_Pika_L_31-Radiance From Raw Data-Reflectance from Radiance Data and Downwelling Irradiance Spectrum-Georectify Airborne Datacube.bip.hdr\n",
      "Saving result to /media/mha114/Massimal/Bodo_Sandsund/Hyperspectral/20210602/Area/M_Classification/Results/Sandsund_May2021_Pika_L_31-Radiance From Raw Data-Reflectance from Radiance Data and Downwelling Irradiance Spectrum-Georectify Airborne Datacube.bip.hdr\n",
      "Loading file /media/mha114/Massimal/Bodo_Sandsund/Hyperspectral/20210602/Area/3b_R_rs_GeoRef/Sandsund_May2021_Pika_L_32-Radiance From Raw Data-Reflectance from Radiance Data and Downwelling Irradiance Spectrum-Georectify Airborne Datacube.bip.hdr\n",
      "Saving result to /media/mha114/Massimal/Bodo_Sandsund/Hyperspectral/20210602/Area/M_Classification/Results/Sandsund_May2021_Pika_L_32-Radiance From Raw Data-Reflectance from Radiance Data and Downwelling Irradiance Spectrum-Georectify Airborne Datacube.bip.hdr\n",
      "Loading file /media/mha114/Massimal/Bodo_Sandsund/Hyperspectral/20210602/Area/3b_R_rs_GeoRef/Sandsund_May2021_Pika_L_4-Radiance From Raw Data-Reflectance from Radiance Data and Downwelling Irradiance Spectrum-Georectify Airborne Datacube.bip.hdr\n",
      "Saving result to /media/mha114/Massimal/Bodo_Sandsund/Hyperspectral/20210602/Area/M_Classification/Results/Sandsund_May2021_Pika_L_4-Radiance From Raw Data-Reflectance from Radiance Data and Downwelling Irradiance Spectrum-Georectify Airborne Datacube.bip.hdr\n",
      "Loading file /media/mha114/Massimal/Bodo_Sandsund/Hyperspectral/20210602/Area/3b_R_rs_GeoRef/Sandsund_May2021_Pika_L_5-Radiance From Raw Data-Reflectance from Radiance Data and Downwelling Irradiance Spectrum-Georectify Airborne Datacube.bip.hdr\n",
      "Saving result to /media/mha114/Massimal/Bodo_Sandsund/Hyperspectral/20210602/Area/M_Classification/Results/Sandsund_May2021_Pika_L_5-Radiance From Raw Data-Reflectance from Radiance Data and Downwelling Irradiance Spectrum-Georectify Airborne Datacube.bip.hdr\n",
      "Loading file /media/mha114/Massimal/Bodo_Sandsund/Hyperspectral/20210602/Area/3b_R_rs_GeoRef/Sandsund_May2021_Pika_L_6-Radiance From Raw Data-Reflectance from Radiance Data and Downwelling Irradiance Spectrum-Georectify Airborne Datacube.bip.hdr\n",
      "Saving result to /media/mha114/Massimal/Bodo_Sandsund/Hyperspectral/20210602/Area/M_Classification/Results/Sandsund_May2021_Pika_L_6-Radiance From Raw Data-Reflectance from Radiance Data and Downwelling Irradiance Spectrum-Georectify Airborne Datacube.bip.hdr\n",
      "Loading file /media/mha114/Massimal/Bodo_Sandsund/Hyperspectral/20210602/Area/3b_R_rs_GeoRef/Sandsund_May2021_Pika_L_7-Radiance From Raw Data-Reflectance from Radiance Data and Downwelling Irradiance Spectrum-Georectify Airborne Datacube.bip.hdr\n",
      "Saving result to /media/mha114/Massimal/Bodo_Sandsund/Hyperspectral/20210602/Area/M_Classification/Results/Sandsund_May2021_Pika_L_7-Radiance From Raw Data-Reflectance from Radiance Data and Downwelling Irradiance Spectrum-Georectify Airborne Datacube.bip.hdr\n",
      "Loading file /media/mha114/Massimal/Bodo_Sandsund/Hyperspectral/20210602/Area/3b_R_rs_GeoRef/Sandsund_May2021_Pika_L_8-Radiance From Raw Data-Reflectance from Radiance Data and Downwelling Irradiance Spectrum-Georectify Airborne Datacube.bip.hdr\n",
      "Saving result to /media/mha114/Massimal/Bodo_Sandsund/Hyperspectral/20210602/Area/M_Classification/Results/Sandsund_May2021_Pika_L_8-Radiance From Raw Data-Reflectance from Radiance Data and Downwelling Irradiance Spectrum-Georectify Airborne Datacube.bip.hdr\n",
      "Loading file /media/mha114/Massimal/Bodo_Sandsund/Hyperspectral/20210602/Area/3b_R_rs_GeoRef/Sandsund_May2021_Pika_L_9-Radiance From Raw Data-Reflectance from Radiance Data and Downwelling Irradiance Spectrum-Georectify Airborne Datacube.bip.hdr\n",
      "Saving result to /media/mha114/Massimal/Bodo_Sandsund/Hyperspectral/20210602/Area/M_Classification/Results/Sandsund_May2021_Pika_L_9-Radiance From Raw Data-Reflectance from Radiance Data and Downwelling Irradiance Spectrum-Georectify Airborne Datacube.bip.hdr\n"
     ]
    }
   ],
   "source": [
    "for (input_file,output_file) in zip (hyspec_files, classification_files):\n",
    "    \n",
    "    # Load image\n",
    "    print('Loading file ' + input_file)\n",
    "    (im,wl,rgb_ind,metadata) = hyspec_io.load_envi_image(input_file)\n",
    "    \n",
    "    # Apply classifier\n",
    "    y_pred_im = hyspec_ml.apply_classifier_to_image(classifier,im)\n",
    "    \n",
    "    # Save classification result\n",
    "    print('Saving result to ' + output_file)\n",
    "    hyspec_ml.save_classification_as_envi(y_pred_im,metadata['map info'],output_file)"
   ]
  }
 ],
 "metadata": {
  "kernelspec": {
   "display_name": "Python 3 (ipykernel)",
   "language": "python",
   "name": "python3"
  },
  "language_info": {
   "codemirror_mode": {
    "name": "ipython",
    "version": 3
   },
   "file_extension": ".py",
   "mimetype": "text/x-python",
   "name": "python",
   "nbconvert_exporter": "python",
   "pygments_lexer": "ipython3",
   "version": "3.9.12"
  }
 },
 "nbformat": 4,
 "nbformat_minor": 5
}
