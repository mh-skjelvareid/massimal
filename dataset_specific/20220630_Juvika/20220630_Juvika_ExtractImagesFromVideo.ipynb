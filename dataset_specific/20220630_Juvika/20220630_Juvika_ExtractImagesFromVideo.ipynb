{
 "cells": [
  {
   "cell_type": "code",
   "execution_count": 1,
   "id": "1850587b",
   "metadata": {},
   "outputs": [],
   "source": [
    "# Imports\n",
    "from pathlib import Path\n",
    "import video_transect, misc"
   ]
  },
  {
   "cell_type": "code",
   "execution_count": 2,
   "id": "564d6017",
   "metadata": {},
   "outputs": [],
   "source": [
    "# Paths\n",
    "main_dir = '/mnt/datadisk/Massimal/Bodo_Juvika/Video/20220624_WalkTransects/'\n",
    "trans_dirs = misc.file_pattern_search(main_dir,'Transect*')"
   ]
  },
  {
   "cell_type": "code",
   "execution_count": 3,
   "id": "1126e406",
   "metadata": {},
   "outputs": [],
   "source": [
    "# Parameters\n",
    "position_downsamp = 2  \n"
   ]
  },
  {
   "cell_type": "code",
   "execution_count": 4,
   "id": "dccb0b63",
   "metadata": {},
   "outputs": [
    {
     "name": "stdout",
     "output_type": "stream",
     "text": [
      "Processing folder Transect1\n",
      "CSV file: 2022-06-30_102217_MassimalTrackJuvika.csv\n",
      "Read 795 positions from CSV file.\n",
      "Found 2 video files.\n",
      "Keeping 389 positions after downsampling.\n",
      "Extracting images...\n"
     ]
    },
    {
     "name": "stderr",
     "output_type": "stream",
     "text": [
      "100%|█████████████████████████████████████████| 389/389 [06:54<00:00,  1.07s/it]\n"
     ]
    },
    {
     "name": "stdout",
     "output_type": "stream",
     "text": [
      "Saving geodataframe to file.\n",
      "----\n",
      "Processing folder Transect2\n",
      "CSV file: 2022-06-30_104605_MassimalTrackJuvika2.csv\n",
      "Read 1374 positions from CSV file.\n",
      "Found 3 video files.\n",
      "Keeping 687 positions after downsampling.\n",
      "Extracting images...\n"
     ]
    },
    {
     "name": "stderr",
     "output_type": "stream",
     "text": [
      "100%|█████████████████████████████████████████| 687/687 [09:15<00:00,  1.24it/s]\n"
     ]
    },
    {
     "name": "stdout",
     "output_type": "stream",
     "text": [
      "Saving geodataframe to file.\n",
      "----\n",
      "Processing folder Transect3\n",
      "CSV file: 2022-06-30_111327_MassimalTrackTransects.csv\n",
      "Read 234 positions from CSV file.\n",
      "Found 1 video files.\n",
      "Keeping 117 positions after downsampling.\n",
      "Extracting images...\n"
     ]
    },
    {
     "name": "stderr",
     "output_type": "stream",
     "text": [
      "100%|█████████████████████████████████████████| 117/117 [01:48<00:00,  1.07it/s]\n"
     ]
    },
    {
     "name": "stdout",
     "output_type": "stream",
     "text": [
      "Saving geodataframe to file.\n",
      "----\n",
      "Processing folder Transect4\n",
      "CSV file: 2022-06-30_112142_MassimalTrackJuvika3.csv\n",
      "Read 2341 positions from CSV file.\n",
      "Found 5 video files.\n",
      "Keeping 1171 positions after downsampling.\n",
      "Extracting images...\n"
     ]
    },
    {
     "name": "stderr",
     "output_type": "stream",
     "text": [
      "100%|███████████████████████████████████████| 1171/1171 [16:34<00:00,  1.18it/s]\n"
     ]
    },
    {
     "name": "stdout",
     "output_type": "stream",
     "text": [
      "Saving geodataframe to file.\n",
      "----\n"
     ]
    }
   ],
   "source": [
    "# Loop over each transect \n",
    "for trans_dir in trans_dirs:\n",
    "    print('Processing folder ' + Path(trans_dir).name)\n",
    "    \n",
    "    csv_file = misc.file_pattern_search(trans_dir,'*.csv')[0]\n",
    "    print('CSV file: ' + Path(csv_file).name)\n",
    "    \n",
    "    video_dir = Path(trans_dir,'Video')\n",
    "    image_dir = Path(trans_dir, 'Images')\n",
    "    gpk_file = Path(trans_dir, Path(trans_dir).name + '_GeotaggedImages.gpkg')\n",
    "    \n",
    "    # Read file, get geodataframe\n",
    "    gdf = video_transect.track_csv_to_geodataframe(str(csv_file))\n",
    "    print('Read ' + str(gdf.shape[0]) + ' positions from CSV file.')\n",
    "    \n",
    "    # Get video info\n",
    "    video_data = video_transect.get_video_data(str(video_dir))\n",
    "    print('Found ' + str(video_data.shape[0]) + ' video files.')\n",
    "    \n",
    "    # Prepare gdf for extraction of images\n",
    "    gdf = video_transect.prepare_gdf_with_video_data(gdf,video_data)\n",
    "    \n",
    "    # Ony keep every n'th row (too densely sampled)\n",
    "    gdf_small = gdf.copy()\n",
    "    gdf_small = gdf_small.iloc[::position_downsamp]\n",
    "    print('Keeping ' + str(gdf_small.shape[0]) + ' positions after downsampling.')\n",
    "    \n",
    "    # Extract images\n",
    "    print('Extracting images...')\n",
    "    gdf_small = video_transect.extract_images_from_video(gdf_small,image_dir)\n",
    "    \n",
    "    # Save gdf as geopackage\n",
    "    print('Saving geodataframe to file.')\n",
    "    gdf_small.to_file(gpk_file, driver=\"GPKG\")\n",
    "    print('----')"
   ]
  }
 ],
 "metadata": {
  "kernelspec": {
   "display_name": "Python 3 (ipykernel)",
   "language": "python",
   "name": "python3"
  },
  "language_info": {
   "codemirror_mode": {
    "name": "ipython",
    "version": 3
   },
   "file_extension": ".py",
   "mimetype": "text/x-python",
   "name": "python",
   "nbconvert_exporter": "python",
   "pygments_lexer": "ipython3",
   "version": "3.9.12"
  }
 },
 "nbformat": 4,
 "nbformat_minor": 5
}
