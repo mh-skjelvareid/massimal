{
 "cells": [
  {
   "cell_type": "code",
   "execution_count": 1,
   "id": "c45ddace",
   "metadata": {},
   "outputs": [],
   "source": [
    "# Imports\n",
    "from pathlib import Path\n",
    "import video_transect, misc"
   ]
  },
  {
   "cell_type": "code",
   "execution_count": 2,
   "id": "bfb98d27",
   "metadata": {},
   "outputs": [],
   "source": [
    "# Paths\n",
    "main_dir = '/media/mha114/Massimal/Vega_Sola/Transects/Walking/'\n",
    "trans_dirs = misc.file_pattern_search(main_dir,'WT**')"
   ]
  },
  {
   "cell_type": "code",
   "execution_count": 3,
   "id": "a8233d2c",
   "metadata": {},
   "outputs": [],
   "source": [
    "# Parameters\n",
    "position_downsamp = 2  "
   ]
  },
  {
   "cell_type": "code",
   "execution_count": 4,
   "id": "9e250588",
   "metadata": {},
   "outputs": [
    {
     "name": "stdout",
     "output_type": "stream",
     "text": [
      "Processing folder WT1_Sola\n",
      "CSV file: 2022-08-25_145400_SolaWalk1.csv\n",
      "Read 774 positions from CSV file.\n",
      "Found 2 video files.\n",
      "Keeping 387 positions after downsampling.\n",
      "Extracting images...\n"
     ]
    },
    {
     "name": "stderr",
     "output_type": "stream",
     "text": [
      "100%|█████████████████████████████████████████| 387/387 [06:05<00:00,  1.06it/s]\n"
     ]
    },
    {
     "name": "stdout",
     "output_type": "stream",
     "text": [
      "Saving geodataframe to file.\n",
      "----\n",
      "Processing folder WT2_Sola\n",
      "CSV file: 2022-08-25_152850_SolaWalk2.csv\n",
      "Read 810 positions from CSV file.\n",
      "Found 2 video files.\n",
      "Keeping 405 positions after downsampling.\n",
      "Extracting images...\n"
     ]
    },
    {
     "name": "stderr",
     "output_type": "stream",
     "text": [
      "100%|█████████████████████████████████████████| 405/405 [06:16<00:00,  1.08it/s]\n"
     ]
    },
    {
     "name": "stdout",
     "output_type": "stream",
     "text": [
      "Saving geodataframe to file.\n",
      "----\n",
      "Processing folder WT3_Sola\n",
      "CSV file: 2022-08-25_160319_SolaWalk3.csv\n",
      "Read 258 positions from CSV file.\n",
      "Found 1 video files.\n",
      "Keeping 129 positions after downsampling.\n",
      "Extracting images...\n"
     ]
    },
    {
     "name": "stderr",
     "output_type": "stream",
     "text": [
      "100%|█████████████████████████████████████████| 129/129 [02:39<00:00,  1.24s/it]"
     ]
    },
    {
     "name": "stdout",
     "output_type": "stream",
     "text": [
      "Saving geodataframe to file.\n",
      "----\n"
     ]
    },
    {
     "name": "stderr",
     "output_type": "stream",
     "text": [
      "\n"
     ]
    }
   ],
   "source": [
    "# Loop over each transect \n",
    "for trans_dir in trans_dirs:\n",
    "    print('Processing folder ' + Path(trans_dir).name)\n",
    "    \n",
    "    csv_file = misc.file_pattern_search(trans_dir,'*.csv')[0]\n",
    "    print('CSV file: ' + Path(csv_file).name)\n",
    "    \n",
    "    video_dir = Path(trans_dir,'Video')\n",
    "    image_dir = Path(trans_dir, 'Images')\n",
    "    gpk_file = Path(trans_dir, Path(trans_dir).name + '_GeotaggedImages.gpkg')\n",
    "    \n",
    "    # Read file, get geodataframe\n",
    "    gdf = video_transect.track_csv_to_geodataframe(str(csv_file))\n",
    "    print('Read ' + str(gdf.shape[0]) + ' positions from CSV file.')\n",
    "    \n",
    "    # Get video info\n",
    "    video_data = video_transect.get_video_data(str(video_dir))\n",
    "    print('Found ' + str(video_data.shape[0]) + ' video files.')\n",
    "    \n",
    "    # Prepare gdf for extraction of images\n",
    "    gdf = video_transect.prepare_gdf_with_video_data(gdf,video_data)\n",
    "    \n",
    "    # Ony keep every n'th row (too densely sampled)\n",
    "    gdf_small = gdf.copy()\n",
    "    gdf_small = gdf_small.iloc[::position_downsamp]\n",
    "    print('Keeping ' + str(gdf_small.shape[0]) + ' positions after downsampling.')\n",
    "    \n",
    "    # Extract images\n",
    "    print('Extracting images...')\n",
    "    gdf_small = video_transect.extract_images_from_video(gdf_small,image_dir)\n",
    "    \n",
    "    # Save gdf as geopackage\n",
    "    print('Saving geodataframe to file.')\n",
    "    gdf_small.to_file(gpk_file, driver=\"GPKG\")\n",
    "    print('----')"
   ]
  }
 ],
 "metadata": {
  "kernelspec": {
   "display_name": "Python 3 (ipykernel)",
   "language": "python",
   "name": "python3"
  },
  "language_info": {
   "codemirror_mode": {
    "name": "ipython",
    "version": 3
   },
   "file_extension": ".py",
   "mimetype": "text/x-python",
   "name": "python",
   "nbconvert_exporter": "python",
   "pygments_lexer": "ipython3",
   "version": "3.9.12"
  }
 },
 "nbformat": 4,
 "nbformat_minor": 5
}
