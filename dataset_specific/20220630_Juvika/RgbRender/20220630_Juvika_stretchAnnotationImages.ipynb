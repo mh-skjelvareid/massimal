{
 "cells": [
  {
   "cell_type": "code",
   "execution_count": 1,
   "id": "5a7efc85",
   "metadata": {},
   "outputs": [],
   "source": [
    "# Imports\n",
    "import numpy as np\n",
    "import matplotlib.pyplot as plt\n",
    "from skimage import exposure\n",
    "import skimage.io\n",
    "import os\n",
    "\n",
    "import hyspec_io, misc, batch_process\n"
   ]
  },
  {
   "cell_type": "code",
   "execution_count": 2,
   "id": "99fd63b4",
   "metadata": {},
   "outputs": [],
   "source": [
    "# Paths\n",
    "template_file = '/media/mha114/Massimal/Bodo_Juvika/Hyperspectral/20220624/Area/2_R_rs/Juvika_June2022_Pika_L_6-Reflectance from Raw Data and Downwelling Irradiance Spectrum.bip.hdr'\n",
    "image_dir = '/media/mha114/Massimal/Bodo_Juvika/Hyperspectral/20220624/Area/2_R_rs'\n",
    "out_dir = '/media/mha114/Massimal/Bodo_Juvika/Hyperspectral/20220624/Area/M_Annotation/R_rs_RGBConsistentStretch'"
   ]
  },
  {
   "cell_type": "code",
   "execution_count": 3,
   "id": "664adda4",
   "metadata": {},
   "outputs": [],
   "source": [
    "# Load image\n",
    "(image,wl,rgb_ind,metadata) = hyspec_io.load_envi_image(template_file,rgb_only=True)"
   ]
  },
  {
   "cell_type": "code",
   "execution_count": 4,
   "id": "cbd524ca",
   "metadata": {},
   "outputs": [
    {
     "name": "stdout",
     "output_type": "stream",
     "text": [
      "Limits for band 0: 0.025504898801445963, 0.09911477565765381\n",
      "Limits for band 1: 0.034434933215379715, 0.10162174314260487\n",
      "Limits for band 2: 0.013951102569699288, 0.05732111468911173\n"
     ]
    }
   ],
   "source": [
    "# Find percentiles for template image\n",
    "mask = ~np.all(image==0,axis=2)\n",
    "percentiles = (2,98)\n",
    "\n",
    "pct_limits = np.zeros((3,2))\n",
    "\n",
    "for ii,image_band in enumerate(np.moveaxis(image,2,0)):\n",
    "    p_low,p_high = np.percentile(image_band[mask], percentiles)\n",
    "    pct_limits[ii,:] = [p_low,p_high]\n",
    "    print('Limits for band ' + str(ii) + ': ' + str(p_low) + ', ' + str(p_high))"
   ]
  },
  {
   "cell_type": "code",
   "execution_count": 5,
   "id": "90f201d1",
   "metadata": {},
   "outputs": [],
   "source": [
    "# Get list of files\n",
    "image_files = misc.file_pattern_search(image_dir,'*.hdr')"
   ]
  },
  {
   "cell_type": "code",
   "execution_count": 6,
   "id": "98790d94",
   "metadata": {},
   "outputs": [
    {
     "name": "stdout",
     "output_type": "stream",
     "text": [
      "/media/mha114/Massimal/Bodo_Juvika/Hyperspectral/20220624/Area/2_R_rs/Juvika_June2022_Pika_L_1-Reflectance from Raw Data and Downwelling Irradiance Spectrum.bip.hdr\n",
      "/media/mha114/Massimal/Bodo_Juvika/Hyperspectral/20220624/Area/2_R_rs/Juvika_June2022_Pika_L_10-Reflectance from Raw Data and Downwelling Irradiance Spectrum.bip.hdr\n",
      "/media/mha114/Massimal/Bodo_Juvika/Hyperspectral/20220624/Area/2_R_rs/Juvika_June2022_Pika_L_11-Reflectance from Raw Data and Downwelling Irradiance Spectrum.bip.hdr\n",
      "/media/mha114/Massimal/Bodo_Juvika/Hyperspectral/20220624/Area/2_R_rs/Juvika_June2022_Pika_L_12-Reflectance from Raw Data and Downwelling Irradiance Spectrum.bip.hdr\n",
      "/media/mha114/Massimal/Bodo_Juvika/Hyperspectral/20220624/Area/2_R_rs/Juvika_June2022_Pika_L_13-Reflectance from Raw Data and Downwelling Irradiance Spectrum.bip.hdr\n",
      "/media/mha114/Massimal/Bodo_Juvika/Hyperspectral/20220624/Area/2_R_rs/Juvika_June2022_Pika_L_14-Reflectance from Raw Data and Downwelling Irradiance Spectrum.bip.hdr\n",
      "/media/mha114/Massimal/Bodo_Juvika/Hyperspectral/20220624/Area/2_R_rs/Juvika_June2022_Pika_L_15-Reflectance from Raw Data and Downwelling Irradiance Spectrum.bip.hdr\n",
      "/media/mha114/Massimal/Bodo_Juvika/Hyperspectral/20220624/Area/2_R_rs/Juvika_June2022_Pika_L_16-Reflectance from Raw Data and Downwelling Irradiance Spectrum.bip.hdr\n",
      "/media/mha114/Massimal/Bodo_Juvika/Hyperspectral/20220624/Area/2_R_rs/Juvika_June2022_Pika_L_17-Reflectance from Raw Data and Downwelling Irradiance Spectrum.bip.hdr\n",
      "/media/mha114/Massimal/Bodo_Juvika/Hyperspectral/20220624/Area/2_R_rs/Juvika_June2022_Pika_L_18-Reflectance from Raw Data and Downwelling Irradiance Spectrum.bip.hdr\n",
      "/media/mha114/Massimal/Bodo_Juvika/Hyperspectral/20220624/Area/2_R_rs/Juvika_June2022_Pika_L_19-Reflectance from Raw Data and Downwelling Irradiance Spectrum.bip.hdr\n",
      "/media/mha114/Massimal/Bodo_Juvika/Hyperspectral/20220624/Area/2_R_rs/Juvika_June2022_Pika_L_2-Reflectance from Raw Data and Downwelling Irradiance Spectrum.bip.hdr\n",
      "/media/mha114/Massimal/Bodo_Juvika/Hyperspectral/20220624/Area/2_R_rs/Juvika_June2022_Pika_L_20-Reflectance from Raw Data and Downwelling Irradiance Spectrum.bip.hdr\n",
      "/media/mha114/Massimal/Bodo_Juvika/Hyperspectral/20220624/Area/2_R_rs/Juvika_June2022_Pika_L_21-Reflectance from Raw Data and Downwelling Irradiance Spectrum.bip.hdr\n",
      "/media/mha114/Massimal/Bodo_Juvika/Hyperspectral/20220624/Area/2_R_rs/Juvika_June2022_Pika_L_22-Reflectance from Raw Data and Downwelling Irradiance Spectrum.bip.hdr\n",
      "/media/mha114/Massimal/Bodo_Juvika/Hyperspectral/20220624/Area/2_R_rs/Juvika_June2022_Pika_L_23-Reflectance from Raw Data and Downwelling Irradiance Spectrum.bip.hdr\n",
      "/media/mha114/Massimal/Bodo_Juvika/Hyperspectral/20220624/Area/2_R_rs/Juvika_June2022_Pika_L_24-Reflectance from Raw Data and Downwelling Irradiance Spectrum.bip.hdr\n",
      "/media/mha114/Massimal/Bodo_Juvika/Hyperspectral/20220624/Area/2_R_rs/Juvika_June2022_Pika_L_25-Reflectance from Raw Data and Downwelling Irradiance Spectrum.bip.hdr\n",
      "/media/mha114/Massimal/Bodo_Juvika/Hyperspectral/20220624/Area/2_R_rs/Juvika_June2022_Pika_L_26-Reflectance from Raw Data and Downwelling Irradiance Spectrum.bip.hdr\n",
      "/media/mha114/Massimal/Bodo_Juvika/Hyperspectral/20220624/Area/2_R_rs/Juvika_June2022_Pika_L_27-Reflectance from Raw Data and Downwelling Irradiance Spectrum.bip.hdr\n",
      "/media/mha114/Massimal/Bodo_Juvika/Hyperspectral/20220624/Area/2_R_rs/Juvika_June2022_Pika_L_28-Reflectance from Raw Data and Downwelling Irradiance Spectrum.bip.hdr\n",
      "/media/mha114/Massimal/Bodo_Juvika/Hyperspectral/20220624/Area/2_R_rs/Juvika_June2022_Pika_L_29-Reflectance from Raw Data and Downwelling Irradiance Spectrum.bip.hdr\n",
      "/media/mha114/Massimal/Bodo_Juvika/Hyperspectral/20220624/Area/2_R_rs/Juvika_June2022_Pika_L_3-Reflectance from Raw Data and Downwelling Irradiance Spectrum.bip.hdr\n",
      "/media/mha114/Massimal/Bodo_Juvika/Hyperspectral/20220624/Area/2_R_rs/Juvika_June2022_Pika_L_30-Reflectance from Raw Data and Downwelling Irradiance Spectrum.bip.hdr\n",
      "/media/mha114/Massimal/Bodo_Juvika/Hyperspectral/20220624/Area/2_R_rs/Juvika_June2022_Pika_L_31-Reflectance from Raw Data and Downwelling Irradiance Spectrum.bip.hdr\n",
      "/media/mha114/Massimal/Bodo_Juvika/Hyperspectral/20220624/Area/2_R_rs/Juvika_June2022_Pika_L_32-Reflectance from Raw Data and Downwelling Irradiance Spectrum.bip.hdr\n",
      "/media/mha114/Massimal/Bodo_Juvika/Hyperspectral/20220624/Area/2_R_rs/Juvika_June2022_Pika_L_33-Reflectance from Raw Data and Downwelling Irradiance Spectrum.bip.hdr\n",
      "/media/mha114/Massimal/Bodo_Juvika/Hyperspectral/20220624/Area/2_R_rs/Juvika_June2022_Pika_L_34-Reflectance from Raw Data and Downwelling Irradiance Spectrum.bip.hdr\n",
      "/media/mha114/Massimal/Bodo_Juvika/Hyperspectral/20220624/Area/2_R_rs/Juvika_June2022_Pika_L_35-Reflectance from Raw Data and Downwelling Irradiance Spectrum.bip.hdr\n",
      "/media/mha114/Massimal/Bodo_Juvika/Hyperspectral/20220624/Area/2_R_rs/Juvika_June2022_Pika_L_36-Reflectance from Raw Data and Downwelling Irradiance Spectrum.bip.hdr\n",
      "/media/mha114/Massimal/Bodo_Juvika/Hyperspectral/20220624/Area/2_R_rs/Juvika_June2022_Pika_L_4-Reflectance from Raw Data and Downwelling Irradiance Spectrum.bip.hdr\n",
      "/media/mha114/Massimal/Bodo_Juvika/Hyperspectral/20220624/Area/2_R_rs/Juvika_June2022_Pika_L_5-Reflectance from Raw Data and Downwelling Irradiance Spectrum.bip.hdr\n",
      "/media/mha114/Massimal/Bodo_Juvika/Hyperspectral/20220624/Area/2_R_rs/Juvika_June2022_Pika_L_6-Reflectance from Raw Data and Downwelling Irradiance Spectrum.bip.hdr\n",
      "/media/mha114/Massimal/Bodo_Juvika/Hyperspectral/20220624/Area/2_R_rs/Juvika_June2022_Pika_L_7-Reflectance from Raw Data and Downwelling Irradiance Spectrum.bip.hdr\n",
      "/media/mha114/Massimal/Bodo_Juvika/Hyperspectral/20220624/Area/2_R_rs/Juvika_June2022_Pika_L_8-Reflectance from Raw Data and Downwelling Irradiance Spectrum.bip.hdr\n",
      "/media/mha114/Massimal/Bodo_Juvika/Hyperspectral/20220624/Area/2_R_rs/Juvika_June2022_Pika_L_9-Reflectance from Raw Data and Downwelling Irradiance Spectrum.bip.hdr\n"
     ]
    }
   ],
   "source": [
    "# Show images\n",
    "for file in image_files:\n",
    "    print(file)"
   ]
  },
  {
   "cell_type": "code",
   "execution_count": 7,
   "id": "e5d33837",
   "metadata": {},
   "outputs": [
    {
     "name": "stdout",
     "output_type": "stream",
     "text": [
      "Found 36 images in input folder.\n",
      "Loading input file /media/mha114/Massimal/Bodo_Juvika/Hyperspectral/20220624/Area/2_R_rs/Juvika_June2022_Pika_L_1-Reflectance from Raw Data and Downwelling Irradiance Spectrum.bip.hdr\n",
      "Saving RGB render of hyperspectral file as /media/mha114/Massimal/Bodo_Juvika/Hyperspectral/20220624/Area/M_Annotation/R_rs_RGBConsistentStretch/Juvika_June2022_Pika_L_1-Reflectance from Raw Data and Downwelling Irradiance Spectrum.png\n",
      "Loading input file /media/mha114/Massimal/Bodo_Juvika/Hyperspectral/20220624/Area/2_R_rs/Juvika_June2022_Pika_L_10-Reflectance from Raw Data and Downwelling Irradiance Spectrum.bip.hdr\n",
      "Saving RGB render of hyperspectral file as /media/mha114/Massimal/Bodo_Juvika/Hyperspectral/20220624/Area/M_Annotation/R_rs_RGBConsistentStretch/Juvika_June2022_Pika_L_10-Reflectance from Raw Data and Downwelling Irradiance Spectrum.png\n",
      "Loading input file /media/mha114/Massimal/Bodo_Juvika/Hyperspectral/20220624/Area/2_R_rs/Juvika_June2022_Pika_L_11-Reflectance from Raw Data and Downwelling Irradiance Spectrum.bip.hdr\n",
      "Saving RGB render of hyperspectral file as /media/mha114/Massimal/Bodo_Juvika/Hyperspectral/20220624/Area/M_Annotation/R_rs_RGBConsistentStretch/Juvika_June2022_Pika_L_11-Reflectance from Raw Data and Downwelling Irradiance Spectrum.png\n",
      "Loading input file /media/mha114/Massimal/Bodo_Juvika/Hyperspectral/20220624/Area/2_R_rs/Juvika_June2022_Pika_L_12-Reflectance from Raw Data and Downwelling Irradiance Spectrum.bip.hdr\n",
      "Saving RGB render of hyperspectral file as /media/mha114/Massimal/Bodo_Juvika/Hyperspectral/20220624/Area/M_Annotation/R_rs_RGBConsistentStretch/Juvika_June2022_Pika_L_12-Reflectance from Raw Data and Downwelling Irradiance Spectrum.png\n",
      "Loading input file /media/mha114/Massimal/Bodo_Juvika/Hyperspectral/20220624/Area/2_R_rs/Juvika_June2022_Pika_L_13-Reflectance from Raw Data and Downwelling Irradiance Spectrum.bip.hdr\n",
      "Saving RGB render of hyperspectral file as /media/mha114/Massimal/Bodo_Juvika/Hyperspectral/20220624/Area/M_Annotation/R_rs_RGBConsistentStretch/Juvika_June2022_Pika_L_13-Reflectance from Raw Data and Downwelling Irradiance Spectrum.png\n",
      "Loading input file /media/mha114/Massimal/Bodo_Juvika/Hyperspectral/20220624/Area/2_R_rs/Juvika_June2022_Pika_L_14-Reflectance from Raw Data and Downwelling Irradiance Spectrum.bip.hdr\n",
      "Saving RGB render of hyperspectral file as /media/mha114/Massimal/Bodo_Juvika/Hyperspectral/20220624/Area/M_Annotation/R_rs_RGBConsistentStretch/Juvika_June2022_Pika_L_14-Reflectance from Raw Data and Downwelling Irradiance Spectrum.png\n",
      "Loading input file /media/mha114/Massimal/Bodo_Juvika/Hyperspectral/20220624/Area/2_R_rs/Juvika_June2022_Pika_L_15-Reflectance from Raw Data and Downwelling Irradiance Spectrum.bip.hdr\n",
      "Saving RGB render of hyperspectral file as /media/mha114/Massimal/Bodo_Juvika/Hyperspectral/20220624/Area/M_Annotation/R_rs_RGBConsistentStretch/Juvika_June2022_Pika_L_15-Reflectance from Raw Data and Downwelling Irradiance Spectrum.png\n",
      "Loading input file /media/mha114/Massimal/Bodo_Juvika/Hyperspectral/20220624/Area/2_R_rs/Juvika_June2022_Pika_L_16-Reflectance from Raw Data and Downwelling Irradiance Spectrum.bip.hdr\n",
      "Saving RGB render of hyperspectral file as /media/mha114/Massimal/Bodo_Juvika/Hyperspectral/20220624/Area/M_Annotation/R_rs_RGBConsistentStretch/Juvika_June2022_Pika_L_16-Reflectance from Raw Data and Downwelling Irradiance Spectrum.png\n",
      "Loading input file /media/mha114/Massimal/Bodo_Juvika/Hyperspectral/20220624/Area/2_R_rs/Juvika_June2022_Pika_L_17-Reflectance from Raw Data and Downwelling Irradiance Spectrum.bip.hdr\n",
      "Saving RGB render of hyperspectral file as /media/mha114/Massimal/Bodo_Juvika/Hyperspectral/20220624/Area/M_Annotation/R_rs_RGBConsistentStretch/Juvika_June2022_Pika_L_17-Reflectance from Raw Data and Downwelling Irradiance Spectrum.png\n",
      "Loading input file /media/mha114/Massimal/Bodo_Juvika/Hyperspectral/20220624/Area/2_R_rs/Juvika_June2022_Pika_L_18-Reflectance from Raw Data and Downwelling Irradiance Spectrum.bip.hdr\n",
      "Saving RGB render of hyperspectral file as /media/mha114/Massimal/Bodo_Juvika/Hyperspectral/20220624/Area/M_Annotation/R_rs_RGBConsistentStretch/Juvika_June2022_Pika_L_18-Reflectance from Raw Data and Downwelling Irradiance Spectrum.png\n",
      "Loading input file /media/mha114/Massimal/Bodo_Juvika/Hyperspectral/20220624/Area/2_R_rs/Juvika_June2022_Pika_L_19-Reflectance from Raw Data and Downwelling Irradiance Spectrum.bip.hdr\n",
      "Saving RGB render of hyperspectral file as /media/mha114/Massimal/Bodo_Juvika/Hyperspectral/20220624/Area/M_Annotation/R_rs_RGBConsistentStretch/Juvika_June2022_Pika_L_19-Reflectance from Raw Data and Downwelling Irradiance Spectrum.png\n",
      "Loading input file /media/mha114/Massimal/Bodo_Juvika/Hyperspectral/20220624/Area/2_R_rs/Juvika_June2022_Pika_L_2-Reflectance from Raw Data and Downwelling Irradiance Spectrum.bip.hdr\n",
      "Saving RGB render of hyperspectral file as /media/mha114/Massimal/Bodo_Juvika/Hyperspectral/20220624/Area/M_Annotation/R_rs_RGBConsistentStretch/Juvika_June2022_Pika_L_2-Reflectance from Raw Data and Downwelling Irradiance Spectrum.png\n",
      "Loading input file /media/mha114/Massimal/Bodo_Juvika/Hyperspectral/20220624/Area/2_R_rs/Juvika_June2022_Pika_L_20-Reflectance from Raw Data and Downwelling Irradiance Spectrum.bip.hdr\n",
      "Saving RGB render of hyperspectral file as /media/mha114/Massimal/Bodo_Juvika/Hyperspectral/20220624/Area/M_Annotation/R_rs_RGBConsistentStretch/Juvika_June2022_Pika_L_20-Reflectance from Raw Data and Downwelling Irradiance Spectrum.png\n",
      "Loading input file /media/mha114/Massimal/Bodo_Juvika/Hyperspectral/20220624/Area/2_R_rs/Juvika_June2022_Pika_L_21-Reflectance from Raw Data and Downwelling Irradiance Spectrum.bip.hdr\n",
      "Saving RGB render of hyperspectral file as /media/mha114/Massimal/Bodo_Juvika/Hyperspectral/20220624/Area/M_Annotation/R_rs_RGBConsistentStretch/Juvika_June2022_Pika_L_21-Reflectance from Raw Data and Downwelling Irradiance Spectrum.png\n",
      "Loading input file /media/mha114/Massimal/Bodo_Juvika/Hyperspectral/20220624/Area/2_R_rs/Juvika_June2022_Pika_L_22-Reflectance from Raw Data and Downwelling Irradiance Spectrum.bip.hdr\n",
      "Saving RGB render of hyperspectral file as /media/mha114/Massimal/Bodo_Juvika/Hyperspectral/20220624/Area/M_Annotation/R_rs_RGBConsistentStretch/Juvika_June2022_Pika_L_22-Reflectance from Raw Data and Downwelling Irradiance Spectrum.png\n",
      "Loading input file /media/mha114/Massimal/Bodo_Juvika/Hyperspectral/20220624/Area/2_R_rs/Juvika_June2022_Pika_L_23-Reflectance from Raw Data and Downwelling Irradiance Spectrum.bip.hdr\n",
      "Saving RGB render of hyperspectral file as /media/mha114/Massimal/Bodo_Juvika/Hyperspectral/20220624/Area/M_Annotation/R_rs_RGBConsistentStretch/Juvika_June2022_Pika_L_23-Reflectance from Raw Data and Downwelling Irradiance Spectrum.png\n",
      "Loading input file /media/mha114/Massimal/Bodo_Juvika/Hyperspectral/20220624/Area/2_R_rs/Juvika_June2022_Pika_L_24-Reflectance from Raw Data and Downwelling Irradiance Spectrum.bip.hdr\n",
      "Saving RGB render of hyperspectral file as /media/mha114/Massimal/Bodo_Juvika/Hyperspectral/20220624/Area/M_Annotation/R_rs_RGBConsistentStretch/Juvika_June2022_Pika_L_24-Reflectance from Raw Data and Downwelling Irradiance Spectrum.png\n",
      "Loading input file /media/mha114/Massimal/Bodo_Juvika/Hyperspectral/20220624/Area/2_R_rs/Juvika_June2022_Pika_L_25-Reflectance from Raw Data and Downwelling Irradiance Spectrum.bip.hdr\n",
      "Saving RGB render of hyperspectral file as /media/mha114/Massimal/Bodo_Juvika/Hyperspectral/20220624/Area/M_Annotation/R_rs_RGBConsistentStretch/Juvika_June2022_Pika_L_25-Reflectance from Raw Data and Downwelling Irradiance Spectrum.png\n",
      "Loading input file /media/mha114/Massimal/Bodo_Juvika/Hyperspectral/20220624/Area/2_R_rs/Juvika_June2022_Pika_L_26-Reflectance from Raw Data and Downwelling Irradiance Spectrum.bip.hdr\n",
      "Saving RGB render of hyperspectral file as /media/mha114/Massimal/Bodo_Juvika/Hyperspectral/20220624/Area/M_Annotation/R_rs_RGBConsistentStretch/Juvika_June2022_Pika_L_26-Reflectance from Raw Data and Downwelling Irradiance Spectrum.png\n",
      "Loading input file /media/mha114/Massimal/Bodo_Juvika/Hyperspectral/20220624/Area/2_R_rs/Juvika_June2022_Pika_L_27-Reflectance from Raw Data and Downwelling Irradiance Spectrum.bip.hdr\n",
      "Saving RGB render of hyperspectral file as /media/mha114/Massimal/Bodo_Juvika/Hyperspectral/20220624/Area/M_Annotation/R_rs_RGBConsistentStretch/Juvika_June2022_Pika_L_27-Reflectance from Raw Data and Downwelling Irradiance Spectrum.png\n",
      "Loading input file /media/mha114/Massimal/Bodo_Juvika/Hyperspectral/20220624/Area/2_R_rs/Juvika_June2022_Pika_L_28-Reflectance from Raw Data and Downwelling Irradiance Spectrum.bip.hdr\n",
      "Saving RGB render of hyperspectral file as /media/mha114/Massimal/Bodo_Juvika/Hyperspectral/20220624/Area/M_Annotation/R_rs_RGBConsistentStretch/Juvika_June2022_Pika_L_28-Reflectance from Raw Data and Downwelling Irradiance Spectrum.png\n",
      "Loading input file /media/mha114/Massimal/Bodo_Juvika/Hyperspectral/20220624/Area/2_R_rs/Juvika_June2022_Pika_L_29-Reflectance from Raw Data and Downwelling Irradiance Spectrum.bip.hdr\n",
      "Saving RGB render of hyperspectral file as /media/mha114/Massimal/Bodo_Juvika/Hyperspectral/20220624/Area/M_Annotation/R_rs_RGBConsistentStretch/Juvika_June2022_Pika_L_29-Reflectance from Raw Data and Downwelling Irradiance Spectrum.png\n",
      "Loading input file /media/mha114/Massimal/Bodo_Juvika/Hyperspectral/20220624/Area/2_R_rs/Juvika_June2022_Pika_L_3-Reflectance from Raw Data and Downwelling Irradiance Spectrum.bip.hdr\n",
      "Saving RGB render of hyperspectral file as /media/mha114/Massimal/Bodo_Juvika/Hyperspectral/20220624/Area/M_Annotation/R_rs_RGBConsistentStretch/Juvika_June2022_Pika_L_3-Reflectance from Raw Data and Downwelling Irradiance Spectrum.png\n"
     ]
    },
    {
     "name": "stderr",
     "output_type": "stream",
     "text": [
      "/home/mha114/Dropbox/Python/massimal/tools/batch_process.py:185: UserWarning: /media/mha114/Massimal/Bodo_Juvika/Hyperspectral/20220624/Area/M_Annotation/R_rs_RGBConsistentStretch/Juvika_June2022_Pika_L_3-Reflectance from Raw Data and Downwelling Irradiance Spectrum.png is a low contrast image\n",
      "  skimage.io.imsave(output_file,im_rgb_sc)\n"
     ]
    },
    {
     "name": "stdout",
     "output_type": "stream",
     "text": [
      "Loading input file /media/mha114/Massimal/Bodo_Juvika/Hyperspectral/20220624/Area/2_R_rs/Juvika_June2022_Pika_L_30-Reflectance from Raw Data and Downwelling Irradiance Spectrum.bip.hdr\n",
      "Saving RGB render of hyperspectral file as /media/mha114/Massimal/Bodo_Juvika/Hyperspectral/20220624/Area/M_Annotation/R_rs_RGBConsistentStretch/Juvika_June2022_Pika_L_30-Reflectance from Raw Data and Downwelling Irradiance Spectrum.png\n",
      "Loading input file /media/mha114/Massimal/Bodo_Juvika/Hyperspectral/20220624/Area/2_R_rs/Juvika_June2022_Pika_L_31-Reflectance from Raw Data and Downwelling Irradiance Spectrum.bip.hdr\n",
      "Saving RGB render of hyperspectral file as /media/mha114/Massimal/Bodo_Juvika/Hyperspectral/20220624/Area/M_Annotation/R_rs_RGBConsistentStretch/Juvika_June2022_Pika_L_31-Reflectance from Raw Data and Downwelling Irradiance Spectrum.png\n",
      "Loading input file /media/mha114/Massimal/Bodo_Juvika/Hyperspectral/20220624/Area/2_R_rs/Juvika_June2022_Pika_L_32-Reflectance from Raw Data and Downwelling Irradiance Spectrum.bip.hdr\n",
      "Saving RGB render of hyperspectral file as /media/mha114/Massimal/Bodo_Juvika/Hyperspectral/20220624/Area/M_Annotation/R_rs_RGBConsistentStretch/Juvika_June2022_Pika_L_32-Reflectance from Raw Data and Downwelling Irradiance Spectrum.png\n",
      "Loading input file /media/mha114/Massimal/Bodo_Juvika/Hyperspectral/20220624/Area/2_R_rs/Juvika_June2022_Pika_L_33-Reflectance from Raw Data and Downwelling Irradiance Spectrum.bip.hdr\n",
      "Saving RGB render of hyperspectral file as /media/mha114/Massimal/Bodo_Juvika/Hyperspectral/20220624/Area/M_Annotation/R_rs_RGBConsistentStretch/Juvika_June2022_Pika_L_33-Reflectance from Raw Data and Downwelling Irradiance Spectrum.png\n",
      "Loading input file /media/mha114/Massimal/Bodo_Juvika/Hyperspectral/20220624/Area/2_R_rs/Juvika_June2022_Pika_L_34-Reflectance from Raw Data and Downwelling Irradiance Spectrum.bip.hdr\n",
      "Saving RGB render of hyperspectral file as /media/mha114/Massimal/Bodo_Juvika/Hyperspectral/20220624/Area/M_Annotation/R_rs_RGBConsistentStretch/Juvika_June2022_Pika_L_34-Reflectance from Raw Data and Downwelling Irradiance Spectrum.png\n",
      "Loading input file /media/mha114/Massimal/Bodo_Juvika/Hyperspectral/20220624/Area/2_R_rs/Juvika_June2022_Pika_L_35-Reflectance from Raw Data and Downwelling Irradiance Spectrum.bip.hdr\n",
      "Saving RGB render of hyperspectral file as /media/mha114/Massimal/Bodo_Juvika/Hyperspectral/20220624/Area/M_Annotation/R_rs_RGBConsistentStretch/Juvika_June2022_Pika_L_35-Reflectance from Raw Data and Downwelling Irradiance Spectrum.png\n",
      "Loading input file /media/mha114/Massimal/Bodo_Juvika/Hyperspectral/20220624/Area/2_R_rs/Juvika_June2022_Pika_L_36-Reflectance from Raw Data and Downwelling Irradiance Spectrum.bip.hdr\n",
      "Saving RGB render of hyperspectral file as /media/mha114/Massimal/Bodo_Juvika/Hyperspectral/20220624/Area/M_Annotation/R_rs_RGBConsistentStretch/Juvika_June2022_Pika_L_36-Reflectance from Raw Data and Downwelling Irradiance Spectrum.png\n",
      "Loading input file /media/mha114/Massimal/Bodo_Juvika/Hyperspectral/20220624/Area/2_R_rs/Juvika_June2022_Pika_L_4-Reflectance from Raw Data and Downwelling Irradiance Spectrum.bip.hdr\n",
      "Saving RGB render of hyperspectral file as /media/mha114/Massimal/Bodo_Juvika/Hyperspectral/20220624/Area/M_Annotation/R_rs_RGBConsistentStretch/Juvika_June2022_Pika_L_4-Reflectance from Raw Data and Downwelling Irradiance Spectrum.png\n",
      "Loading input file /media/mha114/Massimal/Bodo_Juvika/Hyperspectral/20220624/Area/2_R_rs/Juvika_June2022_Pika_L_5-Reflectance from Raw Data and Downwelling Irradiance Spectrum.bip.hdr\n",
      "Saving RGB render of hyperspectral file as /media/mha114/Massimal/Bodo_Juvika/Hyperspectral/20220624/Area/M_Annotation/R_rs_RGBConsistentStretch/Juvika_June2022_Pika_L_5-Reflectance from Raw Data and Downwelling Irradiance Spectrum.png\n",
      "Loading input file /media/mha114/Massimal/Bodo_Juvika/Hyperspectral/20220624/Area/2_R_rs/Juvika_June2022_Pika_L_6-Reflectance from Raw Data and Downwelling Irradiance Spectrum.bip.hdr\n",
      "Saving RGB render of hyperspectral file as /media/mha114/Massimal/Bodo_Juvika/Hyperspectral/20220624/Area/M_Annotation/R_rs_RGBConsistentStretch/Juvika_June2022_Pika_L_6-Reflectance from Raw Data and Downwelling Irradiance Spectrum.png\n",
      "Loading input file /media/mha114/Massimal/Bodo_Juvika/Hyperspectral/20220624/Area/2_R_rs/Juvika_June2022_Pika_L_7-Reflectance from Raw Data and Downwelling Irradiance Spectrum.bip.hdr\n",
      "Saving RGB render of hyperspectral file as /media/mha114/Massimal/Bodo_Juvika/Hyperspectral/20220624/Area/M_Annotation/R_rs_RGBConsistentStretch/Juvika_June2022_Pika_L_7-Reflectance from Raw Data and Downwelling Irradiance Spectrum.png\n",
      "Loading input file /media/mha114/Massimal/Bodo_Juvika/Hyperspectral/20220624/Area/2_R_rs/Juvika_June2022_Pika_L_8-Reflectance from Raw Data and Downwelling Irradiance Spectrum.bip.hdr\n",
      "Saving RGB render of hyperspectral file as /media/mha114/Massimal/Bodo_Juvika/Hyperspectral/20220624/Area/M_Annotation/R_rs_RGBConsistentStretch/Juvika_June2022_Pika_L_8-Reflectance from Raw Data and Downwelling Irradiance Spectrum.png\n",
      "Loading input file /media/mha114/Massimal/Bodo_Juvika/Hyperspectral/20220624/Area/2_R_rs/Juvika_June2022_Pika_L_9-Reflectance from Raw Data and Downwelling Irradiance Spectrum.bip.hdr\n",
      "Saving RGB render of hyperspectral file as /media/mha114/Massimal/Bodo_Juvika/Hyperspectral/20220624/Area/M_Annotation/R_rs_RGBConsistentStretch/Juvika_June2022_Pika_L_9-Reflectance from Raw Data and Downwelling Irradiance Spectrum.png\n"
     ]
    }
   ],
   "source": [
    "batch_process.envi_rgb_render(input_dir=image_dir,output_dir=out_dir,inpaint=False,limits = pct_limits)"
   ]
  },
  {
   "cell_type": "code",
   "execution_count": 8,
   "id": "c339e1e7",
   "metadata": {},
   "outputs": [],
   "source": [
    "# Load each file, stretch and save\n",
    "# output_files = misc.build_newdir_filepath(image_files,out_dir,new_ext = '.png')\n",
    "\n",
    "# for (in_file,out_file) in zip(image_files,output_files):\n",
    "#     # Load data\n",
    "#     (image,wl,rgb_ind,metadata) = hyspec_io.load_envi_image(in_file,rgb_only=True)\n",
    "    \n",
    "#     # Stretch each band\n",
    "#     im_rescaled = np.zeros(image.shape)\n",
    "#     for ii,image_band in enumerate(np.moveaxis(image,2,0)):\n",
    "#         im_rescaled[:,:,ii] = exposure.rescale_intensity(image_band, in_range=tuple(pct_limits[ii,:]))\n",
    "\n",
    "#     # Save stretched image\n",
    "#     skimage.io.imsave(out_file,skimage.img_as_ubyte(im_rescaled))\n",
    "    "
   ]
  }
 ],
 "metadata": {
  "kernelspec": {
   "display_name": "Python 3 (ipykernel)",
   "language": "python",
   "name": "python3"
  },
  "language_info": {
   "codemirror_mode": {
    "name": "ipython",
    "version": 3
   },
   "file_extension": ".py",
   "mimetype": "text/x-python",
   "name": "python",
   "nbconvert_exporter": "python",
   "pygments_lexer": "ipython3",
   "version": "3.9.12"
  }
 },
 "nbformat": 4,
 "nbformat_minor": 5
}
