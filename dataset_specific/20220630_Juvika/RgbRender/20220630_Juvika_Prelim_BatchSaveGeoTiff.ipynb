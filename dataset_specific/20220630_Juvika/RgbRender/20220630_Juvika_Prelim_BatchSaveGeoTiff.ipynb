{
 "cells": [
  {
   "cell_type": "code",
   "execution_count": 1,
   "metadata": {},
   "outputs": [],
   "source": [
    "# Imports\n",
    "from pathlib import Path\n",
    "from massimal import georeferencing, hyspec_io\n",
    "import warnings\n",
    "from tqdm import tqdm"
   ]
  },
  {
   "cell_type": "code",
   "execution_count": 2,
   "metadata": {},
   "outputs": [],
   "source": [
    "# Paths\n",
    "rrs_dir = Path('/media/mha114/Massimal2/Massimal/Bodo_Juvika/Hyperspectral/20220624/Area/2_R_rs')\n",
    "geotiff_dir = rrs_dir.parent / '2d_R_rs_RGB_GeoTiff'\n",
    "world_file_dir = geotiff_dir\n",
    "geotiff_dir.mkdir(exist_ok = True)"
   ]
  },
  {
   "cell_type": "code",
   "execution_count": 3,
   "metadata": {},
   "outputs": [],
   "source": [
    "# Parameters\n",
    "ground_altitude = -6"
   ]
  },
  {
   "cell_type": "code",
   "execution_count": 4,
   "metadata": {},
   "outputs": [
    {
     "name": "stdout",
     "output_type": "stream",
     "text": [
      "[PosixPath('/media/mha114/Massimal2/Massimal/Bodo_Juvika/Hyperspectral/20220624/Area/2_R_rs/Juvika_June2022_Pika_L_1-Crop Wavelengths.bip.hdr'), PosixPath('/media/mha114/Massimal2/Massimal/Bodo_Juvika/Hyperspectral/20220624/Area/2_R_rs/Juvika_June2022_Pika_L_10-Crop Wavelengths.bip.hdr'), PosixPath('/media/mha114/Massimal2/Massimal/Bodo_Juvika/Hyperspectral/20220624/Area/2_R_rs/Juvika_June2022_Pika_L_11-Crop Wavelengths.bip.hdr'), PosixPath('/media/mha114/Massimal2/Massimal/Bodo_Juvika/Hyperspectral/20220624/Area/2_R_rs/Juvika_June2022_Pika_L_12-Crop Wavelengths.bip.hdr'), PosixPath('/media/mha114/Massimal2/Massimal/Bodo_Juvika/Hyperspectral/20220624/Area/2_R_rs/Juvika_June2022_Pika_L_13-Crop Wavelengths.bip.hdr'), PosixPath('/media/mha114/Massimal2/Massimal/Bodo_Juvika/Hyperspectral/20220624/Area/2_R_rs/Juvika_June2022_Pika_L_14-Crop Wavelengths.bip.hdr'), PosixPath('/media/mha114/Massimal2/Massimal/Bodo_Juvika/Hyperspectral/20220624/Area/2_R_rs/Juvika_June2022_Pika_L_15-Crop Wavelengths.bip.hdr'), PosixPath('/media/mha114/Massimal2/Massimal/Bodo_Juvika/Hyperspectral/20220624/Area/2_R_rs/Juvika_June2022_Pika_L_16-Crop Wavelengths.bip.hdr'), PosixPath('/media/mha114/Massimal2/Massimal/Bodo_Juvika/Hyperspectral/20220624/Area/2_R_rs/Juvika_June2022_Pika_L_17-Crop Wavelengths.bip.hdr'), PosixPath('/media/mha114/Massimal2/Massimal/Bodo_Juvika/Hyperspectral/20220624/Area/2_R_rs/Juvika_June2022_Pika_L_18-Crop Wavelengths.bip.hdr'), PosixPath('/media/mha114/Massimal2/Massimal/Bodo_Juvika/Hyperspectral/20220624/Area/2_R_rs/Juvika_June2022_Pika_L_19-Crop Wavelengths.bip.hdr'), PosixPath('/media/mha114/Massimal2/Massimal/Bodo_Juvika/Hyperspectral/20220624/Area/2_R_rs/Juvika_June2022_Pika_L_2-Crop Wavelengths.bip.hdr'), PosixPath('/media/mha114/Massimal2/Massimal/Bodo_Juvika/Hyperspectral/20220624/Area/2_R_rs/Juvika_June2022_Pika_L_20-Crop Wavelengths.bip.hdr'), PosixPath('/media/mha114/Massimal2/Massimal/Bodo_Juvika/Hyperspectral/20220624/Area/2_R_rs/Juvika_June2022_Pika_L_21-Crop Wavelengths.bip.hdr'), PosixPath('/media/mha114/Massimal2/Massimal/Bodo_Juvika/Hyperspectral/20220624/Area/2_R_rs/Juvika_June2022_Pika_L_22-Crop Wavelengths.bip.hdr'), PosixPath('/media/mha114/Massimal2/Massimal/Bodo_Juvika/Hyperspectral/20220624/Area/2_R_rs/Juvika_June2022_Pika_L_23-Crop Wavelengths.bip.hdr'), PosixPath('/media/mha114/Massimal2/Massimal/Bodo_Juvika/Hyperspectral/20220624/Area/2_R_rs/Juvika_June2022_Pika_L_24-Crop Wavelengths.bip.hdr'), PosixPath('/media/mha114/Massimal2/Massimal/Bodo_Juvika/Hyperspectral/20220624/Area/2_R_rs/Juvika_June2022_Pika_L_25-Crop Wavelengths.bip.hdr'), PosixPath('/media/mha114/Massimal2/Massimal/Bodo_Juvika/Hyperspectral/20220624/Area/2_R_rs/Juvika_June2022_Pika_L_26-Crop Wavelengths.bip.hdr'), PosixPath('/media/mha114/Massimal2/Massimal/Bodo_Juvika/Hyperspectral/20220624/Area/2_R_rs/Juvika_June2022_Pika_L_27-Crop Wavelengths.bip.hdr'), PosixPath('/media/mha114/Massimal2/Massimal/Bodo_Juvika/Hyperspectral/20220624/Area/2_R_rs/Juvika_June2022_Pika_L_28-Crop Wavelengths.bip.hdr'), PosixPath('/media/mha114/Massimal2/Massimal/Bodo_Juvika/Hyperspectral/20220624/Area/2_R_rs/Juvika_June2022_Pika_L_29-Crop Wavelengths.bip.hdr'), PosixPath('/media/mha114/Massimal2/Massimal/Bodo_Juvika/Hyperspectral/20220624/Area/2_R_rs/Juvika_June2022_Pika_L_3-Crop Wavelengths.bip.hdr'), PosixPath('/media/mha114/Massimal2/Massimal/Bodo_Juvika/Hyperspectral/20220624/Area/2_R_rs/Juvika_June2022_Pika_L_30-Crop Wavelengths.bip.hdr'), PosixPath('/media/mha114/Massimal2/Massimal/Bodo_Juvika/Hyperspectral/20220624/Area/2_R_rs/Juvika_June2022_Pika_L_31-Crop Wavelengths.bip.hdr'), PosixPath('/media/mha114/Massimal2/Massimal/Bodo_Juvika/Hyperspectral/20220624/Area/2_R_rs/Juvika_June2022_Pika_L_32-Crop Wavelengths.bip.hdr'), PosixPath('/media/mha114/Massimal2/Massimal/Bodo_Juvika/Hyperspectral/20220624/Area/2_R_rs/Juvika_June2022_Pika_L_33-Crop Wavelengths.bip.hdr'), PosixPath('/media/mha114/Massimal2/Massimal/Bodo_Juvika/Hyperspectral/20220624/Area/2_R_rs/Juvika_June2022_Pika_L_34-Crop Wavelengths.bip.hdr'), PosixPath('/media/mha114/Massimal2/Massimal/Bodo_Juvika/Hyperspectral/20220624/Area/2_R_rs/Juvika_June2022_Pika_L_35-Crop Wavelengths.bip.hdr'), PosixPath('/media/mha114/Massimal2/Massimal/Bodo_Juvika/Hyperspectral/20220624/Area/2_R_rs/Juvika_June2022_Pika_L_36-Crop Wavelengths.bip.hdr'), PosixPath('/media/mha114/Massimal2/Massimal/Bodo_Juvika/Hyperspectral/20220624/Area/2_R_rs/Juvika_June2022_Pika_L_4-Crop Wavelengths.bip.hdr'), PosixPath('/media/mha114/Massimal2/Massimal/Bodo_Juvika/Hyperspectral/20220624/Area/2_R_rs/Juvika_June2022_Pika_L_5-Crop Wavelengths.bip.hdr'), PosixPath('/media/mha114/Massimal2/Massimal/Bodo_Juvika/Hyperspectral/20220624/Area/2_R_rs/Juvika_June2022_Pika_L_6-Crop Wavelengths.bip.hdr'), PosixPath('/media/mha114/Massimal2/Massimal/Bodo_Juvika/Hyperspectral/20220624/Area/2_R_rs/Juvika_June2022_Pika_L_7-Crop Wavelengths.bip.hdr'), PosixPath('/media/mha114/Massimal2/Massimal/Bodo_Juvika/Hyperspectral/20220624/Area/2_R_rs/Juvika_June2022_Pika_L_8-Crop Wavelengths.bip.hdr'), PosixPath('/media/mha114/Massimal2/Massimal/Bodo_Juvika/Hyperspectral/20220624/Area/2_R_rs/Juvika_June2022_Pika_L_9-Crop Wavelengths.bip.hdr')]\n"
     ]
    }
   ],
   "source": [
    "hyspec_paths = sorted(rrs_dir.glob('*.hdr'))\n",
    "print(hyspec_paths)"
   ]
  },
  {
   "cell_type": "code",
   "execution_count": 5,
   "metadata": {},
   "outputs": [
    {
     "name": "stderr",
     "output_type": "stream",
     "text": [
      "100%|██████████| 36/36 [04:31<00:00,  7.55s/it]\n"
     ]
    }
   ],
   "source": [
    "for hyspec_path in tqdm(hyspec_paths): \n",
    "    hyspec_path_stem = hyspec_path.stem.split('.')[0]\n",
    "    lcf_path = hyspec_path.parent / (hyspec_path_stem + '.lcf')\n",
    "    times_path = hyspec_path.parent / (hyspec_path_stem + '.bip.times')\n",
    "    world_file_path = world_file_dir / (hyspec_path_stem + '.wld')\n",
    "    geotiff_path = geotiff_dir / (hyspec_path_stem + '.tiff')\n",
    "\n",
    "    if lcf_path.exists() and times_path.exists():\n",
    "        utm_epsg = georeferencing.world_file_from_lcf_times_files(\n",
    "            lcf_path,times_path,\n",
    "            world_file_path,\n",
    "            ground_altitude=ground_altitude)\n",
    "        (image,wl,rgb_ind,metadata) = hyspec_io.load_envi_image(hyspec_path,rgb_only=True)\n",
    "\n",
    "        georeferencing.save_geotiff_with_affine_transform(\n",
    "            image=image,\n",
    "            crs_str=f'EPSG:{utm_epsg}',\n",
    "            geotiff_path=geotiff_path,\n",
    "            world_file_path=world_file_path,\n",
    "            band_names=tuple([str(wl[band_ind]) for band_ind in rgb_ind])\n",
    "        )\n",
    "    else:\n",
    "        warnings.warn(f'{hyspec_path_stem}: Missing .lcf or .times file')"
   ]
  },
  {
   "cell_type": "code",
   "execution_count": null,
   "metadata": {},
   "outputs": [],
   "source": []
  }
 ],
 "metadata": {
  "kernelspec": {
   "display_name": "massimal",
   "language": "python",
   "name": "python3"
  },
  "language_info": {
   "codemirror_mode": {
    "name": "ipython",
    "version": 3
   },
   "file_extension": ".py",
   "mimetype": "text/x-python",
   "name": "python",
   "nbconvert_exporter": "python",
   "pygments_lexer": "ipython3",
   "version": "3.11.7"
  }
 },
 "nbformat": 4,
 "nbformat_minor": 2
}
