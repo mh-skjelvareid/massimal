{
 "cells": [
  {
   "cell_type": "code",
   "execution_count": 17,
   "metadata": {},
   "outputs": [],
   "source": [
    "# Imports\n",
    "from pathlib import Path\n",
    "from massimal import georeferencing, hyspec_io\n",
    "import warnings\n",
    "from tqdm import tqdm"
   ]
  },
  {
   "cell_type": "code",
   "execution_count": 18,
   "metadata": {},
   "outputs": [],
   "source": [
    "# Paths\n",
    "rrs_dir = Path('/media/mha114/Massimal2/Massimal/Bodo_Juvika/Hyperspectral/20220624/Area/2_R_rs')\n",
    "geotiff_dir = rrs_dir.parent / '2d_R_rs_RGB_GeoTiff'\n",
    "world_file_dir = geotiff_dir\n",
    "geotiff_dir.mkdir(exist_ok = True)\n"
   ]
  },
  {
   "cell_type": "code",
   "execution_count": 19,
   "metadata": {},
   "outputs": [
    {
     "name": "stdout",
     "output_type": "stream",
     "text": [
      "[PosixPath('/media/mha114/Massimal2/Massimal/Bodo_Juvika/Hyperspectral/20220624/Area/2_R_rs/Juvika_June2022_Pika_L_1-Crop Wavelengths.bip.hdr'), PosixPath('/media/mha114/Massimal2/Massimal/Bodo_Juvika/Hyperspectral/20220624/Area/2_R_rs/Juvika_June2022_Pika_L_10-Crop Wavelengths.bip.hdr'), PosixPath('/media/mha114/Massimal2/Massimal/Bodo_Juvika/Hyperspectral/20220624/Area/2_R_rs/Juvika_June2022_Pika_L_11-Crop Wavelengths.bip.hdr'), PosixPath('/media/mha114/Massimal2/Massimal/Bodo_Juvika/Hyperspectral/20220624/Area/2_R_rs/Juvika_June2022_Pika_L_12-Crop Wavelengths.bip.hdr'), PosixPath('/media/mha114/Massimal2/Massimal/Bodo_Juvika/Hyperspectral/20220624/Area/2_R_rs/Juvika_June2022_Pika_L_13-Crop Wavelengths.bip.hdr'), PosixPath('/media/mha114/Massimal2/Massimal/Bodo_Juvika/Hyperspectral/20220624/Area/2_R_rs/Juvika_June2022_Pika_L_14-Crop Wavelengths.bip.hdr'), PosixPath('/media/mha114/Massimal2/Massimal/Bodo_Juvika/Hyperspectral/20220624/Area/2_R_rs/Juvika_June2022_Pika_L_15-Crop Wavelengths.bip.hdr'), PosixPath('/media/mha114/Massimal2/Massimal/Bodo_Juvika/Hyperspectral/20220624/Area/2_R_rs/Juvika_June2022_Pika_L_16-Crop Wavelengths.bip.hdr'), PosixPath('/media/mha114/Massimal2/Massimal/Bodo_Juvika/Hyperspectral/20220624/Area/2_R_rs/Juvika_June2022_Pika_L_17-Crop Wavelengths.bip.hdr'), PosixPath('/media/mha114/Massimal2/Massimal/Bodo_Juvika/Hyperspectral/20220624/Area/2_R_rs/Juvika_June2022_Pika_L_18-Crop Wavelengths.bip.hdr'), PosixPath('/media/mha114/Massimal2/Massimal/Bodo_Juvika/Hyperspectral/20220624/Area/2_R_rs/Juvika_June2022_Pika_L_19-Crop Wavelengths.bip.hdr'), PosixPath('/media/mha114/Massimal2/Massimal/Bodo_Juvika/Hyperspectral/20220624/Area/2_R_rs/Juvika_June2022_Pika_L_2-Crop Wavelengths.bip.hdr'), PosixPath('/media/mha114/Massimal2/Massimal/Bodo_Juvika/Hyperspectral/20220624/Area/2_R_rs/Juvika_June2022_Pika_L_20-Crop Wavelengths.bip.hdr'), PosixPath('/media/mha114/Massimal2/Massimal/Bodo_Juvika/Hyperspectral/20220624/Area/2_R_rs/Juvika_June2022_Pika_L_21-Crop Wavelengths.bip.hdr'), PosixPath('/media/mha114/Massimal2/Massimal/Bodo_Juvika/Hyperspectral/20220624/Area/2_R_rs/Juvika_June2022_Pika_L_22-Crop Wavelengths.bip.hdr'), PosixPath('/media/mha114/Massimal2/Massimal/Bodo_Juvika/Hyperspectral/20220624/Area/2_R_rs/Juvika_June2022_Pika_L_23-Crop Wavelengths.bip.hdr'), PosixPath('/media/mha114/Massimal2/Massimal/Bodo_Juvika/Hyperspectral/20220624/Area/2_R_rs/Juvika_June2022_Pika_L_24-Crop Wavelengths.bip.hdr'), PosixPath('/media/mha114/Massimal2/Massimal/Bodo_Juvika/Hyperspectral/20220624/Area/2_R_rs/Juvika_June2022_Pika_L_25-Crop Wavelengths.bip.hdr'), PosixPath('/media/mha114/Massimal2/Massimal/Bodo_Juvika/Hyperspectral/20220624/Area/2_R_rs/Juvika_June2022_Pika_L_26-Crop Wavelengths.bip.hdr'), PosixPath('/media/mha114/Massimal2/Massimal/Bodo_Juvika/Hyperspectral/20220624/Area/2_R_rs/Juvika_June2022_Pika_L_27-Crop Wavelengths.bip.hdr'), PosixPath('/media/mha114/Massimal2/Massimal/Bodo_Juvika/Hyperspectral/20220624/Area/2_R_rs/Juvika_June2022_Pika_L_28-Crop Wavelengths.bip.hdr'), PosixPath('/media/mha114/Massimal2/Massimal/Bodo_Juvika/Hyperspectral/20220624/Area/2_R_rs/Juvika_June2022_Pika_L_29-Crop Wavelengths.bip.hdr'), PosixPath('/media/mha114/Massimal2/Massimal/Bodo_Juvika/Hyperspectral/20220624/Area/2_R_rs/Juvika_June2022_Pika_L_3-Crop Wavelengths.bip.hdr'), PosixPath('/media/mha114/Massimal2/Massimal/Bodo_Juvika/Hyperspectral/20220624/Area/2_R_rs/Juvika_June2022_Pika_L_30-Crop Wavelengths.bip.hdr'), PosixPath('/media/mha114/Massimal2/Massimal/Bodo_Juvika/Hyperspectral/20220624/Area/2_R_rs/Juvika_June2022_Pika_L_31-Crop Wavelengths.bip.hdr'), PosixPath('/media/mha114/Massimal2/Massimal/Bodo_Juvika/Hyperspectral/20220624/Area/2_R_rs/Juvika_June2022_Pika_L_32-Crop Wavelengths.bip.hdr'), PosixPath('/media/mha114/Massimal2/Massimal/Bodo_Juvika/Hyperspectral/20220624/Area/2_R_rs/Juvika_June2022_Pika_L_33-Crop Wavelengths.bip.hdr'), PosixPath('/media/mha114/Massimal2/Massimal/Bodo_Juvika/Hyperspectral/20220624/Area/2_R_rs/Juvika_June2022_Pika_L_34-Crop Wavelengths.bip.hdr'), PosixPath('/media/mha114/Massimal2/Massimal/Bodo_Juvika/Hyperspectral/20220624/Area/2_R_rs/Juvika_June2022_Pika_L_35-Crop Wavelengths.bip.hdr'), PosixPath('/media/mha114/Massimal2/Massimal/Bodo_Juvika/Hyperspectral/20220624/Area/2_R_rs/Juvika_June2022_Pika_L_36-Crop Wavelengths.bip.hdr'), PosixPath('/media/mha114/Massimal2/Massimal/Bodo_Juvika/Hyperspectral/20220624/Area/2_R_rs/Juvika_June2022_Pika_L_4-Crop Wavelengths.bip.hdr'), PosixPath('/media/mha114/Massimal2/Massimal/Bodo_Juvika/Hyperspectral/20220624/Area/2_R_rs/Juvika_June2022_Pika_L_5-Crop Wavelengths.bip.hdr'), PosixPath('/media/mha114/Massimal2/Massimal/Bodo_Juvika/Hyperspectral/20220624/Area/2_R_rs/Juvika_June2022_Pika_L_6-Crop Wavelengths.bip.hdr'), PosixPath('/media/mha114/Massimal2/Massimal/Bodo_Juvika/Hyperspectral/20220624/Area/2_R_rs/Juvika_June2022_Pika_L_7-Crop Wavelengths.bip.hdr'), PosixPath('/media/mha114/Massimal2/Massimal/Bodo_Juvika/Hyperspectral/20220624/Area/2_R_rs/Juvika_June2022_Pika_L_8-Crop Wavelengths.bip.hdr'), PosixPath('/media/mha114/Massimal2/Massimal/Bodo_Juvika/Hyperspectral/20220624/Area/2_R_rs/Juvika_June2022_Pika_L_9-Crop Wavelengths.bip.hdr')]\n"
     ]
    }
   ],
   "source": [
    "hyspec_paths = sorted(rrs_dir.glob('*.hdr'))\n",
    "print(hyspec_paths)"
   ]
  },
  {
   "cell_type": "code",
   "execution_count": 21,
   "metadata": {},
   "outputs": [
    {
     "name": "stderr",
     "output_type": "stream",
     "text": [
      "  0%|          | 0/36 [00:00<?, ?it/s]"
     ]
    },
    {
     "name": "stdout",
     "output_type": "stream",
     "text": [
      "Juvika_June2022_Pika_L_1-Crop Wavelengths\n",
      "/media/mha114/Massimal2/Massimal/Bodo_Juvika/Hyperspectral/20220624/Area/2_R_rs/Juvika_June2022_Pika_L_1-Crop Wavelengths.lcf\n",
      "/media/mha114/Massimal2/Massimal/Bodo_Juvika/Hyperspectral/20220624/Area/2_R_rs/Juvika_June2022_Pika_L_1-Crop Wavelengths.bip.times\n",
      "/media/mha114/Massimal2/Massimal/Bodo_Juvika/Hyperspectral/20220624/Area/2d_R_rs_RGB_GeoTiff/Juvika_June2022_Pika_L_1-Crop Wavelengths.wld\n",
      "/media/mha114/Massimal2/Massimal/Bodo_Juvika/Hyperspectral/20220624/Area/2d_R_rs_RGB_GeoTiff/Juvika_June2022_Pika_L_1-Crop Wavelengths.tiff\n"
     ]
    },
    {
     "name": "stderr",
     "output_type": "stream",
     "text": [
      "  3%|▎         | 1/36 [00:07<04:30,  7.74s/it]"
     ]
    },
    {
     "name": "stdout",
     "output_type": "stream",
     "text": [
      "Juvika_June2022_Pika_L_10-Crop Wavelengths\n",
      "/media/mha114/Massimal2/Massimal/Bodo_Juvika/Hyperspectral/20220624/Area/2_R_rs/Juvika_June2022_Pika_L_10-Crop Wavelengths.lcf\n",
      "/media/mha114/Massimal2/Massimal/Bodo_Juvika/Hyperspectral/20220624/Area/2_R_rs/Juvika_June2022_Pika_L_10-Crop Wavelengths.bip.times\n",
      "/media/mha114/Massimal2/Massimal/Bodo_Juvika/Hyperspectral/20220624/Area/2d_R_rs_RGB_GeoTiff/Juvika_June2022_Pika_L_10-Crop Wavelengths.wld\n",
      "/media/mha114/Massimal2/Massimal/Bodo_Juvika/Hyperspectral/20220624/Area/2d_R_rs_RGB_GeoTiff/Juvika_June2022_Pika_L_10-Crop Wavelengths.tiff\n"
     ]
    },
    {
     "name": "stderr",
     "output_type": "stream",
     "text": [
      "  6%|▌         | 2/36 [00:15<04:14,  7.49s/it]"
     ]
    },
    {
     "name": "stdout",
     "output_type": "stream",
     "text": [
      "Juvika_June2022_Pika_L_11-Crop Wavelengths\n",
      "/media/mha114/Massimal2/Massimal/Bodo_Juvika/Hyperspectral/20220624/Area/2_R_rs/Juvika_June2022_Pika_L_11-Crop Wavelengths.lcf\n",
      "/media/mha114/Massimal2/Massimal/Bodo_Juvika/Hyperspectral/20220624/Area/2_R_rs/Juvika_June2022_Pika_L_11-Crop Wavelengths.bip.times\n",
      "/media/mha114/Massimal2/Massimal/Bodo_Juvika/Hyperspectral/20220624/Area/2d_R_rs_RGB_GeoTiff/Juvika_June2022_Pika_L_11-Crop Wavelengths.wld\n",
      "/media/mha114/Massimal2/Massimal/Bodo_Juvika/Hyperspectral/20220624/Area/2d_R_rs_RGB_GeoTiff/Juvika_June2022_Pika_L_11-Crop Wavelengths.tiff\n"
     ]
    },
    {
     "name": "stderr",
     "output_type": "stream",
     "text": [
      "  8%|▊         | 3/36 [00:16<02:36,  4.74s/it]"
     ]
    },
    {
     "name": "stdout",
     "output_type": "stream",
     "text": [
      "Juvika_June2022_Pika_L_12-Crop Wavelengths\n",
      "/media/mha114/Massimal2/Massimal/Bodo_Juvika/Hyperspectral/20220624/Area/2_R_rs/Juvika_June2022_Pika_L_12-Crop Wavelengths.lcf\n",
      "/media/mha114/Massimal2/Massimal/Bodo_Juvika/Hyperspectral/20220624/Area/2_R_rs/Juvika_June2022_Pika_L_12-Crop Wavelengths.bip.times\n",
      "/media/mha114/Massimal2/Massimal/Bodo_Juvika/Hyperspectral/20220624/Area/2d_R_rs_RGB_GeoTiff/Juvika_June2022_Pika_L_12-Crop Wavelengths.wld\n",
      "/media/mha114/Massimal2/Massimal/Bodo_Juvika/Hyperspectral/20220624/Area/2d_R_rs_RGB_GeoTiff/Juvika_June2022_Pika_L_12-Crop Wavelengths.tiff\n"
     ]
    },
    {
     "name": "stderr",
     "output_type": "stream",
     "text": [
      " 11%|█         | 4/36 [00:23<03:06,  5.82s/it]"
     ]
    },
    {
     "name": "stdout",
     "output_type": "stream",
     "text": [
      "Juvika_June2022_Pika_L_13-Crop Wavelengths\n",
      "/media/mha114/Massimal2/Massimal/Bodo_Juvika/Hyperspectral/20220624/Area/2_R_rs/Juvika_June2022_Pika_L_13-Crop Wavelengths.lcf\n",
      "/media/mha114/Massimal2/Massimal/Bodo_Juvika/Hyperspectral/20220624/Area/2_R_rs/Juvika_June2022_Pika_L_13-Crop Wavelengths.bip.times\n",
      "/media/mha114/Massimal2/Massimal/Bodo_Juvika/Hyperspectral/20220624/Area/2d_R_rs_RGB_GeoTiff/Juvika_June2022_Pika_L_13-Crop Wavelengths.wld\n",
      "/media/mha114/Massimal2/Massimal/Bodo_Juvika/Hyperspectral/20220624/Area/2d_R_rs_RGB_GeoTiff/Juvika_June2022_Pika_L_13-Crop Wavelengths.tiff\n"
     ]
    },
    {
     "name": "stderr",
     "output_type": "stream",
     "text": [
      " 14%|█▍        | 5/36 [00:31<03:17,  6.36s/it]"
     ]
    },
    {
     "name": "stdout",
     "output_type": "stream",
     "text": [
      "Juvika_June2022_Pika_L_14-Crop Wavelengths\n",
      "/media/mha114/Massimal2/Massimal/Bodo_Juvika/Hyperspectral/20220624/Area/2_R_rs/Juvika_June2022_Pika_L_14-Crop Wavelengths.lcf\n",
      "/media/mha114/Massimal2/Massimal/Bodo_Juvika/Hyperspectral/20220624/Area/2_R_rs/Juvika_June2022_Pika_L_14-Crop Wavelengths.bip.times\n",
      "/media/mha114/Massimal2/Massimal/Bodo_Juvika/Hyperspectral/20220624/Area/2d_R_rs_RGB_GeoTiff/Juvika_June2022_Pika_L_14-Crop Wavelengths.wld\n",
      "/media/mha114/Massimal2/Massimal/Bodo_Juvika/Hyperspectral/20220624/Area/2d_R_rs_RGB_GeoTiff/Juvika_June2022_Pika_L_14-Crop Wavelengths.tiff\n"
     ]
    },
    {
     "name": "stderr",
     "output_type": "stream",
     "text": [
      " 17%|█▋        | 6/36 [00:38<03:23,  6.79s/it]"
     ]
    },
    {
     "name": "stdout",
     "output_type": "stream",
     "text": [
      "Juvika_June2022_Pika_L_15-Crop Wavelengths\n",
      "/media/mha114/Massimal2/Massimal/Bodo_Juvika/Hyperspectral/20220624/Area/2_R_rs/Juvika_June2022_Pika_L_15-Crop Wavelengths.lcf\n",
      "/media/mha114/Massimal2/Massimal/Bodo_Juvika/Hyperspectral/20220624/Area/2_R_rs/Juvika_June2022_Pika_L_15-Crop Wavelengths.bip.times\n",
      "/media/mha114/Massimal2/Massimal/Bodo_Juvika/Hyperspectral/20220624/Area/2d_R_rs_RGB_GeoTiff/Juvika_June2022_Pika_L_15-Crop Wavelengths.wld\n",
      "/media/mha114/Massimal2/Massimal/Bodo_Juvika/Hyperspectral/20220624/Area/2d_R_rs_RGB_GeoTiff/Juvika_June2022_Pika_L_15-Crop Wavelengths.tiff\n"
     ]
    },
    {
     "name": "stderr",
     "output_type": "stream",
     "text": [
      " 19%|█▉        | 7/36 [00:46<03:24,  7.04s/it]"
     ]
    },
    {
     "name": "stdout",
     "output_type": "stream",
     "text": [
      "Juvika_June2022_Pika_L_16-Crop Wavelengths\n",
      "/media/mha114/Massimal2/Massimal/Bodo_Juvika/Hyperspectral/20220624/Area/2_R_rs/Juvika_June2022_Pika_L_16-Crop Wavelengths.lcf\n",
      "/media/mha114/Massimal2/Massimal/Bodo_Juvika/Hyperspectral/20220624/Area/2_R_rs/Juvika_June2022_Pika_L_16-Crop Wavelengths.bip.times\n",
      "/media/mha114/Massimal2/Massimal/Bodo_Juvika/Hyperspectral/20220624/Area/2d_R_rs_RGB_GeoTiff/Juvika_June2022_Pika_L_16-Crop Wavelengths.wld\n",
      "/media/mha114/Massimal2/Massimal/Bodo_Juvika/Hyperspectral/20220624/Area/2d_R_rs_RGB_GeoTiff/Juvika_June2022_Pika_L_16-Crop Wavelengths.tiff\n"
     ]
    },
    {
     "name": "stderr",
     "output_type": "stream",
     "text": [
      " 22%|██▏       | 8/36 [00:53<03:21,  7.18s/it]"
     ]
    },
    {
     "name": "stdout",
     "output_type": "stream",
     "text": [
      "Juvika_June2022_Pika_L_17-Crop Wavelengths\n",
      "/media/mha114/Massimal2/Massimal/Bodo_Juvika/Hyperspectral/20220624/Area/2_R_rs/Juvika_June2022_Pika_L_17-Crop Wavelengths.lcf\n",
      "/media/mha114/Massimal2/Massimal/Bodo_Juvika/Hyperspectral/20220624/Area/2_R_rs/Juvika_June2022_Pika_L_17-Crop Wavelengths.bip.times\n",
      "/media/mha114/Massimal2/Massimal/Bodo_Juvika/Hyperspectral/20220624/Area/2d_R_rs_RGB_GeoTiff/Juvika_June2022_Pika_L_17-Crop Wavelengths.wld\n",
      "/media/mha114/Massimal2/Massimal/Bodo_Juvika/Hyperspectral/20220624/Area/2d_R_rs_RGB_GeoTiff/Juvika_June2022_Pika_L_17-Crop Wavelengths.tiff\n"
     ]
    },
    {
     "name": "stderr",
     "output_type": "stream",
     "text": [
      " 25%|██▌       | 9/36 [00:54<02:15,  5.04s/it]"
     ]
    },
    {
     "name": "stdout",
     "output_type": "stream",
     "text": [
      "Juvika_June2022_Pika_L_18-Crop Wavelengths\n",
      "/media/mha114/Massimal2/Massimal/Bodo_Juvika/Hyperspectral/20220624/Area/2_R_rs/Juvika_June2022_Pika_L_18-Crop Wavelengths.lcf\n",
      "/media/mha114/Massimal2/Massimal/Bodo_Juvika/Hyperspectral/20220624/Area/2_R_rs/Juvika_June2022_Pika_L_18-Crop Wavelengths.bip.times\n",
      "/media/mha114/Massimal2/Massimal/Bodo_Juvika/Hyperspectral/20220624/Area/2d_R_rs_RGB_GeoTiff/Juvika_June2022_Pika_L_18-Crop Wavelengths.wld\n",
      "/media/mha114/Massimal2/Massimal/Bodo_Juvika/Hyperspectral/20220624/Area/2d_R_rs_RGB_GeoTiff/Juvika_June2022_Pika_L_18-Crop Wavelengths.tiff\n"
     ]
    },
    {
     "name": "stderr",
     "output_type": "stream",
     "text": [
      " 28%|██▊       | 10/36 [01:01<02:32,  5.86s/it]"
     ]
    },
    {
     "name": "stdout",
     "output_type": "stream",
     "text": [
      "Juvika_June2022_Pika_L_19-Crop Wavelengths\n",
      "/media/mha114/Massimal2/Massimal/Bodo_Juvika/Hyperspectral/20220624/Area/2_R_rs/Juvika_June2022_Pika_L_19-Crop Wavelengths.lcf\n",
      "/media/mha114/Massimal2/Massimal/Bodo_Juvika/Hyperspectral/20220624/Area/2_R_rs/Juvika_June2022_Pika_L_19-Crop Wavelengths.bip.times\n",
      "/media/mha114/Massimal2/Massimal/Bodo_Juvika/Hyperspectral/20220624/Area/2d_R_rs_RGB_GeoTiff/Juvika_June2022_Pika_L_19-Crop Wavelengths.wld\n",
      "/media/mha114/Massimal2/Massimal/Bodo_Juvika/Hyperspectral/20220624/Area/2d_R_rs_RGB_GeoTiff/Juvika_June2022_Pika_L_19-Crop Wavelengths.tiff\n"
     ]
    },
    {
     "name": "stderr",
     "output_type": "stream",
     "text": [
      " 31%|███       | 11/36 [01:09<02:41,  6.45s/it]"
     ]
    },
    {
     "name": "stdout",
     "output_type": "stream",
     "text": [
      "Juvika_June2022_Pika_L_2-Crop Wavelengths\n",
      "/media/mha114/Massimal2/Massimal/Bodo_Juvika/Hyperspectral/20220624/Area/2_R_rs/Juvika_June2022_Pika_L_2-Crop Wavelengths.lcf\n",
      "/media/mha114/Massimal2/Massimal/Bodo_Juvika/Hyperspectral/20220624/Area/2_R_rs/Juvika_June2022_Pika_L_2-Crop Wavelengths.bip.times\n",
      "/media/mha114/Massimal2/Massimal/Bodo_Juvika/Hyperspectral/20220624/Area/2d_R_rs_RGB_GeoTiff/Juvika_June2022_Pika_L_2-Crop Wavelengths.wld\n",
      "/media/mha114/Massimal2/Massimal/Bodo_Juvika/Hyperspectral/20220624/Area/2d_R_rs_RGB_GeoTiff/Juvika_June2022_Pika_L_2-Crop Wavelengths.tiff\n"
     ]
    },
    {
     "name": "stderr",
     "output_type": "stream",
     "text": [
      " 33%|███▎      | 12/36 [01:17<02:46,  6.94s/it]"
     ]
    },
    {
     "name": "stdout",
     "output_type": "stream",
     "text": [
      "Juvika_June2022_Pika_L_20-Crop Wavelengths\n",
      "/media/mha114/Massimal2/Massimal/Bodo_Juvika/Hyperspectral/20220624/Area/2_R_rs/Juvika_June2022_Pika_L_20-Crop Wavelengths.lcf\n",
      "/media/mha114/Massimal2/Massimal/Bodo_Juvika/Hyperspectral/20220624/Area/2_R_rs/Juvika_June2022_Pika_L_20-Crop Wavelengths.bip.times\n",
      "/media/mha114/Massimal2/Massimal/Bodo_Juvika/Hyperspectral/20220624/Area/2d_R_rs_RGB_GeoTiff/Juvika_June2022_Pika_L_20-Crop Wavelengths.wld\n",
      "/media/mha114/Massimal2/Massimal/Bodo_Juvika/Hyperspectral/20220624/Area/2d_R_rs_RGB_GeoTiff/Juvika_June2022_Pika_L_20-Crop Wavelengths.tiff\n"
     ]
    },
    {
     "name": "stderr",
     "output_type": "stream",
     "text": [
      " 36%|███▌      | 13/36 [01:29<03:12,  8.39s/it]"
     ]
    },
    {
     "name": "stdout",
     "output_type": "stream",
     "text": [
      "Juvika_June2022_Pika_L_21-Crop Wavelengths\n",
      "/media/mha114/Massimal2/Massimal/Bodo_Juvika/Hyperspectral/20220624/Area/2_R_rs/Juvika_June2022_Pika_L_21-Crop Wavelengths.lcf\n",
      "/media/mha114/Massimal2/Massimal/Bodo_Juvika/Hyperspectral/20220624/Area/2_R_rs/Juvika_June2022_Pika_L_21-Crop Wavelengths.bip.times\n",
      "/media/mha114/Massimal2/Massimal/Bodo_Juvika/Hyperspectral/20220624/Area/2d_R_rs_RGB_GeoTiff/Juvika_June2022_Pika_L_21-Crop Wavelengths.wld\n",
      "/media/mha114/Massimal2/Massimal/Bodo_Juvika/Hyperspectral/20220624/Area/2d_R_rs_RGB_GeoTiff/Juvika_June2022_Pika_L_21-Crop Wavelengths.tiff\n"
     ]
    },
    {
     "name": "stderr",
     "output_type": "stream",
     "text": [
      " 39%|███▉      | 14/36 [01:37<02:58,  8.12s/it]"
     ]
    },
    {
     "name": "stdout",
     "output_type": "stream",
     "text": [
      "Juvika_June2022_Pika_L_22-Crop Wavelengths\n",
      "/media/mha114/Massimal2/Massimal/Bodo_Juvika/Hyperspectral/20220624/Area/2_R_rs/Juvika_June2022_Pika_L_22-Crop Wavelengths.lcf\n",
      "/media/mha114/Massimal2/Massimal/Bodo_Juvika/Hyperspectral/20220624/Area/2_R_rs/Juvika_June2022_Pika_L_22-Crop Wavelengths.bip.times\n",
      "/media/mha114/Massimal2/Massimal/Bodo_Juvika/Hyperspectral/20220624/Area/2d_R_rs_RGB_GeoTiff/Juvika_June2022_Pika_L_22-Crop Wavelengths.wld\n",
      "/media/mha114/Massimal2/Massimal/Bodo_Juvika/Hyperspectral/20220624/Area/2d_R_rs_RGB_GeoTiff/Juvika_June2022_Pika_L_22-Crop Wavelengths.tiff\n"
     ]
    },
    {
     "name": "stderr",
     "output_type": "stream",
     "text": [
      " 42%|████▏     | 15/36 [01:45<02:53,  8.27s/it]"
     ]
    },
    {
     "name": "stdout",
     "output_type": "stream",
     "text": [
      "Juvika_June2022_Pika_L_23-Crop Wavelengths\n",
      "/media/mha114/Massimal2/Massimal/Bodo_Juvika/Hyperspectral/20220624/Area/2_R_rs/Juvika_June2022_Pika_L_23-Crop Wavelengths.lcf\n",
      "/media/mha114/Massimal2/Massimal/Bodo_Juvika/Hyperspectral/20220624/Area/2_R_rs/Juvika_June2022_Pika_L_23-Crop Wavelengths.bip.times\n",
      "/media/mha114/Massimal2/Massimal/Bodo_Juvika/Hyperspectral/20220624/Area/2d_R_rs_RGB_GeoTiff/Juvika_June2022_Pika_L_23-Crop Wavelengths.wld\n",
      "/media/mha114/Massimal2/Massimal/Bodo_Juvika/Hyperspectral/20220624/Area/2d_R_rs_RGB_GeoTiff/Juvika_June2022_Pika_L_23-Crop Wavelengths.tiff\n"
     ]
    },
    {
     "name": "stderr",
     "output_type": "stream",
     "text": [
      " 44%|████▍     | 16/36 [01:53<02:39,  8.00s/it]"
     ]
    },
    {
     "name": "stdout",
     "output_type": "stream",
     "text": [
      "Juvika_June2022_Pika_L_24-Crop Wavelengths\n",
      "/media/mha114/Massimal2/Massimal/Bodo_Juvika/Hyperspectral/20220624/Area/2_R_rs/Juvika_June2022_Pika_L_24-Crop Wavelengths.lcf\n",
      "/media/mha114/Massimal2/Massimal/Bodo_Juvika/Hyperspectral/20220624/Area/2_R_rs/Juvika_June2022_Pika_L_24-Crop Wavelengths.bip.times\n",
      "/media/mha114/Massimal2/Massimal/Bodo_Juvika/Hyperspectral/20220624/Area/2d_R_rs_RGB_GeoTiff/Juvika_June2022_Pika_L_24-Crop Wavelengths.wld\n",
      "/media/mha114/Massimal2/Massimal/Bodo_Juvika/Hyperspectral/20220624/Area/2d_R_rs_RGB_GeoTiff/Juvika_June2022_Pika_L_24-Crop Wavelengths.tiff\n"
     ]
    },
    {
     "name": "stderr",
     "output_type": "stream",
     "text": [
      " 47%|████▋     | 17/36 [02:00<02:28,  7.83s/it]"
     ]
    },
    {
     "name": "stdout",
     "output_type": "stream",
     "text": [
      "Juvika_June2022_Pika_L_25-Crop Wavelengths\n",
      "/media/mha114/Massimal2/Massimal/Bodo_Juvika/Hyperspectral/20220624/Area/2_R_rs/Juvika_June2022_Pika_L_25-Crop Wavelengths.lcf\n",
      "/media/mha114/Massimal2/Massimal/Bodo_Juvika/Hyperspectral/20220624/Area/2_R_rs/Juvika_June2022_Pika_L_25-Crop Wavelengths.bip.times\n",
      "/media/mha114/Massimal2/Massimal/Bodo_Juvika/Hyperspectral/20220624/Area/2d_R_rs_RGB_GeoTiff/Juvika_June2022_Pika_L_25-Crop Wavelengths.wld\n",
      "/media/mha114/Massimal2/Massimal/Bodo_Juvika/Hyperspectral/20220624/Area/2d_R_rs_RGB_GeoTiff/Juvika_June2022_Pika_L_25-Crop Wavelengths.tiff\n"
     ]
    },
    {
     "name": "stderr",
     "output_type": "stream",
     "text": [
      " 50%|█████     | 18/36 [02:11<02:35,  8.64s/it]"
     ]
    },
    {
     "name": "stdout",
     "output_type": "stream",
     "text": [
      "Juvika_June2022_Pika_L_26-Crop Wavelengths\n",
      "/media/mha114/Massimal2/Massimal/Bodo_Juvika/Hyperspectral/20220624/Area/2_R_rs/Juvika_June2022_Pika_L_26-Crop Wavelengths.lcf\n",
      "/media/mha114/Massimal2/Massimal/Bodo_Juvika/Hyperspectral/20220624/Area/2_R_rs/Juvika_June2022_Pika_L_26-Crop Wavelengths.bip.times\n",
      "/media/mha114/Massimal2/Massimal/Bodo_Juvika/Hyperspectral/20220624/Area/2d_R_rs_RGB_GeoTiff/Juvika_June2022_Pika_L_26-Crop Wavelengths.wld\n",
      "/media/mha114/Massimal2/Massimal/Bodo_Juvika/Hyperspectral/20220624/Area/2d_R_rs_RGB_GeoTiff/Juvika_June2022_Pika_L_26-Crop Wavelengths.tiff\n"
     ]
    },
    {
     "name": "stderr",
     "output_type": "stream",
     "text": [
      " 53%|█████▎    | 19/36 [02:18<02:21,  8.35s/it]"
     ]
    },
    {
     "name": "stdout",
     "output_type": "stream",
     "text": [
      "Juvika_June2022_Pika_L_27-Crop Wavelengths\n",
      "/media/mha114/Massimal2/Massimal/Bodo_Juvika/Hyperspectral/20220624/Area/2_R_rs/Juvika_June2022_Pika_L_27-Crop Wavelengths.lcf\n",
      "/media/mha114/Massimal2/Massimal/Bodo_Juvika/Hyperspectral/20220624/Area/2_R_rs/Juvika_June2022_Pika_L_27-Crop Wavelengths.bip.times\n",
      "/media/mha114/Massimal2/Massimal/Bodo_Juvika/Hyperspectral/20220624/Area/2d_R_rs_RGB_GeoTiff/Juvika_June2022_Pika_L_27-Crop Wavelengths.wld\n",
      "/media/mha114/Massimal2/Massimal/Bodo_Juvika/Hyperspectral/20220624/Area/2d_R_rs_RGB_GeoTiff/Juvika_June2022_Pika_L_27-Crop Wavelengths.tiff\n"
     ]
    },
    {
     "name": "stderr",
     "output_type": "stream",
     "text": [
      " 56%|█████▌    | 20/36 [02:25<02:06,  7.92s/it]"
     ]
    },
    {
     "name": "stdout",
     "output_type": "stream",
     "text": [
      "Juvika_June2022_Pika_L_28-Crop Wavelengths\n",
      "/media/mha114/Massimal2/Massimal/Bodo_Juvika/Hyperspectral/20220624/Area/2_R_rs/Juvika_June2022_Pika_L_28-Crop Wavelengths.lcf\n",
      "/media/mha114/Massimal2/Massimal/Bodo_Juvika/Hyperspectral/20220624/Area/2_R_rs/Juvika_June2022_Pika_L_28-Crop Wavelengths.bip.times\n",
      "/media/mha114/Massimal2/Massimal/Bodo_Juvika/Hyperspectral/20220624/Area/2d_R_rs_RGB_GeoTiff/Juvika_June2022_Pika_L_28-Crop Wavelengths.wld\n",
      "/media/mha114/Massimal2/Massimal/Bodo_Juvika/Hyperspectral/20220624/Area/2d_R_rs_RGB_GeoTiff/Juvika_June2022_Pika_L_28-Crop Wavelengths.tiff\n"
     ]
    },
    {
     "name": "stderr",
     "output_type": "stream",
     "text": [
      " 58%|█████▊    | 21/36 [02:33<01:56,  7.78s/it]"
     ]
    },
    {
     "name": "stdout",
     "output_type": "stream",
     "text": [
      "Juvika_June2022_Pika_L_29-Crop Wavelengths\n",
      "/media/mha114/Massimal2/Massimal/Bodo_Juvika/Hyperspectral/20220624/Area/2_R_rs/Juvika_June2022_Pika_L_29-Crop Wavelengths.lcf\n",
      "/media/mha114/Massimal2/Massimal/Bodo_Juvika/Hyperspectral/20220624/Area/2_R_rs/Juvika_June2022_Pika_L_29-Crop Wavelengths.bip.times\n",
      "/media/mha114/Massimal2/Massimal/Bodo_Juvika/Hyperspectral/20220624/Area/2d_R_rs_RGB_GeoTiff/Juvika_June2022_Pika_L_29-Crop Wavelengths.wld\n",
      "/media/mha114/Massimal2/Massimal/Bodo_Juvika/Hyperspectral/20220624/Area/2d_R_rs_RGB_GeoTiff/Juvika_June2022_Pika_L_29-Crop Wavelengths.tiff\n"
     ]
    },
    {
     "name": "stderr",
     "output_type": "stream",
     "text": [
      " 61%|██████    | 22/36 [02:40<01:47,  7.69s/it]"
     ]
    },
    {
     "name": "stdout",
     "output_type": "stream",
     "text": [
      "Juvika_June2022_Pika_L_3-Crop Wavelengths\n",
      "/media/mha114/Massimal2/Massimal/Bodo_Juvika/Hyperspectral/20220624/Area/2_R_rs/Juvika_June2022_Pika_L_3-Crop Wavelengths.lcf\n",
      "/media/mha114/Massimal2/Massimal/Bodo_Juvika/Hyperspectral/20220624/Area/2_R_rs/Juvika_June2022_Pika_L_3-Crop Wavelengths.bip.times\n",
      "/media/mha114/Massimal2/Massimal/Bodo_Juvika/Hyperspectral/20220624/Area/2d_R_rs_RGB_GeoTiff/Juvika_June2022_Pika_L_3-Crop Wavelengths.wld\n",
      "/media/mha114/Massimal2/Massimal/Bodo_Juvika/Hyperspectral/20220624/Area/2d_R_rs_RGB_GeoTiff/Juvika_June2022_Pika_L_3-Crop Wavelengths.tiff\n"
     ]
    },
    {
     "name": "stderr",
     "output_type": "stream",
     "text": [
      " 64%|██████▍   | 23/36 [02:48<01:39,  7.64s/it]"
     ]
    },
    {
     "name": "stdout",
     "output_type": "stream",
     "text": [
      "Juvika_June2022_Pika_L_30-Crop Wavelengths\n",
      "/media/mha114/Massimal2/Massimal/Bodo_Juvika/Hyperspectral/20220624/Area/2_R_rs/Juvika_June2022_Pika_L_30-Crop Wavelengths.lcf\n",
      "/media/mha114/Massimal2/Massimal/Bodo_Juvika/Hyperspectral/20220624/Area/2_R_rs/Juvika_June2022_Pika_L_30-Crop Wavelengths.bip.times\n",
      "/media/mha114/Massimal2/Massimal/Bodo_Juvika/Hyperspectral/20220624/Area/2d_R_rs_RGB_GeoTiff/Juvika_June2022_Pika_L_30-Crop Wavelengths.wld\n",
      "/media/mha114/Massimal2/Massimal/Bodo_Juvika/Hyperspectral/20220624/Area/2d_R_rs_RGB_GeoTiff/Juvika_June2022_Pika_L_30-Crop Wavelengths.tiff\n"
     ]
    },
    {
     "name": "stderr",
     "output_type": "stream",
     "text": [
      " 67%|██████▋   | 24/36 [02:55<01:32,  7.67s/it]"
     ]
    },
    {
     "name": "stdout",
     "output_type": "stream",
     "text": [
      "Juvika_June2022_Pika_L_31-Crop Wavelengths\n",
      "/media/mha114/Massimal2/Massimal/Bodo_Juvika/Hyperspectral/20220624/Area/2_R_rs/Juvika_June2022_Pika_L_31-Crop Wavelengths.lcf\n",
      "/media/mha114/Massimal2/Massimal/Bodo_Juvika/Hyperspectral/20220624/Area/2_R_rs/Juvika_June2022_Pika_L_31-Crop Wavelengths.bip.times\n",
      "/media/mha114/Massimal2/Massimal/Bodo_Juvika/Hyperspectral/20220624/Area/2d_R_rs_RGB_GeoTiff/Juvika_June2022_Pika_L_31-Crop Wavelengths.wld\n",
      "/media/mha114/Massimal2/Massimal/Bodo_Juvika/Hyperspectral/20220624/Area/2d_R_rs_RGB_GeoTiff/Juvika_June2022_Pika_L_31-Crop Wavelengths.tiff\n"
     ]
    },
    {
     "name": "stderr",
     "output_type": "stream",
     "text": [
      " 69%|██████▉   | 25/36 [03:03<01:24,  7.70s/it]"
     ]
    },
    {
     "name": "stdout",
     "output_type": "stream",
     "text": [
      "Juvika_June2022_Pika_L_32-Crop Wavelengths\n",
      "/media/mha114/Massimal2/Massimal/Bodo_Juvika/Hyperspectral/20220624/Area/2_R_rs/Juvika_June2022_Pika_L_32-Crop Wavelengths.lcf\n",
      "/media/mha114/Massimal2/Massimal/Bodo_Juvika/Hyperspectral/20220624/Area/2_R_rs/Juvika_June2022_Pika_L_32-Crop Wavelengths.bip.times\n",
      "/media/mha114/Massimal2/Massimal/Bodo_Juvika/Hyperspectral/20220624/Area/2d_R_rs_RGB_GeoTiff/Juvika_June2022_Pika_L_32-Crop Wavelengths.wld\n",
      "/media/mha114/Massimal2/Massimal/Bodo_Juvika/Hyperspectral/20220624/Area/2d_R_rs_RGB_GeoTiff/Juvika_June2022_Pika_L_32-Crop Wavelengths.tiff\n"
     ]
    },
    {
     "name": "stderr",
     "output_type": "stream",
     "text": [
      " 72%|███████▏  | 26/36 [03:04<00:55,  5.53s/it]"
     ]
    },
    {
     "name": "stdout",
     "output_type": "stream",
     "text": [
      "Juvika_June2022_Pika_L_33-Crop Wavelengths\n",
      "/media/mha114/Massimal2/Massimal/Bodo_Juvika/Hyperspectral/20220624/Area/2_R_rs/Juvika_June2022_Pika_L_33-Crop Wavelengths.lcf\n",
      "/media/mha114/Massimal2/Massimal/Bodo_Juvika/Hyperspectral/20220624/Area/2_R_rs/Juvika_June2022_Pika_L_33-Crop Wavelengths.bip.times\n",
      "/media/mha114/Massimal2/Massimal/Bodo_Juvika/Hyperspectral/20220624/Area/2d_R_rs_RGB_GeoTiff/Juvika_June2022_Pika_L_33-Crop Wavelengths.wld\n",
      "/media/mha114/Massimal2/Massimal/Bodo_Juvika/Hyperspectral/20220624/Area/2d_R_rs_RGB_GeoTiff/Juvika_June2022_Pika_L_33-Crop Wavelengths.tiff\n"
     ]
    },
    {
     "name": "stderr",
     "output_type": "stream",
     "text": [
      " 75%|███████▌  | 27/36 [03:11<00:54,  6.06s/it]"
     ]
    },
    {
     "name": "stdout",
     "output_type": "stream",
     "text": [
      "Juvika_June2022_Pika_L_34-Crop Wavelengths\n",
      "/media/mha114/Massimal2/Massimal/Bodo_Juvika/Hyperspectral/20220624/Area/2_R_rs/Juvika_June2022_Pika_L_34-Crop Wavelengths.lcf\n",
      "/media/mha114/Massimal2/Massimal/Bodo_Juvika/Hyperspectral/20220624/Area/2_R_rs/Juvika_June2022_Pika_L_34-Crop Wavelengths.bip.times\n",
      "/media/mha114/Massimal2/Massimal/Bodo_Juvika/Hyperspectral/20220624/Area/2d_R_rs_RGB_GeoTiff/Juvika_June2022_Pika_L_34-Crop Wavelengths.wld\n",
      "/media/mha114/Massimal2/Massimal/Bodo_Juvika/Hyperspectral/20220624/Area/2d_R_rs_RGB_GeoTiff/Juvika_June2022_Pika_L_34-Crop Wavelengths.tiff\n"
     ]
    },
    {
     "name": "stderr",
     "output_type": "stream",
     "text": [
      " 78%|███████▊  | 28/36 [03:18<00:51,  6.50s/it]"
     ]
    },
    {
     "name": "stdout",
     "output_type": "stream",
     "text": [
      "Juvika_June2022_Pika_L_35-Crop Wavelengths\n",
      "/media/mha114/Massimal2/Massimal/Bodo_Juvika/Hyperspectral/20220624/Area/2_R_rs/Juvika_June2022_Pika_L_35-Crop Wavelengths.lcf\n",
      "/media/mha114/Massimal2/Massimal/Bodo_Juvika/Hyperspectral/20220624/Area/2_R_rs/Juvika_June2022_Pika_L_35-Crop Wavelengths.bip.times\n",
      "/media/mha114/Massimal2/Massimal/Bodo_Juvika/Hyperspectral/20220624/Area/2d_R_rs_RGB_GeoTiff/Juvika_June2022_Pika_L_35-Crop Wavelengths.wld\n",
      "/media/mha114/Massimal2/Massimal/Bodo_Juvika/Hyperspectral/20220624/Area/2d_R_rs_RGB_GeoTiff/Juvika_June2022_Pika_L_35-Crop Wavelengths.tiff\n"
     ]
    },
    {
     "name": "stderr",
     "output_type": "stream",
     "text": [
      " 81%|████████  | 29/36 [03:19<00:33,  4.76s/it]"
     ]
    },
    {
     "name": "stdout",
     "output_type": "stream",
     "text": [
      "Juvika_June2022_Pika_L_36-Crop Wavelengths\n",
      "/media/mha114/Massimal2/Massimal/Bodo_Juvika/Hyperspectral/20220624/Area/2_R_rs/Juvika_June2022_Pika_L_36-Crop Wavelengths.lcf\n",
      "/media/mha114/Massimal2/Massimal/Bodo_Juvika/Hyperspectral/20220624/Area/2_R_rs/Juvika_June2022_Pika_L_36-Crop Wavelengths.bip.times\n",
      "/media/mha114/Massimal2/Massimal/Bodo_Juvika/Hyperspectral/20220624/Area/2d_R_rs_RGB_GeoTiff/Juvika_June2022_Pika_L_36-Crop Wavelengths.wld\n",
      "/media/mha114/Massimal2/Massimal/Bodo_Juvika/Hyperspectral/20220624/Area/2d_R_rs_RGB_GeoTiff/Juvika_June2022_Pika_L_36-Crop Wavelengths.tiff\n"
     ]
    },
    {
     "name": "stderr",
     "output_type": "stream",
     "text": [
      " 83%|████████▎ | 30/36 [03:23<00:26,  4.38s/it]"
     ]
    },
    {
     "name": "stdout",
     "output_type": "stream",
     "text": [
      "Juvika_June2022_Pika_L_4-Crop Wavelengths\n",
      "/media/mha114/Massimal2/Massimal/Bodo_Juvika/Hyperspectral/20220624/Area/2_R_rs/Juvika_June2022_Pika_L_4-Crop Wavelengths.lcf\n",
      "/media/mha114/Massimal2/Massimal/Bodo_Juvika/Hyperspectral/20220624/Area/2_R_rs/Juvika_June2022_Pika_L_4-Crop Wavelengths.bip.times\n",
      "/media/mha114/Massimal2/Massimal/Bodo_Juvika/Hyperspectral/20220624/Area/2d_R_rs_RGB_GeoTiff/Juvika_June2022_Pika_L_4-Crop Wavelengths.wld\n",
      "/media/mha114/Massimal2/Massimal/Bodo_Juvika/Hyperspectral/20220624/Area/2d_R_rs_RGB_GeoTiff/Juvika_June2022_Pika_L_4-Crop Wavelengths.tiff\n"
     ]
    },
    {
     "name": "stderr",
     "output_type": "stream",
     "text": [
      " 86%|████████▌ | 31/36 [03:30<00:27,  5.42s/it]"
     ]
    },
    {
     "name": "stdout",
     "output_type": "stream",
     "text": [
      "Juvika_June2022_Pika_L_5-Crop Wavelengths\n",
      "/media/mha114/Massimal2/Massimal/Bodo_Juvika/Hyperspectral/20220624/Area/2_R_rs/Juvika_June2022_Pika_L_5-Crop Wavelengths.lcf\n",
      "/media/mha114/Massimal2/Massimal/Bodo_Juvika/Hyperspectral/20220624/Area/2_R_rs/Juvika_June2022_Pika_L_5-Crop Wavelengths.bip.times\n",
      "/media/mha114/Massimal2/Massimal/Bodo_Juvika/Hyperspectral/20220624/Area/2d_R_rs_RGB_GeoTiff/Juvika_June2022_Pika_L_5-Crop Wavelengths.wld\n",
      "/media/mha114/Massimal2/Massimal/Bodo_Juvika/Hyperspectral/20220624/Area/2d_R_rs_RGB_GeoTiff/Juvika_June2022_Pika_L_5-Crop Wavelengths.tiff\n"
     ]
    },
    {
     "name": "stderr",
     "output_type": "stream",
     "text": [
      " 89%|████████▉ | 32/36 [03:35<00:20,  5.03s/it]"
     ]
    },
    {
     "name": "stdout",
     "output_type": "stream",
     "text": [
      "Juvika_June2022_Pika_L_6-Crop Wavelengths\n",
      "/media/mha114/Massimal2/Massimal/Bodo_Juvika/Hyperspectral/20220624/Area/2_R_rs/Juvika_June2022_Pika_L_6-Crop Wavelengths.lcf\n",
      "/media/mha114/Massimal2/Massimal/Bodo_Juvika/Hyperspectral/20220624/Area/2_R_rs/Juvika_June2022_Pika_L_6-Crop Wavelengths.bip.times\n",
      "/media/mha114/Massimal2/Massimal/Bodo_Juvika/Hyperspectral/20220624/Area/2d_R_rs_RGB_GeoTiff/Juvika_June2022_Pika_L_6-Crop Wavelengths.wld\n",
      "/media/mha114/Massimal2/Massimal/Bodo_Juvika/Hyperspectral/20220624/Area/2d_R_rs_RGB_GeoTiff/Juvika_June2022_Pika_L_6-Crop Wavelengths.tiff\n"
     ]
    },
    {
     "name": "stderr",
     "output_type": "stream",
     "text": [
      " 92%|█████████▏| 33/36 [03:42<00:17,  5.83s/it]"
     ]
    },
    {
     "name": "stdout",
     "output_type": "stream",
     "text": [
      "Juvika_June2022_Pika_L_7-Crop Wavelengths\n",
      "/media/mha114/Massimal2/Massimal/Bodo_Juvika/Hyperspectral/20220624/Area/2_R_rs/Juvika_June2022_Pika_L_7-Crop Wavelengths.lcf\n",
      "/media/mha114/Massimal2/Massimal/Bodo_Juvika/Hyperspectral/20220624/Area/2_R_rs/Juvika_June2022_Pika_L_7-Crop Wavelengths.bip.times\n",
      "/media/mha114/Massimal2/Massimal/Bodo_Juvika/Hyperspectral/20220624/Area/2d_R_rs_RGB_GeoTiff/Juvika_June2022_Pika_L_7-Crop Wavelengths.wld\n",
      "/media/mha114/Massimal2/Massimal/Bodo_Juvika/Hyperspectral/20220624/Area/2d_R_rs_RGB_GeoTiff/Juvika_June2022_Pika_L_7-Crop Wavelengths.tiff\n"
     ]
    },
    {
     "name": "stderr",
     "output_type": "stream",
     "text": [
      " 94%|█████████▍| 34/36 [03:50<00:12,  6.33s/it]"
     ]
    },
    {
     "name": "stdout",
     "output_type": "stream",
     "text": [
      "Juvika_June2022_Pika_L_8-Crop Wavelengths\n",
      "/media/mha114/Massimal2/Massimal/Bodo_Juvika/Hyperspectral/20220624/Area/2_R_rs/Juvika_June2022_Pika_L_8-Crop Wavelengths.lcf\n",
      "/media/mha114/Massimal2/Massimal/Bodo_Juvika/Hyperspectral/20220624/Area/2_R_rs/Juvika_June2022_Pika_L_8-Crop Wavelengths.bip.times\n",
      "/media/mha114/Massimal2/Massimal/Bodo_Juvika/Hyperspectral/20220624/Area/2d_R_rs_RGB_GeoTiff/Juvika_June2022_Pika_L_8-Crop Wavelengths.wld\n",
      "/media/mha114/Massimal2/Massimal/Bodo_Juvika/Hyperspectral/20220624/Area/2d_R_rs_RGB_GeoTiff/Juvika_June2022_Pika_L_8-Crop Wavelengths.tiff\n"
     ]
    },
    {
     "name": "stderr",
     "output_type": "stream",
     "text": [
      " 97%|█████████▋| 35/36 [03:57<00:06,  6.70s/it]"
     ]
    },
    {
     "name": "stdout",
     "output_type": "stream",
     "text": [
      "Juvika_June2022_Pika_L_9-Crop Wavelengths\n",
      "/media/mha114/Massimal2/Massimal/Bodo_Juvika/Hyperspectral/20220624/Area/2_R_rs/Juvika_June2022_Pika_L_9-Crop Wavelengths.lcf\n",
      "/media/mha114/Massimal2/Massimal/Bodo_Juvika/Hyperspectral/20220624/Area/2_R_rs/Juvika_June2022_Pika_L_9-Crop Wavelengths.bip.times\n",
      "/media/mha114/Massimal2/Massimal/Bodo_Juvika/Hyperspectral/20220624/Area/2d_R_rs_RGB_GeoTiff/Juvika_June2022_Pika_L_9-Crop Wavelengths.wld\n",
      "/media/mha114/Massimal2/Massimal/Bodo_Juvika/Hyperspectral/20220624/Area/2d_R_rs_RGB_GeoTiff/Juvika_June2022_Pika_L_9-Crop Wavelengths.tiff\n"
     ]
    },
    {
     "name": "stderr",
     "output_type": "stream",
     "text": [
      "100%|██████████| 36/36 [04:05<00:00,  6.83s/it]\n"
     ]
    }
   ],
   "source": [
    "for hyspec_path in tqdm(hyspec_paths): \n",
    "    hyspec_path_stem = hyspec_path.stem.split('.')[0]\n",
    "    lcf_path = hyspec_path.parent / (hyspec_path_stem + '.lcf')\n",
    "    times_path = hyspec_path.parent / (hyspec_path_stem + '.bip.times')\n",
    "    world_file_path = world_file_dir / (hyspec_path_stem + '.wld')\n",
    "    geotiff_path = geotiff_dir / (hyspec_path_stem + '.tiff')\n",
    "    \n",
    "    print(hyspec_path_stem)\n",
    "    print(lcf_path)\n",
    "    print(times_path)\n",
    "    print(world_file_path)\n",
    "    print(geotiff_path)\n",
    "\n",
    "    if lcf_path.exists() and times_path.exists():\n",
    "        utm_epsg = georeferencing.world_file_from_lcf_times_files(lcf_path,times_path,world_file_path)\n",
    "        (image,wl,rgb_ind,metadata) = hyspec_io.load_envi_image(hyspec_path,rgb_only=True)\n",
    "\n",
    "        georeferencing.save_geotiff_with_affine_transform(\n",
    "            image=image,\n",
    "            crs_str=f'EPSG:{utm_epsg}',\n",
    "            geotiff_path=geotiff_path,\n",
    "            world_file_path=world_file_path,\n",
    "            band_names=tuple([str(wl[band_ind]) for band_ind in rgb_ind])\n",
    "        )\n",
    "    else:\n",
    "        warnings.warn(f'{hyspec_path_stem}: Missing .lcf or .times file')"
   ]
  },
  {
   "cell_type": "code",
   "execution_count": null,
   "metadata": {},
   "outputs": [],
   "source": []
  }
 ],
 "metadata": {
  "kernelspec": {
   "display_name": "massimal",
   "language": "python",
   "name": "python3"
  },
  "language_info": {
   "codemirror_mode": {
    "name": "ipython",
    "version": 3
   },
   "file_extension": ".py",
   "mimetype": "text/x-python",
   "name": "python",
   "nbconvert_exporter": "python",
   "pygments_lexer": "ipython3",
   "version": "3.11.7"
  }
 },
 "nbformat": 4,
 "nbformat_minor": 2
}
