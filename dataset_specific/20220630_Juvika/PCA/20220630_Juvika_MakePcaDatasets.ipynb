{
 "cells": [
  {
   "cell_type": "code",
   "execution_count": 1,
   "id": "cafb47bf",
   "metadata": {},
   "outputs": [],
   "source": [
    "# Disable TensorFlow debugging info and warnings\n",
    "import os\n",
    "os.environ['TF_CPP_MIN_LOG_LEVEL'] = '2'  # 2: Info and warnings not displayed "
   ]
  },
  {
   "cell_type": "code",
   "execution_count": 2,
   "id": "e4b73e5e",
   "metadata": {},
   "outputs": [],
   "source": [
    "import tensorflow as tf\n",
    "import numpy as np\n",
    "import skimage.io\n",
    "import matplotlib.pyplot as plt\n",
    "import pathlib\n",
    "import tqdm\n",
    "import annotation, misc, hyspec_io, hyspec_ml, image_render"
   ]
  },
  {
   "cell_type": "code",
   "execution_count": 3,
   "id": "f5f25916-ac5b-499d-92fe-7de3f08ffdd2",
   "metadata": {},
   "outputs": [],
   "source": [
    "# Paths\n",
    "hyspec_dir = pathlib.Path(r'/media/mha114/Massimal/Bodo_Juvika/Hyperspectral/20220624/Area/2_R_rs')\n",
    "pca_model_path = pathlib.Path(r'/media/mha114/Massimal/Bodo_Juvika/Hyperspectral/20220624/Area/M_PcaModelImage_13_20_21_24_25_30_31/pca_model.npz')\n",
    "labels_dir = pathlib.Path(r'/media/mha114/Massimal/Bodo_Juvika/Hyperspectral/20220624/Area/M_OverClusteringAnnotation/all_gray')\n",
    "train_dataset_path = pathlib.Path(r'/media/mha114/Massimal/Bodo_Juvika/Hyperspectral/20220624/Area/3_PcaDatasets/train')\n",
    "val_dataset_path = pathlib.Path(r'/media/mha114/Massimal/Bodo_Juvika/Hyperspectral/20220624/Area/3_PcaDatasets/validation')\n"
   ]
  },
  {
   "cell_type": "code",
   "execution_count": 4,
   "id": "805ddacb-736a-41ac-b2a0-5ad62e2b0d9d",
   "metadata": {},
   "outputs": [],
   "source": [
    "# Parameters\n",
    "training_image_numbers = [13,20,21,24,25,30,31]\n",
    "validation_image_numbers = [15,19,26,29]"
   ]
  },
  {
   "cell_type": "code",
   "execution_count": 5,
   "id": "9dfa8335-8f9e-43af-8f09-10cd08c5fc26",
   "metadata": {},
   "outputs": [
    {
     "name": "stdout",
     "output_type": "stream",
     "text": [
      "X_mean\n",
      "X_std\n",
      "pca_components\n"
     ]
    }
   ],
   "source": [
    "# Load saved PCA model\n",
    "data = {}\n",
    "with np.load(pca_model_path) as npz_files:\n",
    "    for variable_name in npz_files.files:\n",
    "        print(variable_name)\n",
    "        data[variable_name] = npz_files[variable_name]\n",
    "\n",
    "X_mean = data['X_mean']\n",
    "X_std = data['X_std']\n",
    "W_pca = data['pca_components']"
   ]
  },
  {
   "cell_type": "code",
   "execution_count": 6,
   "id": "7f8aa4d8-5d83-48ba-b3f0-99bdf00da4e1",
   "metadata": {},
   "outputs": [],
   "source": [
    "def labeled_images_to_pca_dataset(hyspec_dir,labels_dir,dataset_save_path,image_numbers,W_pca,X_mean,X_std):\n",
    "    \n",
    "    # Lists for collecting data\n",
    "    pca_image_list = []\n",
    "    label_image_list = []\n",
    "    dataset_name_list = []\n",
    "\n",
    "    for im_num in tqdm.tqdm(image_numbers):\n",
    "        hyspec_path = list(hyspec_dir.glob('*_'+str(im_num)+'-*.hdr'))[0]\n",
    "        label_path = list(labels_dir.glob('*_'+str(im_num)+'*'))[0]\n",
    "\n",
    "        hyspec_image,_,_,_ = hyspec_io.load_envi_image(str(hyspec_path))\n",
    "        pca_image = hyspec_ml.pca_transform_image(hyspec_image,W_pca,X_mean,X_std=X_std)\n",
    "        pca_image_list.append(pca_image)\n",
    "        zero_mask = np.all(pca_image==0,axis=2)\n",
    "\n",
    "        label_image = skimage.io.imread(label_path)\n",
    "        label_image[zero_mask] = 0\n",
    "        label_image_list.append(label_image)\n",
    "\n",
    "        dataset_name_list.append(hyspec_path.stem.split(sep='-')[0])\n",
    "    \n",
    "    # Save dataset\n",
    "    dataset = tf.data.Dataset.from_tensor_slices((pca_image_list,label_image_list,dataset_name_list))\n",
    "    tf.data.experimental.save(dataset,str(dataset_save_path))"
   ]
  },
  {
   "cell_type": "code",
   "execution_count": 7,
   "id": "213f88ac-6fd7-47ee-88f6-5a9f7034f06d",
   "metadata": {},
   "outputs": [
    {
     "name": "stderr",
     "output_type": "stream",
     "text": [
      "100%|█████████████████████████████████████████████| 7/7 [02:24<00:00, 20.69s/it]\n"
     ]
    }
   ],
   "source": [
    "labeled_images_to_pca_dataset(hyspec_dir,labels_dir,train_dataset_path,training_image_numbers,W_pca,X_mean,X_std)"
   ]
  },
  {
   "cell_type": "code",
   "execution_count": 8,
   "id": "5360754c-7322-4a67-b78d-18ca3ba76da5",
   "metadata": {},
   "outputs": [
    {
     "name": "stderr",
     "output_type": "stream",
     "text": [
      "100%|█████████████████████████████████████████████| 4/4 [02:29<00:00, 37.31s/it]\n"
     ]
    }
   ],
   "source": [
    "labeled_images_to_pca_dataset(hyspec_dir,labels_dir,val_dataset_path,validation_image_numbers,W_pca,X_mean,X_std)"
   ]
  }
 ],
 "metadata": {
  "kernelspec": {
   "display_name": "Python 3 (ipykernel)",
   "language": "python",
   "name": "python3"
  },
  "language_info": {
   "codemirror_mode": {
    "name": "ipython",
    "version": 3
   },
   "file_extension": ".py",
   "mimetype": "text/x-python",
   "name": "python",
   "nbconvert_exporter": "python",
   "pygments_lexer": "ipython3",
   "version": "3.9.13"
  }
 },
 "nbformat": 4,
 "nbformat_minor": 5
}
