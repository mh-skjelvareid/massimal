{
 "cells": [
  {
   "cell_type": "code",
   "execution_count": 2,
   "id": "bc65ccd6-5dff-4110-825a-95895a421141",
   "metadata": {},
   "outputs": [],
   "source": [
    "# Imports\n",
    "# import skimage, skimage.io\n",
    "# import spectral\n",
    "# import numpy as np\n",
    "# import shutil\n",
    "# import os\n",
    "\n",
    "# Local imports\n",
    "import batch_process"
   ]
  },
  {
   "cell_type": "code",
   "execution_count": 3,
   "id": "9f9812ab-f05e-47f1-84bf-755434637ef2",
   "metadata": {},
   "outputs": [],
   "source": [
    "# Paths\n",
    "input_dir = '/media/mha114/Massimal/Larvik_Olberg/Hyperspectral/Test_Deglint/Input'\n",
    "\n",
    "train_sat_file = '/media/mha114/Massimal/Larvik_Olberg/Hyperspectral/20210825/OlbergAreaS/Raw/OlbergholmenS-21/OlbergholmenS_Pika_L_21_sat.png'\n",
    "train_rad_file = '/media/mha114/Massimal/Larvik_Olberg/Hyperspectral/20210825/OlbergAreaS/Radiance/OlbergholmenS_Pika_L_21-Radiance From Raw Data.bip.hdr'\n",
    "\n",
    "output_dir = '/media/mha114/Massimal/Larvik_Olberg/Hyperspectral/Test_Deglint/Output'\n"
   ]
  },
  {
   "cell_type": "code",
   "execution_count": 4,
   "id": "f723db66-973b-4e9c-bcc0-df820c4d2a16",
   "metadata": {},
   "outputs": [
    {
     "name": "stdout",
     "output_type": "stream",
     "text": [
      "Loading training data /media/mha114/Massimal/Larvik_Olberg/Hyperspectral/20210825/OlbergAreaS/Radiance/OlbergholmenS_Pika_L_21-Radiance From Raw Data.bip.hdr\n",
      "Loading saturation mask /media/mha114/Massimal/Larvik_Olberg/Hyperspectral/20210825/OlbergAreaS/Raw/OlbergholmenS-21/OlbergholmenS_Pika_L_21_sat.png\n",
      "Training Hedley sun glint correction model\n",
      "Found 3 images, adding to batch.\n",
      "Loading input file /media/mha114/Massimal/Larvik_Olberg/Hyperspectral/Test_Deglint/Input/OlbergholmenS_Pika_L_16-Radiance From Raw Data.bip.hdr\n",
      "Saving sun glint corrected file as /media/mha114/Massimal/Larvik_Olberg/Hyperspectral/Test_Deglint/Output/OlbergholmenS_Pika_L_16-Radiance From Raw Data.bip.hdr\n",
      "Loading input file /media/mha114/Massimal/Larvik_Olberg/Hyperspectral/Test_Deglint/Input/OlbergholmenS_Pika_L_17-Radiance From Raw Data.bip.hdr\n",
      "Saving sun glint corrected file as /media/mha114/Massimal/Larvik_Olberg/Hyperspectral/Test_Deglint/Output/OlbergholmenS_Pika_L_17-Radiance From Raw Data.bip.hdr\n",
      "Loading input file /media/mha114/Massimal/Larvik_Olberg/Hyperspectral/Test_Deglint/Input/OlbergholmenS_Pika_L_18-Radiance From Raw Data.bip.hdr\n",
      "Saving sun glint corrected file as /media/mha114/Massimal/Larvik_Olberg/Hyperspectral/Test_Deglint/Output/OlbergholmenS_Pika_L_18-Radiance From Raw Data.bip.hdr\n"
     ]
    }
   ],
   "source": [
    "batch_process.hedley_remove_glint(input_dir,output_dir,train_rad_file,train_sat_file)"
   ]
  }
 ],
 "metadata": {
  "kernelspec": {
   "display_name": "Python 3",
   "language": "python",
   "name": "python3"
  },
  "language_info": {
   "codemirror_mode": {
    "name": "ipython",
    "version": 3
   },
   "file_extension": ".py",
   "mimetype": "text/x-python",
   "name": "python",
   "nbconvert_exporter": "python",
   "pygments_lexer": "ipython3",
   "version": "3.9.4"
  }
 },
 "nbformat": 4,
 "nbformat_minor": 5
}
