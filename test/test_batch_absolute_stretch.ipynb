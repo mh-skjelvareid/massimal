{
 "cells": [
  {
   "cell_type": "code",
   "execution_count": 1,
   "id": "2f3f4941-e69c-4e98-b0d8-35a92670cabe",
   "metadata": {},
   "outputs": [],
   "source": [
    "# Imports\n",
    "import batch_process\n",
    "import numpy as np"
   ]
  },
  {
   "cell_type": "code",
   "execution_count": 8,
   "id": "19c40b22-16d7-49d4-8417-0fb60ea40f1a",
   "metadata": {},
   "outputs": [],
   "source": [
    "# Paths\n",
    "input_dir = '/mnt/datadisk/Massimal/Bodo_Juvika/Hyperspectral/20210418/Transects/Transect1-15m-AGL/Radiance_Georef'\n",
    "output_dir = '/mnt/datadisk/Massimal/Tmp/Test_Absolute_Stretch'"
   ]
  },
  {
   "cell_type": "code",
   "execution_count": 9,
   "id": "29fc2824-556b-48a9-9a0f-b5bf43bca185",
   "metadata": {},
   "outputs": [],
   "source": [
    "# Parameters\n",
    "limits = np.asarray([[0,150],[0,240],[0,120],[0,255]])  "
   ]
  },
  {
   "cell_type": "code",
   "execution_count": 10,
   "id": "8fcca40a-e63a-443d-a2e5-9e7c92170652",
   "metadata": {},
   "outputs": [
    {
     "name": "stdout",
     "output_type": "stream",
     "text": [
      "Found 3 images in input folder.\n",
      "Loading input file /mnt/datadisk/Massimal/Bodo_Juvika/Hyperspectral/20210418/Transects/Transect1-15m-AGL/Radiance_Georef/manual_Pika_L_13-radiance_image.png\n",
      "Saving stretched image file as /mnt/datadisk/Massimal/Tmp/Test_Absolute_Stretch/manual_Pika_L_13-radiance_image.png\n",
      "Loading input file /mnt/datadisk/Massimal/Bodo_Juvika/Hyperspectral/20210418/Transects/Transect1-15m-AGL/Radiance_Georef/manual_Pika_L_14-radiance_image.png\n",
      "Saving stretched image file as /mnt/datadisk/Massimal/Tmp/Test_Absolute_Stretch/manual_Pika_L_14-radiance_image.png\n",
      "Loading input file /mnt/datadisk/Massimal/Bodo_Juvika/Hyperspectral/20210418/Transects/Transect1-15m-AGL/Radiance_Georef/manual_Pika_L_15-radiance_image.png\n",
      "Saving stretched image file as /mnt/datadisk/Massimal/Tmp/Test_Absolute_Stretch/manual_Pika_L_15-radiance_image.png\n"
     ]
    }
   ],
   "source": [
    "# Batch process\n",
    "batch_process.absolute_stretch(input_dir,output_dir,limits,recursive_src=True)"
   ]
  }
 ],
 "metadata": {
  "kernelspec": {
   "display_name": "Python 3",
   "language": "python",
   "name": "python3"
  },
  "language_info": {
   "codemirror_mode": {
    "name": "ipython",
    "version": 3
   },
   "file_extension": ".py",
   "mimetype": "text/x-python",
   "name": "python",
   "nbconvert_exporter": "python",
   "pygments_lexer": "ipython3",
   "version": "3.9.4"
  }
 },
 "nbformat": 4,
 "nbformat_minor": 5
}
