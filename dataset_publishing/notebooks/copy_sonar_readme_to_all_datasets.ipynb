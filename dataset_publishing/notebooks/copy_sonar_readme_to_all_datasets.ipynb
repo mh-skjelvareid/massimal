{
 "cells": [
  {
   "cell_type": "code",
   "execution_count": 1,
   "metadata": {},
   "outputs": [],
   "source": [
    "import shutil\n",
    "from pathlib import Path"
   ]
  },
  {
   "cell_type": "code",
   "execution_count": 4,
   "metadata": {},
   "outputs": [],
   "source": [
    "dataset_paths = [\n",
    "    \"/media/mha114/Massimal2/seabee-minio/larvik/kongsbakkebukta/surface/usv/20230830/massimal_larvik_kongsbakkebukta_20230830_usv/sonar\",\n",
    "    \"/media/mha114/Massimal2/seabee-minio/larvik/olbergholmen/surface/usv/20230830/massimal_larvik_olbergholmen_20230830_usv_north/sonar\",\n",
    "    \"/media/mha114/Massimal2/seabee-minio/larvik/olbergholmen/surface/usv/20230830/massimal_larvik_olbergholmen_20230830_usv_south/sonar\",\n",
    "    \"/media/mha114/Massimal2/seabee-minio/smola/maholmen/surface/usv/20230619/massimal_smola_maholmen_20230619_usv/sonar\",\n",
    "    \"/media/mha114/Massimal2/seabee-minio/smola/skalmen/surface/usv/20230620/massimal_smola_skalmen_20230620_usv/sonar\"\n",
    "    \"/media/mha114/Massimal2/seabee-minio/vega/sola/surface/usv/20220820/massimal_vega_sola_20220820_usv/sonar\",\n",
    "]\n",
    "\n",
    "readme_path = Path(\"readme_usv_sonar.md\")"
   ]
  },
  {
   "cell_type": "code",
   "execution_count": 5,
   "metadata": {},
   "outputs": [
    {
     "name": "stdout",
     "output_type": "stream",
     "text": [
      "Created readme_usv_sonar.md in /media/mha114/Massimal2/seabee-minio/larvik/kongsbakkebukta/surface/usv/20230830/massimal_larvik_kongsbakkebukta_20230830_usv/sonar\n"
     ]
    }
   ],
   "source": [
    "for dataset_path in dataset_paths:\n",
    "    shutil.copy(readme_path, Path(dataset_path) / \"readme_usv_sonar.md\")\n",
    "    print(f\"Copied readme_usv_sonar.md to {dataset_path}\")"
   ]
  },
  {
   "cell_type": "code",
   "execution_count": null,
   "metadata": {},
   "outputs": [],
   "source": []
  }
 ],
 "metadata": {
  "kernelspec": {
   "display_name": "massimal",
   "language": "python",
   "name": "python3"
  },
  "language_info": {
   "codemirror_mode": {
    "name": "ipython",
    "version": 3
   },
   "file_extension": ".py",
   "mimetype": "text/x-python",
   "name": "python",
   "nbconvert_exporter": "python",
   "pygments_lexer": "ipython3",
   "version": "3.11.7"
  }
 },
 "nbformat": 4,
 "nbformat_minor": 2
}
