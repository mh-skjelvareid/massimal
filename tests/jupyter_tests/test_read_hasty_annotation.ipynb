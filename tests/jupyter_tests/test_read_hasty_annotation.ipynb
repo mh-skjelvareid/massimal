{
 "cells": [
  {
   "cell_type": "code",
   "execution_count": 1,
   "id": "ab47be7b-cb5d-47a0-aa98-a267a4d21bb2",
   "metadata": {},
   "outputs": [],
   "source": [
    "# Import annotation functions\n",
    "import annotation"
   ]
  },
  {
   "cell_type": "code",
   "execution_count": 2,
   "id": "bd345ed5-ac73-49d8-8b21-1513cf044e84",
   "metadata": {},
   "outputs": [],
   "source": [
    "# Example annotation JSON file\n",
    "json_gray = '/media/mha114/Massimal/Larvik_Olberg/Hyperspectral/20210825/OlbergAreaS/M_Annotation/20210825_Olbergholmen_Annotation_Grayscale/label_classes.json'\n",
    "json_color = '/media/mha114/Massimal/Larvik_Olberg/Hyperspectral/20210825/OlbergAreaS/M_Annotation/20210825_Olbergholmen_Annotation_ClassColor/label_classes.json'"
   ]
  },
  {
   "cell_type": "code",
   "execution_count": 3,
   "id": "de6f581c-8c91-462f-987e-0a811136cf12",
   "metadata": {},
   "outputs": [],
   "source": [
    "# Read grayscale annotation indices\n",
    "class_dict_gray = annotation.read_hasty_metadata(json_gray)"
   ]
  },
  {
   "cell_type": "code",
   "execution_count": 4,
   "id": "68821981-e44d-43c1-8dbe-12fd972c6612",
   "metadata": {},
   "outputs": [
    {
     "name": "stdout",
     "output_type": "stream",
     "text": [
      "Sand : 1\n",
      "Gravel : 2\n",
      "Mud : 3\n",
      "Terrestrial : 4\n",
      "Zostera marina - dominant : 5\n",
      "Zostera marina - normal : 6\n",
      "Zostera marina - sparse : 7\n",
      "Zostera marina with turf algae : 8\n",
      "Turf algae - dominant : 9\n",
      "Turf algae - normal : 10\n",
      "Turf algae - sparse : 11\n",
      "Rockweed : 12\n",
      "Rockweed with turf algae : 13\n",
      "Fucus serratus : 14\n",
      "Aegagropila (algae ball) : 15\n",
      "Mixed algae classes on soft substrate : 16\n",
      "Saccharina latissima : 17\n"
     ]
    }
   ],
   "source": [
    "for key,value in class_dict_gray.items():\n",
    "    print(key + ' : ' + str(value))"
   ]
  },
  {
   "cell_type": "code",
   "execution_count": 5,
   "id": "e2a3a773-a81a-4e17-a11d-dd831164f4fb",
   "metadata": {},
   "outputs": [],
   "source": [
    "# Read color annotation indices\n",
    "class_dict_color = annotation.read_hasty_metadata(json_color)"
   ]
  },
  {
   "cell_type": "code",
   "execution_count": 6,
   "id": "e2be8668-7ce3-4991-952d-5f7c9b203441",
   "metadata": {},
   "outputs": [
    {
     "name": "stdout",
     "output_type": "stream",
     "text": [
      "Sand : [227, 26, 28]\n",
      "Gravel : [80, 102, 213]\n",
      "Mud : [51, 53, 253]\n",
      "Terrestrial : [56, 0, 214]\n",
      "Zostera marina - dominant : [255, 255, 153]\n",
      "Zostera marina - normal : [106, 61, 154]\n",
      "Zostera marina - sparse : [31, 120, 180]\n",
      "Zostera marina with turf algae : [177, 89, 40]\n",
      "Turf algae - dominant : [198, 245, 146]\n",
      "Turf algae - normal : [228, 71, 81]\n",
      "Turf algae - sparse : [57, 6, 73]\n",
      "Rockweed : [1, 113, 170]\n",
      "Rockweed with turf algae : [195, 31, 64]\n",
      "Fucus serratus : [217, 244, 245]\n",
      "Aegagropila (algae ball) : [146, 94, 141]\n",
      "Mixed algae classes on soft substrate : [238, 10, 171]\n",
      "Saccharina latissima : [165, 169, 24]\n"
     ]
    }
   ],
   "source": [
    "for key,value in class_dict_color.items():\n",
    "    print(key + ' : ' + str(value))"
   ]
  }
 ],
 "metadata": {
  "kernelspec": {
   "display_name": "Python 3",
   "language": "python",
   "name": "python3"
  },
  "language_info": {
   "codemirror_mode": {
    "name": "ipython",
    "version": 3
   },
   "file_extension": ".py",
   "mimetype": "text/x-python",
   "name": "python",
   "nbconvert_exporter": "python",
   "pygments_lexer": "ipython3",
   "version": "3.9.4"
  }
 },
 "nbformat": 4,
 "nbformat_minor": 5
}
