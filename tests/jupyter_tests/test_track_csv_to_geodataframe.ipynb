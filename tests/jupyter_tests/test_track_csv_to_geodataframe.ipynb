{
 "cells": [
  {
   "cell_type": "code",
   "execution_count": 1,
   "id": "c0f8126b",
   "metadata": {},
   "outputs": [],
   "source": [
    "# Imports\n",
    "import video_transect"
   ]
  },
  {
   "cell_type": "code",
   "execution_count": 3,
   "id": "f31f79fa",
   "metadata": {},
   "outputs": [],
   "source": [
    "# Paths\n",
    "csv_file = '/media/mha114/MassimalDataProcessing/20220324_VideoTransectTest/2022-03-24_144702_Bodo/2022-03-24_144702_Bodo.csv'"
   ]
  },
  {
   "cell_type": "code",
   "execution_count": 4,
   "id": "353d82b3",
   "metadata": {},
   "outputs": [],
   "source": [
    "# Read file, get geodataframe\n",
    "gdf = video_transect.track_csv_to_geodataframe(csv_file)"
   ]
  },
  {
   "cell_type": "code",
   "execution_count": 5,
   "id": "d6744532",
   "metadata": {},
   "outputs": [
    {
     "data": {
      "text/html": [
       "<div>\n",
       "<style scoped>\n",
       "    .dataframe tbody tr th:only-of-type {\n",
       "        vertical-align: middle;\n",
       "    }\n",
       "\n",
       "    .dataframe tbody tr th {\n",
       "        vertical-align: top;\n",
       "    }\n",
       "\n",
       "    .dataframe thead th {\n",
       "        text-align: right;\n",
       "    }\n",
       "</style>\n",
       "<table border=\"1\" class=\"dataframe\">\n",
       "  <thead>\n",
       "    <tr style=\"text-align: right;\">\n",
       "      <th></th>\n",
       "      <th>Lat</th>\n",
       "      <th>Lng</th>\n",
       "      <th>Time</th>\n",
       "      <th>TimeDiffSec</th>\n",
       "      <th>geometry</th>\n",
       "    </tr>\n",
       "  </thead>\n",
       "  <tbody>\n",
       "    <tr>\n",
       "      <th>0</th>\n",
       "      <td>67.289851</td>\n",
       "      <td>14.559417</td>\n",
       "      <td>2022-03-24 13:47:03.196000+00:00</td>\n",
       "      <td>0.000</td>\n",
       "      <td>POINT (14.55942 67.28985)</td>\n",
       "    </tr>\n",
       "    <tr>\n",
       "      <th>1</th>\n",
       "      <td>67.289851</td>\n",
       "      <td>14.559417</td>\n",
       "      <td>2022-03-24 13:47:03.196000+00:00</td>\n",
       "      <td>0.000</td>\n",
       "      <td>POINT (14.55942 67.28985)</td>\n",
       "    </tr>\n",
       "    <tr>\n",
       "      <th>2</th>\n",
       "      <td>67.289851</td>\n",
       "      <td>14.559417</td>\n",
       "      <td>2022-03-24 13:47:04.190000+00:00</td>\n",
       "      <td>0.994</td>\n",
       "      <td>POINT (14.55942 67.28985)</td>\n",
       "    </tr>\n",
       "    <tr>\n",
       "      <th>3</th>\n",
       "      <td>67.289851</td>\n",
       "      <td>14.559417</td>\n",
       "      <td>2022-03-24 13:47:05.216000+00:00</td>\n",
       "      <td>2.020</td>\n",
       "      <td>POINT (14.55942 67.28985)</td>\n",
       "    </tr>\n",
       "    <tr>\n",
       "      <th>4</th>\n",
       "      <td>67.289851</td>\n",
       "      <td>14.559417</td>\n",
       "      <td>2022-03-24 13:47:06.206000+00:00</td>\n",
       "      <td>3.010</td>\n",
       "      <td>POINT (14.55942 67.28985)</td>\n",
       "    </tr>\n",
       "  </tbody>\n",
       "</table>\n",
       "</div>"
      ],
      "text/plain": [
       "         Lat        Lng                             Time  TimeDiffSec  \\\n",
       "0  67.289851  14.559417 2022-03-24 13:47:03.196000+00:00        0.000   \n",
       "1  67.289851  14.559417 2022-03-24 13:47:03.196000+00:00        0.000   \n",
       "2  67.289851  14.559417 2022-03-24 13:47:04.190000+00:00        0.994   \n",
       "3  67.289851  14.559417 2022-03-24 13:47:05.216000+00:00        2.020   \n",
       "4  67.289851  14.559417 2022-03-24 13:47:06.206000+00:00        3.010   \n",
       "\n",
       "                    geometry  \n",
       "0  POINT (14.55942 67.28985)  \n",
       "1  POINT (14.55942 67.28985)  \n",
       "2  POINT (14.55942 67.28985)  \n",
       "3  POINT (14.55942 67.28985)  \n",
       "4  POINT (14.55942 67.28985)  "
      ]
     },
     "execution_count": 5,
     "metadata": {},
     "output_type": "execute_result"
    }
   ],
   "source": [
    "# Show first rows\n",
    "gdf.head()"
   ]
  }
 ],
 "metadata": {
  "kernelspec": {
   "display_name": "Python 3 (ipykernel)",
   "language": "python",
   "name": "python3"
  },
  "language_info": {
   "codemirror_mode": {
    "name": "ipython",
    "version": 3
   },
   "file_extension": ".py",
   "mimetype": "text/x-python",
   "name": "python",
   "nbconvert_exporter": "python",
   "pygments_lexer": "ipython3",
   "version": "3.9.12"
  }
 },
 "nbformat": 4,
 "nbformat_minor": 5
}
