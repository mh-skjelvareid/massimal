{
 "cells": [
  {
   "cell_type": "code",
   "execution_count": 1,
   "id": "f54d5d85-ef28-420c-aa5d-3afaf2322db1",
   "metadata": {},
   "outputs": [],
   "source": [
    "# Imports\n",
    "import skimage, skimage.io\n",
    "\n",
    "# Local imports\n",
    "import misc, hyspec_io, preprocess, batch_process"
   ]
  },
  {
   "cell_type": "code",
   "execution_count": 4,
   "id": "9fb66b63-208e-4c35-afb1-11fc5bb033f3",
   "metadata": {},
   "outputs": [],
   "source": [
    "# Paths\n",
    "# input_dir = '/media/mha114/Massimal/Larvik_Olberg/Hyperspectral/20210825/OlbergAreaN-1/Raw'\n",
    "input_dir = '/media/mha114/Massimal/Larvik_Olberg/Hyperspectral/20210825/OlbergAreaS/Raw'"
   ]
  },
  {
   "cell_type": "code",
   "execution_count": 5,
   "id": "09286415-645d-4a3f-acf8-e46421835a38",
   "metadata": {},
   "outputs": [
    {
     "name": "stdout",
     "output_type": "stream",
     "text": [
      "Loading /media/mha114/Massimal/Larvik_Olberg/Hyperspectral/20210825/OlbergAreaS/Raw/OlbergholmenS-1/OlbergholmenS_Pika_L_1.bil.hdr\n",
      "Saving saturation mask as /media/mha114/Massimal/Larvik_Olberg/Hyperspectral/20210825/OlbergAreaS/Raw/OlbergholmenS-1/OlbergholmenS_Pika_L_1_sat.png\n",
      "Loading /media/mha114/Massimal/Larvik_Olberg/Hyperspectral/20210825/OlbergAreaS/Raw/OlbergholmenS-10/OlbergholmenS_Pika_L_10.bil.hdr\n"
     ]
    },
    {
     "name": "stderr",
     "output_type": "stream",
     "text": [
      "/home/mha114/Dropbox/Python/massimal/tools/batch_process.py:33: UserWarning: /media/mha114/Massimal/Larvik_Olberg/Hyperspectral/20210825/OlbergAreaS/Raw/OlbergholmenS-1/OlbergholmenS_Pika_L_1_sat.png is a low contrast image\n",
      "  skimage.io.imsave(mask_file,skimage.img_as_ubyte(mask))\n"
     ]
    },
    {
     "name": "stdout",
     "output_type": "stream",
     "text": [
      "Saving saturation mask as /media/mha114/Massimal/Larvik_Olberg/Hyperspectral/20210825/OlbergAreaS/Raw/OlbergholmenS-10/OlbergholmenS_Pika_L_10_sat.png\n",
      "Loading /media/mha114/Massimal/Larvik_Olberg/Hyperspectral/20210825/OlbergAreaS/Raw/OlbergholmenS-11/OlbergholmenS_Pika_L_11.bil.hdr\n",
      "Saving saturation mask as /media/mha114/Massimal/Larvik_Olberg/Hyperspectral/20210825/OlbergAreaS/Raw/OlbergholmenS-11/OlbergholmenS_Pika_L_11_sat.png\n",
      "Loading /media/mha114/Massimal/Larvik_Olberg/Hyperspectral/20210825/OlbergAreaS/Raw/OlbergholmenS-12/OlbergholmenS_Pika_L_12.bil.hdr\n",
      "Saving saturation mask as /media/mha114/Massimal/Larvik_Olberg/Hyperspectral/20210825/OlbergAreaS/Raw/OlbergholmenS-12/OlbergholmenS_Pika_L_12_sat.png\n"
     ]
    },
    {
     "name": "stderr",
     "output_type": "stream",
     "text": [
      "/home/mha114/Dropbox/Python/massimal/tools/batch_process.py:33: UserWarning: /media/mha114/Massimal/Larvik_Olberg/Hyperspectral/20210825/OlbergAreaS/Raw/OlbergholmenS-12/OlbergholmenS_Pika_L_12_sat.png is a low contrast image\n",
      "  skimage.io.imsave(mask_file,skimage.img_as_ubyte(mask))\n"
     ]
    },
    {
     "name": "stdout",
     "output_type": "stream",
     "text": [
      "Loading /media/mha114/Massimal/Larvik_Olberg/Hyperspectral/20210825/OlbergAreaS/Raw/OlbergholmenS-13/OlbergholmenS_Pika_L_13.bil.hdr\n",
      "Saving saturation mask as /media/mha114/Massimal/Larvik_Olberg/Hyperspectral/20210825/OlbergAreaS/Raw/OlbergholmenS-13/OlbergholmenS_Pika_L_13_sat.png\n",
      "Loading /media/mha114/Massimal/Larvik_Olberg/Hyperspectral/20210825/OlbergAreaS/Raw/OlbergholmenS-14/OlbergholmenS_Pika_L_14.bil.hdr\n",
      "Saving saturation mask as /media/mha114/Massimal/Larvik_Olberg/Hyperspectral/20210825/OlbergAreaS/Raw/OlbergholmenS-14/OlbergholmenS_Pika_L_14_sat.png\n",
      "Loading /media/mha114/Massimal/Larvik_Olberg/Hyperspectral/20210825/OlbergAreaS/Raw/OlbergholmenS-15/OlbergholmenS_Pika_L_15.bil.hdr\n",
      "Saving saturation mask as /media/mha114/Massimal/Larvik_Olberg/Hyperspectral/20210825/OlbergAreaS/Raw/OlbergholmenS-15/OlbergholmenS_Pika_L_15_sat.png\n",
      "Loading /media/mha114/Massimal/Larvik_Olberg/Hyperspectral/20210825/OlbergAreaS/Raw/OlbergholmenS-16/OlbergholmenS_Pika_L_16.bil.hdr\n"
     ]
    },
    {
     "name": "stderr",
     "output_type": "stream",
     "text": [
      "/home/mha114/Dropbox/Python/massimal/tools/batch_process.py:33: UserWarning: /media/mha114/Massimal/Larvik_Olberg/Hyperspectral/20210825/OlbergAreaS/Raw/OlbergholmenS-15/OlbergholmenS_Pika_L_15_sat.png is a low contrast image\n",
      "  skimage.io.imsave(mask_file,skimage.img_as_ubyte(mask))\n"
     ]
    },
    {
     "name": "stdout",
     "output_type": "stream",
     "text": [
      "Saving saturation mask as /media/mha114/Massimal/Larvik_Olberg/Hyperspectral/20210825/OlbergAreaS/Raw/OlbergholmenS-16/OlbergholmenS_Pika_L_16_sat.png\n"
     ]
    },
    {
     "name": "stderr",
     "output_type": "stream",
     "text": [
      "/home/mha114/Dropbox/Python/massimal/tools/batch_process.py:33: UserWarning: /media/mha114/Massimal/Larvik_Olberg/Hyperspectral/20210825/OlbergAreaS/Raw/OlbergholmenS-16/OlbergholmenS_Pika_L_16_sat.png is a low contrast image\n",
      "  skimage.io.imsave(mask_file,skimage.img_as_ubyte(mask))\n"
     ]
    },
    {
     "name": "stdout",
     "output_type": "stream",
     "text": [
      "Loading /media/mha114/Massimal/Larvik_Olberg/Hyperspectral/20210825/OlbergAreaS/Raw/OlbergholmenS-17/OlbergholmenS_Pika_L_17.bil.hdr\n",
      "Saving saturation mask as /media/mha114/Massimal/Larvik_Olberg/Hyperspectral/20210825/OlbergAreaS/Raw/OlbergholmenS-17/OlbergholmenS_Pika_L_17_sat.png\n",
      "Loading /media/mha114/Massimal/Larvik_Olberg/Hyperspectral/20210825/OlbergAreaS/Raw/OlbergholmenS-18/OlbergholmenS_Pika_L_18.bil.hdr\n",
      "Saving saturation mask as /media/mha114/Massimal/Larvik_Olberg/Hyperspectral/20210825/OlbergAreaS/Raw/OlbergholmenS-18/OlbergholmenS_Pika_L_18_sat.png\n",
      "Loading /media/mha114/Massimal/Larvik_Olberg/Hyperspectral/20210825/OlbergAreaS/Raw/OlbergholmenS-19/OlbergholmenS_Pika_L_19.bil.hdr\n",
      "Saving saturation mask as /media/mha114/Massimal/Larvik_Olberg/Hyperspectral/20210825/OlbergAreaS/Raw/OlbergholmenS-19/OlbergholmenS_Pika_L_19_sat.png\n",
      "Loading /media/mha114/Massimal/Larvik_Olberg/Hyperspectral/20210825/OlbergAreaS/Raw/OlbergholmenS-2/OlbergholmenS_Pika_L_2.bil.hdr\n"
     ]
    },
    {
     "name": "stderr",
     "output_type": "stream",
     "text": [
      "/home/mha114/Dropbox/Python/massimal/tools/batch_process.py:33: UserWarning: /media/mha114/Massimal/Larvik_Olberg/Hyperspectral/20210825/OlbergAreaS/Raw/OlbergholmenS-19/OlbergholmenS_Pika_L_19_sat.png is a low contrast image\n",
      "  skimage.io.imsave(mask_file,skimage.img_as_ubyte(mask))\n"
     ]
    },
    {
     "name": "stdout",
     "output_type": "stream",
     "text": [
      "Saving saturation mask as /media/mha114/Massimal/Larvik_Olberg/Hyperspectral/20210825/OlbergAreaS/Raw/OlbergholmenS-2/OlbergholmenS_Pika_L_2_sat.png\n"
     ]
    },
    {
     "name": "stderr",
     "output_type": "stream",
     "text": [
      "/home/mha114/Dropbox/Python/massimal/tools/batch_process.py:33: UserWarning: /media/mha114/Massimal/Larvik_Olberg/Hyperspectral/20210825/OlbergAreaS/Raw/OlbergholmenS-2/OlbergholmenS_Pika_L_2_sat.png is a low contrast image\n",
      "  skimage.io.imsave(mask_file,skimage.img_as_ubyte(mask))\n"
     ]
    },
    {
     "name": "stdout",
     "output_type": "stream",
     "text": [
      "Loading /media/mha114/Massimal/Larvik_Olberg/Hyperspectral/20210825/OlbergAreaS/Raw/OlbergholmenS-20/OlbergholmenS_Pika_L_20.bil.hdr\n",
      "Saving saturation mask as /media/mha114/Massimal/Larvik_Olberg/Hyperspectral/20210825/OlbergAreaS/Raw/OlbergholmenS-20/OlbergholmenS_Pika_L_20_sat.png\n",
      "Loading /media/mha114/Massimal/Larvik_Olberg/Hyperspectral/20210825/OlbergAreaS/Raw/OlbergholmenS-21/OlbergholmenS_Pika_L_21.bil.hdr\n"
     ]
    },
    {
     "name": "stderr",
     "output_type": "stream",
     "text": [
      "/home/mha114/Dropbox/Python/massimal/tools/batch_process.py:33: UserWarning: /media/mha114/Massimal/Larvik_Olberg/Hyperspectral/20210825/OlbergAreaS/Raw/OlbergholmenS-20/OlbergholmenS_Pika_L_20_sat.png is a low contrast image\n",
      "  skimage.io.imsave(mask_file,skimage.img_as_ubyte(mask))\n"
     ]
    },
    {
     "name": "stdout",
     "output_type": "stream",
     "text": [
      "Saving saturation mask as /media/mha114/Massimal/Larvik_Olberg/Hyperspectral/20210825/OlbergAreaS/Raw/OlbergholmenS-21/OlbergholmenS_Pika_L_21_sat.png\n",
      "Loading /media/mha114/Massimal/Larvik_Olberg/Hyperspectral/20210825/OlbergAreaS/Raw/OlbergholmenS-22/OlbergholmenS_Pika_L_22.bil.hdr\n"
     ]
    },
    {
     "name": "stderr",
     "output_type": "stream",
     "text": [
      "/home/mha114/Dropbox/Python/massimal/tools/batch_process.py:33: UserWarning: /media/mha114/Massimal/Larvik_Olberg/Hyperspectral/20210825/OlbergAreaS/Raw/OlbergholmenS-21/OlbergholmenS_Pika_L_21_sat.png is a low contrast image\n",
      "  skimage.io.imsave(mask_file,skimage.img_as_ubyte(mask))\n"
     ]
    },
    {
     "name": "stdout",
     "output_type": "stream",
     "text": [
      "Saving saturation mask as /media/mha114/Massimal/Larvik_Olberg/Hyperspectral/20210825/OlbergAreaS/Raw/OlbergholmenS-22/OlbergholmenS_Pika_L_22_sat.png\n",
      "Loading /media/mha114/Massimal/Larvik_Olberg/Hyperspectral/20210825/OlbergAreaS/Raw/OlbergholmenS-23/OlbergholmenS_Pika_L_23.bil.hdr\n",
      "Saving saturation mask as /media/mha114/Massimal/Larvik_Olberg/Hyperspectral/20210825/OlbergAreaS/Raw/OlbergholmenS-23/OlbergholmenS_Pika_L_23_sat.png\n",
      "Loading /media/mha114/Massimal/Larvik_Olberg/Hyperspectral/20210825/OlbergAreaS/Raw/OlbergholmenS-24/OlbergholmenS_Pika_L_24.bil.hdr\n",
      "Saving saturation mask as /media/mha114/Massimal/Larvik_Olberg/Hyperspectral/20210825/OlbergAreaS/Raw/OlbergholmenS-24/OlbergholmenS_Pika_L_24_sat.png\n",
      "Loading /media/mha114/Massimal/Larvik_Olberg/Hyperspectral/20210825/OlbergAreaS/Raw/OlbergholmenS-25/OlbergholmenS_Pika_L_25.bil.hdr\n",
      "Saving saturation mask as /media/mha114/Massimal/Larvik_Olberg/Hyperspectral/20210825/OlbergAreaS/Raw/OlbergholmenS-25/OlbergholmenS_Pika_L_25_sat.png\n",
      "Loading /media/mha114/Massimal/Larvik_Olberg/Hyperspectral/20210825/OlbergAreaS/Raw/OlbergholmenS-26/OlbergholmenS_Pika_L_26.bil.hdr\n",
      "Saving saturation mask as /media/mha114/Massimal/Larvik_Olberg/Hyperspectral/20210825/OlbergAreaS/Raw/OlbergholmenS-26/OlbergholmenS_Pika_L_26_sat.png\n",
      "Loading /media/mha114/Massimal/Larvik_Olberg/Hyperspectral/20210825/OlbergAreaS/Raw/OlbergholmenS-27/OlbergholmenS_Pika_L_27.bil.hdr\n",
      "Saving saturation mask as /media/mha114/Massimal/Larvik_Olberg/Hyperspectral/20210825/OlbergAreaS/Raw/OlbergholmenS-27/OlbergholmenS_Pika_L_27_sat.png\n",
      "Loading /media/mha114/Massimal/Larvik_Olberg/Hyperspectral/20210825/OlbergAreaS/Raw/OlbergholmenS-28/OlbergholmenS_Pika_L_28.bil.hdr\n",
      "Saving saturation mask as /media/mha114/Massimal/Larvik_Olberg/Hyperspectral/20210825/OlbergAreaS/Raw/OlbergholmenS-28/OlbergholmenS_Pika_L_28_sat.png\n",
      "Loading /media/mha114/Massimal/Larvik_Olberg/Hyperspectral/20210825/OlbergAreaS/Raw/OlbergholmenS-3/OlbergholmenS_Pika_L_3.bil.hdr\n",
      "Saving saturation mask as /media/mha114/Massimal/Larvik_Olberg/Hyperspectral/20210825/OlbergAreaS/Raw/OlbergholmenS-3/OlbergholmenS_Pika_L_3_sat.png\n",
      "Loading /media/mha114/Massimal/Larvik_Olberg/Hyperspectral/20210825/OlbergAreaS/Raw/OlbergholmenS-4/OlbergholmenS_Pika_L_4.bil.hdr\n",
      "Saving saturation mask as /media/mha114/Massimal/Larvik_Olberg/Hyperspectral/20210825/OlbergAreaS/Raw/OlbergholmenS-4/OlbergholmenS_Pika_L_4_sat.png\n",
      "Loading /media/mha114/Massimal/Larvik_Olberg/Hyperspectral/20210825/OlbergAreaS/Raw/OlbergholmenS-5/OlbergholmenS_Pika_L_5.bil.hdr\n",
      "Saving saturation mask as /media/mha114/Massimal/Larvik_Olberg/Hyperspectral/20210825/OlbergAreaS/Raw/OlbergholmenS-5/OlbergholmenS_Pika_L_5_sat.png\n",
      "Loading /media/mha114/Massimal/Larvik_Olberg/Hyperspectral/20210825/OlbergAreaS/Raw/OlbergholmenS-6/OlbergholmenS_Pika_L_6.bil.hdr\n",
      "Saving saturation mask as /media/mha114/Massimal/Larvik_Olberg/Hyperspectral/20210825/OlbergAreaS/Raw/OlbergholmenS-6/OlbergholmenS_Pika_L_6_sat.png\n",
      "Loading /media/mha114/Massimal/Larvik_Olberg/Hyperspectral/20210825/OlbergAreaS/Raw/OlbergholmenS-7/OlbergholmenS_Pika_L_7.bil.hdr\n",
      "Saving saturation mask as /media/mha114/Massimal/Larvik_Olberg/Hyperspectral/20210825/OlbergAreaS/Raw/OlbergholmenS-7/OlbergholmenS_Pika_L_7_sat.png\n",
      "Loading /media/mha114/Massimal/Larvik_Olberg/Hyperspectral/20210825/OlbergAreaS/Raw/OlbergholmenS-8/OlbergholmenS_Pika_L_8.bil.hdr\n",
      "Saving saturation mask as /media/mha114/Massimal/Larvik_Olberg/Hyperspectral/20210825/OlbergAreaS/Raw/OlbergholmenS-8/OlbergholmenS_Pika_L_8_sat.png\n",
      "Loading /media/mha114/Massimal/Larvik_Olberg/Hyperspectral/20210825/OlbergAreaS/Raw/OlbergholmenS-9/OlbergholmenS_Pika_L_9.bil.hdr\n"
     ]
    },
    {
     "name": "stderr",
     "output_type": "stream",
     "text": [
      "/home/mha114/Dropbox/Python/massimal/tools/batch_process.py:33: UserWarning: /media/mha114/Massimal/Larvik_Olberg/Hyperspectral/20210825/OlbergAreaS/Raw/OlbergholmenS-8/OlbergholmenS_Pika_L_8_sat.png is a low contrast image\n",
      "  skimage.io.imsave(mask_file,skimage.img_as_ubyte(mask))\n"
     ]
    },
    {
     "name": "stdout",
     "output_type": "stream",
     "text": [
      "Saving saturation mask as /media/mha114/Massimal/Larvik_Olberg/Hyperspectral/20210825/OlbergAreaS/Raw/OlbergholmenS-9/OlbergholmenS_Pika_L_9_sat.png\n"
     ]
    }
   ],
   "source": [
    "batch_process.detect_saturated(input_dir,recursive_src=True)"
   ]
  }
 ],
 "metadata": {
  "kernelspec": {
   "display_name": "Python 3",
   "language": "python",
   "name": "python3"
  },
  "language_info": {
   "codemirror_mode": {
    "name": "ipython",
    "version": 3
   },
   "file_extension": ".py",
   "mimetype": "text/x-python",
   "name": "python",
   "nbconvert_exporter": "python",
   "pygments_lexer": "ipython3",
   "version": "3.9.4"
  }
 },
 "nbformat": 4,
 "nbformat_minor": 5
}
