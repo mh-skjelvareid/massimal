{
 "cells": [
  {
   "cell_type": "code",
   "execution_count": 1,
   "id": "8fe9ffb6-79c6-467b-ad5f-69e02b231459",
   "metadata": {},
   "outputs": [],
   "source": [
    "# Imports \n",
    "import batch_process"
   ]
  },
  {
   "cell_type": "code",
   "execution_count": 2,
   "id": "01811d4e-6a0a-4333-b3c8-8e5b5ae5b8d1",
   "metadata": {},
   "outputs": [],
   "source": [
    "# Paths\n",
    "input_dir = '/media/mha114/Massimal/Larvik_Olberg/Hyperspectral/20210825/OlbergAreaS/X_Test_Stretch'\n",
    "#input_dir = '/media/mha114/Massimal/Larvik_Olberg/Hyperspectral/20210825/OlbergAreaS/4_Rad_Georef_SGC'\n",
    "output_dir = '/media/mha114/Massimal/Larvik_Olberg/Hyperspectral/20210825/OlbergAreaS/X_Test_Stretch'"
   ]
  },
  {
   "cell_type": "code",
   "execution_count": 3,
   "id": "4d43f100-5741-4f81-9a36-f070e5cf3fdc",
   "metadata": {},
   "outputs": [
    {
     "name": "stdout",
     "output_type": "stream",
     "text": [
      "Found 3 images in input folder.\n",
      "Loading input file /media/mha114/Massimal/Larvik_Olberg/Hyperspectral/20210825/OlbergAreaS/X_Test_Stretch/OlbergholmenS_Pika_L_2-Radiance From Raw Data-Georectify Airborne Datacube.bip.hdr\n",
      "Saving RGB render of hyperspectral file as /media/mha114/Massimal/Larvik_Olberg/Hyperspectral/20210825/OlbergAreaS/X_Test_Stretch/OlbergholmenS_Pika_L_2-Radiance From Raw Data-Georectify Airborne Datacube.png\n",
      "Loading input file /media/mha114/Massimal/Larvik_Olberg/Hyperspectral/20210825/OlbergAreaS/X_Test_Stretch/OlbergholmenS_Pika_L_3-Radiance From Raw Data-Georectify Airborne Datacube.bip.hdr\n",
      "Saving RGB render of hyperspectral file as /media/mha114/Massimal/Larvik_Olberg/Hyperspectral/20210825/OlbergAreaS/X_Test_Stretch/OlbergholmenS_Pika_L_3-Radiance From Raw Data-Georectify Airborne Datacube.png\n",
      "Loading input file /media/mha114/Massimal/Larvik_Olberg/Hyperspectral/20210825/OlbergAreaS/X_Test_Stretch/OlbergholmenS_Pika_L_4-Radiance From Raw Data-Georectify Airborne Datacube.bip.hdr\n",
      "Saving RGB render of hyperspectral file as /media/mha114/Massimal/Larvik_Olberg/Hyperspectral/20210825/OlbergAreaS/X_Test_Stretch/OlbergholmenS_Pika_L_4-Radiance From Raw Data-Georectify Airborne Datacube.png\n"
     ]
    }
   ],
   "source": [
    "# Render\n",
    "batch_process.envi_rgb_render(input_dir,output_dir,inpaint=True)"
   ]
  }
 ],
 "metadata": {
  "kernelspec": {
   "display_name": "Python 3",
   "language": "python",
   "name": "python3"
  },
  "language_info": {
   "codemirror_mode": {
    "name": "ipython",
    "version": 3
   },
   "file_extension": ".py",
   "mimetype": "text/x-python",
   "name": "python",
   "nbconvert_exporter": "python",
   "pygments_lexer": "ipython3",
   "version": "3.9.4"
  }
 },
 "nbformat": 4,
 "nbformat_minor": 5
}
