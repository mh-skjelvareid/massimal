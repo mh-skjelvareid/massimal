{
 "cells": [
  {
   "cell_type": "code",
   "execution_count": 1,
   "id": "edc6e579-9bbe-4db8-b6c8-147d3016da6f",
   "metadata": {},
   "outputs": [],
   "source": [
    "import misc"
   ]
  },
  {
   "cell_type": "code",
   "execution_count": 2,
   "id": "866cfea8-e196-4ca8-80fb-d960b4bc45b1",
   "metadata": {},
   "outputs": [],
   "source": [
    "hdr_file = '/media/mha114/Massimal/Larvik_Olberg/Hyperspectral/Test_Deglint/Input/OlbergholmenS_Pika_L_16-Radiance From Raw Data.bip.hdr'\n",
    "dest_dir = '/home/mha114/Downloads'"
   ]
  },
  {
   "cell_type": "code",
   "execution_count": 4,
   "id": "b8d9dba3-1212-4c97-bcdc-942ad22ee7d8",
   "metadata": {},
   "outputs": [],
   "source": [
    "misc.copy_hyspec_aux_files(hdr_file,dest_dir)"
   ]
  }
 ],
 "metadata": {
  "kernelspec": {
   "display_name": "Python 3",
   "language": "python",
   "name": "python3"
  },
  "language_info": {
   "codemirror_mode": {
    "name": "ipython",
    "version": 3
   },
   "file_extension": ".py",
   "mimetype": "text/x-python",
   "name": "python",
   "nbconvert_exporter": "python",
   "pygments_lexer": "ipython3",
   "version": "3.9.4"
  }
 },
 "nbformat": 4,
 "nbformat_minor": 5
}
