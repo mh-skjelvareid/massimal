{
 "cells": [
  {
   "cell_type": "markdown",
   "id": "b1dc4f30",
   "metadata": {},
   "source": [
    "Converting from datetime to seconds: https://stackoverflow.com/questions/40992976/python-convert-datetime-column-into-seconds\n",
    "\n",
    "See also https://stackoverflow.com/questions/48787670/convert-hours-into-seconds-con-pandas \n",
    "\n",
    "and https://datatofish.com/strings-to-datetime-pandas/\n",
    "\n",
    "CSV to GeoDataFrame: https://anitagraser.com/2019/01/23/from-csv-to-geodataframe-in-two-lines/ \n",
    "\n",
    "GeoDataFrame to GeoPackage: https://gis.stackexchange.com/questions/298530/how-do-i-write-a-geopandas-dataframe-into-a-single-file-preferably-json-or-geop\n"
   ]
  },
  {
   "cell_type": "code",
   "execution_count": 1,
   "id": "632598a6",
   "metadata": {},
   "outputs": [],
   "source": [
    "# Imports\n",
    "import pandas as pd\n",
    "import geopandas\n",
    "import datetime\n",
    "import shapely\n",
    "import warnings"
   ]
  },
  {
   "cell_type": "code",
   "execution_count": 2,
   "id": "283fea66",
   "metadata": {},
   "outputs": [],
   "source": [
    "# Filter future warnings\n",
    "from shapely.errors import ShapelyDeprecationWarning\n",
    "#warnings.filterwarnings(\"ignore\", category=ShapelyDeprecationWarning) \n",
    "warnings.simplefilter(action='ignore', category=FutureWarning)"
   ]
  },
  {
   "cell_type": "code",
   "execution_count": 3,
   "id": "6caa46c8",
   "metadata": {},
   "outputs": [],
   "source": [
    "# Paths\n",
    "pos_file = '/media/mha114/MassimalDataProcessing/20220324_VideoTransectTest/2022-03-24_144702_Bodo/2022-03-24_144702_Bodo.csv'\n",
    "save_file = '/media/mha114/MassimalDataProcessing/20220324_VideoTransectTest/test_output.gpkg'"
   ]
  },
  {
   "cell_type": "code",
   "execution_count": 4,
   "id": "16f181f8",
   "metadata": {},
   "outputs": [],
   "source": [
    "# Read file (only position and timestamp)\n",
    "data = pd.read_csv(pos_file, usecols=['Lat','Lng','Time'])"
   ]
  },
  {
   "cell_type": "code",
   "execution_count": 5,
   "id": "d4e3c3ce",
   "metadata": {},
   "outputs": [
    {
     "data": {
      "text/html": [
       "<div>\n",
       "<style scoped>\n",
       "    .dataframe tbody tr th:only-of-type {\n",
       "        vertical-align: middle;\n",
       "    }\n",
       "\n",
       "    .dataframe tbody tr th {\n",
       "        vertical-align: top;\n",
       "    }\n",
       "\n",
       "    .dataframe thead th {\n",
       "        text-align: right;\n",
       "    }\n",
       "</style>\n",
       "<table border=\"1\" class=\"dataframe\">\n",
       "  <thead>\n",
       "    <tr style=\"text-align: right;\">\n",
       "      <th></th>\n",
       "      <th>Lat</th>\n",
       "      <th>Lng</th>\n",
       "      <th>Time</th>\n",
       "    </tr>\n",
       "  </thead>\n",
       "  <tbody>\n",
       "    <tr>\n",
       "      <th>0</th>\n",
       "      <td>67.289851</td>\n",
       "      <td>14.559417</td>\n",
       "      <td>2022-03-24T13:47:03.196Z</td>\n",
       "    </tr>\n",
       "    <tr>\n",
       "      <th>1</th>\n",
       "      <td>67.289851</td>\n",
       "      <td>14.559417</td>\n",
       "      <td>2022-03-24T13:47:03.196Z</td>\n",
       "    </tr>\n",
       "    <tr>\n",
       "      <th>2</th>\n",
       "      <td>67.289851</td>\n",
       "      <td>14.559417</td>\n",
       "      <td>2022-03-24T13:47:04.190Z</td>\n",
       "    </tr>\n",
       "    <tr>\n",
       "      <th>3</th>\n",
       "      <td>67.289851</td>\n",
       "      <td>14.559417</td>\n",
       "      <td>2022-03-24T13:47:05.216Z</td>\n",
       "    </tr>\n",
       "    <tr>\n",
       "      <th>4</th>\n",
       "      <td>67.289851</td>\n",
       "      <td>14.559417</td>\n",
       "      <td>2022-03-24T13:47:06.206Z</td>\n",
       "    </tr>\n",
       "  </tbody>\n",
       "</table>\n",
       "</div>"
      ],
      "text/plain": [
       "         Lat        Lng                      Time\n",
       "0  67.289851  14.559417  2022-03-24T13:47:03.196Z\n",
       "1  67.289851  14.559417  2022-03-24T13:47:03.196Z\n",
       "2  67.289851  14.559417  2022-03-24T13:47:04.190Z\n",
       "3  67.289851  14.559417  2022-03-24T13:47:05.216Z\n",
       "4  67.289851  14.559417  2022-03-24T13:47:06.206Z"
      ]
     },
     "execution_count": 5,
     "metadata": {},
     "output_type": "execute_result"
    }
   ],
   "source": [
    "# Show dataframe before modifications\n",
    "data.head()"
   ]
  },
  {
   "cell_type": "code",
   "execution_count": 6,
   "id": "06840cca",
   "metadata": {},
   "outputs": [],
   "source": [
    "# Convert time string to datetime format, and add column with time differences\n",
    "data['Time'] = pd.to_datetime(data['Time'])\n",
    "data['TimeDiffSec'] = pd.to_timedelta(data['Time'] - data['Time'][0]).dt.total_seconds()"
   ]
  },
  {
   "cell_type": "code",
   "execution_count": 7,
   "id": "d2f3a6f5",
   "metadata": {},
   "outputs": [],
   "source": [
    "# Create GeoDataFrame\n",
    "gdf = geopandas.GeoDataFrame(\n",
    "    data,\n",
    "    crs = 'EPSG:4326',\n",
    "    geometry=geopandas.points_from_xy(data.Lng, data.Lat))"
   ]
  },
  {
   "cell_type": "code",
   "execution_count": 8,
   "id": "1be86749",
   "metadata": {},
   "outputs": [
    {
     "data": {
      "text/html": [
       "<div>\n",
       "<style scoped>\n",
       "    .dataframe tbody tr th:only-of-type {\n",
       "        vertical-align: middle;\n",
       "    }\n",
       "\n",
       "    .dataframe tbody tr th {\n",
       "        vertical-align: top;\n",
       "    }\n",
       "\n",
       "    .dataframe thead th {\n",
       "        text-align: right;\n",
       "    }\n",
       "</style>\n",
       "<table border=\"1\" class=\"dataframe\">\n",
       "  <thead>\n",
       "    <tr style=\"text-align: right;\">\n",
       "      <th></th>\n",
       "      <th>Lat</th>\n",
       "      <th>Lng</th>\n",
       "      <th>Time</th>\n",
       "      <th>TimeDiffSec</th>\n",
       "      <th>geometry</th>\n",
       "    </tr>\n",
       "  </thead>\n",
       "  <tbody>\n",
       "    <tr>\n",
       "      <th>0</th>\n",
       "      <td>67.289851</td>\n",
       "      <td>14.559417</td>\n",
       "      <td>2022-03-24 13:47:03.196000+00:00</td>\n",
       "      <td>0.000</td>\n",
       "      <td>POINT (14.55942 67.28985)</td>\n",
       "    </tr>\n",
       "    <tr>\n",
       "      <th>1</th>\n",
       "      <td>67.289851</td>\n",
       "      <td>14.559417</td>\n",
       "      <td>2022-03-24 13:47:03.196000+00:00</td>\n",
       "      <td>0.000</td>\n",
       "      <td>POINT (14.55942 67.28985)</td>\n",
       "    </tr>\n",
       "    <tr>\n",
       "      <th>2</th>\n",
       "      <td>67.289851</td>\n",
       "      <td>14.559417</td>\n",
       "      <td>2022-03-24 13:47:04.190000+00:00</td>\n",
       "      <td>0.994</td>\n",
       "      <td>POINT (14.55942 67.28985)</td>\n",
       "    </tr>\n",
       "    <tr>\n",
       "      <th>3</th>\n",
       "      <td>67.289851</td>\n",
       "      <td>14.559417</td>\n",
       "      <td>2022-03-24 13:47:05.216000+00:00</td>\n",
       "      <td>2.020</td>\n",
       "      <td>POINT (14.55942 67.28985)</td>\n",
       "    </tr>\n",
       "    <tr>\n",
       "      <th>4</th>\n",
       "      <td>67.289851</td>\n",
       "      <td>14.559417</td>\n",
       "      <td>2022-03-24 13:47:06.206000+00:00</td>\n",
       "      <td>3.010</td>\n",
       "      <td>POINT (14.55942 67.28985)</td>\n",
       "    </tr>\n",
       "  </tbody>\n",
       "</table>\n",
       "</div>"
      ],
      "text/plain": [
       "         Lat        Lng                             Time  TimeDiffSec  \\\n",
       "0  67.289851  14.559417 2022-03-24 13:47:03.196000+00:00        0.000   \n",
       "1  67.289851  14.559417 2022-03-24 13:47:03.196000+00:00        0.000   \n",
       "2  67.289851  14.559417 2022-03-24 13:47:04.190000+00:00        0.994   \n",
       "3  67.289851  14.559417 2022-03-24 13:47:05.216000+00:00        2.020   \n",
       "4  67.289851  14.559417 2022-03-24 13:47:06.206000+00:00        3.010   \n",
       "\n",
       "                    geometry  \n",
       "0  POINT (14.55942 67.28985)  \n",
       "1  POINT (14.55942 67.28985)  \n",
       "2  POINT (14.55942 67.28985)  \n",
       "3  POINT (14.55942 67.28985)  \n",
       "4  POINT (14.55942 67.28985)  "
      ]
     },
     "execution_count": 8,
     "metadata": {},
     "output_type": "execute_result"
    }
   ],
   "source": [
    "# Show GeoDataFrame\n",
    "gdf.head()"
   ]
  },
  {
   "cell_type": "code",
   "execution_count": 9,
   "id": "44303d18",
   "metadata": {},
   "outputs": [],
   "source": [
    "# Iterate over rows, add (dummy) filenames\n",
    "gdf['DummyFile'] = ['DummyFileName_' + str(i).zfill(8) for i in range(gdf.shape[0])]"
   ]
  },
  {
   "cell_type": "code",
   "execution_count": 10,
   "id": "6b569eb0",
   "metadata": {},
   "outputs": [
    {
     "data": {
      "text/html": [
       "<div>\n",
       "<style scoped>\n",
       "    .dataframe tbody tr th:only-of-type {\n",
       "        vertical-align: middle;\n",
       "    }\n",
       "\n",
       "    .dataframe tbody tr th {\n",
       "        vertical-align: top;\n",
       "    }\n",
       "\n",
       "    .dataframe thead th {\n",
       "        text-align: right;\n",
       "    }\n",
       "</style>\n",
       "<table border=\"1\" class=\"dataframe\">\n",
       "  <thead>\n",
       "    <tr style=\"text-align: right;\">\n",
       "      <th></th>\n",
       "      <th>Lat</th>\n",
       "      <th>Lng</th>\n",
       "      <th>Time</th>\n",
       "      <th>TimeDiffSec</th>\n",
       "      <th>geometry</th>\n",
       "      <th>DummyFile</th>\n",
       "    </tr>\n",
       "  </thead>\n",
       "  <tbody>\n",
       "    <tr>\n",
       "      <th>0</th>\n",
       "      <td>67.289851</td>\n",
       "      <td>14.559417</td>\n",
       "      <td>2022-03-24 13:47:03.196000+00:00</td>\n",
       "      <td>0.000</td>\n",
       "      <td>POINT (14.55942 67.28985)</td>\n",
       "      <td>DummyFileName_00000000</td>\n",
       "    </tr>\n",
       "    <tr>\n",
       "      <th>1</th>\n",
       "      <td>67.289851</td>\n",
       "      <td>14.559417</td>\n",
       "      <td>2022-03-24 13:47:03.196000+00:00</td>\n",
       "      <td>0.000</td>\n",
       "      <td>POINT (14.55942 67.28985)</td>\n",
       "      <td>DummyFileName_00000001</td>\n",
       "    </tr>\n",
       "    <tr>\n",
       "      <th>2</th>\n",
       "      <td>67.289851</td>\n",
       "      <td>14.559417</td>\n",
       "      <td>2022-03-24 13:47:04.190000+00:00</td>\n",
       "      <td>0.994</td>\n",
       "      <td>POINT (14.55942 67.28985)</td>\n",
       "      <td>DummyFileName_00000002</td>\n",
       "    </tr>\n",
       "    <tr>\n",
       "      <th>3</th>\n",
       "      <td>67.289851</td>\n",
       "      <td>14.559417</td>\n",
       "      <td>2022-03-24 13:47:05.216000+00:00</td>\n",
       "      <td>2.020</td>\n",
       "      <td>POINT (14.55942 67.28985)</td>\n",
       "      <td>DummyFileName_00000003</td>\n",
       "    </tr>\n",
       "    <tr>\n",
       "      <th>4</th>\n",
       "      <td>67.289851</td>\n",
       "      <td>14.559417</td>\n",
       "      <td>2022-03-24 13:47:06.206000+00:00</td>\n",
       "      <td>3.010</td>\n",
       "      <td>POINT (14.55942 67.28985)</td>\n",
       "      <td>DummyFileName_00000004</td>\n",
       "    </tr>\n",
       "  </tbody>\n",
       "</table>\n",
       "</div>"
      ],
      "text/plain": [
       "         Lat        Lng                             Time  TimeDiffSec  \\\n",
       "0  67.289851  14.559417 2022-03-24 13:47:03.196000+00:00        0.000   \n",
       "1  67.289851  14.559417 2022-03-24 13:47:03.196000+00:00        0.000   \n",
       "2  67.289851  14.559417 2022-03-24 13:47:04.190000+00:00        0.994   \n",
       "3  67.289851  14.559417 2022-03-24 13:47:05.216000+00:00        2.020   \n",
       "4  67.289851  14.559417 2022-03-24 13:47:06.206000+00:00        3.010   \n",
       "\n",
       "                    geometry               DummyFile  \n",
       "0  POINT (14.55942 67.28985)  DummyFileName_00000000  \n",
       "1  POINT (14.55942 67.28985)  DummyFileName_00000001  \n",
       "2  POINT (14.55942 67.28985)  DummyFileName_00000002  \n",
       "3  POINT (14.55942 67.28985)  DummyFileName_00000003  \n",
       "4  POINT (14.55942 67.28985)  DummyFileName_00000004  "
      ]
     },
     "execution_count": 10,
     "metadata": {},
     "output_type": "execute_result"
    }
   ],
   "source": [
    "gdf.head()"
   ]
  },
  {
   "cell_type": "code",
   "execution_count": 11,
   "id": "83b27a3b",
   "metadata": {},
   "outputs": [],
   "source": [
    "# Save as geopackage\n",
    "gdf.to_file(save_file, driver=\"GPKG\")"
   ]
  }
 ],
 "metadata": {
  "kernelspec": {
   "display_name": "Python 3 (ipykernel)",
   "language": "python",
   "name": "python3"
  },
  "language_info": {
   "codemirror_mode": {
    "name": "ipython",
    "version": 3
   },
   "file_extension": ".py",
   "mimetype": "text/x-python",
   "name": "python",
   "nbconvert_exporter": "python",
   "pygments_lexer": "ipython3",
   "version": "3.9.12"
  }
 },
 "nbformat": 4,
 "nbformat_minor": 5
}
