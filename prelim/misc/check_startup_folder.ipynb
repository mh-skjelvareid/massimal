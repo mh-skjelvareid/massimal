{
 "cells": [
  {
   "cell_type": "code",
   "execution_count": 2,
   "id": "352d649a-0e7f-45cc-9ff9-208f64e81ef2",
   "metadata": {},
   "outputs": [
    {
     "name": "stdout",
     "output_type": "stream",
     "text": [
      "C:\\Users\\mha114\\.ipython\\profile_default\\startup\n"
     ]
    }
   ],
   "source": [
    "import pathlib\n",
    "startup_dir = pathlib.Path(get_ipython().profile_dir.startup_dir)\n",
    "print(startup_dir)"
   ]
  },
  {
   "cell_type": "code",
   "execution_count": 6,
   "id": "7d4e469a-a975-4855-9dc2-d12726d8d7b4",
   "metadata": {},
   "outputs": [
    {
     "name": "stdout",
     "output_type": "stream",
     "text": [
      "import sys\n",
      "sys.path.append(\"C:\\\\Users\\\\mha114\\\\Dropbox\\\\Python\\\\massimal\\\\tools\")\n"
     ]
    }
   ],
   "source": [
    "with open(startup_dir / 'jupyter_startup.py') as f: # The with keyword automatically closes the file when you are done\n",
    "...     print(f.read())"
   ]
  }
 ],
 "metadata": {
  "kernelspec": {
   "display_name": "Python 3 (ipykernel)",
   "language": "python",
   "name": "python3"
  },
  "language_info": {
   "codemirror_mode": {
    "name": "ipython",
    "version": 3
   },
   "file_extension": ".py",
   "mimetype": "text/x-python",
   "name": "python",
   "nbconvert_exporter": "python",
   "pygments_lexer": "ipython3",
   "version": "3.11.3"
  }
 },
 "nbformat": 4,
 "nbformat_minor": 5
}
