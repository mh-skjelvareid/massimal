{
 "cells": [
  {
   "cell_type": "code",
   "execution_count": 1,
   "id": "0af7f2f3",
   "metadata": {},
   "outputs": [],
   "source": [
    "#%% Imports\n",
    "import os\n",
    "import numpy as np\n",
    "import spectral\n",
    "import glob\n"
   ]
  },
  {
   "cell_type": "code",
   "execution_count": 2,
   "id": "8a40ff0d",
   "metadata": {},
   "outputs": [],
   "source": [
    "#%% Path\n",
    "# specDir = '/mnt/datadisk/Massimal/Tmp/_RefSpectra_Rad/'\n",
    "specDir = '/media/mha114/MassimalDataProcessing/Larvik_Olberg/Hyperspectral/20210825/_RefSpectra_Rad/'\n",
    "filenames = glob.glob(specDir + '*.hdr')"
   ]
  },
  {
   "cell_type": "code",
   "execution_count": 3,
   "id": "48fb4dff",
   "metadata": {},
   "outputs": [],
   "source": [
    "#%% Append line indicating byte order to all header files\n",
    "for filename in filenames:\n",
    "    with open(filename, 'a') as file:\n",
    "        file.write('byte order = 0' + '\\n')"
   ]
  }
 ],
 "metadata": {
  "kernelspec": {
   "display_name": "Python 3",
   "language": "python",
   "name": "python3"
  },
  "language_info": {
   "codemirror_mode": {
    "name": "ipython",
    "version": 3
   },
   "file_extension": ".py",
   "mimetype": "text/x-python",
   "name": "python",
   "nbconvert_exporter": "python",
   "pygments_lexer": "ipython3",
   "version": "3.9.4"
  }
 },
 "nbformat": 4,
 "nbformat_minor": 5
}
