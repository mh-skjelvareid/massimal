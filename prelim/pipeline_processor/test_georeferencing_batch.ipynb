{
 "cells": [
  {
   "cell_type": "code",
   "execution_count": 1,
   "metadata": {},
   "outputs": [],
   "source": [
    "# Imports\n",
    "import numpy as np\n",
    "from pathlib import Path\n",
    "import importlib \n",
    "import massimal.pipeline\n",
    "import matplotlib.pyplot as plt\n",
    "import massimal.image_render\n",
    "import rasterio"
   ]
  },
  {
   "cell_type": "code",
   "execution_count": 2,
   "metadata": {},
   "outputs": [],
   "source": [
    "dataset_dir = Path('/media/mha114/Massimal2/seabee-minio/larvik/olbergholmen/aerial/hsi/20230830/massimal_larvik_olbergholmen_202308301001-south-test_hsi')"
   ]
  },
  {
   "cell_type": "code",
   "execution_count": 3,
   "metadata": {},
   "outputs": [
    {
     "name": "stderr",
     "output_type": "stream",
     "text": [
      "10:22:03 INFO: File logging initialized.\n"
     ]
    }
   ],
   "source": [
    "importlib.reload(massimal.pipeline)\n",
    "pl = massimal.pipeline.PipelineProcessor(dataset_dir)\n"
   ]
  },
  {
   "cell_type": "code",
   "execution_count": 4,
   "metadata": {},
   "outputs": [
    {
     "name": "stderr",
     "output_type": "stream",
     "text": [
      "10:22:03 INFO: ---- GEOREFERENCING GLINT CORRECTED REFLECTANCE ----\n",
      "10:22:03 INFO: Georeferencing and exporting RGB version of massimal_larvik_olbergholmen_202308301001-south-test_hsi_000_reflectance_gc.bip.hdr.\n"
     ]
    },
    {
     "name": "stdout",
     "output_type": "stream",
     "text": [
      "Setting image origin to [ 565068.99591862 6541324.90733334]\n",
      "Transform from image_flight_data: |-0.03,-0.01, 565069.00|\n",
      "|-0.01, 0.03, 6541324.91|\n",
      "| 0.00, 0.00, 1.00|\n",
      "Transform saved in geotiff profile: |-0.03,-0.01, 565069.00|\n",
      "|-0.01, 0.03, 6541324.91|\n",
      "| 0.00, 0.00, 1.00|\n"
     ]
    },
    {
     "name": "stderr",
     "output_type": "stream",
     "text": [
      "10:22:17 INFO: Georeferencing and exporting RGB version of massimal_larvik_olbergholmen_202308301001-south-test_hsi_001_reflectance_gc.bip.hdr.\n"
     ]
    },
    {
     "name": "stdout",
     "output_type": "stream",
     "text": [
      "Setting image origin to [ 564978.87978611 6541439.02816826]\n",
      "Transform from image_flight_data: | 0.03, 0.01, 564978.88|\n",
      "| 0.01,-0.03, 6541439.03|\n",
      "| 0.00, 0.00, 1.00|\n",
      "Transform saved in geotiff profile: | 0.03, 0.01, 564978.88|\n",
      "| 0.01,-0.03, 6541439.03|\n",
      "| 0.00, 0.00, 1.00|\n"
     ]
    },
    {
     "name": "stderr",
     "output_type": "stream",
     "text": [
      "10:22:30 INFO: Georeferencing and exporting RGB version of massimal_larvik_olbergholmen_202308301001-south-test_hsi_002_reflectance_gc.bip.hdr.\n"
     ]
    },
    {
     "name": "stdout",
     "output_type": "stream",
     "text": [
      "Setting image origin to [ 565003.01494716 6541370.16191631]\n",
      "Transform from image_flight_data: | 0.03, 0.01, 565003.01|\n",
      "| 0.01,-0.03, 6541370.16|\n",
      "| 0.00, 0.00, 1.00|\n",
      "Transform saved in geotiff profile: | 0.03, 0.01, 565003.01|\n",
      "| 0.01,-0.03, 6541370.16|\n",
      "| 0.00, 0.00, 1.00|\n"
     ]
    }
   ],
   "source": [
    "pl.georeference_glint_corrected_reflectance()"
   ]
  },
  {
   "cell_type": "code",
   "execution_count": 5,
   "metadata": {},
   "outputs": [
    {
     "name": "stdout",
     "output_type": "stream",
     "text": [
      "(565068.9724555202, 6541324.918781881)\n",
      "(564978.9031692228, 6541439.017078772)\n",
      "(565003.0384697316, 6541370.150474287)\n"
     ]
    }
   ],
   "source": [
    "for geotiff_file in pl.refl_gc_rgb_paths:\n",
    "    with rasterio.open(geotiff_file) as src:\n",
    "        print(src.xy(0,0))"
   ]
  },
  {
   "cell_type": "code",
   "execution_count": null,
   "metadata": {},
   "outputs": [],
   "source": []
  }
 ],
 "metadata": {
  "kernelspec": {
   "display_name": "massimal",
   "language": "python",
   "name": "python3"
  },
  "language_info": {
   "codemirror_mode": {
    "name": "ipython",
    "version": 3
   },
   "file_extension": ".py",
   "mimetype": "text/x-python",
   "name": "python",
   "nbconvert_exporter": "python",
   "pygments_lexer": "ipython3",
   "version": "3.1.-1"
  }
 },
 "nbformat": 4,
 "nbformat_minor": 2
}
