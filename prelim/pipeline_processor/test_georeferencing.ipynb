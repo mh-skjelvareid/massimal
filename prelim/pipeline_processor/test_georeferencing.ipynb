{
 "cells": [
  {
   "cell_type": "code",
   "execution_count": 20,
   "metadata": {},
   "outputs": [],
   "source": [
    "# Imports\n",
    "import numpy as np\n",
    "from pathlib import Path\n",
    "import importlib \n",
    "import massimal.pipeline\n",
    "import datetime\n",
    "import matplotlib.pyplot as plt\n",
    "import massimal.image_render"
   ]
  },
  {
   "cell_type": "code",
   "execution_count": 2,
   "metadata": {},
   "outputs": [],
   "source": [
    "dataset_dir = Path('/media/mha114/Massimal2/seabee-minio/larvik/olbergholmen/aerial/hsi/20230830/massimal_larvik_olbergholmen_202308301001-south-test_hsi')"
   ]
  },
  {
   "cell_type": "code",
   "execution_count": 3,
   "metadata": {},
   "outputs": [
    {
     "name": "stderr",
     "output_type": "stream",
     "text": [
      "15:56:42 INFO: File logging initialized.\n"
     ]
    }
   ],
   "source": [
    "importlib.reload(massimal.pipeline)\n",
    "pipeline = massimal.pipeline.PipelineProcessor(dataset_dir)\n"
   ]
  },
  {
   "cell_type": "code",
   "execution_count": 4,
   "metadata": {},
   "outputs": [],
   "source": [
    "georeferencer = massimal.pipeline.SimpleGeoreferencer()"
   ]
  },
  {
   "cell_type": "code",
   "execution_count": 5,
   "metadata": {},
   "outputs": [],
   "source": [
    "georeferencer.georeference_hyspec_save_geotiff(\n",
    "    pipeline.refl_gc_im_paths[0],pipeline.imu_data_paths[0],pipeline.refl_gc_rgb_paths[0])"
   ]
  },
  {
   "cell_type": "code",
   "execution_count": 26,
   "metadata": {},
   "outputs": [],
   "source": [
    "image_full, wl_full, _ = massimal.pipeline.read_envi(pipeline.refl_gc_im_paths[0])\n"
   ]
  },
  {
   "cell_type": "code",
   "execution_count": 27,
   "metadata": {},
   "outputs": [],
   "source": [
    "image, wl = massimal.pipeline.rgb_subset_from_hsi(image_full,wl_full)\n",
    "nodata_value = -9999\n",
    "georeferencer.insert_image_nodata_value(image,nodata_value)\n",
    "image = georeferencer.move_bands_axis_first(image)\n",
    "geotiff_profile = georeferencer.create_geotiff_profile(image,pipeline.imu_data_paths[0]) "
   ]
  },
  {
   "cell_type": "code",
   "execution_count": 28,
   "metadata": {},
   "outputs": [
    {
     "data": {
      "text/plain": [
       "{'driver': 'GTiff', 'interleave': 'band', 'tiled': True, 'blockxsize': 256, 'blockysize': 256, 'compress': 'lzw', 'nodata': -9999, 'dtype': 'float32', 'height': 2000, 'width': 900, 'count': 3, 'crs': CRS.from_epsg(32632), 'transform': Affine(-0.03491164544271306, -0.012014553800283465, 565068.9959186198,\n",
       "       -0.012014553800283465, 0.03491164544271306, 6541324.907333336)}"
      ]
     },
     "execution_count": 28,
     "metadata": {},
     "output_type": "execute_result"
    }
   ],
   "source": [
    "geotiff_profile"
   ]
  },
  {
   "cell_type": "code",
   "execution_count": 30,
   "metadata": {},
   "outputs": [],
   "source": [
    "georeferencer.write_geotiff(pipeline.refl_gc_rgb_paths[0],image,wl,geotiff_profile)"
   ]
  }
 ],
 "metadata": {
  "kernelspec": {
   "display_name": "massimal",
   "language": "python",
   "name": "python3"
  },
  "language_info": {
   "codemirror_mode": {
    "name": "ipython",
    "version": 3
   },
   "file_extension": ".py",
   "mimetype": "text/x-python",
   "name": "python",
   "nbconvert_exporter": "python",
   "pygments_lexer": "ipython3",
   "version": "3.11.7"
  }
 },
 "nbformat": 4,
 "nbformat_minor": 2
}
