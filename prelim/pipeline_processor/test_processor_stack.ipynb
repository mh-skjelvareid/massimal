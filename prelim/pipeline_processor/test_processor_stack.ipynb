{
 "cells": [
  {
   "cell_type": "code",
   "execution_count": 41,
   "metadata": {},
   "outputs": [],
   "source": [
    "# Imports\n",
    "import numpy as np\n",
    "from pathlib import Path\n",
    "import importlib \n",
    "import massimal.pipeline\n",
    "import datetime"
   ]
  },
  {
   "cell_type": "code",
   "execution_count": 42,
   "metadata": {},
   "outputs": [],
   "source": [
    "# dataset_dir = Path('/media/mha114/Massimal2/seabee-minio/larvik/olbergholmen/aerial/hsi/20230830/massimal_larvik_olbergholmen_202308301028-north-test_hsi')\n",
    "dataset_dir = Path('/media/mha114/Massimal2/seabee-minio/larvik/olbergholmen/aerial/hsi/20230830/massimal_larvik_olbergholmen_202308301001-south-test_hsi')\n",
    "# dataset_dir = Path('/media/mha114/Massimal2/seabee-minio/smola/skalmen/aerial/hsi/20230620/massimal_smola_skalmen_202306201552-nw_hsi')\n",
    "# dataset_dir = Path('/media/mha114/Massimal2/seabee-minio/smola/skalmen/aerial/hsi')\n",
    "# dataset_dir = Path('/media/mha114/Massimal2/Massimal/Bodo_Juvika/Hyperspectral/20220624/Area/2_R_rs')\n",
    "# dataset_dir = Path('/media/mha114/Massimal2/Massimal/Bodo_Juvika/Hyperspectral/20220624/Area/1_Raw')"
   ]
  },
  {
   "cell_type": "code",
   "execution_count": 46,
   "metadata": {},
   "outputs": [
    {
     "name": "stderr",
     "output_type": "stream",
     "text": [
      "16:38:22 INFO: File logging initialized.\n"
     ]
    }
   ],
   "source": [
    "importlib.reload(massimal.pipeline)\n",
    "proc = massimal.pipeline.PipelineProcessor(dataset_dir)"
   ]
  },
  {
   "cell_type": "code",
   "execution_count": 44,
   "metadata": {},
   "outputs": [
    {
     "name": "stdout",
     "output_type": "stream",
     "text": [
      "proc.dataset_base_name='massimal_larvik_olbergholmen_202308301001-south-test_hsi'\n",
      "proc.dataset_dir=PosixPath('/media/mha114/Massimal2/seabee-minio/larvik/olbergholmen/aerial/hsi/20230830/massimal_larvik_olbergholmen_202308301001-south-test_hsi')\n",
      "proc.raw_dir=PosixPath('/media/mha114/Massimal2/seabee-minio/larvik/olbergholmen/aerial/hsi/20230830/massimal_larvik_olbergholmen_202308301001-south-test_hsi/0_raw')\n",
      "proc.radiance_dir=PosixPath('/media/mha114/Massimal2/seabee-minio/larvik/olbergholmen/aerial/hsi/20230830/massimal_larvik_olbergholmen_202308301001-south-test_hsi/1_radiance')\n",
      "proc.reflectance_dir=PosixPath('/media/mha114/Massimal2/seabee-minio/larvik/olbergholmen/aerial/hsi/20230830/massimal_larvik_olbergholmen_202308301001-south-test_hsi/2a_reflectance')\n",
      "Raw images:\n",
      "  OlbergholmenS1_Pika_L_5.bil.hdr\n",
      "  OlbergholmenS1_Pika_L_7.bil.hdr\n",
      "  OlbergholmenS1_Pika_L_8.bil.hdr\n",
      "Raw spectra:\n",
      "  OlbergholmenS1_downwelling_5_pre.spec.hdr\n",
      "  OlbergholmenS1_downwelling_7_pre.spec.hdr\n",
      "  OlbergholmenS1_downwelling_8_pre.spec.hdr\n",
      "proc.radiance_calibration_file=PosixPath('/media/mha114/Massimal2/seabee-minio/larvik/olbergholmen/aerial/hsi/20230830/massimal_larvik_olbergholmen_202308301001-south-test_hsi/calibration/RadiometricCal100121-278_081220.icp')\n",
      "Base file names:\n",
      "  massimal_larvik_olbergholmen_202308301001-south-test_hsi_000\n",
      "  massimal_larvik_olbergholmen_202308301001-south-test_hsi_001\n",
      "  massimal_larvik_olbergholmen_202308301001-south-test_hsi_002\n"
     ]
    }
   ],
   "source": [
    "print(f'{proc.dataset_base_name=}')\n",
    "print(f'{proc.dataset_dir=}')\n",
    "print(f'{proc.raw_dir=}')\n",
    "print(f'{proc.radiance_dir=}')\n",
    "print(f'{proc.reflectance_dir=}')\n",
    "print('Raw images:')\n",
    "for p in proc.raw_image_paths:\n",
    "    print('  '+p.name)\n",
    "print('Raw spectra:')\n",
    "for p in proc.raw_spec_paths:\n",
    "    if p is not None:\n",
    "        print('  '+p.name)\n",
    "print(f'{proc.radiance_calibration_file=}')\n",
    "print('Base file names:')\n",
    "for n in proc.base_file_names:\n",
    "    print('  '+n)"
   ]
  },
  {
   "cell_type": "code",
   "execution_count": 13,
   "metadata": {},
   "outputs": [
    {
     "name": "stderr",
     "output_type": "stream",
     "text": [
      "10:30:44 INFO: ---- RADIANCE CONVERSION ----\n",
      "10:30:44 INFO: Non-empty calibration directory /media/mha114/Massimal2/seabee-minio/larvik/olbergholmen/aerial/hsi/20230830/massimal_larvik_olbergholmen_202308301001-south-test_hsi/calibration/radiance_calibration_frames\n",
      "10:30:44 INFO: Assuming calibration file already unzipped.\n",
      "10:30:44 INFO: Converting OlbergholmenS1_Pika_L_5.bil.hdr to radiance\n",
      "10:31:10 INFO: Converting OlbergholmenS1_Pika_L_7.bil.hdr to radiance\n",
      "10:31:38 INFO: Converting OlbergholmenS1_Pika_L_8.bil.hdr to radiance\n"
     ]
    }
   ],
   "source": [
    "proc.convert_raw_images_to_radiance()"
   ]
  },
  {
   "cell_type": "code",
   "execution_count": 14,
   "metadata": {},
   "outputs": [
    {
     "name": "stderr",
     "output_type": "stream",
     "text": [
      "10:32:03 INFO: ---- IRRADIANCE CONVERSION ----\n",
      "10:32:03 INFO: Non-empty downwelling calibration directory /media/mha114/Massimal2/seabee-minio/larvik/olbergholmen/aerial/hsi/20230830/massimal_larvik_olbergholmen_202308301001-south-test_hsi/calibration/downwelling_calibration_spectra\n",
      "10:32:03 INFO: Skipping unzipping of downwelling calibration file, assuming unzipping already done.\n",
      "10:32:03 INFO: Converting OlbergholmenS1_downwelling_5_pre.spec.hdr to downwelling irradiance\n",
      "10:32:03 INFO: Converting OlbergholmenS1_downwelling_7_pre.spec.hdr to downwelling irradiance\n",
      "10:32:03 INFO: Converting OlbergholmenS1_downwelling_8_pre.spec.hdr to downwelling irradiance\n"
     ]
    }
   ],
   "source": [
    "proc.convert_raw_spectra_to_irradiance()"
   ]
  },
  {
   "cell_type": "code",
   "execution_count": 15,
   "metadata": {},
   "outputs": [
    {
     "name": "stderr",
     "output_type": "stream",
     "text": [
      "10:32:06 INFO: ---- IRRADIANCE WAVELENGTH CALIBRATION ----\n",
      "10:32:06 INFO: Calibrating wavelengths for massimal_larvik_olbergholmen_202308301001-south-test_hsi_000_irradiance.spec.hdr\n",
      "10:32:06 INFO: Calibrating wavelengths for massimal_larvik_olbergholmen_202308301001-south-test_hsi_001_irradiance.spec.hdr\n",
      "10:32:06 INFO: Calibrating wavelengths for massimal_larvik_olbergholmen_202308301001-south-test_hsi_002_irradiance.spec.hdr\n"
     ]
    }
   ],
   "source": [
    "proc.calibrate_irradiance_wavelengths()"
   ]
  },
  {
   "cell_type": "code",
   "execution_count": 16,
   "metadata": {},
   "outputs": [
    {
     "name": "stderr",
     "output_type": "stream",
     "text": [
      "10:32:22 INFO: ---- REFLECTANCE CONVERSION ----\n",
      "10:32:22 INFO: Converting massimal_larvik_olbergholmen_202308301001-south-test_hsi_000_radiance.bip.hdr to reflectance.\n",
      "10:32:55 INFO: Converting massimal_larvik_olbergholmen_202308301001-south-test_hsi_001_radiance.bip.hdr to reflectance.\n",
      "10:33:30 INFO: Converting massimal_larvik_olbergholmen_202308301001-south-test_hsi_002_radiance.bip.hdr to reflectance.\n"
     ]
    }
   ],
   "source": [
    "proc.convert_radiance_images_to_reflectance()"
   ]
  },
  {
   "cell_type": "code",
   "execution_count": 22,
   "metadata": {},
   "outputs": [
    {
     "name": "stderr",
     "output_type": "stream",
     "text": [
      "11:16:51 INFO: ---- GLINT CORRECTION ----\n",
      "11:16:51 INFO: Applying glint correction to massimal_larvik_olbergholmen_202308301001-south-test_hsi_000_reflectance.bip.hdr.\n",
      "11:17:17 INFO: Applying glint correction to massimal_larvik_olbergholmen_202308301001-south-test_hsi_001_reflectance.bip.hdr.\n",
      "11:17:52 INFO: Applying glint correction to massimal_larvik_olbergholmen_202308301001-south-test_hsi_002_reflectance.bip.hdr.\n"
     ]
    }
   ],
   "source": [
    "proc.glint_correct_reflectance_images()"
   ]
  },
  {
   "cell_type": "code",
   "execution_count": 40,
   "metadata": {},
   "outputs": [
    {
     "name": "stderr",
     "output_type": "stream",
     "text": [
      "12:33:05 INFO: ---- IMU DATA PROCESSING ----\n",
      "12:33:05 INFO: Processing IMU data from OlbergholmenS1_Pika_L_5.lcf\n",
      "12:33:05 INFO: Processing IMU data from OlbergholmenS1_Pika_L_7.lcf\n",
      "12:33:05 INFO: Processing IMU data from OlbergholmenS1_Pika_L_8.lcf\n"
     ]
    }
   ],
   "source": [
    "proc.parse_and_save_imu_data()"
   ]
  },
  {
   "cell_type": "code",
   "execution_count": 47,
   "metadata": {},
   "outputs": [
    {
     "name": "stderr",
     "output_type": "stream",
     "text": [
      "16:38:28 INFO: ---- GEOREFERENCING GLINT CORRECTED REFLECTANCE ----\n",
      "16:38:28 INFO: Georeferencing and exporting RGB version of massimal_larvik_olbergholmen_202308301001-south-test_hsi_000_reflectance_gc.bip.hdr.\n",
      "16:38:39 INFO: Georeferencing and exporting RGB version of massimal_larvik_olbergholmen_202308301001-south-test_hsi_001_reflectance_gc.bip.hdr.\n",
      "16:38:53 INFO: Georeferencing and exporting RGB version of massimal_larvik_olbergholmen_202308301001-south-test_hsi_002_reflectance_gc.bip.hdr.\n"
     ]
    }
   ],
   "source": [
    "proc.georeference_glint_corrected_reflectance()"
   ]
  },
  {
   "cell_type": "code",
   "execution_count": 6,
   "metadata": {},
   "outputs": [
    {
     "name": "stderr",
     "output_type": "stream",
     "text": [
      "12:14:22 INFO: ---- IRRADIANCE CONVERSION ----\n",
      "12:14:22 INFO: Non-empty downwelling calibration directory /media/mha114/Massimal2/seabee-minio/larvik/olbergholmen/aerial/hsi/20230830/massimal_larvik_olbergholmen_202308301028-north-test_hsi/calibration/downwelling_calibration_spectra\n",
      "12:14:22 INFO: Skipping unzipping of downwelling calibration file, assuming unzipping already done.\n",
      "12:14:22 INFO: Converting massimal_larvik_olbergholmen_202308301028-north-test_hsi_000 to downwelling irradiance\n",
      "12:14:22 INFO: Converting massimal_larvik_olbergholmen_202308301028-north-test_hsi_001 to downwelling irradiance\n",
      "12:14:22 INFO: Converting massimal_larvik_olbergholmen_202308301028-north-test_hsi_002 to downwelling irradiance\n",
      "12:14:22 INFO: ---- IRRADIANCE WAVELENGTH CALIBRATION ----\n",
      "12:14:22 INFO: Calibrating wavelengths for massimal_larvik_olbergholmen_202308301028-north-test_hsi_000_irradiance.spec.hdr\n",
      "12:14:22 INFO: Calibrating wavelengths for massimal_larvik_olbergholmen_202308301028-north-test_hsi_001_irradiance.spec.hdr\n",
      "12:14:22 INFO: Calibrating wavelengths for massimal_larvik_olbergholmen_202308301028-north-test_hsi_002_irradiance.spec.hdr\n"
     ]
    }
   ],
   "source": [
    "# proc.run(convert_raw_images_to_radiance=False,convert_radiance_to_reflectance=False)\n",
    "# proc.run()"
   ]
  }
 ],
 "metadata": {
  "kernelspec": {
   "display_name": "massimal",
   "language": "python",
   "name": "python3"
  },
  "language_info": {
   "codemirror_mode": {
    "name": "ipython",
    "version": 3
   },
   "file_extension": ".py",
   "mimetype": "text/x-python",
   "name": "python",
   "nbconvert_exporter": "python",
   "pygments_lexer": "ipython3",
   "version": "3.11.7"
  }
 },
 "nbformat": 4,
 "nbformat_minor": 2
}
