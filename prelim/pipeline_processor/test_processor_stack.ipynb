{
 "cells": [
  {
   "cell_type": "code",
   "execution_count": 1,
   "metadata": {},
   "outputs": [],
   "source": [
    "# Imports\n",
    "import numpy as np\n",
    "from pathlib import Path\n",
    "import importlib \n",
    "import massimal.pipeline\n",
    "import datetime"
   ]
  },
  {
   "cell_type": "code",
   "execution_count": 2,
   "metadata": {},
   "outputs": [],
   "source": [
    "dataset_dir = Path('/media/mha114/Massimal2/seabee-minio/larvik/olbergholmen/aerial/hsi/20230830/massimal_larvik_olbergholmen_202308301228-south-test_hsi')\n",
    "# dataset_dir = Path('/media/mha114/Massimal2/seabee-minio/smola/skalmen/aerial/hsi/20230620/massimal_smola_skalmen_202306201552-nw_hsi')\n",
    "# dataset_dir = Path('/media/mha114/Massimal2/seabee-minio/smola/skalmen/aerial/hsi')\n",
    "# dataset_dir = Path('/media/mha114/Massimal2/Massimal/Bodo_Juvika/Hyperspectral/20220624/Area/2_R_rs')\n",
    "# dataset_dir = Path('/media/mha114/Massimal2/Massimal/Bodo_Juvika/Hyperspectral/20220624/Area/1_Raw')"
   ]
  },
  {
   "cell_type": "code",
   "execution_count": 3,
   "metadata": {},
   "outputs": [
    {
     "name": "stderr",
     "output_type": "stream",
     "text": [
      "15:42:30 INFO: Logging started.\n"
     ]
    }
   ],
   "source": [
    "importlib.reload(massimal.pipeline)\n",
    "proc = massimal.pipeline.PipelineProcessor(dataset_dir)"
   ]
  },
  {
   "cell_type": "code",
   "execution_count": 4,
   "metadata": {},
   "outputs": [
    {
     "name": "stdout",
     "output_type": "stream",
     "text": [
      "proc.dataset_base_name='massimal_larvik_olbergholmen_202308301228-south-test_hsi'\n",
      "proc.dataset_dir=PosixPath('/media/mha114/Massimal2/seabee-minio/larvik/olbergholmen/aerial/hsi/20230830/massimal_larvik_olbergholmen_202308301228-south-test_hsi')\n",
      "proc.raw_dir=PosixPath('/media/mha114/Massimal2/seabee-minio/larvik/olbergholmen/aerial/hsi/20230830/massimal_larvik_olbergholmen_202308301228-south-test_hsi/0_raw')\n",
      "proc.radiance_dir=PosixPath('/media/mha114/Massimal2/seabee-minio/larvik/olbergholmen/aerial/hsi/20230830/massimal_larvik_olbergholmen_202308301228-south-test_hsi/1_radiance')\n",
      "proc.reflectance_dir=PosixPath('/media/mha114/Massimal2/seabee-minio/larvik/olbergholmen/aerial/hsi/20230830/massimal_larvik_olbergholmen_202308301228-south-test_hsi/2_reflectance')\n",
      "Raw images:\n",
      "  OlbergholmenN_Pika_L_7.bil.hdr\n",
      "  OlbergholmenN_Pika_L_8.bil.hdr\n",
      "  OlbergholmenN_Pika_L_9.bil.hdr\n",
      "Raw spectra:\n",
      "  OlbergholmenN_downwelling_7_pre.spec.hdr\n",
      "  OlbergholmenN_downwelling_8_pre.spec.hdr\n",
      "  OlbergholmenN_downwelling_9_pre.spec.hdr\n",
      "proc.radiance_calibration_file=PosixPath('/media/mha114/Massimal2/seabee-minio/larvik/olbergholmen/aerial/hsi/20230830/massimal_larvik_olbergholmen_202308301228-south-test_hsi/calibration/RadiometricCal100121-278_081220.icp')\n",
      "Base file names:\n",
      "  massimal_larvik_olbergholmen_202308301228-south-test_hsi_000\n",
      "  massimal_larvik_olbergholmen_202308301228-south-test_hsi_001\n",
      "  massimal_larvik_olbergholmen_202308301228-south-test_hsi_002\n"
     ]
    }
   ],
   "source": [
    "print(f'{proc.dataset_base_name=}')\n",
    "print(f'{proc.dataset_dir=}')\n",
    "print(f'{proc.raw_dir=}')\n",
    "print(f'{proc.radiance_dir=}')\n",
    "print(f'{proc.reflectance_dir=}')\n",
    "print('Raw images:')\n",
    "for p in proc.raw_image_paths:\n",
    "    print('  '+p.name)\n",
    "print('Raw spectra:')\n",
    "for p in proc.raw_spec_paths:\n",
    "    if p is not None:\n",
    "        print('  '+p.name)\n",
    "print(f'{proc.radiance_calibration_file=}')\n",
    "print('Base file names:')\n",
    "for n in proc.base_file_names:\n",
    "    print('  '+n)"
   ]
  },
  {
   "cell_type": "code",
   "execution_count": 5,
   "metadata": {},
   "outputs": [],
   "source": [
    "# proc.convert_raw_images_to_radiance()"
   ]
  },
  {
   "cell_type": "code",
   "execution_count": 5,
   "metadata": {},
   "outputs": [
    {
     "name": "stderr",
     "output_type": "stream",
     "text": [
      "15:42:46 INFO: ---- IRRADIANCE CONVERSION ----\n",
      "15:42:46 INFO: Non-empty downwelling calibration directory /media/mha114/Massimal2/seabee-minio/larvik/olbergholmen/aerial/hsi/20230830/massimal_larvik_olbergholmen_202308301228-south-test_hsi/calibration/downwelling_calibration_spectra\n",
      "15:42:46 INFO: Skipping unzipping of downwelling calibration file, assuming unzipping already done.\n",
      "15:42:46 INFO: Converting massimal_larvik_olbergholmen_202308301228-south-test_hsi_000 to downwelling irradiance\n",
      "15:42:46 INFO: Converting massimal_larvik_olbergholmen_202308301228-south-test_hsi_001 to downwelling irradiance\n",
      "15:42:46 INFO: Converting massimal_larvik_olbergholmen_202308301228-south-test_hsi_002 to downwelling irradiance\n",
      "15:42:46 INFO: ---- IRRADIANCE WAVELENGTH CALIBRATION ----\n"
     ]
    }
   ],
   "source": [
    "proc.convert_raw_spectra_to_irradiance()\n",
    "proc.calibrate_irradiance_wavelengths()"
   ]
  },
  {
   "cell_type": "code",
   "execution_count": null,
   "metadata": {},
   "outputs": [],
   "source": []
  }
 ],
 "metadata": {
  "kernelspec": {
   "display_name": "massimal",
   "language": "python",
   "name": "python3"
  },
  "language_info": {
   "codemirror_mode": {
    "name": "ipython",
    "version": 3
   },
   "file_extension": ".py",
   "mimetype": "text/x-python",
   "name": "python",
   "nbconvert_exporter": "python",
   "pygments_lexer": "ipython3",
   "version": "3.11.7"
  }
 },
 "nbformat": 4,
 "nbformat_minor": 2
}
