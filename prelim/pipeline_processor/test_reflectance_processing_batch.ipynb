{
 "cells": [
  {
   "cell_type": "code",
   "execution_count": 1,
   "metadata": {},
   "outputs": [],
   "source": [
    "# Imports\n",
    "import numpy as np\n",
    "from pathlib import Path\n",
    "import importlib \n",
    "import massimal.image_render\n",
    "import massimal.hyspec_io\n",
    "import matplotlib.pyplot as plt\n",
    "import massimal.pipeline"
   ]
  },
  {
   "cell_type": "code",
   "execution_count": 2,
   "metadata": {},
   "outputs": [],
   "source": [
    "# Paths\n",
    "dataset_dir = Path('C:\\\\Users\\\\mha114\\\\Dropbox\\\\UiT\\\\Massimal\\\\Eksempel-datasett\\\\HSI\\\\20230830_Olberg')\n",
    "calibration_dir = dataset_dir / 'calibration'\n",
    "radiance_cailbration_file = next(calibration_dir.glob('*.icp'))\n",
    "downwelling_calibration_file = next(calibration_dir.glob('*.dcp')) \n",
    "raw_image_dir = dataset_dir / '0_raw'\n",
    "radiance_image_dir = dataset_dir / '1_radiance'\n",
    "reflectance_image_dir = dataset_dir / '2_reflectance'\n",
    "reflectance_image_dir.mkdir(exist_ok=True)\n",
    "\n",
    "dataset_base_name = 'massimal_larvik_olbergholmen_202308301228-south1_hsi'\n",
    "raw_image_paths = sorted(raw_image_dir.rglob('*.bil.hdr'))\n",
    "radiance_image_paths = sorted(radiance_image_dir.glob('*.bip.hdr'))\n",
    "irradiance_spec_paths = sorted(radiance_image_dir.glob('*.spec.hdr'))\n"
   ]
  },
  {
   "cell_type": "code",
   "execution_count": 3,
   "metadata": {},
   "outputs": [],
   "source": [
    "importlib.reload(massimal.pipeline)\n",
    "rflp = massimal.pipeline.ReflectanceConverter()"
   ]
  },
  {
   "cell_type": "code",
   "execution_count": 4,
   "metadata": {},
   "outputs": [],
   "source": [
    "for rad_path, irrad_path in zip(radiance_image_paths,irradiance_spec_paths):\n",
    "    reflectance_image_name = rad_path.name.replace('radiance','reflectance')\n",
    "    reflectance_image_path = reflectance_image_dir / reflectance_image_name\n",
    "    rflp.convert_radiance_file_to_reflectance(rad_path,irrad_path,reflectance_image_path)"
   ]
  },
  {
   "cell_type": "code",
   "execution_count": null,
   "metadata": {},
   "outputs": [],
   "source": []
  }
 ],
 "metadata": {
  "kernelspec": {
   "display_name": "massimal",
   "language": "python",
   "name": "python3"
  },
  "language_info": {
   "codemirror_mode": {
    "name": "ipython",
    "version": 3
   },
   "file_extension": ".py",
   "mimetype": "text/x-python",
   "name": "python",
   "nbconvert_exporter": "python",
   "pygments_lexer": "ipython3",
   "version": "3.11.7"
  }
 },
 "nbformat": 4,
 "nbformat_minor": 2
}
