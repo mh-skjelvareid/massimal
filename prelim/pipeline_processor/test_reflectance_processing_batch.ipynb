{
 "cells": [
  {
   "cell_type": "code",
   "execution_count": null,
   "metadata": {},
   "outputs": [],
   "source": [
    "# Imports\n",
    "import numpy as np\n",
    "from pathlib import Path\n",
    "import importlib \n",
    "import massimal.image_render\n",
    "import massimal.hyspec_io\n",
    "import matplotlib.pyplot as plt\n",
    "import math\n",
    "import massimal.pipeline"
   ]
  },
  {
   "cell_type": "code",
   "execution_count": null,
   "metadata": {},
   "outputs": [],
   "source": [
    "# Paths\n",
    "dataset_dir = Path('C:\\\\Users\\\\mha114\\\\Dropbox\\\\UiT\\\\Massimal\\\\Eksempel-datasett\\\\HSI\\\\20230830_Olberg')\n",
    "calibration_dir = dataset_dir / 'calibration'\n",
    "radiance_cailbration_file = next(calibration_dir.glob('*.icp'))\n",
    "downwelling_calibration_file = next(calibration_dir.glob('*.dcp')) \n",
    "raw_image_dir = dataset_dir / '0_raw'\n",
    "radiance_image_dir = dataset_dir / '1_radiance'\n",
    "reflectance_image_dir = dataset_dir / '2_reflectance'\n",
    "reflectance_image_dir.mkdir(exist_ok=True)\n",
    "\n",
    "dataset_base_name = 'massimal_larvik_olbergholmen_202308301228-south1_hsi'\n",
    "raw_image_paths = sorted(raw_image_dir.rglob('*.bil.hdr'))\n",
    "radiance_image_paths = sorted(radiance_image_dir.glob('*.bip.hdr'))\n",
    "irradiance_spec_paths = sorted(radiance_image_dir.glob('*.spec.hdr'))\n"
   ]
  },
  {
   "cell_type": "code",
   "execution_count": null,
   "metadata": {},
   "outputs": [],
   "source": [
    "importlib.reload(massimal.pipeline)\n",
    "rflp = massimal.pipeline.ReflectanceConverter()"
   ]
  },
  {
   "cell_type": "code",
   "execution_count": null,
   "metadata": {},
   "outputs": [
    {
     "ename": "MemoryError",
     "evalue": "Unable to allocate 3.35 GiB for an array with shape (2000, 900, 250) and data type float64",
     "output_type": "error",
     "traceback": [
      "\u001b[1;31m---------------------------------------------------------------------------\u001b[0m\n",
      "\u001b[1;31mMemoryError\u001b[0m                               Traceback (most recent call last)\n",
      "Cell \u001b[1;32mIn[24], line 4\u001b[0m\n",
      "\u001b[0;32m      2\u001b[0m reflectance_image_name \u001b[38;5;241m=\u001b[39m rad_path\u001b[38;5;241m.\u001b[39mname\u001b[38;5;241m.\u001b[39mreplace(\u001b[38;5;124m'\u001b[39m\u001b[38;5;124mradiance\u001b[39m\u001b[38;5;124m'\u001b[39m,\u001b[38;5;124m'\u001b[39m\u001b[38;5;124mreflectance\u001b[39m\u001b[38;5;124m'\u001b[39m)\n",
      "\u001b[0;32m      3\u001b[0m reflectance_image_path \u001b[38;5;241m=\u001b[39m reflectance_image_dir \u001b[38;5;241m/\u001b[39m reflectance_image_name\n",
      "\u001b[1;32m----> 4\u001b[0m \u001b[43mrflp\u001b[49m\u001b[38;5;241;43m.\u001b[39;49m\u001b[43mconvert_radiance_file_to_reflectance\u001b[49m\u001b[43m(\u001b[49m\u001b[43mrad_path\u001b[49m\u001b[43m,\u001b[49m\u001b[43mirrad_path\u001b[49m\u001b[43m,\u001b[49m\u001b[43mreflectance_image_path\u001b[49m\u001b[43m)\u001b[49m\n",
      "\n",
      "File \u001b[1;32m~\\Dropbox\\Python\\massimal\\src\\massimal\\pipeline.py:1086\u001b[0m, in \u001b[0;36mReflectanceConverter.convert_radiance_file_to_reflectance\u001b[1;34m(self, radiance_image_header, irradiance_header, reflectance_image_header, **kwargs)\u001b[0m\n",
      "\u001b[0;32m   1084\u001b[0m rad_image, rad_wl, rad_meta \u001b[38;5;241m=\u001b[39m read_envi(radiance_image_header)\n",
      "\u001b[0;32m   1085\u001b[0m irrad_spec, irrad_wl, irrad_meta \u001b[38;5;241m=\u001b[39m read_envi(irradiance_header)\n",
      "\u001b[1;32m-> 1086\u001b[0m refl_im, refl_wl, _ \u001b[38;5;241m=\u001b[39m \u001b[38;5;28;43mself\u001b[39;49m\u001b[38;5;241;43m.\u001b[39;49m\u001b[43mconvert_radiance_image_to_reflectance\u001b[49m\u001b[43m(\u001b[49m\u001b[43mrad_image\u001b[49m\u001b[43m,\u001b[49m\u001b[43mrad_wl\u001b[49m\u001b[43m,\u001b[49m\u001b[43mirrad_spec\u001b[49m\u001b[43m,\u001b[49m\u001b[43mirrad_wl\u001b[49m\u001b[43m)\u001b[49m\n",
      "\u001b[0;32m   1087\u001b[0m wl_str \u001b[38;5;241m=\u001b[39m wavelength_array_to_header_string(refl_wl)\n",
      "\u001b[0;32m   1088\u001b[0m refl_meta \u001b[38;5;241m=\u001b[39m rad_meta\n",
      "\n",
      "File \u001b[1;32m~\\Dropbox\\Python\\massimal\\src\\massimal\\pipeline.py:1068\u001b[0m, in \u001b[0;36mReflectanceConverter.convert_radiance_image_to_reflectance\u001b[1;34m(self, rad_image, rad_wl, irrad_spec, irrad_wl, convolve_irradiance_with_gaussian, gauss_fwhm, smooth_with_savitsky_golay)\u001b[0m\n",
      "\u001b[0;32m   1065\u001b[0m irrad_spec \u001b[38;5;241m=\u001b[39m np\u001b[38;5;241m.\u001b[39mexpand_dims(irrad_spec, axis\u001b[38;5;241m=\u001b[39m(\u001b[38;5;241m0\u001b[39m, \u001b[38;5;241m1\u001b[39m))\n",
      "\u001b[0;32m   1067\u001b[0m \u001b[38;5;66;03m# Convert to reflectance, assuming Lambertian (perfectly diffuse) surface\u001b[39;00m\n",
      "\u001b[1;32m-> 1068\u001b[0m refl_image \u001b[38;5;241m=\u001b[39m \u001b[43mmath\u001b[49m\u001b[38;5;241;43m.\u001b[39;49m\u001b[43mpi\u001b[49m\u001b[43m \u001b[49m\u001b[38;5;241;43m*\u001b[39;49m\u001b[43m \u001b[49m\u001b[43m(\u001b[49m\u001b[43mrad_image\u001b[49m\u001b[43m \u001b[49m\u001b[38;5;241;43m/\u001b[39;49m\u001b[43m \u001b[49m\u001b[43mirrad_spec\u001b[49m\u001b[43m)\u001b[49m\n",
      "\u001b[0;32m   1069\u001b[0m refl_wl \u001b[38;5;241m=\u001b[39m rad_wl\n",
      "\u001b[0;32m   1071\u001b[0m \u001b[38;5;66;03m# Spectral smoothing (optional)\u001b[39;00m\n",
      "\n",
      "\u001b[1;31mMemoryError\u001b[0m: Unable to allocate 3.35 GiB for an array with shape (2000, 900, 250) and data type float64"
     ]
    }
   ],
   "source": [
    "for rad_path, irrad_path in zip(radiance_image_paths,irradiance_spec_paths):\n",
    "    reflectance_image_name = rad_path.name.replace('radiance','reflectance')\n",
    "    reflectance_image_path = reflectance_image_dir / reflectance_image_name\n",
    "    rflp.convert_radiance_file_to_reflectance(rad_path,irrad_path,reflectance_image_path)"
   ]
  },
  {
   "cell_type": "code",
   "execution_count": null,
   "metadata": {},
   "outputs": [],
   "source": []
  }
 ],
 "metadata": {
  "language_info": {
   "name": "python"
  }
 },
 "nbformat": 4,
 "nbformat_minor": 2
}
