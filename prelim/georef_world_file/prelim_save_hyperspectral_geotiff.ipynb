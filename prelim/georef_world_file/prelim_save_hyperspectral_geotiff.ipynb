{
 "cells": [
  {
   "cell_type": "code",
   "execution_count": 22,
   "metadata": {},
   "outputs": [],
   "source": [
    "# Imports\n",
    "from pathlib import Path\n",
    "import matplotlib.pyplot as plt\n",
    "import numpy as np\n",
    "from massimal import georeferencing, hyspec_io\n",
    "import rasterio\n",
    "from rasterio.warp import reproject, Resampling, calculate_default_transform, transform_bounds\n",
    "from rasterio.transform import Affine\n",
    "from rasterio.profiles import DefaultGTiffProfile\n",
    "from rasterio.crs import CRS"
   ]
  },
  {
   "cell_type": "code",
   "execution_count": 2,
   "metadata": {},
   "outputs": [],
   "source": [
    "# Paths\n",
    "example_image_path = Path('/media/mha114/Massimal2/Massimal/Bodo_Sandsund/Hyperspectral/20210602/Area/3a_R_rs/Sandsund_May2021_Pika_L_17-Radiance From Raw Data-Reflectance from Radiance Data and Downwelling Irradiance Spectrum.bip.hdr')\n",
    "example_image_stem = example_image_path.stem.split('.')[0]\n",
    "lcf_path = example_image_path.parent / (example_image_stem + '.lcf')\n",
    "times_path = example_image_path.parent / (example_image_stem + '.bip.times')\n",
    "geotiff_dir = Path('/media/mha114/Massimal2/Massimal/Bodo_Sandsund/Hyperspectral/20210602/Area/3c_R_rs_GeoTIFF')\n",
    "geotiff_path = geotiff_dir / (example_image_stem + '.tiff')\n",
    "rgb_geotiff_path = geotiff_dir / (example_image_stem + '_rgb.tiff')\n",
    "world_file_path = geotiff_dir / (example_image_stem + '.wld')"
   ]
  },
  {
   "cell_type": "code",
   "execution_count": 3,
   "metadata": {},
   "outputs": [],
   "source": [
    "utm_epsg = georeferencing.world_file_from_lcf_times_files(lcf_path,times_path,world_file_path)"
   ]
  },
  {
   "cell_type": "code",
   "execution_count": 5,
   "metadata": {},
   "outputs": [],
   "source": [
    "(image,wl,rgb_ind,metadata) = hyspec_io.load_envi_image(example_image_path)"
   ]
  },
  {
   "cell_type": "code",
   "execution_count": 9,
   "metadata": {},
   "outputs": [],
   "source": [
    "image_rgb = image[:,:,rgb_ind]"
   ]
  },
  {
   "cell_type": "code",
   "execution_count": 7,
   "metadata": {},
   "outputs": [],
   "source": [
    "#crs_str = 'EPSG:32633'\n",
    "georeferencing.save_geotiff_with_affine_transform(\n",
    "    image=image_rgb,\n",
    "    crs_str=f'EPSG:{utm_epsg}',\n",
    "    geotiff_path=rgb_geotiff_path,\n",
    "    world_file_path=world_file_path,\n",
    "    band_names=tuple([str(wl[band_ind]) for band_ind in rgb_ind])\n",
    ")\n",
    "# georeferencing.save_geotiff_with_affine_transform(\n",
    "#     image=image,\n",
    "#     crs_str=crs_str,\n",
    "#     geotiff_path=geotiff_path,\n",
    "#     world_file_path=world_file_path\n",
    "# )"
   ]
  },
  {
   "cell_type": "code",
   "execution_count": 8,
   "metadata": {},
   "outputs": [
    {
     "name": "stdout",
     "output_type": "stream",
     "text": [
      "('640.15', '550.07', '459.59')\n",
      "(None, None, None)\n"
     ]
    }
   ],
   "source": [
    "with rasterio.open(rgb_geotiff_path, \"r\") as dataset:\n",
    "    print(dataset.descriptions)\n",
    "    print(dataset.units)"
   ]
  },
  {
   "cell_type": "code",
   "execution_count": null,
   "metadata": {},
   "outputs": [],
   "source": [
    "def save_geotiff_with_affine_transform(\n",
    "        image,\n",
    "        crs_str: str,\n",
    "        geotiff_path,\n",
    "        affine_transform: tuple = None,\n",
    "        world_file_path = None,\n",
    "        band_names: tuple[str] = None,\n",
    "        channels_already_first: bool = False) -> None:\n",
    "    \"\"\" Save georeferenced image (single- or multiband) as GeoTIFF using affine transform\n",
    "    \n",
    "    # Input arguments:\n",
    "    image:\n",
    "        2D or 3D NumPy array\n",
    "    crs_str:\n",
    "        Coordinate reference system mathcing the affine transform used.\n",
    "        String accepted by the rasterio.crs.CRS.from_string() method\n",
    "        (https://rasterio.readthedocs.io/en/latest/api/rasterio.crs.html#rasterio.crs.CRS.from_string)\n",
    "        EPSG, PROJ, and WKT strings are accepted.\n",
    "        Example: \"EPSG:32633\"\n",
    "    geotiff_path:\n",
    "        File path for the GeoTIFF file to be written.\n",
    "        \n",
    "    # Keyword arguments:\n",
    "    affine_transform:\n",
    "        A 6-parameter transform for translation, scaling and rotation of \n",
    "        the image. Example (for UTM 33N): \n",
    "        (0.025746, 0.025290, 500199.3122, 0.02402464, -0.02710314, 7455416.7654)\n",
    "        The ordering corresponds to (A,B,C,D,E,F).\n",
    "        Note that this is not the same ordering as in the world file.\n",
    "        If both affine_transform and world_file_path are specified, or if none\n",
    "        of them are specified, an error is thrown.\n",
    "    world_file_path:\n",
    "        Path to text file containing exactly 6 lines with a single\n",
    "        numer on each line. See https://en.wikipedia.org/wiki/World_file\n",
    "        for specification. Note that the ordering of the lines in the file\n",
    "        corresponds to (A,D,B,E,C,F)\n",
    "    channels_already_first:\n",
    "        Flag indicating that the image is organized \"channels-first\".\n",
    "        This is the format required by rasterio / GDAL when writing GeoTIFFs.\n",
    "        If False (default), channels in image are assumed to be last \n",
    "        (shape (nrows,ncols,nchannels)), and the last axis will be moved\n",
    "        to first position before the file is written.    \n",
    "    \"\"\"\n",
    "\n",
    "    # Check affine transform input\n",
    "    if (affine_transform is None): \n",
    "        if (world_file_path is None):\n",
    "            raise ValueError(\"Please specify either affine_transform or world_file_path\")\n",
    "        else:\n",
    "            (a,d,b,e,c,f) = np.loadtxt(world_file_path) # Load parameters in \"world file order\"\n",
    "            affine_transform = (a,b,c,d,e,f)            # Use rasterio Affine ordering\n",
    "    elif (world_file_path is not None):\n",
    "            raise ValueError(\"Please specify either affine_transform or world_file_path (not both)\")\n",
    "\n",
    "    # Create affine transform object\n",
    "    transform = Affine(*affine_transform)\n",
    "\n",
    "    # Convert 2D array to 3D (for unified processing)\n",
    "    if image.ndim < 3:\n",
    "         image = np.atleast_3d(image)\n",
    "         channels_already_first = False\n",
    "\n",
    "    # Ensure \"channels-first\" array, as required by rasterio/GDAL\n",
    "    if not channels_already_first:\n",
    "        image = np.moveaxis(image,2,0)\n",
    "\n",
    "    # Create default GeoTIFF profile and update with current parameters\n",
    "    profile = DefaultGTiffProfile()\n",
    "    profile.update(height = image.shape[1], \n",
    "                   width = image.shape[2],\n",
    "                   count = image.shape[0], \n",
    "                   dtype = str(image.dtype),\n",
    "                   crs = CRS.from_string(crs_str),\n",
    "                   transform = transform)\n",
    "    \n",
    "    # Register GDAL format drivers and configuration options with a context manager.\n",
    "    with rasterio.Env():\n",
    "        # Write image with context manager\n",
    "        with rasterio.open(geotiff_path, 'w', **profile) as dataset:\n",
    "            if band_names is not None:\n",
    "                for i in range(dataset.count):\n",
    "                    dataset.set_band_description(i+1, band_names[i])\n",
    "            dataset.write(image) "
   ]
  },
  {
   "cell_type": "code",
   "execution_count": 20,
   "metadata": {},
   "outputs": [
    {
     "data": {
      "text/plain": [
       "32633"
      ]
     },
     "execution_count": 20,
     "metadata": {},
     "output_type": "execute_result"
    }
   ],
   "source": [
    "utm_epsg"
   ]
  },
  {
   "cell_type": "code",
   "execution_count": 21,
   "metadata": {},
   "outputs": [
    {
     "ename": "TypeError",
     "evalue": "calculate_default_transform() missing 1 required positional argument: 'src_crs'",
     "output_type": "error",
     "traceback": [
      "\u001b[0;31m---------------------------------------------------------------------------\u001b[0m",
      "\u001b[0;31mTypeError\u001b[0m                                 Traceback (most recent call last)",
      "Cell \u001b[0;32mIn[21], line 1\u001b[0m\n\u001b[0;32m----> 1\u001b[0m transform, dims \u001b[38;5;241m=\u001b[39m \u001b[43mcalculate_default_transform\u001b[49m\u001b[43m(\u001b[49m\u001b[43mdst_crs\u001b[49m\u001b[38;5;241;43m=\u001b[39;49m\u001b[43mCRS\u001b[49m\u001b[38;5;241;43m.\u001b[39;49m\u001b[43mfrom_epsg\u001b[49m\u001b[43m(\u001b[49m\u001b[43mutm_epsg\u001b[49m\u001b[43m)\u001b[49m\u001b[43m,\u001b[49m\u001b[43mheight\u001b[49m\u001b[43m \u001b[49m\u001b[38;5;241;43m=\u001b[39;49m\u001b[43m \u001b[49m\u001b[43mimage\u001b[49m\u001b[38;5;241;43m.\u001b[39;49m\u001b[43mshape\u001b[49m\u001b[43m[\u001b[49m\u001b[38;5;241;43m1\u001b[39;49m\u001b[43m]\u001b[49m\u001b[43m,\u001b[49m\u001b[43m \u001b[49m\u001b[43mwidth\u001b[49m\u001b[43m \u001b[49m\u001b[38;5;241;43m=\u001b[39;49m\u001b[43m \u001b[49m\u001b[43mimage\u001b[49m\u001b[38;5;241;43m.\u001b[39;49m\u001b[43mshape\u001b[49m\u001b[43m[\u001b[49m\u001b[38;5;241;43m2\u001b[39;49m\u001b[43m]\u001b[49m\u001b[43m)\u001b[49m\n",
      "File \u001b[0;32m~/miniconda3/envs/massimal/lib/python3.11/site-packages/rasterio/env.py:401\u001b[0m, in \u001b[0;36mensure_env.<locals>.wrapper\u001b[0;34m(*args, **kwds)\u001b[0m\n\u001b[1;32m    399\u001b[0m \u001b[38;5;28;01melse\u001b[39;00m:\n\u001b[1;32m    400\u001b[0m     \u001b[38;5;28;01mwith\u001b[39;00m Env\u001b[38;5;241m.\u001b[39mfrom_defaults():\n\u001b[0;32m--> 401\u001b[0m         \u001b[38;5;28;01mreturn\u001b[39;00m \u001b[43mf\u001b[49m\u001b[43m(\u001b[49m\u001b[38;5;241;43m*\u001b[39;49m\u001b[43margs\u001b[49m\u001b[43m,\u001b[49m\u001b[43m \u001b[49m\u001b[38;5;241;43m*\u001b[39;49m\u001b[38;5;241;43m*\u001b[39;49m\u001b[43mkwds\u001b[49m\u001b[43m)\u001b[49m\n",
      "\u001b[0;31mTypeError\u001b[0m: calculate_default_transform() missing 1 required positional argument: 'src_crs'"
     ]
    }
   ],
   "source": [
    "transform, dims = calculate_default_transform(dst_crs=CRS.from_epsg(utm_epsg),height = image.shape[1], width = image.shape[2])"
   ]
  },
  {
   "cell_type": "code",
   "execution_count": null,
   "metadata": {},
   "outputs": [],
   "source": [
    "# left = 0\n",
    "# bottom = image.shape[0]-1\n",
    "# right = image.shape[1]-1\n",
    "# top = 0\n",
    "\n",
    "# output_bounds = transform_bounds()"
   ]
  }
 ],
 "metadata": {
  "kernelspec": {
   "display_name": "massimal",
   "language": "python",
   "name": "python3"
  },
  "language_info": {
   "codemirror_mode": {
    "name": "ipython",
    "version": 3
   },
   "file_extension": ".py",
   "mimetype": "text/x-python",
   "name": "python",
   "nbconvert_exporter": "python",
   "pygments_lexer": "ipython3",
   "version": "3.11.7"
  }
 },
 "nbformat": 4,
 "nbformat_minor": 2
}
