{
 "cells": [
  {
   "cell_type": "code",
   "execution_count": 1,
   "metadata": {},
   "outputs": [],
   "source": [
    "# Imports\n",
    "from pathlib import Path\n",
    "import matplotlib.pyplot as plt\n",
    "import numpy as np\n",
    "from massimal import georeferencing, hyspec_io\n",
    "import rasterio"
   ]
  },
  {
   "cell_type": "code",
   "execution_count": 2,
   "metadata": {},
   "outputs": [],
   "source": [
    "# Paths\n",
    "example_image_path = Path('/media/mha114/Massimal2/Massimal/Bodo_Sandsund/Hyperspectral/20210602/Area/3a_R_rs/Sandsund_May2021_Pika_L_17-Radiance From Raw Data-Reflectance from Radiance Data and Downwelling Irradiance Spectrum.bip.hdr')\n",
    "example_image_stem = example_image_path.stem.split('.')[0]\n",
    "lcf_path = example_image_path.parent / (example_image_stem + '.lcf')\n",
    "times_path = example_image_path.parent / (example_image_stem + '.bip.times')\n",
    "geotiff_dir = Path('/media/mha114/Massimal2/Massimal/Bodo_Sandsund/Hyperspectral/20210602/Area/3c_R_rs_GeoTIFF')\n",
    "geotiff_path = geotiff_dir / (example_image_stem + '.tiff')\n",
    "rgb_geotiff_path = geotiff_dir / (example_image_stem + '_rgb.tiff')\n",
    "world_file_path = geotiff_dir / (example_image_stem + '.wld')"
   ]
  },
  {
   "cell_type": "code",
   "execution_count": 3,
   "metadata": {},
   "outputs": [],
   "source": [
    "utm_epsg = georeferencing.world_file_from_lcf_times_files(lcf_path,times_path,world_file_path)"
   ]
  },
  {
   "cell_type": "code",
   "execution_count": 4,
   "metadata": {},
   "outputs": [],
   "source": [
    "(image,wl,rgb_ind,metadata) = hyspec_io.load_envi_image(example_image_path)"
   ]
  },
  {
   "cell_type": "code",
   "execution_count": 5,
   "metadata": {},
   "outputs": [],
   "source": [
    "image_rgb = image[:,:,rgb_ind]"
   ]
  },
  {
   "cell_type": "code",
   "execution_count": 7,
   "metadata": {},
   "outputs": [],
   "source": [
    "#crs_str = 'EPSG:32633'\n",
    "georeferencing.save_geotiff_with_affine_transform(\n",
    "    image=image_rgb,\n",
    "    crs_str=f'EPSG:{utm_epsg}',\n",
    "    geotiff_path=rgb_geotiff_path,\n",
    "    world_file_path=world_file_path,\n",
    "    band_names=tuple([str(wl[band_ind]) for band_ind in rgb_ind])\n",
    ")\n",
    "# georeferencing.save_geotiff_with_affine_transform(\n",
    "#     image=image,\n",
    "#     crs_str=crs_str,\n",
    "#     geotiff_path=geotiff_path,\n",
    "#     world_file_path=world_file_path\n",
    "# )"
   ]
  },
  {
   "cell_type": "code",
   "execution_count": 8,
   "metadata": {},
   "outputs": [
    {
     "name": "stdout",
     "output_type": "stream",
     "text": [
      "('640.15', '550.07', '459.59')\n",
      "(None, None, None)\n"
     ]
    }
   ],
   "source": [
    "with rasterio.open(rgb_geotiff_path, \"r\") as dataset:\n",
    "    print(dataset.descriptions)\n",
    "    print(dataset.units)"
   ]
  },
  {
   "cell_type": "code",
   "execution_count": null,
   "metadata": {},
   "outputs": [],
   "source": []
  }
 ],
 "metadata": {
  "kernelspec": {
   "display_name": "massimal",
   "language": "python",
   "name": "python3"
  },
  "language_info": {
   "codemirror_mode": {
    "name": "ipython",
    "version": 3
   },
   "file_extension": ".py",
   "mimetype": "text/x-python",
   "name": "python",
   "nbconvert_exporter": "python",
   "pygments_lexer": "ipython3",
   "version": "3.11.7"
  }
 },
 "nbformat": 4,
 "nbformat_minor": 2
}
