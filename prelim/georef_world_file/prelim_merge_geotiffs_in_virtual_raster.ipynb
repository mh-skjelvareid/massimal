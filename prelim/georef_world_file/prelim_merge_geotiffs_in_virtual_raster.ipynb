{
 "cells": [
  {
   "cell_type": "code",
   "execution_count": 6,
   "metadata": {},
   "outputs": [],
   "source": [
    "# Imports\n",
    "from pathlib import Path\n",
    "from massimal import georeferencing\n",
    "from tqdm import tqdm\n",
    "import subprocess"
   ]
  },
  {
   "cell_type": "code",
   "execution_count": 39,
   "metadata": {},
   "outputs": [],
   "source": [
    "# Paths\n",
    "input_geotiff_dir = Path('/media/mha114/Massimal2/Massimal/Bodo_Juvika/Hyperspectral/20220624/Area/2d_R_rs_RGB_GeoTiff')\n",
    "output_geotiff_dir = Path('/media/mha114/Massimal2/Massimal/Bodo_Juvika/Hyperspectral/20220624/Area/2d_R_rs_RGB_GeoTiff/Reprojected3')\n",
    "vrt_dir = Path('/media/mha114/Massimal2/Massimal/Bodo_Juvika/Hyperspectral/20220624/Area/2d_R_rs_RGB_GeoTiff/VirtualRaster')\n",
    "vrt_path = vrt_dir / 'TestVRT.tiff'"
   ]
  },
  {
   "cell_type": "code",
   "execution_count": 5,
   "metadata": {},
   "outputs": [
    {
     "name": "stdout",
     "output_type": "stream",
     "text": [
      "len(input_raster_paths)=36\n"
     ]
    }
   ],
   "source": [
    "input_raster_paths = sorted(input_geotiff_dir.glob('*.tiff'))\n",
    "print(f'{len(input_raster_paths)=}')"
   ]
  },
  {
   "cell_type": "code",
   "execution_count": 35,
   "metadata": {},
   "outputs": [],
   "source": [
    "def reproject_rotated_raster_to_nonrotated(input_raster_path,output_raster_path):\n",
    "    \"\"\" Convert raster with rotated geotrasform into non-rotated raster with same crs \n",
    "    \n",
    "    # Explanation of arguments used:\n",
    "    -overwrite:\n",
    "        Overwrite existing files without error / warning\n",
    "    -q:\n",
    "        Suppress GDAL output (quiet)\n",
    "    -r near:\n",
    "        Resampling method: Nearest neighbor\n",
    "    -of GTiff:\n",
    "        Output format: GeoTiff  \n",
    "    \"\"\"\n",
    "    gdal_args = ['gdalwarp', '-overwrite', '-q', '-r', 'near', '-of', 'GTiff', \n",
    "                 str(input_raster_path), str(output_raster_path)]\n",
    "    subprocess.run(gdal_args)\n"
   ]
  },
  {
   "cell_type": "code",
   "execution_count": 37,
   "metadata": {},
   "outputs": [
    {
     "name": "stderr",
     "output_type": "stream",
     "text": [
      "100%|██████████| 36/36 [00:16<00:00,  2.21it/s]\n"
     ]
    }
   ],
   "source": [
    "for input_raster_path in tqdm(input_raster_paths):\n",
    "    output_raster_path = output_geotiff_dir / input_raster_path.name\n",
    "    reproject_rotated_raster_to_nonrotated(input_raster_path,output_raster_path)"
   ]
  },
  {
   "cell_type": "code",
   "execution_count": 38,
   "metadata": {},
   "outputs": [
    {
     "name": "stdout",
     "output_type": "stream",
     "text": [
      "len(rasters_to_merge)=36\n"
     ]
    }
   ],
   "source": [
    "rasters_to_merge = sorted(output_geotiff_dir.glob('*.tiff'))\n",
    "print(f'{len(rasters_to_merge)=}')"
   ]
  },
  {
   "cell_type": "code",
   "execution_count": 51,
   "metadata": {},
   "outputs": [],
   "source": [
    "def build_virtual_raster(input_raster_paths,virtual_raster_path):\n",
    "    \"\"\" Merge multiple images into VRT \n",
    "    \n",
    "    # Explanation of arguments used:\n",
    "    -q:\n",
    "        Suppress GDAL output (\"quiet\")\n",
    "    -overwrite():\n",
    "        Overwrite existing files without error / warning\n",
    "    \n",
    "    \"\"\"\n",
    "    gdal_cmd = (['gdalbuildvrt', '-q', '-overwrite'] + \n",
    "            [str(vrt_path)] + \n",
    "            [str(path) for path in rasters_to_merge])\n",
    "    subprocess.run(gdal_cmd)"
   ]
  },
  {
   "cell_type": "code",
   "execution_count": 52,
   "metadata": {},
   "outputs": [],
   "source": [
    "build_virtual_raster(rasters_to_merge,vrt_path)"
   ]
  },
  {
   "cell_type": "code",
   "execution_count": 50,
   "metadata": {},
   "outputs": [],
   "source": [
    "# gdal_cmd = (['gdalbuildvrt', '-q', '-overwrite', '-resolution', 'average'] + \n",
    "#             [str(vrt_path)] + \n",
    "#             [str(path) for path in rasters_to_merge])\n",
    "# print(gdal_cmd)\n",
    "# subprocess.run(gdal_cmd)\n"
   ]
  },
  {
   "cell_type": "code",
   "execution_count": null,
   "metadata": {},
   "outputs": [],
   "source": []
  }
 ],
 "metadata": {
  "kernelspec": {
   "display_name": "massimal",
   "language": "python",
   "name": "python3"
  },
  "language_info": {
   "codemirror_mode": {
    "name": "ipython",
    "version": 3
   },
   "file_extension": ".py",
   "mimetype": "text/x-python",
   "name": "python",
   "nbconvert_exporter": "python",
   "pygments_lexer": "ipython3",
   "version": "3.11.7"
  }
 },
 "nbformat": 4,
 "nbformat_minor": 2
}
