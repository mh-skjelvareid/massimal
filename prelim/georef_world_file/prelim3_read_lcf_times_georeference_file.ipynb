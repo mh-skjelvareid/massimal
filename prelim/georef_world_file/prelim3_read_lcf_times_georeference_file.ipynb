{
 "cells": [
  {
   "cell_type": "code",
   "execution_count": 1,
   "metadata": {},
   "outputs": [],
   "source": [
    "from pathlib import Path\n",
    "import numpy as np\n",
    "import math\n",
    "\n",
    "import georeferencing, crs_tools"
   ]
  },
  {
   "cell_type": "code",
   "execution_count": 2,
   "metadata": {},
   "outputs": [],
   "source": [
    "# Paths\n",
    "lcf_path = Path.cwd() / 'ExampleImages' / 'Juvika_June2022_Pika_L_12.lcf'\n",
    "times_path = lcf_path.parent / (lcf_path.stem + '.bil.times')"
   ]
  },
  {
   "cell_type": "code",
   "execution_count": 3,
   "metadata": {},
   "outputs": [
    {
     "name": "stdout",
     "output_type": "stream",
     "text": [
      "{'time': array([0.00000000e+00, 5.00011444e-03, 9.99999046e-03, ...,\n",
      "       1.83250000e+01, 1.83300002e+01, 1.83350000e+01]), 'roll': array([-0.01800563, -0.01799441, -0.01794705, ..., -0.00483355,\n",
      "       -0.00484231, -0.00485931]), 'pitch': array([-0.11502507, -0.11497966, -0.11493181, ..., -0.0723944 ,\n",
      "       -0.07240727, -0.07242776]), 'yaw': array([2.21383309, 2.2133956 , 2.21344376, ..., 2.12589884, 2.1260078 ,\n",
      "       2.12592864]), 'longitude': array([15.0050441 , 15.00504447, 15.00504483, ..., 15.00621286,\n",
      "       15.00621319, 15.00621352]), 'latitude': array([67.21564225, 67.2156421 , 67.21564197, ..., 67.21515659,\n",
      "       67.21515646, 67.21515633]), 'altitude': array([38.51876425, 38.513728  , 38.51277217, ..., 37.69600152,\n",
      "       37.69522698, 37.69445147])}\n"
     ]
    }
   ],
   "source": [
    "# Load LCF data\n",
    "lcf_data = georeferencing.read_lcf_file(lcf_path)\n",
    "print(lcf_data)\n"
   ]
  },
  {
   "cell_type": "code",
   "execution_count": 4,
   "metadata": {},
   "outputs": [
    {
     "name": "stdout",
     "output_type": "stream",
     "text": [
      "[0.0000000e+00 9.1750000e-03 1.8349000e-02 ... 1.8321089e+01 1.8330263e+01\n",
      " 1.8339437e+01]\n"
     ]
    }
   ],
   "source": [
    "image_times = georeferencing.read_times_file(times_path)\n",
    "print(image_times)"
   ]
  },
  {
   "cell_type": "code",
   "execution_count": 27,
   "metadata": {},
   "outputs": [
    {
     "name": "stdout",
     "output_type": "stream",
     "text": [
      "(0.025746833032614692, 0.024024646518708413, 0.025290239927096874, -0.027103149436586788, 500204.3131578073, 7455411.765404667)\n",
      "utm_epsg=32633\n"
     ]
    }
   ],
   "source": [
    "# Calculate transform parameters\n",
    "framerate = 1/np.mean(np.diff(image_times))\n",
    "# framerate = 200\n",
    "ground_altitude = -10\n",
    "pitch_offset = np.mean(lcf_data['pitch'])\n",
    "# pitch_offset = 0.1\n",
    "roll_offset = np.mean(lcf_data['roll'])\n",
    "# roll_offset = -0.1\n",
    "affine_transform_parameters, utm_epsg = georeferencing.calculate_pushbroom_imager_transform(\n",
    "    lcf_data['time'],\n",
    "    lcf_data['longitude'],\n",
    "    lcf_data['latitude'],\n",
    "    lcf_data['altitude'],\n",
    "    framerate,\n",
    "    use_world_file_ordering=True,\n",
    "    ground_altitude = ground_altitude,\n",
    "    pitch_offset = pitch_offset,\n",
    "    roll_offset = roll_offset)\n",
    "print(affine_transform_parameters)\n",
    "print(f'{utm_epsg=}')"
   ]
  },
  {
   "cell_type": "code",
   "execution_count": 28,
   "metadata": {},
   "outputs": [],
   "source": [
    "# Write world file\n",
    "world_file_path = lcf_path.parent / (lcf_path.stem + '.wld')\n",
    "np.savetxt(world_file_path,affine_transform_parameters)"
   ]
  },
  {
   "cell_type": "code",
   "execution_count": 49,
   "metadata": {},
   "outputs": [],
   "source": [
    "def world_file_from_lcf_times_files(lcf_file_path,times_file_path,world_file_path,**kwargs):\n",
    "    \"\"\" Calculate world file (affine transformation) for raster image based on .lcf and .times files \n",
    "    \n",
    "    # Arguments:\n",
    "    lcf_file_path:\n",
    "        Path to .lcf file, containing camera IMU and GNSS information\n",
    "    times_file_path:\n",
    "        Path to .times file. \n",
    "    world_file_path:\n",
    "        Path for output world file. Should have file extension corresponding to\n",
    "        image format, e.g. 'pgw' for PNG files, or, alternatively,\n",
    "        just 'wld' (accepted by GDAL and QGIS). \n",
    "         \n",
    "    # Keyword arguments:\n",
    "    Keyword parameters are passed on to calculate_pushbroom_imager_transform().\n",
    "    Note: pitch_offset and roll_offset are estimated as mean values from LCF files,\n",
    "    and can (currently) not be set manually.  All other keyword arguments to the \n",
    "    function (e.g. ground_altitude) can be passed in. \n",
    "    \"\"\"\n",
    "\n",
    "    lcf_data = georeferencing.read_lcf_file(lcf_file_path)\n",
    "    image_times = georeferencing.read_times_file(times_file_path)\n",
    "    framerate = 1/np.mean(np.diff(image_times))\n",
    "\n",
    "    # Calculate transform parameters\n",
    "    affine_transform_parameters, utm_epsg = georeferencing.calculate_pushbroom_imager_transform(\n",
    "        lcf_data['time'],\n",
    "        lcf_data['longitude'],\n",
    "        lcf_data['latitude'],\n",
    "        lcf_data['altitude'],\n",
    "        framerate,\n",
    "        use_world_file_ordering=True,\n",
    "        pitch_offset = np.mean(lcf_data['pitch']),\n",
    "        roll_offset = np.mean(lcf_data['roll']),\n",
    "        **kwargs)\n",
    "\n",
    "    # Save to file\n",
    "    np.savetxt(world_file_path,affine_transform_parameters)"
   ]
  },
  {
   "cell_type": "code",
   "execution_count": 52,
   "metadata": {},
   "outputs": [],
   "source": [
    "world_file_from_lcf_times_files(lcf_path,times_path,world_file_path,ground_altitude=-10)"
   ]
  },
  {
   "cell_type": "code",
   "execution_count": 46,
   "metadata": {},
   "outputs": [],
   "source": [
    "def my_func(a,b='hello',**kwargs):\n",
    "    print(f'{a=}, {b=}')\n",
    "    print(kwargs)\n",
    "    my_func2(**kwargs)\n",
    "\n",
    "def my_func2(c=42,**kwargs):\n",
    "    print(f'{c=}')"
   ]
  },
  {
   "cell_type": "code",
   "execution_count": 47,
   "metadata": {},
   "outputs": [
    {
     "name": "stdout",
     "output_type": "stream",
     "text": [
      "a=4, b='satan'\n",
      "{'d': 'world', 'c': 14}\n",
      "c=14\n"
     ]
    }
   ],
   "source": [
    "my_func(4,b='satan',d='world',c=14)"
   ]
  }
 ],
 "metadata": {
  "kernelspec": {
   "display_name": "massimal",
   "language": "python",
   "name": "python3"
  },
  "language_info": {
   "codemirror_mode": {
    "name": "ipython",
    "version": 3
   },
   "file_extension": ".py",
   "mimetype": "text/x-python",
   "name": "python",
   "nbconvert_exporter": "python",
   "pygments_lexer": "ipython3",
   "version": "3.11.7"
  }
 },
 "nbformat": 4,
 "nbformat_minor": 2
}
