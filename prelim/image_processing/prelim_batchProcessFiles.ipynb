{
 "cells": [
  {
   "cell_type": "code",
   "execution_count": 1,
   "id": "19f0fab4",
   "metadata": {},
   "outputs": [],
   "source": [
    "import os\n",
    "import glob\n",
    "import numpy as np\n",
    "import spectral\n",
    "\n",
    "import misc, hyspec_io, preprocess"
   ]
  },
  {
   "cell_type": "code",
   "execution_count": 2,
   "id": "961888ab",
   "metadata": {},
   "outputs": [],
   "source": [
    "input_dir = '/mnt/datadisk/Massimal/Tmp/Test_Batch_Input'\n",
    "output_dir = '/mnt/datadisk/Massimal/Tmp/Test_Batch_Output'\n",
    "file_pattern = '*.hdr'"
   ]
  },
  {
   "cell_type": "code",
   "execution_count": 12,
   "id": "c158011f",
   "metadata": {},
   "outputs": [
    {
     "name": "stdout",
     "output_type": "stream",
     "text": [
      "/mnt/datadisk/Massimal/Tmp/Test_Batch_Input/OlbergholmenS-12/OlbergholmenS_Pika_L_12.bil.hdr\n",
      "/mnt/datadisk/Massimal/Tmp/Test_Batch_Input/OlbergholmenS-13/OlbergholmenS_Pika_L_13.bil.hdr\n",
      "/mnt/datadisk/Massimal/Tmp/Test_Batch_Input/OlbergholmenS-14/OlbergholmenS_Pika_L_14.bil.hdr\n"
     ]
    }
   ],
   "source": [
    "input_files = misc.file_pattern_search(input_dir,file_pattern,recursive = True)\n",
    "print(*input_files,sep='\\n')"
   ]
  },
  {
   "cell_type": "code",
   "execution_count": 13,
   "id": "2d00c3fa",
   "metadata": {},
   "outputs": [
    {
     "name": "stdout",
     "output_type": "stream",
     "text": [
      "/mnt/datadisk/Massimal/Tmp/Test_Batch_Output/OlbergholmenS_Pika_L_12.bil.hdr\n",
      "/mnt/datadisk/Massimal/Tmp/Test_Batch_Output/OlbergholmenS_Pika_L_13.bil.hdr\n",
      "/mnt/datadisk/Massimal/Tmp/Test_Batch_Output/OlbergholmenS_Pika_L_14.bil.hdr\n"
     ]
    }
   ],
   "source": [
    "output_files = misc.build_newdir_filepath(input_files,output_dir)\n",
    "print(*output_files,sep='\\n')"
   ]
  },
  {
   "cell_type": "code",
   "execution_count": 5,
   "id": "e1b0bd8c",
   "metadata": {},
   "outputs": [
    {
     "name": "stdout",
     "output_type": "stream",
     "text": [
      "Input file: /mnt/datadisk/Massimal/Tmp/Test_Batch_Input/OlbergholmenS-12/OlbergholmenS_Pika_L_12.bil.hdr\n",
      "Output file: /mnt/datadisk/Massimal/Tmp/Test_Batch_Output/OlbergholmenS_Pika_L_12.bil.hdr\n",
      "Input file: /mnt/datadisk/Massimal/Tmp/Test_Batch_Input/OlbergholmenS-13/OlbergholmenS_Pika_L_13.bil.hdr\n",
      "Output file: /mnt/datadisk/Massimal/Tmp/Test_Batch_Output/OlbergholmenS_Pika_L_13.bil.hdr\n",
      "Input file: /mnt/datadisk/Massimal/Tmp/Test_Batch_Input/OlbergholmenS-14/OlbergholmenS_Pika_L_14.bil.hdr\n",
      "Output file: /mnt/datadisk/Massimal/Tmp/Test_Batch_Output/OlbergholmenS_Pika_L_14.bil.hdr\n"
     ]
    }
   ],
   "source": [
    "for input_file, output_file in zip(input_files,output_files):\n",
    "    print('Input file: ' + input_file)\n",
    "    print('Output file: ' + output_file)"
   ]
  },
  {
   "cell_type": "code",
   "execution_count": 14,
   "id": "adb477c0",
   "metadata": {},
   "outputs": [
    {
     "name": "stdout",
     "output_type": "stream",
     "text": [
      "/mnt/datadisk/Massimal/Tmp/Test_Batch_Input/OlbergholmenS-13/OlbergholmenS_Pika_L_13.bil.hdr\n",
      "/mnt/datadisk/Massimal/Tmp/Test_Batch_Input/OlbergholmenS-14/OlbergholmenS_Pika_L_14.bil.hdr\n",
      "/mnt/datadisk/Massimal/Tmp/Test_Batch_Output/OlbergholmenS_Pika_L_13.bil.hdr\n",
      "/mnt/datadisk/Massimal/Tmp/Test_Batch_Output/OlbergholmenS_Pika_L_14.bil.hdr\n"
     ]
    }
   ],
   "source": [
    "input_files = input_files[1:]\n",
    "output_files = output_files[1:]\n",
    "print(*input_files,sep='\\n')\n",
    "print(*output_files,sep='\\n')"
   ]
  },
  {
   "cell_type": "code",
   "execution_count": 16,
   "id": "c4cc87e9",
   "metadata": {},
   "outputs": [
    {
     "name": "stdout",
     "output_type": "stream",
     "text": [
      "Loading /mnt/datadisk/Massimal/Tmp/Test_Batch_Input/OlbergholmenS-13/OlbergholmenS_Pika_L_13.bil.hdr\n",
      "Inpainting...\n",
      "Inpaiting band 0 of 300\r"
     ]
    },
    {
     "ename": "KeyboardInterrupt",
     "evalue": "",
     "output_type": "error",
     "traceback": [
      "\u001b[0;31m---------------------------------------------------------------------------\u001b[0m",
      "\u001b[0;31mKeyboardInterrupt\u001b[0m                         Traceback (most recent call last)",
      "\u001b[0;32m<ipython-input-16-7b99be994027>\u001b[0m in \u001b[0;36m<module>\u001b[0;34m\u001b[0m\n\u001b[1;32m     10\u001b[0m     \u001b[0;31m# Inpaint\u001b[0m\u001b[0;34m\u001b[0m\u001b[0;34m\u001b[0m\u001b[0;34m\u001b[0m\u001b[0m\n\u001b[1;32m     11\u001b[0m     \u001b[0mprint\u001b[0m\u001b[0;34m(\u001b[0m\u001b[0;34m'Inpainting...'\u001b[0m\u001b[0;34m)\u001b[0m\u001b[0;34m\u001b[0m\u001b[0;34m\u001b[0m\u001b[0m\n\u001b[0;32m---> 12\u001b[0;31m     \u001b[0mim_cube_inpaint\u001b[0m \u001b[0;34m=\u001b[0m \u001b[0mpreprocess\u001b[0m\u001b[0;34m.\u001b[0m\u001b[0minpaint_masked\u001b[0m\u001b[0;34m(\u001b[0m\u001b[0mim_cube\u001b[0m\u001b[0;34m,\u001b[0m\u001b[0msat_pix_mask\u001b[0m\u001b[0;34m,\u001b[0m\u001b[0minpaint_alg\u001b[0m\u001b[0;34m=\u001b[0m\u001b[0;34m'telea'\u001b[0m\u001b[0;34m)\u001b[0m\u001b[0;34m\u001b[0m\u001b[0;34m\u001b[0m\u001b[0m\n\u001b[0m\u001b[1;32m     13\u001b[0m \u001b[0;34m\u001b[0m\u001b[0m\n\u001b[1;32m     14\u001b[0m     \u001b[0;31m# Save\u001b[0m\u001b[0;34m\u001b[0m\u001b[0;34m\u001b[0m\u001b[0;34m\u001b[0m\u001b[0m\n",
      "\u001b[0;32m~/Dropbox/Python/massimal/tools/preprocess.py\u001b[0m in \u001b[0;36minpaint_masked\u001b[0;34m(in_im, mask, inpaint_radius, inpaint_alg)\u001b[0m\n\u001b[1;32m     89\u001b[0m     \u001b[0;32mfor\u001b[0m \u001b[0mii\u001b[0m \u001b[0;32min\u001b[0m \u001b[0mrange\u001b[0m\u001b[0;34m(\u001b[0m\u001b[0mout_im\u001b[0m\u001b[0;34m.\u001b[0m\u001b[0mshape\u001b[0m\u001b[0;34m[\u001b[0m\u001b[0;36m2\u001b[0m\u001b[0;34m]\u001b[0m\u001b[0;34m)\u001b[0m\u001b[0;34m:\u001b[0m\u001b[0;34m\u001b[0m\u001b[0;34m\u001b[0m\u001b[0m\n\u001b[1;32m     90\u001b[0m         \u001b[0mprint\u001b[0m\u001b[0;34m(\u001b[0m\u001b[0;34m'Inpaiting band '\u001b[0m \u001b[0;34m+\u001b[0m \u001b[0mstr\u001b[0m\u001b[0;34m(\u001b[0m\u001b[0mii\u001b[0m\u001b[0;34m)\u001b[0m \u001b[0;34m+\u001b[0m \u001b[0;34m' of '\u001b[0m \u001b[0;34m+\u001b[0m \u001b[0mstr\u001b[0m\u001b[0;34m(\u001b[0m\u001b[0mout_im\u001b[0m\u001b[0;34m.\u001b[0m\u001b[0mshape\u001b[0m\u001b[0;34m[\u001b[0m\u001b[0;36m2\u001b[0m\u001b[0;34m]\u001b[0m\u001b[0;34m)\u001b[0m\u001b[0;34m,\u001b[0m\u001b[0mend\u001b[0m\u001b[0;34m=\u001b[0m\u001b[0;34m\"\\r\"\u001b[0m\u001b[0;34m)\u001b[0m\u001b[0;34m\u001b[0m\u001b[0;34m\u001b[0m\u001b[0m\n\u001b[0;32m---> 91\u001b[0;31m         \u001b[0mout_im\u001b[0m\u001b[0;34m[\u001b[0m\u001b[0;34m:\u001b[0m\u001b[0;34m,\u001b[0m\u001b[0;34m:\u001b[0m\u001b[0;34m,\u001b[0m\u001b[0mii\u001b[0m\u001b[0;34m]\u001b[0m \u001b[0;34m=\u001b[0m \u001b[0mcv2\u001b[0m\u001b[0;34m.\u001b[0m\u001b[0minpaint\u001b[0m\u001b[0;34m(\u001b[0m \u001b[0mout_im\u001b[0m\u001b[0;34m[\u001b[0m\u001b[0;34m:\u001b[0m\u001b[0;34m,\u001b[0m\u001b[0;34m:\u001b[0m\u001b[0;34m,\u001b[0m\u001b[0mii\u001b[0m\u001b[0;34m]\u001b[0m\u001b[0;34m,\u001b[0m\u001b[0mmask\u001b[0m\u001b[0;34m,\u001b[0m\u001b[0minpaint_radius\u001b[0m\u001b[0;34m,\u001b[0m\u001b[0malg_flag\u001b[0m\u001b[0;34m)\u001b[0m\u001b[0;34m\u001b[0m\u001b[0;34m\u001b[0m\u001b[0m\n\u001b[0m\u001b[1;32m     92\u001b[0m \u001b[0;34m\u001b[0m\u001b[0m\n\u001b[1;32m     93\u001b[0m     \u001b[0;31m# Return\u001b[0m\u001b[0;34m\u001b[0m\u001b[0;34m\u001b[0m\u001b[0;34m\u001b[0m\u001b[0m\n",
      "\u001b[0;31mKeyboardInterrupt\u001b[0m: "
     ]
    }
   ],
   "source": [
    "# Batch process. The loop seems to work, but inpaiting the second file takes forever.\n",
    "for input_file, output_file in zip(input_files,output_files):\n",
    "    # Load image\n",
    "    print('Loading ' + input_file)\n",
    "    (im_cube,wl,rgb_ind,metadata) = hyspec_io.load_envi_image(input_file)\n",
    "    \n",
    "    # Detect saturated pixels\n",
    "    sat_pix_mask = preprocess.detect_saturated(im_cube)\n",
    "    \n",
    "    # Inpaint\n",
    "    print('Inpainting...')\n",
    "    im_cube_inpaint = preprocess.inpaint_masked(im_cube,sat_pix_mask)\n",
    "    \n",
    "    # Save\n",
    "    print('Saving inpainted image to ' + output_file)\n",
    "    spectral.envi.save_image(output_file,im_cube_inpaint,\n",
    "                             dtype='uint16',metadata=metadata,ext=None,force=True)"
   ]
  }
 ],
 "metadata": {
  "kernelspec": {
   "display_name": "Python 3",
   "language": "python",
   "name": "python3"
  },
  "language_info": {
   "codemirror_mode": {
    "name": "ipython",
    "version": 3
   },
   "file_extension": ".py",
   "mimetype": "text/x-python",
   "name": "python",
   "nbconvert_exporter": "python",
   "pygments_lexer": "ipython3",
   "version": "3.9.4"
  }
 },
 "nbformat": 4,
 "nbformat_minor": 5
}
