{
 "cells": [
  {
   "cell_type": "code",
   "execution_count": 7,
   "id": "b3f2ff71-c7e2-4288-85e8-91faf1a69fa2",
   "metadata": {},
   "outputs": [],
   "source": [
    "import os\n",
    "from skimage.io import imsave, imread"
   ]
  },
  {
   "cell_type": "code",
   "execution_count": 2,
   "id": "479d2382-9e6d-4774-8bbd-eee5d34ac821",
   "metadata": {},
   "outputs": [],
   "source": [
    "ex_file = '/mnt/datadisk/Massimal/Tmp/Test_Batch_Input/OlbergholmenS-12/OlbergholmenS_Pika_L_12.bil.hdr'"
   ]
  },
  {
   "cell_type": "code",
   "execution_count": 6,
   "id": "168404f6-b4d5-456c-bada-0ff7e7a59c62",
   "metadata": {},
   "outputs": [
    {
     "name": "stdout",
     "output_type": "stream",
     "text": [
      "/mnt/datadisk/Massimal/Tmp/Test_Batch_Input/OlbergholmenS-12/OlbergholmenS_Pika_L_12_sat.png\n"
     ]
    }
   ],
   "source": [
    "tmp = ex_file.split(sep='.')[0] + '_sat.png'\n",
    "print(tmp)"
   ]
  },
  {
   "cell_type": "code",
   "execution_count": 9,
   "id": "b6a1378e-d54c-4d89-941a-0f14ecc15b69",
   "metadata": {},
   "outputs": [
    {
     "name": "stdout",
     "output_type": "stream",
     "text": [
      "['/mnt/datadisk/Massimal/Tmp/Test_Batch_Input/OlbergholmenS-12/OlbergholmenS_Pika_L_12.bil.hdr']\n"
     ]
    }
   ],
   "source": [
    "tmp2 = [ex_file]\n",
    "print(tmp2)"
   ]
  }
 ],
 "metadata": {
  "kernelspec": {
   "display_name": "Python 3",
   "language": "python",
   "name": "python3"
  },
  "language_info": {
   "codemirror_mode": {
    "name": "ipython",
    "version": 3
   },
   "file_extension": ".py",
   "mimetype": "text/x-python",
   "name": "python",
   "nbconvert_exporter": "python",
   "pygments_lexer": "ipython3",
   "version": "3.9.4"
  }
 },
 "nbformat": 4,
 "nbformat_minor": 5
}
