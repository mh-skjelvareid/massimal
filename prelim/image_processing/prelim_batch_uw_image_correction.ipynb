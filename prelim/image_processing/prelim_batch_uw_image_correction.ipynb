{
 "cells": [
  {
   "cell_type": "code",
   "execution_count": 1,
   "id": "6efbc805",
   "metadata": {},
   "outputs": [],
   "source": [
    "# import image_render, misc\n",
    "# import skimage.io  # Pretty much same speed as cv2, maybe 10-20% slower\n",
    "# import tqdm\n",
    "# import pathlib\n",
    "import batch_process"
   ]
  },
  {
   "cell_type": "code",
   "execution_count": 3,
   "id": "8ecf7900",
   "metadata": {},
   "outputs": [],
   "source": [
    "input_dirs = ['/media/mha114/Massimal/Vega_Sola/Transects/Otter/Test/Noncorrected Images',\n",
    "              '/media/mha114/Massimal/Vega_Sola/Transects/Otter/Test/Noncorrected Images 2']\n",
    "output_dirs = ['/media/mha114/Massimal/Vega_Sola/Transects/Otter/Test/Corrected Images',\n",
    "               '/media/mha114/Massimal/Vega_Sola/Transects/Otter/Test/Corrected Images 2']"
   ]
  },
  {
   "cell_type": "code",
   "execution_count": 4,
   "id": "f5d519dd",
   "metadata": {},
   "outputs": [
    {
     "name": "stdout",
     "output_type": "stream",
     "text": [
      "Processing 13 images in /media/mha114/Massimal/Vega_Sola/Transects/Otter/Test/Noncorrected Images:\n"
     ]
    },
    {
     "name": "stderr",
     "output_type": "stream",
     "text": [
      "100%|███████████████████████████████████████████| 13/13 [00:31<00:00,  2.46s/it]\n"
     ]
    },
    {
     "name": "stdout",
     "output_type": "stream",
     "text": [
      "Processing 17 images in /media/mha114/Massimal/Vega_Sola/Transects/Otter/Test/Noncorrected Images 2:\n"
     ]
    },
    {
     "name": "stderr",
     "output_type": "stream",
     "text": [
      "100%|███████████████████████████████████████████| 17/17 [00:38<00:00,  2.25s/it]\n"
     ]
    }
   ],
   "source": [
    "# Run correction on test directories\n",
    "batch_process.underwater_image_correction(input_dirs,output_dirs)"
   ]
  }
 ],
 "metadata": {
  "kernelspec": {
   "display_name": "Python 3 (ipykernel)",
   "language": "python",
   "name": "python3"
  },
  "language_info": {
   "codemirror_mode": {
    "name": "ipython",
    "version": 3
   },
   "file_extension": ".py",
   "mimetype": "text/x-python",
   "name": "python",
   "nbconvert_exporter": "python",
   "pygments_lexer": "ipython3",
   "version": "3.9.12"
  }
 },
 "nbformat": 4,
 "nbformat_minor": 5
}
