{
 "cells": [
  {
   "cell_type": "code",
   "execution_count": 7,
   "id": "f7b7e25c",
   "metadata": {},
   "outputs": [],
   "source": [
    "import os\n",
    "import glob\n",
    "import numpy as np\n",
    "import spectral\n",
    "\n",
    "import misc, hyspec_io"
   ]
  },
  {
   "cell_type": "code",
   "execution_count": 10,
   "id": "02593673",
   "metadata": {},
   "outputs": [],
   "source": [
    "input_dir = '/mnt/datadisk/Massimal/Tmp/Test_Batch_Input'\n",
    "output_dir = '/mnt/datadisk/Massimal/Tmp/Test_Batch_Output'\n",
    "file_pattern = '*.hdr'"
   ]
  },
  {
   "cell_type": "code",
   "execution_count": 4,
   "id": "d26bf333",
   "metadata": {},
   "outputs": [],
   "source": [
    "file_list = misc.recursive_file_search(input_dir,file_pattern)"
   ]
  },
  {
   "cell_type": "code",
   "execution_count": 5,
   "id": "432b6a47",
   "metadata": {},
   "outputs": [
    {
     "name": "stdout",
     "output_type": "stream",
     "text": [
      "['/mnt/datadisk/Massimal/Tmp/Test_Batch/OlbergholmenS-12/OlbergholmenS_Pika_L_12.bil.hdr', '/mnt/datadisk/Massimal/Tmp/Test_Batch/OlbergholmenS-13/OlbergholmenS_Pika_L_13.bil.hdr', '/mnt/datadisk/Massimal/Tmp/Test_Batch/OlbergholmenS-14/OlbergholmenS_Pika_L_14.bil.hdr']\n"
     ]
    }
   ],
   "source": [
    "print(file_list)"
   ]
  },
  {
   "cell_type": "code",
   "execution_count": 9,
   "id": "39cc7a12",
   "metadata": {},
   "outputs": [
    {
     "name": "stdout",
     "output_type": "stream",
     "text": [
      "/mnt/datadisk/Massimal/Tmp/Test_Batch/OlbergholmenS-12\n",
      "OlbergholmenS_Pika_L_12.bil.hdr\n"
     ]
    }
   ],
   "source": [
    "(head,tail) = os.path.split(file_list[0])\n",
    "print(head)\n",
    "print(tail)"
   ]
  },
  {
   "cell_type": "code",
   "execution_count": 8,
   "id": "147a131c",
   "metadata": {},
   "outputs": [],
   "source": [
    "for input_file in file_list:\n",
    "    # Load image\n",
    "    (im_cube,wl,rgb_ind,metadata) = hyspec_io.load_envi_image(input_file)\n",
    "    \n",
    "    # Detect saturated pixels\n",
    "    sat_pix_mask = preprocess.detect_saturated(im_cube)\n",
    "    \n",
    "    # Inpaint\n",
    "    im_cube_inpaint = preprocess.inpaint_masked(im_cube,sat_pix_mask)\n",
    "    \n",
    "    # Save\n",
    "    (head,tail) = os.path.split()\n",
    "    output_file = output_dir + os.path.sep + \n",
    "    spectral.envi.save_image(output_file,im_cube_inpaint,dtype='uint16',metadata=metadata,force=True)"
   ]
  }
 ],
 "metadata": {
  "kernelspec": {
   "display_name": "Python 3",
   "language": "python",
   "name": "python3"
  },
  "language_info": {
   "codemirror_mode": {
    "name": "ipython",
    "version": 3
   },
   "file_extension": ".py",
   "mimetype": "text/x-python",
   "name": "python",
   "nbconvert_exporter": "python",
   "pygments_lexer": "ipython3",
   "version": "3.9.4"
  }
 },
 "nbformat": 4,
 "nbformat_minor": 5
}
