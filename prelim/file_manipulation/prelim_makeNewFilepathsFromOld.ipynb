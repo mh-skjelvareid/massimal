{
 "cells": [
  {
   "cell_type": "code",
   "execution_count": 1,
   "id": "e37f2b2e",
   "metadata": {},
   "outputs": [],
   "source": [
    "import os\n",
    "import glob\n",
    "import numpy as np\n",
    "import spectral\n",
    "\n",
    "import misc, hyspec_io"
   ]
  },
  {
   "cell_type": "code",
   "execution_count": 7,
   "id": "c3e5420c",
   "metadata": {},
   "outputs": [],
   "source": [
    "input_dir = '/mnt/datadisk/Massimal/Tmp/Test_Batch_Input'\n",
    "output_dir = '/mnt/datadisk/Massimal/Tmp/Test_Batch_Output////'\n",
    "file_pattern = '*.hdr'"
   ]
  },
  {
   "cell_type": "code",
   "execution_count": 3,
   "id": "cee2afe2",
   "metadata": {},
   "outputs": [],
   "source": [
    "file_list = misc.file_pattern_search(input_dir,file_pattern,recursive = True)"
   ]
  },
  {
   "cell_type": "code",
   "execution_count": 4,
   "id": "0d50fce1",
   "metadata": {},
   "outputs": [
    {
     "name": "stdout",
     "output_type": "stream",
     "text": [
      "/mnt/datadisk/Massimal/Tmp/Test_Batch_Input/OlbergholmenS-12/OlbergholmenS_Pika_L_12.bil.hdr\n",
      "/mnt/datadisk/Massimal/Tmp/Test_Batch_Input/OlbergholmenS-13/OlbergholmenS_Pika_L_13.bil.hdr\n",
      "/mnt/datadisk/Massimal/Tmp/Test_Batch_Input/OlbergholmenS-14/OlbergholmenS_Pika_L_14.bil.hdr\n"
     ]
    }
   ],
   "source": [
    "print(*file_list,sep='\\n')"
   ]
  },
  {
   "cell_type": "code",
   "execution_count": 8,
   "id": "38092f3f",
   "metadata": {},
   "outputs": [
    {
     "name": "stdout",
     "output_type": "stream",
     "text": [
      "/mnt/datadisk/Massimal/Tmp/Test_Batch_Output/OlbergholmenS_Pika_L_12.png\n",
      "/mnt/datadisk/Massimal/Tmp/Test_Batch_Output/OlbergholmenS_Pika_L_13.png\n",
      "/mnt/datadisk/Massimal/Tmp/Test_Batch_Output/OlbergholmenS_Pika_L_14.png\n"
     ]
    }
   ],
   "source": [
    "new_file_paths = misc.build_newdir_filepath(file_list,output_dir,new_ext='.png')\n",
    "print(*new_file_paths,sep='\\n')"
   ]
  },
  {
   "cell_type": "markdown",
   "id": "7175693f",
   "metadata": {},
   "source": [
    "Code below is preliminary testing of path modification."
   ]
  },
  {
   "cell_type": "code",
   "execution_count": 31,
   "id": "dbcd7094",
   "metadata": {},
   "outputs": [
    {
     "name": "stdout",
     "output_type": "stream",
     "text": [
      "OlbergholmenS_Pika_L_12.bil.hdr\n",
      "OlbergholmenS_Pika_L_13.bil.hdr\n",
      "OlbergholmenS_Pika_L_14.bil.hdr\n"
     ]
    }
   ],
   "source": [
    "# Get only file name\n",
    "base_name = [os.path.basename(file) for file in file_list]\n",
    "\n",
    "print(*base_name,sep='\\n')"
   ]
  },
  {
   "cell_type": "code",
   "execution_count": 41,
   "id": "bda662eb",
   "metadata": {},
   "outputs": [
    {
     "name": "stdout",
     "output_type": "stream",
     "text": [
      "OlbergholmenS_Pika_L_12..png\n",
      "OlbergholmenS_Pika_L_13..png\n",
      "OlbergholmenS_Pika_L_14..png\n"
     ]
    }
   ],
   "source": [
    "# Change file extension\n",
    "new_ext = '.png'\n",
    "file_new_ext = [name.split(sep='.')[0] + '.' + new_ext for name in base_name]\n",
    "print(*file_new_ext,sep='\\n')"
   ]
  },
  {
   "cell_type": "code",
   "execution_count": 42,
   "id": "1f787c17",
   "metadata": {},
   "outputs": [
    {
     "name": "stdout",
     "output_type": "stream",
     "text": [
      "/mnt/datadisk/Massimal/Tmp/Test_Batch_Output//OlbergholmenS_Pika_L_12..png\n",
      "/mnt/datadisk/Massimal/Tmp/Test_Batch_Output//OlbergholmenS_Pika_L_13..png\n",
      "/mnt/datadisk/Massimal/Tmp/Test_Batch_Output//OlbergholmenS_Pika_L_14..png\n"
     ]
    }
   ],
   "source": [
    "new_file_paths = [output_dir + os.path.sep + name for name in file_new_ext]\n",
    "print(*new_file_paths,sep='\\n')"
   ]
  },
  {
   "cell_type": "code",
   "execution_count": 43,
   "id": "a4e654cb",
   "metadata": {},
   "outputs": [
    {
     "name": "stdout",
     "output_type": "stream",
     "text": [
      "/mnt/datadisk/Massimal/Tmp/Test_Batch_Output/OlbergholmenS_Pika_L_12..png\n",
      "/mnt/datadisk/Massimal/Tmp/Test_Batch_Output/OlbergholmenS_Pika_L_13..png\n",
      "/mnt/datadisk/Massimal/Tmp/Test_Batch_Output/OlbergholmenS_Pika_L_14..png\n"
     ]
    }
   ],
   "source": [
    "new_file_paths = [os.path.normpath(path) for path in new_file_paths]\n",
    "print(*new_file_paths,sep='\\n')"
   ]
  }
 ],
 "metadata": {
  "kernelspec": {
   "display_name": "Python 3",
   "language": "python",
   "name": "python3"
  },
  "language_info": {
   "codemirror_mode": {
    "name": "ipython",
    "version": 3
   },
   "file_extension": ".py",
   "mimetype": "text/x-python",
   "name": "python",
   "nbconvert_exporter": "python",
   "pygments_lexer": "ipython3",
   "version": "3.9.4"
  }
 },
 "nbformat": 4,
 "nbformat_minor": 5
}
