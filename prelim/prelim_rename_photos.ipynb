{
 "cells": [
  {
   "cell_type": "code",
   "execution_count": 1,
   "id": "1c06fa4a-1ffa-4a05-ba77-a24f20d17bbf",
   "metadata": {},
   "outputs": [],
   "source": [
    "import os\n",
    "import shutil\n",
    "import glob"
   ]
  },
  {
   "cell_type": "code",
   "execution_count": 15,
   "id": "35f52dba-56da-4ecf-b0bb-5b2fc3621abf",
   "metadata": {},
   "outputs": [],
   "source": [
    "photo_dir = \"C:/Users/mha114/Dropbox/UiT/Massimal/Annotering/20210602_Sandsund/Photos\"\n",
    "out_dir = \"C:/Users/mha114/Dropbox/UiT/Massimal/Annotering/20210602_Sandsund/Photos/renamed\""
   ]
  },
  {
   "cell_type": "code",
   "execution_count": 9,
   "id": "9a6e3424-6c15-4693-a070-8437177cfafb",
   "metadata": {},
   "outputs": [],
   "source": [
    "photo_files = glob.glob(photo_dir + os.path.sep + '*.JPG')"
   ]
  },
  {
   "cell_type": "code",
   "execution_count": 10,
   "id": "8ab53350-c3e6-48ea-b7cf-7e211f7a3845",
   "metadata": {},
   "outputs": [
    {
     "data": {
      "text/plain": [
       "['C:/Users/mha114/Dropbox/UiT/Massimal/Annotering/20210602_Sandsund/Photos\\\\DSC07226.JPG',\n",
       " 'C:/Users/mha114/Dropbox/UiT/Massimal/Annotering/20210602_Sandsund/Photos\\\\DSC07227.JPG',\n",
       " 'C:/Users/mha114/Dropbox/UiT/Massimal/Annotering/20210602_Sandsund/Photos\\\\DSC07228.JPG',\n",
       " 'C:/Users/mha114/Dropbox/UiT/Massimal/Annotering/20210602_Sandsund/Photos\\\\DSC07229.JPG',\n",
       " 'C:/Users/mha114/Dropbox/UiT/Massimal/Annotering/20210602_Sandsund/Photos\\\\DSC07230.JPG',\n",
       " 'C:/Users/mha114/Dropbox/UiT/Massimal/Annotering/20210602_Sandsund/Photos\\\\DSC07231.JPG',\n",
       " 'C:/Users/mha114/Dropbox/UiT/Massimal/Annotering/20210602_Sandsund/Photos\\\\DSC07232.JPG',\n",
       " 'C:/Users/mha114/Dropbox/UiT/Massimal/Annotering/20210602_Sandsund/Photos\\\\DSC07233.JPG',\n",
       " 'C:/Users/mha114/Dropbox/UiT/Massimal/Annotering/20210602_Sandsund/Photos\\\\DSC07234.JPG',\n",
       " 'C:/Users/mha114/Dropbox/UiT/Massimal/Annotering/20210602_Sandsund/Photos\\\\DSC07235.JPG',\n",
       " 'C:/Users/mha114/Dropbox/UiT/Massimal/Annotering/20210602_Sandsund/Photos\\\\DSC07236.JPG',\n",
       " 'C:/Users/mha114/Dropbox/UiT/Massimal/Annotering/20210602_Sandsund/Photos\\\\DSC07237.JPG',\n",
       " 'C:/Users/mha114/Dropbox/UiT/Massimal/Annotering/20210602_Sandsund/Photos\\\\DSC07238.JPG',\n",
       " 'C:/Users/mha114/Dropbox/UiT/Massimal/Annotering/20210602_Sandsund/Photos\\\\DSC07239.JPG',\n",
       " 'C:/Users/mha114/Dropbox/UiT/Massimal/Annotering/20210602_Sandsund/Photos\\\\DSC07240.JPG',\n",
       " 'C:/Users/mha114/Dropbox/UiT/Massimal/Annotering/20210602_Sandsund/Photos\\\\DSC07241.JPG',\n",
       " 'C:/Users/mha114/Dropbox/UiT/Massimal/Annotering/20210602_Sandsund/Photos\\\\DSC07242.JPG',\n",
       " 'C:/Users/mha114/Dropbox/UiT/Massimal/Annotering/20210602_Sandsund/Photos\\\\DSC07243.JPG',\n",
       " 'C:/Users/mha114/Dropbox/UiT/Massimal/Annotering/20210602_Sandsund/Photos\\\\DSC07244.JPG',\n",
       " 'C:/Users/mha114/Dropbox/UiT/Massimal/Annotering/20210602_Sandsund/Photos\\\\DSC07245.JPG',\n",
       " 'C:/Users/mha114/Dropbox/UiT/Massimal/Annotering/20210602_Sandsund/Photos\\\\DSC07246.JPG',\n",
       " 'C:/Users/mha114/Dropbox/UiT/Massimal/Annotering/20210602_Sandsund/Photos\\\\DSC07247.JPG',\n",
       " 'C:/Users/mha114/Dropbox/UiT/Massimal/Annotering/20210602_Sandsund/Photos\\\\DSC07248.JPG',\n",
       " 'C:/Users/mha114/Dropbox/UiT/Massimal/Annotering/20210602_Sandsund/Photos\\\\DSC07249.JPG',\n",
       " 'C:/Users/mha114/Dropbox/UiT/Massimal/Annotering/20210602_Sandsund/Photos\\\\DSC07250.JPG',\n",
       " 'C:/Users/mha114/Dropbox/UiT/Massimal/Annotering/20210602_Sandsund/Photos\\\\DSC07251.JPG',\n",
       " 'C:/Users/mha114/Dropbox/UiT/Massimal/Annotering/20210602_Sandsund/Photos\\\\DSC07252.JPG',\n",
       " 'C:/Users/mha114/Dropbox/UiT/Massimal/Annotering/20210602_Sandsund/Photos\\\\DSC07253.JPG',\n",
       " 'C:/Users/mha114/Dropbox/UiT/Massimal/Annotering/20210602_Sandsund/Photos\\\\DSC07254.JPG',\n",
       " 'C:/Users/mha114/Dropbox/UiT/Massimal/Annotering/20210602_Sandsund/Photos\\\\DSC07255.JPG',\n",
       " 'C:/Users/mha114/Dropbox/UiT/Massimal/Annotering/20210602_Sandsund/Photos\\\\DSC07256.JPG',\n",
       " 'C:/Users/mha114/Dropbox/UiT/Massimal/Annotering/20210602_Sandsund/Photos\\\\DSC07257.JPG',\n",
       " 'C:/Users/mha114/Dropbox/UiT/Massimal/Annotering/20210602_Sandsund/Photos\\\\DSC07258.JPG',\n",
       " 'C:/Users/mha114/Dropbox/UiT/Massimal/Annotering/20210602_Sandsund/Photos\\\\DSC07259.JPG',\n",
       " 'C:/Users/mha114/Dropbox/UiT/Massimal/Annotering/20210602_Sandsund/Photos\\\\DSC07260.JPG',\n",
       " 'C:/Users/mha114/Dropbox/UiT/Massimal/Annotering/20210602_Sandsund/Photos\\\\DSC07261.JPG',\n",
       " 'C:/Users/mha114/Dropbox/UiT/Massimal/Annotering/20210602_Sandsund/Photos\\\\DSC07262.JPG']"
      ]
     },
     "execution_count": 10,
     "metadata": {},
     "output_type": "execute_result"
    }
   ],
   "source": [
    "photo_files"
   ]
  },
  {
   "cell_type": "code",
   "execution_count": 17,
   "id": "8c53ae1d-8a8d-4ae5-84da-0c6949321b1d",
   "metadata": {},
   "outputs": [],
   "source": [
    "for ii,file in enumerate(photo_files):\n",
    "    new_file_name = out_dir + os.path.sep + str(ii).zfill(3) + '.jpg'\n",
    "    # print(new_file_name)\n",
    "    shutil.copy(file, new_file_name)"
   ]
  }
 ],
 "metadata": {
  "kernelspec": {
   "display_name": "Python 3 (ipykernel)",
   "language": "python",
   "name": "python3"
  },
  "language_info": {
   "codemirror_mode": {
    "name": "ipython",
    "version": 3
   },
   "file_extension": ".py",
   "mimetype": "text/x-python",
   "name": "python",
   "nbconvert_exporter": "python",
   "pygments_lexer": "ipython3",
   "version": "3.9.7"
  }
 },
 "nbformat": 4,
 "nbformat_minor": 5
}
