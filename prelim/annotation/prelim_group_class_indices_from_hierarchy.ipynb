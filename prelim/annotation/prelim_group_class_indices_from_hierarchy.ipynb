{
 "cells": [
  {
   "cell_type": "code",
   "execution_count": 1,
   "metadata": {},
   "outputs": [],
   "source": [
    "import json\n",
    "import warnings\n",
    "import massimal.annotation\n",
    "import numpy as np\n",
    "import random\n",
    "import matplotlib.pyplot as plt"
   ]
  },
  {
   "cell_type": "code",
   "execution_count": 2,
   "metadata": {},
   "outputs": [],
   "source": [
    "def _collect_all_class_branch_indices(class_branch, class_indices):\n",
    "    \"\"\" Recursively collect all class indices of a given class branch \"\"\"\n",
    "    branch_indices = []\n",
    "    for current_class_name in class_branch:\n",
    "        if current_class_name in class_indices:\n",
    "            branch_indices.append(class_indices[current_class_name])  # Include class indices for current level\n",
    "        else:\n",
    "            warnings.warn(f'Class name \"{current_class_name}\" in class_hierarchy not present as key in class_indices.')\n",
    "        if isinstance(class_branch,dict):                         # If dictionary (nested),\n",
    "            branch_indices += _collect_all_class_branch_indices(   # recursively collect all \"child\" indices\n",
    "                class_branch[current_class_name],class_indices)\n",
    "    return branch_indices\n",
    "\n",
    "\n",
    "def _class_tree_search(class_tree,class_indices,class_name):\n",
    "    \"\"\" Recursively get class indices for given class name, with subclasses\"\"\"\n",
    "    group_indices = []\n",
    "\n",
    "    for current_class_name in class_tree:\n",
    "        if group_indices: # If we already found the class we're searching for, stop\n",
    "            break\n",
    "        if current_class_name == class_name:                # If class name found,\n",
    "            group_indices.append(class_indices[class_name]) # add index for class, and\n",
    "            if isinstance(class_tree,dict):                 # if subclasses are present, add them as well\n",
    "                group_indices += _collect_all_class_branch_indices(class_tree[current_class_name],class_indices)\n",
    "        else:                                               # If class name not found at this level,\n",
    "            if isinstance(class_tree,dict):                 # search one level down (if possible)\n",
    "                group_indices = _class_tree_search(class_tree[current_class_name],class_indices,class_name)\n",
    "    return group_indices\n",
    "\n",
    "\n",
    "def class_indices_from_hierarchy(class_hierarchy:dict,class_indices:dict[str,int],class_names:list[str]) -> dict[str,list[int]]:\n",
    "    \"\"\" Group class indices based on class hierarchy \n",
    "    \n",
    "    # Input arguments:\n",
    "    class_hierarchy: dict\n",
    "        See massimal_annotation_class_hierarchy.json\n",
    "        Nested dictionary, with outer levels being more general and inner levels\n",
    "        being more specific. Lowest level is always a list, but the list can be empty.\n",
    "    class_indices : dict\n",
    "        Dictionary (not nested) with class names as keys and class indices \n",
    "        (for masks / y-vectors) as values.\n",
    "    class_names: list\n",
    "        List of grouped class names. The names must correspond a name in the \n",
    "        class hierarchy. If the name is part of a list at the lowest level (leaf),\n",
    "        the corresponding index is added to the indices for the group.\n",
    "        If the name is a subcategory (branch), the index for the name and for all\n",
    "        classes belonging to the subcategory are added to the group indices.\n",
    "        Class names should not overlap, i.e., one class in the list should not be a \n",
    "        subcategory of another class in the list. However, this is not checked\n",
    "        by the code.\n",
    "\n",
    "    # Returns:\n",
    "    grouped_class_indices: dict\n",
    "        Dictionary with grouped class names as keys and list of corresponding class indices\n",
    "        as values.\n",
    "\n",
    "    # Example:\n",
    "    class_hierarchy = {'Vegetation':{'Grass':[],'Trees':['Oak','Birch']},\n",
    "        'Rock':['Bedrock','Cobble'],'Buildings':[]}\n",
    "    class_indices = {'Vegetation':1,'Grass':2,'Trees':3,'Oak':4,'Birch':5,\n",
    "        'Rock':6,'Bedrock':7,'Cobble':8,'Buildings':9}\n",
    "    \n",
    "    With class_names = ['Grass','Trees','Bedrock','Cobble','Buildings'], \n",
    "    class_indices_from_hierarchy(class_hierarchy,class_indices,class_names) returns\n",
    "        {'Grass':[2],'Trees':[3,4,5],'Bedrock':[7],'Cobble':[8],'Buildings':[9]}\n",
    "    \n",
    "    \"\"\"\n",
    "    grouped_class_indices = {}\n",
    "    for class_name in class_names:\n",
    "        # Check if class name is present in class_indices\n",
    "        if class_name not in class_indices:\n",
    "            warnings.warn(f'Class name \"{class_name}\" is not included in class_indices.')\n",
    "            continue\n",
    "        \n",
    "        # Get indices corresponding to class name\n",
    "        grouped_class_indices[class_name] = set(_class_tree_search(class_hierarchy,class_indices,class_name))\n",
    "        \n",
    "        # Issue warning if class name not found in class hierarchy\n",
    "        if not(grouped_class_indices[class_name]):\n",
    "            warnings.warn(f'Class name \"{class_name}\" not found in class_hierarchy')\n",
    "    return grouped_class_indices"
   ]
  },
  {
   "cell_type": "code",
   "execution_count": 3,
   "metadata": {},
   "outputs": [],
   "source": [
    "def class_map_for_grouped_indices(\n",
    "    class_map,\n",
    "    grouped_classes: dict[str,set[int]]\n",
    ") -> dict[str,int]:\n",
    "    \"\"\" Convert map with integer class labels to grouped labels \n",
    "    \n",
    "    # Input arguments: \n",
    "    class_map:\n",
    "        Integer array with class labels. \n",
    "        Value 0 is reserved for background.\n",
    "    grouped_classes:\n",
    "        Dictionary with group names (keys) and sets of integers indicating\n",
    "        integer labels for classes included in the group.\n",
    "\n",
    "    # Returns:\n",
    "    group_map:\n",
    "        Map with same dimensions as class_map, but using integer labels\n",
    "        corresponding to grouped classes.\n",
    "    group_indices:\n",
    "        Dictinary with group names (keys) and group integer labels (values)\n",
    "    \"\"\"\n",
    "    group_indices = dict()\n",
    "    group_map = np.zeros_like(class_map)\n",
    "    \n",
    "    for i,(group_name, class_indices) in enumerate(grouped_classes.items()):\n",
    "        group_index = i+1\n",
    "        group_indices[group_name] = group_index\n",
    "        for class_index in class_indices:\n",
    "            class_mask = (class_map==class_index)\n",
    "            group_map[class_mask] = group_index\n",
    "    return group_map, group_indices"
   ]
  },
  {
   "cell_type": "code",
   "execution_count": 4,
   "metadata": {},
   "outputs": [],
   "source": [
    "class_hierarchy = {'Vegetation':{'Grass':[],'Trees':['Oak','Birch']},\n",
    "    'Rock':['Bedrock','Cobble'],'Buildings':[]}\n",
    "class_indices = {'Vegetation':1,'Grass':2,'Trees':3,'Oak':4,'Birch':5,\n",
    "        'Rock':6,'Bedrock':7,'Cobble':8,'Buildings':9,'Test':10}"
   ]
  },
  {
   "cell_type": "code",
   "execution_count": 5,
   "metadata": {},
   "outputs": [],
   "source": [
    "class_names = ['Grass','Trees','Bedrock','Cobble','Buildings']"
   ]
  },
  {
   "cell_type": "code",
   "execution_count": 6,
   "metadata": {},
   "outputs": [
    {
     "data": {
      "text/plain": [
       "[1, 2, 3, 4, 5, 6, 7, 8, 9]"
      ]
     },
     "execution_count": 6,
     "metadata": {},
     "output_type": "execute_result"
    }
   ],
   "source": [
    "_collect_all_class_branch_indices(class_hierarchy,class_indices)"
   ]
  },
  {
   "cell_type": "code",
   "execution_count": 7,
   "metadata": {},
   "outputs": [
    {
     "data": {
      "text/plain": [
       "[2, 3, 4, 5]"
      ]
     },
     "execution_count": 7,
     "metadata": {},
     "output_type": "execute_result"
    }
   ],
   "source": [
    "_collect_all_class_branch_indices(class_hierarchy['Vegetation'],class_indices)"
   ]
  },
  {
   "cell_type": "code",
   "execution_count": 8,
   "metadata": {},
   "outputs": [
    {
     "data": {
      "text/plain": [
       "[6, 7, 8]"
      ]
     },
     "execution_count": 8,
     "metadata": {},
     "output_type": "execute_result"
    }
   ],
   "source": [
    "_class_tree_search(class_hierarchy,class_indices,'Rock')"
   ]
  },
  {
   "cell_type": "code",
   "execution_count": 9,
   "metadata": {},
   "outputs": [
    {
     "data": {
      "text/plain": [
       "{'Grass': {2}, 'Trees': {3, 4, 5}, 'Rock': {6, 7, 8}}"
      ]
     },
     "execution_count": 9,
     "metadata": {},
     "output_type": "execute_result"
    }
   ],
   "source": [
    "class_indices_from_hierarchy(class_hierarchy,class_indices,['Grass','Trees','Rock'])"
   ]
  },
  {
   "cell_type": "code",
   "execution_count": 10,
   "metadata": {},
   "outputs": [
    {
     "name": "stderr",
     "output_type": "stream",
     "text": [
      "C:\\Users\\mha114\\AppData\\Local\\Temp\\ipykernel_12636\\2068545469.py:73: UserWarning: Class name \"Dummy\" is not included in class_indices.\n",
      "  warnings.warn(f'Class name \"{class_name}\" is not included in class_indices.')\n"
     ]
    },
    {
     "data": {
      "text/plain": [
       "{'Grass': {2}, 'Trees': {3, 4, 5}, 'Rock': {6, 7, 8}}"
      ]
     },
     "execution_count": 10,
     "metadata": {},
     "output_type": "execute_result"
    }
   ],
   "source": [
    "class_indices_from_hierarchy(class_hierarchy,class_indices,['Grass','Trees','Rock','Dummy'])"
   ]
  },
  {
   "cell_type": "code",
   "execution_count": 11,
   "metadata": {},
   "outputs": [
    {
     "name": "stderr",
     "output_type": "stream",
     "text": [
      "C:\\Users\\mha114\\AppData\\Local\\Temp\\ipykernel_12636\\2068545469.py:81: UserWarning: Class name \"Test\" not found in class_hierarchy\n",
      "  warnings.warn(f'Class name \"{class_name}\" not found in class_hierarchy')\n"
     ]
    },
    {
     "data": {
      "text/plain": [
       "{'Grass': {2}, 'Trees': {3, 4, 5}, 'Rock': {6, 7, 8}, 'Test': set()}"
      ]
     },
     "execution_count": 11,
     "metadata": {},
     "output_type": "execute_result"
    }
   ],
   "source": [
    "class_indices_from_hierarchy(class_hierarchy,class_indices,['Grass','Trees','Rock','Test'])"
   ]
  },
  {
   "cell_type": "code",
   "execution_count": 12,
   "metadata": {},
   "outputs": [
    {
     "data": {
      "text/plain": [
       "{'Vegetation': 1,\n",
       " 'Grass': 2,\n",
       " 'Trees': 3,\n",
       " 'Oak': 4,\n",
       " 'Birch': 5,\n",
       " 'Rock': 6,\n",
       " 'Bedrock': 7,\n",
       " 'Cobble': 8,\n",
       " 'Buildings': 9,\n",
       " 'Test': 10}"
      ]
     },
     "execution_count": 12,
     "metadata": {},
     "output_type": "execute_result"
    }
   ],
   "source": [
    "class_indices"
   ]
  },
  {
   "cell_type": "code",
   "execution_count": 13,
   "metadata": {},
   "outputs": [
    {
     "data": {
      "image/png": "[encoded data removed]",
      "text/plain": [
       "<Figure size 640x480 with 2 Axes>"
      ]
     },
     "metadata": {},
     "output_type": "display_data"
    }
   ],
   "source": [
    "mask = np.zeros(shape=(100,100),dtype=np.uint8)\n",
    "for i in range(9):\n",
    "    rc = (i//3)*30 + 20\n",
    "    cc = (i%3)*30 + 20\n",
    "    rs = round(random.random()*10) + 5\n",
    "    cs = round(random.random()*10) + 5\n",
    "    mask[(rc-rs):(rc+rs),(cc-cs):(cc+cs)] = i+1\n",
    "plt.imshow(mask)\n",
    "plt.colorbar()\n",
    "plt.show()"
   ]
  },
  {
   "cell_type": "code",
   "execution_count": 14,
   "metadata": {},
   "outputs": [
    {
     "name": "stdout",
     "output_type": "stream",
     "text": [
      "grouped_class_indices={'Grass': {2}, 'Birch': {5}, 'Rock': {8, 6, 7}}\n",
      "group_indices={'Grass': 1, 'Birch': 2, 'Rock': 3}\n"
     ]
    },
    {
     "data": {
      "image/png": "[encoded data removed]",
      "text/plain": [
       "<Figure size 640x480 with 2 Axes>"
      ]
     },
     "metadata": {},
     "output_type": "display_data"
    }
   ],
   "source": [
    "grouped_class_indices = class_indices_from_hierarchy(class_hierarchy,class_indices,['Grass','Birch','Rock'])\n",
    "grouped_class_mask, group_indices = class_map_for_grouped_indices(mask,grouped_class_indices)\n",
    "print(f'{grouped_class_indices=}')\n",
    "print(f'{group_indices=}')\n",
    "plt.imshow(grouped_class_mask)\n",
    "plt.colorbar()\n",
    "plt.show()"
   ]
  },
  {
   "cell_type": "code",
   "execution_count": 15,
   "metadata": {},
   "outputs": [
    {
     "data": {
      "text/plain": [
       "1"
      ]
     },
     "execution_count": 15,
     "metadata": {},
     "output_type": "execute_result"
    }
   ],
   "source": [
    "round(10*random.random())"
   ]
  },
  {
   "cell_type": "code",
   "execution_count": 16,
   "metadata": {},
   "outputs": [
    {
     "name": "stdout",
     "output_type": "stream",
     "text": [
      "{'Deep water': [], 'Algae': {'Brown algae': {'Kelp': ['Laminaria hyperborea', 'Laminaria digitata', 'Sacchoriza polyides', 'Saccharina latissima', 'Alaria esculenta'], 'Rockweed': {'Rockweed, hydrolittoral': ['Ascophyllum nodosum', 'Fucus vesiculosus', 'Fucus serratus', 'Halidrys siliquosa'], 'Rockweed, geolittoral': ['Fucus spiralis', 'Pelvetia canaliculata']}, 'Brown algae, other': ['Chorda filum', 'Desmarestia aculeata']}, 'Red algae': {'Coralline algae': ['Maerl']}, 'Green algae': [], 'Turf': []}, 'Substrate': {'Rock': ['Bedrock', 'Boulder', 'Cobble', 'Gravel'], 'Sediment': ['Sand', 'Mud']}, 'Animals': {'Mussels': ['Mytilus edilus']}, 'Human activity': ['Trawl track']}\n"
     ]
    }
   ],
   "source": [
    "with open('../../annotation/massimal_annotation_class_hierarchy.json','r') as file:\n",
    "    class_hierarchy = json.load(file)\n",
    "\n",
    "print(class_hierarchy)"
   ]
  },
  {
   "cell_type": "code",
   "execution_count": 17,
   "metadata": {},
   "outputs": [
    {
     "name": "stdout",
     "output_type": "stream",
     "text": [
      "{'Deep water': 1, 'Substrate': 2, 'Rock': 3, 'Bedrock': 4, 'Boulder': 5, 'Cobble': 6, 'Gravel': 7, 'Sediment': 8, 'Sand': 9, 'Mud': 10, 'Algae': 11, 'Turf': 12, 'Brown algae': 13, 'Kelp': 14, 'Rockweed': 15, 'Rockweed, hydrolitteral': 16, 'Rockweed, geolitteral': 17, 'Other brown algae': 18, 'Coralline algae': 19, 'Maerl': 20, 'Green algae': 21, 'Red algae': 22, 'Saccharina latissima': 23, 'Alaria esculenta': 24, 'Fucus vesiculosus': 25, 'Fucus serratus': 26, 'Fucus spiralis': 27, 'Pelvetia canaliculata': 28, 'Halidrys siliquosa': 29, 'Desmarestia aculeata': 30, 'Chorda filum': 31, 'Animals': 32, 'Mussels': 33, 'Mytilus edilus': 34, 'Laminaria hyperborea': 35, 'Laminaria digitata': 36, 'Trawl track': 37, 'Sacchoriza polyides': 38}\n"
     ]
    }
   ],
   "source": [
    "class_indices = massimal.annotation.read_hasty_metadata('example_label_classes.json')\n",
    "print(class_indices)"
   ]
  },
  {
   "cell_type": "code",
   "execution_count": 18,
   "metadata": {},
   "outputs": [
    {
     "name": "stderr",
     "output_type": "stream",
     "text": [
      "C:\\Users\\mha114\\AppData\\Local\\Temp\\ipykernel_12636\\2068545469.py:8: UserWarning: Class name \"Rockweed, hydrolittoral\" in class_hierarchy not present as key in class_indices.\n",
      "  warnings.warn(f'Class name \"{current_class_name}\" in class_hierarchy not present as key in class_indices.')\n",
      "C:\\Users\\mha114\\AppData\\Local\\Temp\\ipykernel_12636\\2068545469.py:8: UserWarning: Class name \"Ascophyllum nodosum\" in class_hierarchy not present as key in class_indices.\n",
      "  warnings.warn(f'Class name \"{current_class_name}\" in class_hierarchy not present as key in class_indices.')\n",
      "C:\\Users\\mha114\\AppData\\Local\\Temp\\ipykernel_12636\\2068545469.py:8: UserWarning: Class name \"Rockweed, geolittoral\" in class_hierarchy not present as key in class_indices.\n",
      "  warnings.warn(f'Class name \"{current_class_name}\" in class_hierarchy not present as key in class_indices.')\n"
     ]
    },
    {
     "data": {
      "text/plain": [
       "{'Kelp': {14, 23, 24, 35, 36, 38}, 'Rockweed': {15, 25, 26, 27, 28, 29}}"
      ]
     },
     "execution_count": 18,
     "metadata": {},
     "output_type": "execute_result"
    }
   ],
   "source": [
    "class_indices_from_hierarchy(class_hierarchy,class_indices,['Kelp','Rockweed'])"
   ]
  },
  {
   "cell_type": "code",
   "execution_count": null,
   "metadata": {},
   "outputs": [],
   "source": []
  }
 ],
 "metadata": {
  "kernelspec": {
   "display_name": "massimal",
   "language": "python",
   "name": "python3"
  },
  "language_info": {
   "codemirror_mode": {
    "name": "ipython",
    "version": 3
   },
   "file_extension": ".py",
   "mimetype": "text/x-python",
   "name": "python",
   "nbconvert_exporter": "python",
   "pygments_lexer": "ipython3",
   "version": "3.11.7"
  }
 },
 "nbformat": 4,
 "nbformat_minor": 2
}
