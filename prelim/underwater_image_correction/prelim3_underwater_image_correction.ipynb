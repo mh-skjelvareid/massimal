{
 "cells": [
  {
   "cell_type": "code",
   "execution_count": 1,
   "id": "4780dd9a",
   "metadata": {},
   "outputs": [],
   "source": [
    "import cv2\n",
    "import numpy as np\n",
    "import matplotlib.pyplot as plt\n",
    "import image_render, misc\n",
    "import skimage\n",
    "import pathlib"
   ]
  },
  {
   "cell_type": "code",
   "execution_count": 2,
   "id": "f15442ea",
   "metadata": {},
   "outputs": [],
   "source": [
    "image_dir = '/media/mha114/Massimal/Vega_Sola/Transects/Otter/Test/Noncorrected Images'\n",
    "image_files = misc.file_pattern_search(image_dir,'*.jpg')\n",
    "modified_image_dir = '/media/mha114/Massimal/Vega_Sola/Transects/Otter/Test/Corrected Images'"
   ]
  },
  {
   "cell_type": "code",
   "execution_count": 3,
   "id": "50f4a88a",
   "metadata": {},
   "outputs": [],
   "source": [
    "# Parameters\n",
    "percentiles = (0.5,99)"
   ]
  },
  {
   "cell_type": "code",
   "execution_count": 4,
   "id": "52f04d5e",
   "metadata": {},
   "outputs": [
    {
     "data": {
      "text/plain": [
       "['/media/mha114/Massimal/Vega_Sola/Transects/Otter/Test/Noncorrected Images/GX010060_11m25s586ms.jpg',\n",
       " '/media/mha114/Massimal/Vega_Sola/Transects/Otter/Test/Noncorrected Images/GX020060_01m10s781ms.jpg',\n",
       " '/media/mha114/Massimal/Vega_Sola/Transects/Otter/Test/Noncorrected Images/GX020060_03m20s484ms.jpg',\n",
       " '/media/mha114/Massimal/Vega_Sola/Transects/Otter/Test/Noncorrected Images/GX020060_04m28s480ms.jpg',\n",
       " '/media/mha114/Massimal/Vega_Sola/Transects/Otter/Test/Noncorrected Images/GX020060_06m28s889ms.jpg',\n",
       " '/media/mha114/Massimal/Vega_Sola/Transects/Otter/Test/Noncorrected Images/GX020060_08m01s283ms.jpg',\n",
       " '/media/mha114/Massimal/Vega_Sola/Transects/Otter/Test/Noncorrected Images/GX020060_08m47s886ms.jpg',\n",
       " '/media/mha114/Massimal/Vega_Sola/Transects/Otter/Test/Noncorrected Images/GX020060_10m19s380ms.jpg',\n",
       " '/media/mha114/Massimal/Vega_Sola/Transects/Otter/Test/Noncorrected Images/GX030060_01m29s365ms.jpg',\n",
       " '/media/mha114/Massimal/Vega_Sola/Transects/Otter/Test/Noncorrected Images/GX030060_02m42s066ms.jpg',\n",
       " '/media/mha114/Massimal/Vega_Sola/Transects/Otter/Test/Noncorrected Images/GX030060_04m11s467ms.jpg',\n",
       " '/media/mha114/Massimal/Vega_Sola/Transects/Otter/Test/Noncorrected Images/GX030060_06m02s372ms.jpg',\n",
       " '/media/mha114/Massimal/Vega_Sola/Transects/Otter/Test/Noncorrected Images/GX030060_07m27s662ms.jpg',\n",
       " '/media/mha114/Massimal/Vega_Sola/Transects/Otter/Test/Noncorrected Images/GX030060_08m52s568ms.jpg',\n",
       " '/media/mha114/Massimal/Vega_Sola/Transects/Otter/Test/Noncorrected Images/GX030060_10m10s467ms.jpg',\n",
       " '/media/mha114/Massimal/Vega_Sola/Transects/Otter/Test/Noncorrected Images/GX030060_11m24s656ms.jpg',\n",
       " '/media/mha114/Massimal/Vega_Sola/Transects/Otter/Test/Noncorrected Images/GX040060_01m31s658ms.jpg',\n",
       " '/media/mha114/Massimal/Vega_Sola/Transects/Otter/Test/Noncorrected Images/GX040060_03m18s756ms.jpg',\n",
       " '/media/mha114/Massimal/Vega_Sola/Transects/Otter/Test/Noncorrected Images/GX040060_04m32s960ms.jpg',\n",
       " '/media/mha114/Massimal/Vega_Sola/Transects/Otter/Test/Noncorrected Images/GX040060_05m55s563ms.jpg',\n",
       " '/media/mha114/Massimal/Vega_Sola/Transects/Otter/Test/Noncorrected Images/GX040060_07m56s760ms.jpg',\n",
       " '/media/mha114/Massimal/Vega_Sola/Transects/Otter/Test/Noncorrected Images/GX040060_09m21s463ms.jpg',\n",
       " '/media/mha114/Massimal/Vega_Sola/Transects/Otter/Test/Noncorrected Images/GX040060_11m14s469ms.jpg',\n",
       " '/media/mha114/Massimal/Vega_Sola/Transects/Otter/Test/Noncorrected Images/GX050060_02m53s966ms.jpg',\n",
       " '/media/mha114/Massimal/Vega_Sola/Transects/Otter/Test/Noncorrected Images/GX050060_04m46s074ms.jpg']"
      ]
     },
     "execution_count": 4,
     "metadata": {},
     "output_type": "execute_result"
    }
   ],
   "source": [
    "image_files"
   ]
  },
  {
   "cell_type": "code",
   "execution_count": 5,
   "id": "0d963bd5",
   "metadata": {},
   "outputs": [
    {
     "name": "stdout",
     "output_type": "stream",
     "text": [
      "Processing image 0\n",
      "Processing image 1\n",
      "Processing image 2\n",
      "Processing image 3\n",
      "Processing image 4\n",
      "Processing image 5\n",
      "Processing image 6\n",
      "Processing image 7\n",
      "Processing image 8\n",
      "Processing image 9\n",
      "Processing image 10\n",
      "Processing image 11\n",
      "Processing image 12\n",
      "Processing image 13\n",
      "Processing image 14\n",
      "Processing image 15\n",
      "Processing image 16\n",
      "Processing image 17\n",
      "Processing image 18\n",
      "Processing image 19\n",
      "Processing image 20\n",
      "Processing image 21\n",
      "Processing image 22\n",
      "Processing image 23\n",
      "Processing image 24\n"
     ]
    }
   ],
   "source": [
    "for i,image_filename in enumerate(image_files):\n",
    "    print(f'Processing image {i}')\n",
    "    img = cv2.imread(image_filename, cv2.IMREAD_UNCHANGED)\n",
    "    img_stretch = image_render.percentile_stretch(img,percentiles=percentiles,separate_bands=True)\n",
    "    image_path = pathlib.Path(image_filename)\n",
    "    mod_image_path = pathlib.Path(modified_image_dir) / image_path.name\n",
    "    cv2.imwrite(str(mod_image_path),img_stretch)"
   ]
  },
  {
   "cell_type": "code",
   "execution_count": null,
   "id": "2d9e3dc7",
   "metadata": {},
   "outputs": [],
   "source": []
  }
 ],
 "metadata": {
  "kernelspec": {
   "display_name": "Python 3 (ipykernel)",
   "language": "python",
   "name": "python3"
  },
  "language_info": {
   "codemirror_mode": {
    "name": "ipython",
    "version": 3
   },
   "file_extension": ".py",
   "mimetype": "text/x-python",
   "name": "python",
   "nbconvert_exporter": "python",
   "pygments_lexer": "ipython3",
   "version": "3.9.12"
  }
 },
 "nbformat": 4,
 "nbformat_minor": 5
}
