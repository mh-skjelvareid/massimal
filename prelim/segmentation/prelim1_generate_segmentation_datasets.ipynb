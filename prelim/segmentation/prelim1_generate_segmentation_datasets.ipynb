{
 "cells": [
  {
   "cell_type": "markdown",
   "id": "175cc00e-7956-46ba-9b27-096c8234adc5",
   "metadata": {},
   "source": [
    "# Generating synthtic data\n",
    "The main idea here is to try make synthetic data that is _somewhat_ similar to hyperspectral data and to train some version of convnet to do sematic segmentation on it. Using synthetic data has some advantages:\n",
    "- It can be made in whatever shape needed\n",
    "- Endless amounts can be generated\n",
    "- Labels are always true (no ambiguity)\n",
    "\n",
    "The synthetic data doesn't have to be very realistic, i.e. very similar to real hyperspectral data. This is more a \"hello world\" for semantic segmentation. However, the data _should_ fulfill these requirements:\n",
    "- Should have at least 2 classes\n",
    "- Should have at least 2 channels\n",
    "- \"Annotated\" shapes should vary in size\n",
    "\n",
    "In annotated data, the classes often don't overlap spatially because it's hard to draw exact boundaries (some \"gray area\" is left between classes). So at least in the simplified case of syntehtic data, creating overlapping classes has low priority.\n",
    "\n"
   ]
  },
  {
   "cell_type": "code",
   "execution_count": 24,
   "id": "af8e63cd-6a6c-49e8-8514-4d5010682125",
   "metadata": {},
   "outputs": [],
   "source": [
    "import matplotlib.pyplot as plt\n",
    "from skimage.draw import random_shapes\n",
    "from skimage.measure import label    \n",
    "#import tensorflow as tf\n",
    "import numpy as np"
   ]
  },
  {
   "cell_type": "markdown",
   "id": "01542e0e-ffec-4a09-ad4f-eafa214ce55d",
   "metadata": {},
   "source": [
    "When making \"synthetic\" data to be used for training / validation by TensorFlow/Keras, there are two main approaches:\n",
    "- Creating the data, converting it to tensors, and converting these to Datasets (tf.data.Dataset.from_tensor_slices() and tf.data.Dataset.from_tensors)\n",
    "- Generating the data \"on the fly\" and converting it to a Dataset ( tf.data.Dataset.from_generator() )\n",
    "\n",
    "The last method is probably the most convenient. Note however that it has certain limitations (\"While this is a convenient approach it has limited portability and scalability. It must run in the same python process that created the generator, and is still subject to the Python GIL.\")\n",
    "\n",
    "Read more here: https://www.tensorflow.org/guide/data "
   ]
  },
  {
   "cell_type": "code",
   "execution_count": 19,
   "id": "e9761c1d-6fd1-4f37-a78f-fe3002b4a56a",
   "metadata": {},
   "outputs": [],
   "source": [
    "def segmentation_data_generator(data_shape,\n",
    "                                class_mean,\n",
    "                                class_std = None,\n",
    "                                n_objects = 1,\n",
    "                                min_size = 10,\n",
    "                                max_size = None,\n",
    "                                shape = None):\n",
    "    \"\"\" Generate synthetic segmentation image data \n",
    "    \n",
    "    # Input parameters:\n",
    "    data_shape:   (n_rows, n_cols, n_channels)\n",
    "    class_mean:   (class1_mean, class2_mean, ...)\n",
    "                  Nested tuple wth mean value(s) for each class.\n",
    "                  Each element contains mean values for all channels\n",
    "    class_std:    (class1_mean, class2_mean, ...)\n",
    "                  Nested tuple wth standard dev. value for each class.\n",
    "                  Each element contains std values for all channels\n",
    "                  If None, class_std is set to zero for each class\n",
    "                  If non-zero, values for each class follow a Gaussian\n",
    "                  distribution.\n",
    "    n_objects:    int, number of objects for each class\n",
    "                  or tuple (n_class1, n_class2,...), number of objects per class \n",
    "    min_size:     Minimum size (pixels) of each object\n",
    "    max_size:     Maximum size of each object\n",
    "    shape:        {rectangle, circle, triangle, ellipse, None} str, optional\n",
    "                  Shape to generate, 'None' to pick random ones\n",
    "    \n",
    "    \n",
    "    # Returns:\n",
    "    image:        Image with dimensions (n_rows, n_cols, n_channels)\n",
    "                  dtype = float64\n",
    "    label         Image with dimensions (n_rows, n_cols)\n",
    "                  dtype = int\n",
    "                  Classes are labelled 1, 2, ... according to their\n",
    "                  order in class_mean / class_std\n",
    "                  Index 0 corresponds to \"background\" (no class)\n",
    "                  \n",
    "    # Notes:\n",
    "    - This function relies heavily on the random_shapes function \n",
    "    from SciKit Image: https://scikit-image.org/docs/stable/api/skimage.draw.html#skimage.draw.random_shapes\n",
    "    \n",
    "    \"\"\"\n",
    "    \n",
    "    n_rows, n_cols, n_channels = data_shape\n",
    "    n_classes = len(class_mean)\n",
    "    \n",
    "    if isinstance(n_objects,int) and n_classes > 1:\n",
    "        n_objects = [n_objects for _ in range(n_classes)]\n",
    "        \n",
    "    print(n_objects)\n",
    "        \n",
    "    if class_std is None:\n",
    "        class_std = [0 for _ in range(n_classes)]\n",
    "    \n",
    "    # Generator for random noise\n",
    "    noise_generator = np.random.default_rng()\n",
    "    \n",
    "    image = np.zeros(data_shape)\n",
    "    label = np.zeros((n_rows,n_cols),dtype=np.int16)\n",
    "    class_ind = 1\n",
    "    for mean, std, max_shapes in zip(class_mean,class_std,n_objects):\n",
    "        bin_im, desc = random_shapes((n_rows,n_cols),\n",
    "                               max_shapes=max_shapes,\n",
    "                               min_size=min_size,\n",
    "                               max_size=max_size,\n",
    "                               num_channels=1,\n",
    "                               intensity_range=(0,0),\n",
    "                               shape = shape,\n",
    "                               allow_overlap=False,#True,\n",
    "                               num_trials=200)\n",
    "        \n",
    "        bin_im = np.squeeze(bin_im)\n",
    "        bin_im = (bin_im == 0)\n",
    "                \n",
    "        image[bin_im] = mean\n",
    "        if std:\n",
    "            noise = std*noise_generator.standard_normal()\n",
    "            image[bin_im] += noise\n",
    "        label[bin_im] = class_ind\n",
    "        class_ind += 1\n",
    "    \n",
    "    return image, label\n",
    "    "
   ]
  },
  {
   "cell_type": "code",
   "execution_count": 20,
   "id": "35e2e8e8-ca7f-4c02-a40b-e1ca36fa4e26",
   "metadata": {},
   "outputs": [
    {
     "name": "stdout",
     "output_type": "stream",
     "text": [
      "[3, 3]\n"
     ]
    }
   ],
   "source": [
    "image_shape = (100,100,3)\n",
    "class_mean = ((0,0.5,1),(1,0.25,0))\n",
    "n_objects = 3\n",
    "max_size = 100\n",
    "\n",
    "test_image, label_image = segmentation_data_generator(image_shape,class_mean,n_objects=n_objects,\n",
    "                                                     max_size=max_size)"
   ]
  },
  {
   "cell_type": "code",
   "execution_count": 21,
   "id": "913af0b3-3737-4be6-acea-f43c7663e1e8",
   "metadata": {},
   "outputs": [
    {
     "data": {
      "text/plain": [
       "(100, 100, 3)"
      ]
     },
     "execution_count": 21,
     "metadata": {},
     "output_type": "execute_result"
    }
   ],
   "source": [
    "test_image.shape"
   ]
  },
  {
   "cell_type": "code",
   "execution_count": 22,
   "id": "f1c292d7-c445-4e7f-9715-8ae15c334683",
   "metadata": {},
   "outputs": [
    {
     "data": {
      "text/plain": [
       "(100, 100)"
      ]
     },
     "execution_count": 22,
     "metadata": {},
     "output_type": "execute_result"
    }
   ],
   "source": [
    "label_image.shape"
   ]
  },
  {
   "cell_type": "code",
   "execution_count": 23,
   "id": "07af7fff-40ea-4782-ad62-0f7429ae1840",
   "metadata": {},
   "outputs": [
    {
     "data": {
      "image/png": "[encoded data removed]",
      "text/plain": [
       "<Figure size 432x288 with 1 Axes>"
      ]
     },
     "metadata": {
      "needs_background": "light"
     },
     "output_type": "display_data"
    }
   ],
   "source": [
    "plt.imshow(test_image)\n",
    "plt.show()"
   ]
  },
  {
   "cell_type": "code",
   "execution_count": 14,
   "id": "97b6204c-8e77-4165-a2ef-202fb687bfd1",
   "metadata": {},
   "outputs": [
    {
     "data": {
      "text/plain": [
       "<matplotlib.image.AxesImage at 0x268c0429310>"
      ]
     },
     "execution_count": 14,
     "metadata": {},
     "output_type": "execute_result"
    },
    {
     "data": {
      "image/png": "[encoded data removed]",
      "text/plain": [
       "<Figure size 432x288 with 1 Axes>"
      ]
     },
     "metadata": {
      "needs_background": "light"
     },
     "output_type": "display_data"
    }
   ],
   "source": [
    "plt.imshow(label_image)"
   ]
  },
  {
   "cell_type": "code",
   "execution_count": 75,
   "id": "24b3bde4-465d-4ec4-86f6-926468126487",
   "metadata": {},
   "outputs": [
    {
     "data": {
      "text/plain": [
       "2"
      ]
     },
     "execution_count": 75,
     "metadata": {},
     "output_type": "execute_result"
    }
   ],
   "source": [
    "np.max(label_image)"
   ]
  },
  {
   "cell_type": "code",
   "execution_count": 36,
   "id": "9169785b-5b69-4e3a-aa59-a9d01240162c",
   "metadata": {},
   "outputs": [
    {
     "data": {
      "text/plain": [
       "0.0"
      ]
     },
     "execution_count": 36,
     "metadata": {},
     "output_type": "execute_result"
    }
   ],
   "source": [
    "test_image[50,50,0]"
   ]
  },
  {
   "cell_type": "code",
   "execution_count": 37,
   "id": "3a230c13-c5d1-4b19-a6b6-c4eab545b58d",
   "metadata": {},
   "outputs": [
    {
     "data": {
      "text/plain": [
       "0"
      ]
     },
     "execution_count": 37,
     "metadata": {},
     "output_type": "execute_result"
    }
   ],
   "source": [
    "np.count_nonzero(test_image)"
   ]
  },
  {
   "cell_type": "code",
   "execution_count": null,
   "id": "69750e14-7fea-422f-99bb-6a25b02bf969",
   "metadata": {},
   "outputs": [],
   "source": []
  }
 ],
 "metadata": {
  "kernelspec": {
   "display_name": "Python 3 (ipykernel)",
   "language": "python",
   "name": "python3"
  },
  "language_info": {
   "codemirror_mode": {
    "name": "ipython",
    "version": 3
   },
   "file_extension": ".py",
   "mimetype": "text/x-python",
   "name": "python",
   "nbconvert_exporter": "python",
   "pygments_lexer": "ipython3",
   "version": "3.9.13"
  }
 },
 "nbformat": 4,
 "nbformat_minor": 5
}
