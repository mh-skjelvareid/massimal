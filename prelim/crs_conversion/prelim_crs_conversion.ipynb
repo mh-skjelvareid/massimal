{
 "cells": [
  {
   "cell_type": "code",
   "execution_count": 14,
   "metadata": {},
   "outputs": [],
   "source": [
    "import geopandas as gpd\n",
    "import pandas as pd\n",
    "import csv\n",
    "import pathlib\n",
    "import shapely"
   ]
  },
  {
   "cell_type": "code",
   "execution_count": 57,
   "metadata": {},
   "outputs": [],
   "source": [
    "def convert_gcp_to_new_crs(gcp_csv_path_orig,gcp_csv_path_new,delimiter=';',crs_old='EPSG:4326',convert_to_utm=True,crs_new=None):\n",
    "    \"\"\" Read CSV file with ground control points and convert to new CRS \n",
    "    \n",
    "    # Input arguments:\n",
    "    gcp_csv_path_orig:   Path to text file with GCP points\n",
    "    gcp_csv_path_new:    Path to file where converted points are saved\n",
    "\n",
    "    # Keyword arguments:\n",
    "    delimiter:      Delimiter in CSV file\n",
    "    crs_old:        EPSG code for original CRS. Default: 'EPSG:4326'\n",
    "    convert_to_utm: True if points should be converted to UTM\n",
    "    crs_new:        EPSG code for CRS to convert to, if not UTM. Format: 'EPSG:<code>'\n",
    "\n",
    "    # Notes\n",
    "    - Assumes that X and Y coordinates have headers 'X' and 'Y'\n",
    "    \"\"\"\n",
    "    # Validate input\n",
    "    if not(convert_to_utm) and crs_new is None:\n",
    "        raise(ValueError('Must specify new CRS if convert_to_utm is False'))\n",
    "    \n",
    "    # Create GeoDataFrame from CSV\n",
    "    data = pd.read_csv(gcp_csv_path_orig,delimiter=delimiter)\n",
    "    geometry = [shapely.Point(x,y) for (x,y) in zip(data.X,data.Y) ]\n",
    "    gdf = gpd.GeoDataFrame(data.drop(['X','Y'],axis=1),geometry=geometry,crs=crs_old)\n",
    "\n",
    "    # Convert to new CRS\n",
    "    if convert_to_utm: \n",
    "        gdf_new = gdf.to_crs(gdf.estimate_utm_crs())\n",
    "    else:\n",
    "        gdf_new = gdf.to_crs(crs_new)\n",
    "\n",
    "    # Save to file\n",
    "    gdf_new.to_csv(gcp_csv_path_new)"
   ]
  },
  {
   "cell_type": "code",
   "execution_count": 60,
   "metadata": {},
   "outputs": [],
   "source": [
    "gcp_csv_path_orig = pathlib.Path(\"D:/LarvikData/Larvik_Olberg/GIS/20230830_OlbergholmenN_GCP.txt\")\n",
    "gcp_csv_path_new =  pathlib.Path(\"D:/LarvikData/Larvik_Olberg/GIS/20230830_OlbergholmenN_GCP_UTM.txt\")\n",
    "\n",
    "convert_gcp_to_new_crs(gcp_csv_path_orig,gcp_csv_path_new)"
   ]
  },
  {
   "cell_type": "code",
   "execution_count": 64,
   "metadata": {},
   "outputs": [],
   "source": [
    "gcp_csv_path_orig = pathlib.Path(\"D:/LarvikData/Larvik_Kongsbakkebukta/GroundControlPoints/20230830_Kongsbakkebukta_GCP_XY.csv\")\n",
    "gcp_csv_path_new =  pathlib.Path(\"D:/LarvikData/Larvik_Kongsbakkebukta/GroundControlPoints/20230830_Kongsbakkebukta_GCP_XY_UTM.csv\")\n",
    "\n",
    "convert_gcp_to_new_crs(gcp_csv_path_orig,gcp_csv_path_new)"
   ]
  },
  {
   "cell_type": "code",
   "execution_count": 65,
   "metadata": {},
   "outputs": [],
   "source": [
    "gcp_csv_path_orig = pathlib.Path(\"D:/BodoData/Bodo_Sandsund/GIS/20231013 - SandsundGCP - XY.csv\")\n",
    "gcp_csv_path_new =  pathlib.Path(\"D:/BodoData/Bodo_Sandsund/GIS/20231013 - SandsundGCP - XY_UTM.csv\")\n",
    "\n",
    "convert_gcp_to_new_crs(gcp_csv_path_orig,gcp_csv_path_new)"
   ]
  },
  {
   "cell_type": "code",
   "execution_count": null,
   "metadata": {},
   "outputs": [],
   "source": []
  }
 ],
 "metadata": {
  "kernelspec": {
   "display_name": "massimal-ml",
   "language": "python",
   "name": "python3"
  },
  "language_info": {
   "codemirror_mode": {
    "name": "ipython",
    "version": 3
   },
   "file_extension": ".py",
   "mimetype": "text/x-python",
   "name": "python",
   "nbconvert_exporter": "python",
   "pygments_lexer": "ipython3",
   "version": "3.11.3"
  }
 },
 "nbformat": 4,
 "nbformat_minor": 2
}
