{
 "cells": [
  {
   "cell_type": "markdown",
   "id": "175cc00e-7956-46ba-9b27-096c8234adc5",
   "metadata": {},
   "source": [
    "# Generating synthtic data\n",
    "The main idea here is to try make synthetic data that is _somewhat_ similar to hyperspectral data and to train some version of convnet to do sematic segmentation on it. Using synthetic data has some advantages:\n",
    "- It can be made in whatever shape needed\n",
    "- Endless amounts can be generated\n",
    "- Labels are always true (no ambiguity)\n",
    "\n",
    "The synthetic data doesn't have to be very realistic, i.e. very similar to real hyperspectral data. This is more a \"hello world\" for semantic segmentation. However, the data _should_ fulfill these requirements:\n",
    "- Should have at least 2 classes\n",
    "- Should have at least 2 channels\n",
    "- \"Annotated\" shapes should vary in size\n",
    "\n",
    "In annotated data, the classes often don't overlap spatially because it's hard to draw exact boundaries (some \"gray area\" is left between classes). So at least in the simplified case of syntehtic data, creating overlapping classes has low priority.\n",
    "\n"
   ]
  },
  {
   "cell_type": "code",
   "execution_count": 1,
   "id": "af8e63cd-6a6c-49e8-8514-4d5010682125",
   "metadata": {},
   "outputs": [],
   "source": [
    "import matplotlib.pyplot as plt\n",
    "from skimage.draw import random_shapes\n",
    "from skimage.measure import label    # See https://scikit-image.org/docs/dev/api/skimage.measure.html#skimage.measure.label\n",
    "import tensorflow as tf\n",
    "import numpy as np"
   ]
  },
  {
   "cell_type": "markdown",
   "id": "01542e0e-ffec-4a09-ad4f-eafa214ce55d",
   "metadata": {},
   "source": [
    "When making \"synthetic\" data to be used for training / validation by TensorFlow/Keras, there are two main approaches:\n",
    "- Creating the data, converting it to tensors, and converting these to Datasets (tf.data.Dataset.from_tensor_slices() and tf.data.Dataset.from_tensors)\n",
    "- Generating the data \"on the fly\" and converting it to a Dataset ( tf.data.Dataset.from_generator() )\n",
    "\n",
    "The last method is probably the most convenient. Note however that it has certain limitations (\"While this is a convenient approach it has limited portability and scalability. It must run in the same python process that created the generator, and is still subject to the Python GIL.\")\n",
    "\n",
    "Read more here: https://www.tensorflow.org/guide/data "
   ]
  },
  {
   "cell_type": "code",
   "execution_count": 6,
   "id": "69750e14-7fea-422f-99bb-6a25b02bf969",
   "metadata": {},
   "outputs": [],
   "source": [
    "n_rows, n_cols = 500, 500\n",
    "n_shapes = 2\n",
    "min_size = 100\n",
    "max_size = 200\n",
    "intensity_range = (0,127)\n",
    "\n",
    "image, desc = random_shapes((n_rows,n_cols),\n",
    "                        max_shapes=n_shapes,\n",
    "                        min_shapes=n_shapes,\n",
    "                        min_size=min_size,\n",
    "                        max_size=max_size,\n",
    "                        shape = 'ellipse',\n",
    "                        intensity_range=intensity_range,\n",
    "                        channel_axis=None)"
   ]
  },
  {
   "cell_type": "code",
   "execution_count": 7,
   "id": "e82aa806-6dbe-4dc4-b20a-a98c87ae1eae",
   "metadata": {},
   "outputs": [
    {
     "data": {
      "image/png": "[encoded data removed]",
      "text/plain": [
       "<Figure size 1200x1200 with 1 Axes>"
      ]
     },
     "metadata": {},
     "output_type": "display_data"
    }
   ],
   "source": [
    "plt.figure(figsize=(12,12))\n",
    "plt.imshow(image,interpolation='none')\n",
    "plt.show()"
   ]
  },
  {
   "cell_type": "code",
   "execution_count": 12,
   "id": "f29ca646-8c60-47d4-b137-eee31438bb24",
   "metadata": {},
   "outputs": [],
   "source": [
    "def segmentation_data_generator(n_images,\n",
    "                                data_shape,\n",
    "                                class_mean,\n",
    "                                class_std = None,\n",
    "                                min_size = 5,\n",
    "                                max_size = None,\n",
    "                                shape = 'ellipse'):\n",
    "    \"\"\" Generate synthetic segmentation image data \n",
    "    \n",
    "    # Input parameters:\n",
    "    n_images:     Number of images to generate\n",
    "    data_shape:   (n_rows, n_cols, n_channels)\n",
    "    class_mean:   (class1_mean, class2_mean, ...)\n",
    "                  Nested tuple wth mean value(s) for each class.\n",
    "                  Each element contains mean values for all channels\n",
    "    class_std:    (class1_mean, class2_mean, ...)\n",
    "                  Nested tuple wth standard dev. value for each class.\n",
    "                  Each element contains std values for all channels\n",
    "                  If None, class_std is set to zero for each class\n",
    "                  If non-zero, values for each class follow a Gaussian\n",
    "                  distribution.\n",
    "    min_size:     Minimum size (pixels) of each object\n",
    "    max_size:     Maximum size of each object\n",
    "    shape:        {rectangle, circle, triangle, ellipse, None} str, optional\n",
    "                  Shape to generate, 'None' to pick random ones\n",
    "    \n",
    "    \n",
    "    # Returns:\n",
    "    image:        Image with dimensions (n_rows, n_cols, n_channels)\n",
    "                  dtype = float64\n",
    "    label         Image with dimensions (n_rows, n_cols)\n",
    "                  dtype = int\n",
    "                  Classes are labelled 1, 2, ... according to their\n",
    "                  order in class_mean / class_std\n",
    "                  Index 0 corresponds to \"background\" (no class)\n",
    "                  \n",
    "    # Notes:\n",
    "    - Only generates a single object per class\n",
    "    - This function relies heavily on the random_shapes function \n",
    "    from SciKit Image: https://scikit-image.org/docs/stable/api/skimage.draw.html#skimage.draw.random_shapes\n",
    "    \n",
    "    \"\"\"\n",
    "    \n",
    "    n_rows, n_cols, n_channels = data_shape\n",
    "    n_classes = len(class_mean)\n",
    "    \n",
    "    image_count = 0\n",
    "    while image_count < n_images:\n",
    "        # Make random shapes and label them, retrying if random_shapes() generates too few\n",
    "        n_labels = None\n",
    "        while n_labels != n_classes:\n",
    "            # Generate random image with random intensities\n",
    "            random_im, _ = random_shapes((n_rows,n_cols),\n",
    "                                max_shapes=n_classes,\n",
    "                                min_shapes=n_classes,\n",
    "                                min_size=min_size,\n",
    "                                max_size=max_size,\n",
    "                                intensity_range=(0,127),\n",
    "                                shape = shape,\n",
    "                                num_trials=200,\n",
    "                                channel_axis=None)\n",
    "            # Label the random shapes (0=bacground, 1=first class, etc.)\n",
    "            labels, n_labels = label(random_im,background=255,return_num=True)\n",
    "\n",
    "        if class_std:\n",
    "            noise_generator = np.random.default_rng()\n",
    "\n",
    "        im = np.zeros(data_shape)\n",
    "        for i in range(n_labels):\n",
    "            class_mask = (labels==(i+1))\n",
    "            im[class_mask] = class_mean[i]\n",
    "            if class_std:\n",
    "                noise = np.zeros(data_shape)\n",
    "                for i,std in enumerate(class_std[i]):\n",
    "                    noise[:,:,i] = std*noise_generator.standard_normal(size=(n_rows,n_cols))\n",
    "                im[class_mask] += noise[class_mask]\n",
    "\n",
    "        yield im, labels\n",
    "        image_count += 1\n",
    "    \n"
   ]
  },
  {
   "cell_type": "code",
   "execution_count": 42,
   "id": "b1613d2a-2aad-4283-ad82-cfc9457ddc84",
   "metadata": {},
   "outputs": [
    {
     "name": "stderr",
     "output_type": "stream",
     "text": [
      "Clipping input data to the valid range for imshow with RGB data ([0..1] for floats or [0..255] for integers).\n"
     ]
    },
    {
     "data": {
      "image/png": "[encoded data removed]",
      "text/plain": [
       "<Figure size 400x400 with 1 Axes>"
      ]
     },
     "metadata": {},
     "output_type": "display_data"
    },
    {
     "name": "stderr",
     "output_type": "stream",
     "text": [
      "Clipping input data to the valid range for imshow with RGB data ([0..1] for floats or [0..255] for integers).\n"
     ]
    },
    {
     "data": {
      "image/png": "[encoded data removed]",
      "text/plain": [
       "<Figure size 400x400 with 1 Axes>"
      ]
     },
     "metadata": {},
     "output_type": "display_data"
    },
    {
     "name": "stderr",
     "output_type": "stream",
     "text": [
      "Clipping input data to the valid range for imshow with RGB data ([0..1] for floats or [0..255] for integers).\n"
     ]
    },
    {
     "data": {
      "image/png": "[encoded data removed]",
      "text/plain": [
       "<Figure size 400x400 with 1 Axes>"
      ]
     },
     "metadata": {},
     "output_type": "display_data"
    }
   ],
   "source": [
    "n_images = 3\n",
    "data_shape = (32,32,3)\n",
    "class_mean = ((0.5,0,0),(0,0,0.5))\n",
    "class_std = ((0.3,0.2,0.1),(0.1,0.2,0.3))\n",
    "#class_std = ((0,0,0),(0,0,0))\n",
    "\n",
    "image_generator = segmentation_data_generator(n_images,data_shape,class_mean,class_std,shape='ellipse')\n",
    "for image,labels in image_generator:\n",
    "    plt.figure(figsize=(4,4))\n",
    "    plt.imshow(image)\n",
    "    plt.show()"
   ]
  },
  {
   "cell_type": "code",
   "execution_count": 36,
   "id": "24d5064f-2d49-4831-99cc-9b42b7d9ccd2",
   "metadata": {},
   "outputs": [
    {
     "name": "stderr",
     "output_type": "stream",
     "text": [
      "C:\\Users\\mha114\\Miniconda3\\envs\\segm\\lib\\site-packages\\skimage\\_shared\\utils.py:348: UserWarning: Could not fit any shapes to image, consider reducing the minimum dimension\n",
      "  return func(*args, **kwargs)\n"
     ]
    }
   ],
   "source": [
    "# Stack several images on top of each other\n",
    "n_images=1000\n",
    "data_shape = (32,32,3)\n",
    "class_mean = ((0.5,0,0),(0,0,0.5))\n",
    "class_std = ((0.3,0.2,0.1),(0.1,0.2,0.3))\n",
    "image_set = np.zeros((n_images,)+data_shape,dtype=np.float16)\n",
    "label_set = np.zeros((n_images,)+data_shape[0:2],dtype=np.int8)\n",
    "for i, data in enumerate(segmentation_data_generator(n_images,data_shape,class_mean,class_std=class_std)):\n",
    "    image, labels = data\n",
    "    image_set[i] = image\n",
    "    label_set[i] = labels"
   ]
  },
  {
   "cell_type": "code",
   "execution_count": 38,
   "id": "17f12d34-4ca4-4b90-a164-3da4b32f163e",
   "metadata": {},
   "outputs": [],
   "source": [
    "for i,labels in enumerate(label_set"
   ]
  },
  {
   "cell_type": "code",
   "execution_count": 37,
   "id": "f3b638c0-1d69-4fc5-a671-c9c52f25e45a",
   "metadata": {},
   "outputs": [
    {
     "data": {
      "text/plain": [
       "6144000"
      ]
     },
     "execution_count": 37,
     "metadata": {},
     "output_type": "execute_result"
    }
   ],
   "source": [
    "image_set.size * image_set.itemsize"
   ]
  },
  {
   "cell_type": "code",
   "execution_count": 30,
   "id": "df9ab2a4-5719-4305-9138-37b2b6c551ff",
   "metadata": {},
   "outputs": [],
   "source": [
    "# for image, labels in zip(image_set, label_set):\n",
    "#     plt.figure(figsize=(4,4))\n",
    "#     plt.imshow(labels)\n",
    "#     plt.show()"
   ]
  },
  {
   "cell_type": "code",
   "execution_count": 40,
   "id": "be2d4e6b-230f-4523-a1b0-5a3f92bcdaf6",
   "metadata": {},
   "outputs": [
    {
     "data": {
      "text/plain": [
       "<TensorSliceDataset element_spec=(TensorSpec(shape=(32, 32, 3), dtype=tf.float16, name=None), TensorSpec(shape=(32, 32), dtype=tf.int8, name=None))>"
      ]
     },
     "execution_count": 40,
     "metadata": {},
     "output_type": "execute_result"
    }
   ],
   "source": [
    "dataset = tf.data.Dataset.from_tensor_slices((image_set, label_set))\n",
    "dataset"
   ]
  },
  {
   "cell_type": "code",
   "execution_count": 14,
   "id": "d83b2fe3-3c86-42a3-9018-372cdf47da54",
   "metadata": {},
   "outputs": [],
   "source": [
    "#ds_counter = tf.data.Dataset.from_generator(count, args=[25], output_types=tf.int32, output_shapes = (), )\n",
    "\n",
    "#arguments =  (n_images,data_shape,class_mean,class_std)\n",
    "#ds_counter = tf.data.Dataset.from_generator(segmentation_data_generator, args=arguments, output_types=tf.float32, output_shapes = (), )"
   ]
  },
  {
   "cell_type": "code",
   "execution_count": 41,
   "id": "f27528c2-3ed4-4440-8732-530ddbddb238",
   "metadata": {},
   "outputs": [],
   "source": [
    "#for count_batch in ds_counter.repeat().batch(2).take(2):\n",
    "#    pass\n",
    "    #print(count_batch.numpy())"
   ]
  }
 ],
 "metadata": {
  "kernelspec": {
   "display_name": "Python 3 (ipykernel)",
   "language": "python",
   "name": "python3"
  },
  "language_info": {
   "codemirror_mode": {
    "name": "ipython",
    "version": 3
   },
   "file_extension": ".py",
   "mimetype": "text/x-python",
   "name": "python",
   "nbconvert_exporter": "python",
   "pygments_lexer": "ipython3",
   "version": "3.10.8"
  }
 },
 "nbformat": 4,
 "nbformat_minor": 5
}
