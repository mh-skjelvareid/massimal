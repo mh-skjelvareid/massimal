{
 "cells": [
  {
   "cell_type": "code",
   "execution_count": 2,
   "id": "07a147d9-a77d-427c-b0e6-507b74675d3e",
   "metadata": {},
   "outputs": [],
   "source": [
    "import massimal.preprocess"
   ]
  },
  {
   "cell_type": "code",
   "execution_count": null,
   "id": "1eb261d7-b69b-40db-83e1-fb11d4a91df9",
   "metadata": {},
   "outputs": [],
   "source": [
    "massimal.preprocess.in"
   ]
  }
 ],
 "metadata": {
  "kernelspec": {
   "display_name": "Python (massimal)",
   "language": "python",
   "name": "massimal"
  },
  "language_info": {
   "codemirror_mode": {
    "name": "ipython",
    "version": 3
   },
   "file_extension": ".py",
   "mimetype": "text/x-python",
   "name": "python",
   "nbconvert_exporter": "python",
   "pygments_lexer": "ipython3",
   "version": "3.10.5"
  }
 },
 "nbformat": 4,
 "nbformat_minor": 5
}
