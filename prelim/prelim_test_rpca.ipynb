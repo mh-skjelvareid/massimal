{
 "cells": [
  {
   "cell_type": "code",
   "execution_count": 1,
   "id": "51861d94-7caa-4914-981b-d4f9d889420d",
   "metadata": {},
   "outputs": [],
   "source": [
    "import sys"
   ]
  },
  {
   "cell_type": "code",
   "execution_count": 2,
   "id": "02e96359-a4a6-4aac-a075-f11723e6d726",
   "metadata": {},
   "outputs": [
    {
     "data": {
      "text/plain": [
       "['/home/mha114/Dropbox/Python/massimal/prelim',\n",
       " '/home/mha114/Dropbox/Python/massimal/prelim',\n",
       " '/home/mha114/Dropbox/Python/mhstools',\n",
       " '/home/mha114/Dropbox/Python/massimal/tools',\n",
       " '/home/mha114/Dropbox/Python/external-libs/robustpca',\n",
       " '/home/mha114/miniconda3/envs/massimal/lib/python39.zip',\n",
       " '/home/mha114/miniconda3/envs/massimal/lib/python3.9',\n",
       " '/home/mha114/miniconda3/envs/massimal/lib/python3.9/lib-dynload',\n",
       " '',\n",
       " '/home/mha114/miniconda3/envs/massimal/lib/python3.9/site-packages',\n",
       " '/home/mha114/miniconda3/envs/massimal/lib/python3.9/site-packages/locket-0.2.1-py3.9.egg',\n",
       " '/home/mha114/miniconda3/envs/massimal/lib/python3.9/site-packages/IPython/extensions',\n",
       " '/home/mha114/.ipython']"
      ]
     },
     "execution_count": 2,
     "metadata": {},
     "output_type": "execute_result"
    }
   ],
   "source": [
    "sys.path"
   ]
  },
  {
   "cell_type": "code",
   "execution_count": 4,
   "id": "fce308ae-7cd9-4003-8f8d-789a79745cd0",
   "metadata": {},
   "outputs": [],
   "source": [
    "import robustpca"
   ]
  },
  {
   "cell_type": "code",
   "execution_count": 5,
   "id": "ed70f3cb-df97-4087-bbfa-7b0bf1bfd85d",
   "metadata": {},
   "outputs": [],
   "source": [
    "import numpy as np\n",
    "\n",
    "from robustpca import ROSL\n",
    "\n",
    "X = np.random.randn(100, 100)\n",
    "rosl = ROSL(n_components=3)\n",
    "Y = rosl.fit_transform(X)"
   ]
  },
  {
   "cell_type": "code",
   "execution_count": 6,
   "id": "cbee4bea-ecdf-4f35-afc1-20d3336e2d24",
   "metadata": {},
   "outputs": [
    {
     "data": {
      "text/plain": [
       "(100, 1)"
      ]
     },
     "execution_count": 6,
     "metadata": {},
     "output_type": "execute_result"
    }
   ],
   "source": [
    "Y.shape"
   ]
  },
  {
   "cell_type": "code",
   "execution_count": 8,
   "id": "4d0bfba6-8edb-4840-8b1d-db35ddb922e8",
   "metadata": {},
   "outputs": [
    {
     "data": {
      "text/plain": [
       "array([[ 0.07879279],\n",
       "       [-0.00322061],\n",
       "       [-0.05186559],\n",
       "       [-0.12382744],\n",
       "       [-0.01020259],\n",
       "       [ 0.03815827],\n",
       "       [-0.03183561],\n",
       "       [ 0.02216754],\n",
       "       [ 0.17426933],\n",
       "       [-0.07517929],\n",
       "       [ 0.11681112],\n",
       "       [ 0.07516048],\n",
       "       [ 0.05953161],\n",
       "       [ 0.02687328],\n",
       "       [-0.08478298],\n",
       "       [-0.27010725],\n",
       "       [-0.01774527],\n",
       "       [ 0.12627784],\n",
       "       [ 0.06325188],\n",
       "       [-0.1027837 ],\n",
       "       [ 0.21043185],\n",
       "       [-0.08439726],\n",
       "       [-0.07789118],\n",
       "       [-0.16436658],\n",
       "       [-0.23372284],\n",
       "       [-0.06369959],\n",
       "       [ 0.14209271],\n",
       "       [-0.11368847],\n",
       "       [ 0.11589209],\n",
       "       [ 0.07379963],\n",
       "       [-0.05682495],\n",
       "       [ 0.02681525],\n",
       "       [ 0.16037668],\n",
       "       [-0.06177888],\n",
       "       [ 0.04705033],\n",
       "       [-0.03458187],\n",
       "       [ 0.10416737],\n",
       "       [-0.0807095 ],\n",
       "       [ 0.05196397],\n",
       "       [-0.02088337],\n",
       "       [ 0.17825052],\n",
       "       [ 0.17225216],\n",
       "       [-0.10679953],\n",
       "       [ 0.00309147],\n",
       "       [-0.09768158],\n",
       "       [-0.14687174],\n",
       "       [ 0.01629068],\n",
       "       [-0.08947601],\n",
       "       [ 0.18762396],\n",
       "       [-0.01701395],\n",
       "       [ 0.00818212],\n",
       "       [-0.14010529],\n",
       "       [ 0.05509964],\n",
       "       [-0.05604875],\n",
       "       [ 0.11125652],\n",
       "       [ 0.11667562],\n",
       "       [ 0.05051132],\n",
       "       [-0.01983741],\n",
       "       [-0.16120813],\n",
       "       [-0.0670214 ],\n",
       "       [ 0.23158075],\n",
       "       [-0.00163514],\n",
       "       [-0.00150841],\n",
       "       [ 0.07388418],\n",
       "       [ 0.05496213],\n",
       "       [ 0.04272915],\n",
       "       [ 0.01038839],\n",
       "       [ 0.17203874],\n",
       "       [ 0.02946545],\n",
       "       [ 0.01283186],\n",
       "       [-0.10480612],\n",
       "       [ 0.01786189],\n",
       "       [-0.16730742],\n",
       "       [ 0.09142719],\n",
       "       [-0.02731942],\n",
       "       [-0.01908894],\n",
       "       [ 0.16018597],\n",
       "       [ 0.06642638],\n",
       "       [ 0.0222189 ],\n",
       "       [-0.16272426],\n",
       "       [-0.07066376],\n",
       "       [ 0.0535723 ],\n",
       "       [ 0.03432894],\n",
       "       [-0.04602574],\n",
       "       [-0.00287303],\n",
       "       [-0.03291519],\n",
       "       [-0.05047734],\n",
       "       [-0.0522515 ],\n",
       "       [ 0.08747993],\n",
       "       [-0.00497803],\n",
       "       [ 0.07550707],\n",
       "       [ 0.06396211],\n",
       "       [-0.02149151],\n",
       "       [ 0.10031938],\n",
       "       [ 0.02988535],\n",
       "       [-0.17048924],\n",
       "       [-0.1694515 ],\n",
       "       [ 0.02316479],\n",
       "       [-0.06459268],\n",
       "       [-0.08458996]])"
      ]
     },
     "execution_count": 8,
     "metadata": {},
     "output_type": "execute_result"
    }
   ],
   "source": [
    "rosl.loadings_"
   ]
  }
 ],
 "metadata": {
  "kernelspec": {
   "display_name": "Python 3",
   "language": "python",
   "name": "python3"
  },
  "language_info": {
   "codemirror_mode": {
    "name": "ipython",
    "version": 3
   },
   "file_extension": ".py",
   "mimetype": "text/x-python",
   "name": "python",
   "nbconvert_exporter": "python",
   "pygments_lexer": "ipython3",
   "version": "3.9.4"
  }
 },
 "nbformat": 4,
 "nbformat_minor": 5
}
