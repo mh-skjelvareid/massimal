{
 "cells": [
  {
   "cell_type": "code",
   "execution_count": 1,
   "id": "f834f695-914f-43cd-9080-d5721cd7443e",
   "metadata": {},
   "outputs": [],
   "source": [
    "# Imports\n",
    "import ffmpeg "
   ]
  },
  {
   "cell_type": "markdown",
   "id": "aa57e97b-90dc-44d5-a148-1b8993faa060",
   "metadata": {},
   "source": [
    "I was experiencing problems with calling ffmpeg. Not sure exactly what caused it, but after finding a way to display the errors from ffmpeg, it turned out that it was looking for a library that was not available. According to https://stackoverflow.com/questions/62213783/ffmpeg-error-while-loading-shared-libraries-libopenh264-so-5  this is because of a mismatch between python version and ffmpeg version...? Anyway, calling \"which ffmpeg\" in base and massimal environments showed that two different versions were being used. Trying to use ffmpeg from the command line worked in base, but not in massimal. After uninstalling the version in massimal (conda remove ffmpeg), the correct version (in usr/bin/ffmpeg) is used. However, finding out how to use the ffmpeg-python bindings is still a challenge."
   ]
  },
  {
   "cell_type": "markdown",
   "id": "a975483b-a86f-438d-9c78-e494e18ddcc4",
   "metadata": {},
   "source": [
    "See https://stackoverflow.com/questions/27568254/how-to-extract-1-screenshot-for-a-video-with-ffmpeg-at-a-given-time for tips on extracting a single frame at a given time.\n",
    "\n",
    "Also see https://developpaper.com/arbitrary-extraction-of-video-frames-by-ffmpeg-python/ for use of python-ffmpeg for this purpose.\n",
    "\n",
    "-ss   Position option (before -i)"
   ]
  },
  {
   "cell_type": "code",
   "execution_count": 26,
   "id": "6737248f-da3f-4af0-b769-650cc0e20afc",
   "metadata": {},
   "outputs": [],
   "source": [
    "# Paths\n",
    "video_file = '/media/mha114/MassimalDataProcessing/20220324_VideoTransectTest/GX010199.MP4'\n",
    "#output_image = '/media/mha114/MassimalDataProcessing/20220324_VideoTransectTest/test_im.jpg'\n",
    "output_image = '/media/mha114/MassimalDataProcessing/20220324_VideoTransectTest/test_im4.jpg'\n",
    "pos_file = '/media/mha114/MassimalDataProcessing/20220324_VideoTransectTest/2022-03-24_144702_Bodo/2022-03-24_144702_Bodo.csv'"
   ]
  },
  {
   "cell_type": "code",
   "execution_count": 18,
   "id": "b72e7a5e-f09b-4f95-a891-dcd9cb2b49d9",
   "metadata": {},
   "outputs": [],
   "source": [
    "probe = ffmpeg.probe(video_file)\n",
    "time = float(probe['streams'][0]['duration'])"
   ]
  },
  {
   "cell_type": "code",
   "execution_count": 19,
   "id": "be582695-488f-4480-a427-5b1004bde018",
   "metadata": {},
   "outputs": [
    {
     "data": {
      "text/plain": [
       "213.479933"
      ]
     },
     "execution_count": 19,
     "metadata": {},
     "output_type": "execute_result"
    }
   ],
   "source": [
    "time"
   ]
  },
  {
   "cell_type": "code",
   "execution_count": 13,
   "id": "3d778e91-2749-4611-b180-9db9241a387b",
   "metadata": {},
   "outputs": [],
   "source": [
    "# This works\n",
    "try:\n",
    "    out, _ = (\n",
    "        ffmpeg\n",
    "        .input(video_file,ss='00:02:09.235')\n",
    "        .output(output_image, vframes=1, format='image2', vcodec='mjpeg')\n",
    "        .run(capture_stdout=True, capture_stderr=True, overwrite_output=True)\n",
    "    )\n",
    "except ffmpeg.Error as e:\n",
    "    print(e.stderr)"
   ]
  },
  {
   "cell_type": "code",
   "execution_count": 20,
   "id": "92d2018b-6b1b-4cce-9851-fe959c4e7a45",
   "metadata": {},
   "outputs": [],
   "source": [
    "# A version of the code above, as a function. Time probably needs to be specified as a string\n",
    "def read_frame_by_time(in_file, time):\n",
    "    \"\"\"\n",
    "    Specify the time node to read any frame\n",
    "    \"\"\"\n",
    "    out, err = (\n",
    "        ffmpeg.input(in_file, ss=time)\n",
    "              .output('pipe:', vframes=1, format='image2', vcodec='mjpeg')\n",
    "              .run(capture_stdout=True)\n",
    "    )\n",
    "    return out"
   ]
  },
  {
   "cell_type": "code",
   "execution_count": 27,
   "id": "dcac27e7-335a-4404-bc81-1da024eda806",
   "metadata": {},
   "outputs": [],
   "source": [
    "# Trying a version with time only given in seconds - also works\n",
    "try:\n",
    "    out, _ = (\n",
    "        ffmpeg\n",
    "        .input(video_file,ss='129.235')\n",
    "        .output(output_image, vframes=1, format='image2', vcodec='mjpeg', **{'q:v': 3})  # q:v parameter indicates (photo) quality. Can be omitted. Higher number = worse quality.\n",
    "        .run(capture_stdout=True, capture_stderr=True, overwrite_output=True)\n",
    "    )\n",
    "except ffmpeg.Error as e:\n",
    "    print(e.stderr)"
   ]
  },
  {
   "cell_type": "code",
   "execution_count": 21,
   "id": "3198ff25-66ef-4204-9362-89ac44ca3369",
   "metadata": {},
   "outputs": [
    {
     "name": "stderr",
     "output_type": "stream",
     "text": [
      "ffmpeg version 4.2.4-1ubuntu0.1 Copyright (c) 2000-2020 the FFmpeg developers\n",
      "  built with gcc 9 (Ubuntu 9.3.0-10ubuntu2)\n",
      "  configuration: --prefix=/usr --extra-version=1ubuntu0.1 --toolchain=hardened --libdir=/usr/lib/x86_64-linux-gnu --incdir=/usr/include/x86_64-linux-gnu --arch=amd64 --enable-gpl --disable-stripping --enable-avresample --disable-filter=resample --enable-avisynth --enable-gnutls --enable-ladspa --enable-libaom --enable-libass --enable-libbluray --enable-libbs2b --enable-libcaca --enable-libcdio --enable-libcodec2 --enable-libflite --enable-libfontconfig --enable-libfreetype --enable-libfribidi --enable-libgme --enable-libgsm --enable-libjack --enable-libmp3lame --enable-libmysofa --enable-libopenjpeg --enable-libopenmpt --enable-libopus --enable-libpulse --enable-librsvg --enable-librubberband --enable-libshine --enable-libsnappy --enable-libsoxr --enable-libspeex --enable-libssh --enable-libtheora --enable-libtwolame --enable-libvidstab --enable-libvorbis --enable-libvpx --enable-libwavpack --enable-libwebp --enable-libx265 --enable-libxml2 --enable-libxvid --enable-libzmq --enable-libzvbi --enable-lv2 --enable-omx --enable-openal --enable-opencl --enable-opengl --enable-sdl2 --enable-libdc1394 --enable-libdrm --enable-libiec61883 --enable-nvenc --enable-chromaprint --enable-frei0r --enable-libx264 --enable-shared\n",
      "  libavutil      56. 31.100 / 56. 31.100\n",
      "  libavcodec     58. 54.100 / 58. 54.100\n",
      "  libavformat    58. 29.100 / 58. 29.100\n",
      "  libavdevice    58.  8.100 / 58.  8.100\n",
      "  libavfilter     7. 57.100 /  7. 57.100\n",
      "  libavresample   4.  0.  0 /  4.  0.  0\n",
      "  libswscale      5.  5.100 /  5.  5.100\n",
      "  libswresample   3.  5.100 /  3.  5.100\n",
      "  libpostproc    55.  5.100 / 55.  5.100\n",
      "[mov,mp4,m4a,3gp,3g2,mj2 @ 0x55d1869b8700] Using non-standard frame rate 29/1\n",
      "Input #0, mov,mp4,m4a,3gp,3g2,mj2, from '/media/mha114/MassimalDataProcessing/20220324_VideoTransectTest/GX010199.MP4':\n",
      "  Metadata:\n",
      "    major_brand     : mp41\n",
      "    minor_version   : 538120216\n",
      "    compatible_brands: mp41\n",
      "    creation_time   : 2022-03-24T14:47:02.000000Z\n",
      "    firmware        : HD8.01.02.51.00\n",
      "  Duration: 00:03:33.48, start: 0.000000, bitrate: 60180 kb/s\n",
      "    Stream #0:0(eng): Video: hevc (Main) (hvc1 / 0x31637668), yuvj420p(pc, bt709), 4000x3000 [SAR 1:1 DAR 4:3], 59922 kb/s, 29.97 fps, 29.97 tbr, 90k tbn, 29.97 tbc (default)\n",
      "    Metadata:\n",
      "      creation_time   : 2022-03-24T14:47:02.000000Z\n",
      "      handler_name    : GoPro H.265\n",
      "      encoder         : GoPro H.265 encoder\n",
      "      timecode        : 15:16:42:11\n",
      "    Stream #0:1(eng): Audio: aac (LC) (mp4a / 0x6134706D), 48000 Hz, stereo, fltp, 189 kb/s (default)\n",
      "    Metadata:\n",
      "      creation_time   : 2022-03-24T14:47:02.000000Z\n",
      "      handler_name    : GoPro AAC  \n",
      "      timecode        : 15:16:42:11\n",
      "    Stream #0:2(eng): Data: none (tmcd / 0x64636D74) (default)\n",
      "    Metadata:\n",
      "      creation_time   : 2022-03-24T14:47:02.000000Z\n",
      "      handler_name    : GoPro TCD  \n",
      "      timecode        : 15:16:42:11\n",
      "    Stream #0:3(eng): Data: bin_data (gpmd / 0x646D7067), 47 kb/s (default)\n",
      "    Metadata:\n",
      "      creation_time   : 2022-03-24T14:47:02.000000Z\n",
      "      handler_name    : GoPro MET  \n",
      "    Stream #0:4(eng): Data: none (fdsc / 0x63736466), 9 kb/s (default)\n",
      "    Metadata:\n",
      "      creation_time   : 2022-03-24T14:47:02.000000Z\n",
      "      handler_name    : GoPro SOS  \n",
      "Stream mapping:\n",
      "  Stream #0:0 -> #0:0 (hevc (native) -> mjpeg (native))\n",
      "Press [q] to stop, [?] for help\n",
      "Output #0, image2, to 'pipe:':=N/A time=-577014:32:22.77 bitrate=N/A speed=N/A    \n",
      "  Metadata:\n",
      "    major_brand     : mp41\n",
      "    minor_version   : 538120216\n",
      "    compatible_brands: mp41\n",
      "    firmware        : HD8.01.02.51.00\n",
      "    encoder         : Lavf58.29.100\n",
      "    Stream #0:0(eng): Video: mjpeg, yuvj420p(pc), 4000x3000 [SAR 1:1 DAR 4:3], q=2-31, 200 kb/s, 29.97 fps, 29.97 tbn, 29.97 tbc (default)\n",
      "    Metadata:\n",
      "      creation_time   : 2022-03-24T14:47:02.000000Z\n",
      "      handler_name    : GoPro H.265\n",
      "      timecode        : 15:16:42:11\n",
      "      encoder         : Lavc58.54.100 mjpeg\n",
      "    Side data:\n",
      "      cpb: bitrate max/min/avg: 0/0/200000 buffer size: 0 vbv_delay: -1\n",
      "frame=    1 fps=0.0 q=16.8 Lsize=N/A time=00:00:00.03 bitrate=N/A speed=0.000524x    \n",
      "video:1032kB audio:0kB subtitle:0kB other streams:0kB global headers:0kB muxing overhead: unknown\n"
     ]
    }
   ],
   "source": [
    "# This returns the image as a set of bytes\n",
    "# test_im = read_frame_by_time(video_file,'00:00:20.000')\n",
    "test_im = read_frame_by_time(video_file,20)"
   ]
  },
  {
   "cell_type": "code",
   "execution_count": 23,
   "id": "f766a137-6c5f-4dce-a7cc-54c62418dbc7",
   "metadata": {},
   "outputs": [
    {
     "data": {
      "text/plain": [
       "bytes"
      ]
     },
     "execution_count": 23,
     "metadata": {},
     "output_type": "execute_result"
    }
   ],
   "source": [
    "type(test_im)"
   ]
  },
  {
   "cell_type": "code",
   "execution_count": 3,
   "id": "70f86c9b-c7be-4133-b1b2-5e7a63f5c495",
   "metadata": {},
   "outputs": [
    {
     "name": "stderr",
     "output_type": "stream",
     "text": [
      "ffmpeg version 4.2.4-1ubuntu0.1 Copyright (c) 2000-2020 the FFmpeg developers\n",
      "  built with gcc 9 (Ubuntu 9.3.0-10ubuntu2)\n",
      "  configuration: --prefix=/usr --extra-version=1ubuntu0.1 --toolchain=hardened --libdir=/usr/lib/x86_64-linux-gnu --incdir=/usr/include/x86_64-linux-gnu --arch=amd64 --enable-gpl --disable-stripping --enable-avresample --disable-filter=resample --enable-avisynth --enable-gnutls --enable-ladspa --enable-libaom --enable-libass --enable-libbluray --enable-libbs2b --enable-libcaca --enable-libcdio --enable-libcodec2 --enable-libflite --enable-libfontconfig --enable-libfreetype --enable-libfribidi --enable-libgme --enable-libgsm --enable-libjack --enable-libmp3lame --enable-libmysofa --enable-libopenjpeg --enable-libopenmpt --enable-libopus --enable-libpulse --enable-librsvg --enable-librubberband --enable-libshine --enable-libsnappy --enable-libsoxr --enable-libspeex --enable-libssh --enable-libtheora --enable-libtwolame --enable-libvidstab --enable-libvorbis --enable-libvpx --enable-libwavpack --enable-libwebp --enable-libx265 --enable-libxml2 --enable-libxvid --enable-libzmq --enable-libzvbi --enable-lv2 --enable-omx --enable-openal --enable-opencl --enable-opengl --enable-sdl2 --enable-libdc1394 --enable-libdrm --enable-libiec61883 --enable-nvenc --enable-chromaprint --enable-frei0r --enable-libx264 --enable-shared\n",
      "  libavutil      56. 31.100 / 56. 31.100\n",
      "  libavcodec     58. 54.100 / 58. 54.100\n",
      "  libavformat    58. 29.100 / 58. 29.100\n",
      "  libavdevice    58.  8.100 / 58.  8.100\n",
      "  libavfilter     7. 57.100 /  7. 57.100\n",
      "  libavresample   4.  0.  0 /  4.  0.  0\n",
      "  libswscale      5.  5.100 /  5.  5.100\n",
      "  libswresample   3.  5.100 /  3.  5.100\n",
      "  libpostproc    55.  5.100 / 55.  5.100\n",
      "[mov,mp4,m4a,3gp,3g2,mj2 @ 0x55db3706f6c0] Using non-standard frame rate 29/1\n",
      "Input #0, mov,mp4,m4a,3gp,3g2,mj2, from '/media/mha114/MassimalDataProcessing/20220324_VideoTransectTest/GX010199.MP4':\n",
      "  Metadata:\n",
      "    major_brand     : mp41\n",
      "    minor_version   : 538120216\n",
      "    compatible_brands: mp41\n",
      "    creation_time   : 2022-03-24T14:47:02.000000Z\n",
      "    firmware        : HD8.01.02.51.00\n",
      "  Duration: 00:03:33.48, start: 0.000000, bitrate: 60180 kb/s\n",
      "    Stream #0:0(eng): Video: hevc (Main) (hvc1 / 0x31637668), yuvj420p(pc, bt709), 4000x3000 [SAR 1:1 DAR 4:3], 59922 kb/s, 29.97 fps, 29.97 tbr, 90k tbn, 29.97 tbc (default)\n",
      "    Metadata:\n",
      "      creation_time   : 2022-03-24T14:47:02.000000Z\n",
      "      handler_name    : GoPro H.265\n",
      "      encoder         : GoPro H.265 encoder\n",
      "      timecode        : 15:16:42:11\n",
      "    Stream #0:1(eng): Audio: aac (LC) (mp4a / 0x6134706D), 48000 Hz, stereo, fltp, 189 kb/s (default)\n",
      "    Metadata:\n",
      "      creation_time   : 2022-03-24T14:47:02.000000Z\n",
      "      handler_name    : GoPro AAC  \n",
      "      timecode        : 15:16:42:11\n",
      "    Stream #0:2(eng): Data: none (tmcd / 0x64636D74) (default)\n",
      "    Metadata:\n",
      "      creation_time   : 2022-03-24T14:47:02.000000Z\n",
      "      handler_name    : GoPro TCD  \n",
      "      timecode        : 15:16:42:11\n",
      "    Stream #0:3(eng): Data: bin_data (gpmd / 0x646D7067), 47 kb/s (default)\n",
      "    Metadata:\n",
      "      creation_time   : 2022-03-24T14:47:02.000000Z\n",
      "      handler_name    : GoPro MET  \n",
      "    Stream #0:4(eng): Data: none (fdsc / 0x63736466), 9 kb/s (default)\n",
      "    Metadata:\n",
      "      creation_time   : 2022-03-24T14:47:02.000000Z\n",
      "      handler_name    : GoPro SOS  \n",
      "Stream mapping:\n",
      "  Stream #0:0 -> #0:0 (hevc (native) -> mjpeg (native))\n",
      "Press [q] to stop, [?] for help\n",
      "Output #0, image2, to '/media/mha114/MassimalDataProcessing/20220324_VideoTransectTest/test_im.jpg':\n",
      "  Metadata:\n",
      "    major_brand     : mp41\n",
      "    minor_version   : 538120216\n",
      "    compatible_brands: mp41\n",
      "    firmware        : HD8.01.02.51.00\n",
      "    encoder         : Lavf58.29.100\n",
      "    Stream #0:0(eng): Video: mjpeg, yuvj420p(pc), 4000x3000 [SAR 1:1 DAR 4:3], q=2-31, 200 kb/s, 29.97 fps, 29.97 tbn, 29.97 tbc (default)\n",
      "    Metadata:\n",
      "      creation_time   : 2022-03-24T14:47:02.000000Z\n",
      "      handler_name    : GoPro H.265\n",
      "      timecode        : 15:16:42:11\n",
      "      encoder         : Lavc58.54.100 mjpeg\n",
      "    Side data:\n",
      "      cpb: bitrate max/min/avg: 0/0/200000 buffer size: 0 vbv_delay: -1\n",
      "frame=    1 fps=0.0 q=9.5 Lsize=N/A time=00:00:00.03 bitrate=N/A speed=0.00105x    \n",
      "video:246kB audio:0kB subtitle:0kB other streams:0kB global headers:0kB muxing overhead: unknown\n"
     ]
    },
    {
     "data": {
      "text/plain": [
       "(None, None)"
      ]
     },
     "execution_count": 3,
     "metadata": {},
     "output_type": "execute_result"
    }
   ],
   "source": [
    "# This also works, but is less logical/structured (to me, at least)\n",
    "stream = ffmpeg.input(video_file, ss='00:00:12.235')\n",
    "stream = ffmpeg.output(stream, output_image, vframes=1)\n",
    "ffmpeg.run(stream)"
   ]
  }
 ],
 "metadata": {
  "kernelspec": {
   "display_name": "Python 3",
   "language": "python",
   "name": "python3"
  },
  "language_info": {
   "codemirror_mode": {
    "name": "ipython",
    "version": 3
   },
   "file_extension": ".py",
   "mimetype": "text/x-python",
   "name": "python",
   "nbconvert_exporter": "python",
   "pygments_lexer": "ipython3",
   "version": "3.9.4"
  }
 },
 "nbformat": 4,
 "nbformat_minor": 5
}
