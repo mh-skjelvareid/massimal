{
 "cells": [
  {
   "cell_type": "code",
   "execution_count": 1,
   "id": "c613545e",
   "metadata": {},
   "outputs": [],
   "source": [
    "# Imports\n",
    "import ffmpeg\n",
    "import pandas as pd\n",
    "import geopandas\n",
    "import datetime\n",
    "import shapely\n",
    "import warnings\n",
    "import numpy as np\n",
    "\n",
    "import video_transect, misc"
   ]
  },
  {
   "cell_type": "code",
   "execution_count": 2,
   "id": "12a801ba",
   "metadata": {},
   "outputs": [],
   "source": [
    "# Filter future warnings\n",
    "warnings.simplefilter(action='ignore', category=FutureWarning)"
   ]
  },
  {
   "cell_type": "code",
   "execution_count": 3,
   "id": "cfbf54c1",
   "metadata": {},
   "outputs": [],
   "source": [
    "# Paths\n",
    "csv_file = '/media/mha114/MassimalDataProcessing/20210312_Saltstraumen/Images-UW/20220329/VideoTransect_Structured/Transect1/2022-03-29_125003_MassimalTrack.csv'\n",
    "video_dir = '/media/mha114/MassimalDataProcessing/20210312_Saltstraumen/Images-UW/20220329/VideoTransect_Structured/Transect1'\n",
    "#image_dir = '/media/mha114/MassimalDataProcessing/20220324_VideoTransectTest/ExtractedImages'\n",
    "#gpk_file = '/media/mha114/MassimalDataProcessing/20220324_VideoTransectTest/test_output.gpkg'"
   ]
  },
  {
   "cell_type": "code",
   "execution_count": 4,
   "id": "3320f033",
   "metadata": {},
   "outputs": [],
   "source": [
    "# Read file, get geodataframe\n",
    "gdf = video_transect.track_csv_to_geodataframe(csv_file)"
   ]
  },
  {
   "cell_type": "code",
   "execution_count": 5,
   "id": "67d74a58",
   "metadata": {},
   "outputs": [
    {
     "data": {
      "text/html": [
       "<div>\n",
       "<style scoped>\n",
       "    .dataframe tbody tr th:only-of-type {\n",
       "        vertical-align: middle;\n",
       "    }\n",
       "\n",
       "    .dataframe tbody tr th {\n",
       "        vertical-align: top;\n",
       "    }\n",
       "\n",
       "    .dataframe thead th {\n",
       "        text-align: right;\n",
       "    }\n",
       "</style>\n",
       "<table border=\"1\" class=\"dataframe\">\n",
       "  <thead>\n",
       "    <tr style=\"text-align: right;\">\n",
       "      <th></th>\n",
       "      <th>Lat</th>\n",
       "      <th>Lng</th>\n",
       "      <th>Time</th>\n",
       "      <th>TimeDiffSec</th>\n",
       "      <th>geometry</th>\n",
       "    </tr>\n",
       "  </thead>\n",
       "  <tbody>\n",
       "    <tr>\n",
       "      <th>0</th>\n",
       "      <td>67.227312</td>\n",
       "      <td>14.625156</td>\n",
       "      <td>2022-03-29 10:50:04.089000+00:00</td>\n",
       "      <td>0.000</td>\n",
       "      <td>POINT (14.62516 67.22731)</td>\n",
       "    </tr>\n",
       "    <tr>\n",
       "      <th>1</th>\n",
       "      <td>67.227312</td>\n",
       "      <td>14.625156</td>\n",
       "      <td>2022-03-29 10:50:04.089000+00:00</td>\n",
       "      <td>0.000</td>\n",
       "      <td>POINT (14.62516 67.22731)</td>\n",
       "    </tr>\n",
       "    <tr>\n",
       "      <th>2</th>\n",
       "      <td>67.227312</td>\n",
       "      <td>14.625156</td>\n",
       "      <td>2022-03-29 10:50:05.098000+00:00</td>\n",
       "      <td>1.009</td>\n",
       "      <td>POINT (14.62516 67.22731)</td>\n",
       "    </tr>\n",
       "    <tr>\n",
       "      <th>3</th>\n",
       "      <td>67.227312</td>\n",
       "      <td>14.625156</td>\n",
       "      <td>2022-03-29 10:50:06.094000+00:00</td>\n",
       "      <td>2.005</td>\n",
       "      <td>POINT (14.62516 67.22731)</td>\n",
       "    </tr>\n",
       "    <tr>\n",
       "      <th>4</th>\n",
       "      <td>67.227312</td>\n",
       "      <td>14.625156</td>\n",
       "      <td>2022-03-29 10:50:07.098000+00:00</td>\n",
       "      <td>3.009</td>\n",
       "      <td>POINT (14.62516 67.22731)</td>\n",
       "    </tr>\n",
       "    <tr>\n",
       "      <th>...</th>\n",
       "      <td>...</td>\n",
       "      <td>...</td>\n",
       "      <td>...</td>\n",
       "      <td>...</td>\n",
       "      <td>...</td>\n",
       "    </tr>\n",
       "    <tr>\n",
       "      <th>3719</th>\n",
       "      <td>67.227312</td>\n",
       "      <td>14.625167</td>\n",
       "      <td>2022-03-29 11:52:02.075000+00:00</td>\n",
       "      <td>3717.986</td>\n",
       "      <td>POINT (14.62517 67.22731)</td>\n",
       "    </tr>\n",
       "    <tr>\n",
       "      <th>3720</th>\n",
       "      <td>67.227327</td>\n",
       "      <td>14.625210</td>\n",
       "      <td>2022-03-29 11:52:39.451000+00:00</td>\n",
       "      <td>3755.362</td>\n",
       "      <td>POINT (14.62521 67.22733)</td>\n",
       "    </tr>\n",
       "    <tr>\n",
       "      <th>3721</th>\n",
       "      <td>67.227328</td>\n",
       "      <td>14.625213</td>\n",
       "      <td>2022-03-29 11:52:40.338000+00:00</td>\n",
       "      <td>3756.249</td>\n",
       "      <td>POINT (14.62521 67.22733)</td>\n",
       "    </tr>\n",
       "    <tr>\n",
       "      <th>3722</th>\n",
       "      <td>67.227320</td>\n",
       "      <td>14.625202</td>\n",
       "      <td>2022-03-29 11:52:41.338000+00:00</td>\n",
       "      <td>3757.249</td>\n",
       "      <td>POINT (14.62520 67.22732)</td>\n",
       "    </tr>\n",
       "    <tr>\n",
       "      <th>3723</th>\n",
       "      <td>67.227320</td>\n",
       "      <td>14.625202</td>\n",
       "      <td>2022-03-29 11:52:41.338000+00:00</td>\n",
       "      <td>3757.249</td>\n",
       "      <td>POINT (14.62520 67.22732)</td>\n",
       "    </tr>\n",
       "  </tbody>\n",
       "</table>\n",
       "<p>3724 rows × 5 columns</p>\n",
       "</div>"
      ],
      "text/plain": [
       "            Lat        Lng                             Time  TimeDiffSec  \\\n",
       "0     67.227312  14.625156 2022-03-29 10:50:04.089000+00:00        0.000   \n",
       "1     67.227312  14.625156 2022-03-29 10:50:04.089000+00:00        0.000   \n",
       "2     67.227312  14.625156 2022-03-29 10:50:05.098000+00:00        1.009   \n",
       "3     67.227312  14.625156 2022-03-29 10:50:06.094000+00:00        2.005   \n",
       "4     67.227312  14.625156 2022-03-29 10:50:07.098000+00:00        3.009   \n",
       "...         ...        ...                              ...          ...   \n",
       "3719  67.227312  14.625167 2022-03-29 11:52:02.075000+00:00     3717.986   \n",
       "3720  67.227327  14.625210 2022-03-29 11:52:39.451000+00:00     3755.362   \n",
       "3721  67.227328  14.625213 2022-03-29 11:52:40.338000+00:00     3756.249   \n",
       "3722  67.227320  14.625202 2022-03-29 11:52:41.338000+00:00     3757.249   \n",
       "3723  67.227320  14.625202 2022-03-29 11:52:41.338000+00:00     3757.249   \n",
       "\n",
       "                       geometry  \n",
       "0     POINT (14.62516 67.22731)  \n",
       "1     POINT (14.62516 67.22731)  \n",
       "2     POINT (14.62516 67.22731)  \n",
       "3     POINT (14.62516 67.22731)  \n",
       "4     POINT (14.62516 67.22731)  \n",
       "...                         ...  \n",
       "3719  POINT (14.62517 67.22731)  \n",
       "3720  POINT (14.62521 67.22733)  \n",
       "3721  POINT (14.62521 67.22733)  \n",
       "3722  POINT (14.62520 67.22732)  \n",
       "3723  POINT (14.62520 67.22732)  \n",
       "\n",
       "[3724 rows x 5 columns]"
      ]
     },
     "execution_count": 5,
     "metadata": {},
     "output_type": "execute_result"
    }
   ],
   "source": [
    "gdf"
   ]
  },
  {
   "cell_type": "code",
   "execution_count": 7,
   "id": "97a620b2",
   "metadata": {},
   "outputs": [],
   "source": [
    "# Get list of video files, insert into dataframe\n",
    "video_files = misc.file_pattern_search(video_dir, '*.[Mm][Pp]4')    # Use brackets to find both .mp4 and .MP4 files"
   ]
  },
  {
   "cell_type": "code",
   "execution_count": 21,
   "id": "ba313c22",
   "metadata": {},
   "outputs": [],
   "source": [
    "video_duration = np.zeros(len(video_files))\n",
    "video_frame_rate = np.zeros(len(video_files))\n",
    "\n",
    "for ii,file in enumerate(video_files):\n",
    "    probe_data = ffmpeg.probe(file)\n",
    "    # Note that there are multiple streams. Stream 0 is the video.\n",
    "#     video_data['StartTime'][ii] = pd.to_datetime(probe_data['streams'][0]['tags']['creation_time'])\n",
    "    video_duration[ii] = np.float64(probe_data['streams'][0]['duration'])\n",
    "    video_frame_rate[ii] = eval(probe_data['streams'][0]['avg_frame_rate'])\n",
    "    \n",
    "#     print('********')\n",
    "#     print(file)\n",
    "#     for key, value in probe_data['streams'][0].items():\n",
    "#        print(key + ': ' + str(value))"
   ]
  },
  {
   "cell_type": "code",
   "execution_count": 29,
   "id": "da6ab15e",
   "metadata": {},
   "outputs": [],
   "source": [
    "# Calculate start and end times\n",
    "video_start_time = np.zeros(len(video_duration))\n",
    "video_start_time[1:] = np.cumsum(video_duration[0:-1])\n",
    "video_end_time = video_start_time + video_duration\n"
   ]
  },
  {
   "cell_type": "code",
   "execution_count": 27,
   "id": "05630f8a",
   "metadata": {},
   "outputs": [
    {
     "data": {
      "text/plain": [
       "array([   0.   ,  532.532, 1065.064, 1597.596, 2130.128, 2662.66 ])"
      ]
     },
     "execution_count": 27,
     "metadata": {},
     "output_type": "execute_result"
    }
   ],
   "source": [
    "video_start_time"
   ]
  },
  {
   "cell_type": "code",
   "execution_count": 28,
   "id": "499e7a27",
   "metadata": {},
   "outputs": [
    {
     "data": {
      "text/plain": [
       "array([ 532.532   , 1065.064   , 1597.596   , 2130.128   , 2662.66    ,\n",
       "       2911.441867])"
      ]
     },
     "execution_count": 28,
     "metadata": {},
     "output_type": "execute_result"
    }
   ],
   "source": [
    "video_end_time"
   ]
  },
  {
   "cell_type": "code",
   "execution_count": 34,
   "id": "40d92950",
   "metadata": {},
   "outputs": [],
   "source": [
    "# Boolean indexing for finding right file\n",
    "for ii, file in enumerate(video_files):\n",
    "    ind = (gdf['TimeDiffSec'] >= video_start_time[ii]) & (gdf['TimeDiffSec'] < video_end_time[ii])\n",
    "    #gdf['VideoFile']"
   ]
  },
  {
   "cell_type": "code",
   "execution_count": 35,
   "id": "3a080674",
   "metadata": {},
   "outputs": [
    {
     "data": {
      "text/plain": [
       "0       False\n",
       "1       False\n",
       "2       False\n",
       "3       False\n",
       "4       False\n",
       "        ...  \n",
       "3719    False\n",
       "3720    False\n",
       "3721    False\n",
       "3722    False\n",
       "3723    False\n",
       "Name: TimeDiffSec, Length: 3724, dtype: bool"
      ]
     },
     "execution_count": 35,
     "metadata": {},
     "output_type": "execute_result"
    }
   ],
   "source": [
    "ind"
   ]
  },
  {
   "cell_type": "code",
   "execution_count": null,
   "id": "edfdcc82",
   "metadata": {},
   "outputs": [],
   "source": [
    "tmp = gdf['']"
   ]
  }
 ],
 "metadata": {
  "kernelspec": {
   "display_name": "Python 3 (ipykernel)",
   "language": "python",
   "name": "python3"
  },
  "language_info": {
   "codemirror_mode": {
    "name": "ipython",
    "version": 3
   },
   "file_extension": ".py",
   "mimetype": "text/x-python",
   "name": "python",
   "nbconvert_exporter": "python",
   "pygments_lexer": "ipython3",
   "version": "3.9.12"
  }
 },
 "nbformat": 4,
 "nbformat_minor": 5
}
