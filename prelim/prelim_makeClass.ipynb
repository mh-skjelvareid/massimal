{
 "cells": [
  {
   "cell_type": "code",
   "execution_count": 1,
   "id": "dda7f2b1-1df9-4dfe-bf8e-1d9370167714",
   "metadata": {},
   "outputs": [],
   "source": [
    "# Imports\n",
    "import numpy as np\n",
    "\n",
    "from sklearn.linear_model import LinearRegression"
   ]
  },
  {
   "cell_type": "code",
   "execution_count": 7,
   "id": "0b04e2ed-24f2-48a6-8ea1-386158d60566",
   "metadata": {},
   "outputs": [],
   "source": [
    "class TestClass:\n",
    "    \"\"\" A simple test class \"\"\"\n",
    "    def __init__(self,a,b=42):\n",
    "        self.a = a\n",
    "        self.b = b\n",
    "        \n",
    "    def multiplyWithA(self,inputNumber):\n",
    "        \"\"\" Example function docstring \"\"\"\n",
    "        return inputNumber * self.a"
   ]
  },
  {
   "cell_type": "code",
   "execution_count": 8,
   "id": "55f9f533-eb6f-450f-a4d5-1dbc2adba2e8",
   "metadata": {},
   "outputs": [],
   "source": [
    "MyClass = TestClass(3)"
   ]
  },
  {
   "cell_type": "code",
   "execution_count": 9,
   "id": "676301a1-0d29-44d8-815e-d0ed7e0bf530",
   "metadata": {},
   "outputs": [
    {
     "name": "stdout",
     "output_type": "stream",
     "text": [
      "3\n",
      "42\n"
     ]
    }
   ],
   "source": [
    "print(MyClass.a)\n",
    "print(MyClass.b)"
   ]
  },
  {
   "cell_type": "code",
   "execution_count": 10,
   "id": "70d81dcf-513f-4389-ba73-77946720c6de",
   "metadata": {},
   "outputs": [
    {
     "name": "stdout",
     "output_type": "stream",
     "text": [
      "12\n"
     ]
    }
   ],
   "source": [
    "outputNumber = MyClass.multiplyWithA(4)\n",
    "print(outputNumber)"
   ]
  }
 ],
 "metadata": {
  "kernelspec": {
   "display_name": "Python 3",
   "language": "python",
   "name": "python3"
  },
  "language_info": {
   "codemirror_mode": {
    "name": "ipython",
    "version": 3
   },
   "file_extension": ".py",
   "mimetype": "text/x-python",
   "name": "python",
   "nbconvert_exporter": "python",
   "pygments_lexer": "ipython3",
   "version": "3.9.4"
  }
 },
 "nbformat": 4,
 "nbformat_minor": 5
}
