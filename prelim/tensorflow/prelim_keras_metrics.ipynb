{
 "cells": [
  {
   "cell_type": "code",
   "execution_count": 1,
   "id": "fdc70dab-bf30-4d8d-a7ee-ba807fe72190",
   "metadata": {},
   "outputs": [],
   "source": [
    "# Disable TensorFlow debugging info and warnings\n",
    "import os\n",
    "os.environ['TF_CPP_MIN_LOG_LEVEL'] = '2'  # 2: Info and warnings not displayed "
   ]
  },
  {
   "cell_type": "code",
   "execution_count": 2,
   "id": "84ad1509-0b46-4896-839a-9cf120986336",
   "metadata": {},
   "outputs": [],
   "source": [
    "import numpy as np\n",
    "import matplotlib.pyplot as plt\n",
    "import tensorflow as tf\n",
    "import sklearn.ensemble\n",
    "import pathlib\n",
    "\n",
    "# Local imports\n",
    "import annotation, hyspec_cnn"
   ]
  },
  {
   "cell_type": "code",
   "execution_count": 3,
   "id": "0a538d17-ad6d-45b6-bb45-ba623fef57fb",
   "metadata": {},
   "outputs": [],
   "source": [
    "# Disable GPUs (in case of Tensorflow trying to use GPUs and raising errors)\n",
    "tf.config.set_visible_devices([], 'GPU')"
   ]
  },
  {
   "cell_type": "code",
   "execution_count": 4,
   "id": "7898939b-34c9-4a78-909d-07399be96fd3",
   "metadata": {},
   "outputs": [],
   "source": [
    "# Parameters\n",
    "VAL_FRAC = 0.3\n",
    "BATCH_SIZE = 4"
   ]
  },
  {
   "cell_type": "code",
   "execution_count": 5,
   "id": "b8ce85a7-41b5-49cd-b7f4-05fe2ea3997b",
   "metadata": {},
   "outputs": [],
   "source": [
    "# Paths \n",
    "base_dir = pathlib.Path('/media/mha114/Massimal/Larvik_Olberg/Hyperspectral/20210825/OlbergAreaS')\n",
    "tiles_dataset_path = base_dir / '5c_Rad_Georef_SGC_PCA_Tiles/20210825_Olberg_PCA_TrainValDataset'\n",
    "class_dict_path =  base_dir / '4c_Rad_Georef_SGC_Tiles/tile_classes_merged_NGT.json'\n",
    "unet_model_save_dir = base_dir /  'X_SavedKerasModels'\n",
    "tensorboard_log_dir = base_dir / 'X_TensorboardLogs'\n",
    "\n",
    "# tiles_dataset_path = r'/media/mha114/Massimal/Larvik_Olberg/Hyperspectral/20210825/OlbergAreaS/5c_Rad_Georef_SGC_PCA_Tiles/20210825_Olberg_PCA_TrainValDataset'\n",
    "# class_dict_path = r'/media/mha114/Massimal/Larvik_Olberg/Hyperspectral/20210825/OlbergAreaS/4c_Rad_Georef_SGC_Tiles/tile_classes_merged_NGT.json'\n",
    "# unet_model_save_dir = r'/media/mha114/Massimal/Larvik_Olberg/Hyperspectral/20210825/OlbergAreaS/X_SavedKerasModels'\n",
    "# tensorboard_log_dir = r'/media/mha114/Massimal/Larvik_Olberg/Hyperspectral/20210825/OlbergAreaS/X_TensorboardLogs'"
   ]
  },
  {
   "cell_type": "code",
   "execution_count": 6,
   "id": "babd972f-2249-4e24-86a6-6ee28d160412",
   "metadata": {},
   "outputs": [
    {
     "data": {
      "text/plain": [
       "PosixPath('/media/mha114/Massimal/Larvik_Olberg/Hyperspectral/20210825/OlbergAreaS/5c_Rad_Georef_SGC_PCA_Tiles/20210825_Olberg_PCA_TrainValDataset')"
      ]
     },
     "execution_count": 6,
     "metadata": {},
     "output_type": "execute_result"
    }
   ],
   "source": [
    "tiles_dataset_path"
   ]
  },
  {
   "cell_type": "code",
   "execution_count": 7,
   "id": "5ef364be-2bc2-47a2-bb3e-4d16879863ec",
   "metadata": {},
   "outputs": [
    {
     "name": "stdout",
     "output_type": "stream",
     "text": [
      "Background: 0\n",
      "Sand: 1\n",
      "Zostera marina: 2\n",
      "Zostera marina with turf algae: 3\n",
      "Rockweed: 4\n",
      "Other algae: 5\n"
     ]
    }
   ],
   "source": [
    "# Load class label dictionary\n",
    "class_dict = {'Background':0}\n",
    "class_dict.update(annotation.read_class_dict(class_dict_path))\n",
    "for key,value in class_dict.items():\n",
    "    print(f'{key}: {value}')"
   ]
  },
  {
   "cell_type": "code",
   "execution_count": 8,
   "id": "1d51a1de-a658-4712-9f56-c14b029c9fb4",
   "metadata": {},
   "outputs": [
    {
     "data": {
      "text/plain": [
       "PosixPath('/media/mha114/Massimal/Larvik_Olberg/Hyperspectral/20210825/OlbergAreaS/5c_Rad_Georef_SGC_PCA_Tiles/20210825_Olberg_PCA_TrainValDataset')"
      ]
     },
     "execution_count": 8,
     "metadata": {},
     "output_type": "execute_result"
    }
   ],
   "source": [
    "tiles_dataset_path"
   ]
  },
  {
   "cell_type": "code",
   "execution_count": 9,
   "id": "1a2ca123-3257-48f9-8ef1-e5340b886b42",
   "metadata": {},
   "outputs": [],
   "source": [
    "# Load dataset (or, rather, pointer to dataset)\n",
    "dataset = tf.data.experimental.load(str(tiles_dataset_path))"
   ]
  },
  {
   "cell_type": "code",
   "execution_count": 10,
   "id": "c8c0cd2c-a188-47c0-8bed-8936fd576a43",
   "metadata": {},
   "outputs": [
    {
     "name": "stdout",
     "output_type": "stream",
     "text": [
      "Dataset specification: <_LoadDataset element_spec=(TensorSpec(shape=(128, 128, 8), dtype=tf.float32, name=None), TensorSpec(shape=(128, 128), dtype=tf.int32, name=None))>\n",
      "Number of tiles: 459\n"
     ]
    }
   ],
   "source": [
    "# Show dataset details\n",
    "n_tiles = int(dataset.cardinality())\n",
    "print(f'Dataset specification: {dataset}')\n",
    "print(f'Number of tiles: {n_tiles}')"
   ]
  },
  {
   "cell_type": "code",
   "execution_count": 11,
   "id": "2be333eb-374b-4f0f-860e-ee4ea4a3bf6b",
   "metadata": {},
   "outputs": [
    {
     "name": "stdout",
     "output_type": "stream",
     "text": [
      "tile_nrows=128, tile_ncols=128, tile_nchannels=8\n"
     ]
    }
   ],
   "source": [
    "# Get dataset shape\n",
    "tile_nrows,tile_ncols,tile_nchannels = dataset.element_spec[0].shape.as_list()\n",
    "print(f'{tile_nrows=}, {tile_ncols=}, {tile_nchannels=}')"
   ]
  },
  {
   "cell_type": "code",
   "execution_count": 12,
   "id": "57f248f2-94ba-4d33-a567-d3800b79d9ca",
   "metadata": {},
   "outputs": [],
   "source": [
    "# From https://www.tensorflow.org/tutorials/images/segmentation#optional_imbalanced_classes_and_class_weights\n",
    "def add_sample_weights(image, label):\n",
    "    # The weights for each class, with the constraint that:\n",
    "    #     sum(class_weights) == 1.0\n",
    "    class_weights = tf.constant([0.0, 1.0, 1.0, 1.0, 1.0, 1.0]) # Hard-coded for current dataset, zero weight for background\n",
    "    class_weights = class_weights/tf.reduce_sum(class_weights)\n",
    "\n",
    "    # Create an image of `sample_weights` by using the label at each pixel as an \n",
    "    # index into the `class weights` .\n",
    "    sample_weights = tf.gather(class_weights, indices=tf.cast(label, tf.int32))\n",
    "\n",
    "    return image, label, sample_weights"
   ]
  },
  {
   "cell_type": "code",
   "execution_count": 13,
   "id": "a8bf32bc-1e4f-4f99-b251-892e470c8a2c",
   "metadata": {},
   "outputs": [],
   "source": [
    "# Shuffle dataset (tiles are originally ordered by image) and add sample weights\n",
    "dataset = dataset.shuffle(buffer_size=n_tiles)\n",
    "dataset = dataset.map(add_sample_weights)"
   ]
  },
  {
   "cell_type": "code",
   "execution_count": 14,
   "id": "54a77880-49c6-41dc-a092-44ab420d3f11",
   "metadata": {},
   "outputs": [
    {
     "name": "stdout",
     "output_type": "stream",
     "text": [
      "Number of batches in training dataset: 81\n",
      "Number of batches in validation dataset: 35\n"
     ]
    }
   ],
   "source": [
    "# Split dataset into training and validation\n",
    "# Note: Doing K-fold validation on Tensorflow datasets is not straightforward,\n",
    "# but can probably be done using generators. We'll do a simple split for now.\n",
    "n_val_tiles = int(VAL_FRAC*n_tiles)\n",
    "validation_dataset = dataset.take(n_val_tiles).batch(BATCH_SIZE)\n",
    "training_dataset = dataset.skip(n_val_tiles).batch(BATCH_SIZE)\n",
    "print(f'Number of batches in training dataset: {training_dataset.cardinality()}')\n",
    "print(f'Number of batches in validation dataset: {validation_dataset.cardinality()}')"
   ]
  },
  {
   "cell_type": "code",
   "execution_count": 21,
   "id": "f2e69869-c303-4a62-a5bf-918fbd888dd5",
   "metadata": {},
   "outputs": [
    {
     "name": "stdout",
     "output_type": "stream",
     "text": [
      "Model: \"model_1\"\n",
      "__________________________________________________________________________________________________\n",
      " Layer (type)                   Output Shape         Param #     Connected to                     \n",
      "==================================================================================================\n",
      " input_image (InputLayer)       [(None, None, None,  0           []                               \n",
      "                                 8)]                                                              \n",
      "                                                                                                  \n",
      " augmentation (Sequential)      (None, None, None,   0           ['input_image[0][0]']            \n",
      "                                8)                                                                \n",
      "                                                                                                  \n",
      " initial_convolution (Conv2D)   (None, None, None,   2336        ['augmentation[0][0]']           \n",
      "                                32)                                                               \n",
      "                                                                                                  \n",
      " downsamp_res_1/2 (Sequential)  (None, None, None,   33024       ['initial_convolution[0][0]']    \n",
      "                                64)                                                               \n",
      "                                                                                                  \n",
      " downsamp_res_1/4 (Sequential)  (None, None, None,   131584      ['downsamp_res_1/2[0][0]']       \n",
      "                                128)                                                              \n",
      "                                                                                                  \n",
      " upsamp_res_1/2 (Sequential)    (None, None, None,   131328      ['downsamp_res_1/4[0][0]']       \n",
      "                                64)                                                               \n",
      "                                                                                                  \n",
      " skipconnection_res_1/2 (Concat  (None, None, None,   0          ['upsamp_res_1/2[0][0]',         \n",
      " enate)                         128)                              'downsamp_res_1/2[0][0]']       \n",
      "                                                                                                  \n",
      " upsamp_res_1/1 (Sequential)    (None, None, None,   131328      ['skipconnection_res_1/2[0][0]'] \n",
      "                                64)                                                               \n",
      "                                                                                                  \n",
      " skipconnection_res_1/1 (Concat  (None, None, None,   0          ['upsamp_res_1/1[0][0]',         \n",
      " enate)                         96)                               'initial_convolution[0][0]']    \n",
      "                                                                                                  \n",
      " classification (Conv2D)        (None, None, None,   5190        ['skipconnection_res_1/1[0][0]'] \n",
      "                                6)                                                                \n",
      "                                                                                                  \n",
      "==================================================================================================\n",
      "Total params: 434,790\n",
      "Trainable params: 434,150\n",
      "Non-trainable params: 640\n",
      "__________________________________________________________________________________________________\n"
     ]
    }
   ],
   "source": [
    "# Create the U-Net model\n",
    "unet = hyspec_cnn.unet(input_channels=tile_nchannels,\n",
    "                       output_channels=len(class_dict),\n",
    "                       first_layer_channels=32,\n",
    "                       depth = 2)\n",
    "unet.summary()"
   ]
  },
  {
   "cell_type": "code",
   "execution_count": 22,
   "id": "d0ffff1c-957d-4d67-820d-5a2f0342b133",
   "metadata": {},
   "outputs": [],
   "source": [
    "# Define callbacks\n",
    "callbacks =[tf.keras.callbacks.ModelCheckpoint(filepath = str(unet_model_save_dir) + '/my_best_model.epoch{epoch:02d}-loss{val_loss:.2f}.hdf5',\n",
    "                                   verbose = 1),\n",
    "            tf.keras.callbacks.ReduceLROnPlateau(factor=0.2, verbose=1),\n",
    "            tf.keras.callbacks.TensorBoard(log_dir= tensorboard_log_dir)]"
   ]
  },
  {
   "cell_type": "code",
   "execution_count": 19,
   "id": "06a37a70-8359-46d5-ba41-b6c5bdeea50d",
   "metadata": {},
   "outputs": [
    {
     "data": {
      "text/plain": [
       "0.5"
      ]
     },
     "execution_count": 19,
     "metadata": {},
     "output_type": "execute_result"
    }
   ],
   "source": [
    "m = tf.keras.metrics.SparseCategoricalAccuracy()\n",
    "m.update_state([[2], [1]], [[0.1, 0.6, 0.3], [0.05, 0.95, 0]])\n",
    "m.result().numpy()"
   ]
  },
  {
   "cell_type": "code",
   "execution_count": 20,
   "id": "c39ae340-d352-4379-b6fa-ee05b280a728",
   "metadata": {},
   "outputs": [
    {
     "data": {
      "text/plain": [
       "<keras.metrics.metrics.SparseCategoricalAccuracy at 0x7fc5cc4d5fa0>"
      ]
     },
     "execution_count": 20,
     "metadata": {},
     "output_type": "execute_result"
    }
   ],
   "source": [
    "m.update_state()"
   ]
  },
  {
   "cell_type": "code",
   "execution_count": 25,
   "id": "ab753af5-2154-4201-a856-baff21342704",
   "metadata": {},
   "outputs": [],
   "source": [
    "# unet.compile(optimizer=tf.keras.optimizers.RMSprop(0.0001), \n",
    "#              loss=\"sparse_categorical_crossentropy\",\n",
    "#              weighted_metrics=[],\n",
    "#              metrics = []) # tf.keras.metrics.CategoricalAccuracy()\n",
    "\n",
    "unet.compile(optimizer=tf.keras.optimizers.RMSprop(0.0001), \n",
    "             loss=\"sparse_categorical_crossentropy\",\n",
    "             weighted_metrics=[],\n",
    "             metrics = ['sparse_categorical_accuracy'])"
   ]
  },
  {
   "cell_type": "code",
   "execution_count": 26,
   "id": "ef9ae940-c28e-46a7-ba57-0bdc910e5609",
   "metadata": {},
   "outputs": [
    {
     "name": "stdout",
     "output_type": "stream",
     "text": [
      "Epoch 1/2\n",
      "81/81 [==============================] - ETA: 0s - loss: 0.1066 - sparse_categorical_accuracy: 0.1923\n",
      "Epoch 1: saving model to /media/mha114/Massimal/Larvik_Olberg/Hyperspectral/20210825/OlbergAreaS/X_SavedKerasModels/my_best_model.epoch01-loss0.08.hdf5\n",
      "81/81 [==============================] - 30s 336ms/step - loss: 0.1066 - sparse_categorical_accuracy: 0.1923 - val_loss: 0.0776 - val_sparse_categorical_accuracy: 0.2430 - lr: 1.0000e-04\n",
      "Epoch 2/2\n",
      "81/81 [==============================] - ETA: 0s - loss: 0.0810 - sparse_categorical_accuracy: 0.2298\n",
      "Epoch 2: saving model to /media/mha114/Massimal/Larvik_Olberg/Hyperspectral/20210825/OlbergAreaS/X_SavedKerasModels/my_best_model.epoch02-loss0.05.hdf5\n",
      "81/81 [==============================] - 27s 327ms/step - loss: 0.0810 - sparse_categorical_accuracy: 0.2298 - val_loss: 0.0548 - val_sparse_categorical_accuracy: 0.3093 - lr: 1.0000e-04\n"
     ]
    }
   ],
   "source": [
    "# Fit model to dataset\n",
    "history = unet.fit(training_dataset,\n",
    "                   epochs=2,\n",
    "                   validation_data=validation_dataset,\n",
    "                   callbacks=callbacks)"
   ]
  },
  {
   "cell_type": "code",
   "execution_count": 30,
   "id": "0ca4a83e-cf35-4b86-be4a-87c60646793b",
   "metadata": {},
   "outputs": [
    {
     "data": {
      "image/png": "[encoded data removed]",
      "text/plain": [
       "<Figure size 640x480 with 1 Axes>"
      ]
     },
     "metadata": {},
     "output_type": "display_data"
    }
   ],
   "source": [
    "epochs = range(1, history.params['epochs'] + 1)\n",
    "loss = history.history[\"loss\"]\n",
    "val_loss = history.history[\"val_loss\"]\n",
    "plt.figure()\n",
    "plt.plot(epochs, loss, \"bo\", label=\"Training loss\")\n",
    "plt.plot(epochs, val_loss, \"b\", label=\"Validation loss\")\n",
    "plt.title(\"Training and validation loss\")\n",
    "plt.legend()\n",
    "plt.show()"
   ]
  },
  {
   "cell_type": "code",
   "execution_count": 31,
   "id": "01b66655-7519-4393-b673-1ce1821378a9",
   "metadata": {},
   "outputs": [
    {
     "data": {
      "image/png": "[encoded data removed]",
      "text/plain": [
       "<Figure size 640x480 with 1 Axes>"
      ]
     },
     "metadata": {},
     "output_type": "display_data"
    }
   ],
   "source": [
    "epochs = range(1, history.params['epochs'] + 1)\n",
    "train_acc = history.history['sparse_categorical_accuracy']\n",
    "val_acc = history.history['val_sparse_categorical_accuracy']\n",
    "\n",
    "plt.figure()\n",
    "plt.plot(epochs, train_acc, \"bo\", label=\"Training accuracy\")\n",
    "plt.plot(epochs, val_acc, \"b\", label=\"Validation accuracy\")\n",
    "plt.title(\"Training and validation accuracy\")\n",
    "plt.legend()\n",
    "plt.show()"
   ]
  }
 ],
 "metadata": {
  "kernelspec": {
   "display_name": "Python 3 (ipykernel)",
   "language": "python",
   "name": "python3"
  },
  "language_info": {
   "codemirror_mode": {
    "name": "ipython",
    "version": 3
   },
   "file_extension": ".py",
   "mimetype": "text/x-python",
   "name": "python",
   "nbconvert_exporter": "python",
   "pygments_lexer": "ipython3",
   "version": "3.9.13"
  }
 },
 "nbformat": 4,
 "nbformat_minor": 5
}
