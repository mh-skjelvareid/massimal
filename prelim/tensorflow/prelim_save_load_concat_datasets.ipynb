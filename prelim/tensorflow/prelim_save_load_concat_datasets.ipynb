{
 "cells": [
  {
   "cell_type": "code",
   "execution_count": 2,
   "id": "975d7a06-2df1-4b3b-a8e8-5ef248b621bc",
   "metadata": {},
   "outputs": [],
   "source": [
    "import tensorflow as tf\n",
    "import numpy as np"
   ]
  },
  {
   "cell_type": "code",
   "execution_count": 10,
   "id": "df94a959-60f1-4337-a480-e7317c9e8e79",
   "metadata": {},
   "outputs": [],
   "source": [
    "# Parameters\n",
    "height = 5\n",
    "width = 7\n",
    "n_tiles = 3"
   ]
  },
  {
   "cell_type": "code",
   "execution_count": 13,
   "id": "ba2e711a-e4dd-471f-a32a-ac77be46361e",
   "metadata": {},
   "outputs": [],
   "source": [
    "mat1 = 1*np.ones((n_tiles,width,height))\n",
    "mat2 = 2*np.ones((n_tiles,width,height))"
   ]
  },
  {
   "cell_type": "code",
   "execution_count": 14,
   "id": "af09b052-15f9-4692-aab4-367c6a462f23",
   "metadata": {},
   "outputs": [
    {
     "data": {
      "text/plain": [
       "array([[[1., 1., 1., 1., 1.],\n",
       "        [1., 1., 1., 1., 1.],\n",
       "        [1., 1., 1., 1., 1.],\n",
       "        [1., 1., 1., 1., 1.],\n",
       "        [1., 1., 1., 1., 1.],\n",
       "        [1., 1., 1., 1., 1.],\n",
       "        [1., 1., 1., 1., 1.]],\n",
       "\n",
       "       [[1., 1., 1., 1., 1.],\n",
       "        [1., 1., 1., 1., 1.],\n",
       "        [1., 1., 1., 1., 1.],\n",
       "        [1., 1., 1., 1., 1.],\n",
       "        [1., 1., 1., 1., 1.],\n",
       "        [1., 1., 1., 1., 1.],\n",
       "        [1., 1., 1., 1., 1.]],\n",
       "\n",
       "       [[1., 1., 1., 1., 1.],\n",
       "        [1., 1., 1., 1., 1.],\n",
       "        [1., 1., 1., 1., 1.],\n",
       "        [1., 1., 1., 1., 1.],\n",
       "        [1., 1., 1., 1., 1.],\n",
       "        [1., 1., 1., 1., 1.],\n",
       "        [1., 1., 1., 1., 1.]]])"
      ]
     },
     "execution_count": 14,
     "metadata": {},
     "output_type": "execute_result"
    }
   ],
   "source": [
    "mat1"
   ]
  },
  {
   "cell_type": "code",
   "execution_count": 15,
   "id": "5d12f350-98ac-4e3e-a76b-74e338326100",
   "metadata": {},
   "outputs": [
    {
     "data": {
      "text/plain": [
       "array([[[2., 2., 2., 2., 2.],\n",
       "        [2., 2., 2., 2., 2.],\n",
       "        [2., 2., 2., 2., 2.],\n",
       "        [2., 2., 2., 2., 2.],\n",
       "        [2., 2., 2., 2., 2.],\n",
       "        [2., 2., 2., 2., 2.],\n",
       "        [2., 2., 2., 2., 2.]],\n",
       "\n",
       "       [[2., 2., 2., 2., 2.],\n",
       "        [2., 2., 2., 2., 2.],\n",
       "        [2., 2., 2., 2., 2.],\n",
       "        [2., 2., 2., 2., 2.],\n",
       "        [2., 2., 2., 2., 2.],\n",
       "        [2., 2., 2., 2., 2.],\n",
       "        [2., 2., 2., 2., 2.]],\n",
       "\n",
       "       [[2., 2., 2., 2., 2.],\n",
       "        [2., 2., 2., 2., 2.],\n",
       "        [2., 2., 2., 2., 2.],\n",
       "        [2., 2., 2., 2., 2.],\n",
       "        [2., 2., 2., 2., 2.],\n",
       "        [2., 2., 2., 2., 2.],\n",
       "        [2., 2., 2., 2., 2.]]])"
      ]
     },
     "execution_count": 15,
     "metadata": {},
     "output_type": "execute_result"
    }
   ],
   "source": [
    "mat2"
   ]
  },
  {
   "cell_type": "code",
   "execution_count": 17,
   "id": "821d2461-8d8a-4e21-9d89-f1c66d43998a",
   "metadata": {},
   "outputs": [],
   "source": [
    "ds1 = tf.data.Dataset.from_tensor_slices(mat1)\n",
    "ds2 = tf.data.Dataset.from_tensor_slices(mat2)"
   ]
  },
  {
   "cell_type": "code",
   "execution_count": 19,
   "id": "2126531f-8cc1-432e-8a1b-44e6f68e2cbf",
   "metadata": {},
   "outputs": [],
   "source": [
    "tf.data.experimental.save(ds1,'ds1')"
   ]
  },
  {
   "cell_type": "code",
   "execution_count": 20,
   "id": "941c74ee-7cb2-49f1-9106-7e3ec48c5a1f",
   "metadata": {},
   "outputs": [],
   "source": [
    "tf.data.experimental.save(ds2,'ds2')"
   ]
  },
  {
   "cell_type": "code",
   "execution_count": 21,
   "id": "0c6c5a62-d8e3-4bd7-ab53-f6a99878c602",
   "metadata": {},
   "outputs": [],
   "source": [
    "ds1_l = tf.data.experimental.load('ds1')\n",
    "ds2_l = tf.data.experimental.load('ds2')"
   ]
  },
  {
   "cell_type": "code",
   "execution_count": 24,
   "id": "e8edffae-b175-4d9f-82d1-ba4a86018043",
   "metadata": {},
   "outputs": [
    {
     "data": {
      "text/plain": [
       "<_LoadDataset element_spec=TensorSpec(shape=(7, 5), dtype=tf.float64, name=None)>"
      ]
     },
     "execution_count": 24,
     "metadata": {},
     "output_type": "execute_result"
    }
   ],
   "source": [
    "ds1_l"
   ]
  },
  {
   "cell_type": "code",
   "execution_count": 37,
   "id": "c5de06c0-09ab-43b0-a5b5-3867b79dbef8",
   "metadata": {},
   "outputs": [],
   "source": [
    "ds_c = ds1_l.concatenate(ds2_l).shuffle(6)"
   ]
  },
  {
   "cell_type": "code",
   "execution_count": 38,
   "id": "02221820-3a1a-4543-8813-e406006a3f25",
   "metadata": {},
   "outputs": [
    {
     "name": "stdout",
     "output_type": "stream",
     "text": [
      "tf.Tensor(\n",
      "[[2. 2. 2. 2. 2.]\n",
      " [2. 2. 2. 2. 2.]\n",
      " [2. 2. 2. 2. 2.]\n",
      " [2. 2. 2. 2. 2.]\n",
      " [2. 2. 2. 2. 2.]\n",
      " [2. 2. 2. 2. 2.]\n",
      " [2. 2. 2. 2. 2.]], shape=(7, 5), dtype=float64)\n",
      "tf.Tensor(\n",
      "[[1. 1. 1. 1. 1.]\n",
      " [1. 1. 1. 1. 1.]\n",
      " [1. 1. 1. 1. 1.]\n",
      " [1. 1. 1. 1. 1.]\n",
      " [1. 1. 1. 1. 1.]\n",
      " [1. 1. 1. 1. 1.]\n",
      " [1. 1. 1. 1. 1.]], shape=(7, 5), dtype=float64)\n",
      "tf.Tensor(\n",
      "[[2. 2. 2. 2. 2.]\n",
      " [2. 2. 2. 2. 2.]\n",
      " [2. 2. 2. 2. 2.]\n",
      " [2. 2. 2. 2. 2.]\n",
      " [2. 2. 2. 2. 2.]\n",
      " [2. 2. 2. 2. 2.]\n",
      " [2. 2. 2. 2. 2.]], shape=(7, 5), dtype=float64)\n",
      "tf.Tensor(\n",
      "[[1. 1. 1. 1. 1.]\n",
      " [1. 1. 1. 1. 1.]\n",
      " [1. 1. 1. 1. 1.]\n",
      " [1. 1. 1. 1. 1.]\n",
      " [1. 1. 1. 1. 1.]\n",
      " [1. 1. 1. 1. 1.]\n",
      " [1. 1. 1. 1. 1.]], shape=(7, 5), dtype=float64)\n",
      "tf.Tensor(\n",
      "[[1. 1. 1. 1. 1.]\n",
      " [1. 1. 1. 1. 1.]\n",
      " [1. 1. 1. 1. 1.]\n",
      " [1. 1. 1. 1. 1.]\n",
      " [1. 1. 1. 1. 1.]\n",
      " [1. 1. 1. 1. 1.]\n",
      " [1. 1. 1. 1. 1.]], shape=(7, 5), dtype=float64)\n",
      "tf.Tensor(\n",
      "[[2. 2. 2. 2. 2.]\n",
      " [2. 2. 2. 2. 2.]\n",
      " [2. 2. 2. 2. 2.]\n",
      " [2. 2. 2. 2. 2.]\n",
      " [2. 2. 2. 2. 2.]\n",
      " [2. 2. 2. 2. 2.]\n",
      " [2. 2. 2. 2. 2.]], shape=(7, 5), dtype=float64)\n"
     ]
    }
   ],
   "source": [
    "for element in ds_c:\n",
    "    print(element)"
   ]
  },
  {
   "cell_type": "code",
   "execution_count": 40,
   "id": "3455c515-238f-4435-b022-eb83abbf0a92",
   "metadata": {},
   "outputs": [
    {
     "data": {
      "text/plain": [
       "3"
      ]
     },
     "execution_count": 40,
     "metadata": {},
     "output_type": "execute_result"
    }
   ],
   "source": [
    "# Use cardinality() to determine the number of elements \n",
    "ds1_l.cardinality().numpy()"
   ]
  },
  {
   "cell_type": "code",
   "execution_count": null,
   "id": "6f4cf1c5-dbc5-400b-b9fd-60e342da739e",
   "metadata": {},
   "outputs": [],
   "source": []
  }
 ],
 "metadata": {
  "kernelspec": {
   "display_name": "Python 3 (ipykernel)",
   "language": "python",
   "name": "python3"
  },
  "language_info": {
   "codemirror_mode": {
    "name": "ipython",
    "version": 3
   },
   "file_extension": ".py",
   "mimetype": "text/x-python",
   "name": "python",
   "nbconvert_exporter": "python",
   "pygments_lexer": "ipython3",
   "version": "3.10.8"
  }
 },
 "nbformat": 4,
 "nbformat_minor": 5
}
